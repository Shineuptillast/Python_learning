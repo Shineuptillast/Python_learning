{
 "cells": [
  {
   "cell_type": "code",
   "execution_count": 1,
   "id": "1e4e02fb",
   "metadata": {},
   "outputs": [],
   "source": [
    "# Program to search the files in the user desktop and merge all those files which the user tells to."
   ]
  },
  {
   "cell_type": "code",
   "execution_count": 472,
   "id": "2cb62853",
   "metadata": {},
   "outputs": [],
   "source": [
    "from tkinter import*\n",
    "import tkinter.font as tkFont\n",
    "from tkinter import ttk\n",
    "from tkinter import filedialog\n",
    "import os\n",
    "import shutil\n",
    "from tkinter import messagebox"
   ]
  },
  {
   "cell_type": "code",
   "execution_count": 473,
   "id": "0cf6ce04",
   "metadata": {},
   "outputs": [],
   "source": [
    "lf_separator=[]\n",
    "def name_extractor(text):\n",
    "    index_= text.index(\".\")\n",
    "    s=text[0:index_]\n",
    "    return s\n",
    "\n",
    "def directories():\n",
    "    l=[i for i in \"ABCDEFGHIJKLMNOPQRSTUVWXYZ\" if os.path.exists(\"{}:\".format(i))]\n",
    "    return l\n",
    "def click():\n",
    "    po=o.get()\n",
    "    for i,k in lf_names.items():\n",
    "        if po in k:\n",
    "            f_op=open(\"{}\".format(i),\"rb\")\n",
    "            fopen.write(f_op.read())\n",
    "    f_op.close()\n",
    "    fopen.close()\n",
    "            "
   ]
  },
  {
   "cell_type": "code",
   "execution_count": 474,
   "id": "89b51ff6",
   "metadata": {},
   "outputs": [],
   "source": [
    "path=\"C:\\\\Users\\\\Naman Jain\"\n",
    "fopen =open('Newfile',\"wb\")\n",
    "def open_files():\n",
    "    for k,v in lf_names.items():\n",
    "        f_op=open(\"{}\".format(k),\"rb\")\n",
    "        fopen.write(f_op.read())\n",
    "    f_op.close()\n",
    "    fopen.close()"
   ]
  },
  {
   "cell_type": "code",
   "execution_count": 475,
   "id": "86d611f1",
   "metadata": {},
   "outputs": [],
   "source": [
    "# Function invoked after the submit button\n",
    "lf_names={}\n",
    "def clickme():\n",
    "    text1=p.get()\n",
    "    for i in directories():\n",
    "        print(i)\n",
    "        for roots,dirs,files in os.walk(\"{}:\".format(i)):\n",
    "            for file in files:\n",
    "                if text1 in file and \".\" in file:\n",
    "                    f_name=name_extractor(file)\n",
    "                    if f_name==text1:\n",
    "                         lf_names[roots + \"/\" +file] = file \n",
    "    for keys,values in lf_names.items():\n",
    "        a.label(text=keys,px=20,py=3,fill=X,anchor=\"w\",size_=8,weight_=\"bold\")\n",
    "    a.seperator_()\n",
    "    lp=a.label(text=\"Merge files\",px=20,py=10,fill=X,anchor=\"w\",size_=25,weight_=\"bold\",bg_=\"brown\",fg_=\"white\")\n",
    "    global o\n",
    "    o=a.entry(bx=4,size=12,px=10,py=10,fill_=X)\n",
    "    a.button(text_=\"Submit\",func_=click,px=10,py=10,bx=4)\n",
    "    "
   ]
  },
  {
   "cell_type": "code",
   "execution_count": 476,
   "id": "21de007a",
   "metadata": {},
   "outputs": [
    {
     "data": {
      "text/plain": [
       "'def bind_(p):\\n    p.bind(\"<FocusIn>\",temp_text)\\n#def temp_text(e):\\n    p.delete(0,\"end\") '"
      ]
     },
     "execution_count": 476,
     "metadata": {},
     "output_type": "execute_result"
    }
   ],
   "source": [
    "# Temporary text in the Entry input\n",
    "\"\"\"def bind_(p):\n",
    "    p.bind(\"<FocusIn>\",temp_text)\n",
    "#def temp_text(e):\n",
    "    p.delete(0,\"end\") \"\"\""
   ]
  },
  {
   "cell_type": "code",
   "execution_count": 477,
   "id": "6cf97603",
   "metadata": {},
   "outputs": [],
   "source": [
    "class Tk_Proj:\n",
    "    orient=\"horizontal\"\n",
    "    def __init__(self, geometry_,title_):\n",
    "        self.root=Tk()\n",
    "        self.root.title(title_)\n",
    "        self.root.geometry(geometry_)   \n",
    "    def font_(self,size_=None,weight_='normal'):\n",
    "        return tkFont.Font(size=size_,weight=weight_)\n",
    "    \n",
    "    def headline(self,text):\n",
    "        self.label(text=text,px=10,py=10,size_=25,fill=BOTH,bg_=\"brown\",fg_=\"white\",weight_=\"bold\")\n",
    "        \n",
    "    def label(self,text,bg_=\"white\",fg_=\"black\",px=0,py=0,fill=None,anchor=\"c\",size_=2,weight_=\"normal\"):\n",
    "        Label(self.root,text=text,bg=bg_,fg=fg_,font= self.font_(size_=size_,weight_=weight_)).pack(fill=fill,padx=px,pady=py)\n",
    "    \n",
    "    def seperator_(self):\n",
    "        ttk.Separator(self.root,orient=\"horizontal\").pack(fill=X)\n",
    "        \n",
    "    def entry(self,bx=2,size=10,px=0,py=0,fill_=None,text=None):\n",
    "        e=Entry(self.root,borderwidth=bx,font=self.font_(size_=size))\n",
    "        e.pack(fill=fill_,padx=px,pady=py)\n",
    "        return e\n",
    "    def insert_(self,e,text):\n",
    "        e.insert(0,text)\n",
    "    def button(self,text_,func_,width_=10,px=0,py=0,bx=2):\n",
    "        Button(self.root,text=text_,width=width_,borderwidth=bx,command=func_).pack(padx=px,pady=py)\n",
    "    def mainloop_(self):\n",
    "        self.root.mainloop() \n",
    "   "
   ]
  },
  {
   "cell_type": "code",
   "execution_count": 478,
   "id": "687e975f",
   "metadata": {},
   "outputs": [],
   "source": [
    "a=Tk_Proj(\"500x800\",\"File_Searching\") # Created an object for Graphical interface "
   ]
  },
  {
   "cell_type": "code",
   "execution_count": 479,
   "id": "b4a09a37",
   "metadata": {},
   "outputs": [
    {
     "name": "stdout",
     "output_type": "stream",
     "text": [
      "C\n",
      "D\n"
     ]
    }
   ],
   "source": [
    "global p\n",
    "global o\n",
    "# creating a headline of the project\n",
    "a.headline(\"File Searching\")\n",
    "\n",
    "# Adding a separator line\n",
    "a.seperator_()\n",
    "\n",
    "# Adding a entry for the user input\n",
    "p=a.entry(bx=4,size=12,px=10,py=10,fill_=X)\n",
    "\n",
    "#a.insert_(p,\"Enter the File name to be Searched\")\n",
    "#bind_(p)\n",
    "\n",
    "# Button to Execute the search function\n",
    "a.button(text_=\"Submit\",func_=clickme,px=10,py=10,bx=4)\n",
    "\n",
    "\n",
    "# Entry for the Merging files\n",
    "\n",
    "    \n",
    "a.mainloop_() \n",
    "\n",
    "##Creating a new file\n"
   ]
  },
  {
   "cell_type": "markdown",
   "id": "13887510",
   "metadata": {},
   "source": [
    " for key,value in lf_names.items():\n",
    "    print(value)"
   ]
  },
  {
   "cell_type": "code",
   "execution_count": 10,
   "id": "82ba393a",
   "metadata": {},
   "outputs": [],
   "source": [
    "l=[i for i in \"ABCDEFGHIJKLMNOPQRSTUVWXYZ\" if os.path.exists(\"{}:\".format(i))]"
   ]
  },
  {
   "cell_type": "code",
   "execution_count": 11,
   "id": "482f8f06",
   "metadata": {},
   "outputs": [
    {
     "data": {
      "text/plain": [
       "['C', 'D']"
      ]
     },
     "execution_count": 11,
     "metadata": {},
     "output_type": "execute_result"
    }
   ],
   "source": [
    "l"
   ]
  },
  {
   "cell_type": "code",
   "execution_count": 362,
   "id": "0a91f46b",
   "metadata": {},
   "outputs": [
    {
     "data": {
      "text/plain": [
       "'C:\\\\Users\\\\Naman Jain'"
      ]
     },
     "execution_count": 362,
     "metadata": {},
     "output_type": "execute_result"
    }
   ],
   "source": [
    "os.getcwd()"
   ]
  },
  {
   "cell_type": "code",
   "execution_count": 13,
   "id": "937f3bd5",
   "metadata": {},
   "outputs": [],
   "source": [
    "os.chdir('C:\\\\Users\\\\Naman Jain')"
   ]
  },
  {
   "cell_type": "code",
   "execution_count": 386,
   "id": "6312a2ce",
   "metadata": {},
   "outputs": [
    {
     "data": {
      "text/plain": [
       "['1234.txt.lnk', '1234.txt', '1234.txt', '1234.txt', '1234.txt']"
      ]
     },
     "execution_count": 386,
     "metadata": {},
     "output_type": "execute_result"
    }
   ],
   "source": [
    "lf_separator"
   ]
  },
  {
   "cell_type": "code",
   "execution_count": 481,
   "id": "6df8efc3",
   "metadata": {},
   "outputs": [
    {
     "name": "stderr",
     "output_type": "stream",
     "text": [
      "IOPub data rate exceeded.\n",
      "The notebook server will temporarily stop sending output\n",
      "to the client in order to avoid crashing it.\n",
      "To change this limit, set the config variable\n",
      "`--NotebookApp.iopub_data_rate_limit`.\n",
      "\n",
      "Current values:\n",
      "NotebookApp.iopub_data_rate_limit=1000000.0 (bytes/sec)\n",
      "NotebookApp.rate_limit_window=3.0 (secs)\n",
      "\n"
     ]
    }
   ],
   "source": [
    "fopen =open('Newfile',\"rb\")\n",
    "print(fopen.read())"
   ]
  },
  {
   "cell_type": "code",
   "execution_count": 405,
   "id": "726be209",
   "metadata": {},
   "outputs": [
    {
     "data": {
      "text/plain": [
       "'C:\\\\Users\\\\Naman Jain'"
      ]
     },
     "execution_count": 405,
     "metadata": {},
     "output_type": "execute_result"
    }
   ],
   "source": [
    "os.getcwd()"
   ]
  },
  {
   "cell_type": "code",
   "execution_count": null,
   "id": "5759a468",
   "metadata": {},
   "outputs": [],
   "source": []
  }
 ],
 "metadata": {
  "kernelspec": {
   "display_name": "Python 3",
   "language": "python",
   "name": "python3"
  },
  "language_info": {
   "codemirror_mode": {
    "name": "ipython",
    "version": 3
   },
   "file_extension": ".py",
   "mimetype": "text/x-python",
   "name": "python",
   "nbconvert_exporter": "python",
   "pygments_lexer": "ipython3",
   "version": "3.8.8"
  }
 },
 "nbformat": 4,
 "nbformat_minor": 5
}
