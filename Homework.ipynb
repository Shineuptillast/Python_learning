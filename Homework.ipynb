{
 "cells": [
  {
   "cell_type": "code",
   "execution_count": 5,
   "id": "b9448b36",
   "metadata": {},
   "outputs": [],
   "source": [
    "def adjustname(fname): # Replacing the underscore with the \n",
    "    fname=fname.replace(\"_\",\"\")\n",
    "    return fname"
   ]
  },
  {
   "cell_type": "code",
   "execution_count": 15,
   "id": "00dd109b",
   "metadata": {},
   "outputs": [],
   "source": [
    "def extractname(fname):\n",
    "    for i in range(len(fname)):\n",
    "        if fname[i].isdigit():\n",
    "            if fname[i-1]==\"_\":\n",
    "                return fname[0:i-1]\n",
    "            else :\n",
    "                return fname[0:i]"
   ]
  },
  {
   "cell_type": "code",
   "execution_count": 17,
   "id": "b0ac79eb",
   "metadata": {},
   "outputs": [
    {
     "data": {
      "text/plain": [
       "'Programming Assignment'"
      ]
     },
     "execution_count": 17,
     "metadata": {},
     "output_type": "execute_result"
    }
   ],
   "source": [
    "extractname(\"Programming Assignment1 (1)\")"
   ]
  },
  {
   "cell_type": "code",
   "execution_count": 18,
   "id": "78fb5195",
   "metadata": {},
   "outputs": [],
   "source": [
    "import os"
   ]
  },
  {
   "cell_type": "code",
   "execution_count": 21,
   "id": "3ad28865",
   "metadata": {},
   "outputs": [],
   "source": [
    "os.chdir(\"assignment\")"
   ]
  },
  {
   "cell_type": "code",
   "execution_count": 26,
   "id": "3a8058bd",
   "metadata": {},
   "outputs": [
    {
     "data": {
      "text/plain": [
       "'C:\\\\Users\\\\Naman Jain\\\\Big_data\\\\assignment'"
      ]
     },
     "execution_count": 26,
     "metadata": {},
     "output_type": "execute_result"
    }
   ],
   "source": [
    "pwd()"
   ]
  },
  {
   "cell_type": "code",
   "execution_count": 74,
   "id": "cf3d6a8e",
   "metadata": {},
   "outputs": [],
   "source": [
    "d={}\n",
    "for i in os.listdir():\n",
    "    if os.path.isdir('C:\\\\Users\\\\Naman Jain\\\\Big_data\\\\assignment\\\\'+i):\n",
    "        continue\n",
    "    elif os.path.isfile('C:\\\\Users\\\\Naman Jain\\\\Big_data\\\\assignment\\\\'+i) and i.endswith(\".ipynb\"):\n",
    "        continue\n",
    "    elif os.path.isfile('C:\\\\Users\\\\Naman Jain\\\\Big_data\\\\assignment\\\\'+i) : # can add the extension of the file present or entered by the user\n",
    "        extract_name=extractname(i)\n",
    "        if not extract_name in d.keys():\n",
    "            d[extract_name]=[i]\n",
    "        else:\n",
    "            d[extract_name].append(i)"
   ]
  },
  {
   "cell_type": "code",
   "execution_count": 48,
   "id": "896408e5",
   "metadata": {},
   "outputs": [
    {
     "data": {
      "text/plain": [
       "['.ipynb_checkpoints',\n",
       " 'Assignment_0',\n",
       " 'Assignment_1',\n",
       " 'Assignment_2',\n",
       " 'Assignment_3',\n",
       " 'Assignment_4',\n",
       " 'Assignment_5',\n",
       " 'Assignment_6',\n",
       " 'Assignment_7',\n",
       " 'Assignment_8',\n",
       " 'Assignment_9',\n",
       " 'naman',\n",
       " 'Untitled.ipynb']"
      ]
     },
     "execution_count": 48,
     "metadata": {},
     "output_type": "execute_result"
    }
   ],
   "source": [
    "os.listdir()"
   ]
  },
  {
   "cell_type": "code",
   "execution_count": 75,
   "id": "a79e3ccc",
   "metadata": {},
   "outputs": [
    {
     "data": {
      "text/plain": [
       "{'Assignment': ['Assignment_0',\n",
       "  'Assignment_0 (1)',\n",
       "  'Assignment_1',\n",
       "  'Assignment_1 (1)',\n",
       "  'Assignment_2',\n",
       "  'Assignment_2 (1)',\n",
       "  'Assignment_3',\n",
       "  'Assignment_4',\n",
       "  'Assignment_5',\n",
       "  'Assignment_6',\n",
       "  'Assignment_7',\n",
       "  'Assignment_8',\n",
       "  'Assignment_9'],\n",
       " 'Programming Assignment': ['Programming Assignment_1',\n",
       "  'Programming Assignment_2',\n",
       "  'Programming Assignment_3']}"
      ]
     },
     "execution_count": 75,
     "metadata": {},
     "output_type": "execute_result"
    }
   ],
   "source": [
    "d"
   ]
  },
  {
   "cell_type": "code",
   "execution_count": 68,
   "id": "873d1b02",
   "metadata": {},
   "outputs": [
    {
     "ename": "KeyError",
     "evalue": "'naman'",
     "output_type": "error",
     "traceback": [
      "\u001b[1;31m---------------------------------------------------------------------------\u001b[0m",
      "\u001b[1;31mKeyError\u001b[0m                                  Traceback (most recent call last)",
      "Cell \u001b[1;32mIn[68], line 1\u001b[0m\n\u001b[1;32m----> 1\u001b[0m \u001b[38;5;28;01mif\u001b[39;00m \u001b[43md\u001b[49m\u001b[43m[\u001b[49m\u001b[43ma\u001b[49m\u001b[43m]\u001b[49m\u001b[38;5;241m==\u001b[39m{}:\n\u001b[0;32m      2\u001b[0m     \u001b[38;5;28mprint\u001b[39m(\u001b[38;5;124m\"\u001b[39m\u001b[38;5;124mhello\u001b[39m\u001b[38;5;124m\"\u001b[39m)\n\u001b[0;32m      3\u001b[0m \u001b[38;5;28;01melse\u001b[39;00m:\n",
      "\u001b[1;31mKeyError\u001b[0m: 'naman'"
     ]
    }
   ],
   "source": [
    "if d[a]=={}:\n",
    "    print(\"hello\")\n",
    "else:\n",
    "    d[a]+=1"
   ]
  },
  {
   "cell_type": "code",
   "execution_count": 64,
   "id": "6c543738",
   "metadata": {},
   "outputs": [
    {
     "data": {
      "text/plain": [
       "{'naman': 2}"
      ]
     },
     "execution_count": 64,
     "metadata": {},
     "output_type": "execute_result"
    }
   ],
   "source": [
    "d"
   ]
  },
  {
   "cell_type": "code",
   "execution_count": null,
   "id": "a789145b",
   "metadata": {},
   "outputs": [],
   "source": []
  }
 ],
 "metadata": {
  "kernelspec": {
   "display_name": "Python 3",
   "language": "python",
   "name": "python3"
  },
  "language_info": {
   "codemirror_mode": {
    "name": "ipython",
    "version": 3
   },
   "file_extension": ".py",
   "mimetype": "text/x-python",
   "name": "python",
   "nbconvert_exporter": "python",
   "pygments_lexer": "ipython3",
   "version": "3.8.8"
  }
 },
 "nbformat": 4,
 "nbformat_minor": 5
}
