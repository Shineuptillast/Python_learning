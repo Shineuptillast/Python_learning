{
 "cells": [
  {
   "cell_type": "code",
   "execution_count": 78,
   "metadata": {},
   "outputs": [],
   "source": [
    "# importing pymongo library for connecting to the mongod server\n",
    "import pymongo\n",
    "import pandas as pd\n",
    "import json"
   ]
  },
  {
   "cell_type": "code",
   "execution_count": 50,
   "metadata": {},
   "outputs": [],
   "source": [
    "# connecting to the mongodb server installed locally on port number 27017\n",
    "client= pymongo.MongoClient('mongodb://localhost:27017/')"
   ]
  },
  {
   "cell_type": "code",
   "execution_count": 51,
   "metadata": {},
   "outputs": [],
   "source": [
    "# Creating a database\n",
    "db = client.students_details"
   ]
  },
  {
   "cell_type": "code",
   "execution_count": 193,
   "metadata": {},
   "outputs": [
    {
     "data": {
      "text/plain": [
       "Collection(Database(MongoClient(host=['localhost:27017'], document_class=dict, tz_aware=False, connect=True), 'students_details'), 'students')"
      ]
     },
     "execution_count": 193,
     "metadata": {},
     "output_type": "execute_result"
    }
   ],
   "source": [
    "# creating a collection\n",
    "db['students'] "
   ]
  },
  {
   "cell_type": "code",
   "execution_count": 194,
   "metadata": {},
   "outputs": [
    {
     "data": {
      "text/plain": [
       "['Students1']"
      ]
     },
     "execution_count": 194,
     "metadata": {},
     "output_type": "execute_result"
    }
   ],
   "source": [
    "# lisiting all the collections within the database\n",
    "\n",
    "db.list_collection_names()"
   ]
  },
  {
   "cell_type": "code",
   "execution_count": 53,
   "metadata": {},
   "outputs": [],
   "source": [
    "# Reading the data from csv file into dataframe\n",
    "df=pd.read_csv('./data.csv')"
   ]
  },
  {
   "cell_type": "code",
   "execution_count": 58,
   "metadata": {},
   "outputs": [
    {
     "data": {
      "text/html": [
       "<div>\n",
       "<style scoped>\n",
       "    .dataframe tbody tr th:only-of-type {\n",
       "        vertical-align: middle;\n",
       "    }\n",
       "\n",
       "    .dataframe tbody tr th {\n",
       "        vertical-align: top;\n",
       "    }\n",
       "\n",
       "    .dataframe thead th {\n",
       "        text-align: right;\n",
       "    }\n",
       "</style>\n",
       "<table border=\"1\" class=\"dataframe\">\n",
       "  <thead>\n",
       "    <tr style=\"text-align: right;\">\n",
       "      <th></th>\n",
       "      <th>name</th>\n",
       "      <th>gender</th>\n",
       "      <th>state</th>\n",
       "      <th>phy</th>\n",
       "      <th>maths</th>\n",
       "      <th>bio</th>\n",
       "    </tr>\n",
       "  </thead>\n",
       "  <tbody>\n",
       "    <tr>\n",
       "      <th>0</th>\n",
       "      <td>rohan</td>\n",
       "      <td>male</td>\n",
       "      <td>mh</td>\n",
       "      <td>60</td>\n",
       "      <td>90</td>\n",
       "      <td>68</td>\n",
       "    </tr>\n",
       "    <tr>\n",
       "      <th>1</th>\n",
       "      <td>aniket</td>\n",
       "      <td>male</td>\n",
       "      <td>up</td>\n",
       "      <td>52</td>\n",
       "      <td>85</td>\n",
       "      <td>72</td>\n",
       "    </tr>\n",
       "    <tr>\n",
       "      <th>2</th>\n",
       "      <td>ganesh</td>\n",
       "      <td>male</td>\n",
       "      <td>up</td>\n",
       "      <td>45</td>\n",
       "      <td>82</td>\n",
       "      <td>78</td>\n",
       "    </tr>\n",
       "    <tr>\n",
       "      <th>3</th>\n",
       "      <td>meena</td>\n",
       "      <td>female</td>\n",
       "      <td>mp</td>\n",
       "      <td>72</td>\n",
       "      <td>69</td>\n",
       "      <td>80</td>\n",
       "    </tr>\n",
       "    <tr>\n",
       "      <th>4</th>\n",
       "      <td>seema</td>\n",
       "      <td>female</td>\n",
       "      <td>mh</td>\n",
       "      <td>68</td>\n",
       "      <td>90</td>\n",
       "      <td>78</td>\n",
       "    </tr>\n",
       "  </tbody>\n",
       "</table>\n",
       "</div>"
      ],
      "text/plain": [
       "     name  gender state  phy  maths  bio\n",
       "0   rohan    male    mh   60     90   68\n",
       "1  aniket    male    up   52     85   72\n",
       "2  ganesh    male    up   45     82   78\n",
       "3   meena  female    mp   72     69   80\n",
       "4   seema  female    mh   68     90   78"
      ]
     },
     "execution_count": 58,
     "metadata": {},
     "output_type": "execute_result"
    }
   ],
   "source": [
    "# top 10 rows to check the data \n",
    "df.head()"
   ]
  },
  {
   "cell_type": "code",
   "execution_count": 100,
   "metadata": {},
   "outputs": [],
   "source": [
    "# converting the dataframe into json for insertion into the mongodb database\n",
    "list_of_documents=df.to_json(orient='records')"
   ]
  },
  {
   "cell_type": "code",
   "execution_count": 195,
   "metadata": {},
   "outputs": [
    {
     "data": {
      "text/plain": [
       "'[{\"name\":\"rohan\",\"gender\":\"male\",\"state\":\"mh\",\"phy\":60,\"maths\":90,\"bio\":68},{\"name\":\"aniket\",\"gender\":\"male\",\"state\":\"up\",\"phy\":52,\"maths\":85,\"bio\":72},{\"name\":\"ganesh\",\"gender\":\"male\",\"state\":\"up\",\"phy\":45,\"maths\":82,\"bio\":78},{\"name\":\"meena\",\"gender\":\"female\",\"state\":\"mp\",\"phy\":72,\"maths\":69,\"bio\":80},{\"name\":\"seema\",\"gender\":\"female\",\"state\":\"mh\",\"phy\":68,\"maths\":90,\"bio\":78},{\"name\":\"dinesh\",\"gender\":\"male\",\"state\":\"mp\",\"phy\":48,\"maths\":34,\"bio\":67},{\"name\":\"yogita\",\"gender\":\"female\",\"state\":\"mp\",\"phy\":39,\"maths\":65,\"bio\":90},{\"name\":\"karan\",\"gender\":\"male\",\"state\":\"mh\",\"phy\":82,\"maths\":78,\"bio\":55},{\"name\":\"jayesh\",\"gender\":\"male\",\"state\":\"up\",\"phy\":87,\"maths\":88,\"bio\":32},{\"name\":\"mangesh\",\"gender\":\"male\",\"state\":\"mp\",\"phy\":91,\"maths\":78,\"bio\":82},{\"name\":\"geeta\",\"gender\":\"female\",\"state\":\"mh\",\"phy\":31,\"maths\":58,\"bio\":78},{\"name\":\"runali\",\"gender\":\"female\",\"state\":\"up\",\"phy\":85,\"maths\":92,\"bio\":66},{\"name\":\"tushar\",\"gender\":\"male\",\"state\":\"up\",\"phy\":32,\"maths\":92,\"bio\":77},{\"name\":\"binod\",\"gender\":\"male\",\"state\":\"mh\",\"phy\":95,\"maths\":78,\"bio\":88},{\"name\":\"sanjay\",\"gender\":\"male\",\"state\":\"mh\",\"phy\":63,\"maths\":90,\"bio\":80}]'"
      ]
     },
     "execution_count": 195,
     "metadata": {},
     "output_type": "execute_result"
    }
   ],
   "source": [
    "# String of list of documents\n",
    "list_of_documents"
   ]
  },
  {
   "cell_type": "code",
   "execution_count": 196,
   "metadata": {},
   "outputs": [
    {
     "data": {
      "text/plain": [
       "[{'name': 'rohan',\n",
       "  'gender': 'male',\n",
       "  'state': 'mh',\n",
       "  'phy': 60,\n",
       "  'maths': 90,\n",
       "  'bio': 68},\n",
       " {'name': 'aniket',\n",
       "  'gender': 'male',\n",
       "  'state': 'up',\n",
       "  'phy': 52,\n",
       "  'maths': 85,\n",
       "  'bio': 72},\n",
       " {'name': 'ganesh',\n",
       "  'gender': 'male',\n",
       "  'state': 'up',\n",
       "  'phy': 45,\n",
       "  'maths': 82,\n",
       "  'bio': 78},\n",
       " {'name': 'meena',\n",
       "  'gender': 'female',\n",
       "  'state': 'mp',\n",
       "  'phy': 72,\n",
       "  'maths': 69,\n",
       "  'bio': 80},\n",
       " {'name': 'seema',\n",
       "  'gender': 'female',\n",
       "  'state': 'mh',\n",
       "  'phy': 68,\n",
       "  'maths': 90,\n",
       "  'bio': 78},\n",
       " {'name': 'dinesh',\n",
       "  'gender': 'male',\n",
       "  'state': 'mp',\n",
       "  'phy': 48,\n",
       "  'maths': 34,\n",
       "  'bio': 67},\n",
       " {'name': 'yogita',\n",
       "  'gender': 'female',\n",
       "  'state': 'mp',\n",
       "  'phy': 39,\n",
       "  'maths': 65,\n",
       "  'bio': 90},\n",
       " {'name': 'karan',\n",
       "  'gender': 'male',\n",
       "  'state': 'mh',\n",
       "  'phy': 82,\n",
       "  'maths': 78,\n",
       "  'bio': 55},\n",
       " {'name': 'jayesh',\n",
       "  'gender': 'male',\n",
       "  'state': 'up',\n",
       "  'phy': 87,\n",
       "  'maths': 88,\n",
       "  'bio': 32},\n",
       " {'name': 'mangesh',\n",
       "  'gender': 'male',\n",
       "  'state': 'mp',\n",
       "  'phy': 91,\n",
       "  'maths': 78,\n",
       "  'bio': 82},\n",
       " {'name': 'geeta',\n",
       "  'gender': 'female',\n",
       "  'state': 'mh',\n",
       "  'phy': 31,\n",
       "  'maths': 58,\n",
       "  'bio': 78},\n",
       " {'name': 'runali',\n",
       "  'gender': 'female',\n",
       "  'state': 'up',\n",
       "  'phy': 85,\n",
       "  'maths': 92,\n",
       "  'bio': 66},\n",
       " {'name': 'tushar',\n",
       "  'gender': 'male',\n",
       "  'state': 'up',\n",
       "  'phy': 32,\n",
       "  'maths': 92,\n",
       "  'bio': 77},\n",
       " {'name': 'binod',\n",
       "  'gender': 'male',\n",
       "  'state': 'mh',\n",
       "  'phy': 95,\n",
       "  'maths': 78,\n",
       "  'bio': 88},\n",
       " {'name': 'sanjay',\n",
       "  'gender': 'male',\n",
       "  'state': 'mh',\n",
       "  'phy': 63,\n",
       "  'maths': 90,\n",
       "  'bio': 80}]"
      ]
     },
     "execution_count": 196,
     "metadata": {},
     "output_type": "execute_result"
    }
   ],
   "source": [
    "# converting string of dictionary into dictionary\n",
    "\n",
    "res = json.loads(list_of_documents)\n",
    "res"
   ]
  },
  {
   "cell_type": "code",
   "execution_count": 197,
   "metadata": {},
   "outputs": [],
   "source": [
    "# Inserting data into the mongodb\n",
    "for i in range(0,len(res)):\n",
    "    db.students.insert_one(res[i])"
   ]
  },
  {
   "cell_type": "code",
   "execution_count": 192,
   "metadata": {},
   "outputs": [],
   "source": [
    "db.students.drop()"
   ]
  },
  {
   "cell_type": "code",
   "execution_count": 232,
   "metadata": {},
   "outputs": [],
   "source": [
    "# Selecting all the documents from the collection\n",
    "result=db.students.find()"
   ]
  },
  {
   "cell_type": "code",
   "execution_count": 233,
   "metadata": {},
   "outputs": [
    {
     "name": "stdout",
     "output_type": "stream",
     "text": [
      "{'_id': ObjectId('64787ffbafa41ebc44c402ba'), 'name': 'rohan', 'gender': 'male', 'state': 'mh', 'phy': 60, 'maths': 90, 'bio': 68}\n",
      "{'_id': ObjectId('64787ffbafa41ebc44c402bb'), 'name': 'aniket', 'gender': 'male', 'state': 'up', 'phy': 52, 'maths': 85, 'bio': 72}\n",
      "{'_id': ObjectId('64787ffbafa41ebc44c402bc'), 'name': 'ganesh', 'gender': 'male', 'state': 'up', 'phy': 45, 'maths': 82, 'bio': 78}\n",
      "{'_id': ObjectId('64787ffbafa41ebc44c402bd'), 'name': 'meena', 'gender': 'female', 'state': 'mp', 'phy': 72, 'maths': 69, 'bio': 80}\n",
      "{'_id': ObjectId('64787ffbafa41ebc44c402be'), 'name': 'seema', 'gender': 'female', 'state': 'mh', 'phy': 68, 'maths': 90, 'bio': 78}\n",
      "{'_id': ObjectId('64787ffbafa41ebc44c402bf'), 'name': 'dinesh', 'gender': 'male', 'state': 'mp', 'phy': 48, 'maths': 34, 'bio': 67}\n",
      "{'_id': ObjectId('64787ffbafa41ebc44c402c0'), 'name': 'yogita', 'gender': 'female', 'state': 'mp', 'phy': 39, 'maths': 65, 'bio': 90}\n",
      "{'_id': ObjectId('64787ffbafa41ebc44c402c1'), 'name': 'karan', 'gender': 'male', 'state': 'mh', 'phy': 82, 'maths': 78, 'bio': 55}\n",
      "{'_id': ObjectId('64787ffbafa41ebc44c402c2'), 'name': 'jayesh', 'gender': 'male', 'state': 'up', 'phy': 87, 'maths': 88, 'bio': 32}\n",
      "{'_id': ObjectId('64787ffbafa41ebc44c402c3'), 'name': 'mangesh', 'gender': 'male', 'state': 'mp', 'phy': 91, 'maths': 78, 'bio': 82}\n",
      "{'_id': ObjectId('64787ffbafa41ebc44c402c4'), 'name': 'geeta', 'gender': 'female', 'state': 'mh', 'phy': 31, 'maths': 58, 'bio': 78}\n",
      "{'_id': ObjectId('64787ffbafa41ebc44c402c5'), 'name': 'runali', 'gender': 'female', 'state': 'up', 'phy': 85, 'maths': 92, 'bio': 66}\n",
      "{'_id': ObjectId('64787ffbafa41ebc44c402c6'), 'name': 'tushar', 'gender': 'male', 'state': 'up', 'phy': 32, 'maths': 92, 'bio': 77}\n",
      "{'_id': ObjectId('64787ffbafa41ebc44c402c7'), 'name': 'binod', 'gender': 'male', 'state': 'mh', 'phy': 95, 'maths': 78, 'bio': 88}\n",
      "{'_id': ObjectId('64787ffbafa41ebc44c402c8'), 'name': 'sanjay', 'gender': 'male', 'state': 'mh', 'phy': 63, 'maths': 90, 'bio': 80}\n"
     ]
    }
   ],
   "source": [
    "# Dsiplaying all the records\n",
    "for i in result:\n",
    "    print(i)"
   ]
  },
  {
   "cell_type": "code",
   "execution_count": 231,
   "metadata": {},
   "outputs": [
    {
     "data": {
      "text/plain": [
       "[{'name': 'students',\n",
       "  'type': 'collection',\n",
       "  'options': {},\n",
       "  'info': {'readOnly': False,\n",
       "   'uuid': Binary(b'e\\x1b>\\x0b\\xfadF \\xa4l\\xe8\\xe4\\x95Ld\\x15', 4)},\n",
       "  'idIndex': {'v': 2,\n",
       "   'key': {'_id': 1},\n",
       "   'name': '_id_',\n",
       "   'ns': 'students_details.students'}},\n",
       " {'name': 'Students1',\n",
       "  'type': 'collection',\n",
       "  'options': {},\n",
       "  'info': {'readOnly': False,\n",
       "   'uuid': Binary(b'\\x9e\\x04\\xc4\\xfe\\xbe\\x91Nj\\x97[\\xa4U(b\\x0b\\x0c', 4)},\n",
       "  'idIndex': {'v': 2,\n",
       "   'key': {'_id': 1},\n",
       "   'name': '_id_',\n",
       "   'ns': 'students_details.Students1'}}]"
      ]
     },
     "execution_count": 231,
     "metadata": {},
     "output_type": "execute_result"
    }
   ],
   "source": [
    "list(db.list_collections())"
   ]
  },
  {
   "cell_type": "code",
   "execution_count": 229,
   "metadata": {},
   "outputs": [],
   "source": [
    "# Searching/Filtering Documents on specific fields \n",
    "# Filtering by name\n",
    "\n",
    "result = db.students.find_one({'name':'sanjay'})"
   ]
  },
  {
   "cell_type": "code",
   "execution_count": 230,
   "metadata": {},
   "outputs": [
    {
     "data": {
      "text/plain": [
       "{'_id': ObjectId('64787ffbafa41ebc44c402c8'),\n",
       " 'name': 'sanjay',\n",
       " 'gender': 'male',\n",
       " 'state': 'mh',\n",
       " 'phy': 63,\n",
       " 'maths': 90,\n",
       " 'bio': 80}"
      ]
     },
     "execution_count": 230,
     "metadata": {},
     "output_type": "execute_result"
    }
   ],
   "source": [
    "result"
   ]
  },
  {
   "cell_type": "code",
   "execution_count": 228,
   "metadata": {},
   "outputs": [
    {
     "data": {
      "text/plain": [
       "{'_id': ObjectId('64787ffbafa41ebc44c402ba'),\n",
       " 'name': 'rohan',\n",
       " 'gender': 'male',\n",
       " 'state': 'mh',\n",
       " 'phy': 60,\n",
       " 'maths': 90,\n",
       " 'bio': 68}"
      ]
     },
     "execution_count": 228,
     "metadata": {},
     "output_type": "execute_result"
    }
   ],
   "source": [
    "# filtering by gender\n",
    "res = db.students.find_one({'gender':'male'})\n",
    "res\n"
   ]
  },
  {
   "cell_type": "code",
   "execution_count": 226,
   "metadata": {},
   "outputs": [],
   "source": [
    "#Filtering but with find\n",
    "# It returns a cursor, which points to all the records and an iterator can be used to iterate over all the documents returned by the filteration\n",
    "res = db.students.find({'gender':'female'})"
   ]
  },
  {
   "cell_type": "code",
   "execution_count": 227,
   "metadata": {},
   "outputs": [
    {
     "data": {
      "text/plain": [
       "[{'_id': ObjectId('64787ffbafa41ebc44c402bd'),\n",
       "  'name': 'meena',\n",
       "  'gender': 'female',\n",
       "  'state': 'mp',\n",
       "  'phy': 72,\n",
       "  'maths': 69,\n",
       "  'bio': 80},\n",
       " {'_id': ObjectId('64787ffbafa41ebc44c402be'),\n",
       "  'name': 'seema',\n",
       "  'gender': 'female',\n",
       "  'state': 'mh',\n",
       "  'phy': 68,\n",
       "  'maths': 90,\n",
       "  'bio': 78},\n",
       " {'_id': ObjectId('64787ffbafa41ebc44c402c0'),\n",
       "  'name': 'yogita',\n",
       "  'gender': 'female',\n",
       "  'state': 'mp',\n",
       "  'phy': 39,\n",
       "  'maths': 65,\n",
       "  'bio': 90},\n",
       " {'_id': ObjectId('64787ffbafa41ebc44c402c4'),\n",
       "  'name': 'geeta',\n",
       "  'gender': 'female',\n",
       "  'state': 'mh',\n",
       "  'phy': 31,\n",
       "  'maths': 58,\n",
       "  'bio': 78},\n",
       " {'_id': ObjectId('64787ffbafa41ebc44c402c5'),\n",
       "  'name': 'runali',\n",
       "  'gender': 'female',\n",
       "  'state': 'up',\n",
       "  'phy': 85,\n",
       "  'maths': 92,\n",
       "  'bio': 66}]"
      ]
     },
     "execution_count": 227,
     "metadata": {},
     "output_type": "execute_result"
    }
   ],
   "source": [
    "list(res)"
   ]
  },
  {
   "cell_type": "code",
   "execution_count": 224,
   "metadata": {},
   "outputs": [],
   "source": [
    "# Filter on 2/more fields\n",
    "res = db.students.find_one({'name':'sanjay','gender':'male'})"
   ]
  },
  {
   "cell_type": "code",
   "execution_count": 225,
   "metadata": {},
   "outputs": [
    {
     "data": {
      "text/plain": [
       "{'_id': ObjectId('64787ffbafa41ebc44c402c8'),\n",
       " 'name': 'sanjay',\n",
       " 'gender': 'male',\n",
       " 'state': 'mh',\n",
       " 'phy': 63,\n",
       " 'maths': 90,\n",
       " 'bio': 80}"
      ]
     },
     "execution_count": 225,
     "metadata": {},
     "output_type": "execute_result"
    }
   ],
   "source": [
    "res"
   ]
  },
  {
   "cell_type": "code",
   "execution_count": 222,
   "metadata": {},
   "outputs": [],
   "source": [
    "# Filter on 2/more fields\n",
    "res = db.students.find({'name':'sanjay','gender':'male'})"
   ]
  },
  {
   "cell_type": "code",
   "execution_count": 223,
   "metadata": {},
   "outputs": [
    {
     "name": "stdout",
     "output_type": "stream",
     "text": [
      "{'_id': ObjectId('64787ffbafa41ebc44c402c8'), 'name': 'sanjay', 'gender': 'male', 'state': 'mh', 'phy': 63, 'maths': 90, 'bio': 80}\n"
     ]
    }
   ],
   "source": [
    "for i in res:\n",
    "    print(i)"
   ]
  },
  {
   "cell_type": "code",
   "execution_count": 216,
   "metadata": {},
   "outputs": [],
   "source": [
    "# limiting the number of documents \n",
    "res = db.students.find({'state':'mp'}).limit(3)"
   ]
  },
  {
   "cell_type": "code",
   "execution_count": 217,
   "metadata": {},
   "outputs": [
    {
     "name": "stdout",
     "output_type": "stream",
     "text": [
      "{'_id': ObjectId('64787ffbafa41ebc44c402bd'), 'name': 'meena', 'gender': 'female', 'state': 'mp', 'phy': 72, 'maths': 69, 'bio': 80}\n",
      "{'_id': ObjectId('64787ffbafa41ebc44c402bf'), 'name': 'dinesh', 'gender': 'male', 'state': 'mp', 'phy': 48, 'maths': 34, 'bio': 67}\n",
      "{'_id': ObjectId('64787ffbafa41ebc44c402c0'), 'name': 'yogita', 'gender': 'female', 'state': 'mp', 'phy': 39, 'maths': 65, 'bio': 90}\n"
     ]
    }
   ],
   "source": [
    "for i in res:\n",
    "    print(i)"
   ]
  },
  {
   "cell_type": "code",
   "execution_count": 214,
   "metadata": {},
   "outputs": [],
   "source": [
    "# Projection of objectID\n",
    "res=db.students.find_one({'name':'sanjay'},{'_id'})"
   ]
  },
  {
   "cell_type": "code",
   "execution_count": 215,
   "metadata": {},
   "outputs": [
    {
     "data": {
      "text/plain": [
       "{'_id': ObjectId('64787ffbafa41ebc44c402c8')}"
      ]
     },
     "execution_count": 215,
     "metadata": {},
     "output_type": "execute_result"
    }
   ],
   "source": [
    "res"
   ]
  },
  {
   "cell_type": "code",
   "execution_count": 212,
   "metadata": {},
   "outputs": [],
   "source": [
    "# Projection of name and state\n",
    "\n",
    "res = db.students.find({},{'_id':0,'name':1,'state':1})"
   ]
  },
  {
   "cell_type": "code",
   "execution_count": 213,
   "metadata": {},
   "outputs": [
    {
     "name": "stdout",
     "output_type": "stream",
     "text": [
      "{'name': 'rohan', 'state': 'mh'}\n",
      "{'name': 'aniket', 'state': 'up'}\n",
      "{'name': 'ganesh', 'state': 'up'}\n",
      "{'name': 'meena', 'state': 'mp'}\n",
      "{'name': 'seema', 'state': 'mh'}\n",
      "{'name': 'dinesh', 'state': 'mp'}\n",
      "{'name': 'yogita', 'state': 'mp'}\n",
      "{'name': 'karan', 'state': 'mh'}\n",
      "{'name': 'jayesh', 'state': 'up'}\n",
      "{'name': 'mangesh', 'state': 'mp'}\n",
      "{'name': 'geeta', 'state': 'mh'}\n",
      "{'name': 'runali', 'state': 'up'}\n",
      "{'name': 'tushar', 'state': 'up'}\n",
      "{'name': 'binod', 'state': 'mh'}\n",
      "{'name': 'sanjay', 'state': 'mh'}\n"
     ]
    }
   ],
   "source": [
    "for i in res:\n",
    "    print(i)"
   ]
  },
  {
   "cell_type": "code",
   "execution_count": 210,
   "metadata": {},
   "outputs": [],
   "source": [
    "# filtering on comparision \n",
    "# Greater than $gt operator\n",
    "res = db.students.find({'phy':{'$gt':85}})"
   ]
  },
  {
   "cell_type": "code",
   "execution_count": 211,
   "metadata": {},
   "outputs": [
    {
     "name": "stdout",
     "output_type": "stream",
     "text": [
      "{'_id': ObjectId('64787ffbafa41ebc44c402c2'), 'name': 'jayesh', 'gender': 'male', 'state': 'up', 'phy': 87, 'maths': 88, 'bio': 32}\n",
      "{'_id': ObjectId('64787ffbafa41ebc44c402c3'), 'name': 'mangesh', 'gender': 'male', 'state': 'mp', 'phy': 91, 'maths': 78, 'bio': 82}\n",
      "{'_id': ObjectId('64787ffbafa41ebc44c402c7'), 'name': 'binod', 'gender': 'male', 'state': 'mh', 'phy': 95, 'maths': 78, 'bio': 88}\n"
     ]
    }
   ],
   "source": [
    "for i in res:\n",
    "    print(i)"
   ]
  },
  {
   "cell_type": "code",
   "execution_count": 208,
   "metadata": {},
   "outputs": [],
   "source": [
    "# less than $lt and projection\n",
    "\n",
    "res = db.students.find({'maths':{'$lt':60}},{'name':1})"
   ]
  },
  {
   "cell_type": "code",
   "execution_count": 209,
   "metadata": {},
   "outputs": [
    {
     "name": "stdout",
     "output_type": "stream",
     "text": [
      "{'_id': ObjectId('64787ffbafa41ebc44c402bf'), 'name': 'dinesh'}\n",
      "{'_id': ObjectId('64787ffbafa41ebc44c402c4'), 'name': 'geeta'}\n"
     ]
    }
   ],
   "source": [
    "for i in res:\n",
    "    print(i)"
   ]
  },
  {
   "cell_type": "code",
   "execution_count": 206,
   "metadata": {},
   "outputs": [],
   "source": [
    "# greater than equal to \n",
    "res = db.students.find({'bio':{'$gte':85}})"
   ]
  },
  {
   "cell_type": "code",
   "execution_count": 207,
   "metadata": {},
   "outputs": [
    {
     "name": "stdout",
     "output_type": "stream",
     "text": [
      "{'_id': ObjectId('64787ffbafa41ebc44c402c0'), 'name': 'yogita', 'gender': 'female', 'state': 'mp', 'phy': 39, 'maths': 65, 'bio': 90}\n",
      "{'_id': ObjectId('64787ffbafa41ebc44c402c7'), 'name': 'binod', 'gender': 'male', 'state': 'mh', 'phy': 95, 'maths': 78, 'bio': 88}\n"
     ]
    }
   ],
   "source": [
    "for i in res:\n",
    "    print(i)"
   ]
  },
  {
   "cell_type": "code",
   "execution_count": 204,
   "metadata": {},
   "outputs": [],
   "source": [
    "# lesser than equal to $lte operator\n",
    "\n",
    "res = db.students.find({'maths':{'$lte':39}})"
   ]
  },
  {
   "cell_type": "code",
   "execution_count": 205,
   "metadata": {},
   "outputs": [
    {
     "name": "stdout",
     "output_type": "stream",
     "text": [
      "{'_id': ObjectId('64787ffbafa41ebc44c402bf'), 'name': 'dinesh', 'gender': 'male', 'state': 'mp', 'phy': 48, 'maths': 34, 'bio': 67}\n"
     ]
    }
   ],
   "source": [
    "for i in res:\n",
    "    print(i)"
   ]
  },
  {
   "cell_type": "code",
   "execution_count": 234,
   "metadata": {},
   "outputs": [],
   "source": [
    "# equal operator $eq\n",
    "\n",
    "res = db.students.find({'phy':{'$eq':39}})"
   ]
  },
  {
   "cell_type": "code",
   "execution_count": 235,
   "metadata": {},
   "outputs": [
    {
     "name": "stdout",
     "output_type": "stream",
     "text": [
      "{'_id': ObjectId('64787ffbafa41ebc44c402c0'), 'name': 'yogita', 'gender': 'female', 'state': 'mp', 'phy': 39, 'maths': 65, 'bio': 90}\n"
     ]
    }
   ],
   "source": [
    "for i in res:\n",
    "    print(i)"
   ]
  },
  {
   "cell_type": "code",
   "execution_count": 246,
   "metadata": {},
   "outputs": [],
   "source": [
    "# not equal to $neg\n",
    "res = db.students.find({'name':{'$ne':'jayesh'}})"
   ]
  },
  {
   "cell_type": "code",
   "execution_count": 247,
   "metadata": {},
   "outputs": [
    {
     "name": "stdout",
     "output_type": "stream",
     "text": [
      "{'_id': ObjectId('64787ffbafa41ebc44c402ba'), 'name': 'rohan', 'gender': 'male', 'state': 'mh', 'phy': 60, 'maths': 90, 'bio': 68}\n",
      "{'_id': ObjectId('64787ffbafa41ebc44c402bb'), 'name': 'aniket', 'gender': 'male', 'state': 'up', 'phy': 52, 'maths': 85, 'bio': 72}\n",
      "{'_id': ObjectId('64787ffbafa41ebc44c402bc'), 'name': 'ganesh', 'gender': 'male', 'state': 'up', 'phy': 45, 'maths': 82, 'bio': 78}\n",
      "{'_id': ObjectId('64787ffbafa41ebc44c402bd'), 'name': 'meena', 'gender': 'female', 'state': 'mp', 'phy': 72, 'maths': 69, 'bio': 80}\n",
      "{'_id': ObjectId('64787ffbafa41ebc44c402be'), 'name': 'seema', 'gender': 'female', 'state': 'mh', 'phy': 68, 'maths': 90, 'bio': 78}\n",
      "{'_id': ObjectId('64787ffbafa41ebc44c402bf'), 'name': 'dinesh', 'gender': 'male', 'state': 'mp', 'phy': 48, 'maths': 34, 'bio': 67}\n",
      "{'_id': ObjectId('64787ffbafa41ebc44c402c0'), 'name': 'yogita', 'gender': 'female', 'state': 'mp', 'phy': 39, 'maths': 65, 'bio': 90}\n",
      "{'_id': ObjectId('64787ffbafa41ebc44c402c1'), 'name': 'karan', 'gender': 'male', 'state': 'mh', 'phy': 82, 'maths': 78, 'bio': 55}\n",
      "{'_id': ObjectId('64787ffbafa41ebc44c402c3'), 'name': 'mangesh', 'gender': 'male', 'state': 'mp', 'phy': 91, 'maths': 78, 'bio': 82}\n",
      "{'_id': ObjectId('64787ffbafa41ebc44c402c4'), 'name': 'geeta', 'gender': 'female', 'state': 'mh', 'phy': 31, 'maths': 58, 'bio': 78}\n",
      "{'_id': ObjectId('64787ffbafa41ebc44c402c5'), 'name': 'runali', 'gender': 'female', 'state': 'up', 'phy': 85, 'maths': 92, 'bio': 66}\n",
      "{'_id': ObjectId('64787ffbafa41ebc44c402c6'), 'name': 'tushar', 'gender': 'male', 'state': 'up', 'phy': 32, 'maths': 92, 'bio': 77}\n",
      "{'_id': ObjectId('64787ffbafa41ebc44c402c7'), 'name': 'binod', 'gender': 'male', 'state': 'mh', 'phy': 95, 'maths': 78, 'bio': 88}\n",
      "{'_id': ObjectId('64787ffbafa41ebc44c402c8'), 'name': 'sanjay', 'gender': 'male', 'state': 'mh', 'phy': 63, 'maths': 90, 'bio': 80}\n"
     ]
    }
   ],
   "source": [
    "for i in res:\n",
    "    print(i)"
   ]
  },
  {
   "cell_type": "code",
   "execution_count": 254,
   "metadata": {},
   "outputs": [],
   "source": [
    "# comparision on more than 1 field\n",
    "\n",
    "rse = db.students.find(\n",
    "    {'phy':{'$lte':96}, \n",
    "    'maths':{'$gte':69}}\n",
    "    \n",
    ")"
   ]
  },
  {
   "cell_type": "code",
   "execution_count": 256,
   "metadata": {},
   "outputs": [
    {
     "name": "stdout",
     "output_type": "stream",
     "text": [
      "{'_id': ObjectId('64787ffbafa41ebc44c402ba'), 'name': 'rohan', 'gender': 'male', 'state': 'mh', 'phy': 60, 'maths': 90, 'bio': 68}\n",
      "{'_id': ObjectId('64787ffbafa41ebc44c402bb'), 'name': 'aniket', 'gender': 'male', 'state': 'up', 'phy': 52, 'maths': 85, 'bio': 72}\n",
      "{'_id': ObjectId('64787ffbafa41ebc44c402bc'), 'name': 'ganesh', 'gender': 'male', 'state': 'up', 'phy': 45, 'maths': 82, 'bio': 78}\n",
      "{'_id': ObjectId('64787ffbafa41ebc44c402bd'), 'name': 'meena', 'gender': 'female', 'state': 'mp', 'phy': 72, 'maths': 69, 'bio': 80}\n",
      "{'_id': ObjectId('64787ffbafa41ebc44c402be'), 'name': 'seema', 'gender': 'female', 'state': 'mh', 'phy': 68, 'maths': 90, 'bio': 78}\n",
      "{'_id': ObjectId('64787ffbafa41ebc44c402c1'), 'name': 'karan', 'gender': 'male', 'state': 'mh', 'phy': 82, 'maths': 78, 'bio': 55}\n",
      "{'_id': ObjectId('64787ffbafa41ebc44c402c2'), 'name': 'jayesh', 'gender': 'male', 'state': 'up', 'phy': 87, 'maths': 88, 'bio': 32}\n",
      "{'_id': ObjectId('64787ffbafa41ebc44c402c3'), 'name': 'mangesh', 'gender': 'male', 'state': 'mp', 'phy': 91, 'maths': 78, 'bio': 82}\n",
      "{'_id': ObjectId('64787ffbafa41ebc44c402c5'), 'name': 'runali', 'gender': 'female', 'state': 'up', 'phy': 85, 'maths': 92, 'bio': 66}\n",
      "{'_id': ObjectId('64787ffbafa41ebc44c402c6'), 'name': 'tushar', 'gender': 'male', 'state': 'up', 'phy': 32, 'maths': 92, 'bio': 77}\n",
      "{'_id': ObjectId('64787ffbafa41ebc44c402c7'), 'name': 'binod', 'gender': 'male', 'state': 'mh', 'phy': 95, 'maths': 78, 'bio': 88}\n",
      "{'_id': ObjectId('64787ffbafa41ebc44c402c8'), 'name': 'sanjay', 'gender': 'male', 'state': 'mh', 'phy': 63, 'maths': 90, 'bio': 80}\n"
     ]
    }
   ],
   "source": [
    "for i in rse:\n",
    "    print(i)"
   ]
  },
  {
   "cell_type": "code",
   "execution_count": 264,
   "metadata": {},
   "outputs": [],
   "source": [
    "# sorting by fields of documents\n",
    "\n",
    "res=db.students.find().sort('maths',-1)"
   ]
  },
  {
   "cell_type": "code",
   "execution_count": 265,
   "metadata": {},
   "outputs": [
    {
     "name": "stdout",
     "output_type": "stream",
     "text": [
      "{'_id': ObjectId('64787ffbafa41ebc44c402c5'), 'name': 'runali', 'gender': 'female', 'state': 'up', 'phy': 85, 'maths': 92, 'bio': 66}\n",
      "{'_id': ObjectId('64787ffbafa41ebc44c402c6'), 'name': 'tushar', 'gender': 'male', 'state': 'up', 'phy': 32, 'maths': 92, 'bio': 77}\n",
      "{'_id': ObjectId('64787ffbafa41ebc44c402ba'), 'name': 'rohan', 'gender': 'male', 'state': 'mh', 'phy': 60, 'maths': 90, 'bio': 68}\n",
      "{'_id': ObjectId('64787ffbafa41ebc44c402be'), 'name': 'seema', 'gender': 'female', 'state': 'mh', 'phy': 68, 'maths': 90, 'bio': 78}\n",
      "{'_id': ObjectId('64787ffbafa41ebc44c402c8'), 'name': 'sanjay', 'gender': 'male', 'state': 'mh', 'phy': 63, 'maths': 90, 'bio': 80}\n",
      "{'_id': ObjectId('64787ffbafa41ebc44c402c2'), 'name': 'jayesh', 'gender': 'male', 'state': 'up', 'phy': 87, 'maths': 88, 'bio': 32}\n",
      "{'_id': ObjectId('64787ffbafa41ebc44c402bb'), 'name': 'aniket', 'gender': 'male', 'state': 'up', 'phy': 52, 'maths': 85, 'bio': 72}\n",
      "{'_id': ObjectId('64787ffbafa41ebc44c402bc'), 'name': 'ganesh', 'gender': 'male', 'state': 'up', 'phy': 45, 'maths': 82, 'bio': 78}\n",
      "{'_id': ObjectId('64787ffbafa41ebc44c402c1'), 'name': 'karan', 'gender': 'male', 'state': 'mh', 'phy': 82, 'maths': 78, 'bio': 55}\n",
      "{'_id': ObjectId('64787ffbafa41ebc44c402c3'), 'name': 'mangesh', 'gender': 'male', 'state': 'mp', 'phy': 91, 'maths': 78, 'bio': 82}\n",
      "{'_id': ObjectId('64787ffbafa41ebc44c402c7'), 'name': 'binod', 'gender': 'male', 'state': 'mh', 'phy': 95, 'maths': 78, 'bio': 88}\n",
      "{'_id': ObjectId('64787ffbafa41ebc44c402bd'), 'name': 'meena', 'gender': 'female', 'state': 'mp', 'phy': 72, 'maths': 69, 'bio': 80}\n",
      "{'_id': ObjectId('64787ffbafa41ebc44c402c0'), 'name': 'yogita', 'gender': 'female', 'state': 'mp', 'phy': 39, 'maths': 65, 'bio': 90}\n",
      "{'_id': ObjectId('64787ffbafa41ebc44c402c4'), 'name': 'geeta', 'gender': 'female', 'state': 'mh', 'phy': 31, 'maths': 58, 'bio': 78}\n",
      "{'_id': ObjectId('64787ffbafa41ebc44c402bf'), 'name': 'dinesh', 'gender': 'male', 'state': 'mp', 'phy': 48, 'maths': 34, 'bio': 67}\n"
     ]
    }
   ],
   "source": [
    "for i in res:\n",
    "    print(i)"
   ]
  },
  {
   "cell_type": "code",
   "execution_count": 291,
   "metadata": {},
   "outputs": [],
   "source": [
    "# sorting by multiple fields\n",
    "\n",
    "res = db.students.find({}).sort([('maths',1),('bio',-1)])"
   ]
  },
  {
   "cell_type": "code",
   "execution_count": 292,
   "metadata": {},
   "outputs": [
    {
     "name": "stdout",
     "output_type": "stream",
     "text": [
      "{'_id': ObjectId('64787ffbafa41ebc44c402bf'), 'name': 'dinesh', 'gender': 'male', 'state': 'mp', 'phy': 48, 'maths': 34, 'bio': 67}\n",
      "{'_id': ObjectId('64787ffbafa41ebc44c402c4'), 'name': 'geeta', 'gender': 'female', 'state': 'mh', 'phy': 31, 'maths': 58, 'bio': 78}\n",
      "{'_id': ObjectId('64787ffbafa41ebc44c402c0'), 'name': 'yogita', 'gender': 'female', 'state': 'mp', 'phy': 39, 'maths': 65, 'bio': 90}\n",
      "{'_id': ObjectId('64787ffbafa41ebc44c402bd'), 'name': 'meena', 'gender': 'female', 'state': 'mp', 'phy': 72, 'maths': 69, 'bio': 80}\n",
      "{'_id': ObjectId('64787ffbafa41ebc44c402c7'), 'name': 'binod', 'gender': 'male', 'state': 'mh', 'phy': 95, 'maths': 78, 'bio': 88}\n",
      "{'_id': ObjectId('64787ffbafa41ebc44c402c3'), 'name': 'mangesh', 'gender': 'male', 'state': 'mp', 'phy': 91, 'maths': 78, 'bio': 82}\n",
      "{'_id': ObjectId('64787ffbafa41ebc44c402c1'), 'name': 'karan', 'gender': 'male', 'state': 'mh', 'phy': 82, 'maths': 78, 'bio': 55}\n",
      "{'_id': ObjectId('64787ffbafa41ebc44c402bc'), 'name': 'ganesh', 'gender': 'male', 'state': 'up', 'phy': 45, 'maths': 82, 'bio': 78}\n",
      "{'_id': ObjectId('64787ffbafa41ebc44c402bb'), 'name': 'aniket', 'gender': 'male', 'state': 'up', 'phy': 52, 'maths': 85, 'bio': 72}\n",
      "{'_id': ObjectId('64787ffbafa41ebc44c402c2'), 'name': 'jayesh', 'gender': 'male', 'state': 'up', 'phy': 87, 'maths': 88, 'bio': 32}\n",
      "{'_id': ObjectId('64787ffbafa41ebc44c402c8'), 'name': 'sanjay', 'gender': 'male', 'state': 'mh', 'phy': 63, 'maths': 90, 'bio': 80}\n",
      "{'_id': ObjectId('64787ffbafa41ebc44c402be'), 'name': 'seema', 'gender': 'female', 'state': 'mh', 'phy': 68, 'maths': 90, 'bio': 78}\n",
      "{'_id': ObjectId('64787ffbafa41ebc44c402ba'), 'name': 'rohan', 'gender': 'male', 'state': 'mh', 'phy': 60, 'maths': 90, 'bio': 68}\n",
      "{'_id': ObjectId('64787ffbafa41ebc44c402c6'), 'name': 'tushar', 'gender': 'male', 'state': 'up', 'phy': 32, 'maths': 92, 'bio': 77}\n",
      "{'_id': ObjectId('64787ffbafa41ebc44c402c5'), 'name': 'runali', 'gender': 'female', 'state': 'up', 'phy': 85, 'maths': 92, 'bio': 66}\n"
     ]
    }
   ],
   "source": [
    "for i in res:\n",
    "    print(i)"
   ]
  },
  {
   "cell_type": "code",
   "execution_count": null,
   "metadata": {},
   "outputs": [],
   "source": []
  }
 ],
 "metadata": {
  "kernelspec": {
   "display_name": "Python 3.8.10 64-bit",
   "language": "python",
   "name": "python3"
  },
  "language_info": {
   "codemirror_mode": {
    "name": "ipython",
    "version": 3
   },
   "file_extension": ".py",
   "mimetype": "text/x-python",
   "name": "python",
   "nbconvert_exporter": "python",
   "pygments_lexer": "ipython3",
   "version": "3.8.10"
  },
  "orig_nbformat": 4,
  "vscode": {
   "interpreter": {
    "hash": "e7370f93d1d0cde622a1f8e1c04877d8463912d04d973331ad4851f04de6915a"
   }
  }
 },
 "nbformat": 4,
 "nbformat_minor": 2
}
