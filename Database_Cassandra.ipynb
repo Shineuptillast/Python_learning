{
 "cells": [
  {
   "cell_type": "code",
   "execution_count": 1,
   "id": "3f8dbf39",
   "metadata": {},
   "outputs": [],
   "source": [
    "# install java first"
   ]
  },
  {
   "cell_type": "code",
   "execution_count": 2,
   "id": "5ea6c007",
   "metadata": {},
   "outputs": [],
   "source": [
    "# java installed"
   ]
  },
  {
   "cell_type": "code",
   "execution_count": 3,
   "id": "2a83e2db",
   "metadata": {},
   "outputs": [
    {
     "name": "stdout",
     "output_type": "stream",
     "text": [
      "Collecting cassandra-driver\n",
      "  Downloading cassandra_driver-3.25.0-cp38-cp38-win_amd64.whl (2.9 MB)\n",
      "Collecting geomet<0.3,>=0.1\n",
      "  Downloading geomet-0.2.1.post1-py3-none-any.whl (18 kB)\n",
      "Requirement already satisfied: six>=1.9 in c:\\users\\naman jain\\anaconda3\\lib\\site-packages (from cassandra-driver) (1.15.0)\n",
      "Requirement already satisfied: click in c:\\users\\naman jain\\anaconda3\\lib\\site-packages (from geomet<0.3,>=0.1->cassandra-driver) (7.1.2)\n",
      "Installing collected packages: geomet, cassandra-driver\n",
      "Successfully installed cassandra-driver-3.25.0 geomet-0.2.1.post1\n"
     ]
    }
   ],
   "source": [
    "!pip install cassandra-driver"
   ]
  },
  {
   "cell_type": "code",
   "execution_count": 4,
   "id": "05af0e4b",
   "metadata": {},
   "outputs": [
    {
     "name": "stdout",
     "output_type": "stream",
     "text": [
      "Requirement already satisfied: cassandra-driver in c:\\users\\naman jain\\anaconda3\\lib\\site-packages (3.25.0)\n",
      "Requirement already satisfied: six>=1.9 in c:\\users\\naman jain\\anaconda3\\lib\\site-packages (from cassandra-driver) (1.15.0)\n",
      "Requirement already satisfied: geomet<0.3,>=0.1 in c:\\users\\naman jain\\anaconda3\\lib\\site-packages (from cassandra-driver) (0.2.1.post1)\n",
      "Requirement already satisfied: click in c:\\users\\naman jain\\anaconda3\\lib\\site-packages (from geomet<0.3,>=0.1->cassandra-driver) (7.1.2)\n"
     ]
    }
   ],
   "source": [
    "!pip install cassandra-driver"
   ]
  },
  {
   "cell_type": "code",
   "execution_count": 5,
   "id": "5f7c2e1f",
   "metadata": {},
   "outputs": [],
   "source": [
    "import cassandra"
   ]
  },
  {
   "cell_type": "code",
   "execution_count": 8,
   "id": "fee7ed50",
   "metadata": {},
   "outputs": [
    {
     "data": {
      "text/plain": [
       "'3.25.0'"
      ]
     },
     "execution_count": 8,
     "metadata": {},
     "output_type": "execute_result"
    }
   ],
   "source": [
    "cassandra.__version__"
   ]
  },
  {
   "cell_type": "code",
   "execution_count": 9,
   "id": "7866a319",
   "metadata": {},
   "outputs": [],
   "source": [
    "# making a connection with the cassandra database"
   ]
  },
  {
   "cell_type": "code",
   "execution_count": 12,
   "id": "4a22ecf7",
   "metadata": {},
   "outputs": [
    {
     "name": "stdout",
     "output_type": "stream",
     "text": [
      "4.0.0.6816\n"
     ]
    }
   ],
   "source": [
    "from cassandra.cluster import Cluster\n",
    "from cassandra.auth import PlainTextAuthProvider\n",
    "\n",
    "cloud_config= {\n",
    "  'secure_connect_bundle': 'secure-connect-student.zip'\n",
    "}\n",
    "auth_provider = PlainTextAuthProvider(client_id, client_sec)\n",
    "cluster = Cluster(cloud=cloud_config, auth_provider=auth_provider)\n",
    "session = cluster.connect()\n",
    "\n",
    "row = session.execute(\"select release_version from system.local\").one()\n",
    "if row:\n",
    "  print(row[0])\n",
    "else:\n",
    "  print(\"An error occurred.\")"
   ]
  },
  {
   "cell_type": "code",
   "execution_count": null,
   "id": "4e46a444",
   "metadata": {},
   "outputs": [],
   "source": []
  }
 ],
 "metadata": {
  "kernelspec": {
   "display_name": "Python 3",
   "language": "python",
   "name": "python3"
  },
  "language_info": {
   "codemirror_mode": {
    "name": "ipython",
    "version": 3
   },
   "file_extension": ".py",
   "mimetype": "text/x-python",
   "name": "python",
   "nbconvert_exporter": "python",
   "pygments_lexer": "ipython3",
   "version": "3.8.8"
  }
 },
 "nbformat": 4,
 "nbformat_minor": 5
}
