{
 "cells": [
  {
   "cell_type": "code",
   "execution_count": 1,
   "id": "df8c9e38",
   "metadata": {},
   "outputs": [
    {
     "name": "stdout",
     "output_type": "stream",
     "text": [
      "Requirement already satisfied: cassandra-driver in c:\\users\\naman jain\\anaconda3\\lib\\site-packages (3.25.0)\n",
      "Requirement already satisfied: six>=1.9 in c:\\users\\naman jain\\anaconda3\\lib\\site-packages (from cassandra-driver) (1.15.0)\n",
      "Requirement already satisfied: geomet<0.3,>=0.1 in c:\\users\\naman jain\\anaconda3\\lib\\site-packages (from cassandra-driver) (0.2.1.post1)\n",
      "Requirement already satisfied: click in c:\\users\\naman jain\\anaconda3\\lib\\site-packages (from geomet<0.3,>=0.1->cassandra-driver) (8.1.3)\n",
      "Requirement already satisfied: colorama in c:\\users\\naman jain\\anaconda3\\lib\\site-packages (from click->geomet<0.3,>=0.1->cassandra-driver) (0.4.4)\n",
      "Note: you may need to restart the kernel to use updated packages.\n"
     ]
    }
   ],
   "source": [
    "!pip install cassandra-driver"
   ]
  },
  {
   "cell_type": "code",
   "execution_count": 6,
   "id": "26e90694",
   "metadata": {},
   "outputs": [
    {
     "name": "stdout",
     "output_type": "stream",
     "text": [
      "3.25.0\n"
     ]
    }
   ],
   "source": [
    "import cassandra\n",
    "print(cassandra.__version__)"
   ]
  },
  {
   "cell_type": "code",
   "execution_count": 2,
   "id": "143989aa",
   "metadata": {},
   "outputs": [],
   "source": [
    "a={\n",
    "  \"clientId\": \"frLLgFGrPZndWGFzgzANEXbC\",\n",
    "  \"secret\": \"nSP6zgnPm0NjUaiIv.14+,pn6d.ch.pzlelJZvsy04+EG8Mwr95NH9SMuf7J_.tbHF4k7i,NY.kHjxxGDJzNR4d9.O2sAz2,6R+gwdAoEgZC_PdGyIQt2Zjk8EtOphJa\",\n",
    "  \"token\": \"AstraCS:frLLgFGrPZndWGFzgzANEXbC:05b504e12766c96fe46d0e536707f474c7f5a874403888114bb048151d097226\"\n",
    "}"
   ]
  },
  {
   "cell_type": "code",
   "execution_count": 58,
   "id": "078d066b",
   "metadata": {},
   "outputs": [
    {
     "name": "stdout",
     "output_type": "stream",
     "text": [
      "4.0.0.6816\n"
     ]
    }
   ],
   "source": [
    "from cassandra.cluster import Cluster\n",
    "from cassandra.auth import PlainTextAuthProvider\n",
    "\n",
    "cloud_config= {\n",
    "  'secure_connect_bundle': './secure-connect-cassandra-demo.zip'\n",
    "}\n",
    "auth_provider = PlainTextAuthProvider('frLLgFGrPZndWGFzgzANEXbC', 'nSP6zgnPm0NjUaiIv.14+,pn6d.ch.pzlelJZvsy04+EG8Mwr95NH9SMuf7J_.tbHF4k7i,NY.kHjxxGDJzNR4d9.O2sAz2,6R+gwdAoEgZC_PdGyIQt2Zjk8EtOphJa')\n",
    "cluster = Cluster(cloud=cloud_config, auth_provider=auth_provider)\n",
    "session = cluster.connect()\n",
    "\n",
    "row = session.execute(\"select release_version from system.local\").one()\n",
    "if row:\n",
    "  print(row[0]\n",
    "    )\n",
    "else:\n",
    "  print(\"An error occurred.\")\n"
   ]
  },
  {
   "cell_type": "code",
   "execution_count": 18,
   "id": "0fcb80a3",
   "metadata": {},
   "outputs": [
    {
     "name": "stdout",
     "output_type": "stream",
     "text": [
      "Error Occurred: Error from server: code=2100 [Unauthorized] message=\"Missing correct permission on employee_management.: Keyspace management is currently only supported at https://astra.datastax.com/org/582660cf-aada-4093-a45f-6fe8b313068e/database/41910a94-87cc-49de-afc4-749734b0c506\"\n"
     ]
    }
   ],
   "source": [
    "# Command to create keyspace in Cassandra\n",
    "try:\n",
    "    query = \"create keyspace employee_management with replication = {'class':'simpleStrategy','replication_factor':3}\"\n",
    "    session.execute(query)\n",
    "    print('Keyspace Created Successfully')\n",
    "except Exception as e:\n",
    "    print(\"Error Occurred:\",e)"
   ]
  },
  {
   "cell_type": "code",
   "execution_count": 24,
   "id": "6587e80e",
   "metadata": {},
   "outputs": [
    {
     "name": "stdout",
     "output_type": "stream",
     "text": [
      "Error Occurred: Error from server: code=2100 [Unauthorized] message=\"Missing correct permission on employee_management.: Keyspace management is currently only supported at https://astra.datastax.com/org/582660cf-aada-4093-a45f-6fe8b313068e/database/41910a94-87cc-49de-afc4-749734b0c506\"\n"
     ]
    }
   ],
   "source": [
    "try:\n",
    "    query = \"alter keyspace employee_management with replication = {'class':'SimpleStrategy','replication_factor':2}\"\n",
    "    session.execute(query)\n",
    "    print('Keyspace Altered Successfully')\n",
    "except Exception as e:\n",
    "    print(\"Error Occurred:\",e)"
   ]
  },
  {
   "cell_type": "code",
   "execution_count": null,
   "id": "8772f0c4",
   "metadata": {},
   "outputs": [],
   "source": [
    "try:\n",
    "    query = \"drop keyspace employee_management\"\n",
    "    session.execute(query)\n",
    "    print('Keyspace Altered Successfully')\n",
    "except Exception as e:\n",
    "    print(\"Error Occurred:\",e)"
   ]
  },
  {
   "cell_type": "code",
   "execution_count": 59,
   "id": "3c17466f",
   "metadata": {},
   "outputs": [
    {
     "name": "stdout",
     "output_type": "stream",
     "text": [
      "Inside the keyspace\n"
     ]
    }
   ],
   "source": [
    "#command to use a keyspace\n",
    "try:\n",
    "    query = 'use cassandra_practice'\n",
    "    session.execute(query)\n",
    "    print(\"Inside the keyspace\")\n",
    "except Exception as e:\n",
    "    print('Error occurred ', e)"
   ]
  },
  {
   "cell_type": "code",
   "execution_count": 35,
   "id": "7a5d03f4",
   "metadata": {},
   "outputs": [
    {
     "name": "stdout",
     "output_type": "stream",
     "text": [
      "Table Created Successfully\n"
     ]
    }
   ],
   "source": [
    "# create a table in keyspace cassandra_practice\n",
    "try:\n",
    "    query=\"\"\"\n",
    "            create table employees(\n",
    "                emp_id int,\n",
    "                emp_name varchar,\n",
    "                emp_salary int,\n",
    "                emp_dept varchar,\n",
    "                emp_email varchar,\n",
    "                emp_phone varchar,\n",
    "                primary key(emp_id,emp_dept)\n",
    "            )\n",
    "    \"\"\"\n",
    "    session.execute(query)\n",
    "    print('Table Created Successfully')\n",
    "except Exception as e:\n",
    "    print('Table is not created due to error',e)"
   ]
  },
  {
   "cell_type": "code",
   "execution_count": 34,
   "id": "d7a889fe",
   "metadata": {},
   "outputs": [
    {
     "name": "stdout",
     "output_type": "stream",
     "text": [
      "Table dropped successfully\n"
     ]
    }
   ],
   "source": [
    "# Drop the table\n",
    "try:\n",
    "    query='drop table employees'\n",
    "    session.execute(query)\n",
    "    print('Table dropped successfully')\n",
    "except Exception as e:\n",
    "    print(\"error\",e)"
   ]
  },
  {
   "cell_type": "code",
   "execution_count": 28,
   "id": "5a67beb9",
   "metadata": {},
   "outputs": [
    {
     "name": "stdout",
     "output_type": "stream",
     "text": [
      "Column dropped successfully\n"
     ]
    }
   ],
   "source": [
    "# alter table and drop a column\n",
    "\n",
    "try:\n",
    "    query='Alter table employees drop emp_email'\n",
    "    session.execute(query)\n",
    "    print('Column dropped successfully')\n",
    "except Exception as e:\n",
    "    print(\"Column is not dropped due to error\",e)"
   ]
  },
  {
   "cell_type": "code",
   "execution_count": 29,
   "id": "f5e17f8b",
   "metadata": {},
   "outputs": [
    {
     "name": "stdout",
     "output_type": "stream",
     "text": [
      "Column Added successfully\n"
     ]
    }
   ],
   "source": [
    "# alter the table and add a column in cassandra table \n",
    "try:\n",
    "    query='Alter table employees add emp_email varchar'\n",
    "    session.execute(query)\n",
    "    print('Column Added successfully')\n",
    "except Exception as e:\n",
    "    print(\"Column is not Added due to error\",e)"
   ]
  },
  {
   "cell_type": "code",
   "execution_count": 39,
   "id": "1a183826",
   "metadata": {},
   "outputs": [
    {
     "name": "stdout",
     "output_type": "stream",
     "text": [
      "Data inserted successfully\n"
     ]
    }
   ],
   "source": [
    "# Insert data into the table\n",
    "query=\"\"\"\n",
    "        insert into employees(emp_id,emp_name,emp_salary,emp_dept,emp_email,emp_phone) values(1,'Naman', 78000, 'DE', 'namanbrave@yahoo.in', '9810989898')\n",
    "            \"\"\"\n",
    "try:\n",
    "    session.execute(query)\n",
    "    print('Data inserted successfully')\n",
    "except Exception as e:\n",
    "    print(\"error\",e)"
   ]
  },
  {
   "cell_type": "code",
   "execution_count": 40,
   "id": "832728f6",
   "metadata": {},
   "outputs": [
    {
     "name": "stdout",
     "output_type": "stream",
     "text": [
      "Data inserted successfully\n"
     ]
    }
   ],
   "source": [
    "# Insert data into the table\n",
    "query=\"\"\"\n",
    "        insert into employees(emp_id,emp_name,emp_salary,emp_dept,emp_email,emp_phone) values(2,'Preeti', 88000, 'Marketing', 'preeti@yahoo.in', '9810989798')\n",
    "            \"\"\"\n",
    "try:\n",
    "    session.execute(query)\n",
    "    print('Data inserted successfully')\n",
    "except Exception as e:\n",
    "    print(\"error\",e)"
   ]
  },
  {
   "cell_type": "code",
   "execution_count": 44,
   "id": "fca36699",
   "metadata": {},
   "outputs": [
    {
     "name": "stdout",
     "output_type": "stream",
     "text": [
      "Data inserted successfully\n"
     ]
    }
   ],
   "source": [
    "# Insert data into the table\n",
    "query=\"\"\"\n",
    "        insert into employees(emp_id,emp_name,emp_salary,emp_dept,emp_email,emp_phone) values(3,'Keshav', 68000, 'DA', 'keshav@yahoo.in', '7810989898')\n",
    "      \n",
    "        \n",
    "            \"\"\"\n",
    "try:\n",
    "    session.execute(query)\n",
    "    print('Data inserted successfully')\n",
    "except Exception as e:\n",
    "    print(\"error\",e)"
   ]
  },
  {
   "cell_type": "code",
   "execution_count": 60,
   "id": "6f57993d",
   "metadata": {},
   "outputs": [
    {
     "name": "stdout",
     "output_type": "stream",
     "text": [
      "Row(emp_id=1, emp_dept='DE', emp_email='namanbrave@yahoo.in', emp_name='Naman', emp_phone='9810989898', emp_salary=78000)\n",
      "Row(emp_id=2, emp_dept='Marketing', emp_email='preeti@yahoo.in', emp_name='Preeti', emp_phone='9810989798', emp_salary=88000)\n",
      "Row(emp_id=3, emp_dept='DA', emp_email='keshav@yahoo.in', emp_name='Keshav', emp_phone='7810989898', emp_salary=68000)\n"
     ]
    }
   ],
   "source": [
    "query='select * from employees'\n",
    "try:\n",
    "    row=session.execute(query)\n",
    "    for r in row:\n",
    "        print(r)\n",
    "    \n",
    "except Exception as e:\n",
    "    print(\"error\",e)"
   ]
  },
  {
   "cell_type": "code",
   "execution_count": 61,
   "id": "b84412c8",
   "metadata": {},
   "outputs": [
    {
     "name": "stdout",
     "output_type": "stream",
     "text": [
      "Row(emp_id=1, emp_name='Naman', emp_dept='DE')\n",
      "Row(emp_id=2, emp_name='Preeti', emp_dept='Marketing')\n",
      "Row(emp_id=3, emp_name='Keshav', emp_dept='DA')\n"
     ]
    }
   ],
   "source": [
    "query='select emp_id,emp_name,emp_dept from employees'\n",
    "try:\n",
    "    row=session.execute(query)\n",
    "    for r in row:\n",
    "        print(r)\n",
    "    \n",
    "except Exception as e:\n",
    "    print(\"error\",e)"
   ]
  },
  {
   "cell_type": "code",
   "execution_count": 62,
   "id": "85e000ee",
   "metadata": {},
   "outputs": [
    {
     "name": "stdout",
     "output_type": "stream",
     "text": [
      "Row(count=3)\n"
     ]
    }
   ],
   "source": [
    "query='select count(*) from employees'\n",
    "try:\n",
    "    row=session.execute(query)\n",
    "    print(row.one())\n",
    "except Exception as e:\n",
    "    print(\"error\",e)"
   ]
  },
  {
   "cell_type": "code",
   "execution_count": 67,
   "id": "b6ffb3d5",
   "metadata": {},
   "outputs": [
    {
     "name": "stdout",
     "output_type": "stream",
     "text": [
      "Row(emp_id=1, emp_dept='DE', emp_email='namanbrave@yahoo.in', emp_name='Naman', emp_phone='9810989898', emp_salary=78000)\n"
     ]
    }
   ],
   "source": [
    "query=\"\"\"\n",
    "    select * from employees where emp_name = 'Naman' Allow filtering\n",
    "        \"\"\"\n",
    "try:\n",
    "    row=session.execute(query).one()\n",
    "    print(row)\n",
    "except Exception as e:\n",
    "    print(e)"
   ]
  },
  {
   "cell_type": "code",
   "execution_count": 74,
   "id": "18a29682",
   "metadata": {},
   "outputs": [
    {
     "name": "stdout",
     "output_type": "stream",
     "text": [
      "Row(emp_id=3, emp_dept='DA', emp_email='keshav@yahoo.in', emp_name='Keshav', emp_phone='7810989898', emp_salary=68000)\n"
     ]
    }
   ],
   "source": [
    "query=\"\"\"\n",
    "    select * from employees where emp_dept='DA' and emp_id =3\n",
    "        \"\"\"\n",
    "try:\n",
    "    row=session.execute(query).one()\n",
    "    print(row)\n",
    "except Exception as e:\n",
    "    print(e)"
   ]
  },
  {
   "cell_type": "code",
   "execution_count": null,
   "id": "ea26ffde",
   "metadata": {},
   "outputs": [],
   "source": []
  }
 ],
 "metadata": {
  "kernelspec": {
   "display_name": "Python 3",
   "language": "python",
   "name": "python3"
  },
  "language_info": {
   "codemirror_mode": {
    "name": "ipython",
    "version": 3
   },
   "file_extension": ".py",
   "mimetype": "text/x-python",
   "name": "python",
   "nbconvert_exporter": "python",
   "pygments_lexer": "ipython3",
   "version": "3.8.8"
  }
 },
 "nbformat": 4,
 "nbformat_minor": 5
}
