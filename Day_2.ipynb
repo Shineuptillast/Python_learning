{
 "cells": [
  {
   "cell_type": "code",
   "execution_count": 4,
   "id": "09105373",
   "metadata": {},
   "outputs": [
    {
     "name": "stdout",
     "output_type": "stream",
     "text": [
      "This is my first Program Hurray!\n"
     ]
    }
   ],
   "source": [
    "print(\"This is my first Program Hurray!\")"
   ]
  },
  {
   "cell_type": "code",
   "execution_count": 5,
   "id": "707a1093",
   "metadata": {},
   "outputs": [
    {
     "ename": "SyntaxError",
     "evalue": "invalid syntax (<ipython-input-5-c3a4390c885b>, line 1)",
     "output_type": "error",
     "traceback": [
      "\u001b[1;36m  File \u001b[1;32m\"<ipython-input-5-c3a4390c885b>\"\u001b[1;36m, line \u001b[1;32m1\u001b[0m\n\u001b[1;33m    my name is sudh\u001b[0m\n\u001b[1;37m       ^\u001b[0m\n\u001b[1;31mSyntaxError\u001b[0m\u001b[1;31m:\u001b[0m invalid syntax\n"
     ]
    }
   ],
   "source": [
    "my name is sudh"
   ]
  },
  {
   "cell_type": "code",
   "execution_count": 6,
   "id": "9430f5a7",
   "metadata": {},
   "outputs": [],
   "source": [
    "# hello"
   ]
  },
  {
   "cell_type": "code",
   "execution_count": 9,
   "id": "73b08c10",
   "metadata": {},
   "outputs": [
    {
     "data": {
      "text/plain": [
       "'hello\\nesneg\\nsmglksn\\nsdlkgn[\\nsd]g;sdgk\\n\\n]'"
      ]
     },
     "execution_count": 9,
     "metadata": {},
     "output_type": "execute_result"
    }
   ],
   "source": [
    "\"\"\"hello\n",
    "esneg\n",
    "smglksn\n",
    "sdlkgn[\n",
    "sd]g;sdgk\n",
    "\n",
    "]\"\"\"\n"
   ]
  },
  {
   "cell_type": "code",
   "execution_count": 10,
   "id": "69a91624",
   "metadata": {},
   "outputs": [
    {
     "data": {
      "text/plain": [
       "13"
      ]
     },
     "execution_count": 10,
     "metadata": {},
     "output_type": "execute_result"
    }
   ],
   "source": [
    "6+7"
   ]
  },
  {
   "cell_type": "code",
   "execution_count": 11,
   "id": "da3cb1b6",
   "metadata": {},
   "outputs": [
    {
     "data": {
      "text/plain": [
       "21"
      ]
     },
     "execution_count": 11,
     "metadata": {},
     "output_type": "execute_result"
    }
   ],
   "source": [
    "_+8"
   ]
  },
  {
   "cell_type": "code",
   "execution_count": 12,
   "id": "e2c22fbd",
   "metadata": {},
   "outputs": [],
   "source": [
    "a=10"
   ]
  },
  {
   "cell_type": "code",
   "execution_count": 13,
   "id": "8a332b5a",
   "metadata": {},
   "outputs": [
    {
     "data": {
      "text/plain": [
       "10"
      ]
     },
     "execution_count": 13,
     "metadata": {},
     "output_type": "execute_result"
    }
   ],
   "source": [
    "a"
   ]
  },
  {
   "cell_type": "code",
   "execution_count": 14,
   "id": "3402ab8f",
   "metadata": {},
   "outputs": [
    {
     "data": {
      "text/plain": [
       "int"
      ]
     },
     "execution_count": 14,
     "metadata": {},
     "output_type": "execute_result"
    }
   ],
   "source": [
    "type(a)"
   ]
  },
  {
   "cell_type": "code",
   "execution_count": 15,
   "id": "11669cd9",
   "metadata": {},
   "outputs": [],
   "source": [
    "b=\"naman\""
   ]
  },
  {
   "cell_type": "code",
   "execution_count": 16,
   "id": "67991fdb",
   "metadata": {},
   "outputs": [
    {
     "data": {
      "text/plain": [
       "str"
      ]
     },
     "execution_count": 16,
     "metadata": {},
     "output_type": "execute_result"
    }
   ],
   "source": [
    "type(b)"
   ]
  },
  {
   "cell_type": "code",
   "execution_count": 17,
   "id": "64a13b99",
   "metadata": {},
   "outputs": [
    {
     "data": {
      "text/plain": [
       "'naman'"
      ]
     },
     "execution_count": 17,
     "metadata": {},
     "output_type": "execute_result"
    }
   ],
   "source": [
    "b"
   ]
  },
  {
   "cell_type": "code",
   "execution_count": 18,
   "id": "145b24b3",
   "metadata": {},
   "outputs": [
    {
     "name": "stdout",
     "output_type": "stream",
     "text": [
      "naman\n"
     ]
    }
   ],
   "source": [
    "print(b)"
   ]
  },
  {
   "cell_type": "code",
   "execution_count": 19,
   "id": "bdeaf290",
   "metadata": {},
   "outputs": [
    {
     "name": "stdout",
     "output_type": "stream",
     "text": [
      "10 naman\n"
     ]
    }
   ],
   "source": [
    "print(a,b)"
   ]
  },
  {
   "cell_type": "code",
   "execution_count": 20,
   "id": "560554e4",
   "metadata": {},
   "outputs": [],
   "source": [
    "a,b = 10,\"naman\""
   ]
  },
  {
   "cell_type": "code",
   "execution_count": 21,
   "id": "0e42294f",
   "metadata": {},
   "outputs": [
    {
     "data": {
      "text/plain": [
       "10"
      ]
     },
     "execution_count": 21,
     "metadata": {},
     "output_type": "execute_result"
    }
   ],
   "source": [
    "a\n"
   ]
  },
  {
   "cell_type": "code",
   "execution_count": 22,
   "id": "68223700",
   "metadata": {},
   "outputs": [
    {
     "data": {
      "text/plain": [
       "'naman'"
      ]
     },
     "execution_count": 22,
     "metadata": {},
     "output_type": "execute_result"
    }
   ],
   "source": [
    "b\n"
   ]
  },
  {
   "cell_type": "code",
   "execution_count": 23,
   "id": "61d50710",
   "metadata": {},
   "outputs": [
    {
     "data": {
      "text/plain": [
       "str"
      ]
     },
     "execution_count": 23,
     "metadata": {},
     "output_type": "execute_result"
    }
   ],
   "source": [
    "type(b)"
   ]
  },
  {
   "cell_type": "code",
   "execution_count": 24,
   "id": "583172e3",
   "metadata": {},
   "outputs": [
    {
     "ename": "NameError",
     "evalue": "name 'c' is not defined",
     "output_type": "error",
     "traceback": [
      "\u001b[1;31m---------------------------------------------------------------------------\u001b[0m",
      "\u001b[1;31mNameError\u001b[0m                                 Traceback (most recent call last)",
      "\u001b[1;32m<ipython-input-24-0acc8143872c>\u001b[0m in \u001b[0;36m<module>\u001b[1;34m\u001b[0m\n\u001b[1;32m----> 1\u001b[1;33m \u001b[0mtype\u001b[0m\u001b[1;33m(\u001b[0m\u001b[0mc\u001b[0m\u001b[1;33m)\u001b[0m\u001b[1;33m\u001b[0m\u001b[1;33m\u001b[0m\u001b[0m\n\u001b[0m",
      "\u001b[1;31mNameError\u001b[0m: name 'c' is not defined"
     ]
    }
   ],
   "source": [
    "type(c)"
   ]
  },
  {
   "cell_type": "code",
   "execution_count": 25,
   "id": "31e4efa7",
   "metadata": {},
   "outputs": [],
   "source": [
    "c=10.2"
   ]
  },
  {
   "cell_type": "code",
   "execution_count": 26,
   "id": "eda16c4c",
   "metadata": {},
   "outputs": [
    {
     "data": {
      "text/plain": [
       "float"
      ]
     },
     "execution_count": 26,
     "metadata": {},
     "output_type": "execute_result"
    }
   ],
   "source": [
    "type(c)"
   ]
  },
  {
   "cell_type": "code",
   "execution_count": 27,
   "id": "dc82dc60",
   "metadata": {},
   "outputs": [
    {
     "data": {
      "text/plain": [
       "(10, 'naman', 10.2)"
      ]
     },
     "execution_count": 27,
     "metadata": {},
     "output_type": "execute_result"
    }
   ],
   "source": [
    "a,b,c"
   ]
  },
  {
   "cell_type": "code",
   "execution_count": 30,
   "id": "a01eb188",
   "metadata": {},
   "outputs": [],
   "source": [
    "q=b.strip(\"a\")"
   ]
  },
  {
   "cell_type": "code",
   "execution_count": 31,
   "id": "509443fe",
   "metadata": {},
   "outputs": [
    {
     "data": {
      "text/plain": [
       "'naman'"
      ]
     },
     "execution_count": 31,
     "metadata": {},
     "output_type": "execute_result"
    }
   ],
   "source": [
    "q"
   ]
  },
  {
   "cell_type": "code",
   "execution_count": 33,
   "id": "4f6a84f1",
   "metadata": {},
   "outputs": [
    {
     "ename": "SyntaxError",
     "evalue": "invalid syntax (<ipython-input-33-1ea063e77f1a>, line 1)",
     "output_type": "error",
     "traceback": [
      "\u001b[1;36m  File \u001b[1;32m\"<ipython-input-33-1ea063e77f1a>\"\u001b[1;36m, line \u001b[1;32m1\u001b[0m\n\u001b[1;33m    1bb=\"gj\"\u001b[0m\n\u001b[1;37m     ^\u001b[0m\n\u001b[1;31mSyntaxError\u001b[0m\u001b[1;31m:\u001b[0m invalid syntax\n"
     ]
    }
   ],
   "source": [
    "1bb=\"gj\""
   ]
  },
  {
   "cell_type": "code",
   "execution_count": 34,
   "id": "8a66c939",
   "metadata": {},
   "outputs": [],
   "source": [
    "B=10"
   ]
  },
  {
   "cell_type": "code",
   "execution_count": 35,
   "id": "0435bfad",
   "metadata": {},
   "outputs": [
    {
     "ename": "SyntaxError",
     "evalue": "invalid syntax (<ipython-input-35-a44a9839b4bb>, line 1)",
     "output_type": "error",
     "traceback": [
      "\u001b[1;36m  File \u001b[1;32m\"<ipython-input-35-a44a9839b4bb>\"\u001b[1;36m, line \u001b[1;32m1\u001b[0m\n\u001b[1;33m    2B =20\u001b[0m\n\u001b[1;37m     ^\u001b[0m\n\u001b[1;31mSyntaxError\u001b[0m\u001b[1;31m:\u001b[0m invalid syntax\n"
     ]
    }
   ],
   "source": [
    "2B =20"
   ]
  },
  {
   "cell_type": "code",
   "execution_count": 36,
   "id": "a9cf56c4",
   "metadata": {},
   "outputs": [],
   "source": [
    "_t=\"tty\""
   ]
  },
  {
   "cell_type": "code",
   "execution_count": 37,
   "id": "f1b56906",
   "metadata": {},
   "outputs": [
    {
     "data": {
      "text/plain": [
       "'tty'"
      ]
     },
     "execution_count": 37,
     "metadata": {},
     "output_type": "execute_result"
    }
   ],
   "source": [
    "_t"
   ]
  },
  {
   "cell_type": "code",
   "execution_count": 38,
   "id": "4a650322",
   "metadata": {},
   "outputs": [
    {
     "ename": "SyntaxError",
     "evalue": "invalid syntax (<ipython-input-38-69392ae265eb>, line 1)",
     "output_type": "error",
     "traceback": [
      "\u001b[1;36m  File \u001b[1;32m\"<ipython-input-38-69392ae265eb>\"\u001b[1;36m, line \u001b[1;32m1\u001b[0m\n\u001b[1;33m    b& =\"dr\"\u001b[0m\n\u001b[1;37m       ^\u001b[0m\n\u001b[1;31mSyntaxError\u001b[0m\u001b[1;31m:\u001b[0m invalid syntax\n"
     ]
    }
   ],
   "source": [
    "b& =\"dr\""
   ]
  },
  {
   "cell_type": "code",
   "execution_count": 39,
   "id": "dea64ac2",
   "metadata": {},
   "outputs": [],
   "source": [
    "a=1.2"
   ]
  },
  {
   "cell_type": "code",
   "execution_count": 40,
   "id": "b508002b",
   "metadata": {},
   "outputs": [
    {
     "data": {
      "text/plain": [
       "1.2"
      ]
     },
     "execution_count": 40,
     "metadata": {},
     "output_type": "execute_result"
    }
   ],
   "source": [
    "a"
   ]
  },
  {
   "cell_type": "code",
   "execution_count": 41,
   "id": "64468383",
   "metadata": {},
   "outputs": [
    {
     "data": {
      "text/plain": [
       "float"
      ]
     },
     "execution_count": 41,
     "metadata": {},
     "output_type": "execute_result"
    }
   ],
   "source": [
    "type(a)"
   ]
  },
  {
   "cell_type": "code",
   "execution_count": 42,
   "id": "d877ab57",
   "metadata": {},
   "outputs": [
    {
     "ename": "NameError",
     "evalue": "name 'true' is not defined",
     "output_type": "error",
     "traceback": [
      "\u001b[1;31m---------------------------------------------------------------------------\u001b[0m",
      "\u001b[1;31mNameError\u001b[0m                                 Traceback (most recent call last)",
      "\u001b[1;32m<ipython-input-42-ac3af15297d9>\u001b[0m in \u001b[0;36m<module>\u001b[1;34m\u001b[0m\n\u001b[1;32m----> 1\u001b[1;33m \u001b[0ma\u001b[0m\u001b[1;33m=\u001b[0m\u001b[0mtrue\u001b[0m\u001b[1;33m\u001b[0m\u001b[1;33m\u001b[0m\u001b[0m\n\u001b[0m",
      "\u001b[1;31mNameError\u001b[0m: name 'true' is not defined"
     ]
    }
   ],
   "source": [
    "a=true"
   ]
  },
  {
   "cell_type": "code",
   "execution_count": 43,
   "id": "8a9a6b8d",
   "metadata": {},
   "outputs": [],
   "source": [
    "a=True"
   ]
  },
  {
   "cell_type": "code",
   "execution_count": 44,
   "id": "d76573a0",
   "metadata": {},
   "outputs": [
    {
     "data": {
      "text/plain": [
       "bool"
      ]
     },
     "execution_count": 44,
     "metadata": {},
     "output_type": "execute_result"
    }
   ],
   "source": [
    "type(a)"
   ]
  },
  {
   "cell_type": "code",
   "execution_count": 45,
   "id": "b129fe24",
   "metadata": {},
   "outputs": [],
   "source": [
    "v=False"
   ]
  },
  {
   "cell_type": "code",
   "execution_count": 46,
   "id": "188dc725",
   "metadata": {},
   "outputs": [
    {
     "data": {
      "text/plain": [
       "False"
      ]
     },
     "execution_count": 46,
     "metadata": {},
     "output_type": "execute_result"
    }
   ],
   "source": [
    "v"
   ]
  },
  {
   "cell_type": "code",
   "execution_count": 48,
   "id": "20fd112a",
   "metadata": {},
   "outputs": [
    {
     "name": "stderr",
     "output_type": "stream",
     "text": [
      "'v' is not recognized as an internal or external command,\n",
      "operable program or batch file.\n"
     ]
    }
   ],
   "source": [
    "! v"
   ]
  },
  {
   "cell_type": "code",
   "execution_count": 49,
   "id": "bc1e470a",
   "metadata": {},
   "outputs": [
    {
     "data": {
      "text/plain": [
       "4"
      ]
     },
     "execution_count": 49,
     "metadata": {},
     "output_type": "execute_result"
    }
   ],
   "source": [
    "True + True + True + False + True "
   ]
  },
  {
   "cell_type": "code",
   "execution_count": null,
   "id": "8ff4777d",
   "metadata": {},
   "outputs": [],
   "source": []
  },
  {
   "cell_type": "code",
   "execution_count": 50,
   "id": "d5ed8236",
   "metadata": {},
   "outputs": [
    {
     "data": {
      "text/plain": [
       "0"
      ]
     },
     "execution_count": 50,
     "metadata": {},
     "output_type": "execute_result"
    }
   ],
   "source": [
    "False -True +True"
   ]
  },
  {
   "cell_type": "code",
   "execution_count": 51,
   "id": "5d016544",
   "metadata": {},
   "outputs": [
    {
     "data": {
      "text/plain": [
       "1"
      ]
     },
     "execution_count": 51,
     "metadata": {},
     "output_type": "execute_result"
    }
   ],
   "source": [
    "int(True)"
   ]
  },
  {
   "cell_type": "code",
   "execution_count": 52,
   "id": "06b79d84",
   "metadata": {},
   "outputs": [
    {
     "data": {
      "text/plain": [
       "0"
      ]
     },
     "execution_count": 52,
     "metadata": {},
     "output_type": "execute_result"
    }
   ],
   "source": [
    "int(False)"
   ]
  },
  {
   "cell_type": "code",
   "execution_count": 53,
   "id": "95bc1f3a",
   "metadata": {},
   "outputs": [
    {
     "data": {
      "text/plain": [
       "1"
      ]
     },
     "execution_count": 53,
     "metadata": {},
     "output_type": "execute_result"
    }
   ],
   "source": [
    "True * True"
   ]
  },
  {
   "cell_type": "code",
   "execution_count": 54,
   "id": "e44f1c53",
   "metadata": {},
   "outputs": [
    {
     "ename": "ZeroDivisionError",
     "evalue": "division by zero",
     "output_type": "error",
     "traceback": [
      "\u001b[1;31m---------------------------------------------------------------------------\u001b[0m",
      "\u001b[1;31mZeroDivisionError\u001b[0m                         Traceback (most recent call last)",
      "\u001b[1;32m<ipython-input-54-f8487d9d0863>\u001b[0m in \u001b[0;36m<module>\u001b[1;34m\u001b[0m\n\u001b[1;32m----> 1\u001b[1;33m \u001b[1;32mTrue\u001b[0m \u001b[1;33m/\u001b[0m \u001b[1;32mFalse\u001b[0m\u001b[1;33m\u001b[0m\u001b[1;33m\u001b[0m\u001b[0m\n\u001b[0m",
      "\u001b[1;31mZeroDivisionError\u001b[0m: division by zero"
     ]
    }
   ],
   "source": [
    "True / False"
   ]
  },
  {
   "cell_type": "code",
   "execution_count": 55,
   "id": "45bd7f18",
   "metadata": {},
   "outputs": [
    {
     "data": {
      "text/plain": [
       "0.0"
      ]
     },
     "execution_count": 55,
     "metadata": {},
     "output_type": "execute_result"
    }
   ],
   "source": [
    "False/ True"
   ]
  },
  {
   "cell_type": "code",
   "execution_count": 56,
   "id": "94dcbe8f",
   "metadata": {},
   "outputs": [
    {
     "ename": "ZeroDivisionError",
     "evalue": "division by zero",
     "output_type": "error",
     "traceback": [
      "\u001b[1;31m---------------------------------------------------------------------------\u001b[0m",
      "\u001b[1;31mZeroDivisionError\u001b[0m                         Traceback (most recent call last)",
      "\u001b[1;32m<ipython-input-56-dc4a061ec12f>\u001b[0m in \u001b[0;36m<module>\u001b[1;34m\u001b[0m\n\u001b[1;32m----> 1\u001b[1;33m \u001b[1;32mFalse\u001b[0m\u001b[1;33m/\u001b[0m\u001b[1;32mFalse\u001b[0m\u001b[1;33m\u001b[0m\u001b[1;33m\u001b[0m\u001b[0m\n\u001b[0m",
      "\u001b[1;31mZeroDivisionError\u001b[0m: division by zero"
     ]
    }
   ],
   "source": [
    "False/False"
   ]
  },
  {
   "cell_type": "code",
   "execution_count": 57,
   "id": "3a0dc7e4",
   "metadata": {},
   "outputs": [
    {
     "data": {
      "text/plain": [
       "0"
      ]
     },
     "execution_count": 57,
     "metadata": {},
     "output_type": "execute_result"
    }
   ],
   "source": [
    "False*False\n"
   ]
  },
  {
   "cell_type": "code",
   "execution_count": 58,
   "id": "410fac62",
   "metadata": {},
   "outputs": [
    {
     "data": {
      "text/plain": [
       "(1.0605752387249068e-16+1.7320508075688772j)"
      ]
     },
     "execution_count": 58,
     "metadata": {},
     "output_type": "execute_result"
    }
   ],
   "source": [
    "(-3)**0.5"
   ]
  },
  {
   "cell_type": "code",
   "execution_count": 62,
   "id": "10c93195",
   "metadata": {},
   "outputs": [],
   "source": [
    "n=1+2j"
   ]
  },
  {
   "cell_type": "code",
   "execution_count": 60,
   "id": "5e2c433d",
   "metadata": {},
   "outputs": [
    {
     "data": {
      "text/plain": [
       "complex"
      ]
     },
     "execution_count": 60,
     "metadata": {},
     "output_type": "execute_result"
    }
   ],
   "source": [
    "type(1+5j)"
   ]
  },
  {
   "cell_type": "code",
   "execution_count": 63,
   "id": "4747908a",
   "metadata": {},
   "outputs": [
    {
     "data": {
      "text/plain": [
       "1.0"
      ]
     },
     "execution_count": 63,
     "metadata": {},
     "output_type": "execute_result"
    }
   ],
   "source": [
    "n.real"
   ]
  },
  {
   "cell_type": "code",
   "execution_count": 64,
   "id": "31ed3ded",
   "metadata": {},
   "outputs": [
    {
     "ename": "TypeError",
     "evalue": "unsupported operand type(s) for +: 'int' and 'str'",
     "output_type": "error",
     "traceback": [
      "\u001b[1;31m---------------------------------------------------------------------------\u001b[0m",
      "\u001b[1;31mTypeError\u001b[0m                                 Traceback (most recent call last)",
      "\u001b[1;32m<ipython-input-64-66bc163a2d29>\u001b[0m in \u001b[0;36m<module>\u001b[1;34m\u001b[0m\n\u001b[1;32m----> 1\u001b[1;33m \u001b[1;36m1\u001b[0m \u001b[1;33m+\u001b[0m \u001b[1;34m\"Sugh\"\u001b[0m\u001b[1;33m\u001b[0m\u001b[1;33m\u001b[0m\u001b[0m\n\u001b[0m",
      "\u001b[1;31mTypeError\u001b[0m: unsupported operand type(s) for +: 'int' and 'str'"
     ]
    }
   ],
   "source": [
    "1 + \"Sugh\""
   ]
  },
  {
   "cell_type": "code",
   "execution_count": 65,
   "id": "0a35eea3",
   "metadata": {},
   "outputs": [
    {
     "data": {
      "text/plain": [
       "1"
      ]
     },
     "execution_count": 65,
     "metadata": {},
     "output_type": "execute_result"
    }
   ],
   "source": [
    "1+0"
   ]
  },
  {
   "cell_type": "code",
   "execution_count": 66,
   "id": "cd082ddf",
   "metadata": {},
   "outputs": [
    {
     "data": {
      "text/plain": [
       "'1lk'"
      ]
     },
     "execution_count": 66,
     "metadata": {},
     "output_type": "execute_result"
    }
   ],
   "source": [
    "str(1)+\"lk\""
   ]
  },
  {
   "cell_type": "code",
   "execution_count": 67,
   "id": "9c90b369",
   "metadata": {},
   "outputs": [
    {
     "data": {
      "text/plain": [
       "'1sugh'"
      ]
     },
     "execution_count": 67,
     "metadata": {},
     "output_type": "execute_result"
    }
   ],
   "source": [
    "\"1\"+'sugh'"
   ]
  },
  {
   "cell_type": "code",
   "execution_count": 68,
   "id": "bb1d76e2",
   "metadata": {},
   "outputs": [
    {
     "data": {
      "text/plain": [
       "10.08"
      ]
     },
     "execution_count": 68,
     "metadata": {},
     "output_type": "execute_result"
    }
   ],
   "source": [
    "1+9.08"
   ]
  },
  {
   "cell_type": "code",
   "execution_count": 69,
   "id": "9e9edf6b",
   "metadata": {},
   "outputs": [
    {
     "data": {
      "text/plain": [
       "'namannaman'"
      ]
     },
     "execution_count": 69,
     "metadata": {},
     "output_type": "execute_result"
    }
   ],
   "source": [
    "\"naman\"+\"naman\""
   ]
  },
  {
   "cell_type": "code",
   "execution_count": 70,
   "id": "6a0c49ff",
   "metadata": {},
   "outputs": [
    {
     "data": {
      "text/plain": [
       "'naman naman'"
      ]
     },
     "execution_count": 70,
     "metadata": {},
     "output_type": "execute_result"
    }
   ],
   "source": [
    "\"naman\"+\" \"+\"naman\""
   ]
  },
  {
   "cell_type": "code",
   "execution_count": 71,
   "id": "2979b3e0",
   "metadata": {},
   "outputs": [
    {
     "data": {
      "text/plain": [
       "'namannamannamannamannamannamannamannamannamannaman'"
      ]
     },
     "execution_count": 71,
     "metadata": {},
     "output_type": "execute_result"
    }
   ],
   "source": [
    "\"naman\"*10"
   ]
  },
  {
   "cell_type": "code",
   "execution_count": 72,
   "id": "02e5ad37",
   "metadata": {},
   "outputs": [
    {
     "ename": "TypeError",
     "evalue": "can't multiply sequence by non-int of type 'str'",
     "output_type": "error",
     "traceback": [
      "\u001b[1;31m---------------------------------------------------------------------------\u001b[0m",
      "\u001b[1;31mTypeError\u001b[0m                                 Traceback (most recent call last)",
      "\u001b[1;32m<ipython-input-72-2d185fa3574d>\u001b[0m in \u001b[0;36m<module>\u001b[1;34m\u001b[0m\n\u001b[1;32m----> 1\u001b[1;33m \u001b[1;34m\"naman\"\u001b[0m\u001b[1;33m*\u001b[0m\u001b[1;34m\"nm\"\u001b[0m\u001b[1;33m\u001b[0m\u001b[1;33m\u001b[0m\u001b[0m\n\u001b[0m",
      "\u001b[1;31mTypeError\u001b[0m: can't multiply sequence by non-int of type 'str'"
     ]
    }
   ],
   "source": [
    "\"naman\"*\"nm\""
   ]
  },
  {
   "cell_type": "code",
   "execution_count": 73,
   "id": "a627c8de",
   "metadata": {},
   "outputs": [
    {
     "ename": "TypeError",
     "evalue": "can't multiply sequence by non-int of type 'str'",
     "output_type": "error",
     "traceback": [
      "\u001b[1;31m---------------------------------------------------------------------------\u001b[0m",
      "\u001b[1;31mTypeError\u001b[0m                                 Traceback (most recent call last)",
      "\u001b[1;32m<ipython-input-73-4c9654e4aaf1>\u001b[0m in \u001b[0;36m<module>\u001b[1;34m\u001b[0m\n\u001b[1;32m----> 1\u001b[1;33m \u001b[1;34m\"1\"\u001b[0m\u001b[1;33m*\u001b[0m\u001b[1;34m\"3\"\u001b[0m\u001b[1;33m\u001b[0m\u001b[1;33m\u001b[0m\u001b[0m\n\u001b[0m",
      "\u001b[1;31mTypeError\u001b[0m: can't multiply sequence by non-int of type 'str'"
     ]
    }
   ],
   "source": [
    "\"1\"*\"3\""
   ]
  },
  {
   "cell_type": "code",
   "execution_count": 74,
   "id": "dae23f5b",
   "metadata": {},
   "outputs": [
    {
     "name": "stdout",
     "output_type": "stream",
     "text": [
      "Enter the number4\n"
     ]
    }
   ],
   "source": [
    "a=input(\"Enter the number\")"
   ]
  },
  {
   "cell_type": "code",
   "execution_count": 75,
   "id": "9602c34a",
   "metadata": {},
   "outputs": [
    {
     "data": {
      "text/plain": [
       "'4'"
      ]
     },
     "execution_count": 75,
     "metadata": {},
     "output_type": "execute_result"
    }
   ],
   "source": [
    "a"
   ]
  },
  {
   "cell_type": "code",
   "execution_count": 76,
   "id": "7ab2b0fd",
   "metadata": {},
   "outputs": [
    {
     "data": {
      "text/plain": [
       "str"
      ]
     },
     "execution_count": 76,
     "metadata": {},
     "output_type": "execute_result"
    }
   ],
   "source": [
    "type(a)"
   ]
  },
  {
   "cell_type": "code",
   "execution_count": 77,
   "id": "ea73a9ed",
   "metadata": {},
   "outputs": [],
   "source": [
    "b=float(a)"
   ]
  },
  {
   "cell_type": "code",
   "execution_count": 78,
   "id": "08dd76c1",
   "metadata": {},
   "outputs": [
    {
     "data": {
      "text/plain": [
       "4.0"
      ]
     },
     "execution_count": 78,
     "metadata": {},
     "output_type": "execute_result"
    }
   ],
   "source": [
    "b"
   ]
  },
  {
   "cell_type": "code",
   "execution_count": 79,
   "id": "5fabf48b",
   "metadata": {},
   "outputs": [
    {
     "name": "stdout",
     "output_type": "stream",
     "text": [
      "2\n",
      "3\n",
      "4\n"
     ]
    },
    {
     "ename": "TypeError",
     "evalue": "unsupported operand type(s) for +: 'complex' and 'str'",
     "output_type": "error",
     "traceback": [
      "\u001b[1;31m---------------------------------------------------------------------------\u001b[0m",
      "\u001b[1;31mTypeError\u001b[0m                                 Traceback (most recent call last)",
      "\u001b[1;32m<ipython-input-79-bb1a9bbe4176>\u001b[0m in \u001b[0;36m<module>\u001b[1;34m\u001b[0m\n\u001b[0;32m      4\u001b[0m \u001b[0mo1\u001b[0m\u001b[1;33m=\u001b[0m\u001b[1;33m(\u001b[0m\u001b[0mint\u001b[0m\u001b[1;33m(\u001b[0m\u001b[0ma\u001b[0m\u001b[1;33m)\u001b[0m\u001b[1;33m+\u001b[0m\u001b[0mint\u001b[0m\u001b[1;33m(\u001b[0m\u001b[0mb\u001b[0m\u001b[1;33m)\u001b[0m\u001b[1;33m)\u001b[0m\u001b[1;33m/\u001b[0m\u001b[0mint\u001b[0m\u001b[1;33m(\u001b[0m\u001b[0mc\u001b[0m\u001b[1;33m)\u001b[0m\u001b[1;33m\u001b[0m\u001b[1;33m\u001b[0m\u001b[0m\n\u001b[0;32m      5\u001b[0m \u001b[0mo2\u001b[0m\u001b[1;33m=\u001b[0m\u001b[0mo1\u001b[0m\u001b[1;33m+\u001b[0m\u001b[1;36m1\u001b[0m\u001b[1;33m+\u001b[0m\u001b[1;36m3j\u001b[0m\u001b[1;33m\u001b[0m\u001b[1;33m\u001b[0m\u001b[0m\n\u001b[1;32m----> 6\u001b[1;33m \u001b[0mo2\u001b[0m\u001b[1;33m+\u001b[0m\u001b[1;34m\"Naman\"\u001b[0m\u001b[1;33m\u001b[0m\u001b[1;33m\u001b[0m\u001b[0m\n\u001b[0m",
      "\u001b[1;31mTypeError\u001b[0m: unsupported operand type(s) for +: 'complex' and 'str'"
     ]
    }
   ],
   "source": [
    "a=input()\n",
    "b=input()\n",
    "c=input()\n",
    "o1=(int(a)+int(b))/int(c)\n",
    "o2=o1+1+3j\n",
    "o2+\"Naman\""
   ]
  },
  {
   "cell_type": "code",
   "execution_count": 80,
   "id": "f8fba22d",
   "metadata": {},
   "outputs": [
    {
     "data": {
      "text/plain": [
       "(2.25+3j)"
      ]
     },
     "execution_count": 80,
     "metadata": {},
     "output_type": "execute_result"
    }
   ],
   "source": [
    "o2"
   ]
  },
  {
   "cell_type": "code",
   "execution_count": 81,
   "id": "b5a9d5c1",
   "metadata": {},
   "outputs": [
    {
     "ename": "TypeError",
     "evalue": "unsupported operand type(s) for +: 'complex' and 'str'",
     "output_type": "error",
     "traceback": [
      "\u001b[1;31m---------------------------------------------------------------------------\u001b[0m",
      "\u001b[1;31mTypeError\u001b[0m                                 Traceback (most recent call last)",
      "\u001b[1;32m<ipython-input-81-9e0f123f2e57>\u001b[0m in \u001b[0;36m<module>\u001b[1;34m\u001b[0m\n\u001b[1;32m----> 1\u001b[1;33m \u001b[0mo2\u001b[0m \u001b[1;33m+\u001b[0m \u001b[1;34m\"s\"\u001b[0m\u001b[1;33m\u001b[0m\u001b[1;33m\u001b[0m\u001b[0m\n\u001b[0m",
      "\u001b[1;31mTypeError\u001b[0m: unsupported operand type(s) for +: 'complex' and 'str'"
     ]
    }
   ],
   "source": [
    "o2 + \"s\""
   ]
  },
  {
   "cell_type": "code",
   "execution_count": 82,
   "id": "44b3ec05",
   "metadata": {},
   "outputs": [
    {
     "ename": "TypeError",
     "evalue": "unsupported operand type(s) for +: 'complex' and 'str'",
     "output_type": "error",
     "traceback": [
      "\u001b[1;31m---------------------------------------------------------------------------\u001b[0m",
      "\u001b[1;31mTypeError\u001b[0m                                 Traceback (most recent call last)",
      "\u001b[1;32m<ipython-input-82-df8fbce035c0>\u001b[0m in \u001b[0;36m<module>\u001b[1;34m\u001b[0m\n\u001b[1;32m----> 1\u001b[1;33m \u001b[1;36m5j\u001b[0m\u001b[1;33m+\u001b[0m\u001b[1;34m\"k\"\u001b[0m\u001b[1;33m\u001b[0m\u001b[1;33m\u001b[0m\u001b[0m\n\u001b[0m",
      "\u001b[1;31mTypeError\u001b[0m: unsupported operand type(s) for +: 'complex' and 'str'"
     ]
    }
   ],
   "source": [
    "5j+\"k\""
   ]
  },
  {
   "cell_type": "code",
   "execution_count": 83,
   "id": "34281ede",
   "metadata": {},
   "outputs": [
    {
     "data": {
      "text/plain": [
       "'(2.25+3j)ssud'"
      ]
     },
     "execution_count": 83,
     "metadata": {},
     "output_type": "execute_result"
    }
   ],
   "source": [
    "str(o2)+\"ssud\""
   ]
  },
  {
   "cell_type": "code",
   "execution_count": 84,
   "id": "45a82f8f",
   "metadata": {},
   "outputs": [],
   "source": [
    "## conditional Statements"
   ]
  },
  {
   "cell_type": "code",
   "execution_count": 85,
   "id": "223f2162",
   "metadata": {},
   "outputs": [],
   "source": [
    "a= 34"
   ]
  },
  {
   "cell_type": "code",
   "execution_count": 86,
   "id": "3e6a5074",
   "metadata": {},
   "outputs": [
    {
     "name": "stdout",
     "output_type": "stream",
     "text": [
      "hello\n"
     ]
    }
   ],
   "source": [
    "if a == 34:\n",
    "    print(\"hello\")"
   ]
  },
  {
   "cell_type": "code",
   "execution_count": 1,
   "id": "e5d16d56",
   "metadata": {},
   "outputs": [
    {
     "name": "stdout",
     "output_type": "stream",
     "text": [
      "Input number less than 3 --1\n"
     ]
    }
   ],
   "source": [
    "a=int(input(\"Input number less than 3 --\"))"
   ]
  },
  {
   "cell_type": "code",
   "execution_count": 2,
   "id": "cea133e5",
   "metadata": {},
   "outputs": [
    {
     "data": {
      "text/plain": [
       "1"
      ]
     },
     "execution_count": 2,
     "metadata": {},
     "output_type": "execute_result"
    }
   ],
   "source": [
    "a"
   ]
  },
  {
   "cell_type": "code",
   "execution_count": 3,
   "id": "968deb4e",
   "metadata": {},
   "outputs": [
    {
     "name": "stdout",
     "output_type": "stream",
     "text": [
      "Hurray\n"
     ]
    }
   ],
   "source": [
    "if a <3:\n",
    "    print(\"Hurray\")"
   ]
  },
  {
   "cell_type": "code",
   "execution_count": 4,
   "id": "54316036",
   "metadata": {},
   "outputs": [],
   "source": [
    "if a ==0: \n",
    "    pass"
   ]
  },
  {
   "cell_type": "code",
   "execution_count": 5,
   "id": "11dae9e8",
   "metadata": {},
   "outputs": [
    {
     "ename": "SyntaxError",
     "evalue": "unexpected EOF while parsing (<ipython-input-5-e5e463f02b03>, line 2)",
     "output_type": "error",
     "traceback": [
      "\u001b[1;36m  File \u001b[1;32m\"<ipython-input-5-e5e463f02b03>\"\u001b[1;36m, line \u001b[1;32m2\u001b[0m\n\u001b[1;33m    \u001b[0m\n\u001b[1;37m    ^\u001b[0m\n\u001b[1;31mSyntaxError\u001b[0m\u001b[1;31m:\u001b[0m unexpected EOF while parsing\n"
     ]
    }
   ],
   "source": [
    "if a ==0:\n",
    "    "
   ]
  },
  {
   "cell_type": "code",
   "execution_count": 6,
   "id": "438c00ad",
   "metadata": {},
   "outputs": [],
   "source": [
    "a=10"
   ]
  },
  {
   "cell_type": "code",
   "execution_count": 7,
   "id": "8065ea28",
   "metadata": {},
   "outputs": [
    {
     "name": "stdout",
     "output_type": "stream",
     "text": [
      "heubf\n"
     ]
    }
   ],
   "source": [
    "if a <=10:\n",
    "    print(\"heubf\")"
   ]
  },
  {
   "cell_type": "code",
   "execution_count": 8,
   "id": "255640e4",
   "metadata": {},
   "outputs": [
    {
     "name": "stdout",
     "output_type": "stream",
     "text": [
      "enter a number1\n",
      "Number is less than 10\n"
     ]
    }
   ],
   "source": [
    "a=int(input(\"enter a number\"))\n",
    "if a<=10:\n",
    "    print(\"Number is less than 10\")"
   ]
  },
  {
   "cell_type": "code",
   "execution_count": 11,
   "id": "a085fecc",
   "metadata": {},
   "outputs": [
    {
     "name": "stdout",
     "output_type": "stream",
     "text": [
      "enter a number19\n",
      "no. btw 10 and 20\n"
     ]
    }
   ],
   "source": [
    "a=int(input(\"enter a number\"))\n",
    "if a<10:\n",
    "    print(\"Number is less than 10\")\n",
    "elif a>=10 and a<=20:\n",
    "    print(\"no. btw 10 and 20\")\n",
    "else:\n",
    "    print(\"no its greater than 10\")"
   ]
  },
  {
   "cell_type": "code",
   "execution_count": 14,
   "id": "459d86c4",
   "metadata": {},
   "outputs": [
    {
     "name": "stdout",
     "output_type": "stream",
     "text": [
      "Enter your salary5000\n",
      "Your Salary is good\n",
      "7000.0\n"
     ]
    }
   ],
   "source": [
    "salary=int(input(\"Enter your salary\"))\n",
    "if salary >1000:\n",
    "    print(\"Your Salary is good\")\n",
    "    if salary >=5000:\n",
    "        salary=salary *1.4\n",
    "        print(salary)\n",
    "    else:\n",
    "        salary=salary*1.1\n",
    "        print(salary)\n",
    "elif salary>500:\n",
    "    print(\"Will buy bike\")\n",
    "else:\n",
    "    print(\"wont buy anything\")"
   ]
  },
  {
   "cell_type": "code",
   "execution_count": 15,
   "id": "bbfc0adb",
   "metadata": {},
   "outputs": [
    {
     "name": "stdout",
     "output_type": "stream",
     "text": [
      "Enter your salary3000\n",
      "Your Salary is good\n",
      "3300.0000000000005\n"
     ]
    }
   ],
   "source": [
    "salary=int(input(\"Enter your salary\"))\n",
    "if salary >1000:\n",
    "    print(\"Your Salary is good\")\n",
    "    if salary >=5000:\n",
    "        salary=salary *1.4\n",
    "        print(salary)\n",
    "    else:\n",
    "        salary=salary*1.1\n",
    "        print(salary)\n",
    "elif salary>500:\n",
    "    print(\"Will buy bike\")\n",
    "else:\n",
    "    print(\"wont buy anything\")"
   ]
  },
  {
   "cell_type": "code",
   "execution_count": null,
   "id": "1e33441f",
   "metadata": {},
   "outputs": [],
   "source": []
  }
 ],
 "metadata": {
  "kernelspec": {
   "display_name": "Python 3",
   "language": "python",
   "name": "python3"
  },
  "language_info": {
   "codemirror_mode": {
    "name": "ipython",
    "version": 3
   },
   "file_extension": ".py",
   "mimetype": "text/x-python",
   "name": "python",
   "nbconvert_exporter": "python",
   "pygments_lexer": "ipython3",
   "version": "3.8.8"
  }
 },
 "nbformat": 4,
 "nbformat_minor": 5
}
