{
 "cells": [
  {
   "cell_type": "code",
   "execution_count": 1,
   "id": "aab9a929",
   "metadata": {},
   "outputs": [],
   "source": [
    "# Tkinter class for GUI Programming  --> Graphical User Interface"
   ]
  },
  {
   "cell_type": "code",
   "execution_count": 2,
   "id": "bfaa1270",
   "metadata": {},
   "outputs": [
    {
     "name": "stderr",
     "output_type": "stream",
     "text": [
      "ERROR: Could not find a version that satisfies the requirement tkinter\n",
      "ERROR: No matching distribution found for tkinter\n"
     ]
    }
   ],
   "source": [
    "!pip install tkinter"
   ]
  },
  {
   "cell_type": "code",
   "execution_count": 3,
   "id": "f003ab0e",
   "metadata": {},
   "outputs": [],
   "source": [
    "import tkinter as tk\n",
    "import tkinter.ttk as ttk "
   ]
  },
  {
   "cell_type": "code",
   "execution_count": 4,
   "id": "0c831ec8",
   "metadata": {},
   "outputs": [],
   "source": [
    "window=tk.Tk() #Window foundational element of tkinter which holds all other elements of the "
   ]
  },
  {
   "cell_type": "code",
   "execution_count": 5,
   "id": "7c9df1fd",
   "metadata": {},
   "outputs": [],
   "source": [
    "greeting =tk.Label(text=\"Hello this is my first GUI Programming\") # Widget they live inside the containers, Label is a widget\n",
    "greeting =tk.Label(text=\"Hello this is second line\")\n",
    "greeting.pack()"
   ]
  },
  {
   "cell_type": "code",
   "execution_count": 6,
   "id": "a394e14d",
   "metadata": {},
   "outputs": [],
   "source": [
    "window.mainloop()"
   ]
  },
  {
   "cell_type": "code",
   "execution_count": 7,
   "id": "c8799d79",
   "metadata": {},
   "outputs": [],
   "source": [
    "# 2nd Example"
   ]
  },
  {
   "cell_type": "code",
   "execution_count": 8,
   "id": "8220d15f",
   "metadata": {},
   "outputs": [],
   "source": [
    "window= tk.Tk()\n",
    "text1=tk.Label(text=\"Python Rock!\")\n",
    "text1.pack()\n",
    "window.mainloop()"
   ]
  },
  {
   "cell_type": "code",
   "execution_count": 9,
   "id": "d890f6cb",
   "metadata": {},
   "outputs": [],
   "source": [
    "###  Foreground--> Text color, Background--> Background color\n",
    "window=tk.Tk()\n",
    "label=tk.Label(text=\"Hello World!\",fg=\"white\", bg=\"black\")\n",
    "label.pack()\n",
    "window.mainloop()"
   ]
  },
  {
   "cell_type": "code",
   "execution_count": 10,
   "id": "26af8fcd",
   "metadata": {},
   "outputs": [],
   "source": [
    "###  Foreground--> Text color, Background--> Background color\n",
    "window=tk.Tk()\n",
    "label=tk.Label(text=\"Hello World!\",fg=\"green\", bg=\"red\")\n",
    "label.pack()\n",
    "window.mainloop()"
   ]
  },
  {
   "cell_type": "code",
   "execution_count": 11,
   "id": "c05c4641",
   "metadata": {},
   "outputs": [],
   "source": [
    "###  Foreground--> Text color, Background--> Background color, Height , Width\n",
    "window=tk.Tk()\n",
    "label=tk.Label(text=\"Hello World!\",fg=\"white\", bg=\"black\",width=50,height=40)\n",
    "label.pack()\n",
    "window.mainloop()"
   ]
  },
  {
   "cell_type": "code",
   "execution_count": 12,
   "id": "b8bf84e2",
   "metadata": {},
   "outputs": [],
   "source": [
    "### Button Widgets\n",
    "button = tk.Button(text=\"Click me\")\n",
    "button.pack()\n",
    "window.mainloop()"
   ]
  },
  {
   "cell_type": "code",
   "execution_count": 13,
   "id": "15e198d5",
   "metadata": {},
   "outputs": [],
   "source": [
    "## Button Widgets\n",
    "button=tk.Button(text=\"click me\", height=10,width=10,bg=\"red\",fg=\"white\")\n",
    "button.pack()\n",
    "window.mainloop()"
   ]
  },
  {
   "cell_type": "code",
   "execution_count": 14,
   "id": "6759b271",
   "metadata": {},
   "outputs": [],
   "source": [
    "# User input\n",
    "\n",
    "entry=tk.Entry(fg=\"black\",bg=\"white\",width=30)\n",
    "entry.pack()\n",
    "window.mainloop()"
   ]
  },
  {
   "cell_type": "code",
   "execution_count": 15,
   "id": "e2880029",
   "metadata": {},
   "outputs": [
    {
     "ename": "TypeError",
     "evalue": "insert() takes 3 positional arguments but 4 were given",
     "output_type": "error",
     "traceback": [
      "\u001b[1;31m---------------------------------------------------------------------------\u001b[0m",
      "\u001b[1;31mTypeError\u001b[0m                                 Traceback (most recent call last)",
      "Cell \u001b[1;32mIn[15], line 8\u001b[0m\n\u001b[0;32m      6\u001b[0m entry\u001b[38;5;241m.\u001b[39mpack()\n\u001b[0;32m      7\u001b[0m window\u001b[38;5;241m.\u001b[39mmainloop()\n\u001b[1;32m----> 8\u001b[0m \u001b[43mentry\u001b[49m\u001b[38;5;241;43m.\u001b[39;49m\u001b[43minsert\u001b[49m\u001b[43m(\u001b[49m\u001b[43mtk\u001b[49m\u001b[43m,\u001b[49m\u001b[38;5;241;43m4\u001b[39;49m\u001b[43m,\u001b[49m\u001b[38;5;124;43m\"\u001b[39;49m\u001b[38;5;124;43mHello\u001b[39;49m\u001b[38;5;124;43m\"\u001b[39;49m\u001b[43m)\u001b[49m\n",
      "\u001b[1;31mTypeError\u001b[0m: insert() takes 3 positional arguments but 4 were given"
     ]
    }
   ],
   "source": [
    "# Label and User Input\n",
    "\n",
    "label=tk.Label(text=\"Enter your Name\")\n",
    "entry=ttk.Entry()\n",
    "label.pack()\n",
    "entry.pack()\n",
    "window.mainloop()\n",
    "entry.insert(tk,4,\"Hello\")"
   ]
  },
  {
   "cell_type": "code",
   "execution_count": null,
   "id": "aa508395",
   "metadata": {},
   "outputs": [],
   "source": [
    "entry.insert(4,\"Hello\")"
   ]
  },
  {
   "cell_type": "code",
   "execution_count": 25,
   "id": "6e1c1006",
   "metadata": {},
   "outputs": [],
   "source": [
    "# Label and User Input\n",
    "text=tk.Text()\n",
    "text.pack()\n",
    "a=text.get(\"1.0\",tk.END)\n",
    "window.mainloop()"
   ]
  },
  {
   "cell_type": "code",
   "execution_count": null,
   "id": "2903eaf2",
   "metadata": {},
   "outputs": [],
   "source": []
  },
  {
   "cell_type": "code",
   "execution_count": 29,
   "id": "90ca36bf",
   "metadata": {},
   "outputs": [],
   "source": [
    "## Frame Widget\n",
    "\n",
    "import tkinter as tk\n",
    "window=tk.Tk()\n",
    "frame=tk.Frame()\n",
    "text=tk.Label(text=\"Hello\",master=frame)\n",
    "text.pack()\n",
    "frame.pack()\n",
    "\n",
    "window.mainloop()"
   ]
  },
  {
   "cell_type": "code",
   "execution_count": 30,
   "id": "227efb87",
   "metadata": {},
   "outputs": [],
   "source": [
    "## Order of the frame matters\n",
    "\n",
    "window=tk.Tk()\n",
    "frame_1=tk.Frame()\n",
    "frame_2=tk.Frame()\n",
    "\n",
    "\n",
    "label_1=tk.Label(text=\"Hello\",master=frame_1)\n",
    "label_1.pack()\n",
    "\n",
    "\n",
    "label_2=tk.Label(text=\"Hello Naman\",master=frame_2)\n",
    "label_2.pack()\n",
    "\n",
    "frame_1.pack()\n",
    "frame_2.pack()\n",
    "\n",
    "window.mainloop()"
   ]
  },
  {
   "cell_type": "code",
   "execution_count": 31,
   "id": "ca4be6de",
   "metadata": {},
   "outputs": [],
   "source": [
    "## Order of the frame matters\n",
    "\n",
    "window=tk.Tk()\n",
    "frame_1=tk.Frame()\n",
    "frame_2=tk.Frame()\n",
    "\n",
    "\n",
    "label_1=tk.Label(text=\"Hello\",master=frame_1)\n",
    "label_1.pack()\n",
    "\n",
    "\n",
    "label_2=tk.Label(text=\"Hello Naman\",master=frame_2)\n",
    "label_2.pack()\n",
    "\n",
    "frame_2.pack()\n",
    "frame_1.pack()\n",
    "\n",
    "\n",
    "window.mainloop()"
   ]
  },
  {
   "cell_type": "code",
   "execution_count": null,
   "id": "b29e55d6",
   "metadata": {},
   "outputs": [],
   "source": []
  }
 ],
 "metadata": {
  "kernelspec": {
   "display_name": "Python 3",
   "language": "python",
   "name": "python3"
  },
  "language_info": {
   "codemirror_mode": {
    "name": "ipython",
    "version": 3
   },
   "file_extension": ".py",
   "mimetype": "text/x-python",
   "name": "python",
   "nbconvert_exporter": "python",
   "pygments_lexer": "ipython3",
   "version": "3.8.8"
  }
 },
 "nbformat": 4,
 "nbformat_minor": 5
}
