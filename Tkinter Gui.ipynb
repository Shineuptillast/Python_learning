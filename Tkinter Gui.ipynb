{
 "cells": [
  {
   "cell_type": "code",
   "execution_count": 1,
   "id": "5b69aa8e",
   "metadata": {},
   "outputs": [],
   "source": [
    "# Tkinter class for GUI Programming  --> Graphical User Interface"
   ]
  },
  {
   "cell_type": "code",
   "execution_count": 2,
   "id": "b40d16a1",
   "metadata": {},
   "outputs": [
    {
     "name": "stderr",
     "output_type": "stream",
     "text": [
      "ERROR: Could not find a version that satisfies the requirement tkinter\n",
      "ERROR: No matching distribution found for tkinter\n"
     ]
    }
   ],
   "source": [
    "!pip install tkinter"
   ]
  },
  {
   "cell_type": "code",
   "execution_count": 3,
   "id": "a4bf2c0d",
   "metadata": {},
   "outputs": [],
   "source": [
    "import tkinter as tk\n",
    "import tkinter.ttk as ttk "
   ]
  },
  {
   "cell_type": "code",
   "execution_count": 4,
   "id": "0bb420c2",
   "metadata": {},
   "outputs": [],
   "source": [
    "window=tk.Tk() #Window foundational element of tkinter which holds all other elements of the "
   ]
  },
  {
   "cell_type": "code",
   "execution_count": 5,
   "id": "a52479cf",
   "metadata": {},
   "outputs": [],
   "source": [
    "greeting =tk.Label(text=\"Hello this is my first GUI Programming\") # Widget they live inside the containers, Label is a widget\n",
    "greeting =tk.Label(text=\"Hello this is second line\")\n",
    "greeting.pack()"
   ]
  },
  {
   "cell_type": "code",
   "execution_count": 6,
   "id": "77e8e5f9",
   "metadata": {},
   "outputs": [],
   "source": [
    "window.mainloop()"
   ]
  },
  {
   "cell_type": "code",
   "execution_count": 7,
   "id": "e48d7455",
   "metadata": {},
   "outputs": [],
   "source": [
    "# 2nd Example"
   ]
  },
  {
   "cell_type": "code",
   "execution_count": 8,
   "id": "2355b663",
   "metadata": {},
   "outputs": [],
   "source": [
    "window= tk.Tk()\n",
    "text1=tk.Label(text=\"Python Rock!\")\n",
    "text1.pack()\n",
    "window.mainloop()"
   ]
  },
  {
   "cell_type": "code",
   "execution_count": 9,
   "id": "6e70b109",
   "metadata": {},
   "outputs": [],
   "source": [
    "###  Foreground--> Text color, Background--> Background color\n",
    "window=tk.Tk()\n",
    "label=tk.Label(text=\"Hello World!\",fg=\"white\", bg=\"black\")\n",
    "label.pack()\n",
    "window.mainloop()"
   ]
  },
  {
   "cell_type": "code",
   "execution_count": 10,
   "id": "c7b27c08",
   "metadata": {},
   "outputs": [],
   "source": [
    "###  Foreground--> Text color, Background--> Background color\n",
    "window=tk.Tk()\n",
    "label=tk.Label(text=\"Hello World!\",fg=\"green\", bg=\"red\")\n",
    "label.pack()\n",
    "window.mainloop()"
   ]
  },
  {
   "cell_type": "code",
   "execution_count": 11,
   "id": "a7a1dc0e",
   "metadata": {},
   "outputs": [],
   "source": [
    "###  Foreground--> Text color, Background--> Background color, Height , Width\n",
    "window=tk.Tk()\n",
    "label=tk.Label(text=\"Hello World!\",fg=\"white\", bg=\"black\",width=50,height=40)\n",
    "label.pack()\n",
    "window.mainloop()"
   ]
  },
  {
   "cell_type": "code",
   "execution_count": 12,
   "id": "f204c516",
   "metadata": {},
   "outputs": [],
   "source": [
    "### Button Widgets\n",
    "button = tk.Button(text=\"Click me\")\n",
    "button.pack()\n",
    "window.mainloop()"
   ]
  },
  {
   "cell_type": "code",
   "execution_count": 13,
   "id": "366482f2",
   "metadata": {},
   "outputs": [],
   "source": [
    "## Button Widgets\n",
    "button=tk.Button(text=\"click me\", height=10,width=10,bg=\"red\",fg=\"white\")\n",
    "button.pack()\n",
    "window.mainloop()"
   ]
  },
  {
   "cell_type": "code",
   "execution_count": 14,
   "id": "4fc870cc",
   "metadata": {},
   "outputs": [],
   "source": [
    "# User input\n",
    "\n",
    "entry=tk.Entry(fg=\"black\",bg=\"white\",width=30)\n",
    "entry.pack()\n",
    "window.mainloop()"
   ]
  },
  {
   "cell_type": "code",
   "execution_count": 15,
   "id": "0474b329",
   "metadata": {},
   "outputs": [
    {
     "ename": "TypeError",
     "evalue": "insert() takes 3 positional arguments but 4 were given",
     "output_type": "error",
     "traceback": [
      "\u001b[1;31m---------------------------------------------------------------------------\u001b[0m",
      "\u001b[1;31mTypeError\u001b[0m                                 Traceback (most recent call last)",
      "Cell \u001b[1;32mIn[15], line 8\u001b[0m\n\u001b[0;32m      6\u001b[0m entry\u001b[38;5;241m.\u001b[39mpack()\n\u001b[0;32m      7\u001b[0m window\u001b[38;5;241m.\u001b[39mmainloop()\n\u001b[1;32m----> 8\u001b[0m \u001b[43mentry\u001b[49m\u001b[38;5;241;43m.\u001b[39;49m\u001b[43minsert\u001b[49m\u001b[43m(\u001b[49m\u001b[43mtk\u001b[49m\u001b[43m,\u001b[49m\u001b[38;5;241;43m4\u001b[39;49m\u001b[43m,\u001b[49m\u001b[38;5;124;43m\"\u001b[39;49m\u001b[38;5;124;43mHello\u001b[39;49m\u001b[38;5;124;43m\"\u001b[39;49m\u001b[43m)\u001b[49m\n",
      "\u001b[1;31mTypeError\u001b[0m: insert() takes 3 positional arguments but 4 were given"
     ]
    }
   ],
   "source": [
    "# Label and User Input\n",
    "\n",
    "label=tk.Label(text=\"Enter your Name\")\n",
    "entry=ttk.Entry()\n",
    "label.pack()\n",
    "entry.pack()\n",
    "window.mainloop()\n",
    "entry.insert(tk,4,\"Hello\")"
   ]
  },
  {
   "cell_type": "code",
   "execution_count": null,
   "id": "f92f6d05",
   "metadata": {},
   "outputs": [],
   "source": [
    "entry.insert(4,\"Hello\")"
   ]
  },
  {
   "cell_type": "code",
   "execution_count": 25,
   "id": "ba0533b8",
   "metadata": {},
   "outputs": [],
   "source": [
    "# Label and User Input\n",
    "text=tk.Text()\n",
    "text.pack()\n",
    "a=text.get(\"1.0\",tk.END)\n",
    "window.mainloop()"
   ]
  },
  {
   "cell_type": "code",
   "execution_count": null,
   "id": "9e0874aa",
   "metadata": {},
   "outputs": [],
   "source": []
  },
  {
   "cell_type": "code",
   "execution_count": 29,
   "id": "5158c7a5",
   "metadata": {},
   "outputs": [],
   "source": [
    "## Frame Widget\n",
    "\n",
    "import tkinter as tk\n",
    "window=tk.Tk()\n",
    "frame=tk.Frame()\n",
    "text=tk.Label(text=\"Hello\",master=frame)\n",
    "text.pack()\n",
    "frame.pack()\n",
    "\n",
    "window.mainloop()"
   ]
  },
  {
   "cell_type": "code",
   "execution_count": 30,
   "id": "ba25970b",
   "metadata": {},
   "outputs": [],
   "source": [
    "## Order of the frame matters\n",
    "\n",
    "window=tk.Tk()\n",
    "frame_1=tk.Frame()\n",
    "frame_2=tk.Frame()\n",
    "\n",
    "\n",
    "label_1=tk.Label(text=\"Hello\",master=frame_1)\n",
    "label_1.pack()\n",
    "\n",
    "\n",
    "label_2=tk.Label(text=\"Hello Naman\",master=frame_2)\n",
    "label_2.pack()\n",
    "\n",
    "frame_1.pack()\n",
    "frame_2.pack()\n",
    "\n",
    "window.mainloop()"
   ]
  },
  {
   "cell_type": "code",
   "execution_count": 31,
   "id": "2a3c1913",
   "metadata": {},
   "outputs": [],
   "source": [
    "## Order of the frame matters\n",
    "\n",
    "window=tk.Tk()\n",
    "frame_1=tk.Frame()\n",
    "frame_2=tk.Frame()\n",
    "\n",
    "\n",
    "label_1=tk.Label(text=\"Hello\",master=frame_1)\n",
    "label_1.pack()\n",
    "\n",
    "\n",
    "label_2=tk.Label(text=\"Hello Naman\",master=frame_2)\n",
    "label_2.pack()\n",
    "\n",
    "frame_2.pack()\n",
    "frame_1.pack()\n",
    "\n",
    "\n",
    "window.mainloop()"
   ]
  },
  {
   "cell_type": "code",
   "execution_count": 37,
   "id": "93418e07",
   "metadata": {},
   "outputs": [],
   "source": [
    "## \n",
    "import tkinter as tk\n",
    "\n",
    "window=tk.Tk()\n",
    "entry=tk.Entry(width=40,bg=\"white\",fg=\"black\")\n",
    "entry.pack()\n",
    "\n",
    "entry.insert(0,\"What is your name?\")\n",
    "entry.delete(5)\n",
    "f=entry.get()\n",
    "window.mainloop()"
   ]
  },
  {
   "cell_type": "code",
   "execution_count": 38,
   "id": "6a130604",
   "metadata": {},
   "outputs": [
    {
     "data": {
      "text/plain": [
       "'What s your name?'"
      ]
     },
     "execution_count": 38,
     "metadata": {},
     "output_type": "execute_result"
    }
   ],
   "source": [
    "f"
   ]
  },
  {
   "cell_type": "code",
   "execution_count": null,
   "id": "76acbcbe",
   "metadata": {},
   "outputs": [],
   "source": []
  }
 ],
 "metadata": {
  "kernelspec": {
   "display_name": "Python 3",
   "language": "python",
   "name": "python3"
  },
  "language_info": {
   "codemirror_mode": {
    "name": "ipython",
    "version": 3
   },
   "file_extension": ".py",
   "mimetype": "text/x-python",
   "name": "python",
   "nbconvert_exporter": "python",
   "pygments_lexer": "ipython3",
   "version": "3.8.8"
  }
 },
 "nbformat": 4,
 "nbformat_minor": 5
}
