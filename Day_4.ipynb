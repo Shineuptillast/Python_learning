{
 "cells": [
  {
   "cell_type": "code",
   "execution_count": 1,
   "id": "5084aa7c",
   "metadata": {},
   "outputs": [
    {
     "name": "stdout",
     "output_type": "stream",
     "text": [
      "1\n",
      "2\n",
      "3\n",
      "4\n",
      "No 10 Rs notes is available\n"
     ]
    }
   ],
   "source": [
    "notes=5\n",
    "i=1\n",
    "while i < notes :\n",
    "    print(i)\n",
    "    i=i+1\n",
    "else:\n",
    "    print(\"No 10 Rs notes is available\")"
   ]
  },
  {
   "cell_type": "code",
   "execution_count": 2,
   "id": "7d3fce36",
   "metadata": {},
   "outputs": [],
   "source": [
    "s= \"sudh\""
   ]
  },
  {
   "cell_type": "code",
   "execution_count": 4,
   "id": "36671533",
   "metadata": {},
   "outputs": [
    {
     "data": {
      "text/plain": [
       "'sudh'"
      ]
     },
     "execution_count": 4,
     "metadata": {},
     "output_type": "execute_result"
    }
   ],
   "source": [
    "s"
   ]
  },
  {
   "cell_type": "code",
   "execution_count": 5,
   "id": "e5bfa53c",
   "metadata": {},
   "outputs": [
    {
     "data": {
      "text/plain": [
       "'s'"
      ]
     },
     "execution_count": 5,
     "metadata": {},
     "output_type": "execute_result"
    }
   ],
   "source": [
    "s[0]"
   ]
  },
  {
   "cell_type": "code",
   "execution_count": 6,
   "id": "04fab6ec",
   "metadata": {},
   "outputs": [
    {
     "ename": "IndexError",
     "evalue": "string index out of range",
     "output_type": "error",
     "traceback": [
      "\u001b[1;31m---------------------------------------------------------------------------\u001b[0m",
      "\u001b[1;31mIndexError\u001b[0m                                Traceback (most recent call last)",
      "\u001b[1;32m<ipython-input-6-da1b392e7478>\u001b[0m in \u001b[0;36m<module>\u001b[1;34m\u001b[0m\n\u001b[1;32m----> 1\u001b[1;33m \u001b[0ms\u001b[0m\u001b[1;33m[\u001b[0m\u001b[1;36m20\u001b[0m\u001b[1;33m]\u001b[0m\u001b[1;33m\u001b[0m\u001b[1;33m\u001b[0m\u001b[0m\n\u001b[0m",
      "\u001b[1;31mIndexError\u001b[0m: string index out of range"
     ]
    }
   ],
   "source": [
    "s[20]"
   ]
  },
  {
   "cell_type": "code",
   "execution_count": 7,
   "id": "383ae6cd",
   "metadata": {},
   "outputs": [
    {
     "data": {
      "text/plain": [
       "'h'"
      ]
     },
     "execution_count": 7,
     "metadata": {},
     "output_type": "execute_result"
    }
   ],
   "source": [
    "s[3]"
   ]
  },
  {
   "cell_type": "code",
   "execution_count": 8,
   "id": "705ceab6",
   "metadata": {},
   "outputs": [
    {
     "ename": "IndexError",
     "evalue": "string index out of range",
     "output_type": "error",
     "traceback": [
      "\u001b[1;31m---------------------------------------------------------------------------\u001b[0m",
      "\u001b[1;31mIndexError\u001b[0m                                Traceback (most recent call last)",
      "\u001b[1;32m<ipython-input-8-a81280e08423>\u001b[0m in \u001b[0;36m<module>\u001b[1;34m\u001b[0m\n\u001b[1;32m----> 1\u001b[1;33m \u001b[0ms\u001b[0m\u001b[1;33m[\u001b[0m\u001b[1;36m4\u001b[0m\u001b[1;33m]\u001b[0m\u001b[1;33m\u001b[0m\u001b[1;33m\u001b[0m\u001b[0m\n\u001b[0m",
      "\u001b[1;31mIndexError\u001b[0m: string index out of range"
     ]
    }
   ],
   "source": [
    "s[4]"
   ]
  },
  {
   "cell_type": "code",
   "execution_count": 9,
   "id": "d81d9618",
   "metadata": {},
   "outputs": [
    {
     "data": {
      "text/plain": [
       "'h'"
      ]
     },
     "execution_count": 9,
     "metadata": {},
     "output_type": "execute_result"
    }
   ],
   "source": [
    "s[-1]"
   ]
  },
  {
   "cell_type": "code",
   "execution_count": 10,
   "id": "202f668a",
   "metadata": {},
   "outputs": [
    {
     "data": {
      "text/plain": [
       "'d'"
      ]
     },
     "execution_count": 10,
     "metadata": {},
     "output_type": "execute_result"
    }
   ],
   "source": [
    "s[-2]"
   ]
  },
  {
   "cell_type": "code",
   "execution_count": 11,
   "id": "ac9e9377",
   "metadata": {},
   "outputs": [
    {
     "data": {
      "text/plain": [
       "'s'"
      ]
     },
     "execution_count": 11,
     "metadata": {},
     "output_type": "execute_result"
    }
   ],
   "source": [
    "s[-4]"
   ]
  },
  {
   "cell_type": "code",
   "execution_count": 12,
   "id": "323f9703",
   "metadata": {},
   "outputs": [],
   "source": [
    "p=\"my name is Naman Jain, I am fine\""
   ]
  },
  {
   "cell_type": "code",
   "execution_count": 13,
   "id": "44234e66",
   "metadata": {},
   "outputs": [
    {
     "data": {
      "text/plain": [
       "'n'"
      ]
     },
     "execution_count": 13,
     "metadata": {},
     "output_type": "execute_result"
    }
   ],
   "source": [
    "p[3]"
   ]
  },
  {
   "cell_type": "code",
   "execution_count": 14,
   "id": "260ea455",
   "metadata": {},
   "outputs": [
    {
     "data": {
      "text/plain": [
       "'name is'"
      ]
     },
     "execution_count": 14,
     "metadata": {},
     "output_type": "execute_result"
    }
   ],
   "source": [
    "p[3:10]"
   ]
  },
  {
   "cell_type": "code",
   "execution_count": 15,
   "id": "b3042fe9",
   "metadata": {},
   "outputs": [
    {
     "data": {
      "text/plain": [
       "'name is Naman Jain, I am '"
      ]
     },
     "execution_count": 15,
     "metadata": {},
     "output_type": "execute_result"
    }
   ],
   "source": [
    "p[3:-4]"
   ]
  },
  {
   "cell_type": "code",
   "execution_count": 16,
   "id": "13045b79",
   "metadata": {},
   "outputs": [
    {
     "data": {
      "text/plain": [
       "''"
      ]
     },
     "execution_count": 16,
     "metadata": {},
     "output_type": "execute_result"
    }
   ],
   "source": [
    "p[-1:3]"
   ]
  },
  {
   "cell_type": "code",
   "execution_count": 17,
   "id": "c4c31d96",
   "metadata": {},
   "outputs": [
    {
     "data": {
      "text/plain": [
       "''"
      ]
     },
     "execution_count": 17,
     "metadata": {},
     "output_type": "execute_result"
    }
   ],
   "source": [
    "p[-1:-10]"
   ]
  },
  {
   "cell_type": "code",
   "execution_count": 18,
   "id": "ab788229",
   "metadata": {},
   "outputs": [
    {
     "data": {
      "text/plain": [
       "' I am fin'"
      ]
     },
     "execution_count": 18,
     "metadata": {},
     "output_type": "execute_result"
    }
   ],
   "source": [
    "p[-10:-1]"
   ]
  },
  {
   "cell_type": "code",
   "execution_count": 19,
   "id": "58fd2ccb",
   "metadata": {},
   "outputs": [
    {
     "data": {
      "text/plain": [
       "'I'"
      ]
     },
     "execution_count": 19,
     "metadata": {},
     "output_type": "execute_result"
    }
   ],
   "source": [
    "p[23]"
   ]
  },
  {
   "cell_type": "code",
   "execution_count": 20,
   "id": "e80e422d",
   "metadata": {},
   "outputs": [
    {
     "data": {
      "text/plain": [
       "32"
      ]
     },
     "execution_count": 20,
     "metadata": {},
     "output_type": "execute_result"
    }
   ],
   "source": [
    "len(p)"
   ]
  },
  {
   "cell_type": "code",
   "execution_count": 23,
   "id": "f2c31de1",
   "metadata": {},
   "outputs": [
    {
     "ename": "TypeError",
     "evalue": "slice indices must be integers or None or have an __index__ method",
     "output_type": "error",
     "traceback": [
      "\u001b[1;31m---------------------------------------------------------------------------\u001b[0m",
      "\u001b[1;31mTypeError\u001b[0m                                 Traceback (most recent call last)",
      "\u001b[1;32m<ipython-input-23-638ae4e43f0e>\u001b[0m in \u001b[0;36m<module>\u001b[1;34m\u001b[0m\n\u001b[1;32m----> 1\u001b[1;33m \u001b[0mp\u001b[0m\u001b[1;33m[\u001b[0m\u001b[0mrange\u001b[0m\u001b[1;33m(\u001b[0m\u001b[1;36m1\u001b[0m\u001b[1;33m)\u001b[0m\u001b[1;33m:\u001b[0m\u001b[1;36m10\u001b[0m\u001b[1;33m]\u001b[0m\u001b[1;33m\u001b[0m\u001b[1;33m\u001b[0m\u001b[0m\n\u001b[0m",
      "\u001b[1;31mTypeError\u001b[0m: slice indices must be integers or None or have an __index__ method"
     ]
    }
   ],
   "source": [
    "p[range(1):10]"
   ]
  },
  {
   "cell_type": "code",
   "execution_count": 24,
   "id": "a1ef93e3",
   "metadata": {},
   "outputs": [],
   "source": [
    "p=\"hello\""
   ]
  },
  {
   "cell_type": "code",
   "execution_count": 25,
   "id": "df1ea265",
   "metadata": {},
   "outputs": [
    {
     "data": {
      "text/plain": [
       "'el'"
      ]
     },
     "execution_count": 25,
     "metadata": {},
     "output_type": "execute_result"
    }
   ],
   "source": [
    "p[1:3]"
   ]
  },
  {
   "cell_type": "code",
   "execution_count": 26,
   "id": "285eecc2",
   "metadata": {},
   "outputs": [
    {
     "data": {
      "text/plain": [
       "'o'"
      ]
     },
     "execution_count": 26,
     "metadata": {},
     "output_type": "execute_result"
    }
   ],
   "source": [
    "p[-1:]"
   ]
  },
  {
   "cell_type": "code",
   "execution_count": 29,
   "id": "199f5047",
   "metadata": {},
   "outputs": [
    {
     "data": {
      "text/plain": [
       "'el'"
      ]
     },
     "execution_count": 29,
     "metadata": {},
     "output_type": "execute_result"
    }
   ],
   "source": [
    "p[1::2]"
   ]
  },
  {
   "cell_type": "markdown",
   "id": "d01a62d9",
   "metadata": {},
   "source": []
  },
  {
   "cell_type": "code",
   "execution_count": 30,
   "id": "f959cfa4",
   "metadata": {},
   "outputs": [
    {
     "data": {
      "text/plain": [
       "''"
      ]
     },
     "execution_count": 30,
     "metadata": {},
     "output_type": "execute_result"
    }
   ],
   "source": [
    "s[10:3:-1]"
   ]
  },
  {
   "cell_type": "code",
   "execution_count": 36,
   "id": "10cc9ace",
   "metadata": {},
   "outputs": [
    {
     "data": {
      "text/plain": [
       "'olle'"
      ]
     },
     "execution_count": 36,
     "metadata": {},
     "output_type": "execute_result"
    }
   ],
   "source": [
    "p[4:0:-1]"
   ]
  },
  {
   "cell_type": "code",
   "execution_count": 43,
   "id": "911d0d33",
   "metadata": {},
   "outputs": [
    {
     "data": {
      "text/plain": [
       "'oe'"
      ]
     },
     "execution_count": 43,
     "metadata": {},
     "output_type": "execute_result"
    }
   ],
   "source": [
    "p[-1::-3]"
   ]
  },
  {
   "cell_type": "code",
   "execution_count": 44,
   "id": "3cb18d91",
   "metadata": {},
   "outputs": [
    {
     "data": {
      "text/plain": [
       "'ell'"
      ]
     },
     "execution_count": 44,
     "metadata": {},
     "output_type": "execute_result"
    }
   ],
   "source": [
    "p[1:-1]"
   ]
  },
  {
   "cell_type": "code",
   "execution_count": 45,
   "id": "e1fd200e",
   "metadata": {},
   "outputs": [
    {
     "name": "stdout",
     "output_type": "stream",
     "text": [
      "m\n",
      "y\n",
      " \n",
      "n\n",
      "a\n",
      "m\n",
      "e\n",
      " \n",
      "i\n",
      "s\n",
      " \n",
      "n\n",
      "a\n",
      "m\n",
      "a\n",
      "n\n"
     ]
    }
   ],
   "source": [
    "s= \"my name is naman\"\n",
    "for i in s:\n",
    "    print(i)"
   ]
  },
  {
   "cell_type": "code",
   "execution_count": 47,
   "id": "258b53a6",
   "metadata": {},
   "outputs": [
    {
     "name": "stdout",
     "output_type": "stream",
     "text": [
      "m\n",
      "y\n",
      " \n",
      "n\n",
      "a\n",
      "m\n",
      "e\n",
      " \n",
      "i\n",
      "i got the character\n",
      "s\n",
      " \n",
      "n\n",
      "a\n",
      "m\n",
      "a\n",
      "n\n"
     ]
    }
   ],
   "source": [
    "for i in s :\n",
    "    if i ==\"s\":\n",
    "        print(\"i got the character\")\n",
    "    print(i)"
   ]
  },
  {
   "cell_type": "code",
   "execution_count": 48,
   "id": "02dcb621",
   "metadata": {},
   "outputs": [
    {
     "data": {
      "text/plain": [
       "'my name is naman'"
      ]
     },
     "execution_count": 48,
     "metadata": {},
     "output_type": "execute_result"
    }
   ],
   "source": [
    "s"
   ]
  },
  {
   "cell_type": "code",
   "execution_count": 49,
   "id": "41021e7c",
   "metadata": {},
   "outputs": [
    {
     "name": "stdout",
     "output_type": "stream",
     "text": [
      "m\n",
      "y\n",
      " \n",
      "n\n",
      "a\n",
      "m\n",
      "e\n",
      " \n",
      "i\n",
      "s\n",
      " \n",
      "n\n",
      "a\n",
      "m\n",
      "a\n",
      "n\n",
      "this is an else condition\n"
     ]
    }
   ],
   "source": [
    "for i in s:\n",
    "    print(i)\n",
    "else:\n",
    "    print(\"this is an else condition\")"
   ]
  },
  {
   "cell_type": "code",
   "execution_count": 50,
   "id": "483f6213",
   "metadata": {},
   "outputs": [
    {
     "name": "stdout",
     "output_type": "stream",
     "text": [
      "m\n",
      "y\n",
      " \n"
     ]
    }
   ],
   "source": [
    "for i in s:\n",
    "    if i ==\"n\":\n",
    "        break\n",
    "    print(i)\n",
    "else :\n",
    "    print(\"last character\",i)"
   ]
  },
  {
   "cell_type": "code",
   "execution_count": 51,
   "id": "1ae31cb8",
   "metadata": {},
   "outputs": [
    {
     "name": "stdout",
     "output_type": "stream",
     "text": [
      "m\n",
      "y\n",
      " \n",
      "a\n",
      "m\n",
      "e\n",
      " \n",
      "i\n",
      "s\n",
      " \n",
      "a\n",
      "m\n",
      "a\n",
      "hello\n"
     ]
    }
   ],
   "source": [
    "for i in s:\n",
    "    if i == \"n\":\n",
    "        continue\n",
    "    print(i)\n",
    "else:\n",
    "    print(\"hello\")"
   ]
  },
  {
   "cell_type": "code",
   "execution_count": 52,
   "id": "84eb237a",
   "metadata": {},
   "outputs": [],
   "source": [
    "s=\"ineuron\"\n",
    "ss=\"\"\n",
    "for i in range(len(s)):\n",
    "    if s[i]==\"n\":\n",
    "        continue\n",
    "    else:\n",
    "        ss+=s[i]\n",
    "        "
   ]
  },
  {
   "cell_type": "code",
   "execution_count": 53,
   "id": "d7d3edf6",
   "metadata": {},
   "outputs": [
    {
     "data": {
      "text/plain": [
       "'ieuro'"
      ]
     },
     "execution_count": 53,
     "metadata": {},
     "output_type": "execute_result"
    }
   ],
   "source": [
    "ss"
   ]
  },
  {
   "cell_type": "code",
   "execution_count": 54,
   "id": "b0145f4a",
   "metadata": {},
   "outputs": [
    {
     "data": {
      "text/plain": [
       "7"
      ]
     },
     "execution_count": 54,
     "metadata": {},
     "output_type": "execute_result"
    }
   ],
   "source": [
    "len(s)"
   ]
  },
  {
   "cell_type": "code",
   "execution_count": 56,
   "id": "0da0c779",
   "metadata": {},
   "outputs": [
    {
     "name": "stdout",
     "output_type": "stream",
     "text": [
      "+ \r\n",
      "+ + \r\n",
      "+ + + \r\n",
      "+ + + + \r\n",
      "+ + + + + \r\n",
      "+ + + + + + \r\n",
      "+ + + + + + + \r\n"
     ]
    }
   ],
   "source": [
    "n=7\n",
    "for u in range(0,n):\n",
    "    for j in range(0,u+1):\n",
    "        print(\"+ \",end=\"\")\n",
    "    print(\"\\r\")"
   ]
  },
  {
   "cell_type": "code",
   "execution_count": 69,
   "id": "8316d8d0",
   "metadata": {},
   "outputs": [
    {
     "name": "stdout",
     "output_type": "stream",
     "text": [
      "6\n",
      "5\n",
      "4\n",
      "3\n",
      "2\n",
      "1\n",
      "0\n"
     ]
    }
   ],
   "source": [
    "l= range(7)\n",
    "for i in l[-1::-1]:\n",
    "    print(i)"
   ]
  },
  {
   "cell_type": "code",
   "execution_count": 78,
   "id": "1580f261",
   "metadata": {},
   "outputs": [
    {
     "name": "stdout",
     "output_type": "stream",
     "text": [
      "Enter the number for pattern--> 5\n",
      "* * * * * \n",
      " * * * * \n",
      "  * * * \n",
      "   * * \n",
      "    * \n",
      "     "
     ]
    }
   ],
   "source": [
    "m= int(input(\"Enter the number for pattern--> \"))\n",
    "\n",
    "l=range(m)\n",
    "for i in l[-1::-1]:\n",
    "    for j in range(0,i+1):\n",
    "        print(\"* \",end=\"\")\n",
    "    print(\"\\r\")\n",
    "    p=m-i\n",
    "    while(p>=1):\n",
    "        print(\" \",end=\"\")\n",
    "        p-=1"
   ]
  },
  {
   "cell_type": "code",
   "execution_count": 83,
   "id": "cce836cb",
   "metadata": {},
   "outputs": [
    {
     "name": "stdout",
     "output_type": "stream",
     "text": [
      "enter the number for the pattern-->10\n",
      "         * \n",
      "        * * \n",
      "       * * * \n",
      "      * * * * \n",
      "     * * * * * \n",
      "    * * * * * * \n",
      "   * * * * * * * \n",
      "  * * * * * * * * \n",
      " * * * * * * * * * \n",
      "* * * * * * * * * * \n"
     ]
    }
   ],
   "source": [
    "n=int(input(\"enter the number for the pattern-->\"))\n",
    "o=1\n",
    "while(o<=n):\n",
    "    i=1\n",
    "    m=1\n",
    "    while(i<=n-o):\n",
    "        print(\" \",end=\"\")\n",
    "        i+=1\n",
    "    while(m<=o):\n",
    "        print(\"* \",end=\"\")\n",
    "        m+=1\n",
    "    print(\"\\r\")\n",
    "    o+=1"
   ]
  },
  {
   "cell_type": "code",
   "execution_count": 84,
   "id": "eeacb920",
   "metadata": {},
   "outputs": [
    {
     "data": {
      "text/plain": [
       "range(0, 3)"
      ]
     },
     "execution_count": 84,
     "metadata": {},
     "output_type": "execute_result"
    }
   ],
   "source": [
    "range(0,3)"
   ]
  },
  {
   "cell_type": "code",
   "execution_count": 85,
   "id": "51287759",
   "metadata": {},
   "outputs": [],
   "source": [
    "l=list()"
   ]
  },
  {
   "cell_type": "code",
   "execution_count": 86,
   "id": "bcd80100",
   "metadata": {},
   "outputs": [],
   "source": [
    "name=\"naman\"\n",
    "phno=32323\n",
    "addr=\"Delhi\""
   ]
  },
  {
   "cell_type": "code",
   "execution_count": 87,
   "id": "4e85a81a",
   "metadata": {},
   "outputs": [],
   "source": [
    "l=[\"Naman\",241241,\"Delhi\"]"
   ]
  },
  {
   "cell_type": "code",
   "execution_count": 88,
   "id": "7e0eb379",
   "metadata": {},
   "outputs": [
    {
     "data": {
      "text/plain": [
       "['Naman', 241241, 'Delhi']"
      ]
     },
     "execution_count": 88,
     "metadata": {},
     "output_type": "execute_result"
    }
   ],
   "source": [
    "l"
   ]
  },
  {
   "cell_type": "code",
   "execution_count": 89,
   "id": "3d0f1965",
   "metadata": {},
   "outputs": [
    {
     "data": {
      "text/plain": [
       "'Naman'"
      ]
     },
     "execution_count": 89,
     "metadata": {},
     "output_type": "execute_result"
    }
   ],
   "source": [
    "l[0]"
   ]
  },
  {
   "cell_type": "code",
   "execution_count": 90,
   "id": "9c4f67c0",
   "metadata": {},
   "outputs": [
    {
     "data": {
      "text/plain": [
       "241241"
      ]
     },
     "execution_count": 90,
     "metadata": {},
     "output_type": "execute_result"
    }
   ],
   "source": [
    "l[1]"
   ]
  },
  {
   "cell_type": "code",
   "execution_count": 91,
   "id": "501224b0",
   "metadata": {},
   "outputs": [
    {
     "data": {
      "text/plain": [
       "'Delhi'"
      ]
     },
     "execution_count": 91,
     "metadata": {},
     "output_type": "execute_result"
    }
   ],
   "source": [
    "l[2]"
   ]
  },
  {
   "cell_type": "code",
   "execution_count": 92,
   "id": "d26b4947",
   "metadata": {},
   "outputs": [
    {
     "data": {
      "text/plain": [
       "list"
      ]
     },
     "execution_count": 92,
     "metadata": {},
     "output_type": "execute_result"
    }
   ],
   "source": [
    "type(l)"
   ]
  },
  {
   "cell_type": "code",
   "execution_count": 93,
   "id": "f1918b8c",
   "metadata": {},
   "outputs": [],
   "source": [
    "l1=[]"
   ]
  },
  {
   "cell_type": "code",
   "execution_count": 94,
   "id": "475b1dae",
   "metadata": {},
   "outputs": [
    {
     "data": {
      "text/plain": [
       "list"
      ]
     },
     "execution_count": 94,
     "metadata": {},
     "output_type": "execute_result"
    }
   ],
   "source": [
    "type(l1)"
   ]
  },
  {
   "cell_type": "code",
   "execution_count": 95,
   "id": "f05c07eb",
   "metadata": {},
   "outputs": [],
   "source": [
    "l2=list()"
   ]
  },
  {
   "cell_type": "code",
   "execution_count": 96,
   "id": "f01a0160",
   "metadata": {},
   "outputs": [
    {
     "data": {
      "text/plain": [
       "list"
      ]
     },
     "execution_count": 96,
     "metadata": {},
     "output_type": "execute_result"
    }
   ],
   "source": [
    "type(l2\n",
    "    )"
   ]
  },
  {
   "cell_type": "code",
   "execution_count": 98,
   "id": "70802b2b",
   "metadata": {},
   "outputs": [],
   "source": [
    "l=[\"Naman\",1+2j, True, [2,2]]\n"
   ]
  },
  {
   "cell_type": "code",
   "execution_count": 99,
   "id": "050692fa",
   "metadata": {},
   "outputs": [
    {
     "data": {
      "text/plain": [
       "['Naman', (1+2j), True, [2, 2]]"
      ]
     },
     "execution_count": 99,
     "metadata": {},
     "output_type": "execute_result"
    }
   ],
   "source": [
    "l"
   ]
  },
  {
   "cell_type": "code",
   "execution_count": 100,
   "id": "d93e1063",
   "metadata": {},
   "outputs": [
    {
     "data": {
      "text/plain": [
       "[2, 2]"
      ]
     },
     "execution_count": 100,
     "metadata": {},
     "output_type": "execute_result"
    }
   ],
   "source": [
    "l[-1]"
   ]
  },
  {
   "cell_type": "code",
   "execution_count": 103,
   "id": "2a206642",
   "metadata": {},
   "outputs": [
    {
     "name": "stdout",
     "output_type": "stream",
     "text": [
      "True\n",
      "False\n",
      "False\n",
      "False\n"
     ]
    }
   ],
   "source": [
    "for i in l:\n",
    "    print(type(i)==str)"
   ]
  },
  {
   "cell_type": "code",
   "execution_count": 104,
   "id": "294ba8b0",
   "metadata": {},
   "outputs": [
    {
     "data": {
      "text/plain": [
       "['Naman', (1+2j), True]"
      ]
     },
     "execution_count": 104,
     "metadata": {},
     "output_type": "execute_result"
    }
   ],
   "source": [
    "l[0:3]"
   ]
  },
  {
   "cell_type": "code",
   "execution_count": 106,
   "id": "909728d3",
   "metadata": {},
   "outputs": [
    {
     "data": {
      "text/plain": [
       "[[2, 2], True, (1+2j)]"
      ]
     },
     "execution_count": 106,
     "metadata": {},
     "output_type": "execute_result"
    }
   ],
   "source": [
    "l[90:0:-1]"
   ]
  },
  {
   "cell_type": "code",
   "execution_count": 107,
   "id": "c1e44ba7",
   "metadata": {},
   "outputs": [
    {
     "data": {
      "text/plain": [
       "range(2, 4)"
      ]
     },
     "execution_count": 107,
     "metadata": {},
     "output_type": "execute_result"
    }
   ],
   "source": [
    "range(2,4)"
   ]
  },
  {
   "cell_type": "code",
   "execution_count": 109,
   "id": "8770f9b5",
   "metadata": {},
   "outputs": [],
   "source": [
    "p=list(range(2,20))"
   ]
  },
  {
   "cell_type": "code",
   "execution_count": 110,
   "id": "0610a0bd",
   "metadata": {},
   "outputs": [
    {
     "data": {
      "text/plain": [
       "18"
      ]
     },
     "execution_count": 110,
     "metadata": {},
     "output_type": "execute_result"
    }
   ],
   "source": [
    "len(p)"
   ]
  },
  {
   "cell_type": "code",
   "execution_count": null,
   "id": "7e62bce9",
   "metadata": {},
   "outputs": [],
   "source": []
  }
 ],
 "metadata": {
  "kernelspec": {
   "display_name": "Python 3",
   "language": "python",
   "name": "python3"
  },
  "language_info": {
   "codemirror_mode": {
    "name": "ipython",
    "version": 3
   },
   "file_extension": ".py",
   "mimetype": "text/x-python",
   "name": "python",
   "nbconvert_exporter": "python",
   "pygments_lexer": "ipython3",
   "version": "3.8.8"
  }
 },
 "nbformat": 4,
 "nbformat_minor": 5
}
