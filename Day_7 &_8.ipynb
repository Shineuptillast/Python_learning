{
 "cells": [
  {
   "cell_type": "code",
   "execution_count": 1,
   "id": "9c0f768e",
   "metadata": {},
   "outputs": [],
   "source": [
    "## Tuples Set Dictionary"
   ]
  },
  {
   "cell_type": "code",
   "execution_count": 2,
   "id": "13c29209",
   "metadata": {},
   "outputs": [],
   "source": [
    "l=[1,2,3,\"sudh\",[1,2,3],True,1.23]"
   ]
  },
  {
   "cell_type": "code",
   "execution_count": 3,
   "id": "74374a8d",
   "metadata": {},
   "outputs": [
    {
     "data": {
      "text/plain": [
       "[1, 2, 3, 'sudh', [1, 2, 3], True, 1.23]"
      ]
     },
     "execution_count": 3,
     "metadata": {},
     "output_type": "execute_result"
    }
   ],
   "source": [
    "l"
   ]
  },
  {
   "cell_type": "code",
   "execution_count": 7,
   "id": "949efe1e",
   "metadata": {},
   "outputs": [
    {
     "data": {
      "text/plain": [
       "[1, 2, 3]"
      ]
     },
     "execution_count": 7,
     "metadata": {},
     "output_type": "execute_result"
    }
   ],
   "source": [
    "[i for i in l if type(i)==int]"
   ]
  },
  {
   "cell_type": "code",
   "execution_count": 8,
   "id": "d41f0a1c",
   "metadata": {},
   "outputs": [
    {
     "data": {
      "text/plain": [
       "[[1, 2, 3]]"
      ]
     },
     "execution_count": 8,
     "metadata": {},
     "output_type": "execute_result"
    }
   ],
   "source": [
    "[i for i in l if type(i)==list]"
   ]
  },
  {
   "cell_type": "code",
   "execution_count": 9,
   "id": "973a690f",
   "metadata": {},
   "outputs": [
    {
     "data": {
      "text/plain": [
       "['sudh']"
      ]
     },
     "execution_count": 9,
     "metadata": {},
     "output_type": "execute_result"
    }
   ],
   "source": [
    "[i for i in l if type(i)==str]"
   ]
  },
  {
   "cell_type": "code",
   "execution_count": 10,
   "id": "cd4fc7f7",
   "metadata": {},
   "outputs": [
    {
     "data": {
      "text/plain": [
       "[1.23]"
      ]
     },
     "execution_count": 10,
     "metadata": {},
     "output_type": "execute_result"
    }
   ],
   "source": [
    "[i for i in l if type(i)==float]"
   ]
  },
  {
   "cell_type": "code",
   "execution_count": 12,
   "id": "31abd40d",
   "metadata": {},
   "outputs": [
    {
     "name": "stdout",
     "output_type": "stream",
     "text": [
      "4\n"
     ]
    }
   ],
   "source": [
    "print(max([1,2,3,4]))"
   ]
  },
  {
   "cell_type": "code",
   "execution_count": 13,
   "id": "725ceb61",
   "metadata": {},
   "outputs": [],
   "source": [
    "t=()"
   ]
  },
  {
   "cell_type": "code",
   "execution_count": 14,
   "id": "6c90d45a",
   "metadata": {},
   "outputs": [
    {
     "data": {
      "text/plain": [
       "tuple"
      ]
     },
     "execution_count": 14,
     "metadata": {},
     "output_type": "execute_result"
    }
   ],
   "source": [
    "type(t)"
   ]
  },
  {
   "cell_type": "code",
   "execution_count": 15,
   "id": "e25c140f",
   "metadata": {},
   "outputs": [],
   "source": [
    "l=[]"
   ]
  },
  {
   "cell_type": "code",
   "execution_count": 16,
   "id": "ad438d82",
   "metadata": {},
   "outputs": [
    {
     "data": {
      "text/plain": [
       "list"
      ]
     },
     "execution_count": 16,
     "metadata": {},
     "output_type": "execute_result"
    }
   ],
   "source": [
    "type(l)"
   ]
  },
  {
   "cell_type": "code",
   "execution_count": 17,
   "id": "deb110f8",
   "metadata": {},
   "outputs": [],
   "source": [
    "t1 = (234,4,\"sudha\",True,2,3.43)"
   ]
  },
  {
   "cell_type": "code",
   "execution_count": 18,
   "id": "c4e57b38",
   "metadata": {},
   "outputs": [
    {
     "data": {
      "text/plain": [
       "(234, 4, 'sudha', True, 2, 3.43)"
      ]
     },
     "execution_count": 18,
     "metadata": {},
     "output_type": "execute_result"
    }
   ],
   "source": [
    "t1"
   ]
  },
  {
   "cell_type": "code",
   "execution_count": 19,
   "id": "fcec6e12",
   "metadata": {},
   "outputs": [],
   "source": [
    "l1=[234,4,\"sudha\",True,2,3.43]"
   ]
  },
  {
   "cell_type": "code",
   "execution_count": 20,
   "id": "19614059",
   "metadata": {},
   "outputs": [
    {
     "data": {
      "text/plain": [
       "[234, 4, 'sudha', True, 2, 3.43]"
      ]
     },
     "execution_count": 20,
     "metadata": {},
     "output_type": "execute_result"
    }
   ],
   "source": [
    "l1"
   ]
  },
  {
   "cell_type": "code",
   "execution_count": 22,
   "id": "79ff166f",
   "metadata": {},
   "outputs": [
    {
     "data": {
      "text/plain": [
       "4"
      ]
     },
     "execution_count": 22,
     "metadata": {},
     "output_type": "execute_result"
    }
   ],
   "source": [
    "t1[1]"
   ]
  },
  {
   "cell_type": "code",
   "execution_count": 23,
   "id": "713c42fb",
   "metadata": {},
   "outputs": [
    {
     "data": {
      "text/plain": [
       "234"
      ]
     },
     "execution_count": 23,
     "metadata": {},
     "output_type": "execute_result"
    }
   ],
   "source": [
    "t1[0]"
   ]
  },
  {
   "cell_type": "code",
   "execution_count": 24,
   "id": "f3cdde16",
   "metadata": {},
   "outputs": [
    {
     "data": {
      "text/plain": [
       "234"
      ]
     },
     "execution_count": 24,
     "metadata": {},
     "output_type": "execute_result"
    }
   ],
   "source": [
    "t1[0]"
   ]
  },
  {
   "cell_type": "code",
   "execution_count": 25,
   "id": "ce3ea0d6",
   "metadata": {},
   "outputs": [
    {
     "ename": "IndexError",
     "evalue": "tuple index out of range",
     "output_type": "error",
     "traceback": [
      "\u001b[1;31m---------------------------------------------------------------------------\u001b[0m",
      "\u001b[1;31mIndexError\u001b[0m                                Traceback (most recent call last)",
      "\u001b[1;32m<ipython-input-25-42e7ae6f9a6e>\u001b[0m in \u001b[0;36m<module>\u001b[1;34m\u001b[0m\n\u001b[1;32m----> 1\u001b[1;33m \u001b[0mt1\u001b[0m\u001b[1;33m[\u001b[0m\u001b[1;36m12\u001b[0m\u001b[1;33m]\u001b[0m\u001b[1;33m\u001b[0m\u001b[1;33m\u001b[0m\u001b[0m\n\u001b[0m",
      "\u001b[1;31mIndexError\u001b[0m: tuple index out of range"
     ]
    }
   ],
   "source": [
    "t1[12]"
   ]
  },
  {
   "cell_type": "code",
   "execution_count": 26,
   "id": "7f85be6a",
   "metadata": {},
   "outputs": [
    {
     "data": {
      "text/plain": [
       "3.43"
      ]
     },
     "execution_count": 26,
     "metadata": {},
     "output_type": "execute_result"
    }
   ],
   "source": [
    "t1[-1]"
   ]
  },
  {
   "cell_type": "code",
   "execution_count": 27,
   "id": "31776900",
   "metadata": {},
   "outputs": [
    {
     "data": {
      "text/plain": [
       "True"
      ]
     },
     "execution_count": 27,
     "metadata": {},
     "output_type": "execute_result"
    }
   ],
   "source": [
    "t1[-3]"
   ]
  },
  {
   "cell_type": "code",
   "execution_count": 28,
   "id": "90a09390",
   "metadata": {},
   "outputs": [
    {
     "ename": "TypeError",
     "evalue": "'tuple' object does not support item assignment",
     "output_type": "error",
     "traceback": [
      "\u001b[1;31m---------------------------------------------------------------------------\u001b[0m",
      "\u001b[1;31mTypeError\u001b[0m                                 Traceback (most recent call last)",
      "\u001b[1;32m<ipython-input-28-e27e1e6b91e1>\u001b[0m in \u001b[0;36m<module>\u001b[1;34m\u001b[0m\n\u001b[1;32m----> 1\u001b[1;33m \u001b[0mt1\u001b[0m\u001b[1;33m[\u001b[0m\u001b[1;33m-\u001b[0m\u001b[1;36m1\u001b[0m\u001b[1;33m]\u001b[0m\u001b[1;33m=\u001b[0m\u001b[1;36m1\u001b[0m\u001b[1;33m\u001b[0m\u001b[1;33m\u001b[0m\u001b[0m\n\u001b[0m",
      "\u001b[1;31mTypeError\u001b[0m: 'tuple' object does not support item assignment"
     ]
    }
   ],
   "source": [
    "t1[-1]=1"
   ]
  },
  {
   "cell_type": "code",
   "execution_count": 30,
   "id": "45692a99",
   "metadata": {},
   "outputs": [
    {
     "data": {
      "text/plain": [
       "(3.43, 2, True, 'sudha', 4, 234)"
      ]
     },
     "execution_count": 30,
     "metadata": {},
     "output_type": "execute_result"
    }
   ],
   "source": [
    "t1[::-1]"
   ]
  },
  {
   "cell_type": "code",
   "execution_count": 32,
   "id": "d69dc998",
   "metadata": {},
   "outputs": [],
   "source": [
    "l1[0]=\"naman\""
   ]
  },
  {
   "cell_type": "markdown",
   "id": "5e953279",
   "metadata": {},
   "source": [
    "l1"
   ]
  },
  {
   "cell_type": "code",
   "execution_count": 33,
   "id": "66e9254b",
   "metadata": {},
   "outputs": [
    {
     "data": {
      "text/plain": [
       "['naman', 4, 'sudha', True, 2, 3.43]"
      ]
     },
     "execution_count": 33,
     "metadata": {},
     "output_type": "execute_result"
    }
   ],
   "source": [
    "l1"
   ]
  },
  {
   "cell_type": "code",
   "execution_count": 34,
   "id": "4ebf7b5f",
   "metadata": {},
   "outputs": [
    {
     "ename": "TypeError",
     "evalue": "'tuple' object does not support item assignment",
     "output_type": "error",
     "traceback": [
      "\u001b[1;31m---------------------------------------------------------------------------\u001b[0m",
      "\u001b[1;31mTypeError\u001b[0m                                 Traceback (most recent call last)",
      "\u001b[1;32m<ipython-input-34-8aebc9f8301f>\u001b[0m in \u001b[0;36m<module>\u001b[1;34m\u001b[0m\n\u001b[1;32m----> 1\u001b[1;33m \u001b[0mt1\u001b[0m\u001b[1;33m[\u001b[0m\u001b[1;36m3\u001b[0m\u001b[1;33m]\u001b[0m\u001b[1;33m=\u001b[0m\u001b[1;36m34\u001b[0m\u001b[1;33m\u001b[0m\u001b[1;33m\u001b[0m\u001b[0m\n\u001b[0m",
      "\u001b[1;31mTypeError\u001b[0m: 'tuple' object does not support item assignment"
     ]
    }
   ],
   "source": [
    "t1[3]=34"
   ]
  },
  {
   "cell_type": "code",
   "execution_count": 35,
   "id": "b4d2db25",
   "metadata": {},
   "outputs": [],
   "source": [
    "t2=(\"jain\",\"jii\")"
   ]
  },
  {
   "cell_type": "code",
   "execution_count": 36,
   "id": "d1ca0fa6",
   "metadata": {},
   "outputs": [
    {
     "data": {
      "text/plain": [
       "(234, 4, 'sudha', True, 2, 3.43, 'jain', 'jii')"
      ]
     },
     "execution_count": 36,
     "metadata": {},
     "output_type": "execute_result"
    }
   ],
   "source": [
    "t1+t2"
   ]
  },
  {
   "cell_type": "code",
   "execution_count": 37,
   "id": "4e2161eb",
   "metadata": {},
   "outputs": [
    {
     "data": {
      "text/plain": [
       "(234,\n",
       " 4,\n",
       " 'sudha',\n",
       " True,\n",
       " 2,\n",
       " 3.43,\n",
       " 234,\n",
       " 4,\n",
       " 'sudha',\n",
       " True,\n",
       " 2,\n",
       " 3.43,\n",
       " 234,\n",
       " 4,\n",
       " 'sudha',\n",
       " True,\n",
       " 2,\n",
       " 3.43)"
      ]
     },
     "execution_count": 37,
     "metadata": {},
     "output_type": "execute_result"
    }
   ],
   "source": [
    "t1*3"
   ]
  },
  {
   "cell_type": "code",
   "execution_count": 38,
   "id": "8df7f2a1",
   "metadata": {},
   "outputs": [
    {
     "data": {
      "text/plain": [
       "(234, 4, 'sudha', True, 2, 3.43)"
      ]
     },
     "execution_count": 38,
     "metadata": {},
     "output_type": "execute_result"
    }
   ],
   "source": [
    "t1"
   ]
  },
  {
   "cell_type": "code",
   "execution_count": 39,
   "id": "061c7ba8",
   "metadata": {},
   "outputs": [
    {
     "data": {
      "text/plain": [
       "False"
      ]
     },
     "execution_count": 39,
     "metadata": {},
     "output_type": "execute_result"
    }
   ],
   "source": [
    "34 in t1"
   ]
  },
  {
   "cell_type": "code",
   "execution_count": 40,
   "id": "c212512a",
   "metadata": {},
   "outputs": [
    {
     "data": {
      "text/plain": [
       "True"
      ]
     },
     "execution_count": 40,
     "metadata": {},
     "output_type": "execute_result"
    }
   ],
   "source": [
    "234 in t1"
   ]
  },
  {
   "cell_type": "code",
   "execution_count": 41,
   "id": "12af4dbc",
   "metadata": {},
   "outputs": [
    {
     "data": {
      "text/plain": [
       "False"
      ]
     },
     "execution_count": 41,
     "metadata": {},
     "output_type": "execute_result"
    }
   ],
   "source": [
    "\"fsfasf\" in t1"
   ]
  },
  {
   "cell_type": "code",
   "execution_count": 42,
   "id": "9367ad3a",
   "metadata": {},
   "outputs": [
    {
     "ename": "TypeError",
     "evalue": "'>' not supported between instances of 'str' and 'int'",
     "output_type": "error",
     "traceback": [
      "\u001b[1;31m---------------------------------------------------------------------------\u001b[0m",
      "\u001b[1;31mTypeError\u001b[0m                                 Traceback (most recent call last)",
      "\u001b[1;32m<ipython-input-42-07c1bf72392e>\u001b[0m in \u001b[0;36m<module>\u001b[1;34m\u001b[0m\n\u001b[1;32m----> 1\u001b[1;33m \u001b[0mmax\u001b[0m\u001b[1;33m(\u001b[0m\u001b[0mt1\u001b[0m\u001b[1;33m)\u001b[0m\u001b[1;33m\u001b[0m\u001b[1;33m\u001b[0m\u001b[0m\n\u001b[0m",
      "\u001b[1;31mTypeError\u001b[0m: '>' not supported between instances of 'str' and 'int'"
     ]
    }
   ],
   "source": [
    "max(t1)"
   ]
  },
  {
   "cell_type": "code",
   "execution_count": 43,
   "id": "70d34932",
   "metadata": {},
   "outputs": [],
   "source": [
    "t3=(1,2,3,4)"
   ]
  },
  {
   "cell_type": "code",
   "execution_count": 44,
   "id": "a8da068d",
   "metadata": {},
   "outputs": [
    {
     "ename": "NameError",
     "evalue": "name 'mX' is not defined",
     "output_type": "error",
     "traceback": [
      "\u001b[1;31m---------------------------------------------------------------------------\u001b[0m",
      "\u001b[1;31mNameError\u001b[0m                                 Traceback (most recent call last)",
      "\u001b[1;32m<ipython-input-44-ee5f64926dc3>\u001b[0m in \u001b[0;36m<module>\u001b[1;34m\u001b[0m\n\u001b[1;32m----> 1\u001b[1;33m \u001b[0mmX\u001b[0m\u001b[1;33m(\u001b[0m\u001b[0mT3\u001b[0m\u001b[1;33m)\u001b[0m\u001b[1;33m\u001b[0m\u001b[1;33m\u001b[0m\u001b[0m\n\u001b[0m",
      "\u001b[1;31mNameError\u001b[0m: name 'mX' is not defined"
     ]
    }
   ],
   "source": [
    "mX(T3)"
   ]
  },
  {
   "cell_type": "code",
   "execution_count": 45,
   "id": "76e183fd",
   "metadata": {},
   "outputs": [
    {
     "data": {
      "text/plain": [
       "4"
      ]
     },
     "execution_count": 45,
     "metadata": {},
     "output_type": "execute_result"
    }
   ],
   "source": [
    "max(t3)"
   ]
  },
  {
   "cell_type": "code",
   "execution_count": 46,
   "id": "efcd7204",
   "metadata": {},
   "outputs": [
    {
     "data": {
      "text/plain": [
       "0"
      ]
     },
     "execution_count": 46,
     "metadata": {},
     "output_type": "execute_result"
    }
   ],
   "source": [
    "t1.index(234)"
   ]
  },
  {
   "cell_type": "code",
   "execution_count": 47,
   "id": "df6cbc11",
   "metadata": {},
   "outputs": [
    {
     "data": {
      "text/plain": [
       "4"
      ]
     },
     "execution_count": 47,
     "metadata": {},
     "output_type": "execute_result"
    }
   ],
   "source": [
    "t1.index(2)"
   ]
  },
  {
   "cell_type": "code",
   "execution_count": 49,
   "id": "c1a1d7c1",
   "metadata": {},
   "outputs": [
    {
     "data": {
      "text/plain": [
       "7"
      ]
     },
     "execution_count": 49,
     "metadata": {},
     "output_type": "execute_result"
    }
   ],
   "source": [
    "(t1+t2).index(\"jii\")"
   ]
  },
  {
   "cell_type": "code",
   "execution_count": 50,
   "id": "825921d4",
   "metadata": {},
   "outputs": [
    {
     "data": {
      "text/plain": [
       "1"
      ]
     },
     "execution_count": 50,
     "metadata": {},
     "output_type": "execute_result"
    }
   ],
   "source": [
    "t1.count(1)"
   ]
  },
  {
   "cell_type": "code",
   "execution_count": 51,
   "id": "f2d44583",
   "metadata": {},
   "outputs": [
    {
     "data": {
      "text/plain": [
       "1"
      ]
     },
     "execution_count": 51,
     "metadata": {},
     "output_type": "execute_result"
    }
   ],
   "source": [
    "min(t3)"
   ]
  },
  {
   "cell_type": "code",
   "execution_count": 54,
   "id": "711b467c",
   "metadata": {},
   "outputs": [],
   "source": [
    "t5=(90,)"
   ]
  },
  {
   "cell_type": "code",
   "execution_count": 55,
   "id": "59d7599c",
   "metadata": {},
   "outputs": [
    {
     "data": {
      "text/plain": [
       "(234, 4, 'sudha', True, 2, 3.43, 90)"
      ]
     },
     "execution_count": 55,
     "metadata": {},
     "output_type": "execute_result"
    }
   ],
   "source": [
    "t1+t5"
   ]
  },
  {
   "cell_type": "code",
   "execution_count": 56,
   "id": "37450d05",
   "metadata": {},
   "outputs": [],
   "source": [
    "t4=list(t1)\n",
    "t4.insert(3,\"namanjain\")\n",
    "t4=tuple(t4)"
   ]
  },
  {
   "cell_type": "code",
   "execution_count": 57,
   "id": "d0a99768",
   "metadata": {},
   "outputs": [
    {
     "data": {
      "text/plain": [
       "(234, 4, 'sudha', 'namanjain', True, 2, 3.43)"
      ]
     },
     "execution_count": 57,
     "metadata": {},
     "output_type": "execute_result"
    }
   ],
   "source": [
    "t4"
   ]
  },
  {
   "cell_type": "code",
   "execution_count": 58,
   "id": "a42fa745",
   "metadata": {},
   "outputs": [],
   "source": [
    "t = ((1,2,3),\"sudhamurty\",(\"naman\",\"jain\",\"hello\"))"
   ]
  },
  {
   "cell_type": "code",
   "execution_count": 59,
   "id": "72e7492d",
   "metadata": {},
   "outputs": [
    {
     "data": {
      "text/plain": [
       "((1, 2, 3), 'sudhamurty', ('naman', 'jain', 'hello'))"
      ]
     },
     "execution_count": 59,
     "metadata": {},
     "output_type": "execute_result"
    }
   ],
   "source": [
    "t"
   ]
  },
  {
   "cell_type": "code",
   "execution_count": 60,
   "id": "96779db8",
   "metadata": {},
   "outputs": [],
   "source": [
    "t1=((1,2,3),[1,4,7,10])"
   ]
  },
  {
   "cell_type": "code",
   "execution_count": 61,
   "id": "9b0d2499",
   "metadata": {},
   "outputs": [
    {
     "data": {
      "text/plain": [
       "7"
      ]
     },
     "execution_count": 61,
     "metadata": {},
     "output_type": "execute_result"
    }
   ],
   "source": [
    "t1[1][2]"
   ]
  },
  {
   "cell_type": "code",
   "execution_count": 62,
   "id": "ad027dde",
   "metadata": {},
   "outputs": [
    {
     "data": {
      "text/plain": [
       "list"
      ]
     },
     "execution_count": 62,
     "metadata": {},
     "output_type": "execute_result"
    }
   ],
   "source": [
    "type(t1[1])"
   ]
  },
  {
   "cell_type": "code",
   "execution_count": 63,
   "id": "8061debf",
   "metadata": {},
   "outputs": [
    {
     "data": {
      "text/plain": [
       "[1, 4, 7, 10]"
      ]
     },
     "execution_count": 63,
     "metadata": {},
     "output_type": "execute_result"
    }
   ],
   "source": [
    "t1[1]"
   ]
  },
  {
   "cell_type": "code",
   "execution_count": 64,
   "id": "277b526b",
   "metadata": {},
   "outputs": [
    {
     "data": {
      "text/plain": [
       "[1, 7]"
      ]
     },
     "execution_count": 64,
     "metadata": {},
     "output_type": "execute_result"
    }
   ],
   "source": [
    "t1[1][::2]"
   ]
  },
  {
   "cell_type": "code",
   "execution_count": 65,
   "id": "b3e0a283",
   "metadata": {},
   "outputs": [
    {
     "data": {
      "text/plain": [
       "'sudhamurty'"
      ]
     },
     "execution_count": 65,
     "metadata": {},
     "output_type": "execute_result"
    }
   ],
   "source": [
    "t[1]"
   ]
  },
  {
   "cell_type": "code",
   "execution_count": 68,
   "id": "fe2ff817",
   "metadata": {},
   "outputs": [
    {
     "data": {
      "text/plain": [
       "'dmt'"
      ]
     },
     "execution_count": 68,
     "metadata": {},
     "output_type": "execute_result"
    }
   ],
   "source": [
    "t[1][2::3]"
   ]
  },
  {
   "cell_type": "code",
   "execution_count": 69,
   "id": "12ae29af",
   "metadata": {},
   "outputs": [
    {
     "name": "stdout",
     "output_type": "stream",
     "text": [
      "s\n",
      "u\n",
      "d\n",
      "h\n",
      "a\n",
      "m\n",
      "u\n",
      "r\n",
      "t\n",
      "y\n"
     ]
    }
   ],
   "source": [
    "for i in t[1]:\n",
    "    print(i)"
   ]
  },
  {
   "cell_type": "code",
   "execution_count": 70,
   "id": "89ce9ff7",
   "metadata": {},
   "outputs": [
    {
     "name": "stdout",
     "output_type": "stream",
     "text": [
      "(1, 3)\n",
      "('naman', 'hello')\n"
     ]
    }
   ],
   "source": [
    "for i in t:\n",
    "    if type(i)==tuple:\n",
    "        print(i[0::2])"
   ]
  },
  {
   "cell_type": "code",
   "execution_count": 71,
   "id": "2d32d546",
   "metadata": {},
   "outputs": [
    {
     "data": {
      "text/plain": [
       "('jain', 'jii')"
      ]
     },
     "execution_count": 71,
     "metadata": {},
     "output_type": "execute_result"
    }
   ],
   "source": [
    "t2"
   ]
  },
  {
   "cell_type": "code",
   "execution_count": 72,
   "id": "8e9393d2",
   "metadata": {},
   "outputs": [
    {
     "data": {
      "text/plain": [
       "2"
      ]
     },
     "execution_count": 72,
     "metadata": {},
     "output_type": "execute_result"
    }
   ],
   "source": [
    "len(t2)"
   ]
  },
  {
   "cell_type": "code",
   "execution_count": 76,
   "id": "b90a0637",
   "metadata": {},
   "outputs": [
    {
     "data": {
      "text/plain": [
       "((1, 2, 3), [1, 4, 7, 10])"
      ]
     },
     "execution_count": 76,
     "metadata": {},
     "output_type": "execute_result"
    }
   ],
   "source": [
    "t1"
   ]
  },
  {
   "cell_type": "code",
   "execution_count": 75,
   "id": "295ef301",
   "metadata": {},
   "outputs": [
    {
     "name": "stdout",
     "output_type": "stream",
     "text": [
      "Element are not same at index 0 in the tuples\n",
      "Element are not same at index 1 in the tuples\n"
     ]
    }
   ],
   "source": [
    "if len(t1)==len(t2):\n",
    "    for i in range(len(t2)):\n",
    "        if t1[i]==t2[i]:\n",
    "            print(\"Element at index {} is same in both the tuples\".format(i))\n",
    "        else:\n",
    "            print(\"Element are not same at index {} in the tuples\".format(i))\n",
    "            "
   ]
  },
  {
   "cell_type": "code",
   "execution_count": 79,
   "id": "ee08abb5",
   "metadata": {},
   "outputs": [
    {
     "data": {
      "text/plain": [
       "70"
      ]
     },
     "execution_count": 79,
     "metadata": {},
     "output_type": "execute_result"
    }
   ],
   "source": [
    "sum([1,2,3,4,5],55)\n"
   ]
  },
  {
   "cell_type": "code",
   "execution_count": 81,
   "id": "f965ea06",
   "metadata": {},
   "outputs": [
    {
     "data": {
      "text/plain": [
       "[1, 2, 34, 3]"
      ]
     },
     "execution_count": 81,
     "metadata": {},
     "output_type": "execute_result"
    }
   ],
   "source": [
    "[1,2,34]+[3]"
   ]
  },
  {
   "cell_type": "code",
   "execution_count": 83,
   "id": "79bee5d0",
   "metadata": {},
   "outputs": [
    {
     "name": "stdout",
     "output_type": "stream",
     "text": [
      "take a user input123\n",
      "your name is not available\n"
     ]
    }
   ],
   "source": [
    "i = input(\"take a user input\")\n",
    "\n",
    "if i in t:\n",
    "    print(\"Your name is available\")\n",
    "else:\n",
    "    print(\"your name is not available\")"
   ]
  },
  {
   "cell_type": "code",
   "execution_count": 84,
   "id": "bbf057bb",
   "metadata": {},
   "outputs": [
    {
     "data": {
      "text/plain": [
       "((1, 2, 3), 'sudhamurty', ('naman', 'jain', 'hello'))"
      ]
     },
     "execution_count": 84,
     "metadata": {},
     "output_type": "execute_result"
    }
   ],
   "source": [
    "t"
   ]
  },
  {
   "cell_type": "code",
   "execution_count": 86,
   "id": "eda0fe0d",
   "metadata": {},
   "outputs": [],
   "source": [
    "del(t)"
   ]
  },
  {
   "cell_type": "code",
   "execution_count": 87,
   "id": "c883b786",
   "metadata": {},
   "outputs": [
    {
     "ename": "NameError",
     "evalue": "name 't' is not defined",
     "output_type": "error",
     "traceback": [
      "\u001b[1;31m---------------------------------------------------------------------------\u001b[0m",
      "\u001b[1;31mNameError\u001b[0m                                 Traceback (most recent call last)",
      "\u001b[1;32m<ipython-input-87-34fc7a11cb38>\u001b[0m in \u001b[0;36m<module>\u001b[1;34m\u001b[0m\n\u001b[1;32m----> 1\u001b[1;33m \u001b[0mt\u001b[0m\u001b[1;33m\u001b[0m\u001b[1;33m\u001b[0m\u001b[0m\n\u001b[0m",
      "\u001b[1;31mNameError\u001b[0m: name 't' is not defined"
     ]
    }
   ],
   "source": [
    "t"
   ]
  },
  {
   "cell_type": "code",
   "execution_count": 88,
   "id": "41e8d78b",
   "metadata": {},
   "outputs": [],
   "source": [
    "# Set\n"
   ]
  },
  {
   "cell_type": "code",
   "execution_count": 89,
   "id": "c517680e",
   "metadata": {},
   "outputs": [],
   "source": [
    "s={1,2,3,1,2,3}"
   ]
  },
  {
   "cell_type": "code",
   "execution_count": 90,
   "id": "029dac39",
   "metadata": {},
   "outputs": [
    {
     "data": {
      "text/plain": [
       "{1, 2, 3}"
      ]
     },
     "execution_count": 90,
     "metadata": {},
     "output_type": "execute_result"
    }
   ],
   "source": [
    "s"
   ]
  },
  {
   "cell_type": "code",
   "execution_count": 91,
   "id": "08663fee",
   "metadata": {},
   "outputs": [],
   "source": [
    "x=set()"
   ]
  },
  {
   "cell_type": "code",
   "execution_count": 92,
   "id": "f3048b9c",
   "metadata": {},
   "outputs": [
    {
     "data": {
      "text/plain": [
       "set"
      ]
     },
     "execution_count": 92,
     "metadata": {},
     "output_type": "execute_result"
    }
   ],
   "source": [
    "type(x)"
   ]
  },
  {
   "cell_type": "code",
   "execution_count": 93,
   "id": "b2f0026f",
   "metadata": {},
   "outputs": [],
   "source": [
    "x={}"
   ]
  },
  {
   "cell_type": "code",
   "execution_count": 94,
   "id": "94a20777",
   "metadata": {},
   "outputs": [
    {
     "data": {
      "text/plain": [
       "dict"
      ]
     },
     "execution_count": 94,
     "metadata": {},
     "output_type": "execute_result"
    }
   ],
   "source": [
    "type(x)"
   ]
  },
  {
   "cell_type": "code",
   "execution_count": 99,
   "id": "e1a839b6",
   "metadata": {},
   "outputs": [],
   "source": [
    "l=[34,24,34,34,45,54,45,65,\"Hello\",\"Best\",\"Best\",\"of\", \"of\", \"luck\"]"
   ]
  },
  {
   "cell_type": "code",
   "execution_count": 100,
   "id": "2141d604",
   "metadata": {},
   "outputs": [
    {
     "data": {
      "text/plain": [
       "[34, 24, 34, 34, 45, 54, 45, 65, 'Hello', 'Best', 'Best', 'of', 'of', 'luck']"
      ]
     },
     "execution_count": 100,
     "metadata": {},
     "output_type": "execute_result"
    }
   ],
   "source": [
    "l"
   ]
  },
  {
   "cell_type": "code",
   "execution_count": 101,
   "id": "2f845bf8",
   "metadata": {},
   "outputs": [],
   "source": [
    "x=set()"
   ]
  },
  {
   "cell_type": "code",
   "execution_count": 102,
   "id": "ddbbe4f8",
   "metadata": {},
   "outputs": [
    {
     "data": {
      "text/plain": [
       "set()"
      ]
     },
     "execution_count": 102,
     "metadata": {},
     "output_type": "execute_result"
    }
   ],
   "source": [
    "set(x)"
   ]
  },
  {
   "cell_type": "code",
   "execution_count": 103,
   "id": "4505823d",
   "metadata": {},
   "outputs": [
    {
     "ename": "NameError",
     "evalue": "name 'set9l' is not defined",
     "output_type": "error",
     "traceback": [
      "\u001b[1;31m---------------------------------------------------------------------------\u001b[0m",
      "\u001b[1;31mNameError\u001b[0m                                 Traceback (most recent call last)",
      "\u001b[1;32m<ipython-input-103-cbae862c6398>\u001b[0m in \u001b[0;36m<module>\u001b[1;34m\u001b[0m\n\u001b[1;32m----> 1\u001b[1;33m \u001b[0mset9l\u001b[0m\u001b[1;33m\u001b[0m\u001b[1;33m\u001b[0m\u001b[0m\n\u001b[0m",
      "\u001b[1;31mNameError\u001b[0m: name 'set9l' is not defined"
     ]
    }
   ],
   "source": [
    "set9l"
   ]
  },
  {
   "cell_type": "code",
   "execution_count": 104,
   "id": "930bcef5",
   "metadata": {},
   "outputs": [
    {
     "data": {
      "text/plain": [
       "{24, 34, 45, 54, 65, 'Best', 'Hello', 'luck', 'of'}"
      ]
     },
     "execution_count": 104,
     "metadata": {},
     "output_type": "execute_result"
    }
   ],
   "source": [
    "set(l)"
   ]
  },
  {
   "cell_type": "code",
   "execution_count": 105,
   "id": "2e3b50c3",
   "metadata": {},
   "outputs": [],
   "source": [
    "l={\"Naman\",\"naman\"}"
   ]
  },
  {
   "cell_type": "code",
   "execution_count": 106,
   "id": "7a8ad5c0",
   "metadata": {},
   "outputs": [
    {
     "data": {
      "text/plain": [
       "{'Naman', 'naman'}"
      ]
     },
     "execution_count": 106,
     "metadata": {},
     "output_type": "execute_result"
    }
   ],
   "source": [
    "l"
   ]
  },
  {
   "cell_type": "code",
   "execution_count": 107,
   "id": "2381c2df",
   "metadata": {},
   "outputs": [
    {
     "data": {
      "text/plain": [
       "set"
      ]
     },
     "execution_count": 107,
     "metadata": {},
     "output_type": "execute_result"
    }
   ],
   "source": [
    "type(l)"
   ]
  },
  {
   "cell_type": "code",
   "execution_count": 108,
   "id": "242d76d9",
   "metadata": {},
   "outputs": [],
   "source": [
    "s=set(l)"
   ]
  },
  {
   "cell_type": "code",
   "execution_count": 109,
   "id": "3c09412d",
   "metadata": {},
   "outputs": [
    {
     "name": "stdout",
     "output_type": "stream",
     "text": [
      "naman\n",
      "Naman\n"
     ]
    }
   ],
   "source": [
    "for i in s:\n",
    "    print(i)"
   ]
  },
  {
   "cell_type": "code",
   "execution_count": 110,
   "id": "e2cfcddc",
   "metadata": {},
   "outputs": [
    {
     "data": {
      "text/plain": [
       "True"
      ]
     },
     "execution_count": 110,
     "metadata": {},
     "output_type": "execute_result"
    }
   ],
   "source": [
    "\"naman\" in s"
   ]
  },
  {
   "cell_type": "code",
   "execution_count": 111,
   "id": "e3502d37",
   "metadata": {},
   "outputs": [
    {
     "ename": "TypeError",
     "evalue": "'set' object is not subscriptable",
     "output_type": "error",
     "traceback": [
      "\u001b[1;31m---------------------------------------------------------------------------\u001b[0m",
      "\u001b[1;31mTypeError\u001b[0m                                 Traceback (most recent call last)",
      "\u001b[1;32m<ipython-input-111-c9c96910e542>\u001b[0m in \u001b[0;36m<module>\u001b[1;34m\u001b[0m\n\u001b[1;32m----> 1\u001b[1;33m \u001b[0ms\u001b[0m\u001b[1;33m[\u001b[0m\u001b[1;36m0\u001b[0m\u001b[1;33m]\u001b[0m\u001b[1;33m\u001b[0m\u001b[1;33m\u001b[0m\u001b[0m\n\u001b[0m",
      "\u001b[1;31mTypeError\u001b[0m: 'set' object is not subscriptable"
     ]
    }
   ],
   "source": [
    "s[0]"
   ]
  },
  {
   "cell_type": "code",
   "execution_count": 112,
   "id": "e2a3481a",
   "metadata": {},
   "outputs": [
    {
     "ename": "SyntaxError",
     "evalue": "invalid syntax (<ipython-input-112-8b3d2dc3d6d7>, line 1)",
     "output_type": "error",
     "traceback": [
      "\u001b[1;36m  File \u001b[1;32m\"<ipython-input-112-8b3d2dc3d6d7>\"\u001b[1;36m, line \u001b[1;32m1\u001b[0m\n\u001b[1;33m    s{0}\u001b[0m\n\u001b[1;37m     ^\u001b[0m\n\u001b[1;31mSyntaxError\u001b[0m\u001b[1;31m:\u001b[0m invalid syntax\n"
     ]
    }
   ],
   "source": [
    "s{0}"
   ]
  },
  {
   "cell_type": "code",
   "execution_count": 113,
   "id": "2cb5e8a1",
   "metadata": {},
   "outputs": [],
   "source": [
    "s=set()"
   ]
  },
  {
   "cell_type": "code",
   "execution_count": 114,
   "id": "29d17793",
   "metadata": {},
   "outputs": [],
   "source": [
    "s.add(45\n",
    "     )"
   ]
  },
  {
   "cell_type": "code",
   "execution_count": 115,
   "id": "d93db4a0",
   "metadata": {},
   "outputs": [],
   "source": [
    "s.add(34)"
   ]
  },
  {
   "cell_type": "code",
   "execution_count": 116,
   "id": "0fa60077",
   "metadata": {},
   "outputs": [],
   "source": [
    "s.add(23)"
   ]
  },
  {
   "cell_type": "code",
   "execution_count": 117,
   "id": "a3c03819",
   "metadata": {},
   "outputs": [
    {
     "data": {
      "text/plain": [
       "{23, 34, 45}"
      ]
     },
     "execution_count": 117,
     "metadata": {},
     "output_type": "execute_result"
    }
   ],
   "source": [
    "s"
   ]
  },
  {
   "cell_type": "code",
   "execution_count": 118,
   "id": "a27d5899",
   "metadata": {},
   "outputs": [],
   "source": [
    "s.add(45)"
   ]
  },
  {
   "cell_type": "code",
   "execution_count": 119,
   "id": "de19456a",
   "metadata": {},
   "outputs": [
    {
     "data": {
      "text/plain": [
       "{23, 34, 45}"
      ]
     },
     "execution_count": 119,
     "metadata": {},
     "output_type": "execute_result"
    }
   ],
   "source": [
    "s"
   ]
  },
  {
   "cell_type": "code",
   "execution_count": 120,
   "id": "5ae9e4a6",
   "metadata": {},
   "outputs": [],
   "source": [
    "s.add(\"Naman\")"
   ]
  },
  {
   "cell_type": "code",
   "execution_count": 121,
   "id": "f5f2c248",
   "metadata": {},
   "outputs": [
    {
     "ename": "TypeError",
     "evalue": "unhashable type: 'list'",
     "output_type": "error",
     "traceback": [
      "\u001b[1;31m---------------------------------------------------------------------------\u001b[0m",
      "\u001b[1;31mTypeError\u001b[0m                                 Traceback (most recent call last)",
      "\u001b[1;32m<ipython-input-121-34448ddb2cf0>\u001b[0m in \u001b[0;36m<module>\u001b[1;34m\u001b[0m\n\u001b[1;32m----> 1\u001b[1;33m \u001b[0ms\u001b[0m\u001b[1;33m.\u001b[0m\u001b[0madd\u001b[0m\u001b[1;33m(\u001b[0m\u001b[1;33m[\u001b[0m\u001b[1;36m1\u001b[0m\u001b[1;33m,\u001b[0m\u001b[1;36m2\u001b[0m\u001b[1;33m,\u001b[0m\u001b[1;36m3\u001b[0m\u001b[1;33m]\u001b[0m\u001b[1;33m)\u001b[0m\u001b[1;33m\u001b[0m\u001b[1;33m\u001b[0m\u001b[0m\n\u001b[0m",
      "\u001b[1;31mTypeError\u001b[0m: unhashable type: 'list'"
     ]
    }
   ],
   "source": [
    "s.add([1,2,3])"
   ]
  },
  {
   "cell_type": "code",
   "execution_count": 122,
   "id": "cbc0cfe6",
   "metadata": {},
   "outputs": [],
   "source": [
    "l=[1,2,3,4,[1,2,3,3]]"
   ]
  },
  {
   "cell_type": "code",
   "execution_count": 123,
   "id": "8c4c2ecc",
   "metadata": {},
   "outputs": [
    {
     "ename": "TypeError",
     "evalue": "unhashable type: 'list'",
     "output_type": "error",
     "traceback": [
      "\u001b[1;31m---------------------------------------------------------------------------\u001b[0m",
      "\u001b[1;31mTypeError\u001b[0m                                 Traceback (most recent call last)",
      "\u001b[1;32m<ipython-input-123-997047561570>\u001b[0m in \u001b[0;36m<module>\u001b[1;34m\u001b[0m\n\u001b[1;32m----> 1\u001b[1;33m \u001b[0mset\u001b[0m\u001b[1;33m(\u001b[0m\u001b[0ml\u001b[0m\u001b[1;33m)\u001b[0m\u001b[1;33m\u001b[0m\u001b[1;33m\u001b[0m\u001b[0m\n\u001b[0m",
      "\u001b[1;31mTypeError\u001b[0m: unhashable type: 'list'"
     ]
    }
   ],
   "source": [
    "set(l)"
   ]
  },
  {
   "cell_type": "code",
   "execution_count": 124,
   "id": "bcb8f826",
   "metadata": {},
   "outputs": [
    {
     "data": {
      "text/plain": [
       "{23, 34, 45, 'Naman'}"
      ]
     },
     "execution_count": 124,
     "metadata": {},
     "output_type": "execute_result"
    }
   ],
   "source": [
    "s"
   ]
  },
  {
   "cell_type": "code",
   "execution_count": 125,
   "id": "07a231c9",
   "metadata": {},
   "outputs": [],
   "source": [
    "s.add(\"jain\")"
   ]
  },
  {
   "cell_type": "code",
   "execution_count": 126,
   "id": "192bdef0",
   "metadata": {},
   "outputs": [
    {
     "data": {
      "text/plain": [
       "{23, 34, 45, 'Naman', 'jain'}"
      ]
     },
     "execution_count": 126,
     "metadata": {},
     "output_type": "execute_result"
    }
   ],
   "source": [
    "s"
   ]
  },
  {
   "cell_type": "code",
   "execution_count": 128,
   "id": "ec97a6c1",
   "metadata": {},
   "outputs": [
    {
     "ename": "KeyError",
     "evalue": "45",
     "output_type": "error",
     "traceback": [
      "\u001b[1;31m---------------------------------------------------------------------------\u001b[0m",
      "\u001b[1;31mKeyError\u001b[0m                                  Traceback (most recent call last)",
      "\u001b[1;32m<ipython-input-128-30b5ee21a9a0>\u001b[0m in \u001b[0;36m<module>\u001b[1;34m\u001b[0m\n\u001b[1;32m----> 1\u001b[1;33m \u001b[0ms\u001b[0m\u001b[1;33m.\u001b[0m\u001b[0mremove\u001b[0m\u001b[1;33m(\u001b[0m\u001b[1;36m45\u001b[0m\u001b[1;33m)\u001b[0m\u001b[1;33m\u001b[0m\u001b[1;33m\u001b[0m\u001b[0m\n\u001b[0m",
      "\u001b[1;31mKeyError\u001b[0m: 45"
     ]
    }
   ],
   "source": [
    "s.remove(45)"
   ]
  },
  {
   "cell_type": "code",
   "execution_count": 129,
   "id": "64323010",
   "metadata": {},
   "outputs": [],
   "source": [
    "s.clear()"
   ]
  },
  {
   "cell_type": "code",
   "execution_count": 130,
   "id": "8c62d86c",
   "metadata": {},
   "outputs": [
    {
     "data": {
      "text/plain": [
       "set()"
      ]
     },
     "execution_count": 130,
     "metadata": {},
     "output_type": "execute_result"
    }
   ],
   "source": [
    "s"
   ]
  },
  {
   "cell_type": "code",
   "execution_count": 131,
   "id": "2cf55723",
   "metadata": {},
   "outputs": [
    {
     "ename": "TypeError",
     "evalue": "unhashable type: 'list'",
     "output_type": "error",
     "traceback": [
      "\u001b[1;31m---------------------------------------------------------------------------\u001b[0m",
      "\u001b[1;31mTypeError\u001b[0m                                 Traceback (most recent call last)",
      "\u001b[1;32m<ipython-input-131-77fc889cda16>\u001b[0m in \u001b[0;36m<module>\u001b[1;34m\u001b[0m\n\u001b[1;32m----> 1\u001b[1;33m \u001b[0ms\u001b[0m\u001b[1;33m=\u001b[0m\u001b[0mset\u001b[0m\u001b[1;33m(\u001b[0m\u001b[0ml\u001b[0m\u001b[1;33m)\u001b[0m\u001b[1;33m\u001b[0m\u001b[1;33m\u001b[0m\u001b[0m\n\u001b[0m",
      "\u001b[1;31mTypeError\u001b[0m: unhashable type: 'list'"
     ]
    }
   ],
   "source": [
    "s=set(l)"
   ]
  },
  {
   "cell_type": "code",
   "execution_count": 132,
   "id": "ef6a04cf",
   "metadata": {},
   "outputs": [
    {
     "data": {
      "text/plain": [
       "set()"
      ]
     },
     "execution_count": 132,
     "metadata": {},
     "output_type": "execute_result"
    }
   ],
   "source": [
    "s"
   ]
  },
  {
   "cell_type": "code",
   "execution_count": 135,
   "id": "dbaafd9a",
   "metadata": {},
   "outputs": [],
   "source": [
    "s.add(234)"
   ]
  },
  {
   "cell_type": "code",
   "execution_count": 136,
   "id": "f1577539",
   "metadata": {},
   "outputs": [],
   "source": [
    "s.add(2)"
   ]
  },
  {
   "cell_type": "code",
   "execution_count": 137,
   "id": "18bf96e8",
   "metadata": {},
   "outputs": [],
   "source": [
    "s.add(10)"
   ]
  },
  {
   "cell_type": "code",
   "execution_count": 138,
   "id": "296d779b",
   "metadata": {},
   "outputs": [
    {
     "data": {
      "text/plain": [
       "{2, 10, 234}"
      ]
     },
     "execution_count": 138,
     "metadata": {},
     "output_type": "execute_result"
    }
   ],
   "source": [
    "s"
   ]
  },
  {
   "cell_type": "code",
   "execution_count": 142,
   "id": "781d6e56",
   "metadata": {},
   "outputs": [],
   "source": [
    "s1=set(l)"
   ]
  },
  {
   "cell_type": "code",
   "execution_count": 140,
   "id": "7cef7d82",
   "metadata": {},
   "outputs": [],
   "source": [
    "l=[1,2,3,4,\"naman\",\"asfas\"]"
   ]
  },
  {
   "cell_type": "code",
   "execution_count": 143,
   "id": "43fe03ef",
   "metadata": {},
   "outputs": [
    {
     "data": {
      "text/plain": [
       "{1, 2, 3, 4, 'asfas', 'naman'}"
      ]
     },
     "execution_count": 143,
     "metadata": {},
     "output_type": "execute_result"
    }
   ],
   "source": [
    "s1"
   ]
  },
  {
   "cell_type": "code",
   "execution_count": 144,
   "id": "5296c8af",
   "metadata": {},
   "outputs": [
    {
     "ename": "TypeError",
     "evalue": "unsupported operand type(s) for +: 'set' and 'set'",
     "output_type": "error",
     "traceback": [
      "\u001b[1;31m---------------------------------------------------------------------------\u001b[0m",
      "\u001b[1;31mTypeError\u001b[0m                                 Traceback (most recent call last)",
      "\u001b[1;32m<ipython-input-144-d4a57f000bc9>\u001b[0m in \u001b[0;36m<module>\u001b[1;34m\u001b[0m\n\u001b[1;32m----> 1\u001b[1;33m \u001b[0ms\u001b[0m\u001b[1;33m+\u001b[0m\u001b[0ms1\u001b[0m\u001b[1;33m\u001b[0m\u001b[1;33m\u001b[0m\u001b[0m\n\u001b[0m",
      "\u001b[1;31mTypeError\u001b[0m: unsupported operand type(s) for +: 'set' and 'set'"
     ]
    }
   ],
   "source": [
    "s+s1"
   ]
  },
  {
   "cell_type": "code",
   "execution_count": 145,
   "id": "3c3ab997",
   "metadata": {},
   "outputs": [
    {
     "ename": "TypeError",
     "evalue": "unsupported operand type(s) for *: 'set' and 'int'",
     "output_type": "error",
     "traceback": [
      "\u001b[1;31m---------------------------------------------------------------------------\u001b[0m",
      "\u001b[1;31mTypeError\u001b[0m                                 Traceback (most recent call last)",
      "\u001b[1;32m<ipython-input-145-cfdd4c7eed53>\u001b[0m in \u001b[0;36m<module>\u001b[1;34m\u001b[0m\n\u001b[1;32m----> 1\u001b[1;33m \u001b[0ms\u001b[0m\u001b[1;33m*\u001b[0m\u001b[1;36m4\u001b[0m\u001b[1;33m\u001b[0m\u001b[1;33m\u001b[0m\u001b[0m\n\u001b[0m",
      "\u001b[1;31mTypeError\u001b[0m: unsupported operand type(s) for *: 'set' and 'int'"
     ]
    }
   ],
   "source": [
    "s*4"
   ]
  },
  {
   "cell_type": "code",
   "execution_count": 146,
   "id": "0191db89",
   "metadata": {},
   "outputs": [
    {
     "data": {
      "text/plain": [
       "{2, 10, 234}"
      ]
     },
     "execution_count": 146,
     "metadata": {},
     "output_type": "execute_result"
    }
   ],
   "source": [
    "s"
   ]
  },
  {
   "cell_type": "code",
   "execution_count": 148,
   "id": "d3e654cf",
   "metadata": {},
   "outputs": [],
   "source": [
    "l1=list(s)"
   ]
  },
  {
   "cell_type": "code",
   "execution_count": 149,
   "id": "65ba4270",
   "metadata": {},
   "outputs": [
    {
     "data": {
      "text/plain": [
       "[10, 234, 2]"
      ]
     },
     "execution_count": 149,
     "metadata": {},
     "output_type": "execute_result"
    }
   ],
   "source": [
    "l1"
   ]
  },
  {
   "cell_type": "code",
   "execution_count": 150,
   "id": "b3faf931",
   "metadata": {},
   "outputs": [],
   "source": [
    "l1.append(10)"
   ]
  },
  {
   "cell_type": "code",
   "execution_count": 151,
   "id": "bc37589d",
   "metadata": {},
   "outputs": [
    {
     "data": {
      "text/plain": [
       "[10, 234, 2, 10]"
      ]
     },
     "execution_count": 151,
     "metadata": {},
     "output_type": "execute_result"
    }
   ],
   "source": [
    "l1"
   ]
  },
  {
   "cell_type": "code",
   "execution_count": 153,
   "id": "77205d5c",
   "metadata": {},
   "outputs": [],
   "source": [
    "l1.append(10)"
   ]
  },
  {
   "cell_type": "code",
   "execution_count": 155,
   "id": "1ccc0199",
   "metadata": {},
   "outputs": [],
   "source": [
    "t=tuple(s)"
   ]
  },
  {
   "cell_type": "code",
   "execution_count": 156,
   "id": "e251ada7",
   "metadata": {},
   "outputs": [
    {
     "data": {
      "text/plain": [
       "(10, 234, 2)"
      ]
     },
     "execution_count": 156,
     "metadata": {},
     "output_type": "execute_result"
    }
   ],
   "source": [
    "t"
   ]
  },
  {
   "cell_type": "code",
   "execution_count": 157,
   "id": "a6185751",
   "metadata": {},
   "outputs": [
    {
     "data": {
      "text/plain": [
       "{2, 10, 234}"
      ]
     },
     "execution_count": 157,
     "metadata": {},
     "output_type": "execute_result"
    }
   ],
   "source": [
    "set(t)"
   ]
  },
  {
   "cell_type": "code",
   "execution_count": 159,
   "id": "4bd86c67",
   "metadata": {},
   "outputs": [
    {
     "ename": "TypeError",
     "evalue": "'set' object is not subscriptable",
     "output_type": "error",
     "traceback": [
      "\u001b[1;31m---------------------------------------------------------------------------\u001b[0m",
      "\u001b[1;31mTypeError\u001b[0m                                 Traceback (most recent call last)",
      "\u001b[1;32m<ipython-input-159-c9c96910e542>\u001b[0m in \u001b[0;36m<module>\u001b[1;34m\u001b[0m\n\u001b[1;32m----> 1\u001b[1;33m \u001b[0ms\u001b[0m\u001b[1;33m[\u001b[0m\u001b[1;36m0\u001b[0m\u001b[1;33m]\u001b[0m\u001b[1;33m\u001b[0m\u001b[1;33m\u001b[0m\u001b[0m\n\u001b[0m",
      "\u001b[1;31mTypeError\u001b[0m: 'set' object is not subscriptable"
     ]
    }
   ],
   "source": [
    "s[0]"
   ]
  },
  {
   "cell_type": "code",
   "execution_count": 161,
   "id": "37318205",
   "metadata": {},
   "outputs": [],
   "source": [
    "s={10,1,2}"
   ]
  },
  {
   "cell_type": "code",
   "execution_count": 162,
   "id": "a85edb61",
   "metadata": {},
   "outputs": [
    {
     "data": {
      "text/plain": [
       "{1, 2, 10}"
      ]
     },
     "execution_count": 162,
     "metadata": {},
     "output_type": "execute_result"
    }
   ],
   "source": [
    "s"
   ]
  },
  {
   "cell_type": "code",
   "execution_count": 163,
   "id": "462a8e86",
   "metadata": {},
   "outputs": [
    {
     "data": {
      "text/plain": [
       "{1, 2, 10}"
      ]
     },
     "execution_count": 163,
     "metadata": {},
     "output_type": "execute_result"
    }
   ],
   "source": [
    "s"
   ]
  },
  {
   "cell_type": "code",
   "execution_count": 164,
   "id": "3b2e23c5",
   "metadata": {},
   "outputs": [
    {
     "data": {
      "text/plain": [
       "{1, 2, 10}"
      ]
     },
     "execution_count": 164,
     "metadata": {},
     "output_type": "execute_result"
    }
   ],
   "source": [
    "s"
   ]
  },
  {
   "cell_type": "code",
   "execution_count": 160,
   "id": "ffe23f60",
   "metadata": {},
   "outputs": [],
   "source": [
    "# Dictionaries----> Key : Value pairs "
   ]
  },
  {
   "cell_type": "code",
   "execution_count": 165,
   "id": "e3669b62",
   "metadata": {},
   "outputs": [],
   "source": [
    "x={}"
   ]
  },
  {
   "cell_type": "code",
   "execution_count": 166,
   "id": "1f444d77",
   "metadata": {},
   "outputs": [
    {
     "data": {
      "text/plain": [
       "dict"
      ]
     },
     "execution_count": 166,
     "metadata": {},
     "output_type": "execute_result"
    }
   ],
   "source": [
    "type(x)"
   ]
  },
  {
   "cell_type": "code",
   "execution_count": 167,
   "id": "b1362de0",
   "metadata": {},
   "outputs": [],
   "source": [
    "x1={34,33}"
   ]
  },
  {
   "cell_type": "code",
   "execution_count": 168,
   "id": "90247ad9",
   "metadata": {},
   "outputs": [
    {
     "data": {
      "text/plain": [
       "set"
      ]
     },
     "execution_count": 168,
     "metadata": {},
     "output_type": "execute_result"
    }
   ],
   "source": [
    "type(x1)"
   ]
  },
  {
   "cell_type": "code",
   "execution_count": 169,
   "id": "010cbeaf",
   "metadata": {},
   "outputs": [],
   "source": [
    "## Dictionary"
   ]
  },
  {
   "cell_type": "code",
   "execution_count": 171,
   "id": "2a45675a",
   "metadata": {},
   "outputs": [],
   "source": [
    "x={\"name\":\"Naman\",\"age\":32}"
   ]
  },
  {
   "cell_type": "code",
   "execution_count": 172,
   "id": "e83a073f",
   "metadata": {},
   "outputs": [
    {
     "data": {
      "text/plain": [
       "dict"
      ]
     },
     "execution_count": 172,
     "metadata": {},
     "output_type": "execute_result"
    }
   ],
   "source": [
    "type(x)"
   ]
  },
  {
   "cell_type": "code",
   "execution_count": 173,
   "id": "157d0d9b",
   "metadata": {},
   "outputs": [],
   "source": [
    "x1={\"name\":\"Naman\",\"age\":32,\"name\":\"ads\",\"age\":12,True:\"123\",\"key\":False,232:123}"
   ]
  },
  {
   "cell_type": "code",
   "execution_count": 175,
   "id": "26ad845d",
   "metadata": {},
   "outputs": [
    {
     "data": {
      "text/plain": [
       "{'name': 'ads', 'age': 12, True: '123', 'key': False, 232: 123}"
      ]
     },
     "execution_count": 175,
     "metadata": {},
     "output_type": "execute_result"
    }
   ],
   "source": [
    "x1"
   ]
  },
  {
   "cell_type": "code",
   "execution_count": 176,
   "id": "224622d2",
   "metadata": {},
   "outputs": [],
   "source": [
    "x1={\"name\":\"Naman\",\"age\":32,\"name\":\"ads\",\"age\":12,True:\"123\",\"key\":False,232:123,\"123123\":[1,2,3,3,4,4,2], \"qwr\":(1.23,13)}"
   ]
  },
  {
   "cell_type": "code",
   "execution_count": 177,
   "id": "3e1b4771",
   "metadata": {},
   "outputs": [
    {
     "data": {
      "text/plain": [
       "{'name': 'ads',\n",
       " 'age': 12,\n",
       " True: '123',\n",
       " 'key': False,\n",
       " 232: 123,\n",
       " '123123': [1, 2, 3, 3, 4, 4, 2],\n",
       " 'qwr': (1.23, 13)}"
      ]
     },
     "execution_count": 177,
     "metadata": {},
     "output_type": "execute_result"
    }
   ],
   "source": [
    "x1"
   ]
  },
  {
   "cell_type": "code",
   "execution_count": 186,
   "id": "90258d86",
   "metadata": {},
   "outputs": [],
   "source": [
    "x1={\"name\":{\"fname\":\"naman\",\"lname\":\"jain\"},\"age\":32,True:\"123\",\"key\":False,232:123,\"_asf\":13}"
   ]
  },
  {
   "cell_type": "code",
   "execution_count": 187,
   "id": "657b9161",
   "metadata": {},
   "outputs": [
    {
     "data": {
      "text/plain": [
       "{'name': {'fname': 'naman', 'lname': 'jain'},\n",
       " 'age': 32,\n",
       " True: '123',\n",
       " 'key': False,\n",
       " 232: 123,\n",
       " '_asf': 13}"
      ]
     },
     "execution_count": 187,
     "metadata": {},
     "output_type": "execute_result"
    }
   ],
   "source": [
    "x1"
   ]
  },
  {
   "cell_type": "code",
   "execution_count": 188,
   "id": "165e20f2",
   "metadata": {},
   "outputs": [],
   "source": [
    "x3={5:\"wer\",\"k4\":[1,2,3,4]}"
   ]
  },
  {
   "cell_type": "code",
   "execution_count": 189,
   "id": "f6523a9a",
   "metadata": {},
   "outputs": [
    {
     "data": {
      "text/plain": [
       "[1, 2, 3, 4]"
      ]
     },
     "execution_count": 189,
     "metadata": {},
     "output_type": "execute_result"
    }
   ],
   "source": [
    "x3[\"k4\"]"
   ]
  },
  {
   "cell_type": "code",
   "execution_count": 191,
   "id": "7f5a8e77",
   "metadata": {},
   "outputs": [
    {
     "data": {
      "text/plain": [
       "'wer'"
      ]
     },
     "execution_count": 191,
     "metadata": {},
     "output_type": "execute_result"
    }
   ],
   "source": [
    "x3[5]"
   ]
  },
  {
   "cell_type": "code",
   "execution_count": 192,
   "id": "c8e0b2a1",
   "metadata": {},
   "outputs": [
    {
     "data": {
      "text/plain": [
       "4"
      ]
     },
     "execution_count": 192,
     "metadata": {},
     "output_type": "execute_result"
    }
   ],
   "source": [
    "x3[\"k4\"][3]"
   ]
  },
  {
   "cell_type": "code",
   "execution_count": 193,
   "id": "f9c31047",
   "metadata": {},
   "outputs": [
    {
     "ename": "TypeError",
     "evalue": "unsupported operand type(s) for +: 'dict' and 'dict'",
     "output_type": "error",
     "traceback": [
      "\u001b[1;31m---------------------------------------------------------------------------\u001b[0m",
      "\u001b[1;31mTypeError\u001b[0m                                 Traceback (most recent call last)",
      "\u001b[1;32m<ipython-input-193-9b913862a76c>\u001b[0m in \u001b[0;36m<module>\u001b[1;34m\u001b[0m\n\u001b[1;32m----> 1\u001b[1;33m \u001b[0mx3\u001b[0m\u001b[1;33m+\u001b[0m\u001b[0mx1\u001b[0m\u001b[1;33m\u001b[0m\u001b[1;33m\u001b[0m\u001b[0m\n\u001b[0m",
      "\u001b[1;31mTypeError\u001b[0m: unsupported operand type(s) for +: 'dict' and 'dict'"
     ]
    }
   ],
   "source": [
    "x3+x1"
   ]
  },
  {
   "cell_type": "code",
   "execution_count": 194,
   "id": "6f6b9a49",
   "metadata": {},
   "outputs": [
    {
     "ename": "TypeError",
     "evalue": "unsupported operand type(s) for *: 'dict' and 'int'",
     "output_type": "error",
     "traceback": [
      "\u001b[1;31m---------------------------------------------------------------------------\u001b[0m",
      "\u001b[1;31mTypeError\u001b[0m                                 Traceback (most recent call last)",
      "\u001b[1;32m<ipython-input-194-3a42545c4868>\u001b[0m in \u001b[0;36m<module>\u001b[1;34m\u001b[0m\n\u001b[1;32m----> 1\u001b[1;33m \u001b[0mx3\u001b[0m\u001b[1;33m*\u001b[0m\u001b[1;36m3\u001b[0m\u001b[1;33m\u001b[0m\u001b[1;33m\u001b[0m\u001b[0m\n\u001b[0m",
      "\u001b[1;31mTypeError\u001b[0m: unsupported operand type(s) for *: 'dict' and 'int'"
     ]
    }
   ],
   "source": [
    "x3*3"
   ]
  },
  {
   "cell_type": "code",
   "execution_count": 195,
   "id": "83f91ecf",
   "metadata": {},
   "outputs": [
    {
     "data": {
      "text/plain": [
       "{5: 'wer', 'k4': [1, 2, 3, 4]}"
      ]
     },
     "execution_count": 195,
     "metadata": {},
     "output_type": "execute_result"
    }
   ],
   "source": [
    "x3"
   ]
  },
  {
   "cell_type": "code",
   "execution_count": 196,
   "id": "10553c4b",
   "metadata": {},
   "outputs": [],
   "source": [
    "x3[\"k4\"]=[2,3]"
   ]
  },
  {
   "cell_type": "code",
   "execution_count": 197,
   "id": "6fd72ab9",
   "metadata": {},
   "outputs": [
    {
     "data": {
      "text/plain": [
       "{5: 'wer', 'k4': [2, 3]}"
      ]
     },
     "execution_count": 197,
     "metadata": {},
     "output_type": "execute_result"
    }
   ],
   "source": [
    "x3"
   ]
  },
  {
   "cell_type": "code",
   "execution_count": 199,
   "id": "9840d8a8",
   "metadata": {},
   "outputs": [],
   "source": [
    "x3['k4']=2"
   ]
  },
  {
   "cell_type": "code",
   "execution_count": 200,
   "id": "aa74e3a5",
   "metadata": {},
   "outputs": [],
   "source": [
    "x3[\"k4\"]-=1"
   ]
  },
  {
   "cell_type": "code",
   "execution_count": 201,
   "id": "5bc8d7e4",
   "metadata": {},
   "outputs": [
    {
     "data": {
      "text/plain": [
       "{5: 'wer', 'k4': 1}"
      ]
     },
     "execution_count": 201,
     "metadata": {},
     "output_type": "execute_result"
    }
   ],
   "source": [
    "x3"
   ]
  },
  {
   "cell_type": "code",
   "execution_count": 202,
   "id": "f96478eb",
   "metadata": {},
   "outputs": [
    {
     "data": {
      "text/plain": [
       "dict_keys([5, 'k4'])"
      ]
     },
     "execution_count": 202,
     "metadata": {},
     "output_type": "execute_result"
    }
   ],
   "source": [
    "x3.keys()"
   ]
  },
  {
   "cell_type": "code",
   "execution_count": 203,
   "id": "5348435d",
   "metadata": {},
   "outputs": [
    {
     "name": "stdout",
     "output_type": "stream",
     "text": [
      "wer\n",
      "1\n"
     ]
    }
   ],
   "source": [
    "for i in x3.keys():\n",
    "    print(x3[i])"
   ]
  },
  {
   "cell_type": "code",
   "execution_count": 204,
   "id": "d1b51db5",
   "metadata": {},
   "outputs": [
    {
     "data": {
      "text/plain": [
       "dict_values(['wer', 1])"
      ]
     },
     "execution_count": 204,
     "metadata": {},
     "output_type": "execute_result"
    }
   ],
   "source": [
    "x3.values()"
   ]
  },
  {
   "cell_type": "code",
   "execution_count": 205,
   "id": "23335304",
   "metadata": {},
   "outputs": [
    {
     "data": {
      "text/plain": [
       "1"
      ]
     },
     "execution_count": 205,
     "metadata": {},
     "output_type": "execute_result"
    }
   ],
   "source": [
    "x3.pop(\"k4\")"
   ]
  },
  {
   "cell_type": "code",
   "execution_count": 206,
   "id": "01ad7f5c",
   "metadata": {},
   "outputs": [
    {
     "data": {
      "text/plain": [
       "{5: 'wer'}"
      ]
     },
     "execution_count": 206,
     "metadata": {},
     "output_type": "execute_result"
    }
   ],
   "source": [
    "x3"
   ]
  },
  {
   "cell_type": "code",
   "execution_count": 230,
   "id": "28da0fb7",
   "metadata": {},
   "outputs": [
    {
     "data": {
      "text/plain": [
       "['name', 'age']"
      ]
     },
     "execution_count": 230,
     "metadata": {},
     "output_type": "execute_result"
    }
   ],
   "source": [
    "list(x.keys())"
   ]
  },
  {
   "cell_type": "code",
   "execution_count": 208,
   "id": "7ecadc11",
   "metadata": {},
   "outputs": [
    {
     "ename": "NameError",
     "evalue": "name 'x2' is not defined",
     "output_type": "error",
     "traceback": [
      "\u001b[1;31m---------------------------------------------------------------------------\u001b[0m",
      "\u001b[1;31mNameError\u001b[0m                                 Traceback (most recent call last)",
      "\u001b[1;32m<ipython-input-208-f6b3a9101f77>\u001b[0m in \u001b[0;36m<module>\u001b[1;34m\u001b[0m\n\u001b[1;32m----> 1\u001b[1;33m \u001b[0mx2\u001b[0m\u001b[1;33m.\u001b[0m\u001b[0mitems\u001b[0m\u001b[1;33m(\u001b[0m\u001b[1;33m)\u001b[0m\u001b[1;33m\u001b[0m\u001b[1;33m\u001b[0m\u001b[0m\n\u001b[0m",
      "\u001b[1;31mNameError\u001b[0m: name 'x2' is not defined"
     ]
    }
   ],
   "source": [
    "x2.items()"
   ]
  },
  {
   "cell_type": "code",
   "execution_count": 209,
   "id": "45fa3c77",
   "metadata": {},
   "outputs": [
    {
     "data": {
      "text/plain": [
       "dict_items([('name', {'fname': 'naman', 'lname': 'jain'}), ('age', 32), (True, '123'), ('key', False), (232, 123), ('_asf', 13)])"
      ]
     },
     "execution_count": 209,
     "metadata": {},
     "output_type": "execute_result"
    }
   ],
   "source": [
    "x1.items()"
   ]
  },
  {
   "cell_type": "markdown",
   "id": "37ecccdf",
   "metadata": {},
   "source": [
    "for i in x1.items():\n",
    "    print(i[0])"
   ]
  },
  {
   "cell_type": "code",
   "execution_count": 212,
   "id": "ebecff13",
   "metadata": {},
   "outputs": [],
   "source": [
    "x5 ={(34,56,56):\"Fsdasfadf\"}"
   ]
  },
  {
   "cell_type": "code",
   "execution_count": 213,
   "id": "ea13f45e",
   "metadata": {},
   "outputs": [
    {
     "data": {
      "text/plain": [
       "'Fsdasfadf'"
      ]
     },
     "execution_count": 213,
     "metadata": {},
     "output_type": "execute_result"
    }
   ],
   "source": [
    "x5[(34,56,56)]"
   ]
  },
  {
   "cell_type": "code",
   "execution_count": 215,
   "id": "7a03cb14",
   "metadata": {},
   "outputs": [
    {
     "data": {
      "text/plain": [
       "6"
      ]
     },
     "execution_count": 215,
     "metadata": {},
     "output_type": "execute_result"
    }
   ],
   "source": [
    "len(x1)"
   ]
  },
  {
   "cell_type": "code",
   "execution_count": 216,
   "id": "f4a51fc6",
   "metadata": {},
   "outputs": [
    {
     "data": {
      "text/plain": [
       "228000"
      ]
     },
     "execution_count": 216,
     "metadata": {},
     "output_type": "execute_result"
    }
   ],
   "source": [
    "57000*4"
   ]
  },
  {
   "cell_type": "code",
   "execution_count": 217,
   "id": "29aef7ed",
   "metadata": {},
   "outputs": [],
   "source": [
    "# small Program\n",
    "\n",
    "\"\"\"\"\"\""
   ]
  },
  {
   "cell_type": "code",
   "execution_count": 232,
   "id": "ccb96a34",
   "metadata": {},
   "outputs": [
    {
     "name": "stdout",
     "output_type": "stream",
     "text": [
      "Enter a short Paragraph-->This futuristic dream-like scenario is being sold to us as a real scientific possibility, with billionaires planning to move humanity to Mars in the near future. For decades, children have grown up with the daring movie adventures of intergalactic explorers and the untold habitable worlds they find. Many of the highest-grossing films are set on fictional planets, with paid advisors keeping the science ‘realistic’. At the same time, narratives of humans trying to survive on a post-apocalyptic Earth have also become mainstream.\n",
      "['This', 'futuristic', 'dream-like', 'scenario', 'is', 'being', 'sold', 'to', 'us', 'as', 'a', 'real', 'scientific', 'possibility,', 'with', 'billionaires', 'planning', 'to', 'move', 'humanity', 'to', 'Mars', 'in', 'the', 'near', 'future.', 'For', 'decades,', 'children', 'have', 'grown', 'up', 'with', 'the', 'daring', 'movie', 'adventures', 'of', 'intergalactic', 'explorers', 'and', 'the', 'untold', 'habitable', 'worlds', 'they', 'find.', 'Many', 'of', 'the', 'highest-grossing', 'films', 'are', 'set', 'on', 'fictional', 'planets,', 'with', 'paid', 'advisors', 'keeping', 'the', 'science', '‘realistic’.', 'At', 'the', 'same', 'time,', 'narratives', 'of', 'humans', 'trying', 'to', 'survive', 'on', 'a', 'post-apocalyptic', 'Earth', 'have', 'also', 'become', 'mainstream.']\n",
      "82\n",
      "67\n",
      "{'daring': 'Naman', 'keeping': 'Naman', 'dream-like': 'Naman', 'a': 'Naman', 'us': 'Naman', 'scenario': 'Naman', 'also': 'Naman', 'highest-grossing': 'Naman', 'real': 'Naman', 'have': 'Naman', 'sold': 'Naman', 'futuristic': 'Naman', 'possibility,': 'Naman', 'find.': 'Naman', 'planets,': 'Naman', 'decades,': 'Naman', 'explorers': 'Naman', 'trying': 'Naman', 'of': 'Naman', 'worlds': 'Naman', 'At': 'Naman', 'Earth': 'Naman', 'set': 'Naman', 'fictional': 'Naman', 'being': 'Naman', 'billionaires': 'Naman', 'in': 'Naman', '‘realistic’.': 'Naman', 'near': 'Naman', 'children': 'Naman', 'survive': 'Naman', 'is': 'Naman', 'adventures': 'Naman', 'advisors': 'Naman', 'intergalactic': 'Naman', 'This': 'Naman', 'on': 'Naman', 'same': 'Naman', 'Mars': 'Naman', 'move': 'Naman', 'up': 'Naman', 'humanity': 'Naman', 'untold': 'Naman', 'the': 'Naman', 'paid': 'Naman', 'time,': 'Naman', 'with': 'Naman', 'to': 'Naman', 'grown': 'Naman', 'movie': 'Naman', 'Many': 'Naman', 'narratives': 'Naman', 'mainstream.': 'Naman', 'habitable': 'Naman', 'humans': 'Naman', 'they': 'Naman', 'future.': 'Naman', 'are': 'Naman', 'science': 'Naman', 'as': 'Naman', 'planning': 'Naman', 'become': 'Naman', 'For': 'Naman', 'post-apocalyptic': 'Naman', 'scientific': 'Naman', 'films': 'Naman', 'and': 'Naman'}\n",
      "('Naman', 'Naman', 'Naman', 'Naman', 'Naman', 'Naman', 'Naman', 'Naman', 'Naman', 'Naman', 'Naman', 'Naman', 'Naman', 'Naman', 'Naman', 'Naman', 'Naman', 'Naman', 'Naman', 'Naman', 'Naman', 'Naman', 'Naman', 'Naman', 'Naman', 'Naman', 'Naman', 'Naman', 'Naman', 'Naman', 'Naman', 'Naman', 'Naman', 'Naman', 'Naman', 'Naman', 'Naman', 'Naman', 'Naman', 'Naman', 'Naman', 'Naman', 'Naman', 'Naman', 'Naman', 'Naman', 'Naman', 'Naman', 'Naman', 'Naman', 'Naman', 'Naman', 'Naman', 'Naman', 'Naman', 'Naman', 'Naman', 'Naman', 'Naman', 'Naman', 'Naman', 'Naman', 'Naman', 'Naman', 'Naman', 'Naman', 'Naman')\n",
      "['daring', 'keeping', 'dream-like', 'a', 'us', 'scenario', 'also', 'highest-grossing', 'real', 'have', 'sold', 'futuristic', 'possibility,', 'find.', 'planets,', 'decades,', 'explorers', 'trying', 'of', 'worlds', 'At', 'Earth', 'set', 'fictional', 'being', 'billionaires', 'in', '‘realistic’.', 'near', 'children', 'survive', 'is', 'adventures', 'advisors', 'intergalactic', 'This', 'on', 'same', 'Mars', 'move', 'up', 'humanity', 'untold', 'the', 'paid', 'time,', 'with', 'to', 'grown', 'movie', 'Many', 'narratives', 'mainstream.', 'habitable', 'humans', 'they', 'future.', 'are', 'science', 'as', 'planning', 'become', 'For', 'post-apocalyptic', 'scientific', 'films', 'and']\n"
     ]
    }
   ],
   "source": [
    "Text_p = input(\"Enter a short Paragraph-->\") # Taken input \n",
    "l= Text_p.split() # splitted the paragraph based on the white space as delimiter\n",
    "\n",
    "print(l) # list of words from the paragraphs\n",
    "\n",
    "print(len(l)) # length of the list of words\n",
    "\n",
    "l=list(set(l))# Duplicates elements are removed from the list\n",
    "\n",
    "print(len(l)) # length of list of words after the removal of duplicates\n",
    "\n",
    "dict_words=dict()\n",
    "for i in l:\n",
    "    dict_words[i]=\"Naman\"      # Created a dictionary of words as a keys \n",
    "print(dict_words)\n",
    "\n",
    "t=tuple(dict_words.values())\n",
    "print(t)                            # Converted the list of keys into tuple\n",
    "\n",
    "l=list(dict_words.keys())\n",
    "print(l)                           # List of all the keys \n",
    "\n"
   ]
  },
  {
   "cell_type": "code",
   "execution_count": 233,
   "id": "b34c890b",
   "metadata": {},
   "outputs": [],
   "source": [
    "d={\"company\":\"Ineuron\",\"Course\":\"FSDS\",\"prerequsite\":\"Python\",\"Year\":2023}"
   ]
  },
  {
   "cell_type": "code",
   "execution_count": 234,
   "id": "bcc5f696",
   "metadata": {},
   "outputs": [
    {
     "data": {
      "text/plain": [
       "{'company': 'Ineuron', 'Course': 'FSDS', 'prerequsite': 'Python', 'Year': 2023}"
      ]
     },
     "execution_count": 234,
     "metadata": {},
     "output_type": "execute_result"
    }
   ],
   "source": [
    "d"
   ]
  },
  {
   "cell_type": "code",
   "execution_count": 242,
   "id": "36027bd0",
   "metadata": {},
   "outputs": [
    {
     "name": "stdout",
     "output_type": "stream",
     "text": [
      "company Ineuron\n",
      "Course FSDS\n",
      "prerequsite Python\n",
      "Year 2023\n"
     ]
    }
   ],
   "source": [
    "for i,l in d.items():\n",
    "    print(i,l)"
   ]
  },
  {
   "cell_type": "code",
   "execution_count": 243,
   "id": "42f3d9a4",
   "metadata": {},
   "outputs": [
    {
     "data": {
      "text/plain": [
       "True"
      ]
     },
     "execution_count": 243,
     "metadata": {},
     "output_type": "execute_result"
    }
   ],
   "source": [
    "\"Course\" in d\n"
   ]
  },
  {
   "cell_type": "code",
   "execution_count": 246,
   "id": "126fdd7d",
   "metadata": {},
   "outputs": [
    {
     "name": "stdout",
     "output_type": "stream",
     "text": [
      "Hello THis year brings a lot of joy\n"
     ]
    }
   ],
   "source": [
    "if d[\"Year\"]>=2023:\n",
    "    print(\"Hello THis year brings a lot of joy\")\n",
    "    if len(d[\"company\"])!=7:\n",
    "        print(\"Not a 7 lettered string\")"
   ]
  },
  {
   "cell_type": "code",
   "execution_count": 253,
   "id": "085cb24a",
   "metadata": {},
   "outputs": [
    {
     "name": "stdout",
     "output_type": "stream",
     "text": [
      "Year is fine\n"
     ]
    }
   ],
   "source": [
    "for i in d:\n",
    "    if i==\"Year\":\n",
    "        if d[i]>2022:\n",
    "            print(\"Year is fine\")\n",
    "        else:\n",
    "            d[i]=2023\n",
    "        "
   ]
  },
  {
   "cell_type": "code",
   "execution_count": 252,
   "id": "14a71c62",
   "metadata": {},
   "outputs": [
    {
     "data": {
      "text/plain": [
       "{'company': 'Ineuron', 'Course': 'FSDS', 'prerequsite': 'Python', 'Year': 2023}"
      ]
     },
     "execution_count": 252,
     "metadata": {},
     "output_type": "execute_result"
    }
   ],
   "source": [
    "d"
   ]
  },
  {
   "cell_type": "code",
   "execution_count": 254,
   "id": "c18dce40",
   "metadata": {},
   "outputs": [],
   "source": [
    "# Dictionary comprehension"
   ]
  },
  {
   "cell_type": "code",
   "execution_count": 256,
   "id": "ab292f99",
   "metadata": {},
   "outputs": [],
   "source": [
    "my_dict={}\n",
    "for i in range(10):\n",
    "    my_dict[i]=i*i"
   ]
  },
  {
   "cell_type": "code",
   "execution_count": 257,
   "id": "2ebd5d45",
   "metadata": {},
   "outputs": [
    {
     "data": {
      "text/plain": [
       "{0: 0, 1: 1, 2: 4, 3: 9, 4: 16, 5: 25, 6: 36, 7: 49, 8: 64, 9: 81}"
      ]
     },
     "execution_count": 257,
     "metadata": {},
     "output_type": "execute_result"
    }
   ],
   "source": [
    "my_dict"
   ]
  },
  {
   "cell_type": "code",
   "execution_count": 258,
   "id": "a33abac8",
   "metadata": {},
   "outputs": [
    {
     "data": {
      "text/plain": [
       "{0: 0, 1: 1, 2: 4, 3: 9, 4: 16, 5: 25, 6: 36, 7: 49, 8: 64, 9: 81}"
      ]
     },
     "execution_count": 258,
     "metadata": {},
     "output_type": "execute_result"
    }
   ],
   "source": [
    "{i:i*i for i in range(10)}"
   ]
  },
  {
   "cell_type": "code",
   "execution_count": 259,
   "id": "bca30e1e",
   "metadata": {},
   "outputs": [
    {
     "data": {
      "text/plain": [
       "{0: 'Even', 2: 'Even', 4: 'Even', 6: 'Even', 8: 'Even'}"
      ]
     },
     "execution_count": 259,
     "metadata": {},
     "output_type": "execute_result"
    }
   ],
   "source": [
    "{i:\"Even\" for i in range(10) if i%2==0}"
   ]
  },
  {
   "cell_type": "code",
   "execution_count": 262,
   "id": "b28e7db6",
   "metadata": {},
   "outputs": [
    {
     "data": {
      "text/plain": [
       "{1: 'Odd',\n",
       " 2: 'Even',\n",
       " 3: 'Odd',\n",
       " 4: 'Even',\n",
       " 5: 'Odd',\n",
       " 6: 'Even',\n",
       " 7: 'Odd',\n",
       " 8: 'Even',\n",
       " 9: 'Odd'}"
      ]
     },
     "execution_count": 262,
     "metadata": {},
     "output_type": "execute_result"
    }
   ],
   "source": [
    "{i:\"Even\" if i%2==0 else \"Odd\" for i in range(10) if i!=0 }"
   ]
  },
  {
   "cell_type": "code",
   "execution_count": 263,
   "id": "f2b2cc04",
   "metadata": {},
   "outputs": [
    {
     "data": {
      "text/plain": [
       "{0, 1, 2, 3, 4, 5, 6, 7, 8, 9}"
      ]
     },
     "execution_count": 263,
     "metadata": {},
     "output_type": "execute_result"
    }
   ],
   "source": [
    "{i for i in range(10)}"
   ]
  },
  {
   "cell_type": "code",
   "execution_count": null,
   "id": "a34ac6df",
   "metadata": {},
   "outputs": [],
   "source": []
  }
 ],
 "metadata": {
  "kernelspec": {
   "display_name": "Python 3",
   "language": "python",
   "name": "python3"
  },
  "language_info": {
   "codemirror_mode": {
    "name": "ipython",
    "version": 3
   },
   "file_extension": ".py",
   "mimetype": "text/x-python",
   "name": "python",
   "nbconvert_exporter": "python",
   "pygments_lexer": "ipython3",
   "version": "3.8.8"
  }
 },
 "nbformat": 4,
 "nbformat_minor": 5
}
