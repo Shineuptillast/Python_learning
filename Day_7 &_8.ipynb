{
 "cells": [
  {
   "cell_type": "code",
   "execution_count": 1,
   "id": "db366e5e",
   "metadata": {},
   "outputs": [],
   "source": [
    "## Tuples Set Dictionary"
   ]
  },
  {
   "cell_type": "code",
   "execution_count": 2,
   "id": "75676940",
   "metadata": {},
   "outputs": [],
   "source": [
    "l=[1,2,3,\"sudh\",[1,2,3],True,1.23]"
   ]
  },
  {
   "cell_type": "code",
   "execution_count": 3,
   "id": "99d28175",
   "metadata": {},
   "outputs": [
    {
     "data": {
      "text/plain": [
       "[1, 2, 3, 'sudh', [1, 2, 3], True, 1.23]"
      ]
     },
     "execution_count": 3,
     "metadata": {},
     "output_type": "execute_result"
    }
   ],
   "source": [
    "l"
   ]
  },
  {
   "cell_type": "code",
   "execution_count": 7,
   "id": "740059bd",
   "metadata": {},
   "outputs": [
    {
     "data": {
      "text/plain": [
       "[1, 2, 3]"
      ]
     },
     "execution_count": 7,
     "metadata": {},
     "output_type": "execute_result"
    }
   ],
   "source": [
    "[i for i in l if type(i)==int]"
   ]
  },
  {
   "cell_type": "code",
   "execution_count": 8,
   "id": "a6de96c6",
   "metadata": {},
   "outputs": [
    {
     "data": {
      "text/plain": [
       "[[1, 2, 3]]"
      ]
     },
     "execution_count": 8,
     "metadata": {},
     "output_type": "execute_result"
    }
   ],
   "source": [
    "[i for i in l if type(i)==list]"
   ]
  },
  {
   "cell_type": "code",
   "execution_count": 9,
   "id": "4b2fd0f0",
   "metadata": {},
   "outputs": [
    {
     "data": {
      "text/plain": [
       "['sudh']"
      ]
     },
     "execution_count": 9,
     "metadata": {},
     "output_type": "execute_result"
    }
   ],
   "source": [
    "[i for i in l if type(i)==str]"
   ]
  },
  {
   "cell_type": "code",
   "execution_count": 10,
   "id": "e3fb4e9f",
   "metadata": {},
   "outputs": [
    {
     "data": {
      "text/plain": [
       "[1.23]"
      ]
     },
     "execution_count": 10,
     "metadata": {},
     "output_type": "execute_result"
    }
   ],
   "source": [
    "[i for i in l if type(i)==float]"
   ]
  },
  {
   "cell_type": "code",
   "execution_count": 12,
   "id": "61b2b197",
   "metadata": {},
   "outputs": [
    {
     "name": "stdout",
     "output_type": "stream",
     "text": [
      "4\n"
     ]
    }
   ],
   "source": [
    "print(max([1,2,3,4]))"
   ]
  },
  {
   "cell_type": "code",
   "execution_count": 13,
   "id": "c9aa2e2a",
   "metadata": {},
   "outputs": [],
   "source": [
    "t=()"
   ]
  },
  {
   "cell_type": "code",
   "execution_count": 14,
   "id": "0fb79023",
   "metadata": {},
   "outputs": [
    {
     "data": {
      "text/plain": [
       "tuple"
      ]
     },
     "execution_count": 14,
     "metadata": {},
     "output_type": "execute_result"
    }
   ],
   "source": [
    "type(t)"
   ]
  },
  {
   "cell_type": "code",
   "execution_count": 15,
   "id": "130e90df",
   "metadata": {},
   "outputs": [],
   "source": [
    "l=[]"
   ]
  },
  {
   "cell_type": "code",
   "execution_count": 16,
   "id": "1d6633f4",
   "metadata": {},
   "outputs": [
    {
     "data": {
      "text/plain": [
       "list"
      ]
     },
     "execution_count": 16,
     "metadata": {},
     "output_type": "execute_result"
    }
   ],
   "source": [
    "type(l)"
   ]
  },
  {
   "cell_type": "code",
   "execution_count": 17,
   "id": "6aea1802",
   "metadata": {},
   "outputs": [],
   "source": [
    "t1 = (234,4,\"sudha\",True,2,3.43)"
   ]
  },
  {
   "cell_type": "code",
   "execution_count": 18,
   "id": "b97b91df",
   "metadata": {},
   "outputs": [
    {
     "data": {
      "text/plain": [
       "(234, 4, 'sudha', True, 2, 3.43)"
      ]
     },
     "execution_count": 18,
     "metadata": {},
     "output_type": "execute_result"
    }
   ],
   "source": [
    "t1"
   ]
  },
  {
   "cell_type": "code",
   "execution_count": 19,
   "id": "e046eef2",
   "metadata": {},
   "outputs": [],
   "source": [
    "l1=[234,4,\"sudha\",True,2,3.43]"
   ]
  },
  {
   "cell_type": "code",
   "execution_count": 20,
   "id": "1921a94c",
   "metadata": {},
   "outputs": [
    {
     "data": {
      "text/plain": [
       "[234, 4, 'sudha', True, 2, 3.43]"
      ]
     },
     "execution_count": 20,
     "metadata": {},
     "output_type": "execute_result"
    }
   ],
   "source": [
    "l1"
   ]
  },
  {
   "cell_type": "code",
   "execution_count": 22,
   "id": "a5e6f205",
   "metadata": {},
   "outputs": [
    {
     "data": {
      "text/plain": [
       "4"
      ]
     },
     "execution_count": 22,
     "metadata": {},
     "output_type": "execute_result"
    }
   ],
   "source": [
    "t1[1]"
   ]
  },
  {
   "cell_type": "code",
   "execution_count": 23,
   "id": "9459e211",
   "metadata": {},
   "outputs": [
    {
     "data": {
      "text/plain": [
       "234"
      ]
     },
     "execution_count": 23,
     "metadata": {},
     "output_type": "execute_result"
    }
   ],
   "source": [
    "t1[0]"
   ]
  },
  {
   "cell_type": "code",
   "execution_count": 24,
   "id": "670fb166",
   "metadata": {},
   "outputs": [
    {
     "data": {
      "text/plain": [
       "234"
      ]
     },
     "execution_count": 24,
     "metadata": {},
     "output_type": "execute_result"
    }
   ],
   "source": [
    "t1[0]"
   ]
  },
  {
   "cell_type": "code",
   "execution_count": 25,
   "id": "b159a74b",
   "metadata": {},
   "outputs": [
    {
     "ename": "IndexError",
     "evalue": "tuple index out of range",
     "output_type": "error",
     "traceback": [
      "\u001b[1;31m---------------------------------------------------------------------------\u001b[0m",
      "\u001b[1;31mIndexError\u001b[0m                                Traceback (most recent call last)",
      "\u001b[1;32m<ipython-input-25-42e7ae6f9a6e>\u001b[0m in \u001b[0;36m<module>\u001b[1;34m\u001b[0m\n\u001b[1;32m----> 1\u001b[1;33m \u001b[0mt1\u001b[0m\u001b[1;33m[\u001b[0m\u001b[1;36m12\u001b[0m\u001b[1;33m]\u001b[0m\u001b[1;33m\u001b[0m\u001b[1;33m\u001b[0m\u001b[0m\n\u001b[0m",
      "\u001b[1;31mIndexError\u001b[0m: tuple index out of range"
     ]
    }
   ],
   "source": [
    "t1[12]"
   ]
  },
  {
   "cell_type": "code",
   "execution_count": 26,
   "id": "cccb71f0",
   "metadata": {},
   "outputs": [
    {
     "data": {
      "text/plain": [
       "3.43"
      ]
     },
     "execution_count": 26,
     "metadata": {},
     "output_type": "execute_result"
    }
   ],
   "source": [
    "t1[-1]"
   ]
  },
  {
   "cell_type": "code",
   "execution_count": 27,
   "id": "6c04e6ef",
   "metadata": {},
   "outputs": [
    {
     "data": {
      "text/plain": [
       "True"
      ]
     },
     "execution_count": 27,
     "metadata": {},
     "output_type": "execute_result"
    }
   ],
   "source": [
    "t1[-3]"
   ]
  },
  {
   "cell_type": "code",
   "execution_count": 28,
   "id": "cbc2b556",
   "metadata": {},
   "outputs": [
    {
     "ename": "TypeError",
     "evalue": "'tuple' object does not support item assignment",
     "output_type": "error",
     "traceback": [
      "\u001b[1;31m---------------------------------------------------------------------------\u001b[0m",
      "\u001b[1;31mTypeError\u001b[0m                                 Traceback (most recent call last)",
      "\u001b[1;32m<ipython-input-28-e27e1e6b91e1>\u001b[0m in \u001b[0;36m<module>\u001b[1;34m\u001b[0m\n\u001b[1;32m----> 1\u001b[1;33m \u001b[0mt1\u001b[0m\u001b[1;33m[\u001b[0m\u001b[1;33m-\u001b[0m\u001b[1;36m1\u001b[0m\u001b[1;33m]\u001b[0m\u001b[1;33m=\u001b[0m\u001b[1;36m1\u001b[0m\u001b[1;33m\u001b[0m\u001b[1;33m\u001b[0m\u001b[0m\n\u001b[0m",
      "\u001b[1;31mTypeError\u001b[0m: 'tuple' object does not support item assignment"
     ]
    }
   ],
   "source": [
    "t1[-1]=1"
   ]
  },
  {
   "cell_type": "code",
   "execution_count": 30,
   "id": "7e8226e1",
   "metadata": {},
   "outputs": [
    {
     "data": {
      "text/plain": [
       "(3.43, 2, True, 'sudha', 4, 234)"
      ]
     },
     "execution_count": 30,
     "metadata": {},
     "output_type": "execute_result"
    }
   ],
   "source": [
    "t1[::-1]"
   ]
  },
  {
   "cell_type": "code",
   "execution_count": 32,
   "id": "1e87e1fd",
   "metadata": {},
   "outputs": [],
   "source": [
    "l1[0]=\"naman\""
   ]
  },
  {
   "cell_type": "markdown",
   "id": "3da32e1a",
   "metadata": {},
   "source": [
    "l1"
   ]
  },
  {
   "cell_type": "code",
   "execution_count": 33,
   "id": "303bf7aa",
   "metadata": {},
   "outputs": [
    {
     "data": {
      "text/plain": [
       "['naman', 4, 'sudha', True, 2, 3.43]"
      ]
     },
     "execution_count": 33,
     "metadata": {},
     "output_type": "execute_result"
    }
   ],
   "source": [
    "l1"
   ]
  },
  {
   "cell_type": "code",
   "execution_count": 34,
   "id": "bd7618ea",
   "metadata": {},
   "outputs": [
    {
     "ename": "TypeError",
     "evalue": "'tuple' object does not support item assignment",
     "output_type": "error",
     "traceback": [
      "\u001b[1;31m---------------------------------------------------------------------------\u001b[0m",
      "\u001b[1;31mTypeError\u001b[0m                                 Traceback (most recent call last)",
      "\u001b[1;32m<ipython-input-34-8aebc9f8301f>\u001b[0m in \u001b[0;36m<module>\u001b[1;34m\u001b[0m\n\u001b[1;32m----> 1\u001b[1;33m \u001b[0mt1\u001b[0m\u001b[1;33m[\u001b[0m\u001b[1;36m3\u001b[0m\u001b[1;33m]\u001b[0m\u001b[1;33m=\u001b[0m\u001b[1;36m34\u001b[0m\u001b[1;33m\u001b[0m\u001b[1;33m\u001b[0m\u001b[0m\n\u001b[0m",
      "\u001b[1;31mTypeError\u001b[0m: 'tuple' object does not support item assignment"
     ]
    }
   ],
   "source": [
    "t1[3]=34"
   ]
  },
  {
   "cell_type": "code",
   "execution_count": 35,
   "id": "94379b96",
   "metadata": {},
   "outputs": [],
   "source": [
    "t2=(\"jain\",\"jii\")"
   ]
  },
  {
   "cell_type": "code",
   "execution_count": 36,
   "id": "27911789",
   "metadata": {},
   "outputs": [
    {
     "data": {
      "text/plain": [
       "(234, 4, 'sudha', True, 2, 3.43, 'jain', 'jii')"
      ]
     },
     "execution_count": 36,
     "metadata": {},
     "output_type": "execute_result"
    }
   ],
   "source": [
    "t1+t2"
   ]
  },
  {
   "cell_type": "code",
   "execution_count": 37,
   "id": "8cb819e1",
   "metadata": {},
   "outputs": [
    {
     "data": {
      "text/plain": [
       "(234,\n",
       " 4,\n",
       " 'sudha',\n",
       " True,\n",
       " 2,\n",
       " 3.43,\n",
       " 234,\n",
       " 4,\n",
       " 'sudha',\n",
       " True,\n",
       " 2,\n",
       " 3.43,\n",
       " 234,\n",
       " 4,\n",
       " 'sudha',\n",
       " True,\n",
       " 2,\n",
       " 3.43)"
      ]
     },
     "execution_count": 37,
     "metadata": {},
     "output_type": "execute_result"
    }
   ],
   "source": [
    "t1*3"
   ]
  },
  {
   "cell_type": "code",
   "execution_count": 38,
   "id": "26b3d5e0",
   "metadata": {},
   "outputs": [
    {
     "data": {
      "text/plain": [
       "(234, 4, 'sudha', True, 2, 3.43)"
      ]
     },
     "execution_count": 38,
     "metadata": {},
     "output_type": "execute_result"
    }
   ],
   "source": [
    "t1"
   ]
  },
  {
   "cell_type": "code",
   "execution_count": 39,
   "id": "101a2622",
   "metadata": {},
   "outputs": [
    {
     "data": {
      "text/plain": [
       "False"
      ]
     },
     "execution_count": 39,
     "metadata": {},
     "output_type": "execute_result"
    }
   ],
   "source": [
    "34 in t1"
   ]
  },
  {
   "cell_type": "code",
   "execution_count": 40,
   "id": "04a0ba6c",
   "metadata": {},
   "outputs": [
    {
     "data": {
      "text/plain": [
       "True"
      ]
     },
     "execution_count": 40,
     "metadata": {},
     "output_type": "execute_result"
    }
   ],
   "source": [
    "234 in t1"
   ]
  },
  {
   "cell_type": "code",
   "execution_count": 41,
   "id": "e443cf0a",
   "metadata": {},
   "outputs": [
    {
     "data": {
      "text/plain": [
       "False"
      ]
     },
     "execution_count": 41,
     "metadata": {},
     "output_type": "execute_result"
    }
   ],
   "source": [
    "\"fsfasf\" in t1"
   ]
  },
  {
   "cell_type": "code",
   "execution_count": 42,
   "id": "59d318f7",
   "metadata": {},
   "outputs": [
    {
     "ename": "TypeError",
     "evalue": "'>' not supported between instances of 'str' and 'int'",
     "output_type": "error",
     "traceback": [
      "\u001b[1;31m---------------------------------------------------------------------------\u001b[0m",
      "\u001b[1;31mTypeError\u001b[0m                                 Traceback (most recent call last)",
      "\u001b[1;32m<ipython-input-42-07c1bf72392e>\u001b[0m in \u001b[0;36m<module>\u001b[1;34m\u001b[0m\n\u001b[1;32m----> 1\u001b[1;33m \u001b[0mmax\u001b[0m\u001b[1;33m(\u001b[0m\u001b[0mt1\u001b[0m\u001b[1;33m)\u001b[0m\u001b[1;33m\u001b[0m\u001b[1;33m\u001b[0m\u001b[0m\n\u001b[0m",
      "\u001b[1;31mTypeError\u001b[0m: '>' not supported between instances of 'str' and 'int'"
     ]
    }
   ],
   "source": [
    "max(t1)"
   ]
  },
  {
   "cell_type": "code",
   "execution_count": 43,
   "id": "73789880",
   "metadata": {},
   "outputs": [],
   "source": [
    "t3=(1,2,3,4)"
   ]
  },
  {
   "cell_type": "code",
   "execution_count": 44,
   "id": "926b9f6a",
   "metadata": {},
   "outputs": [
    {
     "ename": "NameError",
     "evalue": "name 'mX' is not defined",
     "output_type": "error",
     "traceback": [
      "\u001b[1;31m---------------------------------------------------------------------------\u001b[0m",
      "\u001b[1;31mNameError\u001b[0m                                 Traceback (most recent call last)",
      "\u001b[1;32m<ipython-input-44-ee5f64926dc3>\u001b[0m in \u001b[0;36m<module>\u001b[1;34m\u001b[0m\n\u001b[1;32m----> 1\u001b[1;33m \u001b[0mmX\u001b[0m\u001b[1;33m(\u001b[0m\u001b[0mT3\u001b[0m\u001b[1;33m)\u001b[0m\u001b[1;33m\u001b[0m\u001b[1;33m\u001b[0m\u001b[0m\n\u001b[0m",
      "\u001b[1;31mNameError\u001b[0m: name 'mX' is not defined"
     ]
    }
   ],
   "source": [
    "mX(T3)"
   ]
  },
  {
   "cell_type": "code",
   "execution_count": 45,
   "id": "16e3de7c",
   "metadata": {},
   "outputs": [
    {
     "data": {
      "text/plain": [
       "4"
      ]
     },
     "execution_count": 45,
     "metadata": {},
     "output_type": "execute_result"
    }
   ],
   "source": [
    "max(t3)"
   ]
  },
  {
   "cell_type": "code",
   "execution_count": 46,
   "id": "e8b064b3",
   "metadata": {},
   "outputs": [
    {
     "data": {
      "text/plain": [
       "0"
      ]
     },
     "execution_count": 46,
     "metadata": {},
     "output_type": "execute_result"
    }
   ],
   "source": [
    "t1.index(234)"
   ]
  },
  {
   "cell_type": "code",
   "execution_count": 47,
   "id": "24ac25a0",
   "metadata": {},
   "outputs": [
    {
     "data": {
      "text/plain": [
       "4"
      ]
     },
     "execution_count": 47,
     "metadata": {},
     "output_type": "execute_result"
    }
   ],
   "source": [
    "t1.index(2)"
   ]
  },
  {
   "cell_type": "code",
   "execution_count": 49,
   "id": "830a8d5c",
   "metadata": {},
   "outputs": [
    {
     "data": {
      "text/plain": [
       "7"
      ]
     },
     "execution_count": 49,
     "metadata": {},
     "output_type": "execute_result"
    }
   ],
   "source": [
    "(t1+t2).index(\"jii\")"
   ]
  },
  {
   "cell_type": "code",
   "execution_count": 50,
   "id": "731bb006",
   "metadata": {},
   "outputs": [
    {
     "data": {
      "text/plain": [
       "1"
      ]
     },
     "execution_count": 50,
     "metadata": {},
     "output_type": "execute_result"
    }
   ],
   "source": [
    "t1.count(1)"
   ]
  },
  {
   "cell_type": "code",
   "execution_count": 51,
   "id": "45f0be5d",
   "metadata": {},
   "outputs": [
    {
     "data": {
      "text/plain": [
       "1"
      ]
     },
     "execution_count": 51,
     "metadata": {},
     "output_type": "execute_result"
    }
   ],
   "source": [
    "min(t3)"
   ]
  },
  {
   "cell_type": "code",
   "execution_count": 54,
   "id": "ba38468d",
   "metadata": {},
   "outputs": [],
   "source": [
    "t5=(90,)"
   ]
  },
  {
   "cell_type": "code",
   "execution_count": 55,
   "id": "6168cd28",
   "metadata": {},
   "outputs": [
    {
     "data": {
      "text/plain": [
       "(234, 4, 'sudha', True, 2, 3.43, 90)"
      ]
     },
     "execution_count": 55,
     "metadata": {},
     "output_type": "execute_result"
    }
   ],
   "source": [
    "t1+t5"
   ]
  },
  {
   "cell_type": "code",
   "execution_count": 56,
   "id": "e4b00572",
   "metadata": {},
   "outputs": [],
   "source": [
    "t4=list(t1)\n",
    "t4.insert(3,\"namanjain\")\n",
    "t4=tuple(t4)"
   ]
  },
  {
   "cell_type": "code",
   "execution_count": 57,
   "id": "4bc4f4bf",
   "metadata": {},
   "outputs": [
    {
     "data": {
      "text/plain": [
       "(234, 4, 'sudha', 'namanjain', True, 2, 3.43)"
      ]
     },
     "execution_count": 57,
     "metadata": {},
     "output_type": "execute_result"
    }
   ],
   "source": [
    "t4"
   ]
  },
  {
   "cell_type": "code",
   "execution_count": 58,
   "id": "4fbf6661",
   "metadata": {},
   "outputs": [],
   "source": [
    "t = ((1,2,3),\"sudhamurty\",(\"naman\",\"jain\",\"hello\"))"
   ]
  },
  {
   "cell_type": "code",
   "execution_count": 59,
   "id": "c87a0b99",
   "metadata": {},
   "outputs": [
    {
     "data": {
      "text/plain": [
       "((1, 2, 3), 'sudhamurty', ('naman', 'jain', 'hello'))"
      ]
     },
     "execution_count": 59,
     "metadata": {},
     "output_type": "execute_result"
    }
   ],
   "source": [
    "t"
   ]
  },
  {
   "cell_type": "code",
   "execution_count": 60,
   "id": "1f6b5f61",
   "metadata": {},
   "outputs": [],
   "source": [
    "t1=((1,2,3),[1,4,7,10])"
   ]
  },
  {
   "cell_type": "code",
   "execution_count": 61,
   "id": "494f951b",
   "metadata": {},
   "outputs": [
    {
     "data": {
      "text/plain": [
       "7"
      ]
     },
     "execution_count": 61,
     "metadata": {},
     "output_type": "execute_result"
    }
   ],
   "source": [
    "t1[1][2]"
   ]
  },
  {
   "cell_type": "code",
   "execution_count": 62,
   "id": "3db528ed",
   "metadata": {},
   "outputs": [
    {
     "data": {
      "text/plain": [
       "list"
      ]
     },
     "execution_count": 62,
     "metadata": {},
     "output_type": "execute_result"
    }
   ],
   "source": [
    "type(t1[1])"
   ]
  },
  {
   "cell_type": "code",
   "execution_count": 63,
   "id": "ed823681",
   "metadata": {},
   "outputs": [
    {
     "data": {
      "text/plain": [
       "[1, 4, 7, 10]"
      ]
     },
     "execution_count": 63,
     "metadata": {},
     "output_type": "execute_result"
    }
   ],
   "source": [
    "t1[1]"
   ]
  },
  {
   "cell_type": "code",
   "execution_count": 64,
   "id": "5aeca5df",
   "metadata": {},
   "outputs": [
    {
     "data": {
      "text/plain": [
       "[1, 7]"
      ]
     },
     "execution_count": 64,
     "metadata": {},
     "output_type": "execute_result"
    }
   ],
   "source": [
    "t1[1][::2]"
   ]
  },
  {
   "cell_type": "code",
   "execution_count": 65,
   "id": "cd198bda",
   "metadata": {},
   "outputs": [
    {
     "data": {
      "text/plain": [
       "'sudhamurty'"
      ]
     },
     "execution_count": 65,
     "metadata": {},
     "output_type": "execute_result"
    }
   ],
   "source": [
    "t[1]"
   ]
  },
  {
   "cell_type": "code",
   "execution_count": 68,
   "id": "cd9b120c",
   "metadata": {},
   "outputs": [
    {
     "data": {
      "text/plain": [
       "'dmt'"
      ]
     },
     "execution_count": 68,
     "metadata": {},
     "output_type": "execute_result"
    }
   ],
   "source": [
    "t[1][2::3]"
   ]
  },
  {
   "cell_type": "code",
   "execution_count": 69,
   "id": "e8486363",
   "metadata": {},
   "outputs": [
    {
     "name": "stdout",
     "output_type": "stream",
     "text": [
      "s\n",
      "u\n",
      "d\n",
      "h\n",
      "a\n",
      "m\n",
      "u\n",
      "r\n",
      "t\n",
      "y\n"
     ]
    }
   ],
   "source": [
    "for i in t[1]:\n",
    "    print(i)"
   ]
  },
  {
   "cell_type": "code",
   "execution_count": 70,
   "id": "32dceeaa",
   "metadata": {},
   "outputs": [
    {
     "name": "stdout",
     "output_type": "stream",
     "text": [
      "(1, 3)\n",
      "('naman', 'hello')\n"
     ]
    }
   ],
   "source": [
    "for i in t:\n",
    "    if type(i)==tuple:\n",
    "        print(i[0::2])"
   ]
  },
  {
   "cell_type": "code",
   "execution_count": 71,
   "id": "28d1e489",
   "metadata": {},
   "outputs": [
    {
     "data": {
      "text/plain": [
       "('jain', 'jii')"
      ]
     },
     "execution_count": 71,
     "metadata": {},
     "output_type": "execute_result"
    }
   ],
   "source": [
    "t2"
   ]
  },
  {
   "cell_type": "code",
   "execution_count": 72,
   "id": "a1891629",
   "metadata": {},
   "outputs": [
    {
     "data": {
      "text/plain": [
       "2"
      ]
     },
     "execution_count": 72,
     "metadata": {},
     "output_type": "execute_result"
    }
   ],
   "source": [
    "len(t2)"
   ]
  },
  {
   "cell_type": "code",
   "execution_count": 76,
   "id": "cf9532bf",
   "metadata": {},
   "outputs": [
    {
     "data": {
      "text/plain": [
       "((1, 2, 3), [1, 4, 7, 10])"
      ]
     },
     "execution_count": 76,
     "metadata": {},
     "output_type": "execute_result"
    }
   ],
   "source": [
    "t1"
   ]
  },
  {
   "cell_type": "code",
   "execution_count": 75,
   "id": "e441ec3a",
   "metadata": {},
   "outputs": [
    {
     "name": "stdout",
     "output_type": "stream",
     "text": [
      "Element are not same at index 0 in the tuples\n",
      "Element are not same at index 1 in the tuples\n"
     ]
    }
   ],
   "source": [
    "if len(t1)==len(t2):\n",
    "    for i in range(len(t2)):\n",
    "        if t1[i]==t2[i]:\n",
    "            print(\"Element at index {} is same in both the tuples\".format(i))\n",
    "        else:\n",
    "            print(\"Element are not same at index {} in the tuples\".format(i))\n",
    "            "
   ]
  },
  {
   "cell_type": "code",
   "execution_count": 79,
   "id": "80f947df",
   "metadata": {},
   "outputs": [
    {
     "data": {
      "text/plain": [
       "70"
      ]
     },
     "execution_count": 79,
     "metadata": {},
     "output_type": "execute_result"
    }
   ],
   "source": [
    "sum([1,2,3,4,5],55)\n"
   ]
  },
  {
   "cell_type": "code",
   "execution_count": 81,
   "id": "b6506bec",
   "metadata": {},
   "outputs": [
    {
     "data": {
      "text/plain": [
       "[1, 2, 34, 3]"
      ]
     },
     "execution_count": 81,
     "metadata": {},
     "output_type": "execute_result"
    }
   ],
   "source": [
    "[1,2,34]+[3]"
   ]
  },
  {
   "cell_type": "code",
   "execution_count": 83,
   "id": "8a4099b9",
   "metadata": {},
   "outputs": [
    {
     "name": "stdout",
     "output_type": "stream",
     "text": [
      "take a user input123\n",
      "your name is not available\n"
     ]
    }
   ],
   "source": [
    "i = input(\"take a user input\")\n",
    "\n",
    "if i in t:\n",
    "    print(\"Your name is available\")\n",
    "else:\n",
    "    print(\"your name is not available\")"
   ]
  },
  {
   "cell_type": "code",
   "execution_count": 84,
   "id": "ae18c275",
   "metadata": {},
   "outputs": [
    {
     "data": {
      "text/plain": [
       "((1, 2, 3), 'sudhamurty', ('naman', 'jain', 'hello'))"
      ]
     },
     "execution_count": 84,
     "metadata": {},
     "output_type": "execute_result"
    }
   ],
   "source": [
    "t"
   ]
  },
  {
   "cell_type": "code",
   "execution_count": 86,
   "id": "52697bf1",
   "metadata": {},
   "outputs": [],
   "source": [
    "del(t)"
   ]
  },
  {
   "cell_type": "code",
   "execution_count": 87,
   "id": "e80a1d56",
   "metadata": {},
   "outputs": [
    {
     "ename": "NameError",
     "evalue": "name 't' is not defined",
     "output_type": "error",
     "traceback": [
      "\u001b[1;31m---------------------------------------------------------------------------\u001b[0m",
      "\u001b[1;31mNameError\u001b[0m                                 Traceback (most recent call last)",
      "\u001b[1;32m<ipython-input-87-34fc7a11cb38>\u001b[0m in \u001b[0;36m<module>\u001b[1;34m\u001b[0m\n\u001b[1;32m----> 1\u001b[1;33m \u001b[0mt\u001b[0m\u001b[1;33m\u001b[0m\u001b[1;33m\u001b[0m\u001b[0m\n\u001b[0m",
      "\u001b[1;31mNameError\u001b[0m: name 't' is not defined"
     ]
    }
   ],
   "source": [
    "t"
   ]
  },
  {
   "cell_type": "code",
   "execution_count": 88,
   "id": "63dd423b",
   "metadata": {},
   "outputs": [],
   "source": [
    "# Set\n"
   ]
  },
  {
   "cell_type": "code",
   "execution_count": 89,
   "id": "d65f8212",
   "metadata": {},
   "outputs": [],
   "source": [
    "s={1,2,3,1,2,3}"
   ]
  },
  {
   "cell_type": "code",
   "execution_count": 90,
   "id": "5594e8be",
   "metadata": {},
   "outputs": [
    {
     "data": {
      "text/plain": [
       "{1, 2, 3}"
      ]
     },
     "execution_count": 90,
     "metadata": {},
     "output_type": "execute_result"
    }
   ],
   "source": [
    "s"
   ]
  },
  {
   "cell_type": "code",
   "execution_count": 91,
   "id": "59d06646",
   "metadata": {},
   "outputs": [],
   "source": [
    "x=set()"
   ]
  },
  {
   "cell_type": "code",
   "execution_count": 92,
   "id": "9e6b9114",
   "metadata": {},
   "outputs": [
    {
     "data": {
      "text/plain": [
       "set"
      ]
     },
     "execution_count": 92,
     "metadata": {},
     "output_type": "execute_result"
    }
   ],
   "source": [
    "type(x)"
   ]
  },
  {
   "cell_type": "code",
   "execution_count": 93,
   "id": "07f1905b",
   "metadata": {},
   "outputs": [],
   "source": [
    "x={}"
   ]
  },
  {
   "cell_type": "code",
   "execution_count": 94,
   "id": "8a600d4b",
   "metadata": {},
   "outputs": [
    {
     "data": {
      "text/plain": [
       "dict"
      ]
     },
     "execution_count": 94,
     "metadata": {},
     "output_type": "execute_result"
    }
   ],
   "source": [
    "type(x)"
   ]
  },
  {
   "cell_type": "code",
   "execution_count": 99,
   "id": "7e731dcd",
   "metadata": {},
   "outputs": [],
   "source": [
    "l=[34,24,34,34,45,54,45,65,\"Hello\",\"Best\",\"Best\",\"of\", \"of\", \"luck\"]"
   ]
  },
  {
   "cell_type": "code",
   "execution_count": 100,
   "id": "b67615cf",
   "metadata": {},
   "outputs": [
    {
     "data": {
      "text/plain": [
       "[34, 24, 34, 34, 45, 54, 45, 65, 'Hello', 'Best', 'Best', 'of', 'of', 'luck']"
      ]
     },
     "execution_count": 100,
     "metadata": {},
     "output_type": "execute_result"
    }
   ],
   "source": [
    "l"
   ]
  },
  {
   "cell_type": "code",
   "execution_count": 101,
   "id": "b51d4bbb",
   "metadata": {},
   "outputs": [],
   "source": [
    "x=set()"
   ]
  },
  {
   "cell_type": "code",
   "execution_count": 102,
   "id": "6afb273c",
   "metadata": {},
   "outputs": [
    {
     "data": {
      "text/plain": [
       "set()"
      ]
     },
     "execution_count": 102,
     "metadata": {},
     "output_type": "execute_result"
    }
   ],
   "source": [
    "set(x)"
   ]
  },
  {
   "cell_type": "code",
   "execution_count": 103,
   "id": "387e5ecd",
   "metadata": {},
   "outputs": [
    {
     "ename": "NameError",
     "evalue": "name 'set9l' is not defined",
     "output_type": "error",
     "traceback": [
      "\u001b[1;31m---------------------------------------------------------------------------\u001b[0m",
      "\u001b[1;31mNameError\u001b[0m                                 Traceback (most recent call last)",
      "\u001b[1;32m<ipython-input-103-cbae862c6398>\u001b[0m in \u001b[0;36m<module>\u001b[1;34m\u001b[0m\n\u001b[1;32m----> 1\u001b[1;33m \u001b[0mset9l\u001b[0m\u001b[1;33m\u001b[0m\u001b[1;33m\u001b[0m\u001b[0m\n\u001b[0m",
      "\u001b[1;31mNameError\u001b[0m: name 'set9l' is not defined"
     ]
    }
   ],
   "source": [
    "set9l"
   ]
  },
  {
   "cell_type": "code",
   "execution_count": 104,
   "id": "0566064d",
   "metadata": {},
   "outputs": [
    {
     "data": {
      "text/plain": [
       "{24, 34, 45, 54, 65, 'Best', 'Hello', 'luck', 'of'}"
      ]
     },
     "execution_count": 104,
     "metadata": {},
     "output_type": "execute_result"
    }
   ],
   "source": [
    "set(l)"
   ]
  },
  {
   "cell_type": "code",
   "execution_count": 105,
   "id": "f62396e8",
   "metadata": {},
   "outputs": [],
   "source": [
    "l={\"Naman\",\"naman\"}"
   ]
  },
  {
   "cell_type": "code",
   "execution_count": 106,
   "id": "ecac78d1",
   "metadata": {},
   "outputs": [
    {
     "data": {
      "text/plain": [
       "{'Naman', 'naman'}"
      ]
     },
     "execution_count": 106,
     "metadata": {},
     "output_type": "execute_result"
    }
   ],
   "source": [
    "l"
   ]
  },
  {
   "cell_type": "code",
   "execution_count": 107,
   "id": "f1e6c6da",
   "metadata": {},
   "outputs": [
    {
     "data": {
      "text/plain": [
       "set"
      ]
     },
     "execution_count": 107,
     "metadata": {},
     "output_type": "execute_result"
    }
   ],
   "source": [
    "type(l)"
   ]
  },
  {
   "cell_type": "code",
   "execution_count": 108,
   "id": "3eae050f",
   "metadata": {},
   "outputs": [],
   "source": [
    "s=set(l)"
   ]
  },
  {
   "cell_type": "code",
   "execution_count": 109,
   "id": "f20ce222",
   "metadata": {},
   "outputs": [
    {
     "name": "stdout",
     "output_type": "stream",
     "text": [
      "naman\n",
      "Naman\n"
     ]
    }
   ],
   "source": [
    "for i in s:\n",
    "    print(i)"
   ]
  },
  {
   "cell_type": "code",
   "execution_count": 110,
   "id": "2699b0e3",
   "metadata": {},
   "outputs": [
    {
     "data": {
      "text/plain": [
       "True"
      ]
     },
     "execution_count": 110,
     "metadata": {},
     "output_type": "execute_result"
    }
   ],
   "source": [
    "\"naman\" in s"
   ]
  },
  {
   "cell_type": "code",
   "execution_count": 111,
   "id": "1e264c25",
   "metadata": {},
   "outputs": [
    {
     "ename": "TypeError",
     "evalue": "'set' object is not subscriptable",
     "output_type": "error",
     "traceback": [
      "\u001b[1;31m---------------------------------------------------------------------------\u001b[0m",
      "\u001b[1;31mTypeError\u001b[0m                                 Traceback (most recent call last)",
      "\u001b[1;32m<ipython-input-111-c9c96910e542>\u001b[0m in \u001b[0;36m<module>\u001b[1;34m\u001b[0m\n\u001b[1;32m----> 1\u001b[1;33m \u001b[0ms\u001b[0m\u001b[1;33m[\u001b[0m\u001b[1;36m0\u001b[0m\u001b[1;33m]\u001b[0m\u001b[1;33m\u001b[0m\u001b[1;33m\u001b[0m\u001b[0m\n\u001b[0m",
      "\u001b[1;31mTypeError\u001b[0m: 'set' object is not subscriptable"
     ]
    }
   ],
   "source": [
    "s[0]"
   ]
  },
  {
   "cell_type": "code",
   "execution_count": 112,
   "id": "e284b260",
   "metadata": {},
   "outputs": [
    {
     "ename": "SyntaxError",
     "evalue": "invalid syntax (<ipython-input-112-8b3d2dc3d6d7>, line 1)",
     "output_type": "error",
     "traceback": [
      "\u001b[1;36m  File \u001b[1;32m\"<ipython-input-112-8b3d2dc3d6d7>\"\u001b[1;36m, line \u001b[1;32m1\u001b[0m\n\u001b[1;33m    s{0}\u001b[0m\n\u001b[1;37m     ^\u001b[0m\n\u001b[1;31mSyntaxError\u001b[0m\u001b[1;31m:\u001b[0m invalid syntax\n"
     ]
    }
   ],
   "source": [
    "s{0}"
   ]
  },
  {
   "cell_type": "code",
   "execution_count": 113,
   "id": "ba89a627",
   "metadata": {},
   "outputs": [],
   "source": [
    "s=set()"
   ]
  },
  {
   "cell_type": "code",
   "execution_count": 114,
   "id": "d878cafc",
   "metadata": {},
   "outputs": [],
   "source": [
    "s.add(45\n",
    "     )"
   ]
  },
  {
   "cell_type": "code",
   "execution_count": 115,
   "id": "b1c624a7",
   "metadata": {},
   "outputs": [],
   "source": [
    "s.add(34)"
   ]
  },
  {
   "cell_type": "code",
   "execution_count": 116,
   "id": "c73b7ba5",
   "metadata": {},
   "outputs": [],
   "source": [
    "s.add(23)"
   ]
  },
  {
   "cell_type": "code",
   "execution_count": 117,
   "id": "03cb47b5",
   "metadata": {},
   "outputs": [
    {
     "data": {
      "text/plain": [
       "{23, 34, 45}"
      ]
     },
     "execution_count": 117,
     "metadata": {},
     "output_type": "execute_result"
    }
   ],
   "source": [
    "s"
   ]
  },
  {
   "cell_type": "code",
   "execution_count": 118,
   "id": "3293f188",
   "metadata": {},
   "outputs": [],
   "source": [
    "s.add(45)"
   ]
  },
  {
   "cell_type": "code",
   "execution_count": 119,
   "id": "68a32a11",
   "metadata": {},
   "outputs": [
    {
     "data": {
      "text/plain": [
       "{23, 34, 45}"
      ]
     },
     "execution_count": 119,
     "metadata": {},
     "output_type": "execute_result"
    }
   ],
   "source": [
    "s"
   ]
  },
  {
   "cell_type": "code",
   "execution_count": 120,
   "id": "a3a42dee",
   "metadata": {},
   "outputs": [],
   "source": [
    "s.add(\"Naman\")"
   ]
  },
  {
   "cell_type": "code",
   "execution_count": 121,
   "id": "e82a6ba4",
   "metadata": {},
   "outputs": [
    {
     "ename": "TypeError",
     "evalue": "unhashable type: 'list'",
     "output_type": "error",
     "traceback": [
      "\u001b[1;31m---------------------------------------------------------------------------\u001b[0m",
      "\u001b[1;31mTypeError\u001b[0m                                 Traceback (most recent call last)",
      "\u001b[1;32m<ipython-input-121-34448ddb2cf0>\u001b[0m in \u001b[0;36m<module>\u001b[1;34m\u001b[0m\n\u001b[1;32m----> 1\u001b[1;33m \u001b[0ms\u001b[0m\u001b[1;33m.\u001b[0m\u001b[0madd\u001b[0m\u001b[1;33m(\u001b[0m\u001b[1;33m[\u001b[0m\u001b[1;36m1\u001b[0m\u001b[1;33m,\u001b[0m\u001b[1;36m2\u001b[0m\u001b[1;33m,\u001b[0m\u001b[1;36m3\u001b[0m\u001b[1;33m]\u001b[0m\u001b[1;33m)\u001b[0m\u001b[1;33m\u001b[0m\u001b[1;33m\u001b[0m\u001b[0m\n\u001b[0m",
      "\u001b[1;31mTypeError\u001b[0m: unhashable type: 'list'"
     ]
    }
   ],
   "source": [
    "s.add([1,2,3])"
   ]
  },
  {
   "cell_type": "code",
   "execution_count": 122,
   "id": "3c8e39aa",
   "metadata": {},
   "outputs": [],
   "source": [
    "l=[1,2,3,4,[1,2,3,3]]"
   ]
  },
  {
   "cell_type": "code",
   "execution_count": 123,
   "id": "23837a7b",
   "metadata": {},
   "outputs": [
    {
     "ename": "TypeError",
     "evalue": "unhashable type: 'list'",
     "output_type": "error",
     "traceback": [
      "\u001b[1;31m---------------------------------------------------------------------------\u001b[0m",
      "\u001b[1;31mTypeError\u001b[0m                                 Traceback (most recent call last)",
      "\u001b[1;32m<ipython-input-123-997047561570>\u001b[0m in \u001b[0;36m<module>\u001b[1;34m\u001b[0m\n\u001b[1;32m----> 1\u001b[1;33m \u001b[0mset\u001b[0m\u001b[1;33m(\u001b[0m\u001b[0ml\u001b[0m\u001b[1;33m)\u001b[0m\u001b[1;33m\u001b[0m\u001b[1;33m\u001b[0m\u001b[0m\n\u001b[0m",
      "\u001b[1;31mTypeError\u001b[0m: unhashable type: 'list'"
     ]
    }
   ],
   "source": [
    "set(l)"
   ]
  },
  {
   "cell_type": "code",
   "execution_count": 124,
   "id": "0e04b610",
   "metadata": {},
   "outputs": [
    {
     "data": {
      "text/plain": [
       "{23, 34, 45, 'Naman'}"
      ]
     },
     "execution_count": 124,
     "metadata": {},
     "output_type": "execute_result"
    }
   ],
   "source": [
    "s"
   ]
  },
  {
   "cell_type": "code",
   "execution_count": 125,
   "id": "0b48744e",
   "metadata": {},
   "outputs": [],
   "source": [
    "s.add(\"jain\")"
   ]
  },
  {
   "cell_type": "code",
   "execution_count": 126,
   "id": "c0682638",
   "metadata": {},
   "outputs": [
    {
     "data": {
      "text/plain": [
       "{23, 34, 45, 'Naman', 'jain'}"
      ]
     },
     "execution_count": 126,
     "metadata": {},
     "output_type": "execute_result"
    }
   ],
   "source": [
    "s"
   ]
  },
  {
   "cell_type": "code",
   "execution_count": 128,
   "id": "a3e2b467",
   "metadata": {},
   "outputs": [
    {
     "ename": "KeyError",
     "evalue": "45",
     "output_type": "error",
     "traceback": [
      "\u001b[1;31m---------------------------------------------------------------------------\u001b[0m",
      "\u001b[1;31mKeyError\u001b[0m                                  Traceback (most recent call last)",
      "\u001b[1;32m<ipython-input-128-30b5ee21a9a0>\u001b[0m in \u001b[0;36m<module>\u001b[1;34m\u001b[0m\n\u001b[1;32m----> 1\u001b[1;33m \u001b[0ms\u001b[0m\u001b[1;33m.\u001b[0m\u001b[0mremove\u001b[0m\u001b[1;33m(\u001b[0m\u001b[1;36m45\u001b[0m\u001b[1;33m)\u001b[0m\u001b[1;33m\u001b[0m\u001b[1;33m\u001b[0m\u001b[0m\n\u001b[0m",
      "\u001b[1;31mKeyError\u001b[0m: 45"
     ]
    }
   ],
   "source": [
    "s.remove(45)"
   ]
  },
  {
   "cell_type": "code",
   "execution_count": 129,
   "id": "d5b21a09",
   "metadata": {},
   "outputs": [],
   "source": [
    "s.clear()"
   ]
  },
  {
   "cell_type": "code",
   "execution_count": 130,
   "id": "72a8143c",
   "metadata": {},
   "outputs": [
    {
     "data": {
      "text/plain": [
       "set()"
      ]
     },
     "execution_count": 130,
     "metadata": {},
     "output_type": "execute_result"
    }
   ],
   "source": [
    "s"
   ]
  },
  {
   "cell_type": "code",
   "execution_count": 131,
   "id": "9c45ab7f",
   "metadata": {},
   "outputs": [
    {
     "ename": "TypeError",
     "evalue": "unhashable type: 'list'",
     "output_type": "error",
     "traceback": [
      "\u001b[1;31m---------------------------------------------------------------------------\u001b[0m",
      "\u001b[1;31mTypeError\u001b[0m                                 Traceback (most recent call last)",
      "\u001b[1;32m<ipython-input-131-77fc889cda16>\u001b[0m in \u001b[0;36m<module>\u001b[1;34m\u001b[0m\n\u001b[1;32m----> 1\u001b[1;33m \u001b[0ms\u001b[0m\u001b[1;33m=\u001b[0m\u001b[0mset\u001b[0m\u001b[1;33m(\u001b[0m\u001b[0ml\u001b[0m\u001b[1;33m)\u001b[0m\u001b[1;33m\u001b[0m\u001b[1;33m\u001b[0m\u001b[0m\n\u001b[0m",
      "\u001b[1;31mTypeError\u001b[0m: unhashable type: 'list'"
     ]
    }
   ],
   "source": [
    "s=set(l)"
   ]
  },
  {
   "cell_type": "code",
   "execution_count": 132,
   "id": "084a12ae",
   "metadata": {},
   "outputs": [
    {
     "data": {
      "text/plain": [
       "set()"
      ]
     },
     "execution_count": 132,
     "metadata": {},
     "output_type": "execute_result"
    }
   ],
   "source": [
    "s"
   ]
  },
  {
   "cell_type": "code",
   "execution_count": 135,
   "id": "9dda4919",
   "metadata": {},
   "outputs": [],
   "source": [
    "s.add(234)"
   ]
  },
  {
   "cell_type": "code",
   "execution_count": 136,
   "id": "17e1d1a3",
   "metadata": {},
   "outputs": [],
   "source": [
    "s.add(2)"
   ]
  },
  {
   "cell_type": "code",
   "execution_count": 137,
   "id": "1957bb5e",
   "metadata": {},
   "outputs": [],
   "source": [
    "s.add(10)"
   ]
  },
  {
   "cell_type": "code",
   "execution_count": 138,
   "id": "0293b4ce",
   "metadata": {},
   "outputs": [
    {
     "data": {
      "text/plain": [
       "{2, 10, 234}"
      ]
     },
     "execution_count": 138,
     "metadata": {},
     "output_type": "execute_result"
    }
   ],
   "source": [
    "s"
   ]
  },
  {
   "cell_type": "code",
   "execution_count": 142,
   "id": "79117629",
   "metadata": {},
   "outputs": [],
   "source": [
    "s1=set(l)"
   ]
  },
  {
   "cell_type": "code",
   "execution_count": 140,
   "id": "fb94e7ed",
   "metadata": {},
   "outputs": [],
   "source": [
    "l=[1,2,3,4,\"naman\",\"asfas\"]"
   ]
  },
  {
   "cell_type": "code",
   "execution_count": 143,
   "id": "569426a4",
   "metadata": {},
   "outputs": [
    {
     "data": {
      "text/plain": [
       "{1, 2, 3, 4, 'asfas', 'naman'}"
      ]
     },
     "execution_count": 143,
     "metadata": {},
     "output_type": "execute_result"
    }
   ],
   "source": [
    "s1"
   ]
  },
  {
   "cell_type": "code",
   "execution_count": 144,
   "id": "0d596e1a",
   "metadata": {},
   "outputs": [
    {
     "ename": "TypeError",
     "evalue": "unsupported operand type(s) for +: 'set' and 'set'",
     "output_type": "error",
     "traceback": [
      "\u001b[1;31m---------------------------------------------------------------------------\u001b[0m",
      "\u001b[1;31mTypeError\u001b[0m                                 Traceback (most recent call last)",
      "\u001b[1;32m<ipython-input-144-d4a57f000bc9>\u001b[0m in \u001b[0;36m<module>\u001b[1;34m\u001b[0m\n\u001b[1;32m----> 1\u001b[1;33m \u001b[0ms\u001b[0m\u001b[1;33m+\u001b[0m\u001b[0ms1\u001b[0m\u001b[1;33m\u001b[0m\u001b[1;33m\u001b[0m\u001b[0m\n\u001b[0m",
      "\u001b[1;31mTypeError\u001b[0m: unsupported operand type(s) for +: 'set' and 'set'"
     ]
    }
   ],
   "source": [
    "s+s1"
   ]
  },
  {
   "cell_type": "code",
   "execution_count": 145,
   "id": "55e1d338",
   "metadata": {},
   "outputs": [
    {
     "ename": "TypeError",
     "evalue": "unsupported operand type(s) for *: 'set' and 'int'",
     "output_type": "error",
     "traceback": [
      "\u001b[1;31m---------------------------------------------------------------------------\u001b[0m",
      "\u001b[1;31mTypeError\u001b[0m                                 Traceback (most recent call last)",
      "\u001b[1;32m<ipython-input-145-cfdd4c7eed53>\u001b[0m in \u001b[0;36m<module>\u001b[1;34m\u001b[0m\n\u001b[1;32m----> 1\u001b[1;33m \u001b[0ms\u001b[0m\u001b[1;33m*\u001b[0m\u001b[1;36m4\u001b[0m\u001b[1;33m\u001b[0m\u001b[1;33m\u001b[0m\u001b[0m\n\u001b[0m",
      "\u001b[1;31mTypeError\u001b[0m: unsupported operand type(s) for *: 'set' and 'int'"
     ]
    }
   ],
   "source": [
    "s*4"
   ]
  },
  {
   "cell_type": "code",
   "execution_count": 146,
   "id": "e94cd510",
   "metadata": {},
   "outputs": [
    {
     "data": {
      "text/plain": [
       "{2, 10, 234}"
      ]
     },
     "execution_count": 146,
     "metadata": {},
     "output_type": "execute_result"
    }
   ],
   "source": [
    "s"
   ]
  },
  {
   "cell_type": "code",
   "execution_count": 148,
   "id": "96d4b735",
   "metadata": {},
   "outputs": [],
   "source": [
    "l1=list(s)"
   ]
  },
  {
   "cell_type": "code",
   "execution_count": 149,
   "id": "4a18bfe8",
   "metadata": {},
   "outputs": [
    {
     "data": {
      "text/plain": [
       "[10, 234, 2]"
      ]
     },
     "execution_count": 149,
     "metadata": {},
     "output_type": "execute_result"
    }
   ],
   "source": [
    "l1"
   ]
  },
  {
   "cell_type": "code",
   "execution_count": 150,
   "id": "cdaf30ce",
   "metadata": {},
   "outputs": [],
   "source": [
    "l1.append(10)"
   ]
  },
  {
   "cell_type": "code",
   "execution_count": 151,
   "id": "f0d7f744",
   "metadata": {},
   "outputs": [
    {
     "data": {
      "text/plain": [
       "[10, 234, 2, 10]"
      ]
     },
     "execution_count": 151,
     "metadata": {},
     "output_type": "execute_result"
    }
   ],
   "source": [
    "l1"
   ]
  },
  {
   "cell_type": "code",
   "execution_count": 153,
   "id": "d9b08c8f",
   "metadata": {},
   "outputs": [],
   "source": [
    "l1.append(10)"
   ]
  },
  {
   "cell_type": "code",
   "execution_count": 155,
   "id": "e2c0c3e4",
   "metadata": {},
   "outputs": [],
   "source": [
    "t=tuple(s)"
   ]
  },
  {
   "cell_type": "code",
   "execution_count": 156,
   "id": "45d17d80",
   "metadata": {},
   "outputs": [
    {
     "data": {
      "text/plain": [
       "(10, 234, 2)"
      ]
     },
     "execution_count": 156,
     "metadata": {},
     "output_type": "execute_result"
    }
   ],
   "source": [
    "t"
   ]
  },
  {
   "cell_type": "code",
   "execution_count": 157,
   "id": "cbaf7e1a",
   "metadata": {},
   "outputs": [
    {
     "data": {
      "text/plain": [
       "{2, 10, 234}"
      ]
     },
     "execution_count": 157,
     "metadata": {},
     "output_type": "execute_result"
    }
   ],
   "source": [
    "set(t)"
   ]
  },
  {
   "cell_type": "code",
   "execution_count": 159,
   "id": "9bf1c497",
   "metadata": {},
   "outputs": [
    {
     "ename": "TypeError",
     "evalue": "'set' object is not subscriptable",
     "output_type": "error",
     "traceback": [
      "\u001b[1;31m---------------------------------------------------------------------------\u001b[0m",
      "\u001b[1;31mTypeError\u001b[0m                                 Traceback (most recent call last)",
      "\u001b[1;32m<ipython-input-159-c9c96910e542>\u001b[0m in \u001b[0;36m<module>\u001b[1;34m\u001b[0m\n\u001b[1;32m----> 1\u001b[1;33m \u001b[0ms\u001b[0m\u001b[1;33m[\u001b[0m\u001b[1;36m0\u001b[0m\u001b[1;33m]\u001b[0m\u001b[1;33m\u001b[0m\u001b[1;33m\u001b[0m\u001b[0m\n\u001b[0m",
      "\u001b[1;31mTypeError\u001b[0m: 'set' object is not subscriptable"
     ]
    }
   ],
   "source": [
    "s[0]"
   ]
  },
  {
   "cell_type": "code",
   "execution_count": 161,
   "id": "733b8358",
   "metadata": {},
   "outputs": [],
   "source": [
    "s={10,1,2}"
   ]
  },
  {
   "cell_type": "code",
   "execution_count": 162,
   "id": "59db5524",
   "metadata": {},
   "outputs": [
    {
     "data": {
      "text/plain": [
       "{1, 2, 10}"
      ]
     },
     "execution_count": 162,
     "metadata": {},
     "output_type": "execute_result"
    }
   ],
   "source": [
    "s"
   ]
  },
  {
   "cell_type": "code",
   "execution_count": 163,
   "id": "0524fcb1",
   "metadata": {},
   "outputs": [
    {
     "data": {
      "text/plain": [
       "{1, 2, 10}"
      ]
     },
     "execution_count": 163,
     "metadata": {},
     "output_type": "execute_result"
    }
   ],
   "source": [
    "s"
   ]
  },
  {
   "cell_type": "code",
   "execution_count": 164,
   "id": "20cf1771",
   "metadata": {},
   "outputs": [
    {
     "data": {
      "text/plain": [
       "{1, 2, 10}"
      ]
     },
     "execution_count": 164,
     "metadata": {},
     "output_type": "execute_result"
    }
   ],
   "source": [
    "s"
   ]
  },
  {
   "cell_type": "code",
   "execution_count": 160,
   "id": "efe04827",
   "metadata": {},
   "outputs": [],
   "source": [
    "# Dictionaries----> Key : Value pairs "
   ]
  },
  {
   "cell_type": "code",
   "execution_count": 165,
   "id": "04d10345",
   "metadata": {},
   "outputs": [],
   "source": [
    "x={}"
   ]
  },
  {
   "cell_type": "code",
   "execution_count": 166,
   "id": "ff3f0341",
   "metadata": {},
   "outputs": [
    {
     "data": {
      "text/plain": [
       "dict"
      ]
     },
     "execution_count": 166,
     "metadata": {},
     "output_type": "execute_result"
    }
   ],
   "source": [
    "type(x)"
   ]
  },
  {
   "cell_type": "code",
   "execution_count": 167,
   "id": "0f70ae78",
   "metadata": {},
   "outputs": [],
   "source": [
    "x1={34,33}"
   ]
  },
  {
   "cell_type": "code",
   "execution_count": 168,
   "id": "a2f39af7",
   "metadata": {},
   "outputs": [
    {
     "data": {
      "text/plain": [
       "set"
      ]
     },
     "execution_count": 168,
     "metadata": {},
     "output_type": "execute_result"
    }
   ],
   "source": [
    "type(x1)"
   ]
  },
  {
   "cell_type": "code",
   "execution_count": 169,
   "id": "b1fa9d12",
   "metadata": {},
   "outputs": [],
   "source": [
    "## Dictionary"
   ]
  },
  {
   "cell_type": "code",
   "execution_count": 171,
   "id": "2e5fae49",
   "metadata": {},
   "outputs": [],
   "source": [
    "x={\"name\":\"Naman\",\"age\":32}"
   ]
  },
  {
   "cell_type": "code",
   "execution_count": 172,
   "id": "d1bc9d42",
   "metadata": {},
   "outputs": [
    {
     "data": {
      "text/plain": [
       "dict"
      ]
     },
     "execution_count": 172,
     "metadata": {},
     "output_type": "execute_result"
    }
   ],
   "source": [
    "type(x)"
   ]
  },
  {
   "cell_type": "code",
   "execution_count": 173,
   "id": "c87d032f",
   "metadata": {},
   "outputs": [],
   "source": [
    "x1={\"name\":\"Naman\",\"age\":32,\"name\":\"ads\",\"age\":12,True:\"123\",\"key\":False,232:123}"
   ]
  },
  {
   "cell_type": "code",
   "execution_count": 175,
   "id": "5c76656a",
   "metadata": {},
   "outputs": [
    {
     "data": {
      "text/plain": [
       "{'name': 'ads', 'age': 12, True: '123', 'key': False, 232: 123}"
      ]
     },
     "execution_count": 175,
     "metadata": {},
     "output_type": "execute_result"
    }
   ],
   "source": [
    "x1"
   ]
  },
  {
   "cell_type": "code",
   "execution_count": 176,
   "id": "52daf1f4",
   "metadata": {},
   "outputs": [],
   "source": [
    "x1={\"name\":\"Naman\",\"age\":32,\"name\":\"ads\",\"age\":12,True:\"123\",\"key\":False,232:123,\"123123\":[1,2,3,3,4,4,2], \"qwr\":(1.23,13)}"
   ]
  },
  {
   "cell_type": "code",
   "execution_count": 177,
   "id": "6c22be9e",
   "metadata": {},
   "outputs": [
    {
     "data": {
      "text/plain": [
       "{'name': 'ads',\n",
       " 'age': 12,\n",
       " True: '123',\n",
       " 'key': False,\n",
       " 232: 123,\n",
       " '123123': [1, 2, 3, 3, 4, 4, 2],\n",
       " 'qwr': (1.23, 13)}"
      ]
     },
     "execution_count": 177,
     "metadata": {},
     "output_type": "execute_result"
    }
   ],
   "source": [
    "x1"
   ]
  },
  {
   "cell_type": "code",
   "execution_count": 186,
   "id": "02ddf19a",
   "metadata": {},
   "outputs": [],
   "source": [
    "x1={\"name\":{\"fname\":\"naman\",\"lname\":\"jain\"},\"age\":32,True:\"123\",\"key\":False,232:123,\"_asf\":13}"
   ]
  },
  {
   "cell_type": "code",
   "execution_count": 187,
   "id": "9a4ea634",
   "metadata": {},
   "outputs": [
    {
     "data": {
      "text/plain": [
       "{'name': {'fname': 'naman', 'lname': 'jain'},\n",
       " 'age': 32,\n",
       " True: '123',\n",
       " 'key': False,\n",
       " 232: 123,\n",
       " '_asf': 13}"
      ]
     },
     "execution_count": 187,
     "metadata": {},
     "output_type": "execute_result"
    }
   ],
   "source": [
    "x1"
   ]
  },
  {
   "cell_type": "code",
   "execution_count": 188,
   "id": "f00df612",
   "metadata": {},
   "outputs": [],
   "source": [
    "x3={5:\"wer\",\"k4\":[1,2,3,4]}"
   ]
  },
  {
   "cell_type": "code",
   "execution_count": 189,
   "id": "443c5d5b",
   "metadata": {},
   "outputs": [
    {
     "data": {
      "text/plain": [
       "[1, 2, 3, 4]"
      ]
     },
     "execution_count": 189,
     "metadata": {},
     "output_type": "execute_result"
    }
   ],
   "source": [
    "x3[\"k4\"]"
   ]
  },
  {
   "cell_type": "code",
   "execution_count": 191,
   "id": "2c85d008",
   "metadata": {},
   "outputs": [
    {
     "data": {
      "text/plain": [
       "'wer'"
      ]
     },
     "execution_count": 191,
     "metadata": {},
     "output_type": "execute_result"
    }
   ],
   "source": [
    "x3[5]"
   ]
  },
  {
   "cell_type": "code",
   "execution_count": 192,
   "id": "031e9cb5",
   "metadata": {},
   "outputs": [
    {
     "data": {
      "text/plain": [
       "4"
      ]
     },
     "execution_count": 192,
     "metadata": {},
     "output_type": "execute_result"
    }
   ],
   "source": [
    "x3[\"k4\"][3]"
   ]
  },
  {
   "cell_type": "code",
   "execution_count": 193,
   "id": "7e9ceca4",
   "metadata": {},
   "outputs": [
    {
     "ename": "TypeError",
     "evalue": "unsupported operand type(s) for +: 'dict' and 'dict'",
     "output_type": "error",
     "traceback": [
      "\u001b[1;31m---------------------------------------------------------------------------\u001b[0m",
      "\u001b[1;31mTypeError\u001b[0m                                 Traceback (most recent call last)",
      "\u001b[1;32m<ipython-input-193-9b913862a76c>\u001b[0m in \u001b[0;36m<module>\u001b[1;34m\u001b[0m\n\u001b[1;32m----> 1\u001b[1;33m \u001b[0mx3\u001b[0m\u001b[1;33m+\u001b[0m\u001b[0mx1\u001b[0m\u001b[1;33m\u001b[0m\u001b[1;33m\u001b[0m\u001b[0m\n\u001b[0m",
      "\u001b[1;31mTypeError\u001b[0m: unsupported operand type(s) for +: 'dict' and 'dict'"
     ]
    }
   ],
   "source": [
    "x3+x1"
   ]
  },
  {
   "cell_type": "code",
   "execution_count": 194,
   "id": "540e13f5",
   "metadata": {},
   "outputs": [
    {
     "ename": "TypeError",
     "evalue": "unsupported operand type(s) for *: 'dict' and 'int'",
     "output_type": "error",
     "traceback": [
      "\u001b[1;31m---------------------------------------------------------------------------\u001b[0m",
      "\u001b[1;31mTypeError\u001b[0m                                 Traceback (most recent call last)",
      "\u001b[1;32m<ipython-input-194-3a42545c4868>\u001b[0m in \u001b[0;36m<module>\u001b[1;34m\u001b[0m\n\u001b[1;32m----> 1\u001b[1;33m \u001b[0mx3\u001b[0m\u001b[1;33m*\u001b[0m\u001b[1;36m3\u001b[0m\u001b[1;33m\u001b[0m\u001b[1;33m\u001b[0m\u001b[0m\n\u001b[0m",
      "\u001b[1;31mTypeError\u001b[0m: unsupported operand type(s) for *: 'dict' and 'int'"
     ]
    }
   ],
   "source": [
    "x3*3"
   ]
  },
  {
   "cell_type": "code",
   "execution_count": 195,
   "id": "04df0087",
   "metadata": {},
   "outputs": [
    {
     "data": {
      "text/plain": [
       "{5: 'wer', 'k4': [1, 2, 3, 4]}"
      ]
     },
     "execution_count": 195,
     "metadata": {},
     "output_type": "execute_result"
    }
   ],
   "source": [
    "x3"
   ]
  },
  {
   "cell_type": "code",
   "execution_count": 196,
   "id": "de873692",
   "metadata": {},
   "outputs": [],
   "source": [
    "x3[\"k4\"]=[2,3]"
   ]
  },
  {
   "cell_type": "code",
   "execution_count": 197,
   "id": "8b627ac5",
   "metadata": {},
   "outputs": [
    {
     "data": {
      "text/plain": [
       "{5: 'wer', 'k4': [2, 3]}"
      ]
     },
     "execution_count": 197,
     "metadata": {},
     "output_type": "execute_result"
    }
   ],
   "source": [
    "x3"
   ]
  },
  {
   "cell_type": "code",
   "execution_count": 199,
   "id": "3c3644c1",
   "metadata": {},
   "outputs": [],
   "source": [
    "x3['k4']=2"
   ]
  },
  {
   "cell_type": "code",
   "execution_count": 200,
   "id": "8ddd7fed",
   "metadata": {},
   "outputs": [],
   "source": [
    "x3[\"k4\"]-=1"
   ]
  },
  {
   "cell_type": "code",
   "execution_count": 201,
   "id": "2b007a5e",
   "metadata": {},
   "outputs": [
    {
     "data": {
      "text/plain": [
       "{5: 'wer', 'k4': 1}"
      ]
     },
     "execution_count": 201,
     "metadata": {},
     "output_type": "execute_result"
    }
   ],
   "source": [
    "x3"
   ]
  },
  {
   "cell_type": "code",
   "execution_count": 202,
   "id": "b3bd0881",
   "metadata": {},
   "outputs": [
    {
     "data": {
      "text/plain": [
       "dict_keys([5, 'k4'])"
      ]
     },
     "execution_count": 202,
     "metadata": {},
     "output_type": "execute_result"
    }
   ],
   "source": [
    "x3.keys()"
   ]
  },
  {
   "cell_type": "code",
   "execution_count": 203,
   "id": "82b63f0b",
   "metadata": {},
   "outputs": [
    {
     "name": "stdout",
     "output_type": "stream",
     "text": [
      "wer\n",
      "1\n"
     ]
    }
   ],
   "source": [
    "for i in x3.keys():\n",
    "    print(x3[i])"
   ]
  },
  {
   "cell_type": "code",
   "execution_count": 204,
   "id": "9918af5d",
   "metadata": {},
   "outputs": [
    {
     "data": {
      "text/plain": [
       "dict_values(['wer', 1])"
      ]
     },
     "execution_count": 204,
     "metadata": {},
     "output_type": "execute_result"
    }
   ],
   "source": [
    "x3.values()"
   ]
  },
  {
   "cell_type": "code",
   "execution_count": 205,
   "id": "ce92e76f",
   "metadata": {},
   "outputs": [
    {
     "data": {
      "text/plain": [
       "1"
      ]
     },
     "execution_count": 205,
     "metadata": {},
     "output_type": "execute_result"
    }
   ],
   "source": [
    "x3.pop(\"k4\")"
   ]
  },
  {
   "cell_type": "code",
   "execution_count": 206,
   "id": "f7aec71d",
   "metadata": {},
   "outputs": [
    {
     "data": {
      "text/plain": [
       "{5: 'wer'}"
      ]
     },
     "execution_count": 206,
     "metadata": {},
     "output_type": "execute_result"
    }
   ],
   "source": [
    "x3"
   ]
  },
  {
   "cell_type": "code",
   "execution_count": 230,
   "id": "80f34bb4",
   "metadata": {},
   "outputs": [
    {
     "data": {
      "text/plain": [
       "['name', 'age']"
      ]
     },
     "execution_count": 230,
     "metadata": {},
     "output_type": "execute_result"
    }
   ],
   "source": [
    "list(x.keys())"
   ]
  },
  {
   "cell_type": "code",
   "execution_count": 208,
   "id": "ed0a7c1d",
   "metadata": {},
   "outputs": [
    {
     "ename": "NameError",
     "evalue": "name 'x2' is not defined",
     "output_type": "error",
     "traceback": [
      "\u001b[1;31m---------------------------------------------------------------------------\u001b[0m",
      "\u001b[1;31mNameError\u001b[0m                                 Traceback (most recent call last)",
      "\u001b[1;32m<ipython-input-208-f6b3a9101f77>\u001b[0m in \u001b[0;36m<module>\u001b[1;34m\u001b[0m\n\u001b[1;32m----> 1\u001b[1;33m \u001b[0mx2\u001b[0m\u001b[1;33m.\u001b[0m\u001b[0mitems\u001b[0m\u001b[1;33m(\u001b[0m\u001b[1;33m)\u001b[0m\u001b[1;33m\u001b[0m\u001b[1;33m\u001b[0m\u001b[0m\n\u001b[0m",
      "\u001b[1;31mNameError\u001b[0m: name 'x2' is not defined"
     ]
    }
   ],
   "source": [
    "x2.items()"
   ]
  },
  {
   "cell_type": "code",
   "execution_count": 209,
   "id": "90a40559",
   "metadata": {},
   "outputs": [
    {
     "data": {
      "text/plain": [
       "dict_items([('name', {'fname': 'naman', 'lname': 'jain'}), ('age', 32), (True, '123'), ('key', False), (232, 123), ('_asf', 13)])"
      ]
     },
     "execution_count": 209,
     "metadata": {},
     "output_type": "execute_result"
    }
   ],
   "source": [
    "x1.items()"
   ]
  },
  {
   "cell_type": "markdown",
   "id": "17e8e431",
   "metadata": {},
   "source": [
    "for i in x1.items():\n",
    "    print(i[0])"
   ]
  },
  {
   "cell_type": "code",
   "execution_count": 212,
   "id": "8a8164a4",
   "metadata": {},
   "outputs": [],
   "source": [
    "x5 ={(34,56,56):\"Fsdasfadf\"}"
   ]
  },
  {
   "cell_type": "code",
   "execution_count": 213,
   "id": "8f08e355",
   "metadata": {},
   "outputs": [
    {
     "data": {
      "text/plain": [
       "'Fsdasfadf'"
      ]
     },
     "execution_count": 213,
     "metadata": {},
     "output_type": "execute_result"
    }
   ],
   "source": [
    "x5[(34,56,56)]"
   ]
  },
  {
   "cell_type": "code",
   "execution_count": 215,
   "id": "f5811105",
   "metadata": {},
   "outputs": [
    {
     "data": {
      "text/plain": [
       "6"
      ]
     },
     "execution_count": 215,
     "metadata": {},
     "output_type": "execute_result"
    }
   ],
   "source": [
    "len(x1)"
   ]
  },
  {
   "cell_type": "code",
   "execution_count": 216,
   "id": "a1924e9b",
   "metadata": {},
   "outputs": [
    {
     "data": {
      "text/plain": [
       "228000"
      ]
     },
     "execution_count": 216,
     "metadata": {},
     "output_type": "execute_result"
    }
   ],
   "source": [
    "57000*4"
   ]
  },
  {
   "cell_type": "code",
   "execution_count": 217,
   "id": "721b3203",
   "metadata": {},
   "outputs": [],
   "source": [
    "# small Program\n",
    "\n",
    "\"\"\"\"\"\""
   ]
  },
  {
   "cell_type": "code",
   "execution_count": 232,
   "id": "4ed984af",
   "metadata": {},
   "outputs": [
    {
     "name": "stdout",
     "output_type": "stream",
     "text": [
      "Enter a short Paragraph-->This futuristic dream-like scenario is being sold to us as a real scientific possibility, with billionaires planning to move humanity to Mars in the near future. For decades, children have grown up with the daring movie adventures of intergalactic explorers and the untold habitable worlds they find. Many of the highest-grossing films are set on fictional planets, with paid advisors keeping the science ‘realistic’. At the same time, narratives of humans trying to survive on a post-apocalyptic Earth have also become mainstream.\n",
      "['This', 'futuristic', 'dream-like', 'scenario', 'is', 'being', 'sold', 'to', 'us', 'as', 'a', 'real', 'scientific', 'possibility,', 'with', 'billionaires', 'planning', 'to', 'move', 'humanity', 'to', 'Mars', 'in', 'the', 'near', 'future.', 'For', 'decades,', 'children', 'have', 'grown', 'up', 'with', 'the', 'daring', 'movie', 'adventures', 'of', 'intergalactic', 'explorers', 'and', 'the', 'untold', 'habitable', 'worlds', 'they', 'find.', 'Many', 'of', 'the', 'highest-grossing', 'films', 'are', 'set', 'on', 'fictional', 'planets,', 'with', 'paid', 'advisors', 'keeping', 'the', 'science', '‘realistic’.', 'At', 'the', 'same', 'time,', 'narratives', 'of', 'humans', 'trying', 'to', 'survive', 'on', 'a', 'post-apocalyptic', 'Earth', 'have', 'also', 'become', 'mainstream.']\n",
      "82\n",
      "67\n",
      "{'daring': 'Naman', 'keeping': 'Naman', 'dream-like': 'Naman', 'a': 'Naman', 'us': 'Naman', 'scenario': 'Naman', 'also': 'Naman', 'highest-grossing': 'Naman', 'real': 'Naman', 'have': 'Naman', 'sold': 'Naman', 'futuristic': 'Naman', 'possibility,': 'Naman', 'find.': 'Naman', 'planets,': 'Naman', 'decades,': 'Naman', 'explorers': 'Naman', 'trying': 'Naman', 'of': 'Naman', 'worlds': 'Naman', 'At': 'Naman', 'Earth': 'Naman', 'set': 'Naman', 'fictional': 'Naman', 'being': 'Naman', 'billionaires': 'Naman', 'in': 'Naman', '‘realistic’.': 'Naman', 'near': 'Naman', 'children': 'Naman', 'survive': 'Naman', 'is': 'Naman', 'adventures': 'Naman', 'advisors': 'Naman', 'intergalactic': 'Naman', 'This': 'Naman', 'on': 'Naman', 'same': 'Naman', 'Mars': 'Naman', 'move': 'Naman', 'up': 'Naman', 'humanity': 'Naman', 'untold': 'Naman', 'the': 'Naman', 'paid': 'Naman', 'time,': 'Naman', 'with': 'Naman', 'to': 'Naman', 'grown': 'Naman', 'movie': 'Naman', 'Many': 'Naman', 'narratives': 'Naman', 'mainstream.': 'Naman', 'habitable': 'Naman', 'humans': 'Naman', 'they': 'Naman', 'future.': 'Naman', 'are': 'Naman', 'science': 'Naman', 'as': 'Naman', 'planning': 'Naman', 'become': 'Naman', 'For': 'Naman', 'post-apocalyptic': 'Naman', 'scientific': 'Naman', 'films': 'Naman', 'and': 'Naman'}\n",
      "('Naman', 'Naman', 'Naman', 'Naman', 'Naman', 'Naman', 'Naman', 'Naman', 'Naman', 'Naman', 'Naman', 'Naman', 'Naman', 'Naman', 'Naman', 'Naman', 'Naman', 'Naman', 'Naman', 'Naman', 'Naman', 'Naman', 'Naman', 'Naman', 'Naman', 'Naman', 'Naman', 'Naman', 'Naman', 'Naman', 'Naman', 'Naman', 'Naman', 'Naman', 'Naman', 'Naman', 'Naman', 'Naman', 'Naman', 'Naman', 'Naman', 'Naman', 'Naman', 'Naman', 'Naman', 'Naman', 'Naman', 'Naman', 'Naman', 'Naman', 'Naman', 'Naman', 'Naman', 'Naman', 'Naman', 'Naman', 'Naman', 'Naman', 'Naman', 'Naman', 'Naman', 'Naman', 'Naman', 'Naman', 'Naman', 'Naman', 'Naman')\n",
      "['daring', 'keeping', 'dream-like', 'a', 'us', 'scenario', 'also', 'highest-grossing', 'real', 'have', 'sold', 'futuristic', 'possibility,', 'find.', 'planets,', 'decades,', 'explorers', 'trying', 'of', 'worlds', 'At', 'Earth', 'set', 'fictional', 'being', 'billionaires', 'in', '‘realistic’.', 'near', 'children', 'survive', 'is', 'adventures', 'advisors', 'intergalactic', 'This', 'on', 'same', 'Mars', 'move', 'up', 'humanity', 'untold', 'the', 'paid', 'time,', 'with', 'to', 'grown', 'movie', 'Many', 'narratives', 'mainstream.', 'habitable', 'humans', 'they', 'future.', 'are', 'science', 'as', 'planning', 'become', 'For', 'post-apocalyptic', 'scientific', 'films', 'and']\n"
     ]
    }
   ],
   "source": [
    "Text_p = input(\"Enter a short Paragraph-->\") # Taken input \n",
    "l= Text_p.split() # splitted the paragraph based on the white space as delimiter\n",
    "\n",
    "print(l) # list of words from the paragraphs\n",
    "\n",
    "print(len(l)) # length of the list of words\n",
    "\n",
    "l=list(set(l))# Duplicates elements are removed from the list\n",
    "\n",
    "print(len(l)) # length of list of words after the removal of duplicates\n",
    "\n",
    "dict_words=dict()\n",
    "for i in l:\n",
    "    dict_words[i]=\"Naman\"      # Created a dictionary of words as a keys \n",
    "print(dict_words)\n",
    "\n",
    "t=tuple(dict_words.values())\n",
    "print(t)                            # Converted the list of keys into tuple\n",
    "\n",
    "l=list(dict_words.keys())\n",
    "print(l)                           # List of all the keys \n",
    "\n"
   ]
  },
  {
   "cell_type": "code",
   "execution_count": 233,
   "id": "12f245ab",
   "metadata": {},
   "outputs": [],
   "source": [
    "d={\"company\":\"Ineuron\",\"Course\":\"FSDS\",\"prerequsite\":\"Python\",\"Year\":2023}"
   ]
  },
  {
   "cell_type": "code",
   "execution_count": 234,
   "id": "0621035e",
   "metadata": {},
   "outputs": [
    {
     "data": {
      "text/plain": [
       "{'company': 'Ineuron', 'Course': 'FSDS', 'prerequsite': 'Python', 'Year': 2023}"
      ]
     },
     "execution_count": 234,
     "metadata": {},
     "output_type": "execute_result"
    }
   ],
   "source": [
    "d"
   ]
  },
  {
   "cell_type": "code",
   "execution_count": 242,
   "id": "df4eac3f",
   "metadata": {},
   "outputs": [
    {
     "name": "stdout",
     "output_type": "stream",
     "text": [
      "company Ineuron\n",
      "Course FSDS\n",
      "prerequsite Python\n",
      "Year 2023\n"
     ]
    }
   ],
   "source": [
    "for i,l in d.items():\n",
    "    print(i,l)"
   ]
  },
  {
   "cell_type": "code",
   "execution_count": 243,
   "id": "a683946d",
   "metadata": {},
   "outputs": [
    {
     "data": {
      "text/plain": [
       "True"
      ]
     },
     "execution_count": 243,
     "metadata": {},
     "output_type": "execute_result"
    }
   ],
   "source": [
    "\"Course\" in d\n"
   ]
  },
  {
   "cell_type": "code",
   "execution_count": 246,
   "id": "3a73de73",
   "metadata": {},
   "outputs": [
    {
     "name": "stdout",
     "output_type": "stream",
     "text": [
      "Hello THis year brings a lot of joy\n"
     ]
    }
   ],
   "source": [
    "if d[\"Year\"]>=2023:\n",
    "    print(\"Hello THis year brings a lot of joy\")\n",
    "    if len(d[\"company\"])!=7:\n",
    "        print(\"Not a 7 lettered string\")"
   ]
  },
  {
   "cell_type": "code",
   "execution_count": 253,
   "id": "986640aa",
   "metadata": {},
   "outputs": [
    {
     "name": "stdout",
     "output_type": "stream",
     "text": [
      "Year is fine\n"
     ]
    }
   ],
   "source": [
    "for i in d:\n",
    "    if i==\"Year\":\n",
    "        if d[i]>2022:\n",
    "            print(\"Year is fine\")\n",
    "        else:\n",
    "            d[i]=2023\n",
    "        "
   ]
  },
  {
   "cell_type": "code",
   "execution_count": 252,
   "id": "b8e62635",
   "metadata": {},
   "outputs": [
    {
     "data": {
      "text/plain": [
       "{'company': 'Ineuron', 'Course': 'FSDS', 'prerequsite': 'Python', 'Year': 2023}"
      ]
     },
     "execution_count": 252,
     "metadata": {},
     "output_type": "execute_result"
    }
   ],
   "source": [
    "d"
   ]
  },
  {
   "cell_type": "code",
   "execution_count": 254,
   "id": "e7fecc2b",
   "metadata": {},
   "outputs": [],
   "source": [
    "# Dictionary comprehension"
   ]
  },
  {
   "cell_type": "code",
   "execution_count": 256,
   "id": "58bf84fd",
   "metadata": {},
   "outputs": [],
   "source": [
    "my_dict={}\n",
    "for i in range(10):\n",
    "    my_dict[i]=i*i"
   ]
  },
  {
   "cell_type": "code",
   "execution_count": 257,
   "id": "39ffd3f4",
   "metadata": {},
   "outputs": [
    {
     "data": {
      "text/plain": [
       "{0: 0, 1: 1, 2: 4, 3: 9, 4: 16, 5: 25, 6: 36, 7: 49, 8: 64, 9: 81}"
      ]
     },
     "execution_count": 257,
     "metadata": {},
     "output_type": "execute_result"
    }
   ],
   "source": [
    "my_dict"
   ]
  },
  {
   "cell_type": "code",
   "execution_count": 258,
   "id": "a4505dff",
   "metadata": {},
   "outputs": [
    {
     "data": {
      "text/plain": [
       "{0: 0, 1: 1, 2: 4, 3: 9, 4: 16, 5: 25, 6: 36, 7: 49, 8: 64, 9: 81}"
      ]
     },
     "execution_count": 258,
     "metadata": {},
     "output_type": "execute_result"
    }
   ],
   "source": [
    "{i:i*i for i in range(10)}"
   ]
  },
  {
   "cell_type": "code",
   "execution_count": 259,
   "id": "92aed339",
   "metadata": {},
   "outputs": [
    {
     "data": {
      "text/plain": [
       "{0: 'Even', 2: 'Even', 4: 'Even', 6: 'Even', 8: 'Even'}"
      ]
     },
     "execution_count": 259,
     "metadata": {},
     "output_type": "execute_result"
    }
   ],
   "source": [
    "{i:\"Even\" for i in range(10) if i%2==0}"
   ]
  },
  {
   "cell_type": "code",
   "execution_count": 262,
   "id": "1512bdc8",
   "metadata": {},
   "outputs": [
    {
     "data": {
      "text/plain": [
       "{1: 'Odd',\n",
       " 2: 'Even',\n",
       " 3: 'Odd',\n",
       " 4: 'Even',\n",
       " 5: 'Odd',\n",
       " 6: 'Even',\n",
       " 7: 'Odd',\n",
       " 8: 'Even',\n",
       " 9: 'Odd'}"
      ]
     },
     "execution_count": 262,
     "metadata": {},
     "output_type": "execute_result"
    }
   ],
   "source": [
    "{i:\"Even\" if i%2==0 else \"Odd\" for i in range(10) if i!=0 }"
   ]
  },
  {
   "cell_type": "code",
   "execution_count": 263,
   "id": "1d804d46",
   "metadata": {},
   "outputs": [
    {
     "data": {
      "text/plain": [
       "{0, 1, 2, 3, 4, 5, 6, 7, 8, 9}"
      ]
     },
     "execution_count": 263,
     "metadata": {},
     "output_type": "execute_result"
    }
   ],
   "source": [
    "{i for i in range(10)}"
   ]
  },
  {
   "cell_type": "code",
   "execution_count": null,
   "id": "03aaa829",
   "metadata": {},
   "outputs": [],
   "source": []
  }
 ],
 "metadata": {
  "kernelspec": {
   "display_name": "Python 3",
   "language": "python",
   "name": "python3"
  },
  "language_info": {
   "codemirror_mode": {
    "name": "ipython",
    "version": 3
   },
   "file_extension": ".py",
   "mimetype": "text/x-python",
   "name": "python",
   "nbconvert_exporter": "python",
   "pygments_lexer": "ipython3",
   "version": "3.8.8"
  }
 },
 "nbformat": 4,
 "nbformat_minor": 5
}
