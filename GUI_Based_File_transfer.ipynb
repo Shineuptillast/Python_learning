{
 "cells": [
  {
   "cell_type": "code",
   "execution_count": 1,
   "id": "5a427d68",
   "metadata": {},
   "outputs": [],
   "source": [
    "# This application helps in transferring a files from  once place to another "
   ]
  },
  {
   "cell_type": "code",
   "execution_count": 2,
   "id": "33059daf",
   "metadata": {},
   "outputs": [],
   "source": [
    "from tkinter import*\n",
    "import tkinter.font as tkFont\n",
    "from tkinter import ttk\n",
    "from tkinter import filedialog\n",
    "import os\n",
    "import shutil\n",
    "from tkinter import messagebox"
   ]
  },
  {
   "cell_type": "code",
   "execution_count": 22,
   "id": "df815461",
   "metadata": {},
   "outputs": [],
   "source": [
    "root = Tk()\n",
    "root.title(\"File Transfer\")\n",
    "root.geometry(\"500x400\")\n",
    "def remove_button_fn():\n",
    "    e1.delete(0,\"end\")\n",
    "    e2.delete(0,\"end\")\n",
    "    \n",
    "    \n",
    "def move_button_fn():\n",
    "    response=messagebox.askyesno(\"Conformation\",\"Do You want to move forward with the operation\")\n",
    "    \n",
    "    if response==1:\n",
    "        try:\n",
    "            shutil.move(m_i_c,m_i_d)\n",
    "            messagebox.showinfo(\"Success\",\"Your files have been moved into the folder {}\".format(m_i_d))\n",
    "            e1.delete(0,\"end\")\n",
    "            e2.delete(0,\"end\")\n",
    "        except Exception as e:\n",
    "            messagebox.showerror(\"Error\",e)\n",
    "\n",
    "def copy_button_fn():\n",
    "    response=messagebox.askyesno(\"Conformation\",\"Do You want to copied forward with the operation\")\n",
    "    \n",
    "    if response==1:\n",
    "        try:\n",
    "            shutil.copy(m_i_c,m_i_d)\n",
    "            messagebox.showinfo(\"Success\",\"Your files have been moved into the folder {}\".format(m_i_d))\n",
    "            e1.delete(0,\"end\")\n",
    "            e2.delete(0,\"end\")    \n",
    "        except Exception as e:\n",
    "            messagebox.showerror(\"Error\",e)\n",
    "    \n",
    "    \n",
    "    \n",
    "def open_fn(e):\n",
    "    global m_i_c\n",
    "    os.chdir(\"C:\\\\Users\\\\Naman Jain\")\n",
    "    root.filename=filedialog.askopenfilename( initialdir=\"C://Users//Naman Jain\",title=\"Select a file\",filetypes=((\"all files\",\"*.\"),(\"csv files\",\"*.csv\"),(\"Python files\",\"*.ipynb\"),(\"Docx files\",\"*.docx\"),(\"text files\",\"*.txt\"),(\"jpg files\",\"*.jpg\")))\n",
    "    m_i_c=root.filename\n",
    "    e.delete(0,\"end\")\n",
    "    e.insert(0,m_i_c)\n",
    "def opend_fn(e):\n",
    "    global m_i_d\n",
    "    root.filename=filedialog.askdirectory(initialdir=os.getcwd(),title=\"Select the location to move/copy\")\n",
    "    m_i_d=root.filename\n",
    "    e.delete(0,\"end\")\n",
    "    e.insert(0,m_i_d)   \n",
    "tk_font=tkFont.Font(size=25)\n",
    "\n",
    "separator =ttk.Separator(root,orient=\"horizontal\")\n",
    "separator.pack(fill=X,pady=5)\n",
    "\n",
    "l=Label(root,text=\"File Transfer\",font=tk_font,bg=\"brown\",fg=\"white\").pack(anchor=\"center\",pady=20,fill=BOTH)\n",
    "\n",
    "separator =ttk.Separator(root,orient=\"horizontal\")\n",
    "separator.pack(fill=X)\n",
    "def temp_text(e):\n",
    "    e1.delete(0,\"end\")\n",
    "def temp_text1(e):\n",
    "    e2.delete(0,\"end\")\n",
    "tk_font1=tkFont.Font(size=10,weight=\"bold\")\n",
    "\n",
    "l1=Label(root,text=\"FROM:\").pack(anchor=\"c\",pady=10)\n",
    "e1=Entry(root,borderwidth=4)\n",
    "e1.insert(0,\"Enter the Destination\")\n",
    "e1.pack(anchor=\"c\",pady=3,fill=X,padx=30)\n",
    "e1.bind(\"<FocusIn>\", temp_text)\n",
    "open_button=Button(text=\"Open File\",command=lambda :open_fn(e1),width=10,borderwidth=3)\n",
    "open_button.pack(anchor=\"e\",padx=30,pady=7)\n",
    "\n",
    "\n",
    "\n",
    "\n",
    "\n",
    "\n",
    "l2=Label(root,text=\"TO:\").pack(anchor=\"c\",pady=10)\n",
    "e2=Entry(root,borderwidth=4)\n",
    "e2.insert(0,\"Enter the Destination\")\n",
    "e2.pack(anchor=\"c\",pady=3,fill=X,padx=30)\n",
    "e2.bind(\"<FocusIn>\", temp_text1)\n",
    "open_button1=Button(text=\"Open File\",command=lambda : opend_fn(e2),width=10,borderwidth=3)\n",
    "open_button1.pack(anchor=\"e\",padx=30,pady=7)\n",
    "\n",
    "copy_button=Button(text=\"Copy\",command=copy_button_fn,width=10,borderwidth=3)\n",
    "copy_button.pack(side=LEFT,padx=40)\n",
    "\n",
    "move_button=Button(text=\"Move\",command=move_button_fn,width=10,borderwidth=3)\n",
    "move_button.pack(side=LEFT,padx=40)\n",
    "\n",
    "remove_button=Button(text=\"Remove\",command=remove_button_fn,width=10,borderwidth=3)\n",
    "remove_button.pack(side=LEFT,padx=40)\n",
    "\n",
    "root.mainloop()"
   ]
  },
  {
   "cell_type": "code",
   "execution_count": 115,
   "id": "9685ca5c",
   "metadata": {},
   "outputs": [
    {
     "name": "stdout",
     "output_type": "stream",
     "text": [
      "<class 'tkinter.Entry'>\n",
      "<class 'tkinter.Entry'>\n"
     ]
    }
   ],
   "source": [
    "root = Tk()\n",
    "entry=Entry(root)\n",
    "print(type(entry))\n",
    "entry.pack()\n",
    "print(type(entry))\n",
    "entry.insert(0,\"njn\")\n",
    "root.mainloop()"
   ]
  },
  {
   "cell_type": "code",
   "execution_count": 24,
   "id": "54c92a61",
   "metadata": {},
   "outputs": [
    {
     "ename": "FileNotFoundError",
     "evalue": "[WinError 3] The system cannot find the path specified: 'GUI_Based_File_transfer'",
     "output_type": "error",
     "traceback": [
      "\u001b[1;31m---------------------------------------------------------------------------\u001b[0m",
      "\u001b[1;31mFileNotFoundError\u001b[0m                         Traceback (most recent call last)",
      "Cell \u001b[1;32mIn[24], line 1\u001b[0m\n\u001b[1;32m----> 1\u001b[0m \u001b[43mos\u001b[49m\u001b[38;5;241;43m.\u001b[39;49m\u001b[43mscandir\u001b[49m\u001b[43m(\u001b[49m\u001b[38;5;124;43m\"\u001b[39;49m\u001b[38;5;124;43mGUI_Based_File_transfer\u001b[39;49m\u001b[38;5;124;43m\"\u001b[39;49m\u001b[43m)\u001b[49m\n",
      "\u001b[1;31mFileNotFoundError\u001b[0m: [WinError 3] The system cannot find the path specified: 'GUI_Based_File_transfer'"
     ]
    }
   ],
   "source": [
    "os.scandir(\"GUI_Based_File_transfer\")"
   ]
  },
  {
   "cell_type": "code",
   "execution_count": 47,
   "id": "10ebaa26",
   "metadata": {},
   "outputs": [
    {
     "data": {
      "text/plain": [
       "True"
      ]
     },
     "execution_count": 47,
     "metadata": {},
     "output_type": "execute_result"
    }
   ],
   "source": [
    "os.path.exists(\"D:\")"
   ]
  },
  {
   "cell_type": "code",
   "execution_count": 30,
   "id": "7a63fc4e",
   "metadata": {},
   "outputs": [],
   "source": [
    "import glob\n",
    "for name in glob.glob(\"1234*\"):\n",
    "    print(name)"
   ]
  },
  {
   "cell_type": "code",
   "execution_count": 31,
   "id": "153131c1",
   "metadata": {},
   "outputs": [],
   "source": [
    "import glob"
   ]
  },
  {
   "cell_type": "code",
   "execution_count": 37,
   "id": "597e4144",
   "metadata": {},
   "outputs": [
    {
     "data": {
      "text/plain": [
       "'C:\\\\Users\\\\Naman Jain'"
      ]
     },
     "execution_count": 37,
     "metadata": {},
     "output_type": "execute_result"
    }
   ],
   "source": [
    "os.getcwd()"
   ]
  },
  {
   "cell_type": "code",
   "execution_count": 46,
   "id": "1ffad07b",
   "metadata": {},
   "outputs": [
    {
     "data": {
      "text/plain": [
       "['test.txt']"
      ]
     },
     "execution_count": 46,
     "metadata": {},
     "output_type": "execute_result"
    }
   ],
   "source": [
    "glob.glob(\"test**\",recursive=True)"
   ]
  },
  {
   "cell_type": "code",
   "execution_count": 64,
   "id": "8f1acfe9",
   "metadata": {},
   "outputs": [],
   "source": [
    "def cal(text):\n",
    "    for roots,dirs,files in os.walk(\"D:\"):\n",
    "        for file in files:\n",
    "            if \".\" in file:\n",
    "                a=file.index(\".\")\n",
    "                s=file[0:a]\n",
    "                if s==text:\n",
    "                    yield roots"
   ]
  },
  {
   "cell_type": "code",
   "execution_count": 65,
   "id": "a8e21c8d",
   "metadata": {},
   "outputs": [
    {
     "data": {
      "text/plain": [
       "<generator object cal at 0x000002303BD2CCF0>"
      ]
     },
     "execution_count": 65,
     "metadata": {},
     "output_type": "execute_result"
    }
   ],
   "source": [
    "cal(\"1234\")"
   ]
  },
  {
   "cell_type": "code",
   "execution_count": 66,
   "id": "5a958af5",
   "metadata": {},
   "outputs": [
    {
     "name": "stdout",
     "output_type": "stream",
     "text": [
      "D:big data\\testing\\testing\\Testing1\\testing2\\TEsting3\n"
     ]
    }
   ],
   "source": [
    "for i in cal(\"12345\"):\n",
    "    print(i)"
   ]
  },
  {
   "cell_type": "code",
   "execution_count": 116,
   "id": "ecd40bb2",
   "metadata": {},
   "outputs": [],
   "source": [
    "def name_extractor(text):\n",
    "    index_= text.index(\".\")\n",
    "    s=text[0:index_]\n",
    "    return s"
   ]
  },
  {
   "cell_type": "code",
   "execution_count": 117,
   "id": "c0e81ed5",
   "metadata": {},
   "outputs": [
    {
     "data": {
      "text/plain": [
       "'1234'"
      ]
     },
     "execution_count": 117,
     "metadata": {},
     "output_type": "execute_result"
    }
   ],
   "source": [
    "name_extractor(\"1234.txt\")"
   ]
  },
  {
   "cell_type": "code",
   "execution_count": 118,
   "id": "9b10f8b4",
   "metadata": {},
   "outputs": [],
   "source": [
    "def directories():\n",
    "    l=[i for i in \"ABCDEFGHIJKLMNOPQRSTUVWXYZ\" if os.path.exists(\"{}:\".format(i))]\n",
    "    return l\n",
    "lf_names=[]\n",
    "\n",
    "\n",
    "def clickme(text1):\n",
    "    for i in directories():\n",
    "        for roots,dirs,files in os.walk(\"{}:\".format(i)):\n",
    "            for file in files:\n",
    "                if \".\" in file:\n",
    "                    f_name=name_extractor(file)\n",
    "                    if f_name==text1:\n",
    "                         lf_names.append(roots+ \"/\" + file) "
   ]
  },
  {
   "cell_type": "code",
   "execution_count": 119,
   "id": "505effb9",
   "metadata": {},
   "outputs": [],
   "source": [
    "clickme(\"1234\")"
   ]
  },
  {
   "cell_type": "code",
   "execution_count": 120,
   "id": "0a0d75f6",
   "metadata": {},
   "outputs": [
    {
     "data": {
      "text/plain": [
       "['C:AppData\\\\Roaming\\\\Microsoft\\\\Windows\\\\Recent/1234.docx.lnk',\n",
       " 'C:AppData\\\\Roaming\\\\Microsoft\\\\Windows\\\\Recent/1234.rtf.lnk',\n",
       " 'C:AppData\\\\Roaming\\\\Microsoft\\\\Windows\\\\Recent/1234.txt.lnk',\n",
       " 'C:OneDrive\\\\Desktop\\\\Cat 22/1234.pdf',\n",
       " 'C:OneDrive\\\\Desktop\\\\Cat 22\\\\sp jian\\\\NAMAN_DOCUMENTS/1234.pdf',\n",
       " 'C:OneDrive\\\\Desktop\\\\lic payment/1234.txt',\n",
       " 'C:OneDrive\\\\Desktop\\\\LOR/1234.txt',\n",
       " 'C:OneDrive\\\\Desktop\\\\resune__/1234.txt',\n",
       " 'D:big data\\\\testing\\\\testing\\\\Testing1\\\\testing2\\\\TEsting3/1234.txt']"
      ]
     },
     "execution_count": 120,
     "metadata": {},
     "output_type": "execute_result"
    }
   ],
   "source": [
    "lf_names"
   ]
  },
  {
   "cell_type": "code",
   "execution_count": 121,
   "id": "691fa5a1",
   "metadata": {},
   "outputs": [
    {
     "data": {
      "text/plain": [
       "'C:\\\\Users\\\\Naman Jain'"
      ]
     },
     "execution_count": 121,
     "metadata": {},
     "output_type": "execute_result"
    }
   ],
   "source": [
    "os.getcwd()"
   ]
  },
  {
   "cell_type": "code",
   "execution_count": null,
   "id": "5b341127",
   "metadata": {},
   "outputs": [],
   "source": []
  }
 ],
 "metadata": {
  "kernelspec": {
   "display_name": "Python 3",
   "language": "python",
   "name": "python3"
  },
  "language_info": {
   "codemirror_mode": {
    "name": "ipython",
    "version": 3
   },
   "file_extension": ".py",
   "mimetype": "text/x-python",
   "name": "python",
   "nbconvert_exporter": "python",
   "pygments_lexer": "ipython3",
   "version": "3.8.8"
  }
 },
 "nbformat": 4,
 "nbformat_minor": 5
}
