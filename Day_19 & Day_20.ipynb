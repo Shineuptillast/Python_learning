{
 "cells": [
  {
   "cell_type": "code",
   "execution_count": 13,
   "id": "20f8a2d3",
   "metadata": {},
   "outputs": [],
   "source": [
    "class test:\n",
    "    def __init__(self,a,b,c,d):\n",
    "        self.a=a\n",
    "        self.b=b\n",
    "        self.c=c\n",
    "        self.d=d\n",
    "    def test_custom(self, v):\n",
    "        return v-self.a\n",
    "    def __str__(self):\n",
    "        return \"This is my test code for abstraction\"\n",
    "    "
   ]
  },
  {
   "cell_type": "code",
   "execution_count": 14,
   "id": "e1c2ac0b",
   "metadata": {},
   "outputs": [],
   "source": [
    "o=test(4,5,6,7)"
   ]
  },
  {
   "cell_type": "code",
   "execution_count": 15,
   "id": "6b60cca1",
   "metadata": {},
   "outputs": [
    {
     "data": {
      "text/plain": [
       "3"
      ]
     },
     "execution_count": 15,
     "metadata": {},
     "output_type": "execute_result"
    }
   ],
   "source": [
    "o.test_custom(7)"
   ]
  },
  {
   "cell_type": "code",
   "execution_count": 16,
   "id": "c01ff2d4",
   "metadata": {},
   "outputs": [
    {
     "name": "stdout",
     "output_type": "stream",
     "text": [
      "This is my test code for abstraction\n"
     ]
    }
   ],
   "source": [
    "print(o)"
   ]
  },
  {
   "cell_type": "code",
   "execution_count": 17,
   "id": "2811362d",
   "metadata": {},
   "outputs": [],
   "source": [
    "# Abstraction"
   ]
  },
  {
   "cell_type": "code",
   "execution_count": 21,
   "id": "797bc9d8",
   "metadata": {},
   "outputs": [],
   "source": [
    "class test:\n",
    "    def __init__(self,a,b,c,d):\n",
    "        self._a=a          # _a is a private variable, which can't be access out of the class\n",
    "        self.b=b           # no such keyword like private, public, protected as in other programming language\n",
    "        self.c=c\n",
    "        self.d=d\n",
    "    def test_custom(self, v):\n",
    "        return v-self._a\n",
    "    def __str__(self):\n",
    "        return \"This is my test code for abstraction\"\n",
    "    \n",
    "\n",
    "\n"
   ]
  },
  {
   "cell_type": "code",
   "execution_count": 22,
   "id": "608c85eb",
   "metadata": {},
   "outputs": [],
   "source": [
    "o=test(4,5,6,7)"
   ]
  },
  {
   "cell_type": "code",
   "execution_count": 23,
   "id": "1e25c8d2",
   "metadata": {},
   "outputs": [
    {
     "data": {
      "text/plain": [
       "3"
      ]
     },
     "execution_count": 23,
     "metadata": {},
     "output_type": "execute_result"
    }
   ],
   "source": [
    "o.test_custom(7)"
   ]
  },
  {
   "cell_type": "code",
   "execution_count": 24,
   "id": "528093c6",
   "metadata": {},
   "outputs": [
    {
     "ename": "AttributeError",
     "evalue": "'test' object has no attribute 'a'",
     "output_type": "error",
     "traceback": [
      "\u001b[1;31m---------------------------------------------------------------------------\u001b[0m",
      "\u001b[1;31mAttributeError\u001b[0m                            Traceback (most recent call last)",
      "Cell \u001b[1;32mIn[24], line 1\u001b[0m\n\u001b[1;32m----> 1\u001b[0m \u001b[43mo\u001b[49m\u001b[38;5;241;43m.\u001b[39;49m\u001b[43ma\u001b[49m\n",
      "\u001b[1;31mAttributeError\u001b[0m: 'test' object has no attribute 'a'"
     ]
    }
   ],
   "source": [
    "o.a"
   ]
  },
  {
   "cell_type": "code",
   "execution_count": 25,
   "id": "096286ee",
   "metadata": {},
   "outputs": [
    {
     "data": {
      "text/plain": [
       "4"
      ]
     },
     "execution_count": 25,
     "metadata": {},
     "output_type": "execute_result"
    }
   ],
   "source": [
    "o._a"
   ]
  },
  {
   "cell_type": "code",
   "execution_count": 34,
   "id": "3c1856e8",
   "metadata": {},
   "outputs": [],
   "source": [
    "class test:\n",
    "    def __init__(self,a,b,c,d):\n",
    "        self.__a=a          # _a is a private variable, which can't be access out of the class\n",
    "        self.b=b           # no such keyword like private, public, protected as in other programming language\n",
    "        self.c=c\n",
    "        self.d=d\n",
    "    def test_custom(self, v):\n",
    "        return v-self.__a\n",
    "    def __str__(self):\n",
    "        return \"This is my test code for abstraction\"\n",
    "    \n",
    "\n",
    "\n"
   ]
  },
  {
   "cell_type": "code",
   "execution_count": 27,
   "id": "2e466336",
   "metadata": {},
   "outputs": [],
   "source": [
    "o=test(4,5,6,7)"
   ]
  },
  {
   "cell_type": "code",
   "execution_count": 28,
   "id": "68c7bbde",
   "metadata": {},
   "outputs": [
    {
     "data": {
      "text/plain": [
       "3"
      ]
     },
     "execution_count": 28,
     "metadata": {},
     "output_type": "execute_result"
    }
   ],
   "source": [
    "o.test_custom(7)"
   ]
  },
  {
   "cell_type": "code",
   "execution_count": 31,
   "id": "b19be54c",
   "metadata": {},
   "outputs": [
    {
     "data": {
      "text/plain": [
       "4"
      ]
     },
     "execution_count": 31,
     "metadata": {},
     "output_type": "execute_result"
    }
   ],
   "source": [
    "o._test__a"
   ]
  },
  {
   "cell_type": "code",
   "execution_count": 32,
   "id": "7395a5e1",
   "metadata": {},
   "outputs": [],
   "source": [
    "# Inheritance"
   ]
  },
  {
   "cell_type": "code",
   "execution_count": 37,
   "id": "aee55729",
   "metadata": {},
   "outputs": [
    {
     "data": {
      "text/plain": [
       "6"
      ]
     },
     "execution_count": 37,
     "metadata": {},
     "output_type": "execute_result"
    }
   ],
   "source": [
    "class test1(test):\n",
    "    def __init__(self,j,*args):\n",
    "        super(test1,self).__init__(*args)\n",
    "        self.j=j\n",
    "        \n",
    "m=test1(4,5,6,7,8)\n",
    "m.b"
   ]
  },
  {
   "cell_type": "code",
   "execution_count": 38,
   "id": "0abd3fd4",
   "metadata": {},
   "outputs": [
    {
     "data": {
      "text/plain": [
       "4"
      ]
     },
     "execution_count": 38,
     "metadata": {},
     "output_type": "execute_result"
    }
   ],
   "source": [
    "m.j"
   ]
  },
  {
   "cell_type": "code",
   "execution_count": 39,
   "id": "313f9595",
   "metadata": {},
   "outputs": [
    {
     "data": {
      "text/plain": [
       "3"
      ]
     },
     "execution_count": 39,
     "metadata": {},
     "output_type": "execute_result"
    }
   ],
   "source": [
    "m.test_custom(8)"
   ]
  },
  {
   "cell_type": "code",
   "execution_count": 40,
   "id": "4b52025c",
   "metadata": {},
   "outputs": [
    {
     "data": {
      "text/plain": [
       "7"
      ]
     },
     "execution_count": 40,
     "metadata": {},
     "output_type": "execute_result"
    }
   ],
   "source": [
    "m.c"
   ]
  },
  {
   "cell_type": "code",
   "execution_count": 41,
   "id": "ddeae92c",
   "metadata": {},
   "outputs": [
    {
     "data": {
      "text/plain": [
       "8"
      ]
     },
     "execution_count": 41,
     "metadata": {},
     "output_type": "execute_result"
    }
   ],
   "source": [
    "m.d"
   ]
  },
  {
   "cell_type": "code",
   "execution_count": 85,
   "id": "aa7c909a",
   "metadata": {},
   "outputs": [],
   "source": [
    "# Task1   Multiple inheritance"
   ]
  },
  {
   "cell_type": "code",
   "execution_count": 98,
   "id": "ae0a2dc3",
   "metadata": {},
   "outputs": [],
   "source": [
    "class test:\n",
    "    def __init__(self,a):\n",
    "        self.a=a\n",
    "    def a1(self,b):\n",
    "        print(\"This belongs to test\")\n",
    "        return self.a+b\n",
    "class test1:\n",
    "    def __init__(self,c):\n",
    "        self.c=c\n",
    "    def a1(self,d):\n",
    "        print(\"This is test1\")\n",
    "        return self.c+d\n",
    "class test2(test,test1):\n",
    "    def __init__(self,k,*args):\n",
    "        super(test2,self).__init__(args[0])\n",
    "        super(test2,self).__init__(args[1])\n",
    "        self.k=k\n",
    "    def tout(self):\n",
    "        print(\"this is class test2\")"
   ]
  },
  {
   "cell_type": "code",
   "execution_count": 99,
   "id": "8777bfe4",
   "metadata": {},
   "outputs": [],
   "source": [
    "o=test2(1,2,3)"
   ]
  },
  {
   "cell_type": "code",
   "execution_count": 100,
   "id": "2a16693b",
   "metadata": {},
   "outputs": [
    {
     "data": {
      "text/plain": [
       "<super: __main__.test2, None>"
      ]
     },
     "execution_count": 100,
     "metadata": {},
     "output_type": "execute_result"
    }
   ],
   "source": [
    "super(test2)"
   ]
  },
  {
   "cell_type": "code",
   "execution_count": 93,
   "id": "5b82e00b",
   "metadata": {},
   "outputs": [
    {
     "name": "stdout",
     "output_type": "stream",
     "text": [
      "this is class test2\n"
     ]
    }
   ],
   "source": [
    "o.tout()"
   ]
  },
  {
   "cell_type": "code",
   "execution_count": 79,
   "id": "f83cb5c9",
   "metadata": {},
   "outputs": [
    {
     "data": {
      "text/plain": [
       "2"
      ]
     },
     "execution_count": 79,
     "metadata": {},
     "output_type": "execute_result"
    }
   ],
   "source": [
    "o.a"
   ]
  },
  {
   "cell_type": "code",
   "execution_count": 80,
   "id": "3f791c12",
   "metadata": {},
   "outputs": [
    {
     "name": "stdout",
     "output_type": "stream",
     "text": [
      "This belongs to test\n"
     ]
    },
    {
     "data": {
      "text/plain": [
       "3"
      ]
     },
     "execution_count": 80,
     "metadata": {},
     "output_type": "execute_result"
    }
   ],
   "source": [
    "o.a1(1)"
   ]
  },
  {
   "cell_type": "code",
   "execution_count": 81,
   "id": "f516cb27",
   "metadata": {},
   "outputs": [
    {
     "name": "stdout",
     "output_type": "stream",
     "text": [
      "This belongs to test\n"
     ]
    },
    {
     "data": {
      "text/plain": [
       "6"
      ]
     },
     "execution_count": 81,
     "metadata": {},
     "output_type": "execute_result"
    }
   ],
   "source": [
    "o.a1(4)"
   ]
  },
  {
   "cell_type": "code",
   "execution_count": 54,
   "id": "8516a527",
   "metadata": {},
   "outputs": [
    {
     "ename": "AttributeError",
     "evalue": "'test2' object has no attribute 'c'",
     "output_type": "error",
     "traceback": [
      "\u001b[1;31m---------------------------------------------------------------------------\u001b[0m",
      "\u001b[1;31mAttributeError\u001b[0m                            Traceback (most recent call last)",
      "Cell \u001b[1;32mIn[54], line 1\u001b[0m\n\u001b[1;32m----> 1\u001b[0m \u001b[43mo\u001b[49m\u001b[38;5;241;43m.\u001b[39;49m\u001b[43mc\u001b[49m\n",
      "\u001b[1;31mAttributeError\u001b[0m: 'test2' object has no attribute 'c'"
     ]
    }
   ],
   "source": [
    "o.c"
   ]
  },
  {
   "cell_type": "code",
   "execution_count": 84,
   "id": "45ed444e",
   "metadata": {},
   "outputs": [
    {
     "name": "stdout",
     "output_type": "stream",
     "text": [
      "This is test class\n",
      "This is test1 class\n",
      "test2 class\n"
     ]
    }
   ],
   "source": [
    "class test:\n",
    "    def a(self): # this is not inheritance\n",
    "        print(\"This is test class\")\n",
    "class test1:\n",
    "    def a(self):\n",
    "        print(\"This is test1 class\")\n",
    "class test2:\n",
    "    t1=test()\n",
    "    t1.a()\n",
    "    t2=test1()\n",
    "    t2.a()\n",
    "    print(\"test2 class\")\n",
    "\n",
    "tet2=test2()"
   ]
  },
  {
   "cell_type": "code",
   "execution_count": 86,
   "id": "9f003f52",
   "metadata": {},
   "outputs": [
    {
     "name": "stdout",
     "output_type": "stream",
     "text": [
      "This is test class\n",
      "This is test1 class\n"
     ]
    }
   ],
   "source": [
    "class test:\n",
    "    def a(self): # this is not inheritance\n",
    "        print(\"This is test class\")\n",
    "class test1:\n",
    "    def a(self):\n",
    "        print(\"This is test1 class\")\n",
    "class test2:\n",
    "       def a(self):\n",
    "            test.a(self)\n",
    "            test1.a(self)\n",
    "            \n",
    "\n",
    "tet2=test2()\n",
    "tet2.a()"
   ]
  },
  {
   "cell_type": "code",
   "execution_count": 101,
   "id": "63bb05ec",
   "metadata": {},
   "outputs": [],
   "source": [
    "# Encapsulation\n"
   ]
  },
  {
   "cell_type": "code",
   "execution_count": 110,
   "id": "4c438be6",
   "metadata": {},
   "outputs": [],
   "source": [
    "class test:\n",
    "    def __init__(self,a,b,c):\n",
    "        self.a=a\n",
    "        self.b=b\n",
    "        self.c=c\n",
    "    def __str__(self):\n",
    "        return \"This is from test class\"\n",
    "\n",
    "    \n",
    "class test1:\n",
    "    def __init__(self,a,b,c):\n",
    "        self.a=a\n",
    "        self.b=b\n",
    "        self.c=c\n",
    "    def __str__(self):\n",
    "        return \"This is from test1 class\"\n",
    "    \n",
    "class test2:\n",
    "    def __init__(self,a,b,c):\n",
    "        self.a=a\n",
    "        self.b=b\n",
    "        self.c=c\n",
    "    def __str__(self):\n",
    "        return \"This is from test2 class\"\n",
    "class final:\n",
    "    def __init__(self,test,test1,test2):\n",
    "        self.test=test\n",
    "        self.test1=test1\n",
    "        self.test2=test2\n",
    "    def __str__(self):\n",
    "        return\"this is from final class\" + \" \" + str(self.test) + \" \"+ str(self.test1)+\" \"+ str(self.test2)"
   ]
  },
  {
   "cell_type": "code",
   "execution_count": 111,
   "id": "7f468af6",
   "metadata": {},
   "outputs": [],
   "source": [
    "t=test(4,5,6)\n",
    "t1=test1(3,4,5)\n",
    "t2=test2(5,6,7)\n",
    "f=final(t,t1,t2)"
   ]
  },
  {
   "cell_type": "code",
   "execution_count": 112,
   "id": "b7fa4020",
   "metadata": {},
   "outputs": [
    {
     "data": {
      "text/plain": [
       "<__main__.final at 0x16b528be520>"
      ]
     },
     "execution_count": 112,
     "metadata": {},
     "output_type": "execute_result"
    }
   ],
   "source": [
    "f"
   ]
  },
  {
   "cell_type": "code",
   "execution_count": 113,
   "id": "2830cf79",
   "metadata": {},
   "outputs": [
    {
     "name": "stdout",
     "output_type": "stream",
     "text": [
      "this is from final class This is from test class This is from test1 class This is from test2 class\n"
     ]
    }
   ],
   "source": [
    "print(f)"
   ]
  },
  {
   "cell_type": "code",
   "execution_count": null,
   "id": "f4b5f61f",
   "metadata": {},
   "outputs": [],
   "source": []
  }
 ],
 "metadata": {
  "kernelspec": {
   "display_name": "Python 3",
   "language": "python",
   "name": "python3"
  },
  "language_info": {
   "codemirror_mode": {
    "name": "ipython",
    "version": 3
   },
   "file_extension": ".py",
   "mimetype": "text/x-python",
   "name": "python",
   "nbconvert_exporter": "python",
   "pygments_lexer": "ipython3",
   "version": "3.8.8"
  }
 },
 "nbformat": 4,
 "nbformat_minor": 5
}
