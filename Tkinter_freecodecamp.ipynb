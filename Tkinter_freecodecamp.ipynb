{
 "cells": [
  {
   "cell_type": "code",
   "execution_count": 1,
   "id": "88f627dc",
   "metadata": {},
   "outputs": [],
   "source": [
    "from tkinter import *"
   ]
  },
  {
   "cell_type": "code",
   "execution_count": 8,
   "id": "fc601177",
   "metadata": {},
   "outputs": [],
   "source": [
    "root= Tk() # Root or Window Widget"
   ]
  },
  {
   "cell_type": "code",
   "execution_count": 9,
   "id": "7e8b3697",
   "metadata": {},
   "outputs": [],
   "source": [
    "myLabel=Label(root,text=\"Hello World!\") # creating a label widget\n",
    "myLabel.pack() # shoving it on the screen \n",
    "root.mainloop() # Creating a loop of the program"
   ]
  },
  {
   "cell_type": "code",
   "execution_count": 12,
   "id": "91cbc0ae",
   "metadata": {},
   "outputs": [],
   "source": [
    "root2=Tk()\n",
    "myLabel1=Label(root2,text=\"Hello World!\") # creating a label widget\n",
    "\n",
    "myLabel2=Label(root2,text=\"My Name is Naman\")\n",
    "\n",
    "myLabel1.grid(row=0,column=0)\n",
    "myLabel2.grid(row=1,column=0) \n",
    "root2.mainloop() # Creating a loop of the program\n"
   ]
  },
  {
   "cell_type": "code",
   "execution_count": 13,
   "id": "c51aaf7f",
   "metadata": {},
   "outputs": [],
   "source": [
    "root2=Tk()\n",
    "myLabel1=Label(root2,text=\"Hello World!\") # creating a label widget\n",
    "\n",
    "myLabel2=Label(root2,text=\"My Name is Naman\")\n",
    "\n",
    "myLabel1.grid(row=0,column=0)\n",
    "myLabel2.grid(row=1,column=1) \n",
    "root2.mainloop() # Creating a loop of the program\n"
   ]
  },
  {
   "cell_type": "code",
   "execution_count": 16,
   "id": "7baf7087",
   "metadata": {},
   "outputs": [],
   "source": [
    "root2=Tk()\n",
    "myLabel1=Label(root2,text=\"Hello World!\") # creating a label widget\n",
    "\n",
    "myLabel2=Label(root2,text=\"My Name is Naman\")\n",
    "\n",
    "myLabel3=Label(root2,text=\"                    \")\n",
    "\n",
    "myLabel1.grid(row=0,column=0)\n",
    "myLabel2.grid(row=1,column=5)\n",
    "myLabel3.grid(row=1,column=1) ################    Grid system are used for positioning the widgets scc to row and column \n",
    "root2.mainloop() # Creating a loop of the program\n"
   ]
  },
  {
   "cell_type": "code",
   "execution_count": 26,
   "id": "5ed91b33",
   "metadata": {},
   "outputs": [],
   "source": [
    "# Button\n",
    "root2=Tk()\n",
    "\n",
    "myButton = Button(root2,text=\"click me\")\n",
    "myButton.pack()\n",
    "root2.mainloop() # Creating a loop of the program\n"
   ]
  },
  {
   "cell_type": "code",
   "execution_count": null,
   "id": "1748f1b9",
   "metadata": {},
   "outputs": [],
   "source": [
    "# Button with function performing\n",
    "root2=Tk()\n",
    "\n",
    "def myClick1():\n",
    "    myLabel=Label(root2,text=\"You are under Button function\")\n",
    "    myLabel.pack()\n",
    "\n",
    "myButton = Button(root2,text=\"click me\",command=myClick1)\n",
    "myButton.pack()\n",
    "root2.mainloop() # Creating a loop of the program\n"
   ]
  },
  {
   "cell_type": "code",
   "execution_count": 27,
   "id": "e7ca6d44",
   "metadata": {},
   "outputs": [],
   "source": [
    "# Button with function performing\n",
    "root2=Tk()\n",
    "\n",
    "def myClick1():\n",
    "    myLabel=Label(root2,text=\"You are under Button function\")\n",
    "    myLabel.pack()\n",
    "\n",
    "myButton = Button(root2,text=\"click me\",command=myClick1)\n",
    "myButton.pack()\n",
    "root2.mainloop() # Creating a loop of the program\n"
   ]
  },
  {
   "cell_type": "code",
   "execution_count": 29,
   "id": "95e9acd6",
   "metadata": {},
   "outputs": [],
   "source": [
    "# Button with function performing, with some colors added to it\n",
    "root2=Tk()\n",
    "\n",
    "def myClick1():\n",
    "    myLabel=Label(root2,text=\"You are under Button function\")\n",
    "    myLabel.pack()\n",
    "\n",
    "myButton = Button(root2,text=\"click me\",command=myClick1,fg=\"blue\",bg=\"white\")\n",
    "myButton.pack()\n",
    "root2.mainloop() # Creating a loop of the program\n"
   ]
  },
  {
   "cell_type": "code",
   "execution_count": 35,
   "id": "fb143fdb",
   "metadata": {},
   "outputs": [],
   "source": [
    "# Input data from User\n",
    "\n",
    "# Entry Widget\n",
    "\n",
    "root=Tk()\n",
    "\n",
    "e=Entry(root,width=50,borderwidth=5)\n",
    "e.pack()\n",
    "\n",
    "def myClick1():\n",
    "    myLabel=Label(root,text=\"You are under Button function\")\n",
    "    myLabel.pack()\n",
    "\n",
    "myButton = Button(root,text=\"click me\",command=myClick1,fg=\"blue\",bg=\"white\")\n",
    "myButton.pack()\n",
    "root2.mainloop() # Creating a loop of the program\n"
   ]
  },
  {
   "cell_type": "code",
   "execution_count": 42,
   "id": "1456568a",
   "metadata": {},
   "outputs": [],
   "source": [
    "# Input data from User\n",
    "\n",
    "# Entry Widget\n",
    "\n",
    "root=Tk()\n",
    "\n",
    "e=Entry(root,width=50,borderwidth=5)\n",
    "e.pack()\n",
    "e.insert(0,\"Enter your name:\")\n",
    "\n",
    "def myClick():\n",
    "    hello=\"Hello \"+e.get()\n",
    "    myLabel=Label(root,text=hello)\n",
    "    myLabel.pack()\n",
    "\n",
    "myButton = Button(root,text=\"Enter your name\",command=myClick,fg=\"blue\",bg=\"white\")\n",
    "myButton.pack()\n",
    "root2.mainloop() # Creating a loop of the program\n"
   ]
  },
  {
   "cell_type": "code",
   "execution_count": 44,
   "id": "7df03aa1",
   "metadata": {},
   "outputs": [],
   "source": [
    "# Input data from User\n",
    "\n",
    "# Entry Widget\n",
    "\n",
    "root=Tk()\n",
    "\n",
    "e=Entry(root,width=50,borderwidth=5)\n",
    "e.pack()\n",
    "\n",
    "def myClick():\n",
    "    hello=\"Hello \"+e.get()\n",
    "    myLabel=Label(root,text=hello)\n",
    "    myLabel.pack()\n",
    "\n",
    "myButton = Button(root,text=\"Enter your Stock Quote\",command=myClick,fg=\"blue\",bg=\"white\")\n",
    "myButton.pack()\n",
    "root2.mainloop() # Creating a loop of the program\n"
   ]
  },
  {
   "cell_type": "code",
   "execution_count": 45,
   "id": "a5666f4f",
   "metadata": {},
   "outputs": [],
   "source": [
    "## Addition Calculator App\n",
    "\n",
    "# Tkinter # GUI programming\n",
    "\n",
    "root = Tk()\n",
    "root.title(\"Calculator\")\n",
    "\n",
    "e = Entry(root, width=35,borderwidth=5)\n",
    "\n",
    "e.grid(row=0,column=0,columnspan=3, padx = 10, pady=10)\n",
    "\n",
    "\n",
    "root.mainloop()\n",
    "    \n",
    "    \n",
    "    "
   ]
  },
  {
   "cell_type": "code",
   "execution_count": null,
   "id": "1d6963fc",
   "metadata": {},
   "outputs": [],
   "source": []
  }
 ],
 "metadata": {
  "kernelspec": {
   "display_name": "Python 3",
   "language": "python",
   "name": "python3"
  },
  "language_info": {
   "codemirror_mode": {
    "name": "ipython",
    "version": 3
   },
   "file_extension": ".py",
   "mimetype": "text/x-python",
   "name": "python",
   "nbconvert_exporter": "python",
   "pygments_lexer": "ipython3",
   "version": "3.8.8"
  }
 },
 "nbformat": 4,
 "nbformat_minor": 5
}
