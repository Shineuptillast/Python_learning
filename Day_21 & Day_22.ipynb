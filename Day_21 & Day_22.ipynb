{
 "cells": [
  {
   "cell_type": "code",
   "execution_count": 4,
   "id": "2db64318",
   "metadata": {},
   "outputs": [],
   "source": [
    "# Encapsulation"
   ]
  },
  {
   "cell_type": "code",
   "execution_count": 16,
   "id": "e1839ae9",
   "metadata": {},
   "outputs": [],
   "source": [
    "class tyres:\n",
    "    def __init__(self,branch,belted_bias,opt_pressure):\n",
    "        self.branch=branch\n",
    "        self.belted_bias=belted_bias\n",
    "        self.opt_pressure=opt_pressure\n",
    "    def __str__(self):\n",
    "        return \"Tyre class\"\n",
    "class Engine:\n",
    "    def __init__(self,fuel_type,noise_level):\n",
    "        self.fuel_type=fuel_type\n",
    "        self.noise_level=noise_level\n",
    "    def __str__(self):\n",
    "        return \"Engine class\"\n",
    "class Body:\n",
    "    def __init__(self,size):\n",
    "        self.size=size\n",
    "    def __str__(self):\n",
    "        return \"Body class\"\n",
    "class car:\n",
    "    def __init__(self,tyres,engine,body):\n",
    "        self.tyres = tyres\n",
    "        self.engine=engine\n",
    "        self.body=body\n",
    "        self.hj=tyres.branch\n",
    "    def __str__(self):\n",
    "        return str(self.tyres) + \"\\n\" + str(self.body) + \"\\n\" + str(self.engine)"
   ]
  },
  {
   "cell_type": "code",
   "execution_count": 18,
   "id": "e2a1fca0",
   "metadata": {},
   "outputs": [
    {
     "name": "stdout",
     "output_type": "stream",
     "text": [
      "Pirelli\n"
     ]
    }
   ],
   "source": [
    "t=tyres(\"Pirelli\",True,2.0)\n",
    "e=Engine(\"Diesel\",3)\n",
    "b=Body(\"Medium\")\n",
    "\n",
    "c=car(t,e,b)\n",
    "print(c.hj)"
   ]
  },
  {
   "cell_type": "code",
   "execution_count": 15,
   "id": "0453fe29",
   "metadata": {},
   "outputs": [
    {
     "name": "stdout",
     "output_type": "stream",
     "text": [
      "10\n"
     ]
    }
   ],
   "source": [
    "class parent:\n",
    "    \n",
    "    a=10\n",
    "    b=40\n",
    "    \n",
    "    def __init__(self,parent_a,parent_b):\n",
    "        self.parent_a=parent_a\n",
    "        self.parent_b=parent_b\n",
    "\n",
    "class child(parent):\n",
    "    def __init__(self,*args):\n",
    "        super(child,self).__init__(*args)"
   ]
  },
  {
   "cell_type": "code",
   "execution_count": 19,
   "id": "c26e9126",
   "metadata": {},
   "outputs": [],
   "source": [
    "class multiplynumeric():\n",
    "    def __init__(self,a):\n",
    "        self.a =a\n",
    "    "
   ]
  },
  {
   "cell_type": "code",
   "execution_count": 26,
   "id": "a42b460c",
   "metadata": {},
   "outputs": [],
   "source": [
    "mul = multiplynumeric(9)"
   ]
  },
  {
   "cell_type": "code",
   "execution_count": 28,
   "id": "8fea7d4b",
   "metadata": {},
   "outputs": [],
   "source": [
    "mul1=multiplynumeric(7)"
   ]
  },
  {
   "cell_type": "code",
   "execution_count": 22,
   "id": "a5d98506",
   "metadata": {},
   "outputs": [
    {
     "ename": "TypeError",
     "evalue": "unsupported operand type(s) for *: 'multiplynumeric' and 'multiplynumeric'",
     "output_type": "error",
     "traceback": [
      "\u001b[1;31m---------------------------------------------------------------------------\u001b[0m",
      "\u001b[1;31mTypeError\u001b[0m                                 Traceback (most recent call last)",
      "Cell \u001b[1;32mIn[22], line 1\u001b[0m\n\u001b[1;32m----> 1\u001b[0m \u001b[43mmul\u001b[49m\u001b[43m \u001b[49m\u001b[38;5;241;43m*\u001b[39;49m\u001b[43m \u001b[49m\u001b[43mmul1\u001b[49m\n",
      "\u001b[1;31mTypeError\u001b[0m: unsupported operand type(s) for *: 'multiplynumeric' and 'multiplynumeric'"
     ]
    }
   ],
   "source": [
    "mul * mul1 # both of these are object and not a value"
   ]
  },
  {
   "cell_type": "code",
   "execution_count": 23,
   "id": "e7733ce4",
   "metadata": {},
   "outputs": [
    {
     "data": {
      "text/plain": [
       "18"
      ]
     },
     "execution_count": 23,
     "metadata": {},
     "output_type": "execute_result"
    }
   ],
   "source": [
    "mul.a * mul1.a"
   ]
  },
  {
   "cell_type": "code",
   "execution_count": 30,
   "id": "e007c8f7",
   "metadata": {},
   "outputs": [],
   "source": [
    "class multiplynumeric():\n",
    "    def __init__(self,a):\n",
    "        self.a =a\n",
    "    def __mul__(self,other):\n",
    "        return self.a * other.a\n",
    "    def __add__(self,other):\n",
    "        return self.a + other.a"
   ]
  },
  {
   "cell_type": "code",
   "execution_count": 31,
   "id": "e512ab3d",
   "metadata": {},
   "outputs": [],
   "source": [
    "mul =multiplynumeric(8)\n",
    "mul1 = multiplynumeric(3)"
   ]
  },
  {
   "cell_type": "code",
   "execution_count": 32,
   "id": "1f1018f2",
   "metadata": {},
   "outputs": [
    {
     "data": {
      "text/plain": [
       "11"
      ]
     },
     "execution_count": 32,
     "metadata": {},
     "output_type": "execute_result"
    }
   ],
   "source": [
    "mul + mul1"
   ]
  },
  {
   "cell_type": "code",
   "execution_count": null,
   "id": "4c46aebc",
   "metadata": {},
   "outputs": [],
   "source": [
    "# something new"
   ]
  },
  {
   "cell_type": "code",
   "execution_count": null,
   "id": "f2e3e5f7",
   "metadata": {},
   "outputs": [],
   "source": []
  },
  {
   "cell_type": "code",
   "execution_count": 37,
   "id": "b450da09",
   "metadata": {},
   "outputs": [],
   "source": [
    "class ineuron:\n",
    "    def msg(self):\n",
    "        print(\"This is a message to ineuron\")\n",
    "        \n",
    "        \n",
    "class xyz():\n",
    "    def msg(self):\n",
    "        print(\"this is a message to xyz\")\n",
    "\n"
   ]
  },
  {
   "cell_type": "code",
   "execution_count": 38,
   "id": "3bced951",
   "metadata": {},
   "outputs": [],
   "source": [
    "def test(notes):\n",
    "    notes.msg()"
   ]
  },
  {
   "cell_type": "code",
   "execution_count": 39,
   "id": "be446d2a",
   "metadata": {},
   "outputs": [],
   "source": [
    "i=ineuron()\n",
    "x=xyz()\n"
   ]
  },
  {
   "cell_type": "code",
   "execution_count": 40,
   "id": "105d3d21",
   "metadata": {},
   "outputs": [
    {
     "name": "stdout",
     "output_type": "stream",
     "text": [
      "This is a message to ineuron\n"
     ]
    }
   ],
   "source": [
    "test(i)"
   ]
  },
  {
   "cell_type": "code",
   "execution_count": 41,
   "id": "22d08327",
   "metadata": {},
   "outputs": [
    {
     "name": "stdout",
     "output_type": "stream",
     "text": [
      "this is a message to xyz\n"
     ]
    }
   ],
   "source": [
    "test(x)"
   ]
  },
  {
   "cell_type": "code",
   "execution_count": null,
   "id": "62e90fab",
   "metadata": {},
   "outputs": [],
   "source": []
  }
 ],
 "metadata": {
  "kernelspec": {
   "display_name": "Python 3",
   "language": "python",
   "name": "python3"
  },
  "language_info": {
   "codemirror_mode": {
    "name": "ipython",
    "version": 3
   },
   "file_extension": ".py",
   "mimetype": "text/x-python",
   "name": "python",
   "nbconvert_exporter": "python",
   "pygments_lexer": "ipython3",
   "version": "3.8.8"
  }
 },
 "nbformat": 4,
 "nbformat_minor": 5
}
