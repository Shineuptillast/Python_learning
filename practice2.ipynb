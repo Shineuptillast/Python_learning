{
 "cells": [
  {
   "cell_type": "code",
   "execution_count": 213,
   "metadata": {},
   "outputs": [],
   "source": [
    "# importing pymongo library for connecting to the mongod server\n",
    "import pymongo\n",
    "import pandas as pd\n",
    "import json"
   ]
  },
  {
   "cell_type": "code",
   "execution_count": 214,
   "metadata": {},
   "outputs": [],
   "source": [
    "# connecting to the mongodb server installed locally on port number 27017\n",
    "client= pymongo.MongoClient('mongodb://localhost:27017/')"
   ]
  },
  {
   "cell_type": "code",
   "execution_count": 215,
   "metadata": {},
   "outputs": [],
   "source": [
    "# Creating a database\n",
    "db = client.students_details"
   ]
  },
  {
   "cell_type": "code",
   "execution_count": 216,
   "metadata": {},
   "outputs": [
    {
     "data": {
      "text/plain": [
       "Collection(Database(MongoClient(host=['localhost:27017'], document_class=dict, tz_aware=False, connect=True), 'students_details'), 'students')"
      ]
     },
     "execution_count": 216,
     "metadata": {},
     "output_type": "execute_result"
    }
   ],
   "source": [
    "# creating a collection\n",
    "db['students'] "
   ]
  },
  {
   "cell_type": "code",
   "execution_count": 217,
   "metadata": {},
   "outputs": [
    {
     "data": {
      "text/plain": [
       "[]"
      ]
     },
     "execution_count": 217,
     "metadata": {},
     "output_type": "execute_result"
    }
   ],
   "source": [
    "# lisiting all the collections within the database\n",
    "\n",
    "db.list_collection_names()"
   ]
  },
  {
   "cell_type": "code",
   "execution_count": 218,
   "metadata": {},
   "outputs": [],
   "source": [
    "# Reading the data from csv file into dataframe\n",
    "df=pd.read_csv('./data.csv')"
   ]
  },
  {
   "cell_type": "code",
   "execution_count": 219,
   "metadata": {},
   "outputs": [
    {
     "data": {
      "text/html": [
       "<div>\n",
       "<style scoped>\n",
       "    .dataframe tbody tr th:only-of-type {\n",
       "        vertical-align: middle;\n",
       "    }\n",
       "\n",
       "    .dataframe tbody tr th {\n",
       "        vertical-align: top;\n",
       "    }\n",
       "\n",
       "    .dataframe thead th {\n",
       "        text-align: right;\n",
       "    }\n",
       "</style>\n",
       "<table border=\"1\" class=\"dataframe\">\n",
       "  <thead>\n",
       "    <tr style=\"text-align: right;\">\n",
       "      <th></th>\n",
       "      <th>name</th>\n",
       "      <th>gender</th>\n",
       "      <th>state</th>\n",
       "      <th>phy</th>\n",
       "      <th>maths</th>\n",
       "      <th>bio</th>\n",
       "    </tr>\n",
       "  </thead>\n",
       "  <tbody>\n",
       "    <tr>\n",
       "      <th>0</th>\n",
       "      <td>rohan</td>\n",
       "      <td>male</td>\n",
       "      <td>mh</td>\n",
       "      <td>60</td>\n",
       "      <td>90</td>\n",
       "      <td>68</td>\n",
       "    </tr>\n",
       "    <tr>\n",
       "      <th>1</th>\n",
       "      <td>aniket</td>\n",
       "      <td>male</td>\n",
       "      <td>up</td>\n",
       "      <td>52</td>\n",
       "      <td>85</td>\n",
       "      <td>72</td>\n",
       "    </tr>\n",
       "    <tr>\n",
       "      <th>2</th>\n",
       "      <td>ganesh</td>\n",
       "      <td>male</td>\n",
       "      <td>up</td>\n",
       "      <td>45</td>\n",
       "      <td>82</td>\n",
       "      <td>78</td>\n",
       "    </tr>\n",
       "    <tr>\n",
       "      <th>3</th>\n",
       "      <td>meena</td>\n",
       "      <td>female</td>\n",
       "      <td>mp</td>\n",
       "      <td>72</td>\n",
       "      <td>69</td>\n",
       "      <td>80</td>\n",
       "    </tr>\n",
       "    <tr>\n",
       "      <th>4</th>\n",
       "      <td>seema</td>\n",
       "      <td>female</td>\n",
       "      <td>mh</td>\n",
       "      <td>68</td>\n",
       "      <td>90</td>\n",
       "      <td>78</td>\n",
       "    </tr>\n",
       "  </tbody>\n",
       "</table>\n",
       "</div>"
      ],
      "text/plain": [
       "     name  gender state  phy  maths  bio\n",
       "0   rohan    male    mh   60     90   68\n",
       "1  aniket    male    up   52     85   72\n",
       "2  ganesh    male    up   45     82   78\n",
       "3   meena  female    mp   72     69   80\n",
       "4   seema  female    mh   68     90   78"
      ]
     },
     "execution_count": 219,
     "metadata": {},
     "output_type": "execute_result"
    }
   ],
   "source": [
    "# top 10 rows to check the data \n",
    "df.head()"
   ]
  },
  {
   "cell_type": "code",
   "execution_count": 220,
   "metadata": {},
   "outputs": [],
   "source": [
    "# converting the dataframe into json for insertion into the mongodb database\n",
    "list_of_documents=df.to_json(orient='records')"
   ]
  },
  {
   "cell_type": "code",
   "execution_count": 221,
   "metadata": {},
   "outputs": [
    {
     "data": {
      "text/plain": [
       "'[{\"name\":\"rohan\",\"gender\":\"male\",\"state\":\"mh\",\"phy\":60,\"maths\":90,\"bio\":68},{\"name\":\"aniket\",\"gender\":\"male\",\"state\":\"up\",\"phy\":52,\"maths\":85,\"bio\":72},{\"name\":\"ganesh\",\"gender\":\"male\",\"state\":\"up\",\"phy\":45,\"maths\":82,\"bio\":78},{\"name\":\"meena\",\"gender\":\"female\",\"state\":\"mp\",\"phy\":72,\"maths\":69,\"bio\":80},{\"name\":\"seema\",\"gender\":\"female\",\"state\":\"mh\",\"phy\":68,\"maths\":90,\"bio\":78},{\"name\":\"dinesh\",\"gender\":\"male\",\"state\":\"mp\",\"phy\":48,\"maths\":34,\"bio\":67},{\"name\":\"yogita\",\"gender\":\"female\",\"state\":\"mp\",\"phy\":39,\"maths\":65,\"bio\":90},{\"name\":\"karan\",\"gender\":\"male\",\"state\":\"mh\",\"phy\":82,\"maths\":78,\"bio\":55},{\"name\":\"jayesh\",\"gender\":\"male\",\"state\":\"up\",\"phy\":87,\"maths\":88,\"bio\":32},{\"name\":\"mangesh\",\"gender\":\"male\",\"state\":\"mp\",\"phy\":91,\"maths\":78,\"bio\":82},{\"name\":\"geeta\",\"gender\":\"female\",\"state\":\"mh\",\"phy\":31,\"maths\":58,\"bio\":78},{\"name\":\"runali\",\"gender\":\"female\",\"state\":\"up\",\"phy\":85,\"maths\":92,\"bio\":66},{\"name\":\"tushar\",\"gender\":\"male\",\"state\":\"up\",\"phy\":32,\"maths\":92,\"bio\":77},{\"name\":\"binod\",\"gender\":\"male\",\"state\":\"mh\",\"phy\":95,\"maths\":78,\"bio\":88},{\"name\":\"sanjay\",\"gender\":\"male\",\"state\":\"mh\",\"phy\":63,\"maths\":90,\"bio\":80}]'"
      ]
     },
     "execution_count": 221,
     "metadata": {},
     "output_type": "execute_result"
    }
   ],
   "source": [
    "# String of list of documents\n",
    "list_of_documents"
   ]
  },
  {
   "cell_type": "code",
   "execution_count": 222,
   "metadata": {},
   "outputs": [
    {
     "data": {
      "text/plain": [
       "[{'name': 'rohan',\n",
       "  'gender': 'male',\n",
       "  'state': 'mh',\n",
       "  'phy': 60,\n",
       "  'maths': 90,\n",
       "  'bio': 68},\n",
       " {'name': 'aniket',\n",
       "  'gender': 'male',\n",
       "  'state': 'up',\n",
       "  'phy': 52,\n",
       "  'maths': 85,\n",
       "  'bio': 72},\n",
       " {'name': 'ganesh',\n",
       "  'gender': 'male',\n",
       "  'state': 'up',\n",
       "  'phy': 45,\n",
       "  'maths': 82,\n",
       "  'bio': 78},\n",
       " {'name': 'meena',\n",
       "  'gender': 'female',\n",
       "  'state': 'mp',\n",
       "  'phy': 72,\n",
       "  'maths': 69,\n",
       "  'bio': 80},\n",
       " {'name': 'seema',\n",
       "  'gender': 'female',\n",
       "  'state': 'mh',\n",
       "  'phy': 68,\n",
       "  'maths': 90,\n",
       "  'bio': 78},\n",
       " {'name': 'dinesh',\n",
       "  'gender': 'male',\n",
       "  'state': 'mp',\n",
       "  'phy': 48,\n",
       "  'maths': 34,\n",
       "  'bio': 67},\n",
       " {'name': 'yogita',\n",
       "  'gender': 'female',\n",
       "  'state': 'mp',\n",
       "  'phy': 39,\n",
       "  'maths': 65,\n",
       "  'bio': 90},\n",
       " {'name': 'karan',\n",
       "  'gender': 'male',\n",
       "  'state': 'mh',\n",
       "  'phy': 82,\n",
       "  'maths': 78,\n",
       "  'bio': 55},\n",
       " {'name': 'jayesh',\n",
       "  'gender': 'male',\n",
       "  'state': 'up',\n",
       "  'phy': 87,\n",
       "  'maths': 88,\n",
       "  'bio': 32},\n",
       " {'name': 'mangesh',\n",
       "  'gender': 'male',\n",
       "  'state': 'mp',\n",
       "  'phy': 91,\n",
       "  'maths': 78,\n",
       "  'bio': 82},\n",
       " {'name': 'geeta',\n",
       "  'gender': 'female',\n",
       "  'state': 'mh',\n",
       "  'phy': 31,\n",
       "  'maths': 58,\n",
       "  'bio': 78},\n",
       " {'name': 'runali',\n",
       "  'gender': 'female',\n",
       "  'state': 'up',\n",
       "  'phy': 85,\n",
       "  'maths': 92,\n",
       "  'bio': 66},\n",
       " {'name': 'tushar',\n",
       "  'gender': 'male',\n",
       "  'state': 'up',\n",
       "  'phy': 32,\n",
       "  'maths': 92,\n",
       "  'bio': 77},\n",
       " {'name': 'binod',\n",
       "  'gender': 'male',\n",
       "  'state': 'mh',\n",
       "  'phy': 95,\n",
       "  'maths': 78,\n",
       "  'bio': 88},\n",
       " {'name': 'sanjay',\n",
       "  'gender': 'male',\n",
       "  'state': 'mh',\n",
       "  'phy': 63,\n",
       "  'maths': 90,\n",
       "  'bio': 80}]"
      ]
     },
     "execution_count": 222,
     "metadata": {},
     "output_type": "execute_result"
    }
   ],
   "source": [
    "# converting string of dictionary into dictionary\n",
    "\n",
    "res = json.loads(list_of_documents)\n",
    "res"
   ]
  },
  {
   "cell_type": "code",
   "execution_count": 223,
   "metadata": {},
   "outputs": [],
   "source": [
    "# Inserting data into the mongodb\n",
    "for i in range(len(res)):\n",
    "    db.students.insert_one(res[i])"
   ]
  },
  {
   "cell_type": "code",
   "execution_count": 212,
   "metadata": {},
   "outputs": [],
   "source": []
  },
  {
   "cell_type": "code",
   "execution_count": 224,
   "metadata": {},
   "outputs": [],
   "source": [
    "# Selecting all the documents from the collection\n",
    "result=db.students.find()"
   ]
  },
  {
   "cell_type": "code",
   "execution_count": 225,
   "metadata": {},
   "outputs": [
    {
     "name": "stdout",
     "output_type": "stream",
     "text": [
      "{'_id': ObjectId('6478d9b8b1e68c5ec7c88b08'), 'name': 'rohan', 'gender': 'male', 'state': 'mh', 'phy': 60, 'maths': 90, 'bio': 68}\n",
      "{'_id': ObjectId('6478d9b8b1e68c5ec7c88b09'), 'name': 'aniket', 'gender': 'male', 'state': 'up', 'phy': 52, 'maths': 85, 'bio': 72}\n",
      "{'_id': ObjectId('6478d9b8b1e68c5ec7c88b0a'), 'name': 'ganesh', 'gender': 'male', 'state': 'up', 'phy': 45, 'maths': 82, 'bio': 78}\n",
      "{'_id': ObjectId('6478d9b8b1e68c5ec7c88b0b'), 'name': 'meena', 'gender': 'female', 'state': 'mp', 'phy': 72, 'maths': 69, 'bio': 80}\n",
      "{'_id': ObjectId('6478d9b8b1e68c5ec7c88b0c'), 'name': 'seema', 'gender': 'female', 'state': 'mh', 'phy': 68, 'maths': 90, 'bio': 78}\n",
      "{'_id': ObjectId('6478d9b8b1e68c5ec7c88b0d'), 'name': 'dinesh', 'gender': 'male', 'state': 'mp', 'phy': 48, 'maths': 34, 'bio': 67}\n",
      "{'_id': ObjectId('6478d9b8b1e68c5ec7c88b0e'), 'name': 'yogita', 'gender': 'female', 'state': 'mp', 'phy': 39, 'maths': 65, 'bio': 90}\n",
      "{'_id': ObjectId('6478d9b8b1e68c5ec7c88b0f'), 'name': 'karan', 'gender': 'male', 'state': 'mh', 'phy': 82, 'maths': 78, 'bio': 55}\n",
      "{'_id': ObjectId('6478d9b8b1e68c5ec7c88b10'), 'name': 'jayesh', 'gender': 'male', 'state': 'up', 'phy': 87, 'maths': 88, 'bio': 32}\n",
      "{'_id': ObjectId('6478d9b8b1e68c5ec7c88b11'), 'name': 'mangesh', 'gender': 'male', 'state': 'mp', 'phy': 91, 'maths': 78, 'bio': 82}\n",
      "{'_id': ObjectId('6478d9b8b1e68c5ec7c88b12'), 'name': 'geeta', 'gender': 'female', 'state': 'mh', 'phy': 31, 'maths': 58, 'bio': 78}\n",
      "{'_id': ObjectId('6478d9b8b1e68c5ec7c88b13'), 'name': 'runali', 'gender': 'female', 'state': 'up', 'phy': 85, 'maths': 92, 'bio': 66}\n",
      "{'_id': ObjectId('6478d9b8b1e68c5ec7c88b14'), 'name': 'tushar', 'gender': 'male', 'state': 'up', 'phy': 32, 'maths': 92, 'bio': 77}\n",
      "{'_id': ObjectId('6478d9b8b1e68c5ec7c88b15'), 'name': 'binod', 'gender': 'male', 'state': 'mh', 'phy': 95, 'maths': 78, 'bio': 88}\n",
      "{'_id': ObjectId('6478d9b8b1e68c5ec7c88b16'), 'name': 'sanjay', 'gender': 'male', 'state': 'mh', 'phy': 63, 'maths': 90, 'bio': 80}\n"
     ]
    }
   ],
   "source": [
    "# Dsiplaying all the records\n",
    "for i in result:\n",
    "    print(i)"
   ]
  },
  {
   "cell_type": "code",
   "execution_count": 226,
   "metadata": {},
   "outputs": [
    {
     "data": {
      "text/plain": [
       "[{'name': 'students',\n",
       "  'type': 'collection',\n",
       "  'options': {},\n",
       "  'info': {'readOnly': False,\n",
       "   'uuid': Binary(b'(\\xb1\\x88{U\\x05I\\x1e\\x92\\xb9\\x19S\\x97\\xb7e=', 4)},\n",
       "  'idIndex': {'v': 2,\n",
       "   'key': {'_id': 1},\n",
       "   'name': '_id_',\n",
       "   'ns': 'students_details.students'}}]"
      ]
     },
     "execution_count": 226,
     "metadata": {},
     "output_type": "execute_result"
    }
   ],
   "source": [
    "list(db.list_collections())"
   ]
  },
  {
   "cell_type": "code",
   "execution_count": 227,
   "metadata": {},
   "outputs": [],
   "source": [
    "# Searching/Filtering Documents on specific fields \n",
    "# Filtering by name\n",
    "\n",
    "result = db.students.find_one({'name':'sanjay'})"
   ]
  },
  {
   "cell_type": "code",
   "execution_count": 228,
   "metadata": {},
   "outputs": [
    {
     "data": {
      "text/plain": [
       "{'_id': ObjectId('6478d9b8b1e68c5ec7c88b16'),\n",
       " 'name': 'sanjay',\n",
       " 'gender': 'male',\n",
       " 'state': 'mh',\n",
       " 'phy': 63,\n",
       " 'maths': 90,\n",
       " 'bio': 80}"
      ]
     },
     "execution_count": 228,
     "metadata": {},
     "output_type": "execute_result"
    }
   ],
   "source": [
    "result"
   ]
  },
  {
   "cell_type": "code",
   "execution_count": 229,
   "metadata": {},
   "outputs": [
    {
     "data": {
      "text/plain": [
       "{'_id': ObjectId('6478d9b8b1e68c5ec7c88b08'),\n",
       " 'name': 'rohan',\n",
       " 'gender': 'male',\n",
       " 'state': 'mh',\n",
       " 'phy': 60,\n",
       " 'maths': 90,\n",
       " 'bio': 68}"
      ]
     },
     "execution_count": 229,
     "metadata": {},
     "output_type": "execute_result"
    }
   ],
   "source": [
    "# filtering by gender\n",
    "res = db.students.find_one({'gender':'male'})\n",
    "res\n"
   ]
  },
  {
   "cell_type": "code",
   "execution_count": 230,
   "metadata": {},
   "outputs": [],
   "source": [
    "#Filtering but with find\n",
    "# It returns a cursor, which points to all the records and an iterator can be used to iterate over all the documents returned by the filteration\n",
    "res = db.students.find({'gender':'female'})"
   ]
  },
  {
   "cell_type": "code",
   "execution_count": 231,
   "metadata": {},
   "outputs": [
    {
     "data": {
      "text/plain": [
       "[{'_id': ObjectId('6478d9b8b1e68c5ec7c88b0b'),\n",
       "  'name': 'meena',\n",
       "  'gender': 'female',\n",
       "  'state': 'mp',\n",
       "  'phy': 72,\n",
       "  'maths': 69,\n",
       "  'bio': 80},\n",
       " {'_id': ObjectId('6478d9b8b1e68c5ec7c88b0c'),\n",
       "  'name': 'seema',\n",
       "  'gender': 'female',\n",
       "  'state': 'mh',\n",
       "  'phy': 68,\n",
       "  'maths': 90,\n",
       "  'bio': 78},\n",
       " {'_id': ObjectId('6478d9b8b1e68c5ec7c88b0e'),\n",
       "  'name': 'yogita',\n",
       "  'gender': 'female',\n",
       "  'state': 'mp',\n",
       "  'phy': 39,\n",
       "  'maths': 65,\n",
       "  'bio': 90},\n",
       " {'_id': ObjectId('6478d9b8b1e68c5ec7c88b12'),\n",
       "  'name': 'geeta',\n",
       "  'gender': 'female',\n",
       "  'state': 'mh',\n",
       "  'phy': 31,\n",
       "  'maths': 58,\n",
       "  'bio': 78},\n",
       " {'_id': ObjectId('6478d9b8b1e68c5ec7c88b13'),\n",
       "  'name': 'runali',\n",
       "  'gender': 'female',\n",
       "  'state': 'up',\n",
       "  'phy': 85,\n",
       "  'maths': 92,\n",
       "  'bio': 66}]"
      ]
     },
     "execution_count": 231,
     "metadata": {},
     "output_type": "execute_result"
    }
   ],
   "source": [
    "list(res)"
   ]
  },
  {
   "cell_type": "code",
   "execution_count": 157,
   "metadata": {},
   "outputs": [],
   "source": [
    "# Filter on 2/more fields\n",
    "res = db.students.find_one({'name':'sanjay','gender':'male'})"
   ]
  },
  {
   "cell_type": "code",
   "execution_count": 158,
   "metadata": {},
   "outputs": [
    {
     "data": {
      "text/plain": [
       "{'_id': ObjectId('6478d8d0b1e68c5ec7c88b06'),\n",
       " 'name': 'sanjay',\n",
       " 'gender': 'male',\n",
       " 'state': 'mh',\n",
       " 'phy': 63,\n",
       " 'maths': 90,\n",
       " 'bio': 80}"
      ]
     },
     "execution_count": 158,
     "metadata": {},
     "output_type": "execute_result"
    }
   ],
   "source": [
    "res"
   ]
  },
  {
   "cell_type": "code",
   "execution_count": 159,
   "metadata": {},
   "outputs": [],
   "source": [
    "# Filter on 2/more fields\n",
    "res = db.students.find({'name':'sanjay','gender':'male'})"
   ]
  },
  {
   "cell_type": "code",
   "execution_count": 160,
   "metadata": {},
   "outputs": [
    {
     "name": "stdout",
     "output_type": "stream",
     "text": [
      "{'_id': ObjectId('6478d8d0b1e68c5ec7c88b06'), 'name': 'sanjay', 'gender': 'male', 'state': 'mh', 'phy': 63, 'maths': 90, 'bio': 80}\n"
     ]
    }
   ],
   "source": [
    "for i in res:\n",
    "    print(i)"
   ]
  },
  {
   "cell_type": "code",
   "execution_count": 161,
   "metadata": {},
   "outputs": [],
   "source": [
    "# limiting the number of documents \n",
    "res = db.students.find({'state':'mp'}).limit(3)"
   ]
  },
  {
   "cell_type": "code",
   "execution_count": 162,
   "metadata": {},
   "outputs": [
    {
     "name": "stdout",
     "output_type": "stream",
     "text": [
      "{'_id': ObjectId('6478d8d0b1e68c5ec7c88afb'), 'name': 'meena', 'gender': 'female', 'state': 'mp', 'phy': 72, 'maths': 69, 'bio': 80}\n",
      "{'_id': ObjectId('6478d8d0b1e68c5ec7c88afd'), 'name': 'dinesh', 'gender': 'male', 'state': 'mp', 'phy': 48, 'maths': 34, 'bio': 67}\n",
      "{'_id': ObjectId('6478d8d0b1e68c5ec7c88afe'), 'name': 'yogita', 'gender': 'female', 'state': 'mp', 'phy': 39, 'maths': 65, 'bio': 90}\n"
     ]
    }
   ],
   "source": [
    "for i in res:\n",
    "    print(i)"
   ]
  },
  {
   "cell_type": "code",
   "execution_count": 163,
   "metadata": {},
   "outputs": [],
   "source": [
    "# Projection of objectID\n",
    "res=db.students.find_one({'name':'sanjay'},{'_id'})"
   ]
  },
  {
   "cell_type": "code",
   "execution_count": 164,
   "metadata": {},
   "outputs": [
    {
     "data": {
      "text/plain": [
       "{'_id': ObjectId('6478d8d0b1e68c5ec7c88b06')}"
      ]
     },
     "execution_count": 164,
     "metadata": {},
     "output_type": "execute_result"
    }
   ],
   "source": [
    "res"
   ]
  },
  {
   "cell_type": "code",
   "execution_count": 165,
   "metadata": {},
   "outputs": [],
   "source": [
    "# Projection of name and state\n",
    "\n",
    "res = db.students.find({},{'_id':0,'name':1,'state':1})"
   ]
  },
  {
   "cell_type": "code",
   "execution_count": 166,
   "metadata": {},
   "outputs": [
    {
     "name": "stdout",
     "output_type": "stream",
     "text": [
      "{'name': 'rohan', 'state': 'mh'}\n",
      "{'name': 'aniket', 'state': 'up'}\n",
      "{'name': 'ganesh', 'state': 'up'}\n",
      "{'name': 'meena', 'state': 'mp'}\n",
      "{'name': 'seema', 'state': 'mh'}\n",
      "{'name': 'dinesh', 'state': 'mp'}\n",
      "{'name': 'yogita', 'state': 'mp'}\n",
      "{'name': 'karan', 'state': 'mh'}\n",
      "{'name': 'jayesh', 'state': 'up'}\n",
      "{'name': 'mangesh', 'state': 'mp'}\n",
      "{'name': 'geeta', 'state': 'mh'}\n",
      "{'name': 'runali', 'state': 'up'}\n",
      "{'name': 'tushar', 'state': 'up'}\n",
      "{'name': 'binod', 'state': 'mh'}\n",
      "{'name': 'sanjay', 'state': 'mh'}\n"
     ]
    }
   ],
   "source": [
    "for i in res:\n",
    "    print(i)"
   ]
  },
  {
   "cell_type": "code",
   "execution_count": 167,
   "metadata": {},
   "outputs": [],
   "source": [
    "# filtering on comparision \n",
    "# Greater than $gt operator\n",
    "res = db.students.find({'phy':{'$gt':85}})"
   ]
  },
  {
   "cell_type": "code",
   "execution_count": 168,
   "metadata": {},
   "outputs": [
    {
     "name": "stdout",
     "output_type": "stream",
     "text": [
      "{'_id': ObjectId('6478d8d0b1e68c5ec7c88b00'), 'name': 'jayesh', 'gender': 'male', 'state': 'up', 'phy': 87, 'maths': 88, 'bio': 32}\n",
      "{'_id': ObjectId('6478d8d0b1e68c5ec7c88b01'), 'name': 'mangesh', 'gender': 'male', 'state': 'mp', 'phy': 91, 'maths': 78, 'bio': 82}\n",
      "{'_id': ObjectId('6478d8d0b1e68c5ec7c88b05'), 'name': 'binod', 'gender': 'male', 'state': 'mh', 'phy': 95, 'maths': 78, 'bio': 88}\n"
     ]
    }
   ],
   "source": [
    "for i in res:\n",
    "    print(i)"
   ]
  },
  {
   "cell_type": "code",
   "execution_count": 169,
   "metadata": {},
   "outputs": [],
   "source": [
    "# less than $lt and projection\n",
    "\n",
    "res = db.students.find({'maths':{'$lt':60}},{'name':1})"
   ]
  },
  {
   "cell_type": "code",
   "execution_count": 170,
   "metadata": {},
   "outputs": [
    {
     "name": "stdout",
     "output_type": "stream",
     "text": [
      "{'_id': ObjectId('6478d8d0b1e68c5ec7c88afd'), 'name': 'dinesh'}\n",
      "{'_id': ObjectId('6478d8d0b1e68c5ec7c88b02'), 'name': 'geeta'}\n"
     ]
    }
   ],
   "source": [
    "for i in res:\n",
    "    print(i)"
   ]
  },
  {
   "cell_type": "code",
   "execution_count": 171,
   "metadata": {},
   "outputs": [],
   "source": [
    "# greater than equal to \n",
    "res = db.students.find({'bio':{'$gte':85}})"
   ]
  },
  {
   "cell_type": "code",
   "execution_count": 172,
   "metadata": {},
   "outputs": [
    {
     "name": "stdout",
     "output_type": "stream",
     "text": [
      "{'_id': ObjectId('6478d8d0b1e68c5ec7c88afe'), 'name': 'yogita', 'gender': 'female', 'state': 'mp', 'phy': 39, 'maths': 65, 'bio': 90}\n",
      "{'_id': ObjectId('6478d8d0b1e68c5ec7c88b05'), 'name': 'binod', 'gender': 'male', 'state': 'mh', 'phy': 95, 'maths': 78, 'bio': 88}\n"
     ]
    }
   ],
   "source": [
    "for i in res:\n",
    "    print(i)"
   ]
  },
  {
   "cell_type": "code",
   "execution_count": 173,
   "metadata": {},
   "outputs": [],
   "source": [
    "# lesser than equal to $lte operator\n",
    "\n",
    "res = db.students.find({'maths':{'$lte':39}})"
   ]
  },
  {
   "cell_type": "code",
   "execution_count": 174,
   "metadata": {},
   "outputs": [
    {
     "name": "stdout",
     "output_type": "stream",
     "text": [
      "{'_id': ObjectId('6478d8d0b1e68c5ec7c88afd'), 'name': 'dinesh', 'gender': 'male', 'state': 'mp', 'phy': 48, 'maths': 34, 'bio': 67}\n"
     ]
    }
   ],
   "source": [
    "for i in res:\n",
    "    print(i)"
   ]
  },
  {
   "cell_type": "code",
   "execution_count": 175,
   "metadata": {},
   "outputs": [],
   "source": [
    "# equal operator $eq\n",
    "\n",
    "res = db.students.find({'phy':{'$eq':39}})"
   ]
  },
  {
   "cell_type": "code",
   "execution_count": 176,
   "metadata": {},
   "outputs": [
    {
     "name": "stdout",
     "output_type": "stream",
     "text": [
      "{'_id': ObjectId('6478d8d0b1e68c5ec7c88afe'), 'name': 'yogita', 'gender': 'female', 'state': 'mp', 'phy': 39, 'maths': 65, 'bio': 90}\n"
     ]
    }
   ],
   "source": [
    "for i in res:\n",
    "    print(i)"
   ]
  },
  {
   "cell_type": "code",
   "execution_count": 177,
   "metadata": {},
   "outputs": [],
   "source": [
    "# not equal to $neg\n",
    "res = db.students.find({'name':{'$ne':'jayesh'}})"
   ]
  },
  {
   "cell_type": "code",
   "execution_count": 178,
   "metadata": {},
   "outputs": [
    {
     "name": "stdout",
     "output_type": "stream",
     "text": [
      "{'_id': ObjectId('6478d8d0b1e68c5ec7c88af8'), 'name': 'rohan', 'gender': 'male', 'state': 'mh', 'phy': 60, 'maths': 90, 'bio': 68}\n",
      "{'_id': ObjectId('6478d8d0b1e68c5ec7c88af9'), 'name': 'aniket', 'gender': 'male', 'state': 'up', 'phy': 52, 'maths': 85, 'bio': 72}\n",
      "{'_id': ObjectId('6478d8d0b1e68c5ec7c88afa'), 'name': 'ganesh', 'gender': 'male', 'state': 'up', 'phy': 45, 'maths': 82, 'bio': 78}\n",
      "{'_id': ObjectId('6478d8d0b1e68c5ec7c88afb'), 'name': 'meena', 'gender': 'female', 'state': 'mp', 'phy': 72, 'maths': 69, 'bio': 80}\n",
      "{'_id': ObjectId('6478d8d0b1e68c5ec7c88afc'), 'name': 'seema', 'gender': 'female', 'state': 'mh', 'phy': 68, 'maths': 90, 'bio': 78}\n",
      "{'_id': ObjectId('6478d8d0b1e68c5ec7c88afd'), 'name': 'dinesh', 'gender': 'male', 'state': 'mp', 'phy': 48, 'maths': 34, 'bio': 67}\n",
      "{'_id': ObjectId('6478d8d0b1e68c5ec7c88afe'), 'name': 'yogita', 'gender': 'female', 'state': 'mp', 'phy': 39, 'maths': 65, 'bio': 90}\n",
      "{'_id': ObjectId('6478d8d0b1e68c5ec7c88aff'), 'name': 'karan', 'gender': 'male', 'state': 'mh', 'phy': 82, 'maths': 78, 'bio': 55}\n",
      "{'_id': ObjectId('6478d8d0b1e68c5ec7c88b01'), 'name': 'mangesh', 'gender': 'male', 'state': 'mp', 'phy': 91, 'maths': 78, 'bio': 82}\n",
      "{'_id': ObjectId('6478d8d0b1e68c5ec7c88b02'), 'name': 'geeta', 'gender': 'female', 'state': 'mh', 'phy': 31, 'maths': 58, 'bio': 78}\n",
      "{'_id': ObjectId('6478d8d0b1e68c5ec7c88b03'), 'name': 'runali', 'gender': 'female', 'state': 'up', 'phy': 85, 'maths': 92, 'bio': 66}\n",
      "{'_id': ObjectId('6478d8d0b1e68c5ec7c88b04'), 'name': 'tushar', 'gender': 'male', 'state': 'up', 'phy': 32, 'maths': 92, 'bio': 77}\n",
      "{'_id': ObjectId('6478d8d0b1e68c5ec7c88b05'), 'name': 'binod', 'gender': 'male', 'state': 'mh', 'phy': 95, 'maths': 78, 'bio': 88}\n",
      "{'_id': ObjectId('6478d8d0b1e68c5ec7c88b06'), 'name': 'sanjay', 'gender': 'male', 'state': 'mh', 'phy': 63, 'maths': 90, 'bio': 80}\n"
     ]
    }
   ],
   "source": [
    "for i in res:\n",
    "    print(i)"
   ]
  },
  {
   "cell_type": "code",
   "execution_count": 179,
   "metadata": {},
   "outputs": [],
   "source": [
    "# comparision on more than 1 field\n",
    "\n",
    "rse = db.students.find(\n",
    "    {'phy':{'$lte':96}, \n",
    "    'maths':{'$gte':69}}\n",
    "    \n",
    ")"
   ]
  },
  {
   "cell_type": "code",
   "execution_count": 180,
   "metadata": {},
   "outputs": [
    {
     "name": "stdout",
     "output_type": "stream",
     "text": [
      "{'_id': ObjectId('6478d8d0b1e68c5ec7c88af8'), 'name': 'rohan', 'gender': 'male', 'state': 'mh', 'phy': 60, 'maths': 90, 'bio': 68}\n",
      "{'_id': ObjectId('6478d8d0b1e68c5ec7c88af9'), 'name': 'aniket', 'gender': 'male', 'state': 'up', 'phy': 52, 'maths': 85, 'bio': 72}\n",
      "{'_id': ObjectId('6478d8d0b1e68c5ec7c88afa'), 'name': 'ganesh', 'gender': 'male', 'state': 'up', 'phy': 45, 'maths': 82, 'bio': 78}\n",
      "{'_id': ObjectId('6478d8d0b1e68c5ec7c88afb'), 'name': 'meena', 'gender': 'female', 'state': 'mp', 'phy': 72, 'maths': 69, 'bio': 80}\n",
      "{'_id': ObjectId('6478d8d0b1e68c5ec7c88afc'), 'name': 'seema', 'gender': 'female', 'state': 'mh', 'phy': 68, 'maths': 90, 'bio': 78}\n",
      "{'_id': ObjectId('6478d8d0b1e68c5ec7c88aff'), 'name': 'karan', 'gender': 'male', 'state': 'mh', 'phy': 82, 'maths': 78, 'bio': 55}\n",
      "{'_id': ObjectId('6478d8d0b1e68c5ec7c88b00'), 'name': 'jayesh', 'gender': 'male', 'state': 'up', 'phy': 87, 'maths': 88, 'bio': 32}\n",
      "{'_id': ObjectId('6478d8d0b1e68c5ec7c88b01'), 'name': 'mangesh', 'gender': 'male', 'state': 'mp', 'phy': 91, 'maths': 78, 'bio': 82}\n",
      "{'_id': ObjectId('6478d8d0b1e68c5ec7c88b03'), 'name': 'runali', 'gender': 'female', 'state': 'up', 'phy': 85, 'maths': 92, 'bio': 66}\n",
      "{'_id': ObjectId('6478d8d0b1e68c5ec7c88b04'), 'name': 'tushar', 'gender': 'male', 'state': 'up', 'phy': 32, 'maths': 92, 'bio': 77}\n",
      "{'_id': ObjectId('6478d8d0b1e68c5ec7c88b05'), 'name': 'binod', 'gender': 'male', 'state': 'mh', 'phy': 95, 'maths': 78, 'bio': 88}\n",
      "{'_id': ObjectId('6478d8d0b1e68c5ec7c88b06'), 'name': 'sanjay', 'gender': 'male', 'state': 'mh', 'phy': 63, 'maths': 90, 'bio': 80}\n"
     ]
    }
   ],
   "source": [
    "for i in rse:\n",
    "    print(i)"
   ]
  },
  {
   "cell_type": "code",
   "execution_count": 181,
   "metadata": {},
   "outputs": [],
   "source": [
    "# sorting by fields of documents\n",
    "\n",
    "res=db.students.find().sort('maths',-1)"
   ]
  },
  {
   "cell_type": "code",
   "execution_count": 182,
   "metadata": {},
   "outputs": [
    {
     "name": "stdout",
     "output_type": "stream",
     "text": [
      "{'_id': ObjectId('6478d8d0b1e68c5ec7c88b03'), 'name': 'runali', 'gender': 'female', 'state': 'up', 'phy': 85, 'maths': 92, 'bio': 66}\n",
      "{'_id': ObjectId('6478d8d0b1e68c5ec7c88b04'), 'name': 'tushar', 'gender': 'male', 'state': 'up', 'phy': 32, 'maths': 92, 'bio': 77}\n",
      "{'_id': ObjectId('6478d8d0b1e68c5ec7c88af8'), 'name': 'rohan', 'gender': 'male', 'state': 'mh', 'phy': 60, 'maths': 90, 'bio': 68}\n",
      "{'_id': ObjectId('6478d8d0b1e68c5ec7c88afc'), 'name': 'seema', 'gender': 'female', 'state': 'mh', 'phy': 68, 'maths': 90, 'bio': 78}\n",
      "{'_id': ObjectId('6478d8d0b1e68c5ec7c88b06'), 'name': 'sanjay', 'gender': 'male', 'state': 'mh', 'phy': 63, 'maths': 90, 'bio': 80}\n",
      "{'_id': ObjectId('6478d8d0b1e68c5ec7c88b00'), 'name': 'jayesh', 'gender': 'male', 'state': 'up', 'phy': 87, 'maths': 88, 'bio': 32}\n",
      "{'_id': ObjectId('6478d8d0b1e68c5ec7c88af9'), 'name': 'aniket', 'gender': 'male', 'state': 'up', 'phy': 52, 'maths': 85, 'bio': 72}\n",
      "{'_id': ObjectId('6478d8d0b1e68c5ec7c88afa'), 'name': 'ganesh', 'gender': 'male', 'state': 'up', 'phy': 45, 'maths': 82, 'bio': 78}\n",
      "{'_id': ObjectId('6478d8d0b1e68c5ec7c88aff'), 'name': 'karan', 'gender': 'male', 'state': 'mh', 'phy': 82, 'maths': 78, 'bio': 55}\n",
      "{'_id': ObjectId('6478d8d0b1e68c5ec7c88b01'), 'name': 'mangesh', 'gender': 'male', 'state': 'mp', 'phy': 91, 'maths': 78, 'bio': 82}\n",
      "{'_id': ObjectId('6478d8d0b1e68c5ec7c88b05'), 'name': 'binod', 'gender': 'male', 'state': 'mh', 'phy': 95, 'maths': 78, 'bio': 88}\n",
      "{'_id': ObjectId('6478d8d0b1e68c5ec7c88afb'), 'name': 'meena', 'gender': 'female', 'state': 'mp', 'phy': 72, 'maths': 69, 'bio': 80}\n",
      "{'_id': ObjectId('6478d8d0b1e68c5ec7c88afe'), 'name': 'yogita', 'gender': 'female', 'state': 'mp', 'phy': 39, 'maths': 65, 'bio': 90}\n",
      "{'_id': ObjectId('6478d8d0b1e68c5ec7c88b02'), 'name': 'geeta', 'gender': 'female', 'state': 'mh', 'phy': 31, 'maths': 58, 'bio': 78}\n",
      "{'_id': ObjectId('6478d8d0b1e68c5ec7c88afd'), 'name': 'dinesh', 'gender': 'male', 'state': 'mp', 'phy': 48, 'maths': 34, 'bio': 67}\n"
     ]
    }
   ],
   "source": [
    "for i in res:\n",
    "    print(i)"
   ]
  },
  {
   "cell_type": "code",
   "execution_count": 183,
   "metadata": {},
   "outputs": [],
   "source": [
    "# sorting by multiple fields\n",
    "\n",
    "res = db.students.find({}).sort([('maths',1),('bio',-1)])"
   ]
  },
  {
   "cell_type": "code",
   "execution_count": 184,
   "metadata": {},
   "outputs": [
    {
     "name": "stdout",
     "output_type": "stream",
     "text": [
      "{'_id': ObjectId('6478d8d0b1e68c5ec7c88afd'), 'name': 'dinesh', 'gender': 'male', 'state': 'mp', 'phy': 48, 'maths': 34, 'bio': 67}\n",
      "{'_id': ObjectId('6478d8d0b1e68c5ec7c88b02'), 'name': 'geeta', 'gender': 'female', 'state': 'mh', 'phy': 31, 'maths': 58, 'bio': 78}\n",
      "{'_id': ObjectId('6478d8d0b1e68c5ec7c88afe'), 'name': 'yogita', 'gender': 'female', 'state': 'mp', 'phy': 39, 'maths': 65, 'bio': 90}\n",
      "{'_id': ObjectId('6478d8d0b1e68c5ec7c88afb'), 'name': 'meena', 'gender': 'female', 'state': 'mp', 'phy': 72, 'maths': 69, 'bio': 80}\n",
      "{'_id': ObjectId('6478d8d0b1e68c5ec7c88b05'), 'name': 'binod', 'gender': 'male', 'state': 'mh', 'phy': 95, 'maths': 78, 'bio': 88}\n",
      "{'_id': ObjectId('6478d8d0b1e68c5ec7c88b01'), 'name': 'mangesh', 'gender': 'male', 'state': 'mp', 'phy': 91, 'maths': 78, 'bio': 82}\n",
      "{'_id': ObjectId('6478d8d0b1e68c5ec7c88aff'), 'name': 'karan', 'gender': 'male', 'state': 'mh', 'phy': 82, 'maths': 78, 'bio': 55}\n",
      "{'_id': ObjectId('6478d8d0b1e68c5ec7c88afa'), 'name': 'ganesh', 'gender': 'male', 'state': 'up', 'phy': 45, 'maths': 82, 'bio': 78}\n",
      "{'_id': ObjectId('6478d8d0b1e68c5ec7c88af9'), 'name': 'aniket', 'gender': 'male', 'state': 'up', 'phy': 52, 'maths': 85, 'bio': 72}\n",
      "{'_id': ObjectId('6478d8d0b1e68c5ec7c88b00'), 'name': 'jayesh', 'gender': 'male', 'state': 'up', 'phy': 87, 'maths': 88, 'bio': 32}\n",
      "{'_id': ObjectId('6478d8d0b1e68c5ec7c88b06'), 'name': 'sanjay', 'gender': 'male', 'state': 'mh', 'phy': 63, 'maths': 90, 'bio': 80}\n",
      "{'_id': ObjectId('6478d8d0b1e68c5ec7c88afc'), 'name': 'seema', 'gender': 'female', 'state': 'mh', 'phy': 68, 'maths': 90, 'bio': 78}\n",
      "{'_id': ObjectId('6478d8d0b1e68c5ec7c88af8'), 'name': 'rohan', 'gender': 'male', 'state': 'mh', 'phy': 60, 'maths': 90, 'bio': 68}\n",
      "{'_id': ObjectId('6478d8d0b1e68c5ec7c88b04'), 'name': 'tushar', 'gender': 'male', 'state': 'up', 'phy': 32, 'maths': 92, 'bio': 77}\n",
      "{'_id': ObjectId('6478d8d0b1e68c5ec7c88b03'), 'name': 'runali', 'gender': 'female', 'state': 'up', 'phy': 85, 'maths': 92, 'bio': 66}\n"
     ]
    }
   ],
   "source": [
    "for i in res:\n",
    "    print(i)"
   ]
  },
  {
   "cell_type": "code",
   "execution_count": 185,
   "metadata": {},
   "outputs": [
    {
     "data": {
      "text/plain": [
       "1"
      ]
     },
     "execution_count": 185,
     "metadata": {},
     "output_type": "execute_result"
    }
   ],
   "source": [
    "# delete the documents\n",
    "# one document\n",
    "\n",
    "x=db.students.delete_one({'name':'sanjay'})\n",
    "x.deleted_count"
   ]
  },
  {
   "cell_type": "code",
   "execution_count": 210,
   "metadata": {},
   "outputs": [],
   "source": [
    "res=db.students.find()"
   ]
  },
  {
   "cell_type": "code",
   "execution_count": 211,
   "metadata": {},
   "outputs": [],
   "source": [
    "for i in res:\n",
    "    print(i)"
   ]
  },
  {
   "cell_type": "code",
   "execution_count": 188,
   "metadata": {},
   "outputs": [
    {
     "data": {
      "text/plain": [
       "<pymongo.results.DeleteResult at 0x7f2917c71160>"
      ]
     },
     "execution_count": 188,
     "metadata": {},
     "output_type": "execute_result"
    }
   ],
   "source": [
    "# deleting all the documents within the collection\n",
    "db.students.delete_many({})"
   ]
  },
  {
   "cell_type": "code",
   "execution_count": 189,
   "metadata": {},
   "outputs": [],
   "source": [
    "# no documents left in the connection\n",
    "db.students.find_one()"
   ]
  },
  {
   "cell_type": "code",
   "execution_count": 190,
   "metadata": {},
   "outputs": [
    {
     "data": {
      "text/plain": [
       "<pymongo.results.UpdateResult at 0x7f2914da73a0>"
      ]
     },
     "execution_count": 190,
     "metadata": {},
     "output_type": "execute_result"
    }
   ],
   "source": [
    "# updating the records\n",
    "query={'name':'Tejal'}\n",
    "\n",
    "db.students.update_one(query,{'$set':{'maths':'89'}})"
   ]
  },
  {
   "cell_type": "code",
   "execution_count": 191,
   "metadata": {},
   "outputs": [],
   "source": [
    "res=db.students.find()"
   ]
  },
  {
   "cell_type": "code",
   "execution_count": 192,
   "metadata": {},
   "outputs": [],
   "source": [
    "for i in res:\n",
    "    print(i)"
   ]
  },
  {
   "cell_type": "code",
   "execution_count": 193,
   "metadata": {},
   "outputs": [
    {
     "data": {
      "text/plain": [
       "<pymongo.results.UpdateResult at 0x7f29178a58b0>"
      ]
     },
     "execution_count": 193,
     "metadata": {},
     "output_type": "execute_result"
    }
   ],
   "source": [
    "# update can be done on single and many documents in same query\n",
    "\n",
    "# one update\n",
    "# filtering by multiplle fields\n",
    "db.students.update_one({'state':'up','phy':32},{'$set':{'maths':76, 'bio':90}})"
   ]
  },
  {
   "cell_type": "code",
   "execution_count": 194,
   "metadata": {},
   "outputs": [],
   "source": [
    "res = db.students.find()"
   ]
  },
  {
   "cell_type": "code",
   "execution_count": 195,
   "metadata": {},
   "outputs": [],
   "source": [
    "for i in res:\n",
    "    print(i)"
   ]
  },
  {
   "cell_type": "code",
   "execution_count": 196,
   "metadata": {},
   "outputs": [
    {
     "data": {
      "text/plain": [
       "{'executionSuccess': True,\n",
       " 'nReturned': 0,\n",
       " 'executionTimeMillis': 0,\n",
       " 'totalKeysExamined': 0,\n",
       " 'totalDocsExamined': 0,\n",
       " 'executionStages': {'stage': 'COLLSCAN',\n",
       "  'filter': {'name': {'$eq': 'Tejal'}},\n",
       "  'nReturned': 0,\n",
       "  'executionTimeMillisEstimate': 0,\n",
       "  'works': 2,\n",
       "  'advanced': 0,\n",
       "  'needTime': 1,\n",
       "  'needYield': 0,\n",
       "  'saveState': 0,\n",
       "  'restoreState': 0,\n",
       "  'isEOF': 1,\n",
       "  'invalidates': 0,\n",
       "  'direction': 'forward',\n",
       "  'docsExamined': 0},\n",
       " 'allPlansExecution': []}"
      ]
     },
     "execution_count": 196,
     "metadata": {},
     "output_type": "execute_result"
    }
   ],
   "source": [
    "# Gives the execution planning for the query\n",
    "db.students.find({'name':'Tejal'}).explain()['executionStats']"
   ]
  },
  {
   "cell_type": "code",
   "execution_count": 197,
   "metadata": {},
   "outputs": [],
   "source": [
    "# list all the indexes with table they are associate to in dict format with key being the index_name\n",
    "\n",
    "# _id is  by-default index created by mongodb to uniquely identify the documents in the collection\n",
    "i=db.students.index_information()"
   ]
  },
  {
   "cell_type": "code",
   "execution_count": 198,
   "metadata": {},
   "outputs": [
    {
     "name": "stdout",
     "output_type": "stream",
     "text": [
      "_id_\n"
     ]
    }
   ],
   "source": [
    "for i in i:\n",
    "    print(i)"
   ]
  },
  {
   "cell_type": "code",
   "execution_count": 199,
   "metadata": {},
   "outputs": [
    {
     "data": {
      "text/plain": [
       "'maths_-1'"
      ]
     },
     "execution_count": 199,
     "metadata": {},
     "output_type": "execute_result"
    }
   ],
   "source": [
    "# creating an index\n",
    "# Single field index\n",
    "# helps in reading the documents faster by not reading the unecessary documents\n",
    "db.students.create_index([('maths',-1)])"
   ]
  },
  {
   "cell_type": "code",
   "execution_count": 200,
   "metadata": {},
   "outputs": [
    {
     "data": {
      "text/plain": [
       "{'queryPlanner': {'plannerVersion': 1,\n",
       "  'namespace': 'students_details.students',\n",
       "  'indexFilterSet': False,\n",
       "  'parsedQuery': {'name': {'$eq': 'Tejal'}},\n",
       "  'winningPlan': {'stage': 'COLLSCAN',\n",
       "   'filter': {'name': {'$eq': 'Tejal'}},\n",
       "   'direction': 'forward'},\n",
       "  'rejectedPlans': []},\n",
       " 'executionStats': {'executionSuccess': True,\n",
       "  'nReturned': 0,\n",
       "  'executionTimeMillis': 0,\n",
       "  'totalKeysExamined': 0,\n",
       "  'totalDocsExamined': 0,\n",
       "  'executionStages': {'stage': 'COLLSCAN',\n",
       "   'filter': {'name': {'$eq': 'Tejal'}},\n",
       "   'nReturned': 0,\n",
       "   'executionTimeMillisEstimate': 0,\n",
       "   'works': 2,\n",
       "   'advanced': 0,\n",
       "   'needTime': 1,\n",
       "   'needYield': 0,\n",
       "   'saveState': 0,\n",
       "   'restoreState': 0,\n",
       "   'isEOF': 1,\n",
       "   'invalidates': 0,\n",
       "   'direction': 'forward',\n",
       "   'docsExamined': 0},\n",
       "  'allPlansExecution': []},\n",
       " 'serverInfo': {'host': 'c2bd1b2ef87e',\n",
       "  'port': 27017,\n",
       "  'version': '3.6.8',\n",
       "  'gitVersion': '8e540c0b6db93ce994cc548f000900bdc740f80a'},\n",
       " 'ok': 1.0}"
      ]
     },
     "execution_count": 200,
     "metadata": {},
     "output_type": "execute_result"
    }
   ],
   "source": [
    "# explain\n",
    "db.students.find({'name':'Tejal'}).explain()"
   ]
  },
  {
   "cell_type": "code",
   "execution_count": 202,
   "metadata": {},
   "outputs": [],
   "source": []
  },
  {
   "cell_type": "code",
   "execution_count": 203,
   "metadata": {},
   "outputs": [],
   "source": [
    "db.students.drop_index('maths_-1')"
   ]
  },
  {
   "cell_type": "code",
   "execution_count": 204,
   "metadata": {},
   "outputs": [
    {
     "data": {
      "text/plain": [
       "{'_id_': {'v': 2, 'key': [('_id', 1)], 'ns': 'students_details.students'}}"
      ]
     },
     "execution_count": 204,
     "metadata": {},
     "output_type": "execute_result"
    }
   ],
   "source": [
    "db.students.index_information()"
   ]
  },
  {
   "cell_type": "code",
   "execution_count": 205,
   "metadata": {},
   "outputs": [
    {
     "data": {
      "text/plain": [
       "'maths_desc_indx'"
      ]
     },
     "execution_count": 205,
     "metadata": {},
     "output_type": "execute_result"
    }
   ],
   "source": [
    "# Creating an index with giving a custom name to it \n",
    "db.students.create_index([('maths',-1)],name='maths_desc_indx')"
   ]
  },
  {
   "cell_type": "code",
   "execution_count": 206,
   "metadata": {},
   "outputs": [
    {
     "data": {
      "text/plain": [
       "{'_id_': {'v': 2, 'key': [('_id', 1)], 'ns': 'students_details.students'},\n",
       " 'maths_desc_indx': {'v': 2,\n",
       "  'key': [('maths', -1)],\n",
       "  'ns': 'students_details.students'}}"
      ]
     },
     "execution_count": 206,
     "metadata": {},
     "output_type": "execute_result"
    }
   ],
   "source": [
    "db.students.index_information()"
   ]
  },
  {
   "cell_type": "code",
   "execution_count": 207,
   "metadata": {},
   "outputs": [],
   "source": [
    "db.students.drop_index('maths_desc_indx')"
   ]
  },
  {
   "cell_type": "code",
   "execution_count": 238,
   "metadata": {},
   "outputs": [
    {
     "data": {
      "text/plain": [
       "'name_1_state_1'"
      ]
     },
     "execution_count": 238,
     "metadata": {},
     "output_type": "execute_result"
    }
   ],
   "source": [
    "# compound indexes- index created on multiple columns\n",
    "\n",
    "db.students.create_index([('name',1),('state',1)])"
   ]
  },
  {
   "cell_type": "code",
   "execution_count": 258,
   "metadata": {},
   "outputs": [
    {
     "data": {
      "text/plain": [
       "{'queryPlanner': {'plannerVersion': 1,\n",
       "  'namespace': 'students_details.students',\n",
       "  'indexFilterSet': False,\n",
       "  'parsedQuery': {'$and': [{'name': {'$eq': 'sanjay'}},\n",
       "    {'state': {'$eq': 'mh'}}]},\n",
       "  'winningPlan': {'stage': 'FETCH',\n",
       "   'inputStage': {'stage': 'IXSCAN',\n",
       "    'keyPattern': {'name': 1, 'state': 1},\n",
       "    'indexName': 'name_1_state_1',\n",
       "    'isMultiKey': False,\n",
       "    'multiKeyPaths': {'name': [], 'state': []},\n",
       "    'isUnique': False,\n",
       "    'isSparse': False,\n",
       "    'isPartial': False,\n",
       "    'indexVersion': 2,\n",
       "    'direction': 'forward',\n",
       "    'indexBounds': {'name': ['[\"sanjay\", \"sanjay\"]'],\n",
       "     'state': ['[\"mh\", \"mh\"]']}}},\n",
       "  'rejectedPlans': []},\n",
       " 'executionStats': {'executionSuccess': True,\n",
       "  'nReturned': 1,\n",
       "  'executionTimeMillis': 0,\n",
       "  'totalKeysExamined': 1,\n",
       "  'totalDocsExamined': 1,\n",
       "  'executionStages': {'stage': 'FETCH',\n",
       "   'nReturned': 1,\n",
       "   'executionTimeMillisEstimate': 0,\n",
       "   'works': 2,\n",
       "   'advanced': 1,\n",
       "   'needTime': 0,\n",
       "   'needYield': 0,\n",
       "   'saveState': 0,\n",
       "   'restoreState': 0,\n",
       "   'isEOF': 1,\n",
       "   'invalidates': 0,\n",
       "   'docsExamined': 1,\n",
       "   'alreadyHasObj': 0,\n",
       "   'inputStage': {'stage': 'IXSCAN',\n",
       "    'nReturned': 1,\n",
       "    'executionTimeMillisEstimate': 0,\n",
       "    'works': 2,\n",
       "    'advanced': 1,\n",
       "    'needTime': 0,\n",
       "    'needYield': 0,\n",
       "    'saveState': 0,\n",
       "    'restoreState': 0,\n",
       "    'isEOF': 1,\n",
       "    'invalidates': 0,\n",
       "    'keyPattern': {'name': 1, 'state': 1},\n",
       "    'indexName': 'name_1_state_1',\n",
       "    'isMultiKey': False,\n",
       "    'multiKeyPaths': {'name': [], 'state': []},\n",
       "    'isUnique': False,\n",
       "    'isSparse': False,\n",
       "    'isPartial': False,\n",
       "    'indexVersion': 2,\n",
       "    'direction': 'forward',\n",
       "    'indexBounds': {'name': ['[\"sanjay\", \"sanjay\"]'],\n",
       "     'state': ['[\"mh\", \"mh\"]']},\n",
       "    'keysExamined': 1,\n",
       "    'seeks': 1,\n",
       "    'dupsTested': 0,\n",
       "    'dupsDropped': 0,\n",
       "    'seenInvalidated': 0}},\n",
       "  'allPlansExecution': []},\n",
       " 'serverInfo': {'host': 'c2bd1b2ef87e',\n",
       "  'port': 27017,\n",
       "  'version': '3.6.8',\n",
       "  'gitVersion': '8e540c0b6db93ce994cc548f000900bdc740f80a'},\n",
       " 'ok': 1.0}"
      ]
     },
     "execution_count": 258,
     "metadata": {},
     "output_type": "execute_result"
    }
   ],
   "source": [
    "# Both index columns are present hence indexing scan will be done\n",
    "# Index scan -- faster read\n",
    "db.students.find({'name':'sanjay','state':'mh'}).explain()"
   ]
  },
  {
   "cell_type": "code",
   "execution_count": 257,
   "metadata": {},
   "outputs": [
    {
     "data": {
      "text/plain": [
       "{'queryPlanner': {'plannerVersion': 1,\n",
       "  'namespace': 'students_details.students',\n",
       "  'indexFilterSet': False,\n",
       "  'parsedQuery': {'name': {'$eq': 'sanjay'}},\n",
       "  'winningPlan': {'stage': 'FETCH',\n",
       "   'inputStage': {'stage': 'IXSCAN',\n",
       "    'keyPattern': {'name': 1, 'state': 1},\n",
       "    'indexName': 'name_1_state_1',\n",
       "    'isMultiKey': False,\n",
       "    'multiKeyPaths': {'name': [], 'state': []},\n",
       "    'isUnique': False,\n",
       "    'isSparse': False,\n",
       "    'isPartial': False,\n",
       "    'indexVersion': 2,\n",
       "    'direction': 'forward',\n",
       "    'indexBounds': {'name': ['[\"sanjay\", \"sanjay\"]'],\n",
       "     'state': ['[MinKey, MaxKey]']}}},\n",
       "  'rejectedPlans': []},\n",
       " 'executionStats': {'executionSuccess': True,\n",
       "  'nReturned': 1,\n",
       "  'executionTimeMillis': 0,\n",
       "  'totalKeysExamined': 1,\n",
       "  'totalDocsExamined': 1,\n",
       "  'executionStages': {'stage': 'FETCH',\n",
       "   'nReturned': 1,\n",
       "   'executionTimeMillisEstimate': 0,\n",
       "   'works': 2,\n",
       "   'advanced': 1,\n",
       "   'needTime': 0,\n",
       "   'needYield': 0,\n",
       "   'saveState': 0,\n",
       "   'restoreState': 0,\n",
       "   'isEOF': 1,\n",
       "   'invalidates': 0,\n",
       "   'docsExamined': 1,\n",
       "   'alreadyHasObj': 0,\n",
       "   'inputStage': {'stage': 'IXSCAN',\n",
       "    'nReturned': 1,\n",
       "    'executionTimeMillisEstimate': 0,\n",
       "    'works': 2,\n",
       "    'advanced': 1,\n",
       "    'needTime': 0,\n",
       "    'needYield': 0,\n",
       "    'saveState': 0,\n",
       "    'restoreState': 0,\n",
       "    'isEOF': 1,\n",
       "    'invalidates': 0,\n",
       "    'keyPattern': {'name': 1, 'state': 1},\n",
       "    'indexName': 'name_1_state_1',\n",
       "    'isMultiKey': False,\n",
       "    'multiKeyPaths': {'name': [], 'state': []},\n",
       "    'isUnique': False,\n",
       "    'isSparse': False,\n",
       "    'isPartial': False,\n",
       "    'indexVersion': 2,\n",
       "    'direction': 'forward',\n",
       "    'indexBounds': {'name': ['[\"sanjay\", \"sanjay\"]'],\n",
       "     'state': ['[MinKey, MaxKey]']},\n",
       "    'keysExamined': 1,\n",
       "    'seeks': 1,\n",
       "    'dupsTested': 0,\n",
       "    'dupsDropped': 0,\n",
       "    'seenInvalidated': 0}},\n",
       "  'allPlansExecution': []},\n",
       " 'serverInfo': {'host': 'c2bd1b2ef87e',\n",
       "  'port': 27017,\n",
       "  'version': '3.6.8',\n",
       "  'gitVersion': '8e540c0b6db93ce994cc548f000900bdc740f80a'},\n",
       " 'ok': 1.0}"
      ]
     },
     "execution_count": 257,
     "metadata": {},
     "output_type": "execute_result"
    }
   ],
   "source": [
    "# Firstmost column of the compound index will still result in the index scan\n",
    "# Index scan -- faster read\n",
    "db.students.find({'name':'sanjay'}).explain()"
   ]
  },
  {
   "cell_type": "code",
   "execution_count": 241,
   "metadata": {},
   "outputs": [
    {
     "data": {
      "text/plain": [
       "{'queryPlanner': {'plannerVersion': 1,\n",
       "  'namespace': 'students_details.students',\n",
       "  'indexFilterSet': False,\n",
       "  'parsedQuery': {'state': {'$eq': 'mh'}},\n",
       "  'winningPlan': {'stage': 'COLLSCAN',\n",
       "   'filter': {'state': {'$eq': 'mh'}},\n",
       "   'direction': 'forward'},\n",
       "  'rejectedPlans': []},\n",
       " 'executionStats': {'executionSuccess': True,\n",
       "  'nReturned': 6,\n",
       "  'executionTimeMillis': 0,\n",
       "  'totalKeysExamined': 0,\n",
       "  'totalDocsExamined': 15,\n",
       "  'executionStages': {'stage': 'COLLSCAN',\n",
       "   'filter': {'state': {'$eq': 'mh'}},\n",
       "   'nReturned': 6,\n",
       "   'executionTimeMillisEstimate': 0,\n",
       "   'works': 17,\n",
       "   'advanced': 6,\n",
       "   'needTime': 10,\n",
       "   'needYield': 0,\n",
       "   'saveState': 0,\n",
       "   'restoreState': 0,\n",
       "   'isEOF': 1,\n",
       "   'invalidates': 0,\n",
       "   'direction': 'forward',\n",
       "   'docsExamined': 15},\n",
       "  'allPlansExecution': []},\n",
       " 'serverInfo': {'host': 'c2bd1b2ef87e',\n",
       "  'port': 27017,\n",
       "  'version': '3.6.8',\n",
       "  'gitVersion': '8e540c0b6db93ce994cc548f000900bdc740f80a'},\n",
       " 'ok': 1.0}"
      ]
     },
     "execution_count": 241,
     "metadata": {},
     "output_type": "execute_result"
    }
   ],
   "source": [
    "# since only one column is used and that too the last one so no index scan is possible\n",
    "# Column scan -- means all documents will be loaded in memory\n",
    "db.students.find({'state':'mh'}).explain()"
   ]
  },
  {
   "cell_type": "code",
   "execution_count": 246,
   "metadata": {},
   "outputs": [
    {
     "data": {
      "text/plain": [
       "'maths_1'"
      ]
     },
     "execution_count": 246,
     "metadata": {},
     "output_type": "execute_result"
    }
   ],
   "source": [
    "# Partial filters\n",
    "# index created only on values greater than 70\n",
    "db.students.create_index([('maths',1)],partialFilterExpression={'maths':{'$gt':70}})"
   ]
  },
  {
   "cell_type": "code",
   "execution_count": 251,
   "metadata": {},
   "outputs": [],
   "source": [
    "i0=db.students.find({'maths':88})"
   ]
  },
  {
   "cell_type": "code",
   "execution_count": 252,
   "metadata": {},
   "outputs": [
    {
     "name": "stdout",
     "output_type": "stream",
     "text": [
      "{'_id': ObjectId('6478d9b8b1e68c5ec7c88b10'), 'name': 'jayesh', 'gender': 'male', 'state': 'up', 'phy': 87, 'maths': 88, 'bio': 32}\n"
     ]
    }
   ],
   "source": [
    "for i in i0:\n",
    "    print(i)"
   ]
  },
  {
   "cell_type": "code",
   "execution_count": 253,
   "metadata": {},
   "outputs": [
    {
     "data": {
      "text/plain": [
       "{'queryPlanner': {'plannerVersion': 1,\n",
       "  'namespace': 'students_details.students',\n",
       "  'indexFilterSet': False,\n",
       "  'parsedQuery': {'maths': {'$eq': 88}},\n",
       "  'winningPlan': {'stage': 'FETCH',\n",
       "   'inputStage': {'stage': 'IXSCAN',\n",
       "    'keyPattern': {'maths': 1},\n",
       "    'indexName': 'maths_1',\n",
       "    'isMultiKey': False,\n",
       "    'multiKeyPaths': {'maths': []},\n",
       "    'isUnique': False,\n",
       "    'isSparse': False,\n",
       "    'isPartial': True,\n",
       "    'indexVersion': 2,\n",
       "    'direction': 'forward',\n",
       "    'indexBounds': {'maths': ['[88, 88]']}}},\n",
       "  'rejectedPlans': []},\n",
       " 'executionStats': {'executionSuccess': True,\n",
       "  'nReturned': 1,\n",
       "  'executionTimeMillis': 0,\n",
       "  'totalKeysExamined': 1,\n",
       "  'totalDocsExamined': 1,\n",
       "  'executionStages': {'stage': 'FETCH',\n",
       "   'nReturned': 1,\n",
       "   'executionTimeMillisEstimate': 0,\n",
       "   'works': 2,\n",
       "   'advanced': 1,\n",
       "   'needTime': 0,\n",
       "   'needYield': 0,\n",
       "   'saveState': 0,\n",
       "   'restoreState': 0,\n",
       "   'isEOF': 1,\n",
       "   'invalidates': 0,\n",
       "   'docsExamined': 1,\n",
       "   'alreadyHasObj': 0,\n",
       "   'inputStage': {'stage': 'IXSCAN',\n",
       "    'nReturned': 1,\n",
       "    'executionTimeMillisEstimate': 0,\n",
       "    'works': 2,\n",
       "    'advanced': 1,\n",
       "    'needTime': 0,\n",
       "    'needYield': 0,\n",
       "    'saveState': 0,\n",
       "    'restoreState': 0,\n",
       "    'isEOF': 1,\n",
       "    'invalidates': 0,\n",
       "    'keyPattern': {'maths': 1},\n",
       "    'indexName': 'maths_1',\n",
       "    'isMultiKey': False,\n",
       "    'multiKeyPaths': {'maths': []},\n",
       "    'isUnique': False,\n",
       "    'isSparse': False,\n",
       "    'isPartial': True,\n",
       "    'indexVersion': 2,\n",
       "    'direction': 'forward',\n",
       "    'indexBounds': {'maths': ['[88, 88]']},\n",
       "    'keysExamined': 1,\n",
       "    'seeks': 1,\n",
       "    'dupsTested': 0,\n",
       "    'dupsDropped': 0,\n",
       "    'seenInvalidated': 0}},\n",
       "  'allPlansExecution': []},\n",
       " 'serverInfo': {'host': 'c2bd1b2ef87e',\n",
       "  'port': 27017,\n",
       "  'version': '3.6.8',\n",
       "  'gitVersion': '8e540c0b6db93ce994cc548f000900bdc740f80a'},\n",
       " 'ok': 1.0}"
      ]
     },
     "execution_count": 253,
     "metadata": {},
     "output_type": "execute_result"
    }
   ],
   "source": [
    "# value greater than 70 hence index scan will be done\n",
    "db.students.find({'maths':88}).explain()"
   ]
  },
  {
   "cell_type": "code",
   "execution_count": 255,
   "metadata": {},
   "outputs": [
    {
     "data": {
      "text/plain": [
       "{'queryPlanner': {'plannerVersion': 1,\n",
       "  'namespace': 'students_details.students',\n",
       "  'indexFilterSet': False,\n",
       "  'parsedQuery': {'maths': {'$eq': 65}},\n",
       "  'winningPlan': {'stage': 'COLLSCAN',\n",
       "   'filter': {'maths': {'$eq': 65}},\n",
       "   'direction': 'forward'},\n",
       "  'rejectedPlans': []},\n",
       " 'executionStats': {'executionSuccess': True,\n",
       "  'nReturned': 1,\n",
       "  'executionTimeMillis': 0,\n",
       "  'totalKeysExamined': 0,\n",
       "  'totalDocsExamined': 15,\n",
       "  'executionStages': {'stage': 'COLLSCAN',\n",
       "   'filter': {'maths': {'$eq': 65}},\n",
       "   'nReturned': 1,\n",
       "   'executionTimeMillisEstimate': 0,\n",
       "   'works': 17,\n",
       "   'advanced': 1,\n",
       "   'needTime': 15,\n",
       "   'needYield': 0,\n",
       "   'saveState': 0,\n",
       "   'restoreState': 0,\n",
       "   'isEOF': 1,\n",
       "   'invalidates': 0,\n",
       "   'direction': 'forward',\n",
       "   'docsExamined': 15},\n",
       "  'allPlansExecution': []},\n",
       " 'serverInfo': {'host': 'c2bd1b2ef87e',\n",
       "  'port': 27017,\n",
       "  'version': '3.6.8',\n",
       "  'gitVersion': '8e540c0b6db93ce994cc548f000900bdc740f80a'},\n",
       " 'ok': 1.0}"
      ]
     },
     "execution_count": 255,
     "metadata": {},
     "output_type": "execute_result"
    }
   ],
   "source": [
    "# Since value is lower than 70, than column scan will be done\n",
    "db.students.find({'maths':65}).explain()"
   ]
  },
  {
   "cell_type": "code",
   "execution_count": 263,
   "metadata": {},
   "outputs": [
    {
     "data": {
      "text/plain": [
       "'name_1'"
      ]
     },
     "execution_count": 263,
     "metadata": {},
     "output_type": "execute_result"
    }
   ],
   "source": [
    "# indexing on the value which may not be present in all the documents\n",
    "\n",
    "db.students.create_index([('name',1)])"
   ]
  },
  {
   "cell_type": "code",
   "execution_count": 269,
   "metadata": {},
   "outputs": [],
   "source": [
    "db.students.drop_index('name_1')"
   ]
  },
  {
   "cell_type": "code",
   "execution_count": 264,
   "metadata": {},
   "outputs": [
    {
     "data": {
      "text/plain": [
       "{'_id_': {'v': 2, 'key': [('_id', 1)], 'ns': 'students_details.students'},\n",
       " 'name_1_state_1': {'v': 2,\n",
       "  'key': [('name', 1), ('state', 1)],\n",
       "  'ns': 'students_details.students'},\n",
       " 'maths_1': {'v': 2,\n",
       "  'key': [('maths', 1)],\n",
       "  'ns': 'students_details.students',\n",
       "  'partialFilterExpression': SON([('maths', SON([('$gt', 70)]))])},\n",
       " 'maths_-1': {'v': 2,\n",
       "  'key': [('maths', -1)],\n",
       "  'ns': 'students_details.students'},\n",
       " 'name_1': {'v': 2, 'key': [('name', 1)], 'ns': 'students_details.students'}}"
      ]
     },
     "execution_count": 264,
     "metadata": {},
     "output_type": "execute_result"
    }
   ],
   "source": [
    "db.students.index_information()"
   ]
  },
  {
   "cell_type": "code",
   "execution_count": 270,
   "metadata": {},
   "outputs": [
    {
     "data": {
      "text/plain": [
       "'name_1'"
      ]
     },
     "execution_count": 270,
     "metadata": {},
     "output_type": "execute_result"
    }
   ],
   "source": [
    "#Unique Index -- Wont allow duplicate values on the indexed field\n",
    "db.students.create_index([('name',1)], unique=True)"
   ]
  },
  {
   "cell_type": "code",
   "execution_count": 273,
   "metadata": {},
   "outputs": [
    {
     "data": {
      "text/plain": [
       "{'queryPlanner': {'plannerVersion': 1,\n",
       "  'namespace': 'students_details.students',\n",
       "  'indexFilterSet': False,\n",
       "  'parsedQuery': {'name': {'$eq': 'sanjay'}},\n",
       "  'winningPlan': {'stage': 'FETCH',\n",
       "   'inputStage': {'stage': 'IXSCAN',\n",
       "    'keyPattern': {'name': 1},\n",
       "    'indexName': 'name_1',\n",
       "    'isMultiKey': False,\n",
       "    'multiKeyPaths': {'name': []},\n",
       "    'isUnique': True,\n",
       "    'isSparse': False,\n",
       "    'isPartial': False,\n",
       "    'indexVersion': 2,\n",
       "    'direction': 'forward',\n",
       "    'indexBounds': {'name': ['[\"sanjay\", \"sanjay\"]']}}},\n",
       "  'rejectedPlans': [{'stage': 'FETCH',\n",
       "    'inputStage': {'stage': 'IXSCAN',\n",
       "     'keyPattern': {'name': 1, 'state': 1},\n",
       "     'indexName': 'name_1_state_1',\n",
       "     'isMultiKey': False,\n",
       "     'multiKeyPaths': {'name': [], 'state': []},\n",
       "     'isUnique': False,\n",
       "     'isSparse': False,\n",
       "     'isPartial': False,\n",
       "     'indexVersion': 2,\n",
       "     'direction': 'forward',\n",
       "     'indexBounds': {'name': ['[\"sanjay\", \"sanjay\"]'],\n",
       "      'state': ['[MinKey, MaxKey]']}}}]},\n",
       " 'executionStats': {'executionSuccess': True,\n",
       "  'nReturned': 1,\n",
       "  'executionTimeMillis': 0,\n",
       "  'totalKeysExamined': 1,\n",
       "  'totalDocsExamined': 1,\n",
       "  'executionStages': {'stage': 'FETCH',\n",
       "   'nReturned': 1,\n",
       "   'executionTimeMillisEstimate': 0,\n",
       "   'works': 3,\n",
       "   'advanced': 1,\n",
       "   'needTime': 0,\n",
       "   'needYield': 0,\n",
       "   'saveState': 0,\n",
       "   'restoreState': 0,\n",
       "   'isEOF': 1,\n",
       "   'invalidates': 0,\n",
       "   'docsExamined': 1,\n",
       "   'alreadyHasObj': 0,\n",
       "   'inputStage': {'stage': 'IXSCAN',\n",
       "    'nReturned': 1,\n",
       "    'executionTimeMillisEstimate': 0,\n",
       "    'works': 2,\n",
       "    'advanced': 1,\n",
       "    'needTime': 0,\n",
       "    'needYield': 0,\n",
       "    'saveState': 0,\n",
       "    'restoreState': 0,\n",
       "    'isEOF': 1,\n",
       "    'invalidates': 0,\n",
       "    'keyPattern': {'name': 1},\n",
       "    'indexName': 'name_1',\n",
       "    'isMultiKey': False,\n",
       "    'multiKeyPaths': {'name': []},\n",
       "    'isUnique': True,\n",
       "    'isSparse': False,\n",
       "    'isPartial': False,\n",
       "    'indexVersion': 2,\n",
       "    'direction': 'forward',\n",
       "    'indexBounds': {'name': ['[\"sanjay\", \"sanjay\"]']},\n",
       "    'keysExamined': 1,\n",
       "    'seeks': 1,\n",
       "    'dupsTested': 0,\n",
       "    'dupsDropped': 0,\n",
       "    'seenInvalidated': 0}},\n",
       "  'allPlansExecution': [{'nReturned': 1,\n",
       "    'executionTimeMillisEstimate': 0,\n",
       "    'totalKeysExamined': 1,\n",
       "    'totalDocsExamined': 1,\n",
       "    'executionStages': {'stage': 'FETCH',\n",
       "     'nReturned': 1,\n",
       "     'executionTimeMillisEstimate': 0,\n",
       "     'works': 2,\n",
       "     'advanced': 1,\n",
       "     'needTime': 0,\n",
       "     'needYield': 0,\n",
       "     'saveState': 0,\n",
       "     'restoreState': 0,\n",
       "     'isEOF': 1,\n",
       "     'invalidates': 0,\n",
       "     'docsExamined': 1,\n",
       "     'alreadyHasObj': 0,\n",
       "     'inputStage': {'stage': 'IXSCAN',\n",
       "      'nReturned': 1,\n",
       "      'executionTimeMillisEstimate': 0,\n",
       "      'works': 2,\n",
       "      'advanced': 1,\n",
       "      'needTime': 0,\n",
       "      'needYield': 0,\n",
       "      'saveState': 0,\n",
       "      'restoreState': 0,\n",
       "      'isEOF': 1,\n",
       "      'invalidates': 0,\n",
       "      'keyPattern': {'name': 1, 'state': 1},\n",
       "      'indexName': 'name_1_state_1',\n",
       "      'isMultiKey': False,\n",
       "      'multiKeyPaths': {'name': [], 'state': []},\n",
       "      'isUnique': False,\n",
       "      'isSparse': False,\n",
       "      'isPartial': False,\n",
       "      'indexVersion': 2,\n",
       "      'direction': 'forward',\n",
       "      'indexBounds': {'name': ['[\"sanjay\", \"sanjay\"]'],\n",
       "       'state': ['[MinKey, MaxKey]']},\n",
       "      'keysExamined': 1,\n",
       "      'seeks': 1,\n",
       "      'dupsTested': 0,\n",
       "      'dupsDropped': 0,\n",
       "      'seenInvalidated': 0}}},\n",
       "   {'nReturned': 1,\n",
       "    'executionTimeMillisEstimate': 0,\n",
       "    'totalKeysExamined': 1,\n",
       "    'totalDocsExamined': 1,\n",
       "    'executionStages': {'stage': 'FETCH',\n",
       "     'nReturned': 1,\n",
       "     'executionTimeMillisEstimate': 0,\n",
       "     'works': 2,\n",
       "     'advanced': 1,\n",
       "     'needTime': 0,\n",
       "     'needYield': 0,\n",
       "     'saveState': 0,\n",
       "     'restoreState': 0,\n",
       "     'isEOF': 1,\n",
       "     'invalidates': 0,\n",
       "     'docsExamined': 1,\n",
       "     'alreadyHasObj': 0,\n",
       "     'inputStage': {'stage': 'IXSCAN',\n",
       "      'nReturned': 1,\n",
       "      'executionTimeMillisEstimate': 0,\n",
       "      'works': 2,\n",
       "      'advanced': 1,\n",
       "      'needTime': 0,\n",
       "      'needYield': 0,\n",
       "      'saveState': 0,\n",
       "      'restoreState': 0,\n",
       "      'isEOF': 1,\n",
       "      'invalidates': 0,\n",
       "      'keyPattern': {'name': 1},\n",
       "      'indexName': 'name_1',\n",
       "      'isMultiKey': False,\n",
       "      'multiKeyPaths': {'name': []},\n",
       "      'isUnique': True,\n",
       "      'isSparse': False,\n",
       "      'isPartial': False,\n",
       "      'indexVersion': 2,\n",
       "      'direction': 'forward',\n",
       "      'indexBounds': {'name': ['[\"sanjay\", \"sanjay\"]']},\n",
       "      'keysExamined': 1,\n",
       "      'seeks': 1,\n",
       "      'dupsTested': 0,\n",
       "      'dupsDropped': 0,\n",
       "      'seenInvalidated': 0}}}]},\n",
       " 'serverInfo': {'host': 'c2bd1b2ef87e',\n",
       "  'port': 27017,\n",
       "  'version': '3.6.8',\n",
       "  'gitVersion': '8e540c0b6db93ce994cc548f000900bdc740f80a'},\n",
       " 'ok': 1.0}"
      ]
     },
     "execution_count": 273,
     "metadata": {},
     "output_type": "execute_result"
    }
   ],
   "source": [
    "db.students.find({'name':'sanjay'}).explain()"
   ]
  },
  {
   "cell_type": "code",
   "execution_count": 274,
   "metadata": {},
   "outputs": [
    {
     "ename": "DuplicateKeyError",
     "evalue": "E11000 duplicate key error collection: students_details.students index: name_1 dup key: { : \"sanjay\" }, full error: {'index': 0, 'code': 11000, 'errmsg': 'E11000 duplicate key error collection: students_details.students index: name_1 dup key: { : \"sanjay\" }'}",
     "output_type": "error",
     "traceback": [
      "\u001b[0;31m---------------------------------------------------------------------------\u001b[0m",
      "\u001b[0;31mDuplicateKeyError\u001b[0m                         Traceback (most recent call last)",
      "Cell \u001b[0;32mIn[274], line 1\u001b[0m\n\u001b[0;32m----> 1\u001b[0m \u001b[43mdb\u001b[49m\u001b[38;5;241;43m.\u001b[39;49m\u001b[43mstudents\u001b[49m\u001b[38;5;241;43m.\u001b[39;49m\u001b[43minsert_one\u001b[49m\u001b[43m(\u001b[49m\u001b[43m{\u001b[49m\n\u001b[1;32m      2\u001b[0m \u001b[43m  \u001b[49m\u001b[38;5;124;43m\"\u001b[39;49m\u001b[38;5;124;43mname\u001b[39;49m\u001b[38;5;124;43m\"\u001b[39;49m\u001b[43m:\u001b[49m\u001b[43m \u001b[49m\u001b[38;5;124;43m\"\u001b[39;49m\u001b[38;5;124;43msanjay\u001b[39;49m\u001b[38;5;124;43m\"\u001b[39;49m\u001b[43m,\u001b[49m\n\u001b[1;32m      3\u001b[0m \u001b[43m  \u001b[49m\u001b[38;5;124;43m\"\u001b[39;49m\u001b[38;5;124;43mgender\u001b[39;49m\u001b[38;5;124;43m\"\u001b[39;49m\u001b[43m:\u001b[49m\u001b[43m \u001b[49m\u001b[38;5;124;43m\"\u001b[39;49m\u001b[38;5;124;43mmale\u001b[39;49m\u001b[38;5;124;43m\"\u001b[39;49m\u001b[43m,\u001b[49m\n\u001b[1;32m      4\u001b[0m \u001b[43m  \u001b[49m\u001b[38;5;124;43m\"\u001b[39;49m\u001b[38;5;124;43mstate\u001b[39;49m\u001b[38;5;124;43m\"\u001b[39;49m\u001b[43m:\u001b[49m\u001b[43m \u001b[49m\u001b[38;5;124;43m\"\u001b[39;49m\u001b[38;5;124;43mmp\u001b[39;49m\u001b[38;5;124;43m\"\u001b[39;49m\u001b[43m,\u001b[49m\n\u001b[1;32m      5\u001b[0m \u001b[43m  \u001b[49m\u001b[38;5;124;43m\"\u001b[39;49m\u001b[38;5;124;43mphy\u001b[39;49m\u001b[38;5;124;43m\"\u001b[39;49m\u001b[43m:\u001b[49m\u001b[43m \u001b[49m\u001b[38;5;241;43m34\u001b[39;49m\u001b[43m,\u001b[49m\n\u001b[1;32m      6\u001b[0m \u001b[43m  \u001b[49m\u001b[38;5;124;43m\"\u001b[39;49m\u001b[38;5;124;43mmaths\u001b[39;49m\u001b[38;5;124;43m\"\u001b[39;49m\u001b[43m:\u001b[49m\u001b[43m \u001b[49m\u001b[38;5;241;43m56\u001b[39;49m\u001b[43m,\u001b[49m\n\u001b[1;32m      7\u001b[0m \u001b[43m  \u001b[49m\u001b[38;5;124;43m\"\u001b[39;49m\u001b[38;5;124;43mbio\u001b[39;49m\u001b[38;5;124;43m\"\u001b[39;49m\u001b[43m:\u001b[49m\u001b[43m \u001b[49m\u001b[38;5;241;43m89\u001b[39;49m\n\u001b[1;32m      8\u001b[0m \u001b[43m}\u001b[49m\u001b[43m)\u001b[49m\n",
      "File \u001b[0;32m~/.local/lib/python3.8/site-packages/pymongo/collection.py:628\u001b[0m, in \u001b[0;36mCollection.insert_one\u001b[0;34m(self, document, bypass_document_validation, session, comment)\u001b[0m\n\u001b[1;32m    624\u001b[0m     document[\u001b[39m\"\u001b[39m\u001b[39m_id\u001b[39m\u001b[39m\"\u001b[39m] \u001b[39m=\u001b[39m ObjectId()  \u001b[39m# type: ignore[index]\u001b[39;00m\n\u001b[1;32m    626\u001b[0m write_concern \u001b[39m=\u001b[39m \u001b[39mself\u001b[39m\u001b[39m.\u001b[39m_write_concern_for(session)\n\u001b[1;32m    627\u001b[0m \u001b[39mreturn\u001b[39;00m InsertOneResult(\n\u001b[0;32m--> 628\u001b[0m     \u001b[39mself\u001b[39;49m\u001b[39m.\u001b[39;49m_insert_one(\n\u001b[1;32m    629\u001b[0m         document,\n\u001b[1;32m    630\u001b[0m         ordered\u001b[39m=\u001b[39;49m\u001b[39mTrue\u001b[39;49;00m,\n\u001b[1;32m    631\u001b[0m         write_concern\u001b[39m=\u001b[39;49mwrite_concern,\n\u001b[1;32m    632\u001b[0m         op_id\u001b[39m=\u001b[39;49m\u001b[39mNone\u001b[39;49;00m,\n\u001b[1;32m    633\u001b[0m         bypass_doc_val\u001b[39m=\u001b[39;49mbypass_document_validation,\n\u001b[1;32m    634\u001b[0m         session\u001b[39m=\u001b[39;49msession,\n\u001b[1;32m    635\u001b[0m         comment\u001b[39m=\u001b[39;49mcomment,\n\u001b[1;32m    636\u001b[0m     ),\n\u001b[1;32m    637\u001b[0m     write_concern\u001b[39m.\u001b[39macknowledged,\n\u001b[1;32m    638\u001b[0m )\n",
      "File \u001b[0;32m~/.local/lib/python3.8/site-packages/pymongo/collection.py:569\u001b[0m, in \u001b[0;36mCollection._insert_one\u001b[0;34m(self, doc, ordered, write_concern, op_id, bypass_doc_val, session, comment)\u001b[0m\n\u001b[1;32m    557\u001b[0m     result \u001b[39m=\u001b[39m sock_info\u001b[39m.\u001b[39mcommand(\n\u001b[1;32m    558\u001b[0m         \u001b[39mself\u001b[39m\u001b[39m.\u001b[39m__database\u001b[39m.\u001b[39mname,\n\u001b[1;32m    559\u001b[0m         command,\n\u001b[0;32m   (...)\u001b[0m\n\u001b[1;32m    564\u001b[0m         retryable_write\u001b[39m=\u001b[39mretryable_write,\n\u001b[1;32m    565\u001b[0m     )\n\u001b[1;32m    567\u001b[0m     _check_write_command_response(result)\n\u001b[0;32m--> 569\u001b[0m \u001b[39mself\u001b[39;49m\u001b[39m.\u001b[39;49m__database\u001b[39m.\u001b[39;49mclient\u001b[39m.\u001b[39;49m_retryable_write(acknowledged, _insert_command, session)\n\u001b[1;32m    571\u001b[0m \u001b[39mif\u001b[39;00m \u001b[39mnot\u001b[39;00m \u001b[39misinstance\u001b[39m(doc, RawBSONDocument):\n\u001b[1;32m    572\u001b[0m     \u001b[39mreturn\u001b[39;00m doc\u001b[39m.\u001b[39mget(\u001b[39m\"\u001b[39m\u001b[39m_id\u001b[39m\u001b[39m\"\u001b[39m)\n",
      "File \u001b[0;32m~/.local/lib/python3.8/site-packages/pymongo/mongo_client.py:1476\u001b[0m, in \u001b[0;36mMongoClient._retryable_write\u001b[0;34m(self, retryable, func, session)\u001b[0m\n\u001b[1;32m   1474\u001b[0m \u001b[39m\u001b[39m\u001b[39m\"\"\"Internal retryable write helper.\"\"\"\u001b[39;00m\n\u001b[1;32m   1475\u001b[0m \u001b[39mwith\u001b[39;00m \u001b[39mself\u001b[39m\u001b[39m.\u001b[39m_tmp_session(session) \u001b[39mas\u001b[39;00m s:\n\u001b[0;32m-> 1476\u001b[0m     \u001b[39mreturn\u001b[39;00m \u001b[39mself\u001b[39;49m\u001b[39m.\u001b[39;49m_retry_with_session(retryable, func, s, \u001b[39mNone\u001b[39;49;00m)\n",
      "File \u001b[0;32m~/.local/lib/python3.8/site-packages/pymongo/mongo_client.py:1349\u001b[0m, in \u001b[0;36mMongoClient._retry_with_session\u001b[0;34m(self, retryable, func, session, bulk)\u001b[0m\n\u001b[1;32m   1339\u001b[0m \u001b[39m\u001b[39m\u001b[39m\"\"\"Execute an operation with at most one consecutive retries\u001b[39;00m\n\u001b[1;32m   1340\u001b[0m \n\u001b[1;32m   1341\u001b[0m \u001b[39mReturns func()'s return value on success. On error retries the same\u001b[39;00m\n\u001b[0;32m   (...)\u001b[0m\n\u001b[1;32m   1344\u001b[0m \u001b[39mRe-raises any exception thrown by func().\u001b[39;00m\n\u001b[1;32m   1345\u001b[0m \u001b[39m\"\"\"\u001b[39;00m\n\u001b[1;32m   1346\u001b[0m retryable \u001b[39m=\u001b[39m (\n\u001b[1;32m   1347\u001b[0m     retryable \u001b[39mand\u001b[39;00m \u001b[39mself\u001b[39m\u001b[39m.\u001b[39moptions\u001b[39m.\u001b[39mretry_writes \u001b[39mand\u001b[39;00m session \u001b[39mand\u001b[39;00m \u001b[39mnot\u001b[39;00m session\u001b[39m.\u001b[39min_transaction\n\u001b[1;32m   1348\u001b[0m )\n\u001b[0;32m-> 1349\u001b[0m \u001b[39mreturn\u001b[39;00m \u001b[39mself\u001b[39;49m\u001b[39m.\u001b[39;49m_retry_internal(retryable, func, session, bulk)\n",
      "File \u001b[0;32m~/.local/lib/python3.8/site-packages/pymongo/_csot.py:105\u001b[0m, in \u001b[0;36mapply.<locals>.csot_wrapper\u001b[0;34m(self, *args, **kwargs)\u001b[0m\n\u001b[1;32m    103\u001b[0m         \u001b[39mwith\u001b[39;00m _TimeoutContext(timeout):\n\u001b[1;32m    104\u001b[0m             \u001b[39mreturn\u001b[39;00m func(\u001b[39mself\u001b[39m, \u001b[39m*\u001b[39margs, \u001b[39m*\u001b[39m\u001b[39m*\u001b[39mkwargs)\n\u001b[0;32m--> 105\u001b[0m \u001b[39mreturn\u001b[39;00m func(\u001b[39mself\u001b[39;49m, \u001b[39m*\u001b[39;49margs, \u001b[39m*\u001b[39;49m\u001b[39m*\u001b[39;49mkwargs)\n",
      "File \u001b[0;32m~/.local/lib/python3.8/site-packages/pymongo/mongo_client.py:1390\u001b[0m, in \u001b[0;36mMongoClient._retry_internal\u001b[0;34m(self, retryable, func, session, bulk)\u001b[0m\n\u001b[1;32m   1388\u001b[0m                 \u001b[39mraise\u001b[39;00m last_error\n\u001b[1;32m   1389\u001b[0m             retryable \u001b[39m=\u001b[39m \u001b[39mFalse\u001b[39;00m\n\u001b[0;32m-> 1390\u001b[0m         \u001b[39mreturn\u001b[39;00m func(session, sock_info, retryable)\n\u001b[1;32m   1391\u001b[0m \u001b[39mexcept\u001b[39;00m ServerSelectionTimeoutError:\n\u001b[1;32m   1392\u001b[0m     \u001b[39mif\u001b[39;00m is_retrying():\n\u001b[1;32m   1393\u001b[0m         \u001b[39m# The application may think the write was never attempted\u001b[39;00m\n\u001b[1;32m   1394\u001b[0m         \u001b[39m# if we raise ServerSelectionTimeoutError on the retry\u001b[39;00m\n\u001b[1;32m   1395\u001b[0m         \u001b[39m# attempt. Raise the original exception instead.\u001b[39;00m\n",
      "File \u001b[0;32m~/.local/lib/python3.8/site-packages/pymongo/collection.py:567\u001b[0m, in \u001b[0;36mCollection._insert_one.<locals>._insert_command\u001b[0;34m(session, sock_info, retryable_write)\u001b[0m\n\u001b[1;32m    555\u001b[0m     command[\u001b[39m\"\u001b[39m\u001b[39mbypassDocumentValidation\u001b[39m\u001b[39m\"\u001b[39m] \u001b[39m=\u001b[39m \u001b[39mTrue\u001b[39;00m\n\u001b[1;32m    557\u001b[0m result \u001b[39m=\u001b[39m sock_info\u001b[39m.\u001b[39mcommand(\n\u001b[1;32m    558\u001b[0m     \u001b[39mself\u001b[39m\u001b[39m.\u001b[39m__database\u001b[39m.\u001b[39mname,\n\u001b[1;32m    559\u001b[0m     command,\n\u001b[0;32m   (...)\u001b[0m\n\u001b[1;32m    564\u001b[0m     retryable_write\u001b[39m=\u001b[39mretryable_write,\n\u001b[1;32m    565\u001b[0m )\n\u001b[0;32m--> 567\u001b[0m _check_write_command_response(result)\n",
      "File \u001b[0;32m~/.local/lib/python3.8/site-packages/pymongo/helpers.py:217\u001b[0m, in \u001b[0;36m_check_write_command_response\u001b[0;34m(result)\u001b[0m\n\u001b[1;32m    215\u001b[0m write_errors \u001b[39m=\u001b[39m result\u001b[39m.\u001b[39mget(\u001b[39m\"\u001b[39m\u001b[39mwriteErrors\u001b[39m\u001b[39m\"\u001b[39m)\n\u001b[1;32m    216\u001b[0m \u001b[39mif\u001b[39;00m write_errors:\n\u001b[0;32m--> 217\u001b[0m     _raise_last_write_error(write_errors)\n\u001b[1;32m    219\u001b[0m wce \u001b[39m=\u001b[39m _get_wce_doc(result)\n\u001b[1;32m    220\u001b[0m \u001b[39mif\u001b[39;00m wce:\n",
      "File \u001b[0;32m~/.local/lib/python3.8/site-packages/pymongo/helpers.py:189\u001b[0m, in \u001b[0;36m_raise_last_write_error\u001b[0;34m(write_errors)\u001b[0m\n\u001b[1;32m    187\u001b[0m error \u001b[39m=\u001b[39m write_errors[\u001b[39m-\u001b[39m\u001b[39m1\u001b[39m]\n\u001b[1;32m    188\u001b[0m \u001b[39mif\u001b[39;00m error\u001b[39m.\u001b[39mget(\u001b[39m\"\u001b[39m\u001b[39mcode\u001b[39m\u001b[39m\"\u001b[39m) \u001b[39m==\u001b[39m \u001b[39m11000\u001b[39m:\n\u001b[0;32m--> 189\u001b[0m     \u001b[39mraise\u001b[39;00m DuplicateKeyError(error\u001b[39m.\u001b[39mget(\u001b[39m\"\u001b[39m\u001b[39merrmsg\u001b[39m\u001b[39m\"\u001b[39m), \u001b[39m11000\u001b[39m, error)\n\u001b[1;32m    190\u001b[0m \u001b[39mraise\u001b[39;00m WriteError(error\u001b[39m.\u001b[39mget(\u001b[39m\"\u001b[39m\u001b[39merrmsg\u001b[39m\u001b[39m\"\u001b[39m), error\u001b[39m.\u001b[39mget(\u001b[39m\"\u001b[39m\u001b[39mcode\u001b[39m\u001b[39m\"\u001b[39m), error)\n",
      "\u001b[0;31mDuplicateKeyError\u001b[0m: E11000 duplicate key error collection: students_details.students index: name_1 dup key: { : \"sanjay\" }, full error: {'index': 0, 'code': 11000, 'errmsg': 'E11000 duplicate key error collection: students_details.students index: name_1 dup key: { : \"sanjay\" }'}"
     ]
    }
   ],
   "source": [
    "db.students.insert_one({\n",
    "  \"name\": \"sanjay\",\n",
    "  \"gender\": \"male\",\n",
    "  \"state\": \"mp\",\n",
    "  \"phy\": 34,\n",
    "  \"maths\": 56,\n",
    "  \"bio\": 89\n",
    "})"
   ]
  },
  {
   "cell_type": "code",
   "execution_count": 276,
   "metadata": {},
   "outputs": [
    {
     "data": {
      "text/plain": [
       "'name_1_state_1'"
      ]
     },
     "execution_count": 276,
     "metadata": {},
     "output_type": "execute_result"
    }
   ],
   "source": [
    "# creating an unique compound index\n",
    "#wont allow same duplicate values in both the fields\n",
    "\n",
    "db.students.create_index([('name',1),('state',1)], unique=True)"
   ]
  },
  {
   "cell_type": "code",
   "execution_count": 277,
   "metadata": {},
   "outputs": [
    {
     "ename": "DuplicateKeyError",
     "evalue": "E11000 duplicate key error collection: students_details.students index: name_1 dup key: { : \"jayesh\" }, full error: {'index': 0, 'code': 11000, 'errmsg': 'E11000 duplicate key error collection: students_details.students index: name_1 dup key: { : \"jayesh\" }'}",
     "output_type": "error",
     "traceback": [
      "\u001b[0;31m---------------------------------------------------------------------------\u001b[0m",
      "\u001b[0;31mDuplicateKeyError\u001b[0m                         Traceback (most recent call last)",
      "Cell \u001b[0;32mIn[277], line 1\u001b[0m\n\u001b[0;32m----> 1\u001b[0m \u001b[43mdb\u001b[49m\u001b[38;5;241;43m.\u001b[39;49m\u001b[43mstudents\u001b[49m\u001b[38;5;241;43m.\u001b[39;49m\u001b[43minsert_one\u001b[49m\u001b[43m(\u001b[49m\u001b[43m{\u001b[49m\u001b[38;5;124;43m\"\u001b[39;49m\u001b[38;5;124;43mname\u001b[39;49m\u001b[38;5;124;43m\"\u001b[39;49m\u001b[43m:\u001b[49m\u001b[43m \u001b[49m\u001b[38;5;124;43m\"\u001b[39;49m\u001b[38;5;124;43mjayesh\u001b[39;49m\u001b[38;5;124;43m\"\u001b[39;49m\u001b[43m,\u001b[49m\n\u001b[1;32m      2\u001b[0m \u001b[43m  \u001b[49m\u001b[38;5;124;43m\"\u001b[39;49m\u001b[38;5;124;43mgender\u001b[39;49m\u001b[38;5;124;43m\"\u001b[39;49m\u001b[43m:\u001b[49m\u001b[43m \u001b[49m\u001b[38;5;124;43m\"\u001b[39;49m\u001b[38;5;124;43mmale\u001b[39;49m\u001b[38;5;124;43m\"\u001b[39;49m\u001b[43m,\u001b[49m\n\u001b[1;32m      3\u001b[0m \u001b[43m  \u001b[49m\u001b[38;5;124;43m\"\u001b[39;49m\u001b[38;5;124;43mstate\u001b[39;49m\u001b[38;5;124;43m\"\u001b[39;49m\u001b[43m:\u001b[49m\u001b[43m \u001b[49m\u001b[38;5;124;43m\"\u001b[39;49m\u001b[38;5;124;43mup\u001b[39;49m\u001b[38;5;124;43m\"\u001b[39;49m\u001b[43m,\u001b[49m\n\u001b[1;32m      4\u001b[0m \u001b[43m  \u001b[49m\u001b[38;5;124;43m\"\u001b[39;49m\u001b[38;5;124;43mphy\u001b[39;49m\u001b[38;5;124;43m\"\u001b[39;49m\u001b[43m:\u001b[49m\u001b[43m \u001b[49m\u001b[38;5;241;43m87\u001b[39;49m\u001b[43m,\u001b[49m\n\u001b[1;32m      5\u001b[0m \u001b[43m  \u001b[49m\u001b[38;5;124;43m\"\u001b[39;49m\u001b[38;5;124;43mmaths\u001b[39;49m\u001b[38;5;124;43m\"\u001b[39;49m\u001b[43m:\u001b[49m\u001b[43m \u001b[49m\u001b[38;5;241;43m88\u001b[39;49m\u001b[43m,\u001b[49m\n\u001b[1;32m      6\u001b[0m \u001b[43m  \u001b[49m\u001b[38;5;124;43m\"\u001b[39;49m\u001b[38;5;124;43mbio\u001b[39;49m\u001b[38;5;124;43m\"\u001b[39;49m\u001b[43m:\u001b[49m\u001b[43m \u001b[49m\u001b[38;5;241;43m32\u001b[39;49m\u001b[43m}\u001b[49m\u001b[43m)\u001b[49m\n",
      "File \u001b[0;32m~/.local/lib/python3.8/site-packages/pymongo/collection.py:628\u001b[0m, in \u001b[0;36mCollection.insert_one\u001b[0;34m(self, document, bypass_document_validation, session, comment)\u001b[0m\n\u001b[1;32m    624\u001b[0m     document[\u001b[39m\"\u001b[39m\u001b[39m_id\u001b[39m\u001b[39m\"\u001b[39m] \u001b[39m=\u001b[39m ObjectId()  \u001b[39m# type: ignore[index]\u001b[39;00m\n\u001b[1;32m    626\u001b[0m write_concern \u001b[39m=\u001b[39m \u001b[39mself\u001b[39m\u001b[39m.\u001b[39m_write_concern_for(session)\n\u001b[1;32m    627\u001b[0m \u001b[39mreturn\u001b[39;00m InsertOneResult(\n\u001b[0;32m--> 628\u001b[0m     \u001b[39mself\u001b[39;49m\u001b[39m.\u001b[39;49m_insert_one(\n\u001b[1;32m    629\u001b[0m         document,\n\u001b[1;32m    630\u001b[0m         ordered\u001b[39m=\u001b[39;49m\u001b[39mTrue\u001b[39;49;00m,\n\u001b[1;32m    631\u001b[0m         write_concern\u001b[39m=\u001b[39;49mwrite_concern,\n\u001b[1;32m    632\u001b[0m         op_id\u001b[39m=\u001b[39;49m\u001b[39mNone\u001b[39;49;00m,\n\u001b[1;32m    633\u001b[0m         bypass_doc_val\u001b[39m=\u001b[39;49mbypass_document_validation,\n\u001b[1;32m    634\u001b[0m         session\u001b[39m=\u001b[39;49msession,\n\u001b[1;32m    635\u001b[0m         comment\u001b[39m=\u001b[39;49mcomment,\n\u001b[1;32m    636\u001b[0m     ),\n\u001b[1;32m    637\u001b[0m     write_concern\u001b[39m.\u001b[39macknowledged,\n\u001b[1;32m    638\u001b[0m )\n",
      "File \u001b[0;32m~/.local/lib/python3.8/site-packages/pymongo/collection.py:569\u001b[0m, in \u001b[0;36mCollection._insert_one\u001b[0;34m(self, doc, ordered, write_concern, op_id, bypass_doc_val, session, comment)\u001b[0m\n\u001b[1;32m    557\u001b[0m     result \u001b[39m=\u001b[39m sock_info\u001b[39m.\u001b[39mcommand(\n\u001b[1;32m    558\u001b[0m         \u001b[39mself\u001b[39m\u001b[39m.\u001b[39m__database\u001b[39m.\u001b[39mname,\n\u001b[1;32m    559\u001b[0m         command,\n\u001b[0;32m   (...)\u001b[0m\n\u001b[1;32m    564\u001b[0m         retryable_write\u001b[39m=\u001b[39mretryable_write,\n\u001b[1;32m    565\u001b[0m     )\n\u001b[1;32m    567\u001b[0m     _check_write_command_response(result)\n\u001b[0;32m--> 569\u001b[0m \u001b[39mself\u001b[39;49m\u001b[39m.\u001b[39;49m__database\u001b[39m.\u001b[39;49mclient\u001b[39m.\u001b[39;49m_retryable_write(acknowledged, _insert_command, session)\n\u001b[1;32m    571\u001b[0m \u001b[39mif\u001b[39;00m \u001b[39mnot\u001b[39;00m \u001b[39misinstance\u001b[39m(doc, RawBSONDocument):\n\u001b[1;32m    572\u001b[0m     \u001b[39mreturn\u001b[39;00m doc\u001b[39m.\u001b[39mget(\u001b[39m\"\u001b[39m\u001b[39m_id\u001b[39m\u001b[39m\"\u001b[39m)\n",
      "File \u001b[0;32m~/.local/lib/python3.8/site-packages/pymongo/mongo_client.py:1476\u001b[0m, in \u001b[0;36mMongoClient._retryable_write\u001b[0;34m(self, retryable, func, session)\u001b[0m\n\u001b[1;32m   1474\u001b[0m \u001b[39m\u001b[39m\u001b[39m\"\"\"Internal retryable write helper.\"\"\"\u001b[39;00m\n\u001b[1;32m   1475\u001b[0m \u001b[39mwith\u001b[39;00m \u001b[39mself\u001b[39m\u001b[39m.\u001b[39m_tmp_session(session) \u001b[39mas\u001b[39;00m s:\n\u001b[0;32m-> 1476\u001b[0m     \u001b[39mreturn\u001b[39;00m \u001b[39mself\u001b[39;49m\u001b[39m.\u001b[39;49m_retry_with_session(retryable, func, s, \u001b[39mNone\u001b[39;49;00m)\n",
      "File \u001b[0;32m~/.local/lib/python3.8/site-packages/pymongo/mongo_client.py:1349\u001b[0m, in \u001b[0;36mMongoClient._retry_with_session\u001b[0;34m(self, retryable, func, session, bulk)\u001b[0m\n\u001b[1;32m   1339\u001b[0m \u001b[39m\u001b[39m\u001b[39m\"\"\"Execute an operation with at most one consecutive retries\u001b[39;00m\n\u001b[1;32m   1340\u001b[0m \n\u001b[1;32m   1341\u001b[0m \u001b[39mReturns func()'s return value on success. On error retries the same\u001b[39;00m\n\u001b[0;32m   (...)\u001b[0m\n\u001b[1;32m   1344\u001b[0m \u001b[39mRe-raises any exception thrown by func().\u001b[39;00m\n\u001b[1;32m   1345\u001b[0m \u001b[39m\"\"\"\u001b[39;00m\n\u001b[1;32m   1346\u001b[0m retryable \u001b[39m=\u001b[39m (\n\u001b[1;32m   1347\u001b[0m     retryable \u001b[39mand\u001b[39;00m \u001b[39mself\u001b[39m\u001b[39m.\u001b[39moptions\u001b[39m.\u001b[39mretry_writes \u001b[39mand\u001b[39;00m session \u001b[39mand\u001b[39;00m \u001b[39mnot\u001b[39;00m session\u001b[39m.\u001b[39min_transaction\n\u001b[1;32m   1348\u001b[0m )\n\u001b[0;32m-> 1349\u001b[0m \u001b[39mreturn\u001b[39;00m \u001b[39mself\u001b[39;49m\u001b[39m.\u001b[39;49m_retry_internal(retryable, func, session, bulk)\n",
      "File \u001b[0;32m~/.local/lib/python3.8/site-packages/pymongo/_csot.py:105\u001b[0m, in \u001b[0;36mapply.<locals>.csot_wrapper\u001b[0;34m(self, *args, **kwargs)\u001b[0m\n\u001b[1;32m    103\u001b[0m         \u001b[39mwith\u001b[39;00m _TimeoutContext(timeout):\n\u001b[1;32m    104\u001b[0m             \u001b[39mreturn\u001b[39;00m func(\u001b[39mself\u001b[39m, \u001b[39m*\u001b[39margs, \u001b[39m*\u001b[39m\u001b[39m*\u001b[39mkwargs)\n\u001b[0;32m--> 105\u001b[0m \u001b[39mreturn\u001b[39;00m func(\u001b[39mself\u001b[39;49m, \u001b[39m*\u001b[39;49margs, \u001b[39m*\u001b[39;49m\u001b[39m*\u001b[39;49mkwargs)\n",
      "File \u001b[0;32m~/.local/lib/python3.8/site-packages/pymongo/mongo_client.py:1390\u001b[0m, in \u001b[0;36mMongoClient._retry_internal\u001b[0;34m(self, retryable, func, session, bulk)\u001b[0m\n\u001b[1;32m   1388\u001b[0m                 \u001b[39mraise\u001b[39;00m last_error\n\u001b[1;32m   1389\u001b[0m             retryable \u001b[39m=\u001b[39m \u001b[39mFalse\u001b[39;00m\n\u001b[0;32m-> 1390\u001b[0m         \u001b[39mreturn\u001b[39;00m func(session, sock_info, retryable)\n\u001b[1;32m   1391\u001b[0m \u001b[39mexcept\u001b[39;00m ServerSelectionTimeoutError:\n\u001b[1;32m   1392\u001b[0m     \u001b[39mif\u001b[39;00m is_retrying():\n\u001b[1;32m   1393\u001b[0m         \u001b[39m# The application may think the write was never attempted\u001b[39;00m\n\u001b[1;32m   1394\u001b[0m         \u001b[39m# if we raise ServerSelectionTimeoutError on the retry\u001b[39;00m\n\u001b[1;32m   1395\u001b[0m         \u001b[39m# attempt. Raise the original exception instead.\u001b[39;00m\n",
      "File \u001b[0;32m~/.local/lib/python3.8/site-packages/pymongo/collection.py:567\u001b[0m, in \u001b[0;36mCollection._insert_one.<locals>._insert_command\u001b[0;34m(session, sock_info, retryable_write)\u001b[0m\n\u001b[1;32m    555\u001b[0m     command[\u001b[39m\"\u001b[39m\u001b[39mbypassDocumentValidation\u001b[39m\u001b[39m\"\u001b[39m] \u001b[39m=\u001b[39m \u001b[39mTrue\u001b[39;00m\n\u001b[1;32m    557\u001b[0m result \u001b[39m=\u001b[39m sock_info\u001b[39m.\u001b[39mcommand(\n\u001b[1;32m    558\u001b[0m     \u001b[39mself\u001b[39m\u001b[39m.\u001b[39m__database\u001b[39m.\u001b[39mname,\n\u001b[1;32m    559\u001b[0m     command,\n\u001b[0;32m   (...)\u001b[0m\n\u001b[1;32m    564\u001b[0m     retryable_write\u001b[39m=\u001b[39mretryable_write,\n\u001b[1;32m    565\u001b[0m )\n\u001b[0;32m--> 567\u001b[0m _check_write_command_response(result)\n",
      "File \u001b[0;32m~/.local/lib/python3.8/site-packages/pymongo/helpers.py:217\u001b[0m, in \u001b[0;36m_check_write_command_response\u001b[0;34m(result)\u001b[0m\n\u001b[1;32m    215\u001b[0m write_errors \u001b[39m=\u001b[39m result\u001b[39m.\u001b[39mget(\u001b[39m\"\u001b[39m\u001b[39mwriteErrors\u001b[39m\u001b[39m\"\u001b[39m)\n\u001b[1;32m    216\u001b[0m \u001b[39mif\u001b[39;00m write_errors:\n\u001b[0;32m--> 217\u001b[0m     _raise_last_write_error(write_errors)\n\u001b[1;32m    219\u001b[0m wce \u001b[39m=\u001b[39m _get_wce_doc(result)\n\u001b[1;32m    220\u001b[0m \u001b[39mif\u001b[39;00m wce:\n",
      "File \u001b[0;32m~/.local/lib/python3.8/site-packages/pymongo/helpers.py:189\u001b[0m, in \u001b[0;36m_raise_last_write_error\u001b[0;34m(write_errors)\u001b[0m\n\u001b[1;32m    187\u001b[0m error \u001b[39m=\u001b[39m write_errors[\u001b[39m-\u001b[39m\u001b[39m1\u001b[39m]\n\u001b[1;32m    188\u001b[0m \u001b[39mif\u001b[39;00m error\u001b[39m.\u001b[39mget(\u001b[39m\"\u001b[39m\u001b[39mcode\u001b[39m\u001b[39m\"\u001b[39m) \u001b[39m==\u001b[39m \u001b[39m11000\u001b[39m:\n\u001b[0;32m--> 189\u001b[0m     \u001b[39mraise\u001b[39;00m DuplicateKeyError(error\u001b[39m.\u001b[39mget(\u001b[39m\"\u001b[39m\u001b[39merrmsg\u001b[39m\u001b[39m\"\u001b[39m), \u001b[39m11000\u001b[39m, error)\n\u001b[1;32m    190\u001b[0m \u001b[39mraise\u001b[39;00m WriteError(error\u001b[39m.\u001b[39mget(\u001b[39m\"\u001b[39m\u001b[39merrmsg\u001b[39m\u001b[39m\"\u001b[39m), error\u001b[39m.\u001b[39mget(\u001b[39m\"\u001b[39m\u001b[39mcode\u001b[39m\u001b[39m\"\u001b[39m), error)\n",
      "\u001b[0;31mDuplicateKeyError\u001b[0m: E11000 duplicate key error collection: students_details.students index: name_1 dup key: { : \"jayesh\" }, full error: {'index': 0, 'code': 11000, 'errmsg': 'E11000 duplicate key error collection: students_details.students index: name_1 dup key: { : \"jayesh\" }'}"
     ]
    }
   ],
   "source": [
    "# Throws an error due to duplicates values along the compound index\n",
    "db.students.insert_one({\"name\": \"jayesh\",\n",
    "  \"gender\": \"male\",\n",
    "  \"state\": \"up\",\n",
    "  \"phy\": 87,\n",
    "  \"maths\": 88,\n",
    "  \"bio\": 32})"
   ]
  },
  {
   "cell_type": "code",
   "execution_count": 336,
   "metadata": {},
   "outputs": [
    {
     "data": {
      "text/plain": [
       "'name_1'"
      ]
     },
     "execution_count": 336,
     "metadata": {},
     "output_type": "execute_result"
    }
   ],
   "source": [
    "# Exists operator \n",
    "db.students.create_index([('name',1)], partialFilterExpression={'state':{'$exists':True}})"
   ]
  },
  {
   "cell_type": "code",
   "execution_count": 337,
   "metadata": {},
   "outputs": [],
   "source": [
    "ip=db.students.find({'name': 'rohan'})"
   ]
  },
  {
   "cell_type": "code",
   "execution_count": 309,
   "metadata": {},
   "outputs": [
    {
     "name": "stdout",
     "output_type": "stream",
     "text": [
      "{'_id': ObjectId('6478d9b8b1e68c5ec7c88b08'), 'name': 'rohan', 'gender': 'male', 'state': 'mh', 'phy': 60, 'maths': 90, 'bio': 68}\n",
      "{'_id': ObjectId('6478d9b8b1e68c5ec7c88b09'), 'name': 'aniket', 'gender': 'male', 'state': 'up', 'phy': 52, 'maths': 85, 'bio': 72}\n",
      "{'_id': ObjectId('6478d9b8b1e68c5ec7c88b0a'), 'name': 'ganesh', 'gender': 'male', 'state': 'up', 'phy': 45, 'maths': 82, 'bio': 78}\n",
      "{'_id': ObjectId('6478d9b8b1e68c5ec7c88b0d'), 'name': 'dinesh', 'gender': 'male', 'state': 'mp', 'phy': 48, 'maths': 34, 'bio': 67}\n",
      "{'_id': ObjectId('6478d9b8b1e68c5ec7c88b0f'), 'name': 'karan', 'gender': 'male', 'state': 'mh', 'phy': 82, 'maths': 78, 'bio': 55}\n",
      "{'_id': ObjectId('6478d9b8b1e68c5ec7c88b10'), 'name': 'jayesh', 'gender': 'male', 'state': 'up', 'phy': 87, 'maths': 88, 'bio': 32}\n",
      "{'_id': ObjectId('6478d9b8b1e68c5ec7c88b11'), 'name': 'mangesh', 'gender': 'male', 'state': 'mp', 'phy': 91, 'maths': 78, 'bio': 82}\n",
      "{'_id': ObjectId('6478d9b8b1e68c5ec7c88b14'), 'name': 'tushar', 'gender': 'male', 'state': 'up', 'phy': 32, 'maths': 92, 'bio': 77}\n",
      "{'_id': ObjectId('6478d9b8b1e68c5ec7c88b15'), 'name': 'binod', 'gender': 'male', 'state': 'mh', 'phy': 95, 'maths': 78, 'bio': 88}\n",
      "{'_id': ObjectId('6478d9b8b1e68c5ec7c88b16'), 'name': 'sanjay', 'gender': 'male', 'state': 'mh', 'phy': 63, 'maths': 90, 'bio': 80}\n"
     ]
    }
   ],
   "source": [
    "for i in ip:\n",
    "    print(i)"
   ]
  },
  {
   "cell_type": "code",
   "execution_count": 338,
   "metadata": {},
   "outputs": [
    {
     "data": {
      "text/plain": [
       "{'queryPlanner': {'plannerVersion': 1,\n",
       "  'namespace': 'students_details.students',\n",
       "  'indexFilterSet': False,\n",
       "  'parsedQuery': {'name': {'$eq': 'rohan'}},\n",
       "  'winningPlan': {'stage': 'COLLSCAN',\n",
       "   'filter': {'name': {'$eq': 'rohan'}},\n",
       "   'direction': 'forward'},\n",
       "  'rejectedPlans': []},\n",
       " 'executionStats': {'executionSuccess': True,\n",
       "  'nReturned': 1,\n",
       "  'executionTimeMillis': 0,\n",
       "  'totalKeysExamined': 0,\n",
       "  'totalDocsExamined': 17,\n",
       "  'executionStages': {'stage': 'COLLSCAN',\n",
       "   'filter': {'name': {'$eq': 'rohan'}},\n",
       "   'nReturned': 1,\n",
       "   'executionTimeMillisEstimate': 0,\n",
       "   'works': 19,\n",
       "   'advanced': 1,\n",
       "   'needTime': 17,\n",
       "   'needYield': 0,\n",
       "   'saveState': 0,\n",
       "   'restoreState': 0,\n",
       "   'isEOF': 1,\n",
       "   'invalidates': 0,\n",
       "   'direction': 'forward',\n",
       "   'docsExamined': 17},\n",
       "  'allPlansExecution': []},\n",
       " 'serverInfo': {'host': 'c2bd1b2ef87e',\n",
       "  'port': 27017,\n",
       "  'version': '3.6.8',\n",
       "  'gitVersion': '8e540c0b6db93ce994cc548f000900bdc740f80a'},\n",
       " 'ok': 1.0}"
      ]
     },
     "execution_count": 338,
     "metadata": {},
     "output_type": "execute_result"
    }
   ],
   "source": [
    "db.students.find({'name': 'rohan'}).explain()"
   ]
  },
  {
   "cell_type": "code",
   "execution_count": 303,
   "metadata": {},
   "outputs": [],
   "source": [
    "ip=db.students.find({'gender':{'$exists':True}})"
   ]
  },
  {
   "cell_type": "code",
   "execution_count": 304,
   "metadata": {},
   "outputs": [
    {
     "name": "stdout",
     "output_type": "stream",
     "text": [
      "{'_id': ObjectId('6478d9b8b1e68c5ec7c88b08'), 'name': 'rohan', 'gender': 'male', 'state': 'mh', 'phy': 60, 'maths': 90, 'bio': 68}\n",
      "{'_id': ObjectId('6478d9b8b1e68c5ec7c88b09'), 'name': 'aniket', 'gender': 'male', 'state': 'up', 'phy': 52, 'maths': 85, 'bio': 72}\n",
      "{'_id': ObjectId('6478d9b8b1e68c5ec7c88b0a'), 'name': 'ganesh', 'gender': 'male', 'state': 'up', 'phy': 45, 'maths': 82, 'bio': 78}\n",
      "{'_id': ObjectId('6478d9b8b1e68c5ec7c88b0b'), 'name': 'meena', 'gender': 'female', 'state': 'mp', 'phy': 72, 'maths': 69, 'bio': 80}\n",
      "{'_id': ObjectId('6478d9b8b1e68c5ec7c88b0c'), 'name': 'seema', 'gender': 'female', 'state': 'mh', 'phy': 68, 'maths': 90, 'bio': 78}\n",
      "{'_id': ObjectId('6478d9b8b1e68c5ec7c88b0d'), 'name': 'dinesh', 'gender': 'male', 'state': 'mp', 'phy': 48, 'maths': 34, 'bio': 67}\n",
      "{'_id': ObjectId('6478d9b8b1e68c5ec7c88b0e'), 'name': 'yogita', 'gender': 'female', 'state': 'mp', 'phy': 39, 'maths': 65, 'bio': 90}\n",
      "{'_id': ObjectId('6478d9b8b1e68c5ec7c88b0f'), 'name': 'karan', 'gender': 'male', 'state': 'mh', 'phy': 82, 'maths': 78, 'bio': 55}\n",
      "{'_id': ObjectId('6478d9b8b1e68c5ec7c88b10'), 'name': 'jayesh', 'gender': 'male', 'state': 'up', 'phy': 87, 'maths': 88, 'bio': 32}\n",
      "{'_id': ObjectId('6478d9b8b1e68c5ec7c88b11'), 'name': 'mangesh', 'gender': 'male', 'state': 'mp', 'phy': 91, 'maths': 78, 'bio': 82}\n",
      "{'_id': ObjectId('6478d9b8b1e68c5ec7c88b12'), 'name': 'geeta', 'gender': 'female', 'state': 'mh', 'phy': 31, 'maths': 58, 'bio': 78}\n",
      "{'_id': ObjectId('6478d9b8b1e68c5ec7c88b13'), 'name': 'runali', 'gender': 'female', 'state': 'up', 'phy': 85, 'maths': 92, 'bio': 66}\n",
      "{'_id': ObjectId('6478d9b8b1e68c5ec7c88b14'), 'name': 'tushar', 'gender': 'male', 'state': 'up', 'phy': 32, 'maths': 92, 'bio': 77}\n",
      "{'_id': ObjectId('6478d9b8b1e68c5ec7c88b15'), 'name': 'binod', 'gender': 'male', 'state': 'mh', 'phy': 95, 'maths': 78, 'bio': 88}\n",
      "{'_id': ObjectId('6478d9b8b1e68c5ec7c88b16'), 'name': 'sanjay', 'gender': 'male', 'state': 'mh', 'phy': 63, 'maths': 90, 'bio': 80}\n",
      "{'_id': ObjectId('6478e7afb1e68c5ec7c88b1a'), 'name': 'preeti', 'gender': 'female'}\n"
     ]
    }
   ],
   "source": [
    "for i in ip:\n",
    "    print(i)"
   ]
  },
  {
   "cell_type": "code",
   "execution_count": 299,
   "metadata": {},
   "outputs": [
    {
     "data": {
      "text/plain": [
       "<pymongo.results.InsertOneResult at 0x7f29152a7c40>"
      ]
     },
     "execution_count": 299,
     "metadata": {},
     "output_type": "execute_result"
    }
   ],
   "source": [
    "db.students.insert_one({\n",
    "    'name':'naman'\n",
    "})\n"
   ]
  },
  {
   "cell_type": "code",
   "execution_count": 302,
   "metadata": {},
   "outputs": [
    {
     "data": {
      "text/plain": [
       "<pymongo.results.InsertOneResult at 0x7f29141f8f70>"
      ]
     },
     "execution_count": 302,
     "metadata": {},
     "output_type": "execute_result"
    }
   ],
   "source": [
    "db.students.insert_one({\n",
    "    'name':'preeti',\n",
    "    'gender':'female'\n",
    "})\n"
   ]
  },
  {
   "cell_type": "code",
   "execution_count": 335,
   "metadata": {},
   "outputs": [
    {
     "data": {
      "text/plain": [
       "{'_id_': {'v': 2, 'key': [('_id', 1)], 'ns': 'students_details.students'}}"
      ]
     },
     "execution_count": 335,
     "metadata": {},
     "output_type": "execute_result"
    }
   ],
   "source": [
    "db.students.index_information()"
   ]
  },
  {
   "cell_type": "code",
   "execution_count": 334,
   "metadata": {},
   "outputs": [],
   "source": [
    "db.students.drop_index('name_1')"
   ]
  },
  {
   "cell_type": "code",
   "execution_count": null,
   "metadata": {},
   "outputs": [],
   "source": [
    "d"
   ]
  }
 ],
 "metadata": {
  "kernelspec": {
   "display_name": "Python 3.8.10 64-bit",
   "language": "python",
   "name": "python3"
  },
  "language_info": {
   "codemirror_mode": {
    "name": "ipython",
    "version": 3
   },
   "file_extension": ".py",
   "mimetype": "text/x-python",
   "name": "python",
   "nbconvert_exporter": "python",
   "pygments_lexer": "ipython3",
   "version": "3.8.10"
  },
  "orig_nbformat": 4,
  "vscode": {
   "interpreter": {
    "hash": "e7370f93d1d0cde622a1f8e1c04877d8463912d04d973331ad4851f04de6915a"
   }
  }
 },
 "nbformat": 4,
 "nbformat_minor": 2
}
