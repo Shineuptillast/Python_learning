{
 "cells": [
  {
   "cell_type": "code",
   "execution_count": 1,
   "id": "ec776b47",
   "metadata": {},
   "outputs": [
    {
     "name": "stdout",
     "output_type": "stream",
     "text": [
      "Program for transferring same named files under the same folder\n",
      "\n",
      "\n",
      "Enter the location where all the files are present-->C:\\\\Users\\\\Naman Jain\\\\Big_data\\\\assignment\n"
     ]
    }
   ],
   "source": [
    "# Modular programming\n",
    "import os\n",
    "import shutil\n",
    "\n",
    "######################################################\n",
    "# Homework of Transferring the files from the common folders to one folder which holds the same name files under a common \n",
    "# directory name\n",
    "\n",
    "#####################################################\n",
    "\n",
    "def extractname(fname):         # Extract the name from the files itself which can be used for the naming of the directory\n",
    "    for i in range(len(fname)): # which holds same files under one hood \n",
    "        if fname[i].isdigit():\n",
    "            if fname[i-1]==\"_\":\n",
    "                return fname[0:i-1]\n",
    "            else :\n",
    "                return fname[0:i]\n",
    "####################################################\n",
    "def Seggregatefiles(path_1):\n",
    "    d={} # dictionary to hold the same folder files under same key name\n",
    "    for i in os.listdir(path_1):                      #  Traversing through all the files under the given directory \n",
    "        if os.path.isdir(path_1 + \"\\\\\" + i): # checking if directory contains another directory ignore it\n",
    "            continue\n",
    "        elif os.path.isfile(path_1 + '\\\\' + i ) and i.endswith(\".ipynb\"): # Ignoring Python File\n",
    "            continue\n",
    "        elif os.path.isfile(path_1 + \"\\\\\" + i ): # can add the extension of the file present or entered by the user\n",
    "            extract_name=extractname(i)\n",
    "            if not extract_name in d.keys():  #    Creating a dictionary of all the files under same folder as key in the dictionary\n",
    "                d[extract_name]=[i]\n",
    "            else:\n",
    "                d[extract_name].append(i)\n",
    "    return d\n",
    "###################################################\n",
    "\n",
    "# Creating respective folders and moving the files into the new location\n",
    "def transferfiles(path_1):\n",
    "    d=Seggregatefiles(path_1)\n",
    "    for key in d.keys():\n",
    "        os.chdir(path_1)\n",
    "        if os.path.isdir(path_1 +\"\\\\\"+ key)!=True:\n",
    "            os.mkdir(key)\n",
    "\n",
    "        os.chdir(path_1 + \"\\\\\" + key)\n",
    "        for l in d[key]:\n",
    "            shutil.move(path_1 + \"\\\\\" +l, path_1 + \"\\\\\" + key)    \n",
    "        \n",
    "\n",
    "######################################################\n",
    "\n",
    "#   Main Block \n",
    "\n",
    "\n",
    "print(\"Program for transferring same named files under the same folder\")\n",
    "print()\n",
    "print()\n",
    "path_1= input(\"Enter the location where all the files are present-->\")\n",
    "\n",
    "transferfiles(path_1)\n",
    "\n",
    "# input C:\\\\Users\\\\Naman Jain\\\\Big_data\\\\assignment\n",
    "\n"
   ]
  },
  {
   "cell_type": "code",
   "execution_count": null,
   "id": "c6c606b5",
   "metadata": {},
   "outputs": [],
   "source": []
  }
 ],
 "metadata": {
  "kernelspec": {
   "display_name": "Python 3",
   "language": "python",
   "name": "python3"
  },
  "language_info": {
   "codemirror_mode": {
    "name": "ipython",
    "version": 3
   },
   "file_extension": ".py",
   "mimetype": "text/x-python",
   "name": "python",
   "nbconvert_exporter": "python",
   "pygments_lexer": "ipython3",
   "version": "3.8.8"
  }
 },
 "nbformat": 4,
 "nbformat_minor": 5
}
