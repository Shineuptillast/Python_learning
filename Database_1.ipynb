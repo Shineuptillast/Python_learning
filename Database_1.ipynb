{
 "cells": [
  {
   "cell_type": "code",
   "execution_count": 1,
   "id": "847a91a7",
   "metadata": {},
   "outputs": [],
   "source": [
    "# connecting to the local Mysql database"
   ]
  },
  {
   "cell_type": "code",
   "execution_count": 2,
   "id": "365a2655",
   "metadata": {},
   "outputs": [
    {
     "name": "stdout",
     "output_type": "stream",
     "text": [
      "Requirement already satisfied: mysql-connector-python in c:\\users\\naman jain\\anaconda3\\lib\\site-packages (8.0.27)Note: you may need to restart the kernel to use updated packages.\n",
      "Requirement already satisfied: protobuf>=3.0.0 in c:\\users\\naman jain\\anaconda3\\lib\\site-packages (from mysql-connector-python) (3.19.1)\n",
      "\n"
     ]
    }
   ],
   "source": [
    "pip install mysql-connector-python"
   ]
  },
  {
   "cell_type": "code",
   "execution_count": null,
   "id": "d10916bb",
   "metadata": {},
   "outputs": [],
   "source": [
    "# Connecting to the database "
   ]
  },
  {
   "cell_type": "code",
   "execution_count": 4,
   "id": "0fe73fbb",
   "metadata": {},
   "outputs": [],
   "source": [
    "import mysql.connector as connection"
   ]
  },
  {
   "cell_type": "code",
   "execution_count": null,
   "id": "61287dc1",
   "metadata": {},
   "outputs": [],
   "source": [
    "\n",
    "try:\n",
    "    mydb = connection.connect(host=\"localhost\",user=\"root\",passwd=\"1234\",use_pure=True) # return an object (which connected to the Mysql\n",
    "    \n",
    "    cursor = mydb.cursor() # create a cursor to execute queries at very first index        \n",
    "    \n",
    "    query = \"show databases\" # checking all the databases available in Mysql\n",
    "    \n",
    "    cursor.execute(query) \n",
    "    \n",
    "    print(cursor.fetchall())\n",
    "\n",
    "except Exception as e:\n",
    "    mydb.close()\n",
    "    \n",
    "    print(str(e))"
   ]
  },
  {
   "cell_type": "code",
   "execution_count": 13,
   "id": "ad1e2958",
   "metadata": {},
   "outputs": [],
   "source": [
    "mydb=connection.connect(host=\"localhost\",user=\"root\",passwd=\"1234\",use_pure=True)"
   ]
  },
  {
   "cell_type": "code",
   "execution_count": 14,
   "id": "c9722461",
   "metadata": {},
   "outputs": [],
   "source": [
    "cursor = mydb.cursor()"
   ]
  },
  {
   "cell_type": "code",
   "execution_count": 15,
   "id": "9c38835d",
   "metadata": {},
   "outputs": [],
   "source": [
    "query = \"show databases\""
   ]
  },
  {
   "cell_type": "code",
   "execution_count": 16,
   "id": "4bb996c3",
   "metadata": {},
   "outputs": [
    {
     "data": {
      "text/plain": [
       "NoneType"
      ]
     },
     "execution_count": 16,
     "metadata": {},
     "output_type": "execute_result"
    }
   ],
   "source": [
    "type(cursor.execute(query))"
   ]
  },
  {
   "cell_type": "code",
   "execution_count": 17,
   "id": "864a64ec",
   "metadata": {
    "scrolled": true
   },
   "outputs": [
    {
     "data": {
      "text/plain": [
       "[('information_schema',),\n",
       " ('mysql',),\n",
       " ('performance_schema',),\n",
       " ('property_sale',),\n",
       " ('sakila',),\n",
       " ('students',),\n",
       " ('sys',),\n",
       " ('world',)]"
      ]
     },
     "execution_count": 17,
     "metadata": {},
     "output_type": "execute_result"
    }
   ],
   "source": [
    "cursor.fetchall()"
   ]
  },
  {
   "cell_type": "code",
   "execution_count": 18,
   "id": "69d9e29d",
   "metadata": {},
   "outputs": [],
   "source": [
    "f=[('information_schema',),\n",
    " ('mysql',),\n",
    " ('performance_schema',),\n",
    " ('property_sale',),\n",
    " ('sakila',),\n",
    " ('students',),\n",
    " ('sys',),\n",
    " ('world',)]"
   ]
  },
  {
   "cell_type": "code",
   "execution_count": 19,
   "id": "81839ac9",
   "metadata": {},
   "outputs": [
    {
     "data": {
      "text/plain": [
       "5"
      ]
     },
     "execution_count": 19,
     "metadata": {},
     "output_type": "execute_result"
    }
   ],
   "source": [
    "f.index(('students',))"
   ]
  },
  {
   "cell_type": "code",
   "execution_count": 20,
   "id": "32b5163a",
   "metadata": {},
   "outputs": [
    {
     "data": {
      "text/plain": [
       "'students'"
      ]
     },
     "execution_count": 20,
     "metadata": {},
     "output_type": "execute_result"
    }
   ],
   "source": [
    "f[5][0]"
   ]
  },
  {
   "cell_type": "code",
   "execution_count": 21,
   "id": "92eceb26",
   "metadata": {},
   "outputs": [
    {
     "name": "stdout",
     "output_type": "stream",
     "text": [
      "[('information_schema',), ('mysql',), ('performance_schema',), ('property_sale',), ('sakila',), ('students',), ('sys',), ('world',)]\n"
     ]
    }
   ],
   "source": [
    "\n",
    "try:\n",
    "    mydb = connection.connect(host=\"localhost\",user=\"root\",passwd=\"1234\",use_pure=True) # return an object (which connected to the Mysql\n",
    "    \n",
    "    cursor = mydb.cursor() # create a cursor to execute queries at very first index        \n",
    "    \n",
    "    query = \"show databases\" # checking all the databases available in Mysql\n",
    "    \n",
    "    cursor.execute(query) \n",
    "    \n",
    "    print(cursor.fetchall())\n",
    "\n",
    "except Exception as e:\n",
    "    mydb.close()\n",
    "    \n",
    "    print(str(e))"
   ]
  },
  {
   "cell_type": "code",
   "execution_count": 22,
   "id": "4827f617",
   "metadata": {},
   "outputs": [],
   "source": [
    "# create database"
   ]
  },
  {
   "cell_type": "code",
   "execution_count": 23,
   "id": "bc175a58",
   "metadata": {},
   "outputs": [
    {
     "name": "stdout",
     "output_type": "stream",
     "text": [
      "Database created\n"
     ]
    }
   ],
   "source": [
    "\n",
    "try:\n",
    "    mydb = connection.connect(host=\"localhost\",user=\"root\",passwd=\"1234\",use_pure=True) # return an object (which connected to the Mysql\n",
    "    \n",
    "    cursor = mydb.cursor() # create a cursor to execute queries at very first index        \n",
    "    \n",
    "    query = \"create database Student1\" # checking all the databases available in Mysql\n",
    "    \n",
    "    cursor.execute(query) \n",
    "    \n",
    "    print(\"Database created\")\n",
    "\n",
    "except Exception as e:\n",
    "    mydb.close()\n",
    "    \n",
    "    print(str(e))"
   ]
  },
  {
   "cell_type": "code",
   "execution_count": 25,
   "id": "26a83332",
   "metadata": {},
   "outputs": [],
   "source": [
    "# Checking for the databases already available"
   ]
  },
  {
   "cell_type": "code",
   "execution_count": 26,
   "id": "4b30ea9d",
   "metadata": {},
   "outputs": [
    {
     "name": "stdout",
     "output_type": "stream",
     "text": [
      "[('information_schema',), ('mysql',), ('performance_schema',), ('property_sale',), ('sakila',), ('student1',), ('students',), ('sys',), ('world',)]\n"
     ]
    }
   ],
   "source": [
    "\n",
    "try:\n",
    "    mydb = connection.connect(host=\"localhost\",user=\"root\",passwd=\"1234\",use_pure=True) # return an object (which connected to the Mysql\n",
    "    \n",
    "    cursor = mydb.cursor() # create a cursor to execute queries at very first index        \n",
    "    \n",
    "    query = \"show databases\" # checking all the databases available in Mysql\n",
    "    \n",
    "    cursor.execute(query) \n",
    "    \n",
    "    print(cursor.fetchall())\n",
    "\n",
    "except Exception as e:\n",
    "    mydb.close()\n",
    "    \n",
    "    print(str(e))"
   ]
  },
  {
   "cell_type": "code",
   "execution_count": 27,
   "id": "67fd273d",
   "metadata": {},
   "outputs": [],
   "source": [
    "# Create a table in the data base"
   ]
  },
  {
   "cell_type": "code",
   "execution_count": 28,
   "id": "f2577d2e",
   "metadata": {},
   "outputs": [
    {
     "name": "stdout",
     "output_type": "stream",
     "text": [
      "Table Created\n"
     ]
    }
   ],
   "source": [
    "\n",
    "try:\n",
    "    mydb = connection.connect(host=\"localhost\",database=\"student1\",user=\"root\",passwd=\"1234\",use_pure=True) # return an object (which connected to the Mysql\n",
    "    \n",
    "    cursor = mydb.cursor() # create a cursor to execute queries at very first index        \n",
    "    \n",
    "    query = \"Create table studentdetails (Studentid INT(10) AUTO_INCREMENT PRIMARY KEY, Firstname VARCHAR(20), Lname VARCHAR(20), RegistrationDate DATE, Section VARCHAR(10))\" # checking all the databases available in Mysql\n",
    "    \n",
    "    cursor.execute(query) \n",
    "    \n",
    "    print(\"Table Created\")\n",
    "    mydb.close()\n",
    "except Exception as e:\n",
    "    mydb.close()\n",
    "    \n",
    "    print(str(e))"
   ]
  },
  {
   "cell_type": "code",
   "execution_count": 30,
   "id": "cd637a3b",
   "metadata": {},
   "outputs": [
    {
     "name": "stdout",
     "output_type": "stream",
     "text": [
      "1050 (42S01): Table 'studentdetails' already exists\n"
     ]
    }
   ],
   "source": [
    "# when table is already present, cant create table with the same name\n",
    "try:\n",
    "    mydb = connection.connect(host=\"localhost\",database=\"student1\",user=\"root\",passwd=\"1234\",use_pure=True) # return an object (which connected to the Mysql\n",
    "    \n",
    "    cursor = mydb.cursor() # create a cursor to execute queries at very first index        \n",
    "    \n",
    "    query = \"Create table studentdetails (Studentid INT(10) AUTO_INCREMENT PRIMARY KEY, Firstname VARCHAR(20), Lname VARCHAR(20), RegistrationDate DATE, Section VARCHAR(10))\" # checking all the databases available in Mysql\n",
    "    \n",
    "    cursor.execute(query) \n",
    "    \n",
    "    print(\"Table Created\")\n",
    "    mydb.close()\n",
    "except Exception as e:\n",
    "    mydb.close()\n",
    "    \n",
    "    print(str(e))"
   ]
  },
  {
   "cell_type": "code",
   "execution_count": null,
   "id": "8ff8ca7c",
   "metadata": {},
   "outputs": [],
   "source": []
  },
  {
   "cell_type": "code",
   "execution_count": 29,
   "id": "889d31a7",
   "metadata": {},
   "outputs": [],
   "source": [
    "# Inserting the data into the table created in the database"
   ]
  },
  {
   "cell_type": "code",
   "execution_count": 101,
   "id": "42e86aad",
   "metadata": {},
   "outputs": [
    {
     "name": "stdout",
     "output_type": "stream",
     "text": [
      "Data Inserted into the table\n"
     ]
    }
   ],
   "source": [
    "\n",
    "try:\n",
    "    mydb = connection.connect(host=\"localhost\",database=\"student1\",user=\"root\",passwd=\"1234\",use_pure=True) # return an object (which connected to the Mysql\n",
    "    \n",
    "    cursor = mydb.cursor() # create a cursor to execute queries at very first index        \n",
    "    \n",
    "    query = \"Insert into studentdetails value (1134,'Schin','Kumar','1997-11-11','Eleventh')\" \n",
    "    \n",
    "    cursor.execute(query) \n",
    "    mydb.commit()\n",
    "    print(\"Data Inserted into the table\")\n",
    "    mydb.close()\n",
    "except Exception as e:\n",
    "    mydb.close()\n",
    "    \n",
    "    print(str(e))"
   ]
  },
  {
   "cell_type": "code",
   "execution_count": 33,
   "id": "10c2d2de",
   "metadata": {},
   "outputs": [],
   "source": [
    "# date format YYYY-MM-DD"
   ]
  },
  {
   "cell_type": "code",
   "execution_count": 34,
   "id": "7f9e43d7",
   "metadata": {},
   "outputs": [],
   "source": [
    "# fetching the data from table"
   ]
  },
  {
   "cell_type": "code",
   "execution_count": 35,
   "id": "7b1849ee",
   "metadata": {},
   "outputs": [
    {
     "name": "stdout",
     "output_type": "stream",
     "text": [
      "[(1132, 'Sachin', 'Kumar', datetime.date(1997, 11, 11), 'Eleventh')]\n"
     ]
    }
   ],
   "source": [
    "\n",
    "try:\n",
    "    mydb = connection.connect(host=\"localhost\",database=\"student1\",user=\"root\",passwd=\"1234\",use_pure=True) # return an object (which connected to the Mysql\n",
    "    \n",
    "    cursor = mydb.cursor() # create a cursor to execute queries at very first index        \n",
    "    \n",
    "    query = \"select * from studentdetails\" \n",
    "    \n",
    "    cursor.execute(query) \n",
    "    \n",
    "    print(cursor.fetchall())\n",
    "    mydb.close()\n",
    "except Exception as e:\n",
    "    mydb.close()\n",
    "    \n",
    "    print(str(e))"
   ]
  },
  {
   "cell_type": "code",
   "execution_count": 72,
   "id": "7ee82d80",
   "metadata": {},
   "outputs": [],
   "source": [
    "import pandas as pd\n",
    "import csv\n",
    "mydb = connection.connect(host=\"localhost\",database=\"student1\",user=\"root\",passwd=\"1234\",use_pure=True)"
   ]
  },
  {
   "cell_type": "code",
   "execution_count": 42,
   "id": "f22e46aa",
   "metadata": {},
   "outputs": [],
   "source": [
    "a=pd.read_sql(\"select * from studentdetails\",mydb)"
   ]
  },
  {
   "cell_type": "code",
   "execution_count": 43,
   "id": "7da383de",
   "metadata": {},
   "outputs": [],
   "source": [
    "a.to_csv(\"mydata.csv\")"
   ]
  },
  {
   "cell_type": "code",
   "execution_count": 73,
   "id": "91e15b3e",
   "metadata": {},
   "outputs": [
    {
     "data": {
      "text/plain": [
       "<mysql.connector.connection.MySQLConnection at 0x1fd22519e50>"
      ]
     },
     "execution_count": 73,
     "metadata": {},
     "output_type": "execute_result"
    }
   ],
   "source": [
    "mydb"
   ]
  },
  {
   "cell_type": "code",
   "execution_count": 82,
   "id": "d6ef077b",
   "metadata": {},
   "outputs": [],
   "source": [
    "cur=mydb.cursor()"
   ]
  },
  {
   "cell_type": "code",
   "execution_count": 87,
   "id": "c7edb155",
   "metadata": {},
   "outputs": [],
   "source": [
    "data =pd.read_csv(\"mydata.csv\")"
   ]
  },
  {
   "cell_type": "code",
   "execution_count": 88,
   "id": "02743cde",
   "metadata": {},
   "outputs": [
    {
     "data": {
      "text/html": [
       "<div>\n",
       "<style scoped>\n",
       "    .dataframe tbody tr th:only-of-type {\n",
       "        vertical-align: middle;\n",
       "    }\n",
       "\n",
       "    .dataframe tbody tr th {\n",
       "        vertical-align: top;\n",
       "    }\n",
       "\n",
       "    .dataframe thead th {\n",
       "        text-align: right;\n",
       "    }\n",
       "</style>\n",
       "<table border=\"1\" class=\"dataframe\">\n",
       "  <thead>\n",
       "    <tr style=\"text-align: right;\">\n",
       "      <th></th>\n",
       "      <th>1</th>\n",
       "      <th>90</th>\n",
       "    </tr>\n",
       "  </thead>\n",
       "  <tbody>\n",
       "    <tr>\n",
       "      <th>0</th>\n",
       "      <td>4</td>\n",
       "      <td>90</td>\n",
       "    </tr>\n",
       "  </tbody>\n",
       "</table>\n",
       "</div>"
      ],
      "text/plain": [
       "   1  90\n",
       "0  4  90"
      ]
     },
     "execution_count": 88,
     "metadata": {},
     "output_type": "execute_result"
    }
   ],
   "source": [
    "data.head()"
   ]
  },
  {
   "cell_type": "code",
   "execution_count": 94,
   "id": "fe34671b",
   "metadata": {},
   "outputs": [
    {
     "name": "stdout",
     "output_type": "stream",
     "text": [
      "<_csv.reader object at 0x000001FD2256E8E0>\n",
      "(0, ['1,90'])\n",
      "1,90\n",
      "(1, ['4,90'])\n",
      "4,90\n",
      "(2, [])\n"
     ]
    }
   ],
   "source": [
    "with open(\"mydata.csv\",\"r\") as f:\n",
    "    data = csv.reader(f, delimiter=\"\\n\")\n",
    "    print(data)\n",
    "    for line in enumerate(data):\n",
    "        print(line)\n",
    "        for list_ in line[1]:\n",
    "            print(list_)\n",
    "            \n",
    "mydb.commit()\n",
    "    "
   ]
  },
  {
   "cell_type": "code",
   "execution_count": 97,
   "id": "142a3d73",
   "metadata": {},
   "outputs": [
    {
     "data": {
      "text/plain": [
       "'hello my name is 1,2,3,\"Naman\"'"
      ]
     },
     "execution_count": 97,
     "metadata": {},
     "output_type": "execute_result"
    }
   ],
   "source": [
    "\"hello my name is {}\".format('1,2,3,\"Naman\"')"
   ]
  },
  {
   "cell_type": "code",
   "execution_count": 103,
   "id": "2bc6fcc6",
   "metadata": {},
   "outputs": [
    {
     "data": {
      "text/plain": [
       "'1,2,3,4'"
      ]
     },
     "execution_count": 103,
     "metadata": {},
     "output_type": "execute_result"
    }
   ],
   "source": [
    "str([\"1,2,3,4\"][0])"
   ]
  },
  {
   "cell_type": "code",
   "execution_count": null,
   "id": "b2e9a7a5",
   "metadata": {},
   "outputs": [],
   "source": []
  }
 ],
 "metadata": {
  "kernelspec": {
   "display_name": "Python 3",
   "language": "python",
   "name": "python3"
  },
  "language_info": {
   "codemirror_mode": {
    "name": "ipython",
    "version": 3
   },
   "file_extension": ".py",
   "mimetype": "text/x-python",
   "name": "python",
   "nbconvert_exporter": "python",
   "pygments_lexer": "ipython3",
   "version": "3.8.8"
  }
 },
 "nbformat": 4,
 "nbformat_minor": 5
}
