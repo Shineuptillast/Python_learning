{
 "cells": [
  {
   "cell_type": "code",
   "execution_count": 1,
   "id": "59603d0a",
   "metadata": {},
   "outputs": [],
   "source": [
    "# connecting to the local Mysql database"
   ]
  },
  {
   "cell_type": "code",
   "execution_count": 2,
   "id": "eeb66674",
   "metadata": {},
   "outputs": [
    {
     "name": "stdout",
     "output_type": "stream",
     "text": [
      "Requirement already satisfied: mysql-connector-python in c:\\users\\naman jain\\anaconda3\\lib\\site-packages (8.0.27)Note: you may need to restart the kernel to use updated packages.\n",
      "Requirement already satisfied: protobuf>=3.0.0 in c:\\users\\naman jain\\anaconda3\\lib\\site-packages (from mysql-connector-python) (3.19.1)\n",
      "\n"
     ]
    }
   ],
   "source": [
    "pip install mysql-connector-python"
   ]
  },
  {
   "cell_type": "code",
   "execution_count": null,
   "id": "6fafca28",
   "metadata": {},
   "outputs": [],
   "source": [
    "# Connecting to the database "
   ]
  },
  {
   "cell_type": "code",
   "execution_count": 4,
   "id": "fbbce0c9",
   "metadata": {},
   "outputs": [],
   "source": [
    "import mysql.connector as connection"
   ]
  },
  {
   "cell_type": "code",
   "execution_count": null,
   "id": "643fc4aa",
   "metadata": {},
   "outputs": [],
   "source": [
    "\n",
    "try:\n",
    "    mydb = connection.connect(host=\"localhost\",user=\"root\",passwd=\"1234\",use_pure=True) # return an object (which connected to the Mysql\n",
    "    \n",
    "    cursor = mydb.cursor() # create a cursor to execute queries at very first index        \n",
    "    \n",
    "    query = \"show databases\" # checking all the databases available in Mysql\n",
    "    \n",
    "    cursor.execute(query) \n",
    "    \n",
    "    print(cursor.fetchall())\n",
    "\n",
    "except Exception as e:\n",
    "    mydb.close()\n",
    "    \n",
    "    print(str(e))"
   ]
  },
  {
   "cell_type": "code",
   "execution_count": 13,
   "id": "de414342",
   "metadata": {},
   "outputs": [],
   "source": [
    "mydb=connection.connect(host=\"localhost\",user=\"root\",passwd=\"1234\",use_pure=True)"
   ]
  },
  {
   "cell_type": "code",
   "execution_count": 14,
   "id": "e3f78f5a",
   "metadata": {},
   "outputs": [],
   "source": [
    "cursor = mydb.cursor()"
   ]
  },
  {
   "cell_type": "code",
   "execution_count": 15,
   "id": "aca5b745",
   "metadata": {},
   "outputs": [],
   "source": [
    "query = \"show databases\""
   ]
  },
  {
   "cell_type": "code",
   "execution_count": 16,
   "id": "a5884582",
   "metadata": {},
   "outputs": [
    {
     "data": {
      "text/plain": [
       "NoneType"
      ]
     },
     "execution_count": 16,
     "metadata": {},
     "output_type": "execute_result"
    }
   ],
   "source": [
    "type(cursor.execute(query))"
   ]
  },
  {
   "cell_type": "code",
   "execution_count": 17,
   "id": "02aa510c",
   "metadata": {
    "scrolled": true
   },
   "outputs": [
    {
     "data": {
      "text/plain": [
       "[('information_schema',),\n",
       " ('mysql',),\n",
       " ('performance_schema',),\n",
       " ('property_sale',),\n",
       " ('sakila',),\n",
       " ('students',),\n",
       " ('sys',),\n",
       " ('world',)]"
      ]
     },
     "execution_count": 17,
     "metadata": {},
     "output_type": "execute_result"
    }
   ],
   "source": [
    "cursor.fetchall()"
   ]
  },
  {
   "cell_type": "code",
   "execution_count": 18,
   "id": "7870ac8f",
   "metadata": {},
   "outputs": [],
   "source": [
    "f=[('information_schema',),\n",
    " ('mysql',),\n",
    " ('performance_schema',),\n",
    " ('property_sale',),\n",
    " ('sakila',),\n",
    " ('students',),\n",
    " ('sys',),\n",
    " ('world',)]"
   ]
  },
  {
   "cell_type": "code",
   "execution_count": 19,
   "id": "e01b7834",
   "metadata": {},
   "outputs": [
    {
     "data": {
      "text/plain": [
       "5"
      ]
     },
     "execution_count": 19,
     "metadata": {},
     "output_type": "execute_result"
    }
   ],
   "source": [
    "f.index(('students',))"
   ]
  },
  {
   "cell_type": "code",
   "execution_count": 20,
   "id": "4d5d9631",
   "metadata": {},
   "outputs": [
    {
     "data": {
      "text/plain": [
       "'students'"
      ]
     },
     "execution_count": 20,
     "metadata": {},
     "output_type": "execute_result"
    }
   ],
   "source": [
    "f[5][0]"
   ]
  },
  {
   "cell_type": "code",
   "execution_count": 21,
   "id": "5137c510",
   "metadata": {},
   "outputs": [
    {
     "name": "stdout",
     "output_type": "stream",
     "text": [
      "[('information_schema',), ('mysql',), ('performance_schema',), ('property_sale',), ('sakila',), ('students',), ('sys',), ('world',)]\n"
     ]
    }
   ],
   "source": [
    "\n",
    "try:\n",
    "    mydb = connection.connect(host=\"localhost\",user=\"root\",passwd=\"1234\",use_pure=True) # return an object (which connected to the Mysql\n",
    "    \n",
    "    cursor = mydb.cursor() # create a cursor to execute queries at very first index        \n",
    "    \n",
    "    query = \"show databases\" # checking all the databases available in Mysql\n",
    "    \n",
    "    cursor.execute(query) \n",
    "    \n",
    "    print(cursor.fetchall())\n",
    "\n",
    "except Exception as e:\n",
    "    mydb.close()\n",
    "    \n",
    "    print(str(e))"
   ]
  },
  {
   "cell_type": "code",
   "execution_count": 22,
   "id": "3e23e2fd",
   "metadata": {},
   "outputs": [],
   "source": [
    "# create database"
   ]
  },
  {
   "cell_type": "code",
   "execution_count": 23,
   "id": "e6f9d245",
   "metadata": {},
   "outputs": [
    {
     "name": "stdout",
     "output_type": "stream",
     "text": [
      "Database created\n"
     ]
    }
   ],
   "source": [
    "\n",
    "try:\n",
    "    mydb = connection.connect(host=\"localhost\",user=\"root\",passwd=\"1234\",use_pure=True) # return an object (which connected to the Mysql\n",
    "    \n",
    "    cursor = mydb.cursor() # create a cursor to execute queries at very first index        \n",
    "    \n",
    "    query = \"create database Student1\" # checking all the databases available in Mysql\n",
    "    \n",
    "    cursor.execute(query) \n",
    "    \n",
    "    print(\"Database created\")\n",
    "\n",
    "except Exception as e:\n",
    "    mydb.close()\n",
    "    \n",
    "    print(str(e))"
   ]
  },
  {
   "cell_type": "code",
   "execution_count": 25,
   "id": "4a8aec7d",
   "metadata": {},
   "outputs": [],
   "source": [
    "# Checking for the databases already available"
   ]
  },
  {
   "cell_type": "code",
   "execution_count": 26,
   "id": "c68949f1",
   "metadata": {},
   "outputs": [
    {
     "name": "stdout",
     "output_type": "stream",
     "text": [
      "[('information_schema',), ('mysql',), ('performance_schema',), ('property_sale',), ('sakila',), ('student1',), ('students',), ('sys',), ('world',)]\n"
     ]
    }
   ],
   "source": [
    "\n",
    "try:\n",
    "    mydb = connection.connect(host=\"localhost\",user=\"root\",passwd=\"1234\",use_pure=True) # return an object (which connected to the Mysql\n",
    "    \n",
    "    cursor = mydb.cursor() # create a cursor to execute queries at very first index        \n",
    "    \n",
    "    query = \"show databases\" # checking all the databases available in Mysql\n",
    "    \n",
    "    cursor.execute(query) \n",
    "    \n",
    "    print(cursor.fetchall())\n",
    "\n",
    "except Exception as e:\n",
    "    mydb.close()\n",
    "    \n",
    "    print(str(e))"
   ]
  },
  {
   "cell_type": "code",
   "execution_count": 27,
   "id": "7787944a",
   "metadata": {},
   "outputs": [],
   "source": [
    "# Create a table in the data base"
   ]
  },
  {
   "cell_type": "code",
   "execution_count": 28,
   "id": "49ab8eeb",
   "metadata": {},
   "outputs": [
    {
     "name": "stdout",
     "output_type": "stream",
     "text": [
      "Table Created\n"
     ]
    }
   ],
   "source": [
    "\n",
    "try:\n",
    "    mydb = connection.connect(host=\"localhost\",database=\"student1\",user=\"root\",passwd=\"1234\",use_pure=True) # return an object (which connected to the Mysql\n",
    "    \n",
    "    cursor = mydb.cursor() # create a cursor to execute queries at very first index        \n",
    "    \n",
    "    query = \"Create table studentdetails (Studentid INT(10) AUTO_INCREMENT PRIMARY KEY, Firstname VARCHAR(20), Lname VARCHAR(20), RegistrationDate DATE, Section VARCHAR(10))\" # checking all the databases available in Mysql\n",
    "    \n",
    "    cursor.execute(query) \n",
    "    \n",
    "    print(\"Table Created\")\n",
    "    mydb.close()\n",
    "except Exception as e:\n",
    "    mydb.close()\n",
    "    \n",
    "    print(str(e))"
   ]
  },
  {
   "cell_type": "code",
   "execution_count": 30,
   "id": "60ed1e50",
   "metadata": {},
   "outputs": [
    {
     "name": "stdout",
     "output_type": "stream",
     "text": [
      "1050 (42S01): Table 'studentdetails' already exists\n"
     ]
    }
   ],
   "source": [
    "# when table is already present, cant create table with the same name\n",
    "try:\n",
    "    mydb = connection.connect(host=\"localhost\",database=\"student1\",user=\"root\",passwd=\"1234\",use_pure=True) # return an object (which connected to the Mysql\n",
    "    \n",
    "    cursor = mydb.cursor() # create a cursor to execute queries at very first index        \n",
    "    \n",
    "    query = \"Create table studentdetails (Studentid INT(10) AUTO_INCREMENT PRIMARY KEY, Firstname VARCHAR(20), Lname VARCHAR(20), RegistrationDate DATE, Section VARCHAR(10))\" # checking all the databases available in Mysql\n",
    "    \n",
    "    cursor.execute(query) \n",
    "    \n",
    "    print(\"Table Created\")\n",
    "    mydb.close()\n",
    "except Exception as e:\n",
    "    mydb.close()\n",
    "    \n",
    "    print(str(e))"
   ]
  },
  {
   "cell_type": "code",
   "execution_count": null,
   "id": "c05eb0de",
   "metadata": {},
   "outputs": [],
   "source": []
  },
  {
   "cell_type": "code",
   "execution_count": 29,
   "id": "87824c46",
   "metadata": {},
   "outputs": [],
   "source": [
    "# Inserting the data into the table created in the database"
   ]
  },
  {
   "cell_type": "code",
   "execution_count": 32,
   "id": "d918cc7f",
   "metadata": {},
   "outputs": [
    {
     "name": "stdout",
     "output_type": "stream",
     "text": [
      "Data Inserted into the table\n"
     ]
    }
   ],
   "source": [
    "\n",
    "try:\n",
    "    mydb = connection.connect(host=\"localhost\",database=\"student1\",user=\"root\",passwd=\"1234\",use_pure=True) # return an object (which connected to the Mysql\n",
    "    \n",
    "    cursor = mydb.cursor() # create a cursor to execute queries at very first index        \n",
    "    \n",
    "    query = \"Insert into studentdetails value ('1132','Sachin','Kumar','1997-11-11','Eleventh')\" \n",
    "    \n",
    "    cursor.execute(query) \n",
    "    mydb.commit()\n",
    "    print(\"Data Inserted into the table\")\n",
    "    mydb.close()\n",
    "except Exception as e:\n",
    "    mydb.close()\n",
    "    \n",
    "    print(str(e))"
   ]
  },
  {
   "cell_type": "code",
   "execution_count": null,
   "id": "9bec945d",
   "metadata": {},
   "outputs": [],
   "source": []
  }
 ],
 "metadata": {
  "kernelspec": {
   "display_name": "Python 3",
   "language": "python",
   "name": "python3"
  },
  "language_info": {
   "codemirror_mode": {
    "name": "ipython",
    "version": 3
   },
   "file_extension": ".py",
   "mimetype": "text/x-python",
   "name": "python",
   "nbconvert_exporter": "python",
   "pygments_lexer": "ipython3",
   "version": "3.8.8"
  }
 },
 "nbformat": 4,
 "nbformat_minor": 5
}
