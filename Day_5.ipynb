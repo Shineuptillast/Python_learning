{
 "cells": [
  {
   "cell_type": "code",
   "execution_count": 3,
   "id": "1d672f0f",
   "metadata": {},
   "outputs": [
    {
     "data": {
      "text/plain": [
       "'1234asj12'"
      ]
     },
     "execution_count": 3,
     "metadata": {},
     "output_type": "execute_result"
    }
   ],
   "source": [
    "\"1234asj\"+\"12\""
   ]
  },
  {
   "cell_type": "code",
   "execution_count": 4,
   "id": "75a00673",
   "metadata": {},
   "outputs": [],
   "source": [
    "l=[57,57,42\n",
    "  \n",
    "  ]"
   ]
  },
  {
   "cell_type": "code",
   "execution_count": 6,
   "id": "2dab39fd",
   "metadata": {},
   "outputs": [
    {
     "data": {
      "text/plain": [
       "True"
      ]
     },
     "execution_count": 6,
     "metadata": {},
     "output_type": "execute_result"
    }
   ],
   "source": [
    "\"__iter__\" in l.__dir__()"
   ]
  },
  {
   "cell_type": "code",
   "execution_count": 7,
   "id": "52bf589a",
   "metadata": {},
   "outputs": [],
   "source": [
    "mystring=\"I'm Awesome\""
   ]
  },
  {
   "cell_type": "code",
   "execution_count": 8,
   "id": "42904760",
   "metadata": {},
   "outputs": [
    {
     "data": {
      "text/plain": [
       "\"I'm Awesome\""
      ]
     },
     "execution_count": 8,
     "metadata": {},
     "output_type": "execute_result"
    }
   ],
   "source": [
    "mystring"
   ]
  },
  {
   "cell_type": "code",
   "execution_count": 17,
   "id": "1d43e4de",
   "metadata": {},
   "outputs": [],
   "source": [
    "mystring='I\\'m Awesome'"
   ]
  },
  {
   "cell_type": "code",
   "execution_count": 10,
   "id": "01e7963e",
   "metadata": {},
   "outputs": [
    {
     "data": {
      "text/plain": [
       "\"I'm Awesome\""
      ]
     },
     "execution_count": 10,
     "metadata": {},
     "output_type": "execute_result"
    }
   ],
   "source": [
    "mystring"
   ]
  },
  {
   "cell_type": "code",
   "execution_count": 11,
   "id": "65b55c09",
   "metadata": {},
   "outputs": [
    {
     "data": {
      "text/plain": [
       "'I\\'m \"Naman\"'"
      ]
     },
     "execution_count": 11,
     "metadata": {},
     "output_type": "execute_result"
    }
   ],
   "source": [
    "\"I'm \\\"Naman\\\"\""
   ]
  },
  {
   "cell_type": "code",
   "execution_count": 12,
   "id": "3b9b0b36",
   "metadata": {},
   "outputs": [
    {
     "data": {
      "text/plain": [
       "\"I'm Naman,\\nI love preeti,\\nand will always do so till my last breath\""
      ]
     },
     "execution_count": 12,
     "metadata": {},
     "output_type": "execute_result"
    }
   ],
   "source": [
    "\"\"\"I'm Naman,\n",
    "I love preeti,\n",
    "and will always do so till my last breath\"\"\""
   ]
  },
  {
   "cell_type": "code",
   "execution_count": 15,
   "id": "11bd2819",
   "metadata": {},
   "outputs": [
    {
     "name": "stdout",
     "output_type": "stream",
     "text": [
      "apple\r",
      "orange\n"
     ]
    }
   ],
   "source": [
    "print(\"apple\\rorange\")"
   ]
  },
  {
   "cell_type": "code",
   "execution_count": 23,
   "id": "30a1aca7",
   "metadata": {},
   "outputs": [
    {
     "name": "stdout",
     "output_type": "stream",
     "text": [
      "I'm Awesoop\n"
     ]
    }
   ],
   "source": [
    "print(mystring.replace(\"me\",\"op\"))"
   ]
  },
  {
   "cell_type": "code",
   "execution_count": 24,
   "id": "f85a7942",
   "metadata": {},
   "outputs": [
    {
     "data": {
      "text/plain": [
       "\"I'm Awesome\""
      ]
     },
     "execution_count": 24,
     "metadata": {},
     "output_type": "execute_result"
    }
   ],
   "source": [
    "mystring"
   ]
  },
  {
   "cell_type": "code",
   "execution_count": 25,
   "id": "d16e33bb",
   "metadata": {},
   "outputs": [
    {
     "name": "stdout",
     "output_type": "stream",
     "text": [
      "hello I'm Awesome\n"
     ]
    }
   ],
   "source": [
    "print(f\"hello {mystring}\")"
   ]
  },
  {
   "cell_type": "code",
   "execution_count": 26,
   "id": "6e68ef85",
   "metadata": {},
   "outputs": [
    {
     "name": "stdout",
     "output_type": "stream",
     "text": [
      "1\n"
     ]
    }
   ],
   "source": [
    "print(1)"
   ]
  },
  {
   "cell_type": "code",
   "execution_count": 27,
   "id": "880b32ea",
   "metadata": {},
   "outputs": [
    {
     "data": {
      "text/plain": [
       "True"
      ]
     },
     "execution_count": 27,
     "metadata": {},
     "output_type": "execute_result"
    }
   ],
   "source": [
    "True>=True"
   ]
  },
  {
   "cell_type": "code",
   "execution_count": 28,
   "id": "18eaf0e6",
   "metadata": {},
   "outputs": [
    {
     "data": {
      "text/plain": [
       "2"
      ]
     },
     "execution_count": 28,
     "metadata": {},
     "output_type": "execute_result"
    }
   ],
   "source": [
    "1 and 2"
   ]
  },
  {
   "cell_type": "code",
   "execution_count": 34,
   "id": "e45c279e",
   "metadata": {},
   "outputs": [
    {
     "data": {
      "text/plain": [
       "78"
      ]
     },
     "execution_count": 34,
     "metadata": {},
     "output_type": "execute_result"
    }
   ],
   "source": [
    "\n",
    "o"
   ]
  },
  {
   "cell_type": "code",
   "execution_count": 35,
   "id": "6be458c2",
   "metadata": {},
   "outputs": [],
   "source": [
    "s=\"naman\""
   ]
  },
  {
   "cell_type": "code",
   "execution_count": 36,
   "id": "ce763a0c",
   "metadata": {},
   "outputs": [],
   "source": [
    "s=\"This is my first string of the first python program, that's why I have been writing this text\""
   ]
  },
  {
   "cell_type": "code",
   "execution_count": 37,
   "id": "e5f8b549",
   "metadata": {},
   "outputs": [
    {
     "data": {
      "text/plain": [
       "\"This is my first string of the first python program, that's why I have been writing this text\""
      ]
     },
     "execution_count": 37,
     "metadata": {},
     "output_type": "execute_result"
    }
   ],
   "source": [
    "s"
   ]
  },
  {
   "cell_type": "code",
   "execution_count": 38,
   "id": "16296e3b",
   "metadata": {},
   "outputs": [
    {
     "ename": "SyntaxError",
     "evalue": "invalid syntax (<ipython-input-38-298da71308b1>, line 1)",
     "output_type": "error",
     "traceback": [
      "\u001b[1;36m  File \u001b[1;32m\"<ipython-input-38-298da71308b1>\"\u001b[1;36m, line \u001b[1;32m1\u001b[0m\n\u001b[1;33m    s='This is my first string of the first python program, that's why I have been writing this text'\u001b[0m\n\u001b[1;37m                                                                 ^\u001b[0m\n\u001b[1;31mSyntaxError\u001b[0m\u001b[1;31m:\u001b[0m invalid syntax\n"
     ]
    }
   ],
   "source": [
    "s='This is my first string of the first python program, that's why I have been writing this text'"
   ]
  },
  {
   "cell_type": "code",
   "execution_count": 39,
   "id": "e93ad004",
   "metadata": {},
   "outputs": [],
   "source": [
    "s=\"this is a python programming\""
   ]
  },
  {
   "cell_type": "code",
   "execution_count": 40,
   "id": "56d44fae",
   "metadata": {},
   "outputs": [
    {
     "data": {
      "text/plain": [
       "'this is a python programming'"
      ]
     },
     "execution_count": 40,
     "metadata": {},
     "output_type": "execute_result"
    }
   ],
   "source": [
    "s"
   ]
  },
  {
   "cell_type": "code",
   "execution_count": 41,
   "id": "9442b5b2",
   "metadata": {},
   "outputs": [
    {
     "data": {
      "text/plain": [
       "'i'"
      ]
     },
     "execution_count": 41,
     "metadata": {},
     "output_type": "execute_result"
    }
   ],
   "source": [
    "s[2]"
   ]
  },
  {
   "cell_type": "code",
   "execution_count": 42,
   "id": "89324cb8",
   "metadata": {},
   "outputs": [
    {
     "data": {
      "text/plain": [
       "'his is'"
      ]
     },
     "execution_count": 42,
     "metadata": {},
     "output_type": "execute_result"
    }
   ],
   "source": [
    "s[1:7]\n"
   ]
  },
  {
   "cell_type": "code",
   "execution_count": 43,
   "id": "72bcfc75",
   "metadata": {},
   "outputs": [
    {
     "data": {
      "text/plain": [
       "'gnimmargorp nohtyp a si siht'"
      ]
     },
     "execution_count": 43,
     "metadata": {},
     "output_type": "execute_result"
    }
   ],
   "source": [
    "s[-1::-1]"
   ]
  },
  {
   "cell_type": "code",
   "execution_count": 44,
   "id": "19e2808e",
   "metadata": {},
   "outputs": [
    {
     "data": {
      "text/plain": [
       "'gmrrnt sst'"
      ]
     },
     "execution_count": 44,
     "metadata": {},
     "output_type": "execute_result"
    }
   ],
   "source": [
    "s[-1::-3]"
   ]
  },
  {
   "cell_type": "code",
   "execution_count": 45,
   "id": "6847a03d",
   "metadata": {},
   "outputs": [
    {
     "data": {
      "text/plain": [
       "'gmony s'"
      ]
     },
     "execution_count": 45,
     "metadata": {},
     "output_type": "execute_result"
    }
   ],
   "source": [
    "s[-1::-4]"
   ]
  },
  {
   "cell_type": "code",
   "execution_count": 46,
   "id": "fb3dd150",
   "metadata": {},
   "outputs": [
    {
     "data": {
      "text/plain": [
       "28"
      ]
     },
     "execution_count": 46,
     "metadata": {},
     "output_type": "execute_result"
    }
   ],
   "source": [
    "len(s)"
   ]
  },
  {
   "cell_type": "code",
   "execution_count": 47,
   "id": "e77e50fb",
   "metadata": {},
   "outputs": [
    {
     "data": {
      "text/plain": [
       "'is is a '"
      ]
     },
     "execution_count": 47,
     "metadata": {},
     "output_type": "execute_result"
    }
   ],
   "source": [
    "s[2:10]"
   ]
  },
  {
   "cell_type": "code",
   "execution_count": 48,
   "id": "b0d68824",
   "metadata": {},
   "outputs": [
    {
     "ename": "ValueError",
     "evalue": "slice step cannot be zero",
     "output_type": "error",
     "traceback": [
      "\u001b[1;31m---------------------------------------------------------------------------\u001b[0m",
      "\u001b[1;31mValueError\u001b[0m                                Traceback (most recent call last)",
      "\u001b[1;32m<ipython-input-48-d9578084bfbf>\u001b[0m in \u001b[0;36m<module>\u001b[1;34m\u001b[0m\n\u001b[1;32m----> 1\u001b[1;33m \u001b[0ms\u001b[0m\u001b[1;33m[\u001b[0m\u001b[1;36m10\u001b[0m\u001b[1;33m:\u001b[0m\u001b[1;36m10\u001b[0m\u001b[1;33m:\u001b[0m\u001b[1;36m0\u001b[0m\u001b[1;33m]\u001b[0m\u001b[1;33m\u001b[0m\u001b[1;33m\u001b[0m\u001b[0m\n\u001b[0m",
      "\u001b[1;31mValueError\u001b[0m: slice step cannot be zero"
     ]
    }
   ],
   "source": [
    "s[10:10:0]"
   ]
  },
  {
   "cell_type": "code",
   "execution_count": 49,
   "id": "f6622110",
   "metadata": {},
   "outputs": [
    {
     "data": {
      "text/plain": [
       "''"
      ]
     },
     "execution_count": 49,
     "metadata": {},
     "output_type": "execute_result"
    }
   ],
   "source": [
    "s[10:10:1]"
   ]
  },
  {
   "cell_type": "code",
   "execution_count": 50,
   "id": "09c51c7e",
   "metadata": {},
   "outputs": [
    {
     "data": {
      "text/plain": [
       "'pt'"
      ]
     },
     "execution_count": 50,
     "metadata": {},
     "output_type": "execute_result"
    }
   ],
   "source": [
    "s[10:14:2]"
   ]
  },
  {
   "cell_type": "code",
   "execution_count": 53,
   "id": "e36d7e11",
   "metadata": {},
   "outputs": [
    {
     "name": "stdout",
     "output_type": "stream",
     "text": [
      "g\n",
      "n\n",
      "i\n",
      "m\n",
      "m\n",
      "a\n",
      "r\n",
      "g\n",
      "o\n",
      "r\n",
      "p\n",
      " \n",
      "n\n",
      "o\n",
      "h\n",
      "t\n",
      "y\n",
      "p\n",
      " \n",
      "a\n",
      " \n",
      "s\n",
      "i\n",
      " \n",
      "s\n",
      "i\n",
      "h\n",
      "t\n"
     ]
    }
   ],
   "source": [
    "for i in s[-1::-1]:\n",
    "    print(i)"
   ]
  },
  {
   "cell_type": "code",
   "execution_count": 55,
   "id": "16e02927",
   "metadata": {},
   "outputs": [
    {
     "name": "stdout",
     "output_type": "stream",
     "text": [
      "t\n",
      "h\n",
      "i\n",
      "s\n",
      " \n",
      "i\n",
      "s\n",
      " \n",
      "a\n",
      " \n",
      "p\n",
      "y\n",
      "t\n",
      "h\n",
      "o\n",
      "n\n",
      " \n",
      "p\n",
      "r\n",
      "o\n",
      "g\n",
      "r\n",
      "a\n",
      "m\n",
      "m\n",
      "i\n",
      "n\n",
      "g\n"
     ]
    }
   ],
   "source": [
    "for i in range(len(s)):\n",
    "    print(s[i])"
   ]
  },
  {
   "cell_type": "code",
   "execution_count": 63,
   "id": "fc4e1629",
   "metadata": {},
   "outputs": [
    {
     "data": {
      "text/plain": [
       "'this is a python progra@@ing'"
      ]
     },
     "execution_count": 63,
     "metadata": {},
     "output_type": "execute_result"
    }
   ],
   "source": [
    "s.replace(\"m\",\"@\")"
   ]
  },
  {
   "cell_type": "code",
   "execution_count": 64,
   "id": "4aa380ae",
   "metadata": {},
   "outputs": [
    {
     "data": {
      "text/plain": [
       "'this is a python programming'"
      ]
     },
     "execution_count": 64,
     "metadata": {},
     "output_type": "execute_result"
    }
   ],
   "source": [
    "s"
   ]
  },
  {
   "cell_type": "code",
   "execution_count": 65,
   "id": "63d2dd9c",
   "metadata": {},
   "outputs": [
    {
     "ename": "TypeError",
     "evalue": "'str' object does not support item assignment",
     "output_type": "error",
     "traceback": [
      "\u001b[1;31m---------------------------------------------------------------------------\u001b[0m",
      "\u001b[1;31mTypeError\u001b[0m                                 Traceback (most recent call last)",
      "\u001b[1;32m<ipython-input-65-345d6915935a>\u001b[0m in \u001b[0;36m<module>\u001b[1;34m\u001b[0m\n\u001b[1;32m----> 1\u001b[1;33m \u001b[0ms\u001b[0m\u001b[1;33m[\u001b[0m\u001b[1;36m0\u001b[0m\u001b[1;33m]\u001b[0m\u001b[1;33m=\u001b[0m\u001b[1;34m\"s\"\u001b[0m\u001b[1;33m\u001b[0m\u001b[1;33m\u001b[0m\u001b[0m\n\u001b[0m",
      "\u001b[1;31mTypeError\u001b[0m: 'str' object does not support item assignment"
     ]
    }
   ],
   "source": [
    "s[0]=\"s\""
   ]
  },
  {
   "cell_type": "code",
   "execution_count": 66,
   "id": "f12327ef",
   "metadata": {},
   "outputs": [
    {
     "data": {
      "text/plain": [
       "'sughahello'"
      ]
     },
     "execution_count": 66,
     "metadata": {},
     "output_type": "execute_result"
    }
   ],
   "source": [
    "\"sugha\"+\"hello\""
   ]
  },
  {
   "cell_type": "code",
   "execution_count": 67,
   "id": "ffb92635",
   "metadata": {},
   "outputs": [
    {
     "ename": "TypeError",
     "evalue": "unsupported operand type(s) for +: 'int' and 'str'",
     "output_type": "error",
     "traceback": [
      "\u001b[1;31m---------------------------------------------------------------------------\u001b[0m",
      "\u001b[1;31mTypeError\u001b[0m                                 Traceback (most recent call last)",
      "\u001b[1;32m<ipython-input-67-645bccc66d54>\u001b[0m in \u001b[0;36m<module>\u001b[1;34m\u001b[0m\n\u001b[1;32m----> 1\u001b[1;33m \u001b[1;36m1\u001b[0m\u001b[1;33m+\u001b[0m\u001b[1;34m\"helllo\"\u001b[0m\u001b[1;33m\u001b[0m\u001b[1;33m\u001b[0m\u001b[0m\n\u001b[0m",
      "\u001b[1;31mTypeError\u001b[0m: unsupported operand type(s) for +: 'int' and 'str'"
     ]
    }
   ],
   "source": [
    "1+\"helllo\""
   ]
  },
  {
   "cell_type": "code",
   "execution_count": 68,
   "id": "c97a9859",
   "metadata": {},
   "outputs": [
    {
     "data": {
      "text/plain": [
       "'12'"
      ]
     },
     "execution_count": 68,
     "metadata": {},
     "output_type": "execute_result"
    }
   ],
   "source": [
    "str(1)+\"2\""
   ]
  },
  {
   "cell_type": "code",
   "execution_count": 69,
   "id": "367c2097",
   "metadata": {},
   "outputs": [
    {
     "data": {
      "text/plain": [
       "\"['123', 1, 1.23]123\""
      ]
     },
     "execution_count": 69,
     "metadata": {},
     "output_type": "execute_result"
    }
   ],
   "source": [
    "str([\"123\",1,1.23]) + \"123\""
   ]
  },
  {
   "cell_type": "code",
   "execution_count": 70,
   "id": "e074bc71",
   "metadata": {},
   "outputs": [
    {
     "data": {
      "text/plain": [
       "'sudhsudhsudhsudhsudhsudhsudhsudhsudhsudhsudhsudhsudhsudhsudhsudhsudhsudhsudhsudhsudhsudhsudhsudhsudhsudhsudhsudhsudhsudhsudhsudhsudhsudhsudhsudhsudhsudhsudhsudhsudhsudhsudhsudhsudhsudhsudhsudhsudhsudhsudhsudhsudhsudhsudhsudhsudhsudhsudhsudhsudhsudhsudhsudhsudhsudhsudhsudhsudhsudhsudhsudhsudhsudhsudhsudhsudhsudhsudhsudhsudhsudhsudhsudhsudhsudhsudhsudhsudhsudhsudhsudhsudhsudhsudhsudhsudhsudh'"
      ]
     },
     "execution_count": 70,
     "metadata": {},
     "output_type": "execute_result"
    }
   ],
   "source": [
    "\"sudh\"*98"
   ]
  },
  {
   "cell_type": "code",
   "execution_count": 100,
   "id": "92d232c3",
   "metadata": {},
   "outputs": [],
   "source": [
    "s=\"my name is \""
   ]
  },
  {
   "cell_type": "code",
   "execution_count": 74,
   "id": "f09b97ea",
   "metadata": {},
   "outputs": [
    {
     "data": {
      "text/plain": [
       "'My name is '"
      ]
     },
     "execution_count": 74,
     "metadata": {},
     "output_type": "execute_result"
    }
   ],
   "source": [
    "s.capitalize()"
   ]
  },
  {
   "cell_type": "code",
   "execution_count": 75,
   "id": "3a719753",
   "metadata": {},
   "outputs": [
    {
     "data": {
      "text/plain": [
       "3"
      ]
     },
     "execution_count": 75,
     "metadata": {},
     "output_type": "execute_result"
    }
   ],
   "source": [
    "s.find(\"na\")"
   ]
  },
  {
   "cell_type": "code",
   "execution_count": 76,
   "id": "22babfdb",
   "metadata": {},
   "outputs": [
    {
     "data": {
      "text/plain": [
       "0"
      ]
     },
     "execution_count": 76,
     "metadata": {},
     "output_type": "execute_result"
    }
   ],
   "source": [
    "s.find(\"m\")"
   ]
  },
  {
   "cell_type": "code",
   "execution_count": 77,
   "id": "85d00eb4",
   "metadata": {},
   "outputs": [
    {
     "data": {
      "text/plain": [
       "-1"
      ]
     },
     "execution_count": 77,
     "metadata": {},
     "output_type": "execute_result"
    }
   ],
   "source": [
    "s.find(\"naman\")"
   ]
  },
  {
   "cell_type": "code",
   "execution_count": 97,
   "id": "a0fb0c3b",
   "metadata": {},
   "outputs": [
    {
     "name": "stdout",
     "output_type": "stream",
     "text": [
      "3\n",
      "4\n",
      "5\n",
      "6\n"
     ]
    }
   ],
   "source": [
    "for i in range(s.find(\"name\"), s.find(\"name\")+len(\"name\")):\n",
    "    print(i)"
   ]
  },
  {
   "cell_type": "code",
   "execution_count": 103,
   "id": "1399ddf5",
   "metadata": {},
   "outputs": [],
   "source": [
    "s=\"My name is sudhanshu kumar, name of org is ineuron\""
   ]
  },
  {
   "cell_type": "code",
   "execution_count": 104,
   "id": "712ca87b",
   "metadata": {},
   "outputs": [
    {
     "data": {
      "text/plain": [
       "3"
      ]
     },
     "execution_count": 104,
     "metadata": {},
     "output_type": "execute_result"
    }
   ],
   "source": [
    "s.find(\"name\")"
   ]
  },
  {
   "cell_type": "code",
   "execution_count": 105,
   "id": "99cb5800",
   "metadata": {},
   "outputs": [
    {
     "data": {
      "text/plain": [
       "3"
      ]
     },
     "execution_count": 105,
     "metadata": {},
     "output_type": "execute_result"
    }
   ],
   "source": [
    "s.count(\"m\")"
   ]
  },
  {
   "cell_type": "code",
   "execution_count": 106,
   "id": "fbf33df5",
   "metadata": {},
   "outputs": [
    {
     "data": {
      "text/plain": [
       "4"
      ]
     },
     "execution_count": 106,
     "metadata": {},
     "output_type": "execute_result"
    }
   ],
   "source": [
    "s.count(\"a\")"
   ]
  },
  {
   "cell_type": "code",
   "execution_count": 108,
   "id": "51cc4a88",
   "metadata": {},
   "outputs": [],
   "source": [
    "l=s.split(\" \")"
   ]
  },
  {
   "cell_type": "code",
   "execution_count": 109,
   "id": "f4b6e890",
   "metadata": {},
   "outputs": [
    {
     "data": {
      "text/plain": [
       "['My',\n",
       " 'name',\n",
       " 'is',\n",
       " 'sudhanshu',\n",
       " 'kumar,',\n",
       " 'name',\n",
       " 'of',\n",
       " 'org',\n",
       " 'is',\n",
       " 'ineuron']"
      ]
     },
     "execution_count": 109,
     "metadata": {},
     "output_type": "execute_result"
    }
   ],
   "source": [
    "l"
   ]
  },
  {
   "cell_type": "code",
   "execution_count": 113,
   "id": "d1c00f06",
   "metadata": {},
   "outputs": [],
   "source": [
    "s=\"Hello, nice to meet you, hope that you are doing good\""
   ]
  },
  {
   "cell_type": "code",
   "execution_count": 114,
   "id": "3d3565d8",
   "metadata": {},
   "outputs": [
    {
     "data": {
      "text/plain": [
       "['Hello', ' nice to meet you', ' hope that you are doing good']"
      ]
     },
     "execution_count": 114,
     "metadata": {},
     "output_type": "execute_result"
    }
   ],
   "source": [
    "s.split(\",\")"
   ]
  },
  {
   "cell_type": "code",
   "execution_count": 115,
   "id": "0c204202",
   "metadata": {},
   "outputs": [
    {
     "data": {
      "text/plain": [
       "['Hello, nice to meet you, hope that you are ', 'oing goo', '']"
      ]
     },
     "execution_count": 115,
     "metadata": {},
     "output_type": "execute_result"
    }
   ],
   "source": [
    "s.split(\"d\")"
   ]
  },
  {
   "cell_type": "code",
   "execution_count": 117,
   "id": "e7217261",
   "metadata": {},
   "outputs": [
    {
     "data": {
      "text/plain": [
       "list"
      ]
     },
     "execution_count": 117,
     "metadata": {},
     "output_type": "execute_result"
    }
   ],
   "source": [
    "type(s.split(\"n\"))"
   ]
  },
  {
   "cell_type": "code",
   "execution_count": 118,
   "id": "bb74c5dd",
   "metadata": {},
   "outputs": [
    {
     "data": {
      "text/plain": [
       "'HELLO, NICE TO MEET YOU, HOPE THAT YOU ARE DOING GOOD'"
      ]
     },
     "execution_count": 118,
     "metadata": {},
     "output_type": "execute_result"
    }
   ],
   "source": [
    "s.upper()"
   ]
  },
  {
   "cell_type": "code",
   "execution_count": 119,
   "id": "a0d30061",
   "metadata": {},
   "outputs": [
    {
     "data": {
      "text/plain": [
       "'hello, nice to meet you, hope that you are doing good'"
      ]
     },
     "execution_count": 119,
     "metadata": {},
     "output_type": "execute_result"
    }
   ],
   "source": [
    "s.lower()"
   ]
  },
  {
   "cell_type": "code",
   "execution_count": 120,
   "id": "9961f714",
   "metadata": {},
   "outputs": [
    {
     "data": {
      "text/plain": [
       "'hELLO, NICE TO MEET YOU, HOPE THAT YOU ARE DOING GOOD'"
      ]
     },
     "execution_count": 120,
     "metadata": {},
     "output_type": "execute_result"
    }
   ],
   "source": [
    "s.swapcase()"
   ]
  },
  {
   "cell_type": "code",
   "execution_count": 122,
   "id": "572debde",
   "metadata": {},
   "outputs": [
    {
     "data": {
      "text/plain": [
       "'H_e_l_l_o_,_ _n_i_c_e_ _t_o_ _m_e_e_t_ _y_o_u_,_ _h_o_p_e_ _t_h_a_t_ _y_o_u_ _a_r_e_ _d_o_i_n_g_ _g_o_o_d'"
      ]
     },
     "execution_count": 122,
     "metadata": {},
     "output_type": "execute_result"
    }
   ],
   "source": [
    "\"_\".join(s)"
   ]
  },
  {
   "cell_type": "code",
   "execution_count": 123,
   "id": "88c63367",
   "metadata": {},
   "outputs": [
    {
     "data": {
      "text/plain": [
       "<reversed at 0x187cee3f310>"
      ]
     },
     "execution_count": 123,
     "metadata": {},
     "output_type": "execute_result"
    }
   ],
   "source": [
    "reversed(s)"
   ]
  },
  {
   "cell_type": "code",
   "execution_count": 124,
   "id": "f3788843",
   "metadata": {},
   "outputs": [
    {
     "data": {
      "text/plain": [
       "['d',\n",
       " 'o',\n",
       " 'o',\n",
       " 'g',\n",
       " ' ',\n",
       " 'g',\n",
       " 'n',\n",
       " 'i',\n",
       " 'o',\n",
       " 'd',\n",
       " ' ',\n",
       " 'e',\n",
       " 'r',\n",
       " 'a',\n",
       " ' ',\n",
       " 'u',\n",
       " 'o',\n",
       " 'y',\n",
       " ' ',\n",
       " 't',\n",
       " 'a',\n",
       " 'h',\n",
       " 't',\n",
       " ' ',\n",
       " 'e',\n",
       " 'p',\n",
       " 'o',\n",
       " 'h',\n",
       " ' ',\n",
       " ',',\n",
       " 'u',\n",
       " 'o',\n",
       " 'y',\n",
       " ' ',\n",
       " 't',\n",
       " 'e',\n",
       " 'e',\n",
       " 'm',\n",
       " ' ',\n",
       " 'o',\n",
       " 't',\n",
       " ' ',\n",
       " 'e',\n",
       " 'c',\n",
       " 'i',\n",
       " 'n',\n",
       " ' ',\n",
       " ',',\n",
       " 'o',\n",
       " 'l',\n",
       " 'l',\n",
       " 'e',\n",
       " 'H']"
      ]
     },
     "execution_count": 124,
     "metadata": {},
     "output_type": "execute_result"
    }
   ],
   "source": [
    "list(reversed(s))"
   ]
  },
  {
   "cell_type": "code",
   "execution_count": 128,
   "id": "642400af",
   "metadata": {},
   "outputs": [
    {
     "name": "stdout",
     "output_type": "stream",
     "text": [
      "d\n",
      "o\n",
      "o\n",
      "g\n",
      " \n",
      "g\n",
      "n\n",
      "i\n",
      "o\n",
      "d\n",
      " \n",
      "e\n",
      "r\n",
      "a\n",
      " \n",
      "u\n",
      "o\n",
      "y\n",
      " \n",
      "t\n",
      "a\n",
      "h\n",
      "t\n",
      " \n",
      "e\n",
      "p\n",
      "o\n",
      "h\n",
      " \n",
      ",\n",
      "u\n",
      "o\n",
      "y\n",
      " \n",
      "t\n",
      "e\n",
      "e\n",
      "m\n",
      " \n",
      "o\n",
      "t\n",
      " \n",
      "e\n",
      "c\n",
      "i\n",
      "n\n",
      " \n",
      ",\n",
      "o\n",
      "l\n",
      "l\n",
      "e\n",
      "H\n"
     ]
    }
   ],
   "source": [
    "for i in reversed(s):\n",
    "    print(i)"
   ]
  },
  {
   "cell_type": "code",
   "execution_count": 129,
   "id": "ccab9272",
   "metadata": {},
   "outputs": [],
   "source": [
    "s=\" sudh \""
   ]
  },
  {
   "cell_type": "code",
   "execution_count": 132,
   "id": "b43ba62a",
   "metadata": {},
   "outputs": [
    {
     "data": {
      "text/plain": [
       "'sudh'"
      ]
     },
     "execution_count": 132,
     "metadata": {},
     "output_type": "execute_result"
    }
   ],
   "source": [
    "s.strip(\" \")"
   ]
  },
  {
   "cell_type": "code",
   "execution_count": 141,
   "id": "99066ce7",
   "metadata": {},
   "outputs": [],
   "source": [
    "s=\" naman hello  \""
   ]
  },
  {
   "cell_type": "code",
   "execution_count": 142,
   "id": "07430c22",
   "metadata": {},
   "outputs": [
    {
     "data": {
      "text/plain": [
       "'naman hello'"
      ]
     },
     "execution_count": 142,
     "metadata": {},
     "output_type": "execute_result"
    }
   ],
   "source": [
    "s.strip(\" \")"
   ]
  },
  {
   "cell_type": "code",
   "execution_count": 143,
   "id": "c3f7e2e4",
   "metadata": {},
   "outputs": [
    {
     "data": {
      "text/plain": [
       "'naman hello  '"
      ]
     },
     "execution_count": 143,
     "metadata": {},
     "output_type": "execute_result"
    }
   ],
   "source": [
    "s.lstrip()"
   ]
  },
  {
   "cell_type": "code",
   "execution_count": 144,
   "id": "9cfcd34b",
   "metadata": {},
   "outputs": [
    {
     "data": {
      "text/plain": [
       "' naman hello'"
      ]
     },
     "execution_count": 144,
     "metadata": {},
     "output_type": "execute_result"
    }
   ],
   "source": [
    "s.rstrip(\" \")"
   ]
  },
  {
   "cell_type": "code",
   "execution_count": 145,
   "id": "ea1ab82f",
   "metadata": {},
   "outputs": [],
   "source": [
    "s=\"greeeting from germany\"\n"
   ]
  },
  {
   "cell_type": "code",
   "execution_count": 146,
   "id": "4cf87db5",
   "metadata": {},
   "outputs": [
    {
     "data": {
      "text/plain": [
       "'2@reeetin2@ from 2@ermany'"
      ]
     },
     "execution_count": 146,
     "metadata": {},
     "output_type": "execute_result"
    }
   ],
   "source": [
    "s.replace(\"g\" , \"2@\")"
   ]
  },
  {
   "cell_type": "code",
   "execution_count": 148,
   "id": "a61361cb",
   "metadata": {},
   "outputs": [
    {
     "data": {
      "text/plain": [
       "'greeeting from manmany'"
      ]
     },
     "execution_count": 148,
     "metadata": {},
     "output_type": "execute_result"
    }
   ],
   "source": [
    "s.replace(\"ger\",\"man\"\n",
    "         )"
   ]
  },
  {
   "cell_type": "code",
   "execution_count": 149,
   "id": "fe65dffc",
   "metadata": {},
   "outputs": [
    {
     "data": {
      "text/plain": [
       "'grppppppting from gpprmany'"
      ]
     },
     "execution_count": 149,
     "metadata": {},
     "output_type": "execute_result"
    }
   ],
   "source": [
    "s.replace(\"e\",\"pp\")"
   ]
  },
  {
   "cell_type": "code",
   "execution_count": 154,
   "id": "7409a14e",
   "metadata": {},
   "outputs": [
    {
     "name": "stdout",
     "output_type": "stream",
     "text": [
      "Hurray\n"
     ]
    }
   ],
   "source": [
    "if isinstance(s,int)==False:\n",
    "    print(\"Hurray\")"
   ]
  },
  {
   "cell_type": "code",
   "execution_count": 155,
   "id": "9d3864e3",
   "metadata": {},
   "outputs": [],
   "source": [
    "s=\"sudh\""
   ]
  },
  {
   "cell_type": "code",
   "execution_count": 156,
   "id": "995cba27",
   "metadata": {},
   "outputs": [
    {
     "data": {
      "text/plain": [
       "'bbbbbbbbsudhbbbbbbbb'"
      ]
     },
     "execution_count": 156,
     "metadata": {},
     "output_type": "execute_result"
    }
   ],
   "source": [
    "s.center(20,'b')"
   ]
  },
  {
   "cell_type": "code",
   "execution_count": 157,
   "id": "99678d23",
   "metadata": {},
   "outputs": [],
   "source": [
    "p=\"upto\""
   ]
  },
  {
   "cell_type": "code",
   "execution_count": 158,
   "id": "bb5a13c2",
   "metadata": {},
   "outputs": [
    {
     "data": {
      "text/plain": [
       "'@@@upto@@@'"
      ]
     },
     "execution_count": 158,
     "metadata": {},
     "output_type": "execute_result"
    }
   ],
   "source": [
    "p.center(10,\"@\")"
   ]
  },
  {
   "cell_type": "code",
   "execution_count": 159,
   "id": "e9e5692d",
   "metadata": {},
   "outputs": [],
   "source": [
    "p=\"Naman\\tJain\""
   ]
  },
  {
   "cell_type": "code",
   "execution_count": 160,
   "id": "3ef8f0a6",
   "metadata": {},
   "outputs": [
    {
     "data": {
      "text/plain": [
       "'Naman\\tJain'"
      ]
     },
     "execution_count": 160,
     "metadata": {},
     "output_type": "execute_result"
    }
   ],
   "source": [
    "p"
   ]
  },
  {
   "cell_type": "code",
   "execution_count": 161,
   "id": "5a69c65a",
   "metadata": {},
   "outputs": [
    {
     "name": "stdout",
     "output_type": "stream",
     "text": [
      "Naman\tJain\n"
     ]
    }
   ],
   "source": [
    "print(p)"
   ]
  },
  {
   "cell_type": "code",
   "execution_count": 162,
   "id": "b3c97d2a",
   "metadata": {},
   "outputs": [],
   "source": [
    "p=\"Naman\\tJain\\tHello\""
   ]
  },
  {
   "cell_type": "code",
   "execution_count": 163,
   "id": "dde96d07",
   "metadata": {},
   "outputs": [
    {
     "data": {
      "text/plain": [
       "'Naman   Jain    Hello'"
      ]
     },
     "execution_count": 163,
     "metadata": {},
     "output_type": "execute_result"
    }
   ],
   "source": [
    "p.expandtabs()"
   ]
  },
  {
   "cell_type": "code",
   "execution_count": null,
   "id": "f6072837",
   "metadata": {},
   "outputs": [],
   "source": [
    "## String inbuilt functions"
   ]
  },
  {
   "cell_type": "code",
   "execution_count": 173,
   "id": "ab212a6f",
   "metadata": {},
   "outputs": [],
   "source": [
    "# String\n",
    "a=\"We all are a part of this Beautiful World\""
   ]
  },
  {
   "cell_type": "code",
   "execution_count": 174,
   "id": "50c368f0",
   "metadata": {},
   "outputs": [],
   "source": [
    "# Converting to a lower case"
   ]
  },
  {
   "cell_type": "code",
   "execution_count": 168,
   "id": "9c9181f1",
   "metadata": {},
   "outputs": [],
   "source": [
    "b=a.lower()"
   ]
  },
  {
   "cell_type": "code",
   "execution_count": 169,
   "id": "1f821a1b",
   "metadata": {},
   "outputs": [
    {
     "data": {
      "text/plain": [
       "'we all are a part of this beautiful world'"
      ]
     },
     "execution_count": 169,
     "metadata": {},
     "output_type": "execute_result"
    }
   ],
   "source": [
    "b"
   ]
  },
  {
   "cell_type": "code",
   "execution_count": 170,
   "id": "9863ce44",
   "metadata": {},
   "outputs": [],
   "source": [
    "# Occurences of character 'a' in the entire string"
   ]
  },
  {
   "cell_type": "code",
   "execution_count": 171,
   "id": "9407df21",
   "metadata": {},
   "outputs": [
    {
     "data": {
      "text/plain": [
       "5"
      ]
     },
     "execution_count": 171,
     "metadata": {},
     "output_type": "execute_result"
    }
   ],
   "source": [
    "b.count(\"a\")"
   ]
  },
  {
   "cell_type": "code",
   "execution_count": null,
   "id": "4483b00c",
   "metadata": {},
   "outputs": [],
   "source": [
    "# finding the index of all the 'a' in string"
   ]
  },
  {
   "cell_type": "code",
   "execution_count": 183,
   "id": "16de4a94",
   "metadata": {},
   "outputs": [
    {
     "name": "stdout",
     "output_type": "stream",
     "text": [
      "3\n",
      "7\n",
      "11\n",
      "14\n",
      "28\n"
     ]
    }
   ],
   "source": [
    "for i in range(len(b)):\n",
    "    if b[i]==\"a\":\n",
    "        print(i)"
   ]
  },
  {
   "cell_type": "code",
   "execution_count": null,
   "id": "3a310de9",
   "metadata": {},
   "outputs": [],
   "source": [
    "# Replacing char 'a' with '@'"
   ]
  },
  {
   "cell_type": "code",
   "execution_count": 175,
   "id": "7011a9cc",
   "metadata": {},
   "outputs": [
    {
     "data": {
      "text/plain": [
       "'we @ll @re @ p@rt of this be@utiful world'"
      ]
     },
     "execution_count": 175,
     "metadata": {},
     "output_type": "execute_result"
    }
   ],
   "source": [
    "b.replace(\"a\",\"@\")"
   ]
  },
  {
   "cell_type": "code",
   "execution_count": 178,
   "id": "662eb977",
   "metadata": {},
   "outputs": [],
   "source": [
    "# Converting string into a list of words"
   ]
  },
  {
   "cell_type": "code",
   "execution_count": 179,
   "id": "6c0c8dcd",
   "metadata": {},
   "outputs": [],
   "source": [
    "s=b.split(\" \")"
   ]
  },
  {
   "cell_type": "code",
   "execution_count": 180,
   "id": "67689925",
   "metadata": {},
   "outputs": [
    {
     "name": "stdout",
     "output_type": "stream",
     "text": [
      "['we', 'all', 'are', 'a', 'part', 'of', 'this', 'beautiful', 'world']\n"
     ]
    }
   ],
   "source": [
    "print(s)"
   ]
  },
  {
   "cell_type": "code",
   "execution_count": 184,
   "id": "6aba9ac1",
   "metadata": {},
   "outputs": [],
   "source": [
    "s=\"naman\""
   ]
  },
  {
   "cell_type": "code",
   "execution_count": 185,
   "id": "b62d256a",
   "metadata": {},
   "outputs": [
    {
     "data": {
      "text/plain": [
       "False"
      ]
     },
     "execution_count": 185,
     "metadata": {},
     "output_type": "execute_result"
    }
   ],
   "source": [
    "s.isupper()"
   ]
  },
  {
   "cell_type": "code",
   "execution_count": 186,
   "id": "c3973ba9",
   "metadata": {},
   "outputs": [
    {
     "data": {
      "text/plain": [
       "True"
      ]
     },
     "execution_count": 186,
     "metadata": {},
     "output_type": "execute_result"
    }
   ],
   "source": [
    "s.islower()"
   ]
  },
  {
   "cell_type": "code",
   "execution_count": 187,
   "id": "91cfb6a5",
   "metadata": {},
   "outputs": [
    {
     "data": {
      "text/plain": [
       "True"
      ]
     },
     "execution_count": 187,
     "metadata": {},
     "output_type": "execute_result"
    }
   ],
   "source": [
    "s.isalnum()"
   ]
  },
  {
   "cell_type": "code",
   "execution_count": 188,
   "id": "1571c896",
   "metadata": {},
   "outputs": [
    {
     "data": {
      "text/plain": [
       "True"
      ]
     },
     "execution_count": 188,
     "metadata": {},
     "output_type": "execute_result"
    }
   ],
   "source": [
    "s.isprintable()"
   ]
  },
  {
   "cell_type": "code",
   "execution_count": 189,
   "id": "9bf5bd39",
   "metadata": {},
   "outputs": [],
   "source": [
    "s=\"Naman\""
   ]
  },
  {
   "cell_type": "code",
   "execution_count": 190,
   "id": "64d4ace5",
   "metadata": {},
   "outputs": [
    {
     "data": {
      "text/plain": [
       "False"
      ]
     },
     "execution_count": 190,
     "metadata": {},
     "output_type": "execute_result"
    }
   ],
   "source": [
    "s.islower()"
   ]
  },
  {
   "cell_type": "code",
   "execution_count": 191,
   "id": "1ab8881b",
   "metadata": {},
   "outputs": [
    {
     "data": {
      "text/plain": [
       "False"
      ]
     },
     "execution_count": 191,
     "metadata": {},
     "output_type": "execute_result"
    }
   ],
   "source": [
    "s.isspace()"
   ]
  },
  {
   "cell_type": "code",
   "execution_count": 203,
   "id": "253876bd",
   "metadata": {},
   "outputs": [],
   "source": [
    "s=\"Naman Jain\""
   ]
  },
  {
   "cell_type": "code",
   "execution_count": 193,
   "id": "ae5ee8d0",
   "metadata": {},
   "outputs": [
    {
     "data": {
      "text/plain": [
       "False"
      ]
     },
     "execution_count": 193,
     "metadata": {},
     "output_type": "execute_result"
    }
   ],
   "source": [
    "s.isspace()"
   ]
  },
  {
   "cell_type": "code",
   "execution_count": 194,
   "id": "c9b43538",
   "metadata": {},
   "outputs": [],
   "source": [
    "s=\"123\""
   ]
  },
  {
   "cell_type": "code",
   "execution_count": 195,
   "id": "d79c6a23",
   "metadata": {},
   "outputs": [
    {
     "data": {
      "text/plain": [
       "True"
      ]
     },
     "execution_count": 195,
     "metadata": {},
     "output_type": "execute_result"
    }
   ],
   "source": [
    "s.isdigit()"
   ]
  },
  {
   "cell_type": "code",
   "execution_count": 196,
   "id": "834c85ee",
   "metadata": {},
   "outputs": [
    {
     "data": {
      "text/plain": [
       "False"
      ]
     },
     "execution_count": 196,
     "metadata": {},
     "output_type": "execute_result"
    }
   ],
   "source": [
    "s.endswith(\"a\")"
   ]
  },
  {
   "cell_type": "code",
   "execution_count": 200,
   "id": "a0f4be7a",
   "metadata": {},
   "outputs": [
    {
     "data": {
      "text/plain": [
       "True"
      ]
     },
     "execution_count": 200,
     "metadata": {},
     "output_type": "execute_result"
    }
   ],
   "source": [
    "s.startswith(\"1\")"
   ]
  },
  {
   "cell_type": "code",
   "execution_count": 201,
   "id": "b0a09cfc",
   "metadata": {},
   "outputs": [
    {
     "data": {
      "text/plain": [
       "True"
      ]
     },
     "execution_count": 201,
     "metadata": {},
     "output_type": "execute_result"
    }
   ],
   "source": [
    "s.isalnum()"
   ]
  },
  {
   "cell_type": "code",
   "execution_count": 204,
   "id": "1848f15b",
   "metadata": {},
   "outputs": [
    {
     "data": {
      "text/plain": [
       "True"
      ]
     },
     "execution_count": 204,
     "metadata": {},
     "output_type": "execute_result"
    }
   ],
   "source": [
    "s.istitle()"
   ]
  },
  {
   "cell_type": "code",
   "execution_count": 205,
   "id": "4c94abaa",
   "metadata": {},
   "outputs": [],
   "source": [
    "s=\"this is the damn world\""
   ]
  },
  {
   "cell_type": "code",
   "execution_count": 206,
   "id": "7e10086c",
   "metadata": {},
   "outputs": [
    {
     "name": "stdout",
     "output_type": "stream",
     "text": [
      "22\n"
     ]
    }
   ],
   "source": [
    "count=0\n",
    "for i in s:\n",
    "    count+=1\n",
    "print(count)"
   ]
  },
  {
   "cell_type": "code",
   "execution_count": 207,
   "id": "f668b91c",
   "metadata": {},
   "outputs": [
    {
     "data": {
      "text/plain": [
       "22"
      ]
     },
     "execution_count": 207,
     "metadata": {},
     "output_type": "execute_result"
    }
   ],
   "source": [
    "len(s)"
   ]
  },
  {
   "cell_type": "code",
   "execution_count": 211,
   "id": "71a14fa1",
   "metadata": {},
   "outputs": [
    {
     "name": "stdout",
     "output_type": "stream",
     "text": [
      "d\n",
      "l\n",
      "r\n",
      "o\n",
      "w\n",
      " \n",
      "n\n",
      "m\n",
      "a\n",
      "d\n",
      " \n",
      "e\n",
      "h\n",
      "t\n",
      " \n",
      "s\n",
      "i\n",
      " \n",
      "s\n",
      "i\n",
      "h\n"
     ]
    }
   ],
   "source": [
    "for i in range(1,len(s)):\n",
    "    print(s[-i])"
   ]
  },
  {
   "cell_type": "code",
   "execution_count": 215,
   "id": "4f365814",
   "metadata": {},
   "outputs": [
    {
     "name": "stdout",
     "output_type": "stream",
     "text": [
      "d\n",
      "l\n",
      "r\n",
      "o\n",
      "w\n",
      " \n",
      "n\n",
      "m\n",
      "a\n",
      "d\n",
      " \n",
      "e\n",
      "h\n",
      "t\n",
      " \n",
      "s\n",
      "i\n",
      " \n",
      "s\n",
      "i\n",
      "h\n",
      "t\n"
     ]
    }
   ],
   "source": [
    "i=1\n",
    "while( i<=len(s)):\n",
    "    print(s[-i])\n",
    "    i+=1"
   ]
  },
  {
   "cell_type": "code",
   "execution_count": 219,
   "id": "dc514281",
   "metadata": {},
   "outputs": [],
   "source": [
    "name=\"Tejal Jain\"\n",
    "vowels=\"Aaeioua\""
   ]
  },
  {
   "cell_type": "code",
   "execution_count": 223,
   "id": "e9d1f63e",
   "metadata": {},
   "outputs": [
    {
     "name": "stdout",
     "output_type": "stream",
     "text": [
      "T is not a vowel.\n",
      "e is a vowel\n",
      "j is not a vowel.\n",
      "a is a vowel\n",
      "l is not a vowel.\n",
      "  is not a vowel.\n",
      "J is not a vowel.\n",
      "a is a vowel\n",
      "i is a vowel\n",
      "n is not a vowel.\n"
     ]
    }
   ],
   "source": [
    "for i in name:\n",
    "    if i in vowels:\n",
    "        print(\"{} is a vowel\".format(i))\n",
    "    else:\n",
    "        print(\"{} is not a vowel.\".format(i))"
   ]
  },
  {
   "cell_type": "code",
   "execution_count": 224,
   "id": "f8145c69",
   "metadata": {},
   "outputs": [
    {
     "name": "stdout",
     "output_type": "stream",
     "text": [
      "my name is naman\n"
     ]
    }
   ],
   "source": [
    "print(\"{} name {} naman\".format(\"my\",\"is\"))"
   ]
  },
  {
   "cell_type": "code",
   "execution_count": 225,
   "id": "d4251930",
   "metadata": {},
   "outputs": [],
   "source": [
    "a=\"xyx\""
   ]
  },
  {
   "cell_type": "code",
   "execution_count": 226,
   "id": "d713fd43",
   "metadata": {},
   "outputs": [],
   "source": [
    "b=2002"
   ]
  },
  {
   "cell_type": "code",
   "execution_count": 227,
   "id": "c6e8d9a1",
   "metadata": {},
   "outputs": [],
   "source": [
    "c=\"eye\""
   ]
  },
  {
   "cell_type": "code",
   "execution_count": 228,
   "id": "c48f01eb",
   "metadata": {},
   "outputs": [],
   "source": [
    "d=\"nitin\""
   ]
  },
  {
   "cell_type": "code",
   "execution_count": 229,
   "id": "7d670276",
   "metadata": {},
   "outputs": [
    {
     "data": {
      "text/plain": [
       "'nitin'"
      ]
     },
     "execution_count": 229,
     "metadata": {},
     "output_type": "execute_result"
    }
   ],
   "source": [
    "d"
   ]
  },
  {
   "cell_type": "code",
   "execution_count": 230,
   "id": "45f0c1ed",
   "metadata": {},
   "outputs": [
    {
     "data": {
      "text/plain": [
       "'eye'"
      ]
     },
     "execution_count": 230,
     "metadata": {},
     "output_type": "execute_result"
    }
   ],
   "source": [
    "c"
   ]
  },
  {
   "cell_type": "code",
   "execution_count": 231,
   "id": "d5ae5a3b",
   "metadata": {},
   "outputs": [
    {
     "data": {
      "text/plain": [
       "2002"
      ]
     },
     "execution_count": 231,
     "metadata": {},
     "output_type": "execute_result"
    }
   ],
   "source": [
    "b"
   ]
  },
  {
   "cell_type": "code",
   "execution_count": 232,
   "id": "cb98fc4f",
   "metadata": {},
   "outputs": [
    {
     "data": {
      "text/plain": [
       "'xyx'"
      ]
     },
     "execution_count": 232,
     "metadata": {},
     "output_type": "execute_result"
    }
   ],
   "source": [
    "a"
   ]
  },
  {
   "cell_type": "code",
   "execution_count": 237,
   "id": "232d2e54",
   "metadata": {},
   "outputs": [
    {
     "name": "stdout",
     "output_type": "stream",
     "text": [
      "Enter a data for which you would like to check palindrome-->Tejal\n",
      "Not palindrome\n"
     ]
    }
   ],
   "source": [
    "s = input(\"Enter a data for which you would like to check palindrome-->\")\n",
    "s1=s[-1::-1]\n",
    "if s1==s:\n",
    "    print(\"Palindrome\")\n",
    "else:\n",
    "    print(\"Not palindrome\")"
   ]
  },
  {
   "cell_type": "code",
   "execution_count": 239,
   "id": "f8317384",
   "metadata": {},
   "outputs": [],
   "source": [
    "## List Manipulation"
   ]
  },
  {
   "cell_type": "code",
   "execution_count": 240,
   "id": "005741e6",
   "metadata": {},
   "outputs": [],
   "source": [
    "l=[\"naman\",\"ray\",\"preeti\",90,1.23,12,[1,2,3,4]]"
   ]
  },
  {
   "cell_type": "code",
   "execution_count": 242,
   "id": "c79f7b77",
   "metadata": {},
   "outputs": [
    {
     "data": {
      "text/plain": [
       "['naman', 'ray', 'preeti', 90, 1.23, 12, [1, 2, 3, 4]]"
      ]
     },
     "execution_count": 242,
     "metadata": {},
     "output_type": "execute_result"
    }
   ],
   "source": [
    "l"
   ]
  },
  {
   "cell_type": "code",
   "execution_count": 244,
   "id": "a71859f5",
   "metadata": {},
   "outputs": [
    {
     "data": {
      "text/plain": [
       "[1, 2, 3, 4]"
      ]
     },
     "execution_count": 244,
     "metadata": {},
     "output_type": "execute_result"
    }
   ],
   "source": [
    "l[6]"
   ]
  },
  {
   "cell_type": "code",
   "execution_count": 245,
   "id": "eded3b21",
   "metadata": {},
   "outputs": [
    {
     "data": {
      "text/plain": [
       "2"
      ]
     },
     "execution_count": 245,
     "metadata": {},
     "output_type": "execute_result"
    }
   ],
   "source": [
    "l[6][1]"
   ]
  },
  {
   "cell_type": "code",
   "execution_count": 246,
   "id": "9f77093a",
   "metadata": {},
   "outputs": [
    {
     "data": {
      "text/plain": [
       "[[1, 2, 3, 4], 12, 1.23, 90, 'preeti', 'ray', 'naman']"
      ]
     },
     "execution_count": 246,
     "metadata": {},
     "output_type": "execute_result"
    }
   ],
   "source": [
    "l[-1::-1]"
   ]
  },
  {
   "cell_type": "code",
   "execution_count": 247,
   "id": "8f7cb18a",
   "metadata": {},
   "outputs": [
    {
     "data": {
      "text/plain": [
       "['ray']"
      ]
     },
     "execution_count": 247,
     "metadata": {},
     "output_type": "execute_result"
    }
   ],
   "source": [
    "l[1:3:2]"
   ]
  },
  {
   "cell_type": "code",
   "execution_count": 251,
   "id": "b9570185",
   "metadata": {},
   "outputs": [],
   "source": [
    "s=\"sudh\""
   ]
  },
  {
   "cell_type": "code",
   "execution_count": 253,
   "id": "8e17ffc6",
   "metadata": {},
   "outputs": [
    {
     "data": {
      "text/plain": [
       "['naman', 'ray', 'preeti', 90, 1.23, 12, [1, 2, 3, 4], 's', 'u', 'd', 'h']"
      ]
     },
     "execution_count": 253,
     "metadata": {},
     "output_type": "execute_result"
    }
   ],
   "source": [
    "l+list(s)"
   ]
  },
  {
   "cell_type": "code",
   "execution_count": 254,
   "id": "f4b7b658",
   "metadata": {},
   "outputs": [
    {
     "data": {
      "text/plain": [
       "['s', 'u', 'd', 'h']"
      ]
     },
     "execution_count": 254,
     "metadata": {},
     "output_type": "execute_result"
    }
   ],
   "source": [
    "list(s)"
   ]
  },
  {
   "cell_type": "code",
   "execution_count": 255,
   "id": "dcf75ed0",
   "metadata": {},
   "outputs": [],
   "source": [
    "s=[\"sudh\"]"
   ]
  },
  {
   "cell_type": "code",
   "execution_count": 256,
   "id": "216301b4",
   "metadata": {},
   "outputs": [
    {
     "data": {
      "text/plain": [
       "['naman', 'ray', 'preeti', 90, 1.23, 12, [1, 2, 3, 4], 'sudh']"
      ]
     },
     "execution_count": 256,
     "metadata": {},
     "output_type": "execute_result"
    }
   ],
   "source": [
    "l+s"
   ]
  },
  {
   "cell_type": "code",
   "execution_count": 257,
   "id": "eec8bd72",
   "metadata": {},
   "outputs": [],
   "source": [
    "l.append(\"sudh\")"
   ]
  },
  {
   "cell_type": "code",
   "execution_count": 258,
   "id": "d7493cc1",
   "metadata": {},
   "outputs": [
    {
     "data": {
      "text/plain": [
       "['naman', 'ray', 'preeti', 90, 1.23, 12, [1, 2, 3, 4], 'sudh']"
      ]
     },
     "execution_count": 258,
     "metadata": {},
     "output_type": "execute_result"
    }
   ],
   "source": [
    "l"
   ]
  },
  {
   "cell_type": "code",
   "execution_count": 259,
   "id": "b9711406",
   "metadata": {},
   "outputs": [
    {
     "data": {
      "text/plain": [
       "['naman',\n",
       " 'ray',\n",
       " 'preeti',\n",
       " 90,\n",
       " 1.23,\n",
       " 12,\n",
       " [1, 2, 3, 4],\n",
       " 'sudh',\n",
       " 'naman',\n",
       " 'ray',\n",
       " 'preeti',\n",
       " 90,\n",
       " 1.23,\n",
       " 12,\n",
       " [1, 2, 3, 4],\n",
       " 'sudh',\n",
       " 'naman',\n",
       " 'ray',\n",
       " 'preeti',\n",
       " 90,\n",
       " 1.23,\n",
       " 12,\n",
       " [1, 2, 3, 4],\n",
       " 'sudh',\n",
       " 'naman',\n",
       " 'ray',\n",
       " 'preeti',\n",
       " 90,\n",
       " 1.23,\n",
       " 12,\n",
       " [1, 2, 3, 4],\n",
       " 'sudh',\n",
       " 'naman',\n",
       " 'ray',\n",
       " 'preeti',\n",
       " 90,\n",
       " 1.23,\n",
       " 12,\n",
       " [1, 2, 3, 4],\n",
       " 'sudh',\n",
       " 'naman',\n",
       " 'ray',\n",
       " 'preeti',\n",
       " 90,\n",
       " 1.23,\n",
       " 12,\n",
       " [1, 2, 3, 4],\n",
       " 'sudh']"
      ]
     },
     "execution_count": 259,
     "metadata": {},
     "output_type": "execute_result"
    }
   ],
   "source": [
    "l*6\n"
   ]
  },
  {
   "cell_type": "code",
   "execution_count": 260,
   "id": "71ec4611",
   "metadata": {},
   "outputs": [
    {
     "data": {
      "text/plain": [
       "8"
      ]
     },
     "execution_count": 260,
     "metadata": {},
     "output_type": "execute_result"
    }
   ],
   "source": [
    "len(l)"
   ]
  },
  {
   "cell_type": "code",
   "execution_count": 263,
   "id": "87c1af65",
   "metadata": {},
   "outputs": [
    {
     "data": {
      "text/plain": [
       "True"
      ]
     },
     "execution_count": 263,
     "metadata": {},
     "output_type": "execute_result"
    }
   ],
   "source": [
    "\"naman\" in l"
   ]
  },
  {
   "cell_type": "code",
   "execution_count": 264,
   "id": "d7c2d4b3",
   "metadata": {},
   "outputs": [
    {
     "data": {
      "text/plain": [
       "False"
      ]
     },
     "execution_count": 264,
     "metadata": {},
     "output_type": "execute_result"
    }
   ],
   "source": [
    "1 in l"
   ]
  },
  {
   "cell_type": "code",
   "execution_count": 265,
   "id": "ea7127e2",
   "metadata": {},
   "outputs": [
    {
     "data": {
      "text/plain": [
       "False"
      ]
     },
     "execution_count": 265,
     "metadata": {},
     "output_type": "execute_result"
    }
   ],
   "source": [
    "2 in l"
   ]
  },
  {
   "cell_type": "code",
   "execution_count": 266,
   "id": "3b9fed2d",
   "metadata": {},
   "outputs": [
    {
     "data": {
      "text/plain": [
       "False"
      ]
     },
     "execution_count": 266,
     "metadata": {},
     "output_type": "execute_result"
    }
   ],
   "source": [
    "\"s\" in l"
   ]
  },
  {
   "cell_type": "code",
   "execution_count": null,
   "id": "08fd9e6d",
   "metadata": {},
   "outputs": [],
   "source": []
  }
 ],
 "metadata": {
  "kernelspec": {
   "display_name": "Python 3",
   "language": "python",
   "name": "python3"
  },
  "language_info": {
   "codemirror_mode": {
    "name": "ipython",
    "version": 3
   },
   "file_extension": ".py",
   "mimetype": "text/x-python",
   "name": "python",
   "nbconvert_exporter": "python",
   "pygments_lexer": "ipython3",
   "version": "3.8.8"
  }
 },
 "nbformat": 4,
 "nbformat_minor": 5
}
