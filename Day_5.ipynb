{
 "cells": [
  {
   "cell_type": "code",
   "execution_count": 3,
   "id": "1d672f0f",
   "metadata": {},
   "outputs": [
    {
     "data": {
      "text/plain": [
       "'1234asj12'"
      ]
     },
     "execution_count": 3,
     "metadata": {},
     "output_type": "execute_result"
    }
   ],
   "source": [
    "\"1234asj\"+\"12\""
   ]
  },
  {
   "cell_type": "code",
   "execution_count": 4,
   "id": "75a00673",
   "metadata": {},
   "outputs": [],
   "source": [
    "l=[57,57,42\n",
    "  \n",
    "  ]"
   ]
  },
  {
   "cell_type": "code",
   "execution_count": 6,
   "id": "2dab39fd",
   "metadata": {},
   "outputs": [
    {
     "data": {
      "text/plain": [
       "True"
      ]
     },
     "execution_count": 6,
     "metadata": {},
     "output_type": "execute_result"
    }
   ],
   "source": [
    "\"__iter__\" in l.__dir__()"
   ]
  },
  {
   "cell_type": "code",
   "execution_count": 7,
   "id": "52bf589a",
   "metadata": {},
   "outputs": [],
   "source": [
    "mystring=\"I'm Awesome\""
   ]
  },
  {
   "cell_type": "code",
   "execution_count": 8,
   "id": "42904760",
   "metadata": {},
   "outputs": [
    {
     "data": {
      "text/plain": [
       "\"I'm Awesome\""
      ]
     },
     "execution_count": 8,
     "metadata": {},
     "output_type": "execute_result"
    }
   ],
   "source": [
    "mystring"
   ]
  },
  {
   "cell_type": "code",
   "execution_count": 17,
   "id": "1d43e4de",
   "metadata": {},
   "outputs": [],
   "source": [
    "mystring='I\\'m Awesome'"
   ]
  },
  {
   "cell_type": "code",
   "execution_count": 10,
   "id": "01e7963e",
   "metadata": {},
   "outputs": [
    {
     "data": {
      "text/plain": [
       "\"I'm Awesome\""
      ]
     },
     "execution_count": 10,
     "metadata": {},
     "output_type": "execute_result"
    }
   ],
   "source": [
    "mystring"
   ]
  },
  {
   "cell_type": "code",
   "execution_count": 11,
   "id": "65b55c09",
   "metadata": {},
   "outputs": [
    {
     "data": {
      "text/plain": [
       "'I\\'m \"Naman\"'"
      ]
     },
     "execution_count": 11,
     "metadata": {},
     "output_type": "execute_result"
    }
   ],
   "source": [
    "\"I'm \\\"Naman\\\"\""
   ]
  },
  {
   "cell_type": "code",
   "execution_count": 12,
   "id": "3b9b0b36",
   "metadata": {},
   "outputs": [
    {
     "data": {
      "text/plain": [
       "\"I'm Naman,\\nI love preeti,\\nand will always do so till my last breath\""
      ]
     },
     "execution_count": 12,
     "metadata": {},
     "output_type": "execute_result"
    }
   ],
   "source": [
    "\"\"\"I'm Naman,\n",
    "I love preeti,\n",
    "and will always do so till my last breath\"\"\""
   ]
  },
  {
   "cell_type": "code",
   "execution_count": 15,
   "id": "11bd2819",
   "metadata": {},
   "outputs": [
    {
     "name": "stdout",
     "output_type": "stream",
     "text": [
      "apple\r",
      "orange\n"
     ]
    }
   ],
   "source": [
    "print(\"apple\\rorange\")"
   ]
  },
  {
   "cell_type": "code",
   "execution_count": 23,
   "id": "30a1aca7",
   "metadata": {},
   "outputs": [
    {
     "name": "stdout",
     "output_type": "stream",
     "text": [
      "I'm Awesoop\n"
     ]
    }
   ],
   "source": [
    "print(mystring.replace(\"me\",\"op\"))"
   ]
  },
  {
   "cell_type": "code",
   "execution_count": 24,
   "id": "f85a7942",
   "metadata": {},
   "outputs": [
    {
     "data": {
      "text/plain": [
       "\"I'm Awesome\""
      ]
     },
     "execution_count": 24,
     "metadata": {},
     "output_type": "execute_result"
    }
   ],
   "source": [
    "mystring"
   ]
  },
  {
   "cell_type": "code",
   "execution_count": 25,
   "id": "d16e33bb",
   "metadata": {},
   "outputs": [
    {
     "name": "stdout",
     "output_type": "stream",
     "text": [
      "hello I'm Awesome\n"
     ]
    }
   ],
   "source": [
    "print(f\"hello {mystring}\")"
   ]
  },
  {
   "cell_type": "code",
   "execution_count": 26,
   "id": "6e68ef85",
   "metadata": {},
   "outputs": [
    {
     "name": "stdout",
     "output_type": "stream",
     "text": [
      "1\n"
     ]
    }
   ],
   "source": [
    "print(1)"
   ]
  },
  {
   "cell_type": "code",
   "execution_count": 27,
   "id": "880b32ea",
   "metadata": {},
   "outputs": [
    {
     "data": {
      "text/plain": [
       "True"
      ]
     },
     "execution_count": 27,
     "metadata": {},
     "output_type": "execute_result"
    }
   ],
   "source": [
    "True>=True"
   ]
  },
  {
   "cell_type": "code",
   "execution_count": 28,
   "id": "18eaf0e6",
   "metadata": {},
   "outputs": [
    {
     "data": {
      "text/plain": [
       "2"
      ]
     },
     "execution_count": 28,
     "metadata": {},
     "output_type": "execute_result"
    }
   ],
   "source": [
    "1 and 2"
   ]
  },
  {
   "cell_type": "code",
   "execution_count": 34,
   "id": "e45c279e",
   "metadata": {},
   "outputs": [
    {
     "data": {
      "text/plain": [
       "78"
      ]
     },
     "execution_count": 34,
     "metadata": {},
     "output_type": "execute_result"
    }
   ],
   "source": [
    "\n",
    "o"
   ]
  },
  {
   "cell_type": "code",
   "execution_count": 35,
   "id": "6be458c2",
   "metadata": {},
   "outputs": [],
   "source": [
    "s=\"naman\""
   ]
  },
  {
   "cell_type": "code",
   "execution_count": 36,
   "id": "ce763a0c",
   "metadata": {},
   "outputs": [],
   "source": [
    "s=\"This is my first string of the first python program, that's why I have been writing this text\""
   ]
  },
  {
   "cell_type": "code",
   "execution_count": 37,
   "id": "e5f8b549",
   "metadata": {},
   "outputs": [
    {
     "data": {
      "text/plain": [
       "\"This is my first string of the first python program, that's why I have been writing this text\""
      ]
     },
     "execution_count": 37,
     "metadata": {},
     "output_type": "execute_result"
    }
   ],
   "source": [
    "s"
   ]
  },
  {
   "cell_type": "code",
   "execution_count": 38,
   "id": "16296e3b",
   "metadata": {},
   "outputs": [
    {
     "ename": "SyntaxError",
     "evalue": "invalid syntax (<ipython-input-38-298da71308b1>, line 1)",
     "output_type": "error",
     "traceback": [
      "\u001b[1;36m  File \u001b[1;32m\"<ipython-input-38-298da71308b1>\"\u001b[1;36m, line \u001b[1;32m1\u001b[0m\n\u001b[1;33m    s='This is my first string of the first python program, that's why I have been writing this text'\u001b[0m\n\u001b[1;37m                                                                 ^\u001b[0m\n\u001b[1;31mSyntaxError\u001b[0m\u001b[1;31m:\u001b[0m invalid syntax\n"
     ]
    }
   ],
   "source": [
    "s='This is my first string of the first python program, that's why I have been writing this text'"
   ]
  },
  {
   "cell_type": "code",
   "execution_count": 39,
   "id": "e93ad004",
   "metadata": {},
   "outputs": [],
   "source": [
    "s=\"this is a python programming\""
   ]
  },
  {
   "cell_type": "code",
   "execution_count": 40,
   "id": "56d44fae",
   "metadata": {},
   "outputs": [
    {
     "data": {
      "text/plain": [
       "'this is a python programming'"
      ]
     },
     "execution_count": 40,
     "metadata": {},
     "output_type": "execute_result"
    }
   ],
   "source": [
    "s"
   ]
  },
  {
   "cell_type": "code",
   "execution_count": 41,
   "id": "9442b5b2",
   "metadata": {},
   "outputs": [
    {
     "data": {
      "text/plain": [
       "'i'"
      ]
     },
     "execution_count": 41,
     "metadata": {},
     "output_type": "execute_result"
    }
   ],
   "source": [
    "s[2]"
   ]
  },
  {
   "cell_type": "code",
   "execution_count": 42,
   "id": "89324cb8",
   "metadata": {},
   "outputs": [
    {
     "data": {
      "text/plain": [
       "'his is'"
      ]
     },
     "execution_count": 42,
     "metadata": {},
     "output_type": "execute_result"
    }
   ],
   "source": [
    "s[1:7]\n"
   ]
  },
  {
   "cell_type": "code",
   "execution_count": 43,
   "id": "72bcfc75",
   "metadata": {},
   "outputs": [
    {
     "data": {
      "text/plain": [
       "'gnimmargorp nohtyp a si siht'"
      ]
     },
     "execution_count": 43,
     "metadata": {},
     "output_type": "execute_result"
    }
   ],
   "source": [
    "s[-1::-1]"
   ]
  },
  {
   "cell_type": "code",
   "execution_count": 44,
   "id": "19e2808e",
   "metadata": {},
   "outputs": [
    {
     "data": {
      "text/plain": [
       "'gmrrnt sst'"
      ]
     },
     "execution_count": 44,
     "metadata": {},
     "output_type": "execute_result"
    }
   ],
   "source": [
    "s[-1::-3]"
   ]
  },
  {
   "cell_type": "code",
   "execution_count": 45,
   "id": "6847a03d",
   "metadata": {},
   "outputs": [
    {
     "data": {
      "text/plain": [
       "'gmony s'"
      ]
     },
     "execution_count": 45,
     "metadata": {},
     "output_type": "execute_result"
    }
   ],
   "source": [
    "s[-1::-4]"
   ]
  },
  {
   "cell_type": "code",
   "execution_count": 46,
   "id": "fb3dd150",
   "metadata": {},
   "outputs": [
    {
     "data": {
      "text/plain": [
       "28"
      ]
     },
     "execution_count": 46,
     "metadata": {},
     "output_type": "execute_result"
    }
   ],
   "source": [
    "len(s)"
   ]
  },
  {
   "cell_type": "code",
   "execution_count": 47,
   "id": "e77e50fb",
   "metadata": {},
   "outputs": [
    {
     "data": {
      "text/plain": [
       "'is is a '"
      ]
     },
     "execution_count": 47,
     "metadata": {},
     "output_type": "execute_result"
    }
   ],
   "source": [
    "s[2:10]"
   ]
  },
  {
   "cell_type": "code",
   "execution_count": 48,
   "id": "b0d68824",
   "metadata": {},
   "outputs": [
    {
     "ename": "ValueError",
     "evalue": "slice step cannot be zero",
     "output_type": "error",
     "traceback": [
      "\u001b[1;31m---------------------------------------------------------------------------\u001b[0m",
      "\u001b[1;31mValueError\u001b[0m                                Traceback (most recent call last)",
      "\u001b[1;32m<ipython-input-48-d9578084bfbf>\u001b[0m in \u001b[0;36m<module>\u001b[1;34m\u001b[0m\n\u001b[1;32m----> 1\u001b[1;33m \u001b[0ms\u001b[0m\u001b[1;33m[\u001b[0m\u001b[1;36m10\u001b[0m\u001b[1;33m:\u001b[0m\u001b[1;36m10\u001b[0m\u001b[1;33m:\u001b[0m\u001b[1;36m0\u001b[0m\u001b[1;33m]\u001b[0m\u001b[1;33m\u001b[0m\u001b[1;33m\u001b[0m\u001b[0m\n\u001b[0m",
      "\u001b[1;31mValueError\u001b[0m: slice step cannot be zero"
     ]
    }
   ],
   "source": [
    "s[10:10:0]"
   ]
  },
  {
   "cell_type": "code",
   "execution_count": 49,
   "id": "f6622110",
   "metadata": {},
   "outputs": [
    {
     "data": {
      "text/plain": [
       "''"
      ]
     },
     "execution_count": 49,
     "metadata": {},
     "output_type": "execute_result"
    }
   ],
   "source": [
    "s[10:10:1]"
   ]
  },
  {
   "cell_type": "code",
   "execution_count": 50,
   "id": "09c51c7e",
   "metadata": {},
   "outputs": [
    {
     "data": {
      "text/plain": [
       "'pt'"
      ]
     },
     "execution_count": 50,
     "metadata": {},
     "output_type": "execute_result"
    }
   ],
   "source": [
    "s[10:14:2]"
   ]
  },
  {
   "cell_type": "code",
   "execution_count": 53,
   "id": "e36d7e11",
   "metadata": {},
   "outputs": [
    {
     "name": "stdout",
     "output_type": "stream",
     "text": [
      "g\n",
      "n\n",
      "i\n",
      "m\n",
      "m\n",
      "a\n",
      "r\n",
      "g\n",
      "o\n",
      "r\n",
      "p\n",
      " \n",
      "n\n",
      "o\n",
      "h\n",
      "t\n",
      "y\n",
      "p\n",
      " \n",
      "a\n",
      " \n",
      "s\n",
      "i\n",
      " \n",
      "s\n",
      "i\n",
      "h\n",
      "t\n"
     ]
    }
   ],
   "source": [
    "for i in s[-1::-1]:\n",
    "    print(i)"
   ]
  },
  {
   "cell_type": "code",
   "execution_count": 55,
   "id": "16e02927",
   "metadata": {},
   "outputs": [
    {
     "name": "stdout",
     "output_type": "stream",
     "text": [
      "t\n",
      "h\n",
      "i\n",
      "s\n",
      " \n",
      "i\n",
      "s\n",
      " \n",
      "a\n",
      " \n",
      "p\n",
      "y\n",
      "t\n",
      "h\n",
      "o\n",
      "n\n",
      " \n",
      "p\n",
      "r\n",
      "o\n",
      "g\n",
      "r\n",
      "a\n",
      "m\n",
      "m\n",
      "i\n",
      "n\n",
      "g\n"
     ]
    }
   ],
   "source": [
    "for i in range(len(s)):\n",
    "    print(s[i])"
   ]
  },
  {
   "cell_type": "code",
   "execution_count": 63,
   "id": "fc4e1629",
   "metadata": {},
   "outputs": [
    {
     "data": {
      "text/plain": [
       "'this is a python progra@@ing'"
      ]
     },
     "execution_count": 63,
     "metadata": {},
     "output_type": "execute_result"
    }
   ],
   "source": [
    "s.replace(\"m\",\"@\")"
   ]
  },
  {
   "cell_type": "code",
   "execution_count": 64,
   "id": "4aa380ae",
   "metadata": {},
   "outputs": [
    {
     "data": {
      "text/plain": [
       "'this is a python programming'"
      ]
     },
     "execution_count": 64,
     "metadata": {},
     "output_type": "execute_result"
    }
   ],
   "source": [
    "s"
   ]
  },
  {
   "cell_type": "code",
   "execution_count": 65,
   "id": "63d2dd9c",
   "metadata": {},
   "outputs": [
    {
     "ename": "TypeError",
     "evalue": "'str' object does not support item assignment",
     "output_type": "error",
     "traceback": [
      "\u001b[1;31m---------------------------------------------------------------------------\u001b[0m",
      "\u001b[1;31mTypeError\u001b[0m                                 Traceback (most recent call last)",
      "\u001b[1;32m<ipython-input-65-345d6915935a>\u001b[0m in \u001b[0;36m<module>\u001b[1;34m\u001b[0m\n\u001b[1;32m----> 1\u001b[1;33m \u001b[0ms\u001b[0m\u001b[1;33m[\u001b[0m\u001b[1;36m0\u001b[0m\u001b[1;33m]\u001b[0m\u001b[1;33m=\u001b[0m\u001b[1;34m\"s\"\u001b[0m\u001b[1;33m\u001b[0m\u001b[1;33m\u001b[0m\u001b[0m\n\u001b[0m",
      "\u001b[1;31mTypeError\u001b[0m: 'str' object does not support item assignment"
     ]
    }
   ],
   "source": [
    "s[0]=\"s\""
   ]
  },
  {
   "cell_type": "code",
   "execution_count": 66,
   "id": "f12327ef",
   "metadata": {},
   "outputs": [
    {
     "data": {
      "text/plain": [
       "'sughahello'"
      ]
     },
     "execution_count": 66,
     "metadata": {},
     "output_type": "execute_result"
    }
   ],
   "source": [
    "\"sugha\"+\"hello\""
   ]
  },
  {
   "cell_type": "code",
   "execution_count": 67,
   "id": "ffb92635",
   "metadata": {},
   "outputs": [
    {
     "ename": "TypeError",
     "evalue": "unsupported operand type(s) for +: 'int' and 'str'",
     "output_type": "error",
     "traceback": [
      "\u001b[1;31m---------------------------------------------------------------------------\u001b[0m",
      "\u001b[1;31mTypeError\u001b[0m                                 Traceback (most recent call last)",
      "\u001b[1;32m<ipython-input-67-645bccc66d54>\u001b[0m in \u001b[0;36m<module>\u001b[1;34m\u001b[0m\n\u001b[1;32m----> 1\u001b[1;33m \u001b[1;36m1\u001b[0m\u001b[1;33m+\u001b[0m\u001b[1;34m\"helllo\"\u001b[0m\u001b[1;33m\u001b[0m\u001b[1;33m\u001b[0m\u001b[0m\n\u001b[0m",
      "\u001b[1;31mTypeError\u001b[0m: unsupported operand type(s) for +: 'int' and 'str'"
     ]
    }
   ],
   "source": [
    "1+\"helllo\""
   ]
  },
  {
   "cell_type": "code",
   "execution_count": 68,
   "id": "c97a9859",
   "metadata": {},
   "outputs": [
    {
     "data": {
      "text/plain": [
       "'12'"
      ]
     },
     "execution_count": 68,
     "metadata": {},
     "output_type": "execute_result"
    }
   ],
   "source": [
    "str(1)+\"2\""
   ]
  },
  {
   "cell_type": "code",
   "execution_count": 69,
   "id": "367c2097",
   "metadata": {},
   "outputs": [
    {
     "data": {
      "text/plain": [
       "\"['123', 1, 1.23]123\""
      ]
     },
     "execution_count": 69,
     "metadata": {},
     "output_type": "execute_result"
    }
   ],
   "source": [
    "str([\"123\",1,1.23]) + \"123\""
   ]
  },
  {
   "cell_type": "code",
   "execution_count": 70,
   "id": "e074bc71",
   "metadata": {},
   "outputs": [
    {
     "data": {
      "text/plain": [
       "'sudhsudhsudhsudhsudhsudhsudhsudhsudhsudhsudhsudhsudhsudhsudhsudhsudhsudhsudhsudhsudhsudhsudhsudhsudhsudhsudhsudhsudhsudhsudhsudhsudhsudhsudhsudhsudhsudhsudhsudhsudhsudhsudhsudhsudhsudhsudhsudhsudhsudhsudhsudhsudhsudhsudhsudhsudhsudhsudhsudhsudhsudhsudhsudhsudhsudhsudhsudhsudhsudhsudhsudhsudhsudhsudhsudhsudhsudhsudhsudhsudhsudhsudhsudhsudhsudhsudhsudhsudhsudhsudhsudhsudhsudhsudhsudhsudhsudh'"
      ]
     },
     "execution_count": 70,
     "metadata": {},
     "output_type": "execute_result"
    }
   ],
   "source": [
    "\"sudh\"*98"
   ]
  },
  {
   "cell_type": "code",
   "execution_count": 100,
   "id": "92d232c3",
   "metadata": {},
   "outputs": [],
   "source": [
    "s=\"my name is \""
   ]
  },
  {
   "cell_type": "code",
   "execution_count": 74,
   "id": "f09b97ea",
   "metadata": {},
   "outputs": [
    {
     "data": {
      "text/plain": [
       "'My name is '"
      ]
     },
     "execution_count": 74,
     "metadata": {},
     "output_type": "execute_result"
    }
   ],
   "source": [
    "s.capitalize()"
   ]
  },
  {
   "cell_type": "code",
   "execution_count": 75,
   "id": "3a719753",
   "metadata": {},
   "outputs": [
    {
     "data": {
      "text/plain": [
       "3"
      ]
     },
     "execution_count": 75,
     "metadata": {},
     "output_type": "execute_result"
    }
   ],
   "source": [
    "s.find(\"na\")"
   ]
  },
  {
   "cell_type": "code",
   "execution_count": 76,
   "id": "22babfdb",
   "metadata": {},
   "outputs": [
    {
     "data": {
      "text/plain": [
       "0"
      ]
     },
     "execution_count": 76,
     "metadata": {},
     "output_type": "execute_result"
    }
   ],
   "source": [
    "s.find(\"m\")"
   ]
  },
  {
   "cell_type": "code",
   "execution_count": 77,
   "id": "85d00eb4",
   "metadata": {},
   "outputs": [
    {
     "data": {
      "text/plain": [
       "-1"
      ]
     },
     "execution_count": 77,
     "metadata": {},
     "output_type": "execute_result"
    }
   ],
   "source": [
    "s.find(\"naman\")"
   ]
  },
  {
   "cell_type": "code",
   "execution_count": 97,
   "id": "29318f51",
   "metadata": {},
   "outputs": [
    {
     "name": "stdout",
     "output_type": "stream",
     "text": [
      "3\n",
      "4\n",
      "5\n",
      "6\n"
     ]
    }
   ],
   "source": [
    "for i in range(s.find(\"name\"), s.find(\"name\")+len(\"name\")):\n",
    "    print(i)"
   ]
  },
  {
   "cell_type": "code",
   "execution_count": 103,
   "id": "b9f80451",
   "metadata": {},
   "outputs": [],
   "source": [
    "s=\"My name is sudhanshu kumar, name of org is ineuron\""
   ]
  },
  {
   "cell_type": "code",
   "execution_count": 104,
   "id": "dfd0a751",
   "metadata": {},
   "outputs": [
    {
     "data": {
      "text/plain": [
       "3"
      ]
     },
     "execution_count": 104,
     "metadata": {},
     "output_type": "execute_result"
    }
   ],
   "source": [
    "s.find(\"name\")"
   ]
  },
  {
   "cell_type": "code",
   "execution_count": 105,
   "id": "b9854bba",
   "metadata": {},
   "outputs": [
    {
     "data": {
      "text/plain": [
       "3"
      ]
     },
     "execution_count": 105,
     "metadata": {},
     "output_type": "execute_result"
    }
   ],
   "source": [
    "s.count(\"m\")"
   ]
  },
  {
   "cell_type": "code",
   "execution_count": 106,
   "id": "fd52c30c",
   "metadata": {},
   "outputs": [
    {
     "data": {
      "text/plain": [
       "4"
      ]
     },
     "execution_count": 106,
     "metadata": {},
     "output_type": "execute_result"
    }
   ],
   "source": [
    "s.count(\"a\")"
   ]
  },
  {
   "cell_type": "code",
   "execution_count": 108,
   "id": "ec762403",
   "metadata": {},
   "outputs": [],
   "source": [
    "l=s.split(\" \")"
   ]
  },
  {
   "cell_type": "code",
   "execution_count": 109,
   "id": "dbc3e4d3",
   "metadata": {},
   "outputs": [
    {
     "data": {
      "text/plain": [
       "['My',\n",
       " 'name',\n",
       " 'is',\n",
       " 'sudhanshu',\n",
       " 'kumar,',\n",
       " 'name',\n",
       " 'of',\n",
       " 'org',\n",
       " 'is',\n",
       " 'ineuron']"
      ]
     },
     "execution_count": 109,
     "metadata": {},
     "output_type": "execute_result"
    }
   ],
   "source": [
    "l"
   ]
  },
  {
   "cell_type": "code",
   "execution_count": 113,
   "id": "13352f7a",
   "metadata": {},
   "outputs": [],
   "source": [
    "s=\"Hello, nice to meet you, hope that you are doing good\""
   ]
  },
  {
   "cell_type": "code",
   "execution_count": 114,
   "id": "22484970",
   "metadata": {},
   "outputs": [
    {
     "data": {
      "text/plain": [
       "['Hello', ' nice to meet you', ' hope that you are doing good']"
      ]
     },
     "execution_count": 114,
     "metadata": {},
     "output_type": "execute_result"
    }
   ],
   "source": [
    "s.split(\",\")"
   ]
  },
  {
   "cell_type": "code",
   "execution_count": 115,
   "id": "6fa20f08",
   "metadata": {},
   "outputs": [
    {
     "data": {
      "text/plain": [
       "['Hello, nice to meet you, hope that you are ', 'oing goo', '']"
      ]
     },
     "execution_count": 115,
     "metadata": {},
     "output_type": "execute_result"
    }
   ],
   "source": [
    "s.split(\"d\")"
   ]
  },
  {
   "cell_type": "code",
   "execution_count": 117,
   "id": "40b8b7ce",
   "metadata": {},
   "outputs": [
    {
     "data": {
      "text/plain": [
       "list"
      ]
     },
     "execution_count": 117,
     "metadata": {},
     "output_type": "execute_result"
    }
   ],
   "source": [
    "type(s.split(\"n\"))"
   ]
  },
  {
   "cell_type": "code",
   "execution_count": 118,
   "id": "8ed5d217",
   "metadata": {},
   "outputs": [
    {
     "data": {
      "text/plain": [
       "'HELLO, NICE TO MEET YOU, HOPE THAT YOU ARE DOING GOOD'"
      ]
     },
     "execution_count": 118,
     "metadata": {},
     "output_type": "execute_result"
    }
   ],
   "source": [
    "s.upper()"
   ]
  },
  {
   "cell_type": "code",
   "execution_count": 119,
   "id": "46e4a204",
   "metadata": {},
   "outputs": [
    {
     "data": {
      "text/plain": [
       "'hello, nice to meet you, hope that you are doing good'"
      ]
     },
     "execution_count": 119,
     "metadata": {},
     "output_type": "execute_result"
    }
   ],
   "source": [
    "s.lower()"
   ]
  },
  {
   "cell_type": "code",
   "execution_count": 120,
   "id": "aff9ac54",
   "metadata": {},
   "outputs": [
    {
     "data": {
      "text/plain": [
       "'hELLO, NICE TO MEET YOU, HOPE THAT YOU ARE DOING GOOD'"
      ]
     },
     "execution_count": 120,
     "metadata": {},
     "output_type": "execute_result"
    }
   ],
   "source": [
    "s.swapcase()"
   ]
  },
  {
   "cell_type": "code",
   "execution_count": 122,
   "id": "7d6df26d",
   "metadata": {},
   "outputs": [
    {
     "data": {
      "text/plain": [
       "'H_e_l_l_o_,_ _n_i_c_e_ _t_o_ _m_e_e_t_ _y_o_u_,_ _h_o_p_e_ _t_h_a_t_ _y_o_u_ _a_r_e_ _d_o_i_n_g_ _g_o_o_d'"
      ]
     },
     "execution_count": 122,
     "metadata": {},
     "output_type": "execute_result"
    }
   ],
   "source": [
    "\"_\".join(s)"
   ]
  },
  {
   "cell_type": "code",
   "execution_count": 123,
   "id": "b922e8c1",
   "metadata": {},
   "outputs": [
    {
     "data": {
      "text/plain": [
       "<reversed at 0x187cee3f310>"
      ]
     },
     "execution_count": 123,
     "metadata": {},
     "output_type": "execute_result"
    }
   ],
   "source": [
    "reversed(s)"
   ]
  },
  {
   "cell_type": "code",
   "execution_count": 124,
   "id": "e2b753ec",
   "metadata": {},
   "outputs": [
    {
     "data": {
      "text/plain": [
       "['d',\n",
       " 'o',\n",
       " 'o',\n",
       " 'g',\n",
       " ' ',\n",
       " 'g',\n",
       " 'n',\n",
       " 'i',\n",
       " 'o',\n",
       " 'd',\n",
       " ' ',\n",
       " 'e',\n",
       " 'r',\n",
       " 'a',\n",
       " ' ',\n",
       " 'u',\n",
       " 'o',\n",
       " 'y',\n",
       " ' ',\n",
       " 't',\n",
       " 'a',\n",
       " 'h',\n",
       " 't',\n",
       " ' ',\n",
       " 'e',\n",
       " 'p',\n",
       " 'o',\n",
       " 'h',\n",
       " ' ',\n",
       " ',',\n",
       " 'u',\n",
       " 'o',\n",
       " 'y',\n",
       " ' ',\n",
       " 't',\n",
       " 'e',\n",
       " 'e',\n",
       " 'm',\n",
       " ' ',\n",
       " 'o',\n",
       " 't',\n",
       " ' ',\n",
       " 'e',\n",
       " 'c',\n",
       " 'i',\n",
       " 'n',\n",
       " ' ',\n",
       " ',',\n",
       " 'o',\n",
       " 'l',\n",
       " 'l',\n",
       " 'e',\n",
       " 'H']"
      ]
     },
     "execution_count": 124,
     "metadata": {},
     "output_type": "execute_result"
    }
   ],
   "source": [
    "list(reversed(s))"
   ]
  },
  {
   "cell_type": "code",
   "execution_count": 128,
   "id": "3acb23e2",
   "metadata": {},
   "outputs": [
    {
     "name": "stdout",
     "output_type": "stream",
     "text": [
      "d\n",
      "o\n",
      "o\n",
      "g\n",
      " \n",
      "g\n",
      "n\n",
      "i\n",
      "o\n",
      "d\n",
      " \n",
      "e\n",
      "r\n",
      "a\n",
      " \n",
      "u\n",
      "o\n",
      "y\n",
      " \n",
      "t\n",
      "a\n",
      "h\n",
      "t\n",
      " \n",
      "e\n",
      "p\n",
      "o\n",
      "h\n",
      " \n",
      ",\n",
      "u\n",
      "o\n",
      "y\n",
      " \n",
      "t\n",
      "e\n",
      "e\n",
      "m\n",
      " \n",
      "o\n",
      "t\n",
      " \n",
      "e\n",
      "c\n",
      "i\n",
      "n\n",
      " \n",
      ",\n",
      "o\n",
      "l\n",
      "l\n",
      "e\n",
      "H\n"
     ]
    }
   ],
   "source": [
    "for i in reversed(s):\n",
    "    print(i)"
   ]
  },
  {
   "cell_type": "code",
   "execution_count": 129,
   "id": "af2d0472",
   "metadata": {},
   "outputs": [],
   "source": [
    "s=\" sudh \""
   ]
  },
  {
   "cell_type": "code",
   "execution_count": 132,
   "id": "cc45c644",
   "metadata": {},
   "outputs": [
    {
     "data": {
      "text/plain": [
       "'sudh'"
      ]
     },
     "execution_count": 132,
     "metadata": {},
     "output_type": "execute_result"
    }
   ],
   "source": [
    "s.strip(\" \")"
   ]
  },
  {
   "cell_type": "code",
   "execution_count": 141,
   "id": "823860b0",
   "metadata": {},
   "outputs": [],
   "source": [
    "s=\" naman hello  \""
   ]
  },
  {
   "cell_type": "code",
   "execution_count": 142,
   "id": "b7eab235",
   "metadata": {},
   "outputs": [
    {
     "data": {
      "text/plain": [
       "'naman hello'"
      ]
     },
     "execution_count": 142,
     "metadata": {},
     "output_type": "execute_result"
    }
   ],
   "source": [
    "s.strip(\" \")"
   ]
  },
  {
   "cell_type": "code",
   "execution_count": 143,
   "id": "0144d14c",
   "metadata": {},
   "outputs": [
    {
     "data": {
      "text/plain": [
       "'naman hello  '"
      ]
     },
     "execution_count": 143,
     "metadata": {},
     "output_type": "execute_result"
    }
   ],
   "source": [
    "s.lstrip()"
   ]
  },
  {
   "cell_type": "code",
   "execution_count": 144,
   "id": "fb9cb1ac",
   "metadata": {},
   "outputs": [
    {
     "data": {
      "text/plain": [
       "' naman hello'"
      ]
     },
     "execution_count": 144,
     "metadata": {},
     "output_type": "execute_result"
    }
   ],
   "source": [
    "s.rstrip(\" \")"
   ]
  },
  {
   "cell_type": "code",
   "execution_count": 145,
   "id": "79565050",
   "metadata": {},
   "outputs": [],
   "source": [
    "s=\"greeeting from germany\"\n"
   ]
  },
  {
   "cell_type": "code",
   "execution_count": 146,
   "id": "1b80f4ba",
   "metadata": {},
   "outputs": [
    {
     "data": {
      "text/plain": [
       "'2@reeetin2@ from 2@ermany'"
      ]
     },
     "execution_count": 146,
     "metadata": {},
     "output_type": "execute_result"
    }
   ],
   "source": [
    "s.replace(\"g\" , \"2@\")"
   ]
  },
  {
   "cell_type": "code",
   "execution_count": 148,
   "id": "1d0da3e4",
   "metadata": {},
   "outputs": [
    {
     "data": {
      "text/plain": [
       "'greeeting from manmany'"
      ]
     },
     "execution_count": 148,
     "metadata": {},
     "output_type": "execute_result"
    }
   ],
   "source": [
    "s.replace(\"ger\",\"man\"\n",
    "         )"
   ]
  },
  {
   "cell_type": "code",
   "execution_count": 149,
   "id": "6075c1bd",
   "metadata": {},
   "outputs": [
    {
     "data": {
      "text/plain": [
       "'grppppppting from gpprmany'"
      ]
     },
     "execution_count": 149,
     "metadata": {},
     "output_type": "execute_result"
    }
   ],
   "source": [
    "s.replace(\"e\",\"pp\")"
   ]
  },
  {
   "cell_type": "code",
   "execution_count": 154,
   "id": "f8c4b85b",
   "metadata": {},
   "outputs": [
    {
     "name": "stdout",
     "output_type": "stream",
     "text": [
      "Hurray\n"
     ]
    }
   ],
   "source": [
    "if isinstance(s,int)==False:\n",
    "    print(\"Hurray\")"
   ]
  },
  {
   "cell_type": "code",
   "execution_count": 155,
   "id": "cc60b3b7",
   "metadata": {},
   "outputs": [],
   "source": [
    "s=\"sudh\""
   ]
  },
  {
   "cell_type": "code",
   "execution_count": 156,
   "id": "65a9ee39",
   "metadata": {},
   "outputs": [
    {
     "data": {
      "text/plain": [
       "'bbbbbbbbsudhbbbbbbbb'"
      ]
     },
     "execution_count": 156,
     "metadata": {},
     "output_type": "execute_result"
    }
   ],
   "source": [
    "s.center(20,'b')"
   ]
  },
  {
   "cell_type": "code",
   "execution_count": 157,
   "id": "15374e26",
   "metadata": {},
   "outputs": [],
   "source": [
    "p=\"upto\""
   ]
  },
  {
   "cell_type": "code",
   "execution_count": 158,
   "id": "3045f3aa",
   "metadata": {},
   "outputs": [
    {
     "data": {
      "text/plain": [
       "'@@@upto@@@'"
      ]
     },
     "execution_count": 158,
     "metadata": {},
     "output_type": "execute_result"
    }
   ],
   "source": [
    "p.center(10,\"@\")"
   ]
  },
  {
   "cell_type": "code",
   "execution_count": 159,
   "id": "90b066c4",
   "metadata": {},
   "outputs": [],
   "source": [
    "p=\"Naman\\tJain\""
   ]
  },
  {
   "cell_type": "code",
   "execution_count": 160,
   "id": "b699e7b2",
   "metadata": {},
   "outputs": [
    {
     "data": {
      "text/plain": [
       "'Naman\\tJain'"
      ]
     },
     "execution_count": 160,
     "metadata": {},
     "output_type": "execute_result"
    }
   ],
   "source": [
    "p"
   ]
  },
  {
   "cell_type": "code",
   "execution_count": 161,
   "id": "41cc39d4",
   "metadata": {},
   "outputs": [
    {
     "name": "stdout",
     "output_type": "stream",
     "text": [
      "Naman\tJain\n"
     ]
    }
   ],
   "source": [
    "print(p)"
   ]
  },
  {
   "cell_type": "code",
   "execution_count": 162,
   "id": "d37a1ff4",
   "metadata": {},
   "outputs": [],
   "source": [
    "p=\"Naman\\tJain\\tHello\""
   ]
  },
  {
   "cell_type": "code",
   "execution_count": 163,
   "id": "5fcaf82d",
   "metadata": {},
   "outputs": [
    {
     "data": {
      "text/plain": [
       "'Naman   Jain    Hello'"
      ]
     },
     "execution_count": 163,
     "metadata": {},
     "output_type": "execute_result"
    }
   ],
   "source": [
    "p.expandtabs()"
   ]
  },
  {
   "cell_type": "code",
   "execution_count": null,
   "id": "26ae0eff",
   "metadata": {},
   "outputs": [],
   "source": [
    "## String inbuilt functions"
   ]
  },
  {
   "cell_type": "code",
   "execution_count": 173,
   "id": "68baa635",
   "metadata": {},
   "outputs": [],
   "source": [
    "# String\n",
    "a=\"We all are a part of this Beautiful World\""
   ]
  },
  {
   "cell_type": "code",
   "execution_count": 174,
   "id": "4e4f23f4",
   "metadata": {},
   "outputs": [],
   "source": [
    "# Converting to a lower case"
   ]
  },
  {
   "cell_type": "code",
   "execution_count": 168,
   "id": "c29b2736",
   "metadata": {},
   "outputs": [],
   "source": [
    "b=a.lower()"
   ]
  },
  {
   "cell_type": "code",
   "execution_count": 169,
   "id": "13f3a7da",
   "metadata": {},
   "outputs": [
    {
     "data": {
      "text/plain": [
       "'we all are a part of this beautiful world'"
      ]
     },
     "execution_count": 169,
     "metadata": {},
     "output_type": "execute_result"
    }
   ],
   "source": [
    "b"
   ]
  },
  {
   "cell_type": "code",
   "execution_count": 170,
   "id": "27275ff7",
   "metadata": {},
   "outputs": [],
   "source": [
    "# Occurences of character 'a' in the entire string"
   ]
  },
  {
   "cell_type": "code",
   "execution_count": 171,
   "id": "cb832396",
   "metadata": {},
   "outputs": [
    {
     "data": {
      "text/plain": [
       "5"
      ]
     },
     "execution_count": 171,
     "metadata": {},
     "output_type": "execute_result"
    }
   ],
   "source": [
    "b.count(\"a\")"
   ]
  },
  {
   "cell_type": "code",
   "execution_count": null,
   "id": "d5f3d4f8",
   "metadata": {},
   "outputs": [],
   "source": [
    "# finding the index of all the 'a' in string"
   ]
  },
  {
   "cell_type": "code",
   "execution_count": 183,
   "id": "32f38210",
   "metadata": {},
   "outputs": [
    {
     "name": "stdout",
     "output_type": "stream",
     "text": [
      "3\n",
      "7\n",
      "11\n",
      "14\n",
      "28\n"
     ]
    }
   ],
   "source": [
    "for i in range(len(b)):\n",
    "    if b[i]==\"a\":\n",
    "        print(i)"
   ]
  },
  {
   "cell_type": "code",
   "execution_count": null,
   "id": "af2c57bb",
   "metadata": {},
   "outputs": [],
   "source": [
    "# Replacing char 'a' with '@'"
   ]
  },
  {
   "cell_type": "code",
   "execution_count": 175,
   "id": "266ac1f6",
   "metadata": {},
   "outputs": [
    {
     "data": {
      "text/plain": [
       "'we @ll @re @ p@rt of this be@utiful world'"
      ]
     },
     "execution_count": 175,
     "metadata": {},
     "output_type": "execute_result"
    }
   ],
   "source": [
    "b.replace(\"a\",\"@\")"
   ]
  },
  {
   "cell_type": "code",
   "execution_count": 178,
   "id": "2c7ceeeb",
   "metadata": {},
   "outputs": [],
   "source": [
    "# Converting string into a list of words"
   ]
  },
  {
   "cell_type": "code",
   "execution_count": 179,
   "id": "94c38e72",
   "metadata": {},
   "outputs": [],
   "source": [
    "s=b.split(\" \")"
   ]
  },
  {
   "cell_type": "code",
   "execution_count": 180,
   "id": "ebe8bd6a",
   "metadata": {},
   "outputs": [
    {
     "name": "stdout",
     "output_type": "stream",
     "text": [
      "['we', 'all', 'are', 'a', 'part', 'of', 'this', 'beautiful', 'world']\n"
     ]
    }
   ],
   "source": [
    "print(s)"
   ]
  },
  {
   "cell_type": "code",
   "execution_count": null,
   "id": "372de5a8",
   "metadata": {},
   "outputs": [],
   "source": []
  }
 ],
 "metadata": {
  "kernelspec": {
   "display_name": "Python 3",
   "language": "python",
   "name": "python3"
  },
  "language_info": {
   "codemirror_mode": {
    "name": "ipython",
    "version": 3
   },
   "file_extension": ".py",
   "mimetype": "text/x-python",
   "name": "python",
   "nbconvert_exporter": "python",
   "pygments_lexer": "ipython3",
   "version": "3.8.8"
  }
 },
 "nbformat": 4,
 "nbformat_minor": 5
}
