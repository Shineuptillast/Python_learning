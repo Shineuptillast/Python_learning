{
 "cells": [
  {
   "cell_type": "code",
   "execution_count": 11,
   "id": "b1c82de5",
   "metadata": {},
   "outputs": [],
   "source": [
    "## Conditional Statement"
   ]
  },
  {
   "cell_type": "code",
   "execution_count": 14,
   "id": "02d9d077",
   "metadata": {},
   "outputs": [
    {
     "name": "stdout",
     "output_type": "stream",
     "text": [
      "Enter the day of 100dayscodechallenge--> 2\n",
      "Second Day, Keep it up\n"
     ]
    }
   ],
   "source": [
    "Nday= int(input(\"Enter the day of 100dayscodechallenge--> \"))\n",
    "\n",
    "if Nday == 1:\n",
    "    print(\"Just Started, Hurray\")\n",
    "elif Nday == 2:\n",
    "        print(\"Second Day, Keep it up\")\n",
    "else:\n",
    "    print(\"Keep Going and Update your Daily Learnings On Twitter\")"
   ]
  },
  {
   "cell_type": "code",
   "execution_count": 16,
   "id": "368105a8",
   "metadata": {},
   "outputs": [],
   "source": [
    "## What will be the output of the Given Expression"
   ]
  },
  {
   "cell_type": "code",
   "execution_count": 17,
   "id": "90716c35",
   "metadata": {},
   "outputs": [],
   "source": [
    "s=True + True + False"
   ]
  },
  {
   "cell_type": "code",
   "execution_count": null,
   "id": "ac43ac4a",
   "metadata": {},
   "outputs": [],
   "source": [
    "print(s)"
   ]
  },
  {
   "cell_type": "code",
   "execution_count": 20,
   "id": "3e35be10",
   "metadata": {},
   "outputs": [
    {
     "name": "stdout",
     "output_type": "stream",
     "text": [
      "this is valid\n"
     ]
    }
   ],
   "source": [
    "a=10\n",
    "b=20\n",
    "\n",
    "if a==10 and b==20 :\n",
    "    print(\"this is valid\")"
   ]
  },
  {
   "cell_type": "code",
   "execution_count": 21,
   "id": "9062a293",
   "metadata": {},
   "outputs": [
    {
     "data": {
      "text/plain": [
       "True"
      ]
     },
     "execution_count": 21,
     "metadata": {},
     "output_type": "execute_result"
    }
   ],
   "source": [
    "a==10"
   ]
  },
  {
   "cell_type": "code",
   "execution_count": 22,
   "id": "5a99fac1",
   "metadata": {},
   "outputs": [
    {
     "data": {
      "text/plain": [
       "True"
      ]
     },
     "execution_count": 22,
     "metadata": {},
     "output_type": "execute_result"
    }
   ],
   "source": [
    "a==10 and b==20"
   ]
  },
  {
   "cell_type": "code",
   "execution_count": 23,
   "id": "5c5b6a0e",
   "metadata": {},
   "outputs": [
    {
     "data": {
      "text/plain": [
       "True"
      ]
     },
     "execution_count": 23,
     "metadata": {},
     "output_type": "execute_result"
    }
   ],
   "source": [
    "a<=10"
   ]
  },
  {
   "cell_type": "code",
   "execution_count": 24,
   "id": "99b5cdec",
   "metadata": {},
   "outputs": [
    {
     "data": {
      "text/plain": [
       "False"
      ]
     },
     "execution_count": 24,
     "metadata": {},
     "output_type": "execute_result"
    }
   ],
   "source": [
    "a<10"
   ]
  },
  {
   "cell_type": "code",
   "execution_count": 27,
   "id": "db959f66",
   "metadata": {},
   "outputs": [
    {
     "name": "stdout",
     "output_type": "stream",
     "text": [
      "this is valid\n"
     ]
    }
   ],
   "source": [
    "if a>=0 and b<=20:\n",
    "    print(\"this is valid\")\n",
    "else:\n",
    "    print(\"this is invalid\")"
   ]
  },
  {
   "cell_type": "code",
   "execution_count": 28,
   "id": "dfb5f984",
   "metadata": {},
   "outputs": [
    {
     "data": {
      "text/plain": [
       "False"
      ]
     },
     "execution_count": 28,
     "metadata": {},
     "output_type": "execute_result"
    }
   ],
   "source": [
    "not(a>=0 or b>10)"
   ]
  },
  {
   "cell_type": "code",
   "execution_count": 29,
   "id": "daba9304",
   "metadata": {},
   "outputs": [],
   "source": [
    "## Program 3"
   ]
  },
  {
   "cell_type": "code",
   "execution_count": 30,
   "id": "25c04b5e",
   "metadata": {},
   "outputs": [
    {
     "name": "stdout",
     "output_type": "stream",
     "text": [
      "Enter your first name-->Naman\n",
      "Enter your Last name-->jain\n",
      "correct name, The fname is starting with uppercase and lname with lowercase\n"
     ]
    }
   ],
   "source": [
    "fname=input(\"Enter your first name-->\")\n",
    "lname=input(\"Enter your Last name-->\")\n",
    "if fname == \"Naman\" and lname == \"Jain\":\n",
    "    print(\"correct name, The Fname and Lname is Starting with Uppercase\")\n",
    "elif fname==\"naman\" and lname==\"Jain\":\n",
    "    print(\"correct name, The fname is starting with lowercase and fname with uppercase\")\n",
    "elif fname==\"Naman\" and lname==\"jain\":\n",
    "    print(\"correct name, The fname is starting with uppercase and lname with lowercase\")\n",
    "elif fname==\"naman\" and lname==\"jain\":\n",
    "    print(\"correct name, The fname and lname both starts with lowercase\")\n",
    "else:\n",
    "    print(\"Incorrect name\")"
   ]
  },
  {
   "cell_type": "code",
   "execution_count": 31,
   "id": "76e63e37",
   "metadata": {},
   "outputs": [
    {
     "name": "stdout",
     "output_type": "stream",
     "text": [
      "hello\n"
     ]
    }
   ],
   "source": [
    "if a==10: print(\"hello\")"
   ]
  },
  {
   "cell_type": "code",
   "execution_count": 32,
   "id": "aff03a46",
   "metadata": {},
   "outputs": [],
   "source": [
    "## Control Statements"
   ]
  },
  {
   "cell_type": "code",
   "execution_count": 34,
   "id": "0c722388",
   "metadata": {},
   "outputs": [],
   "source": [
    "# While Statements --> Repetitive Task"
   ]
  },
  {
   "cell_type": "code",
   "execution_count": 40,
   "id": "e56c144b",
   "metadata": {},
   "outputs": [
    {
     "name": "stdout",
     "output_type": "stream",
     "text": [
      "Current Speed 0\n",
      "Speed increased by 10\n",
      "New Speed 10\n",
      "Current Speed 10\n",
      "Speed increased by 10\n",
      "New Speed 20\n",
      "Current Speed 20\n",
      "Speed increased by 10\n",
      "New Speed 30\n",
      "Current Speed 30\n",
      "Speed increased by 10\n",
      "New Speed 40\n"
     ]
    }
   ],
   "source": [
    "initial_speed = 0\n",
    "final_speed = 30\n",
    "\n",
    "while initial_speed <= final_speed :\n",
    "    print(\"Current Speed\", initial_speed)\n",
    "    print(\"Speed increased by 10\")\n",
    "    initial_speed += 10\n",
    "    print(\"New Speed\", initial_speed)"
   ]
  },
  {
   "cell_type": "code",
   "execution_count": null,
   "id": "808cde5d",
   "metadata": {},
   "outputs": [],
   "source": []
  }
 ],
 "metadata": {
  "kernelspec": {
   "display_name": "Python 3",
   "language": "python",
   "name": "python3"
  },
  "language_info": {
   "codemirror_mode": {
    "name": "ipython",
    "version": 3
   },
   "file_extension": ".py",
   "mimetype": "text/x-python",
   "name": "python",
   "nbconvert_exporter": "python",
   "pygments_lexer": "ipython3",
   "version": "3.8.8"
  }
 },
 "nbformat": 4,
 "nbformat_minor": 5
}
