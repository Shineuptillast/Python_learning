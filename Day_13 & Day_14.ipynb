{
 "cells": [
  {
   "cell_type": "code",
   "execution_count": 1,
   "id": "3d504fd4",
   "metadata": {},
   "outputs": [],
   "source": [
    "# Classes and objects"
   ]
  },
  {
   "cell_type": "code",
   "execution_count": 2,
   "id": "78af0e63",
   "metadata": {},
   "outputs": [],
   "source": [
    "#Object Oriented Programming"
   ]
  },
  {
   "cell_type": "code",
   "execution_count": 3,
   "id": "ae2f128a",
   "metadata": {},
   "outputs": [],
   "source": [
    "# OOPs---> Classes and Object"
   ]
  },
  {
   "cell_type": "code",
   "execution_count": 4,
   "id": "8d077fac",
   "metadata": {},
   "outputs": [],
   "source": [
    "#class is the blueprint and objects are the instances of that class "
   ]
  },
  {
   "cell_type": "code",
   "execution_count": 5,
   "id": "c1a3af86",
   "metadata": {},
   "outputs": [],
   "source": [
    "# Class includes the characteristic and functions "
   ]
  },
  {
   "cell_type": "code",
   "execution_count": 6,
   "id": "73271747",
   "metadata": {},
   "outputs": [],
   "source": [
    "# Example--> Car is a class which has characteristic like color, model, enginetype, etc and functions like start, stop, speedup"
   ]
  },
  {
   "cell_type": "code",
   "execution_count": 7,
   "id": "75563a87",
   "metadata": {},
   "outputs": [],
   "source": [
    "# classes are close to real world, and object is an instance of the real world"
   ]
  },
  {
   "cell_type": "code",
   "execution_count": 8,
   "id": "27284cb4",
   "metadata": {},
   "outputs": [],
   "source": [
    "# classes is the real world entity, which is intangible (classification)"
   ]
  },
  {
   "cell_type": "code",
   "execution_count": 9,
   "id": "97350460",
   "metadata": {},
   "outputs": [],
   "source": [
    "# Objects are the real world entity, which are tangible or varibale of the classes"
   ]
  },
  {
   "cell_type": "code",
   "execution_count": 10,
   "id": "bb226a94",
   "metadata": {},
   "outputs": [],
   "source": [
    "a=7 # instance/Varibale of an integer class"
   ]
  },
  {
   "cell_type": "code",
   "execution_count": 11,
   "id": "3cd14d40",
   "metadata": {},
   "outputs": [],
   "source": [
    "b=\"Hello\" # instance/Varibale of an String class"
   ]
  },
  {
   "cell_type": "code",
   "execution_count": 12,
   "id": "0b802e1b",
   "metadata": {},
   "outputs": [],
   "source": [
    "c=1.23 # instance/Varibale of an Float class"
   ]
  },
  {
   "cell_type": "code",
   "execution_count": 13,
   "id": "e4eb3eeb",
   "metadata": {},
   "outputs": [],
   "source": [
    "# These data types are the classification"
   ]
  },
  {
   "cell_type": "code",
   "execution_count": 14,
   "id": "0e727aa6",
   "metadata": {},
   "outputs": [],
   "source": [
    "l=[1,2,3,4] # Object of a list class"
   ]
  },
  {
   "cell_type": "code",
   "execution_count": 15,
   "id": "a3a8a31c",
   "metadata": {},
   "outputs": [
    {
     "ename": "SyntaxError",
     "evalue": "unexpected EOF while parsing (<ipython-input-15-02ef5be3782f>, line 2)",
     "output_type": "error",
     "traceback": [
      "\u001b[1;36m  Cell \u001b[1;32mIn[15], line 2\u001b[1;36m\u001b[0m\n\u001b[1;33m    \u001b[0m\n\u001b[1;37m    ^\u001b[0m\n\u001b[1;31mSyntaxError\u001b[0m\u001b[1;31m:\u001b[0m unexpected EOF while parsing\n"
     ]
    }
   ],
   "source": [
    "class car:\n",
    "    "
   ]
  },
  {
   "cell_type": "code",
   "execution_count": null,
   "id": "c11dfbc5",
   "metadata": {},
   "outputs": [],
   "source": [
    "# Because havent specified anything about the class blocks"
   ]
  },
  {
   "cell_type": "code",
   "execution_count": null,
   "id": "c9704bbe",
   "metadata": {},
   "outputs": [],
   "source": [
    "class car:\n",
    "    pass"
   ]
  },
  {
   "cell_type": "code",
   "execution_count": null,
   "id": "5d7617c4",
   "metadata": {},
   "outputs": [],
   "source": [
    "audiq7=car()"
   ]
  },
  {
   "cell_type": "code",
   "execution_count": null,
   "id": "0ea63e2f",
   "metadata": {},
   "outputs": [],
   "source": [
    "audiq7"
   ]
  },
  {
   "cell_type": "code",
   "execution_count": null,
   "id": "7641ffde",
   "metadata": {},
   "outputs": [],
   "source": [
    "# \"__main__\" is the super class"
   ]
  },
  {
   "cell_type": "code",
   "execution_count": null,
   "id": "430c1d42",
   "metadata": {},
   "outputs": [],
   "source": [
    "audiq7.mileage= 20\n",
    "audiq7.year= 2021\n",
    "audiq7.color= \"yellow\"\n",
    "audiq7.model= \"Q7\"\n",
    "audiq7.make=234"
   ]
  },
  {
   "cell_type": "code",
   "execution_count": null,
   "id": "b49e554b",
   "metadata": {},
   "outputs": [],
   "source": [
    "audiq7.make"
   ]
  },
  {
   "cell_type": "code",
   "execution_count": null,
   "id": "7fc9a42e",
   "metadata": {},
   "outputs": [],
   "source": [
    "audiq7.model"
   ]
  },
  {
   "cell_type": "code",
   "execution_count": null,
   "id": "c86ec3aa",
   "metadata": {},
   "outputs": [],
   "source": [
    "audiq7.year"
   ]
  },
  {
   "cell_type": "code",
   "execution_count": null,
   "id": "0a6aaf39",
   "metadata": {},
   "outputs": [],
   "source": [
    "nano=car()"
   ]
  },
  {
   "cell_type": "code",
   "execution_count": null,
   "id": "014dce99",
   "metadata": {},
   "outputs": [],
   "source": [
    "nano.year=2012\n",
    "nano.mileage=10\n",
    "nano.make=123\n",
    "nano.model=\"qwd\"\n",
    "nano.engineno=1243431"
   ]
  },
  {
   "cell_type": "code",
   "execution_count": null,
   "id": "71e3a1bb",
   "metadata": {},
   "outputs": [],
   "source": [
    "nano.model"
   ]
  },
  {
   "cell_type": "code",
   "execution_count": null,
   "id": "cb8631b6",
   "metadata": {},
   "outputs": [],
   "source": [
    "nano.year"
   ]
  },
  {
   "cell_type": "code",
   "execution_count": null,
   "id": "fba2634e",
   "metadata": {},
   "outputs": [],
   "source": [
    "nano.engineno"
   ]
  },
  {
   "cell_type": "code",
   "execution_count": null,
   "id": "1bfd583c",
   "metadata": {},
   "outputs": [],
   "source": [
    "print(nano.mileage,\",\",nano.engineno)"
   ]
  },
  {
   "cell_type": "code",
   "execution_count": null,
   "id": "25b59290",
   "metadata": {},
   "outputs": [],
   "source": [
    "# Disadvantage is that we havent provided the body of the class\n",
    "# car , so everytime we create an object we are creating different characteristics\n",
    "# so for every class we have to define the characteristics of class object. This is hectic and stupenduous work will be \n",
    "# needed, we increase the reusability of code "
   ]
  },
  {
   "cell_type": "code",
   "execution_count": null,
   "id": "2dba2502",
   "metadata": {},
   "outputs": [],
   "source": [
    "class car:\n",
    "    def __init__(self,year,mileage,model,make):\n",
    "        self.year=year\n",
    "        self.model=model\n",
    "        self.mileage=mileage\n",
    "        self.make=make\n",
    "    # __init__ -->> initializing the variables of the class\n",
    "    # self--> it refers to the class itself and it's not a keyword\n",
    "    # init--> provider of the data to the class\n",
    "    # "
   ]
  },
  {
   "cell_type": "code",
   "execution_count": null,
   "id": "be8b78df",
   "metadata": {},
   "outputs": [],
   "source": [
    "nano=car()"
   ]
  },
  {
   "cell_type": "code",
   "execution_count": null,
   "id": "31581d0a",
   "metadata": {},
   "outputs": [],
   "source": [
    "nano=car(2021,23,\"tata\",214)"
   ]
  },
  {
   "cell_type": "code",
   "execution_count": null,
   "id": "f8fd058e",
   "metadata": {},
   "outputs": [],
   "source": [
    "nano.mileage"
   ]
  },
  {
   "cell_type": "code",
   "execution_count": null,
   "id": "5a4f590e",
   "metadata": {},
   "outputs": [],
   "source": [
    "audiq7=car(2023,40,2342,2423)"
   ]
  },
  {
   "cell_type": "code",
   "execution_count": null,
   "id": "cee6b76b",
   "metadata": {},
   "outputs": [],
   "source": [
    "audiq7.mileage"
   ]
  },
  {
   "cell_type": "code",
   "execution_count": null,
   "id": "bdb3223c",
   "metadata": {},
   "outputs": [],
   "source": [
    "baleno=car(model=12124,year=2020,make=\"maruti\",mileage=30)"
   ]
  },
  {
   "cell_type": "code",
   "execution_count": null,
   "id": "1a3b5921",
   "metadata": {},
   "outputs": [],
   "source": [
    "baleno.model"
   ]
  },
  {
   "cell_type": "code",
   "execution_count": null,
   "id": "9bd60132",
   "metadata": {},
   "outputs": [],
   "source": [
    "class car:\n",
    "    def __init__(year,mileage,model,make):\n",
    "        self.year=year\n",
    "        self.model=model\n",
    "        self.mileage=mileage                # here year is behaving as the self here \n",
    "        self.make=make                      # first parameter always behave as the pointer\n",
    "    # __init__ -->> initializing the variables of the class\n",
    "    # self--> it refers to the class itself and it's not a keyword\n",
    "    # init--> provider of the data to the class\n",
    "    # "
   ]
  },
  {
   "cell_type": "code",
   "execution_count": null,
   "id": "b3e79100",
   "metadata": {},
   "outputs": [],
   "source": [
    "nano=car(2021,124,124,1325)"
   ]
  },
  {
   "cell_type": "code",
   "execution_count": null,
   "id": "7a29cd23",
   "metadata": {},
   "outputs": [],
   "source": [
    "class car:\n",
    "    def __init__(a,year,mileage,model,make):\n",
    "        a.year=year\n",
    "        a.model=model\n",
    "        a.mileage=mileage                # here a is behaving as the self here \n",
    "        a.make=make                      # first parameter always behave as the pointer\n",
    "    # __init__ -->> initializing the variables of the class\n",
    "    # self--> it refers to the class itself and it's not a keyword\n",
    "    # init--> provider of the data to the class\n",
    "    # "
   ]
  },
  {
   "cell_type": "code",
   "execution_count": null,
   "id": "86c1d60b",
   "metadata": {},
   "outputs": [],
   "source": [
    "wagonr=car(123,12,1414,1412)"
   ]
  },
  {
   "cell_type": "code",
   "execution_count": null,
   "id": "2a468fe2",
   "metadata": {},
   "outputs": [],
   "source": [
    "wagonr.model"
   ]
  },
  {
   "cell_type": "code",
   "execution_count": null,
   "id": "418bd719",
   "metadata": {},
   "outputs": [],
   "source": [
    "class car:\n",
    "    def __init__(a,y,mi,mo,ma):\n",
    "        a.year=y\n",
    "        a.model=mo\n",
    "        a.mileage=mi                # here a is behaving as the self here \n",
    "        a.make=ma                     # first parameter always behave as the pointer\n",
    "    # __init__ -->> initializing the variables of the class\n",
    "    # self--> it refers to the class itself and it's not a keyword\n",
    "    # init--> provider of the data to the class\n",
    "    # "
   ]
  },
  {
   "cell_type": "code",
   "execution_count": null,
   "id": "33350b7e",
   "metadata": {},
   "outputs": [],
   "source": [
    "wagonr=car(123,12,1414,1412)"
   ]
  },
  {
   "cell_type": "code",
   "execution_count": null,
   "id": "51ce5ea5",
   "metadata": {},
   "outputs": [],
   "source": [
    "wagonr.mi"
   ]
  },
  {
   "cell_type": "code",
   "execution_count": null,
   "id": "9fc10db3",
   "metadata": {},
   "outputs": [],
   "source": [
    "class car:\n",
    "    def __init__(a,y,mi,mo,ma):\n",
    "        a.year=y\n",
    "        a.model=mo\n",
    "        a.mileage=mi                # here a is behaving as the self here \n",
    "        a.make=ma                     # first parameter always behave as the pointer\n",
    "    # __init__ -->> initializing the variables of the class\n",
    "    # self--> it refers to the class itself and it's not a keyword\n",
    "    # init--> provider of the data to the class\n",
    "    # \n",
    "    def age(self,current_year):\n",
    "        print(current_year-a.year) # cant use a here because pointer to the class itself is self not a in age function"
   ]
  },
  {
   "cell_type": "code",
   "execution_count": null,
   "id": "646463ec",
   "metadata": {},
   "outputs": [],
   "source": [
    "wagonr=car(2021,565,687,8768)"
   ]
  },
  {
   "cell_type": "code",
   "execution_count": null,
   "id": "a524497d",
   "metadata": {},
   "outputs": [],
   "source": [
    "class car:\n",
    "    def __init__(a,y,mi,mo,ma):\n",
    "        a.year=y\n",
    "        a.model=mo\n",
    "        a.mileage=mi                # here a is behaving as the self here \n",
    "        a.make=ma                     # first parameter always behave as the pointer\n",
    "    # __init__ -->> initializing the variables of the class\n",
    "    # self--> it refers to the class itself and it's not a keyword\n",
    "    # init--> provider of the data to the class\n",
    "    # \n",
    "    def age(self,current_year):\n",
    "        print(current_year-self.year)\n",
    "    # cant use a here because pointer to the class itself is self not a in age function\n",
    "    \n",
    "    def mileage1(self):\n",
    "            print(\"mileage of car\",self.mileage)\n",
    "            #return str(self.mileage)\n",
    "    def __str__(self):              ######## Message whenever the object is called\n",
    "        return \"This is my car class i have created\""
   ]
  },
  {
   "cell_type": "code",
   "execution_count": null,
   "id": "408ad4b0",
   "metadata": {},
   "outputs": [],
   "source": [
    "wagonr=car(2021,565,687,8768)"
   ]
  },
  {
   "cell_type": "code",
   "execution_count": null,
   "id": "3584a5c9",
   "metadata": {},
   "outputs": [],
   "source": [
    "wagonr.mileage1()"
   ]
  },
  {
   "cell_type": "code",
   "execution_count": null,
   "id": "3fb9b8c7",
   "metadata": {},
   "outputs": [],
   "source": [
    "print(wagonr)"
   ]
  },
  {
   "cell_type": "code",
   "execution_count": null,
   "id": "eb86a0dd",
   "metadata": {},
   "outputs": [],
   "source": [
    "wagonr"
   ]
  },
  {
   "cell_type": "code",
   "execution_count": null,
   "id": "5e9f21a5",
   "metadata": {},
   "outputs": [],
   "source": [
    "# Student\n",
    "\n",
    "class student:\n",
    "    def __init__(self, name, rollno, joindate, current_topic):\n",
    "        self.name=name\n",
    "        self.rollno=rollno\n",
    "        self.joindate=joindate\n",
    "        self.current_topic=current_topic\n",
    "        self.flag=True\n",
    "    \n",
    "    def crt_topic(self):\n",
    "        print(\"Current Topic discussed in my class is -->\",self.current_topic)\n",
    "    \n",
    "    def rollto_str(self):\n",
    "        if type(self.rollno) == int:\n",
    "            return str(self.rollno)\n",
    "        else:\n",
    "            print(\"Do nothing\")\n",
    "    def duration(self,current_date):\n",
    "        print(\"Duration of Student in my class is \",current_date-self.joindate)\n",
    "    \n",
    "    def __str__(self):\n",
    "        return \"Data of the student\""
   ]
  },
  {
   "cell_type": "code",
   "execution_count": null,
   "id": "1186b6f2",
   "metadata": {},
   "outputs": [],
   "source": [
    "s1=student(\"Naman\",40,2021,\"OOPs\")"
   ]
  },
  {
   "cell_type": "code",
   "execution_count": null,
   "id": "4707ecc0",
   "metadata": {},
   "outputs": [],
   "source": [
    "s1.duration(2023)"
   ]
  },
  {
   "cell_type": "code",
   "execution_count": null,
   "id": "2e740378",
   "metadata": {},
   "outputs": [],
   "source": [
    "s1.rollto_str()"
   ]
  },
  {
   "cell_type": "code",
   "execution_count": null,
   "id": "64eb5378",
   "metadata": {},
   "outputs": [],
   "source": [
    "s1.crt_topic()"
   ]
  },
  {
   "cell_type": "code",
   "execution_count": null,
   "id": "6b2976f1",
   "metadata": {},
   "outputs": [],
   "source": [
    "s2=student(\"Preeti\",41,2021,\"Job\")"
   ]
  },
  {
   "cell_type": "code",
   "execution_count": null,
   "id": "b840bdb1",
   "metadata": {},
   "outputs": [],
   "source": [
    "s2.crt_topic()"
   ]
  },
  {
   "cell_type": "code",
   "execution_count": null,
   "id": "93e5bfbd",
   "metadata": {},
   "outputs": [],
   "source": [
    "s3=student([\"Naman\",\"Preeti\",\"Metro\"],[40,41,35],[2021,2021,2020],[\"OOps\",\"job\",\"Hello\"])"
   ]
  },
  {
   "cell_type": "code",
   "execution_count": null,
   "id": "0f068145",
   "metadata": {},
   "outputs": [],
   "source": [
    "s3.name"
   ]
  },
  {
   "cell_type": "code",
   "execution_count": 16,
   "id": "38bf78cd",
   "metadata": {},
   "outputs": [
    {
     "ename": "NameError",
     "evalue": "name 's3' is not defined",
     "output_type": "error",
     "traceback": [
      "\u001b[1;31m---------------------------------------------------------------------------\u001b[0m",
      "\u001b[1;31mNameError\u001b[0m                                 Traceback (most recent call last)",
      "Cell \u001b[1;32mIn[16], line 1\u001b[0m\n\u001b[1;32m----> 1\u001b[0m \u001b[43ms3\u001b[49m\u001b[38;5;241m.\u001b[39mname[\u001b[38;5;241m0\u001b[39m]\n",
      "\u001b[1;31mNameError\u001b[0m: name 's3' is not defined"
     ]
    }
   ],
   "source": [
    "s3.name[0]"
   ]
  },
  {
   "cell_type": "code",
   "execution_count": null,
   "id": "b81fbbb4",
   "metadata": {},
   "outputs": [],
   "source": [
    "s3.name[2]"
   ]
  },
  {
   "cell_type": "code",
   "execution_count": null,
   "id": "d7531162",
   "metadata": {},
   "outputs": [],
   "source": [
    "f=open(\"naman.docx\",\"w\")"
   ]
  },
  {
   "cell_type": "code",
   "execution_count": null,
   "id": "5b8a24be",
   "metadata": {},
   "outputs": [],
   "source": [
    "f.write(\"Hello\")"
   ]
  },
  {
   "cell_type": "code",
   "execution_count": null,
   "id": "112c8076",
   "metadata": {},
   "outputs": [],
   "source": [
    "f.close()"
   ]
  },
  {
   "cell_type": "code",
   "execution_count": null,
   "id": "88f127ed",
   "metadata": {},
   "outputs": [],
   "source": []
  },
  {
   "cell_type": "code",
   "execution_count": null,
   "id": "ed99d80f",
   "metadata": {},
   "outputs": [],
   "source": [
    "# Task "
   ]
  },
  {
   "cell_type": "code",
   "execution_count": null,
   "id": "6dedc72f",
   "metadata": {},
   "outputs": [],
   "source": [
    "import os\n",
    "class data:\n",
    "    def __init__(self, filename, filetype, date, size ):\n",
    "        self.filename = filename\n",
    "        self.filetype = filetype\n",
    "        self.date = date\n",
    "        self.size = size\n",
    "    def file_open(self):\n",
    "        for i in os.listdir():\n",
    "            if os.path.isfile(self.filename):\n",
    "                break\n",
    "            else:\n",
    "                f=open(self.filename,\"w\")\n",
    "                f.write(\"You are in file {}\".format(self.filename))\n",
    "    def file_read(self):\n",
    "        if self.filename not in os.listdir():\n",
    "            print(\"File is not present kindly create the file first\")\n",
    "        else:\n",
    "            f=open(self.filename,\"r\")\n",
    "            return f\n",
    "    def file_append(self,data):\n",
    "        if self.filename not in os.listdir():\n",
    "            print(\"File is not present\")\n",
    "        else:\n",
    "            f=open(self.filename,\"a\")\n",
    "            f.write(\"\\n\")\n",
    "            f.write(data)\n",
    "            print(\"{} is added into the file--> {}\".format(data, self.filename))\n",
    "                "
   ]
  },
  {
   "cell_type": "code",
   "execution_count": null,
   "id": "1e592f19",
   "metadata": {},
   "outputs": [],
   "source": [
    "file1=data(\"Python_oops\",\".docx\",25012023,10)"
   ]
  },
  {
   "cell_type": "code",
   "execution_count": null,
   "id": "6e927600",
   "metadata": {},
   "outputs": [],
   "source": [
    "file1.file_open()"
   ]
  },
  {
   "cell_type": "code",
   "execution_count": null,
   "id": "0a4dc8c4",
   "metadata": {},
   "outputs": [],
   "source": [
    "for i in file1.file_read():\n",
    "    print(i)"
   ]
  },
  {
   "cell_type": "code",
   "execution_count": null,
   "id": "6173025e",
   "metadata": {},
   "outputs": [],
   "source": [
    "file1.file_append(\"Hello My name is naman\")"
   ]
  },
  {
   "cell_type": "code",
   "execution_count": 31,
   "id": "8752bb73",
   "metadata": {},
   "outputs": [],
   "source": [
    "# class homework\n",
    "import os\n",
    "import logging as lg\n",
    "\n",
    "class data:\n",
    "    \n",
    "    \n",
    "    def logger(self,level,data):\n",
    "        if level==\"info\":\n",
    "            lg.info(data)\n",
    "        elif level==\"warning\":\n",
    "            lg.warning(data)\n",
    "        elif level==\"error\":\n",
    "            lg.error(data)\n",
    "        elif level==\"debug\":\n",
    "            lg.debug(data)\n",
    "        else:\n",
    "            lg.critical(data)\n",
    "            \n",
    "            \n",
    "            \n",
    "            \n",
    "    def __init__(self,filename,ftype,size,date):\n",
    "        try:\n",
    "            \n",
    "            self.filename=filename\n",
    "            self.filetype=ftype\n",
    "            self.date=date\n",
    "            self.size=size\n",
    "            self.level=lg.INFO\n",
    "            lg.basicConfig(filename=\"data.log\",level=self.level, format=\"%(asctime)s %(name)s %(levelname)s %(message)s\")\n",
    "            self.logger(\"info\",\"The initialization of parameters, Object Instantiation\")\n",
    "        except Exception as e:\n",
    "            self.logger(\"error\",e)\n",
    "            print(e)\n",
    "    def file_open(self, filename):\n",
    "        try:\n",
    "            self.logger(\"info\",\"Opening a file {}\".format(filename))\n",
    "            if filename not in os.listdir():\n",
    "                try:\n",
    "                    self.logger(\"info\",\"Creating a file {}\".format(filename))\n",
    "                    f=open(filename,\"w\")\n",
    "                    self.logger(\"info\",\"File created\")\n",
    "                    f.write(\"We are present in the file {}\".format(filename))\n",
    "                    self.logger(\"info\",\"Written to the file {}\".format(filename))\n",
    "                    f.close()\n",
    "                    self.logger(\"info\",\"file {} is closed\".format(filename))\n",
    "                except Exception as e:\n",
    "                    self.logger(\"error\",\"Cant open file {} The error is {}\".format(filename,e))\n",
    "                    print(\"Cant open file, The following error is recieved {}\".format(e))\n",
    "            else:\n",
    "                try:\n",
    "                    self.logger(\"info\",\"Appending to the file {}\".format(filename))\n",
    "                    self.file_append(filename,\"file already created\")\n",
    "                    self.logger(\"info\",\"File is appended\")\n",
    "                except Exception as e:\n",
    "                    self.logger(\"error\",e)\n",
    "                    print(e)\n",
    "                \n",
    "        except Exception as e:\n",
    "            self.logger(\"Error\",e)\n",
    "            print(e)\n",
    "    \n",
    "    def file_read(self,filename):\n",
    "        self.logger(\"info\",\"Reading a file {}\".format(filename))\n",
    "        try:\n",
    "            if filename not in os.listdir():\n",
    "                print(\"File is not present\")\n",
    "                self.logger(\"Warning\",\"File isnt present, create the file first\")\n",
    "            else:\n",
    "                try:\n",
    "                    self.logger(\"info\",\"Opening file {}\".format(filename))\n",
    "                    f=open(filename,\"r+\")\n",
    "                    self.logger(\"info\",\"File opened\")\n",
    "                    print(f.read())\n",
    "                    self.logger(\"info\",\"data is read and printed on the console\")\n",
    "                except Exception as e:\n",
    "                    self.logger(\"error\",e)\n",
    "                    print(\"File not opening, The following error occured {}\".format(e))\n",
    "        except Exception as e:\n",
    "            self.logger(\"error\",e)\n",
    "            print(e)\n",
    "    \n",
    "    def file_append(self,filename,data):\n",
    "        self.logger(\"info\",\"Appending to the file {}\".format(filename))\n",
    "        try:\n",
    "            if filename not in os.listdir():\n",
    "                print(\"File not present\")\n",
    "                self.logger(\"warning\",\"File not present, create the file first\")\n",
    "            else:\n",
    "                self.logger(\"info\",\"File already present for appending\")\n",
    "                try:\n",
    "                    self.logger(\"info\",\"Opening file {}\".format(filename))\n",
    "                    f=open(filename,\"a\")\n",
    "                    self.logger(\"info\",\"file opened {}\".format(filename))\n",
    "                    f.write(\"\\n\")\n",
    "                    f.write(data)\n",
    "                    self.logger(\"info\",\"Data is written to the file {}\".format(filename))\n",
    "                    print(\"Data entered into the file {}\".format(filename))\n",
    "                except Exception as e:\n",
    "                    self.logger(\"error\",e)\n",
    "                    print(\"Not able to append to the file, The following error occurred {}\".format(e))\n",
    "        except Exception as e:\n",
    "            self.logger(\"error\",e)\n",
    "            print(e)\n",
    "    "
   ]
  },
  {
   "cell_type": "code",
   "execution_count": 32,
   "id": "9f989af6",
   "metadata": {},
   "outputs": [],
   "source": [
    "file1=data([\"Python\",\"logger\",\"Oops\"],[\".docx\",\".docx\",\".docx\"],[130,23,453],[2021,2022,2023])"
   ]
  },
  {
   "cell_type": "code",
   "execution_count": 33,
   "id": "6f93e277",
   "metadata": {},
   "outputs": [
    {
     "name": "stdout",
     "output_type": "stream",
     "text": [
      "Data entered into the file Oops\n"
     ]
    }
   ],
   "source": [
    "file1.file_open(\"Oops\")"
   ]
  },
  {
   "cell_type": "code",
   "execution_count": 34,
   "id": "69dc8cd9",
   "metadata": {},
   "outputs": [
    {
     "name": "stdout",
     "output_type": "stream",
     "text": [
      "\n",
      "file already created\n"
     ]
    }
   ],
   "source": [
    "file1.file_read(\"Oops\")"
   ]
  },
  {
   "cell_type": "code",
   "execution_count": null,
   "id": "e773c0f4",
   "metadata": {},
   "outputs": [],
   "source": []
  },
  {
   "cell_type": "code",
   "execution_count": null,
   "id": "0602ad1e",
   "metadata": {},
   "outputs": [],
   "source": []
  },
  {
   "cell_type": "code",
   "execution_count": null,
   "id": "09fa2b5e",
   "metadata": {},
   "outputs": [],
   "source": []
  }
 ],
 "metadata": {
  "kernelspec": {
   "display_name": "Python 3",
   "language": "python",
   "name": "python3"
  },
  "language_info": {
   "codemirror_mode": {
    "name": "ipython",
    "version": 3
   },
   "file_extension": ".py",
   "mimetype": "text/x-python",
   "name": "python",
   "nbconvert_exporter": "python",
   "pygments_lexer": "ipython3",
   "version": "3.8.8"
  }
 },
 "nbformat": 4,
 "nbformat_minor": 5
}
