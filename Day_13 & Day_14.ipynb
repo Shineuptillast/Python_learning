{
 "cells": [
  {
   "cell_type": "code",
   "execution_count": 1,
   "id": "dcd56bd5",
   "metadata": {},
   "outputs": [],
   "source": [
    "# Classes and objects"
   ]
  },
  {
   "cell_type": "code",
   "execution_count": 2,
   "id": "53d29cdb",
   "metadata": {},
   "outputs": [],
   "source": [
    "#Object Oriented Programming"
   ]
  },
  {
   "cell_type": "code",
   "execution_count": 3,
   "id": "9aebd650",
   "metadata": {},
   "outputs": [],
   "source": [
    "# OOPs---> Classes and Object"
   ]
  },
  {
   "cell_type": "code",
   "execution_count": 4,
   "id": "f7a24de1",
   "metadata": {},
   "outputs": [],
   "source": [
    "#class is the blueprint and objects are the instances of that class "
   ]
  },
  {
   "cell_type": "code",
   "execution_count": 5,
   "id": "30f9e421",
   "metadata": {},
   "outputs": [],
   "source": [
    "# Class includes the characteristic and functions "
   ]
  },
  {
   "cell_type": "code",
   "execution_count": 7,
   "id": "94a64afc",
   "metadata": {},
   "outputs": [],
   "source": [
    "# Example--> Car is a class which has characteristic like color, model, enginetype, etc and functions like start, stop, speedup"
   ]
  },
  {
   "cell_type": "code",
   "execution_count": 9,
   "id": "c50f0992",
   "metadata": {},
   "outputs": [],
   "source": [
    "# classes are close to real world, and object is an instance of the real world"
   ]
  },
  {
   "cell_type": "code",
   "execution_count": 10,
   "id": "bd4c2e52",
   "metadata": {},
   "outputs": [],
   "source": [
    "# classes is the real world entity, which is intangible (classification)"
   ]
  },
  {
   "cell_type": "code",
   "execution_count": 11,
   "id": "b86147c2",
   "metadata": {},
   "outputs": [],
   "source": [
    "# Objects are the real world entity, which are tangible or varibale of the classes"
   ]
  },
  {
   "cell_type": "code",
   "execution_count": 12,
   "id": "5797242c",
   "metadata": {},
   "outputs": [],
   "source": [
    "a=7 # instance/Varibale of an integer class"
   ]
  },
  {
   "cell_type": "code",
   "execution_count": 13,
   "id": "ed918e7e",
   "metadata": {},
   "outputs": [],
   "source": [
    "b=\"Hello\" # instance/Varibale of an String class"
   ]
  },
  {
   "cell_type": "code",
   "execution_count": 14,
   "id": "631c17c3",
   "metadata": {},
   "outputs": [],
   "source": [
    "c=1.23 # instance/Varibale of an Float class"
   ]
  },
  {
   "cell_type": "code",
   "execution_count": 15,
   "id": "350686c7",
   "metadata": {},
   "outputs": [],
   "source": [
    "# These data types are the classification"
   ]
  },
  {
   "cell_type": "code",
   "execution_count": 17,
   "id": "f9a85204",
   "metadata": {},
   "outputs": [],
   "source": [
    "l=[1,2,3,4] # Object of a list class"
   ]
  },
  {
   "cell_type": "code",
   "execution_count": 18,
   "id": "0eb59cc7",
   "metadata": {},
   "outputs": [
    {
     "ename": "SyntaxError",
     "evalue": "unexpected EOF while parsing (<ipython-input-18-02ef5be3782f>, line 2)",
     "output_type": "error",
     "traceback": [
      "\u001b[1;36m  Cell \u001b[1;32mIn[18], line 2\u001b[1;36m\u001b[0m\n\u001b[1;33m    \u001b[0m\n\u001b[1;37m    ^\u001b[0m\n\u001b[1;31mSyntaxError\u001b[0m\u001b[1;31m:\u001b[0m unexpected EOF while parsing\n"
     ]
    }
   ],
   "source": [
    "class car:\n",
    "    "
   ]
  },
  {
   "cell_type": "code",
   "execution_count": 19,
   "id": "8f1bfbfe",
   "metadata": {},
   "outputs": [],
   "source": [
    "# Because havent specified anything about the class blocks"
   ]
  },
  {
   "cell_type": "code",
   "execution_count": 20,
   "id": "b09782d6",
   "metadata": {},
   "outputs": [],
   "source": [
    "class car:\n",
    "    pass"
   ]
  },
  {
   "cell_type": "code",
   "execution_count": 21,
   "id": "aa3c8bf7",
   "metadata": {},
   "outputs": [],
   "source": [
    "audiq7=car()"
   ]
  },
  {
   "cell_type": "code",
   "execution_count": 22,
   "id": "7d326f3a",
   "metadata": {},
   "outputs": [
    {
     "data": {
      "text/plain": [
       "<__main__.car at 0x2947731c820>"
      ]
     },
     "execution_count": 22,
     "metadata": {},
     "output_type": "execute_result"
    }
   ],
   "source": [
    "audiq7"
   ]
  },
  {
   "cell_type": "code",
   "execution_count": 23,
   "id": "31d3640c",
   "metadata": {},
   "outputs": [],
   "source": [
    "# \"__main__\" is the super class"
   ]
  },
  {
   "cell_type": "code",
   "execution_count": 24,
   "id": "4907e636",
   "metadata": {},
   "outputs": [],
   "source": [
    "audiq7.mileage= 20\n",
    "audiq7.year= 2021\n",
    "audiq7.color= \"yellow\"\n",
    "audiq7.model= \"Q7\"\n",
    "audiq7.make=234"
   ]
  },
  {
   "cell_type": "code",
   "execution_count": 25,
   "id": "14fef165",
   "metadata": {},
   "outputs": [
    {
     "data": {
      "text/plain": [
       "234"
      ]
     },
     "execution_count": 25,
     "metadata": {},
     "output_type": "execute_result"
    }
   ],
   "source": [
    "audiq7.make"
   ]
  },
  {
   "cell_type": "code",
   "execution_count": 26,
   "id": "08b02e6e",
   "metadata": {},
   "outputs": [
    {
     "data": {
      "text/plain": [
       "'Q7'"
      ]
     },
     "execution_count": 26,
     "metadata": {},
     "output_type": "execute_result"
    }
   ],
   "source": [
    "audiq7.model"
   ]
  },
  {
   "cell_type": "code",
   "execution_count": 27,
   "id": "10b670d5",
   "metadata": {},
   "outputs": [
    {
     "data": {
      "text/plain": [
       "2021"
      ]
     },
     "execution_count": 27,
     "metadata": {},
     "output_type": "execute_result"
    }
   ],
   "source": [
    "audiq7.year"
   ]
  },
  {
   "cell_type": "code",
   "execution_count": 28,
   "id": "74e021e0",
   "metadata": {},
   "outputs": [],
   "source": [
    "nano=car()"
   ]
  },
  {
   "cell_type": "code",
   "execution_count": 32,
   "id": "993d5f4a",
   "metadata": {},
   "outputs": [],
   "source": [
    "nano.year=2012\n",
    "nano.mileage=10\n",
    "nano.make=123\n",
    "nano.model=\"qwd\"\n",
    "nano.engineno=1243431"
   ]
  },
  {
   "cell_type": "code",
   "execution_count": 33,
   "id": "f0c90483",
   "metadata": {},
   "outputs": [
    {
     "data": {
      "text/plain": [
       "'qwd'"
      ]
     },
     "execution_count": 33,
     "metadata": {},
     "output_type": "execute_result"
    }
   ],
   "source": [
    "nano.model"
   ]
  },
  {
   "cell_type": "code",
   "execution_count": 34,
   "id": "03c6a1d7",
   "metadata": {},
   "outputs": [
    {
     "data": {
      "text/plain": [
       "2012"
      ]
     },
     "execution_count": 34,
     "metadata": {},
     "output_type": "execute_result"
    }
   ],
   "source": [
    "nano.year"
   ]
  },
  {
   "cell_type": "code",
   "execution_count": 35,
   "id": "e86c492d",
   "metadata": {},
   "outputs": [
    {
     "data": {
      "text/plain": [
       "1243431"
      ]
     },
     "execution_count": 35,
     "metadata": {},
     "output_type": "execute_result"
    }
   ],
   "source": [
    "nano.engineno"
   ]
  },
  {
   "cell_type": "code",
   "execution_count": 38,
   "id": "0502633b",
   "metadata": {},
   "outputs": [
    {
     "name": "stdout",
     "output_type": "stream",
     "text": [
      "10 , 1243431\n"
     ]
    }
   ],
   "source": [
    "print(nano.mileage,\",\",nano.engineno)"
   ]
  },
  {
   "cell_type": "code",
   "execution_count": 40,
   "id": "76da2cda",
   "metadata": {},
   "outputs": [],
   "source": [
    "# Disadvantage is that we havent provided the body of the class\n",
    "# car , so everytime we create an object we are creating different characteristics\n",
    "# so for every class we have to define the characteristics of class object. This is hectic and stupenduous work will be \n",
    "# needed, we increase the reusability of code "
   ]
  },
  {
   "cell_type": "code",
   "execution_count": 41,
   "id": "72c0470b",
   "metadata": {},
   "outputs": [],
   "source": [
    "class car:\n",
    "    def __init__(self,year,mileage,model,make):\n",
    "        self.year=year\n",
    "        self.model=model\n",
    "        self.mileage=mileage\n",
    "        self.make=make\n",
    "    # __init__ -->> initializing the variables of the class\n",
    "    # self--> it refers to the class itself and it's not a keyword\n",
    "    # init--> provider of the data to the class\n",
    "    # "
   ]
  },
  {
   "cell_type": "code",
   "execution_count": 42,
   "id": "d1352e96",
   "metadata": {},
   "outputs": [
    {
     "ename": "TypeError",
     "evalue": "__init__() missing 4 required positional arguments: 'year', 'mileage', 'model', and 'make'",
     "output_type": "error",
     "traceback": [
      "\u001b[1;31m---------------------------------------------------------------------------\u001b[0m",
      "\u001b[1;31mTypeError\u001b[0m                                 Traceback (most recent call last)",
      "Cell \u001b[1;32mIn[42], line 1\u001b[0m\n\u001b[1;32m----> 1\u001b[0m nano\u001b[38;5;241m=\u001b[39m\u001b[43mcar\u001b[49m\u001b[43m(\u001b[49m\u001b[43m)\u001b[49m\n",
      "\u001b[1;31mTypeError\u001b[0m: __init__() missing 4 required positional arguments: 'year', 'mileage', 'model', and 'make'"
     ]
    }
   ],
   "source": [
    "nano=car()"
   ]
  },
  {
   "cell_type": "code",
   "execution_count": 43,
   "id": "33ae2745",
   "metadata": {},
   "outputs": [],
   "source": [
    "nano=car(2021,23,\"tata\",214)"
   ]
  },
  {
   "cell_type": "code",
   "execution_count": 44,
   "id": "d189d4d2",
   "metadata": {},
   "outputs": [
    {
     "data": {
      "text/plain": [
       "23"
      ]
     },
     "execution_count": 44,
     "metadata": {},
     "output_type": "execute_result"
    }
   ],
   "source": [
    "nano.mileage"
   ]
  },
  {
   "cell_type": "code",
   "execution_count": 45,
   "id": "986b1dca",
   "metadata": {},
   "outputs": [],
   "source": [
    "audiq7=car(2023,40,2342,2423)"
   ]
  },
  {
   "cell_type": "code",
   "execution_count": 47,
   "id": "e3372bf3",
   "metadata": {},
   "outputs": [
    {
     "data": {
      "text/plain": [
       "40"
      ]
     },
     "execution_count": 47,
     "metadata": {},
     "output_type": "execute_result"
    }
   ],
   "source": [
    "audiq7.mileage"
   ]
  },
  {
   "cell_type": "code",
   "execution_count": 48,
   "id": "126c38be",
   "metadata": {},
   "outputs": [],
   "source": [
    "baleno=car(model=12124,year=2020,make=\"maruti\",mileage=30)"
   ]
  },
  {
   "cell_type": "code",
   "execution_count": 49,
   "id": "b3796b63",
   "metadata": {},
   "outputs": [
    {
     "data": {
      "text/plain": [
       "12124"
      ]
     },
     "execution_count": 49,
     "metadata": {},
     "output_type": "execute_result"
    }
   ],
   "source": [
    "baleno.model"
   ]
  },
  {
   "cell_type": "code",
   "execution_count": 50,
   "id": "df35e240",
   "metadata": {},
   "outputs": [],
   "source": [
    "class car:\n",
    "    def __init__(year,mileage,model,make):\n",
    "        self.year=year\n",
    "        self.model=model\n",
    "        self.mileage=mileage                # here year is behaving as the self here \n",
    "        self.make=make                      # first parameter always behave as the pointer\n",
    "    # __init__ -->> initializing the variables of the class\n",
    "    # self--> it refers to the class itself and it's not a keyword\n",
    "    # init--> provider of the data to the class\n",
    "    # "
   ]
  },
  {
   "cell_type": "code",
   "execution_count": null,
   "id": "922cbdee",
   "metadata": {},
   "outputs": [],
   "source": [
    "nano=car(2021,124,124,1325)"
   ]
  },
  {
   "cell_type": "code",
   "execution_count": 54,
   "id": "ac46f599",
   "metadata": {},
   "outputs": [],
   "source": [
    "class car:\n",
    "    def __init__(a,year,mileage,model,make):\n",
    "        a.year=year\n",
    "        a.model=model\n",
    "        a.mileage=mileage                # here a is behaving as the self here \n",
    "        a.make=make                      # first parameter always behave as the pointer\n",
    "    # __init__ -->> initializing the variables of the class\n",
    "    # self--> it refers to the class itself and it's not a keyword\n",
    "    # init--> provider of the data to the class\n",
    "    # "
   ]
  },
  {
   "cell_type": "code",
   "execution_count": 55,
   "id": "4654e5b2",
   "metadata": {},
   "outputs": [],
   "source": [
    "wagonr=car(123,12,1414,1412)"
   ]
  },
  {
   "cell_type": "code",
   "execution_count": 57,
   "id": "c726a20c",
   "metadata": {},
   "outputs": [
    {
     "data": {
      "text/plain": [
       "1414"
      ]
     },
     "execution_count": 57,
     "metadata": {},
     "output_type": "execute_result"
    }
   ],
   "source": [
    "wagonr.model"
   ]
  },
  {
   "cell_type": "code",
   "execution_count": 59,
   "id": "443371da",
   "metadata": {},
   "outputs": [],
   "source": [
    "class car:\n",
    "    def __init__(a,y,mi,mo,ma):\n",
    "        a.year=y\n",
    "        a.model=mo\n",
    "        a.mileage=mi                # here a is behaving as the self here \n",
    "        a.make=ma                     # first parameter always behave as the pointer\n",
    "    # __init__ -->> initializing the variables of the class\n",
    "    # self--> it refers to the class itself and it's not a keyword\n",
    "    # init--> provider of the data to the class\n",
    "    # "
   ]
  },
  {
   "cell_type": "code",
   "execution_count": 60,
   "id": "420bc6fe",
   "metadata": {},
   "outputs": [],
   "source": [
    "wagonr=car(123,12,1414,1412)"
   ]
  },
  {
   "cell_type": "code",
   "execution_count": 61,
   "id": "84ceaef5",
   "metadata": {},
   "outputs": [
    {
     "ename": "AttributeError",
     "evalue": "'car' object has no attribute 'mi'",
     "output_type": "error",
     "traceback": [
      "\u001b[1;31m---------------------------------------------------------------------------\u001b[0m",
      "\u001b[1;31mAttributeError\u001b[0m                            Traceback (most recent call last)",
      "Cell \u001b[1;32mIn[61], line 1\u001b[0m\n\u001b[1;32m----> 1\u001b[0m \u001b[43mwagonr\u001b[49m\u001b[38;5;241;43m.\u001b[39;49m\u001b[43mmi\u001b[49m\n",
      "\u001b[1;31mAttributeError\u001b[0m: 'car' object has no attribute 'mi'"
     ]
    }
   ],
   "source": [
    "wagonr.mi"
   ]
  },
  {
   "cell_type": "code",
   "execution_count": 65,
   "id": "421b49d8",
   "metadata": {},
   "outputs": [],
   "source": [
    "class car:\n",
    "    def __init__(a,y,mi,mo,ma):\n",
    "        a.year=y\n",
    "        a.model=mo\n",
    "        a.mileage=mi                # here a is behaving as the self here \n",
    "        a.make=ma                     # first parameter always behave as the pointer\n",
    "    # __init__ -->> initializing the variables of the class\n",
    "    # self--> it refers to the class itself and it's not a keyword\n",
    "    # init--> provider of the data to the class\n",
    "    # \n",
    "    def age(self,current_year):\n",
    "        print(current_year-a.year) # cant use a here because pointer to the class itself is self not a in age function"
   ]
  },
  {
   "cell_type": "code",
   "execution_count": 66,
   "id": "e6b90d3f",
   "metadata": {},
   "outputs": [],
   "source": [
    "wagonr=car(2021,565,687,8768)"
   ]
  },
  {
   "cell_type": "code",
   "execution_count": 79,
   "id": "b7a5caab",
   "metadata": {},
   "outputs": [],
   "source": [
    "class car:\n",
    "    def __init__(a,y,mi,mo,ma):\n",
    "        a.year=y\n",
    "        a.model=mo\n",
    "        a.mileage=mi                # here a is behaving as the self here \n",
    "        a.make=ma                     # first parameter always behave as the pointer\n",
    "    # __init__ -->> initializing the variables of the class\n",
    "    # self--> it refers to the class itself and it's not a keyword\n",
    "    # init--> provider of the data to the class\n",
    "    # \n",
    "    def age(self,current_year):\n",
    "        print(current_year-self.year)\n",
    "    # cant use a here because pointer to the class itself is self not a in age function\n",
    "    \n",
    "    def mileage1(self):\n",
    "            print(\"mileage of car\",self.mileage)\n",
    "            #return str(self.mileage)"
   ]
  },
  {
   "cell_type": "code",
   "execution_count": 80,
   "id": "896e8ace",
   "metadata": {},
   "outputs": [],
   "source": [
    "wagonr=car(2021,565,687,8768)"
   ]
  },
  {
   "cell_type": "code",
   "execution_count": 81,
   "id": "0f4245cd",
   "metadata": {},
   "outputs": [
    {
     "name": "stdout",
     "output_type": "stream",
     "text": [
      "mileage of car 565\n"
     ]
    }
   ],
   "source": [
    "wagonr.mileage1()"
   ]
  },
  {
   "cell_type": "code",
   "execution_count": 82,
   "id": "bd4daa69",
   "metadata": {},
   "outputs": [
    {
     "data": {
      "text/plain": [
       "<__main__.car at 0x29477cfccd0>"
      ]
     },
     "execution_count": 82,
     "metadata": {},
     "output_type": "execute_result"
    }
   ],
   "source": [
    "wagonr"
   ]
  },
  {
   "cell_type": "code",
   "execution_count": null,
   "id": "3f2418b4",
   "metadata": {},
   "outputs": [],
   "source": []
  }
 ],
 "metadata": {
  "kernelspec": {
   "display_name": "Python 3",
   "language": "python",
   "name": "python3"
  },
  "language_info": {
   "codemirror_mode": {
    "name": "ipython",
    "version": 3
   },
   "file_extension": ".py",
   "mimetype": "text/x-python",
   "name": "python",
   "nbconvert_exporter": "python",
   "pygments_lexer": "ipython3",
   "version": "3.8.8"
  }
 },
 "nbformat": 4,
 "nbformat_minor": 5
}
