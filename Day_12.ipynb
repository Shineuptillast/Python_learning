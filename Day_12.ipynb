{
 "cells": [
  {
   "cell_type": "code",
   "execution_count": 4,
   "id": "88c96dd4",
   "metadata": {},
   "outputs": [],
   "source": [
    "## Logging and Debugging"
   ]
  },
  {
   "cell_type": "code",
   "execution_count": 6,
   "id": "144a8119",
   "metadata": {},
   "outputs": [],
   "source": [
    "import logging as lg"
   ]
  },
  {
   "cell_type": "code",
   "execution_count": 8,
   "id": "50d5a1bb",
   "metadata": {},
   "outputs": [],
   "source": [
    "import os"
   ]
  },
  {
   "cell_type": "code",
   "execution_count": 9,
   "id": "e862fb8d",
   "metadata": {},
   "outputs": [],
   "source": [
    "os.mkdir(\"logging\")"
   ]
  },
  {
   "cell_type": "code",
   "execution_count": 10,
   "id": "9617c1fc",
   "metadata": {},
   "outputs": [],
   "source": [
    "os.chdir(\"logging\")"
   ]
  },
  {
   "cell_type": "code",
   "execution_count": 11,
   "id": "4f420047",
   "metadata": {},
   "outputs": [
    {
     "data": {
      "text/plain": [
       "'C:\\\\Users\\\\Naman Jain\\\\Big_data\\\\logging'"
      ]
     },
     "execution_count": 11,
     "metadata": {},
     "output_type": "execute_result"
    }
   ],
   "source": [
    "os.getcwd()"
   ]
  },
  {
   "cell_type": "code",
   "execution_count": 12,
   "id": "c7893f7f",
   "metadata": {},
   "outputs": [],
   "source": [
    "lg.basicConfig(filename = 'test.log', level=lg.INFO)"
   ]
  },
  {
   "cell_type": "code",
   "execution_count": 13,
   "id": "9d877195",
   "metadata": {},
   "outputs": [],
   "source": [
    "lg.info(\"I am going to start my first program\")"
   ]
  },
  {
   "cell_type": "code",
   "execution_count": 14,
   "id": "d8909c14",
   "metadata": {},
   "outputs": [],
   "source": [
    "lg.warning(\"This is the first warning of my program so modify it\")"
   ]
  },
  {
   "cell_type": "code",
   "execution_count": 15,
   "id": "89b0b277",
   "metadata": {},
   "outputs": [],
   "source": [
    "lg.error(\"Major Error Kindly recheck it\")"
   ]
  },
  {
   "cell_type": "code",
   "execution_count": null,
   "id": "0987b97e",
   "metadata": {},
   "outputs": [],
   "source": []
  }
 ],
 "metadata": {
  "kernelspec": {
   "display_name": "Python 3",
   "language": "python",
   "name": "python3"
  },
  "language_info": {
   "codemirror_mode": {
    "name": "ipython",
    "version": 3
   },
   "file_extension": ".py",
   "mimetype": "text/x-python",
   "name": "python",
   "nbconvert_exporter": "python",
   "pygments_lexer": "ipython3",
   "version": "3.8.8"
  }
 },
 "nbformat": 4,
 "nbformat_minor": 5
}
