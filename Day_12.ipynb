{
 "cells": [
  {
   "cell_type": "code",
   "execution_count": 1,
   "id": "1db1bbfc",
   "metadata": {},
   "outputs": [],
   "source": [
    "## Logging and Debugging"
   ]
  },
  {
   "cell_type": "code",
   "execution_count": 28,
   "id": "5f931cbf",
   "metadata": {},
   "outputs": [],
   "source": [
    "import logging as lg"
   ]
  },
  {
   "cell_type": "code",
   "execution_count": 20,
   "id": "d0c2dd09",
   "metadata": {},
   "outputs": [],
   "source": [
    "import os"
   ]
  },
  {
   "cell_type": "code",
   "execution_count": 30,
   "id": "125d4413",
   "metadata": {},
   "outputs": [],
   "source": [
    "os.mkdir(\"logging\")"
   ]
  },
  {
   "cell_type": "code",
   "execution_count": 31,
   "id": "be91b3d7",
   "metadata": {},
   "outputs": [],
   "source": [
    "os.chdir(\"logging\")"
   ]
  },
  {
   "cell_type": "code",
   "execution_count": 32,
   "id": "08119c22",
   "metadata": {},
   "outputs": [
    {
     "data": {
      "text/plain": [
       "'C:\\\\Users\\\\Naman Jain\\\\Big_data\\\\logging'"
      ]
     },
     "execution_count": 32,
     "metadata": {},
     "output_type": "execute_result"
    }
   ],
   "source": [
    "os.getcwd()"
   ]
  },
  {
   "cell_type": "code",
   "execution_count": null,
   "id": "f3bf0c09",
   "metadata": {},
   "outputs": [],
   "source": [
    "lg.basicConfig(filename = 'test.log', level=lg.INFO)"
   ]
  },
  {
   "cell_type": "code",
   "execution_count": 39,
   "id": "5519b892",
   "metadata": {},
   "outputs": [],
   "source": [
    "lg.info(\"I am going to start my first program\")"
   ]
  },
  {
   "cell_type": "code",
   "execution_count": 41,
   "id": "21772913",
   "metadata": {},
   "outputs": [],
   "source": [
    "lg.warning(\"This is the first warning of my program so modify it\")"
   ]
  },
  {
   "cell_type": "code",
   "execution_count": 42,
   "id": "7749bb76",
   "metadata": {},
   "outputs": [],
   "source": [
    "lg.error(\"Major Error Kindly recheck it\")"
   ]
  },
  {
   "cell_type": "code",
   "execution_count": 43,
   "id": "0e8df617",
   "metadata": {},
   "outputs": [],
   "source": [
    "lg.basicConfig(filename='test.log', level=lg.INFO , format = '%(asctime)s %(message)s') # by default its info"
   ]
  },
  {
   "cell_type": "code",
   "execution_count": 47,
   "id": "6de7e5ee",
   "metadata": {},
   "outputs": [],
   "source": [
    "def test(a,b):\n",
    "    try:\n",
    "        div=a/b\n",
    "        return div\n",
    "    except Exception as e:\n",
    "        print(\"you can check the log for more info for the code\")\n",
    "        lg.error(\"Error has occures\")\n",
    "        lg.exception(str(e))"
   ]
  },
  {
   "cell_type": "code",
   "execution_count": 48,
   "id": "eb2730fc",
   "metadata": {},
   "outputs": [
    {
     "name": "stdout",
     "output_type": "stream",
     "text": [
      "you can check the log for more info for the code\n"
     ]
    }
   ],
   "source": [
    "test(4,0)"
   ]
  },
  {
   "cell_type": "code",
   "execution_count": 50,
   "id": "0123101c",
   "metadata": {},
   "outputs": [],
   "source": [
    "def test(a,b):\n",
    "    try:\n",
    "        lg.info(\"{} {} \".format(str(a),str(b)))\n",
    "        div=a/b\n",
    "        return div\n",
    "    except Exception as e:\n",
    "        print(\"you can check the log for more info for the code\")\n",
    "        lg.error(\"Error has occured\")\n",
    "        lg.exception(str(e))"
   ]
  },
  {
   "cell_type": "code",
   "execution_count": 51,
   "id": "e908576b",
   "metadata": {},
   "outputs": [
    {
     "name": "stdout",
     "output_type": "stream",
     "text": [
      "you can check the log for more info for the code\n"
     ]
    }
   ],
   "source": [
    "test(4,0)"
   ]
  },
  {
   "cell_type": "code",
   "execution_count": 2,
   "id": "0f11c224",
   "metadata": {},
   "outputs": [],
   "source": [
    "import logging as l"
   ]
  },
  {
   "cell_type": "code",
   "execution_count": 13,
   "id": "f989712f",
   "metadata": {},
   "outputs": [],
   "source": [
    "l.basicConfig(filename='C:\\\\Users\\\\Naman Jain\\\\Big_data\\\\test_2.log',level=l.DEBUG)"
   ]
  },
  {
   "cell_type": "code",
   "execution_count": 4,
   "id": "73d252ed",
   "metadata": {},
   "outputs": [],
   "source": [
    "def test1(a,b):\n",
    "    l.info(\"Start of Function --> Input {} {} \".format(a,b))\n",
    "    return a+b"
   ]
  },
  {
   "cell_type": "code",
   "execution_count": 5,
   "id": "5ebaf74d",
   "metadata": {},
   "outputs": [
    {
     "data": {
      "text/plain": [
       "10"
      ]
     },
     "execution_count": 5,
     "metadata": {},
     "output_type": "execute_result"
    }
   ],
   "source": [
    "test1(4,6)"
   ]
  },
  {
   "cell_type": "code",
   "execution_count": 7,
   "id": "bc0bdffc",
   "metadata": {},
   "outputs": [
    {
     "data": {
      "text/plain": [
       "20"
      ]
     },
     "execution_count": 7,
     "metadata": {},
     "output_type": "execute_result"
    }
   ],
   "source": [
    "test1(10,10)"
   ]
  },
  {
   "cell_type": "code",
   "execution_count": 8,
   "id": "ee592302",
   "metadata": {},
   "outputs": [
    {
     "data": {
      "text/plain": [
       "87"
      ]
     },
     "execution_count": 8,
     "metadata": {},
     "output_type": "execute_result"
    }
   ],
   "source": [
    "test1(20,67)"
   ]
  },
  {
   "cell_type": "code",
   "execution_count": 21,
   "id": "5176c64a",
   "metadata": {},
   "outputs": [
    {
     "data": {
      "text/plain": [
       "'C:\\\\Users\\\\Naman Jain\\\\Big_data'"
      ]
     },
     "execution_count": 21,
     "metadata": {},
     "output_type": "execute_result"
    }
   ],
   "source": [
    "os.getcwd()"
   ]
  },
  {
   "cell_type": "code",
   "execution_count": 14,
   "id": "94469db0",
   "metadata": {},
   "outputs": [],
   "source": [
    "l.debug(\"this is for debugging\")\n",
    "l.info(\"This is for info\")\n",
    "l.warning(\"This is my warning log\")\n",
    "l.error(\"This is my error log\")\n",
    "l.exception(\"This is my exception\")\n",
    "l.critical(\"This is my critical log\")"
   ]
  },
  {
   "cell_type": "code",
   "execution_count": 16,
   "id": "e1320347",
   "metadata": {},
   "outputs": [],
   "source": [
    "# Task "
   ]
  },
  {
   "cell_type": "code",
   "execution_count": 13,
   "id": "b25c3c14",
   "metadata": {},
   "outputs": [],
   "source": [
    "import logging as lg"
   ]
  },
  {
   "cell_type": "code",
   "execution_count": 14,
   "id": "bc0e4d17",
   "metadata": {},
   "outputs": [],
   "source": [
    "lg.basicConfig(filename='C:\\\\Users\\\\Naman Jain\\\\Big_data\\\\log1.log',level=lg.INFO)"
   ]
  },
  {
   "cell_type": "code",
   "execution_count": 15,
   "id": "b9f6571e",
   "metadata": {},
   "outputs": [],
   "source": [
    "def sum_all(*args):\n",
    "    lg.info(\"This is the addition Function\")\n",
    "    lg.info(\"The number of input submitted by user are --> {} and the values of all the inputs are {} \".format(len(args),args))\n",
    "    sum_all=0\n",
    "    for i in range(len(args)):\n",
    "        sum_all+=args[i]\n",
    "    return sum_all"
   ]
  },
  {
   "cell_type": "code",
   "execution_count": null,
   "id": "30b9f1cb",
   "metadata": {},
   "outputs": [],
   "source": []
  },
  {
   "cell_type": "code",
   "execution_count": 20,
   "id": "ed80794a",
   "metadata": {},
   "outputs": [
    {
     "data": {
      "text/plain": [
       "15"
      ]
     },
     "execution_count": 20,
     "metadata": {},
     "output_type": "execute_result"
    }
   ],
   "source": [
    "lg.info(\"User-Instruction--> This is the function of calculating the sum of any number of arguments passed during function call\")\n",
    "sum_all(1,2,3,4,5)"
   ]
  },
  {
   "cell_type": "code",
   "execution_count": 17,
   "id": "7d73a463",
   "metadata": {},
   "outputs": [],
   "source": [
    "f=open(\"log1.log\",\"r\")"
   ]
  },
  {
   "cell_type": "code",
   "execution_count": 18,
   "id": "2b842ab0",
   "metadata": {},
   "outputs": [
    {
     "data": {
      "text/plain": [
       "0"
      ]
     },
     "execution_count": 18,
     "metadata": {},
     "output_type": "execute_result"
    }
   ],
   "source": [
    "f.seek(0)"
   ]
  },
  {
   "cell_type": "code",
   "execution_count": 19,
   "id": "3de4dbd2",
   "metadata": {},
   "outputs": [
    {
     "name": "stdout",
     "output_type": "stream",
     "text": [
      "INFO:root:The number of input submitted by user are --> 1 and the values of all the inputs are ([1, 1, 1, 1],) \n",
      "\n",
      "INFO:root:The number of input submitted by user are --> 5 and the values of all the inputs are (1, 2, 3, 4, 5) \n",
      "\n",
      "INFO:root:This is the function of calculating the sum of any number of arguments passed during function call\n",
      "\n",
      "INFO:root:The number of input submitted by user are --> 5 and the values of all the inputs are (1, 2, 3, 4, 5) \n",
      "\n"
     ]
    }
   ],
   "source": [
    "for f in f:\n",
    "    print(f)"
   ]
  },
  {
   "cell_type": "code",
   "execution_count": null,
   "id": "2e075880",
   "metadata": {},
   "outputs": [],
   "source": []
  }
 ],
 "metadata": {
  "kernelspec": {
   "display_name": "Python 3",
   "language": "python",
   "name": "python3"
  },
  "language_info": {
   "codemirror_mode": {
    "name": "ipython",
    "version": 3
   },
   "file_extension": ".py",
   "mimetype": "text/x-python",
   "name": "python",
   "nbconvert_exporter": "python",
   "pygments_lexer": "ipython3",
   "version": "3.8.8"
  }
 },
 "nbformat": 4,
 "nbformat_minor": 5
}
