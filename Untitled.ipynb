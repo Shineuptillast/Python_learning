{
 "cells": [
  {
   "cell_type": "code",
   "execution_count": 1,
   "id": "7bdc83bc",
   "metadata": {},
   "outputs": [],
   "source": [
    "import mod1 as md"
   ]
  },
  {
   "cell_type": "code",
   "execution_count": 2,
   "id": "d4efb2a8",
   "metadata": {},
   "outputs": [],
   "source": []
  },
  {
   "cell_type": "code",
   "execution_count": null,
   "id": "acf65a04",
   "metadata": {},
   "outputs": [],
   "source": []
  },
  {
   "cell_type": "code",
   "execution_count": 11,
   "id": "162cee26",
   "metadata": {},
   "outputs": [
    {
     "name": "stdout",
     "output_type": "stream",
     "text": [
      "Enter the range for printing even number-->u\n",
      "The value entered is not integer invalid literal for int() with base 10: 'u'\n"
     ]
    }
   ],
   "source": [
    "try:\n",
    "    a = int( input(\"Enter the range for printing even number-->\"))\n",
    "except ValueError as e:\n",
    "    print(\"The value entered is not integer\",e)\n",
    "else:\n",
    "    for i in md.even_no(a):\n",
    "        print(i,end=\", \")\n",
    "    "
   ]
  },
  {
   "cell_type": "code",
   "execution_count": null,
   "id": "59c492d9",
   "metadata": {},
   "outputs": [],
   "source": []
  }
 ],
 "metadata": {
  "kernelspec": {
   "display_name": "Python 3",
   "language": "python",
   "name": "python3"
  },
  "language_info": {
   "codemirror_mode": {
    "name": "ipython",
    "version": 3
   },
   "file_extension": ".py",
   "mimetype": "text/x-python",
   "name": "python",
   "nbconvert_exporter": "python",
   "pygments_lexer": "ipython3",
   "version": "3.8.8"
  }
 },
 "nbformat": 4,
 "nbformat_minor": 5
}
