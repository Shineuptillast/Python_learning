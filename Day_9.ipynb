{
 "cells": [
  {
   "cell_type": "code",
   "execution_count": 2,
   "id": "c00b15c9",
   "metadata": {},
   "outputs": [
    {
     "name": "stdout",
     "output_type": "stream",
     "text": [
      "Functions in Python\n"
     ]
    }
   ],
   "source": [
    "print(\"Functions in Python\")"
   ]
  },
  {
   "cell_type": "code",
   "execution_count": 3,
   "id": "34860306",
   "metadata": {},
   "outputs": [
    {
     "name": "stdout",
     "output_type": "stream",
     "text": [
      "Will implement user based functions\n"
     ]
    }
   ],
   "source": [
    "print(\"Will implement user based functions\")"
   ]
  },
  {
   "cell_type": "code",
   "execution_count": 6,
   "id": "3ccd0fdb",
   "metadata": {},
   "outputs": [
    {
     "data": {
      "text/plain": [
       "3"
      ]
     },
     "execution_count": 6,
     "metadata": {},
     "output_type": "execute_result"
    }
   ],
   "source": [
    "a=1\n",
    "b=2\n",
    "a+b"
   ]
  },
  {
   "cell_type": "code",
   "execution_count": 7,
   "id": "e3113ae9",
   "metadata": {},
   "outputs": [],
   "source": [
    "a=10\n",
    "b=12"
   ]
  },
  {
   "cell_type": "code",
   "execution_count": 8,
   "id": "765e33c6",
   "metadata": {},
   "outputs": [
    {
     "data": {
      "text/plain": [
       "22"
      ]
     },
     "execution_count": 8,
     "metadata": {},
     "output_type": "execute_result"
    }
   ],
   "source": [
    "a+b"
   ]
  },
  {
   "cell_type": "code",
   "execution_count": 10,
   "id": "332ae393",
   "metadata": {},
   "outputs": [],
   "source": [
    "# the above code is scripting "
   ]
  },
  {
   "cell_type": "code",
   "execution_count": 11,
   "id": "be611457",
   "metadata": {},
   "outputs": [],
   "source": [
    "# Functions improve the reusability of code, make it easier for the user to read or execute the task easily"
   ]
  },
  {
   "cell_type": "code",
   "execution_count": 16,
   "id": "5ae9046c",
   "metadata": {},
   "outputs": [],
   "source": [
    "# def keyword for defining the function, it tells the interpreter that the block is function definition"
   ]
  },
  {
   "cell_type": "code",
   "execution_count": null,
   "id": "afac16c0",
   "metadata": {},
   "outputs": [],
   "source": [
    "# During function calling some arguments are passed"
   ]
  },
  {
   "cell_type": "code",
   "execution_count": 17,
   "id": "3f16b9db",
   "metadata": {},
   "outputs": [
    {
     "ename": "SyntaxError",
     "evalue": "unexpected EOF while parsing (<ipython-input-17-97341e2492e9>, line 2)",
     "output_type": "error",
     "traceback": [
      "\u001b[1;36m  File \u001b[1;32m\"<ipython-input-17-97341e2492e9>\"\u001b[1;36m, line \u001b[1;32m2\u001b[0m\n\u001b[1;33m    \u001b[0m\n\u001b[1;37m    ^\u001b[0m\n\u001b[1;31mSyntaxError\u001b[0m\u001b[1;31m:\u001b[0m unexpected EOF while parsing\n"
     ]
    }
   ],
   "source": [
    "def test(x,y):\n",
    "    "
   ]
  },
  {
   "cell_type": "code",
   "execution_count": 18,
   "id": "25c16ca2",
   "metadata": {},
   "outputs": [],
   "source": [
    "# The above function doesnt have any block hence errr"
   ]
  },
  {
   "cell_type": "code",
   "execution_count": 19,
   "id": "9c46cfda",
   "metadata": {},
   "outputs": [],
   "source": [
    "def test(x,u):\n",
    "    pass"
   ]
  },
  {
   "cell_type": "code",
   "execution_count": 20,
   "id": "e07309b6",
   "metadata": {},
   "outputs": [],
   "source": [
    "test(3,4)"
   ]
  },
  {
   "cell_type": "code",
   "execution_count": 21,
   "id": "8aa3e78b",
   "metadata": {},
   "outputs": [],
   "source": [
    "# The above function doesnt contain any logic, so hence no output is displayed"
   ]
  },
  {
   "cell_type": "code",
   "execution_count": 22,
   "id": "1f2fe163",
   "metadata": {},
   "outputs": [
    {
     "data": {
      "text/plain": [
       "<function __main__.test(x, u)>"
      ]
     },
     "execution_count": 22,
     "metadata": {},
     "output_type": "execute_result"
    }
   ],
   "source": [
    "test"
   ]
  },
  {
   "cell_type": "code",
   "execution_count": 25,
   "id": "81ad732a",
   "metadata": {},
   "outputs": [
    {
     "ename": "TypeError",
     "evalue": "test() missing 2 required positional arguments: 'x' and 'u'",
     "output_type": "error",
     "traceback": [
      "\u001b[1;31m---------------------------------------------------------------------------\u001b[0m",
      "\u001b[1;31mTypeError\u001b[0m                                 Traceback (most recent call last)",
      "\u001b[1;32m<ipython-input-25-59c343705e9a>\u001b[0m in \u001b[0;36m<module>\u001b[1;34m\u001b[0m\n\u001b[1;32m----> 1\u001b[1;33m \u001b[0mtest\u001b[0m\u001b[1;33m(\u001b[0m\u001b[1;33m)\u001b[0m \u001b[1;31m#function is expecting two arguments, as mentioned during the fuction definition\u001b[0m\u001b[1;33m\u001b[0m\u001b[1;33m\u001b[0m\u001b[0m\n\u001b[0m",
      "\u001b[1;31mTypeError\u001b[0m: test() missing 2 required positional arguments: 'x' and 'u'"
     ]
    }
   ],
   "source": [
    "test() #function is expecting two arguments, as mentioned during the fuction definition"
   ]
  },
  {
   "cell_type": "code",
   "execution_count": 33,
   "id": "ddaa5904",
   "metadata": {},
   "outputs": [],
   "source": [
    "def test(x,y): # Function Definition\n",
    "    print(x+y)"
   ]
  },
  {
   "cell_type": "code",
   "execution_count": 34,
   "id": "76d2637d",
   "metadata": {},
   "outputs": [
    {
     "name": "stdout",
     "output_type": "stream",
     "text": [
      "24\n"
     ]
    }
   ],
   "source": [
    "test(23,1) # Function calling"
   ]
  },
  {
   "cell_type": "code",
   "execution_count": 40,
   "id": "d2500359",
   "metadata": {},
   "outputs": [
    {
     "name": "stdout",
     "output_type": "stream",
     "text": [
      "78\n"
     ]
    },
    {
     "ename": "TypeError",
     "evalue": "unsupported operand type(s) for +: 'NoneType' and 'int'",
     "output_type": "error",
     "traceback": [
      "\u001b[1;31m---------------------------------------------------------------------------\u001b[0m",
      "\u001b[1;31mTypeError\u001b[0m                                 Traceback (most recent call last)",
      "\u001b[1;32m<ipython-input-40-36d2608cce1f>\u001b[0m in \u001b[0;36m<module>\u001b[1;34m\u001b[0m\n\u001b[1;32m----> 1\u001b[1;33m \u001b[0mtest\u001b[0m\u001b[1;33m(\u001b[0m\u001b[1;36m34\u001b[0m\u001b[1;33m,\u001b[0m\u001b[1;36m44\u001b[0m\u001b[1;33m)\u001b[0m\u001b[1;33m+\u001b[0m\u001b[1;36m0\u001b[0m\u001b[1;33m\u001b[0m\u001b[1;33m\u001b[0m\u001b[0m\n\u001b[0m",
      "\u001b[1;31mTypeError\u001b[0m: unsupported operand type(s) for +: 'NoneType' and 'int'"
     ]
    }
   ],
   "source": [
    "test(34,44)+0"
   ]
  },
  {
   "cell_type": "code",
   "execution_count": 29,
   "id": "2a88a7f2",
   "metadata": {},
   "outputs": [],
   "source": [
    "# We can call this function as many number of times as we want and we dont have to write the logic again and again, \n",
    "# Hence code reusability is increased"
   ]
  },
  {
   "cell_type": "code",
   "execution_count": 31,
   "id": "38e32e5e",
   "metadata": {},
   "outputs": [
    {
     "name": "stdout",
     "output_type": "stream",
     "text": [
      "18\n"
     ]
    },
    {
     "data": {
      "text/plain": [
       "NoneType"
      ]
     },
     "execution_count": 31,
     "metadata": {},
     "output_type": "execute_result"
    }
   ],
   "source": [
    "type(test(9,9))"
   ]
  },
  {
   "cell_type": "code",
   "execution_count": 32,
   "id": "cad1b4a4",
   "metadata": {},
   "outputs": [],
   "source": [
    "# the function is not returning any data, hence the return type is none"
   ]
  },
  {
   "cell_type": "code",
   "execution_count": 35,
   "id": "b4425404",
   "metadata": {},
   "outputs": [],
   "source": [
    "def test1(b,m):\n",
    "    return(b*m)"
   ]
  },
  {
   "cell_type": "code",
   "execution_count": 39,
   "id": "0c09081d",
   "metadata": {},
   "outputs": [
    {
     "data": {
      "text/plain": [
       "29"
      ]
     },
     "execution_count": 39,
     "metadata": {},
     "output_type": "execute_result"
    }
   ],
   "source": [
    "test1(10,2) +9"
   ]
  },
  {
   "cell_type": "code",
   "execution_count": 38,
   "id": "d23ecfa8",
   "metadata": {},
   "outputs": [
    {
     "data": {
      "text/plain": [
       "int"
      ]
     },
     "execution_count": 38,
     "metadata": {},
     "output_type": "execute_result"
    }
   ],
   "source": [
    "type(test1(10,9))"
   ]
  },
  {
   "cell_type": "code",
   "execution_count": 41,
   "id": "23336ad0",
   "metadata": {},
   "outputs": [],
   "source": [
    "t=None"
   ]
  },
  {
   "cell_type": "code",
   "execution_count": 42,
   "id": "463e4eab",
   "metadata": {},
   "outputs": [
    {
     "data": {
      "text/plain": [
       "NoneType"
      ]
     },
     "execution_count": 42,
     "metadata": {},
     "output_type": "execute_result"
    }
   ],
   "source": [
    "type(t)"
   ]
  },
  {
   "cell_type": "code",
   "execution_count": 45,
   "id": "c21491ea",
   "metadata": {},
   "outputs": [],
   "source": [
    "a=test1(10,4) # storing the data into the variable that is returned by the function"
   ]
  },
  {
   "cell_type": "code",
   "execution_count": 46,
   "id": "060266e1",
   "metadata": {},
   "outputs": [
    {
     "data": {
      "text/plain": [
       "40"
      ]
     },
     "execution_count": 46,
     "metadata": {},
     "output_type": "execute_result"
    }
   ],
   "source": [
    "a"
   ]
  },
  {
   "cell_type": "code",
   "execution_count": 47,
   "id": "b30e730a",
   "metadata": {},
   "outputs": [
    {
     "name": "stdout",
     "output_type": "stream",
     "text": [
      "20\n"
     ]
    }
   ],
   "source": [
    "b=test(10,10)"
   ]
  },
  {
   "cell_type": "code",
   "execution_count": 49,
   "id": "9cd299df",
   "metadata": {},
   "outputs": [
    {
     "data": {
      "text/plain": [
       "NoneType"
      ]
     },
     "execution_count": 49,
     "metadata": {},
     "output_type": "execute_result"
    }
   ],
   "source": [
    "type(b) # because its not storing anything, because function is not returning anything other than writing on the console"
   ]
  },
  {
   "cell_type": "code",
   "execution_count": 53,
   "id": "810c1611",
   "metadata": {},
   "outputs": [],
   "source": [
    "def test2(m,n,o):\n",
    "    return m+n"
   ]
  },
  {
   "cell_type": "code",
   "execution_count": 56,
   "id": "0092f9c4",
   "metadata": {},
   "outputs": [
    {
     "ename": "TypeError",
     "evalue": "test2() missing 1 required positional argument: 'o'",
     "output_type": "error",
     "traceback": [
      "\u001b[1;31m---------------------------------------------------------------------------\u001b[0m",
      "\u001b[1;31mTypeError\u001b[0m                                 Traceback (most recent call last)",
      "\u001b[1;32m<ipython-input-56-45f41fa0a737>\u001b[0m in \u001b[0;36m<module>\u001b[1;34m\u001b[0m\n\u001b[1;32m----> 1\u001b[1;33m \u001b[0mtest2\u001b[0m\u001b[1;33m(\u001b[0m\u001b[1;36m2\u001b[0m\u001b[1;33m,\u001b[0m\u001b[1;36m3\u001b[0m\u001b[1;33m)\u001b[0m \u001b[1;31m# function needs 3 argument but only two are passed during the fall call\u001b[0m\u001b[1;33m\u001b[0m\u001b[1;33m\u001b[0m\u001b[0m\n\u001b[0m",
      "\u001b[1;31mTypeError\u001b[0m: test2() missing 1 required positional argument: 'o'"
     ]
    }
   ],
   "source": [
    "test2(2,3) # function needs 3 argument but only two are passed during the fall call"
   ]
  },
  {
   "cell_type": "code",
   "execution_count": 57,
   "id": "c655c18f",
   "metadata": {},
   "outputs": [
    {
     "data": {
      "text/plain": [
       "3"
      ]
     },
     "execution_count": 57,
     "metadata": {},
     "output_type": "execute_result"
    }
   ],
   "source": [
    "test2(1,2,0)"
   ]
  },
  {
   "cell_type": "code",
   "execution_count": 72,
   "id": "271c7ed2",
   "metadata": {},
   "outputs": [],
   "source": [
    "def test3(n, m):\n",
    "    return n*10,m/2 # Returning multiple values as tuples"
   ]
  },
  {
   "cell_type": "code",
   "execution_count": 59,
   "id": "b88477e4",
   "metadata": {},
   "outputs": [
    {
     "data": {
      "text/plain": [
       "(20, 2.0)"
      ]
     },
     "execution_count": 59,
     "metadata": {},
     "output_type": "execute_result"
    }
   ],
   "source": [
    "test3(2,4)"
   ]
  },
  {
   "cell_type": "code",
   "execution_count": 60,
   "id": "3a1d564c",
   "metadata": {},
   "outputs": [],
   "source": [
    "a,b = test3(10,4)"
   ]
  },
  {
   "cell_type": "code",
   "execution_count": 61,
   "id": "055c3e70",
   "metadata": {},
   "outputs": [
    {
     "data": {
      "text/plain": [
       "100"
      ]
     },
     "execution_count": 61,
     "metadata": {},
     "output_type": "execute_result"
    }
   ],
   "source": [
    "a"
   ]
  },
  {
   "cell_type": "code",
   "execution_count": 62,
   "id": "44745708",
   "metadata": {},
   "outputs": [
    {
     "data": {
      "text/plain": [
       "2.0"
      ]
     },
     "execution_count": 62,
     "metadata": {},
     "output_type": "execute_result"
    }
   ],
   "source": [
    "b"
   ]
  },
  {
   "cell_type": "code",
   "execution_count": 63,
   "id": "817328de",
   "metadata": {},
   "outputs": [],
   "source": [
    "def test4(m,n,o):\n",
    "    return m*10, n/4, m+n"
   ]
  },
  {
   "cell_type": "code",
   "execution_count": 64,
   "id": "e1581fa6",
   "metadata": {},
   "outputs": [
    {
     "data": {
      "text/plain": [
       "(100, 5.0, 30)"
      ]
     },
     "execution_count": 64,
     "metadata": {},
     "output_type": "execute_result"
    }
   ],
   "source": [
    "test4(10,20,30)"
   ]
  },
  {
   "cell_type": "code",
   "execution_count": 65,
   "id": "991ed32f",
   "metadata": {},
   "outputs": [
    {
     "data": {
      "text/plain": [
       "tuple"
      ]
     },
     "execution_count": 65,
     "metadata": {},
     "output_type": "execute_result"
    }
   ],
   "source": [
    "type(test4(10,20,30))"
   ]
  },
  {
   "cell_type": "code",
   "execution_count": 70,
   "id": "1c335fb7",
   "metadata": {},
   "outputs": [],
   "source": [
    "a,b,c=test4(10,20,30)  # unpacking tuples"
   ]
  },
  {
   "cell_type": "code",
   "execution_count": 67,
   "id": "9f1d366d",
   "metadata": {},
   "outputs": [
    {
     "data": {
      "text/plain": [
       "100"
      ]
     },
     "execution_count": 67,
     "metadata": {},
     "output_type": "execute_result"
    }
   ],
   "source": [
    "a"
   ]
  },
  {
   "cell_type": "code",
   "execution_count": 68,
   "id": "4b5af0c3",
   "metadata": {},
   "outputs": [
    {
     "data": {
      "text/plain": [
       "5.0"
      ]
     },
     "execution_count": 68,
     "metadata": {},
     "output_type": "execute_result"
    }
   ],
   "source": [
    "b"
   ]
  },
  {
   "cell_type": "code",
   "execution_count": 69,
   "id": "a1a2fd53",
   "metadata": {},
   "outputs": [
    {
     "data": {
      "text/plain": [
       "30"
      ]
     },
     "execution_count": 69,
     "metadata": {},
     "output_type": "execute_result"
    }
   ],
   "source": [
    "c"
   ]
  },
  {
   "cell_type": "code",
   "execution_count": 74,
   "id": "c83ac6b3",
   "metadata": {},
   "outputs": [],
   "source": [
    "c,x=test3(2,7)"
   ]
  },
  {
   "cell_type": "code",
   "execution_count": 75,
   "id": "f2b46532",
   "metadata": {},
   "outputs": [
    {
     "data": {
      "text/plain": [
       "20"
      ]
     },
     "execution_count": 75,
     "metadata": {},
     "output_type": "execute_result"
    }
   ],
   "source": [
    "c"
   ]
  },
  {
   "cell_type": "code",
   "execution_count": 76,
   "id": "b8446011",
   "metadata": {},
   "outputs": [
    {
     "data": {
      "text/plain": [
       "3.5"
      ]
     },
     "execution_count": 76,
     "metadata": {},
     "output_type": "execute_result"
    }
   ],
   "source": [
    "x"
   ]
  },
  {
   "cell_type": "code",
   "execution_count": 77,
   "id": "0fc31318",
   "metadata": {},
   "outputs": [],
   "source": [
    "c,v,_=test4(10,20,20)"
   ]
  },
  {
   "cell_type": "code",
   "execution_count": 78,
   "id": "1e05d180",
   "metadata": {},
   "outputs": [
    {
     "data": {
      "text/plain": [
       "100"
      ]
     },
     "execution_count": 78,
     "metadata": {},
     "output_type": "execute_result"
    }
   ],
   "source": [
    "c"
   ]
  },
  {
   "cell_type": "code",
   "execution_count": 79,
   "id": "43f70c32",
   "metadata": {},
   "outputs": [
    {
     "data": {
      "text/plain": [
       "5.0"
      ]
     },
     "execution_count": 79,
     "metadata": {},
     "output_type": "execute_result"
    }
   ],
   "source": [
    "v"
   ]
  },
  {
   "cell_type": "code",
   "execution_count": 80,
   "id": "a08339eb",
   "metadata": {},
   "outputs": [
    {
     "ename": "SyntaxError",
     "evalue": "invalid syntax (<ipython-input-80-60215a10e730>, line 1)",
     "output_type": "error",
     "traceback": [
      "\u001b[1;36m  File \u001b[1;32m\"<ipython-input-80-60215a10e730>\"\u001b[1;36m, line \u001b[1;32m1\u001b[0m\n\u001b[1;33m    -\u001b[0m\n\u001b[1;37m     ^\u001b[0m\n\u001b[1;31mSyntaxError\u001b[0m\u001b[1;31m:\u001b[0m invalid syntax\n"
     ]
    }
   ],
   "source": [
    "-"
   ]
  },
  {
   "cell_type": "code",
   "execution_count": 81,
   "id": "241cf4ca",
   "metadata": {},
   "outputs": [
    {
     "data": {
      "text/plain": [
       "30"
      ]
     },
     "execution_count": 81,
     "metadata": {},
     "output_type": "execute_result"
    }
   ],
   "source": [
    "_"
   ]
  },
  {
   "cell_type": "code",
   "execution_count": null,
   "id": "f5591140",
   "metadata": {},
   "outputs": [],
   "source": []
  }
 ],
 "metadata": {
  "kernelspec": {
   "display_name": "Python 3",
   "language": "python",
   "name": "python3"
  },
  "language_info": {
   "codemirror_mode": {
    "name": "ipython",
    "version": 3
   },
   "file_extension": ".py",
   "mimetype": "text/x-python",
   "name": "python",
   "nbconvert_exporter": "python",
   "pygments_lexer": "ipython3",
   "version": "3.8.8"
  }
 },
 "nbformat": 4,
 "nbformat_minor": 5
}
