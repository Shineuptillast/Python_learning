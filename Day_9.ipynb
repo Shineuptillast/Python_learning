{
 "cells": [
  {
   "cell_type": "code",
   "execution_count": 2,
   "id": "2725d935",
   "metadata": {},
   "outputs": [
    {
     "name": "stdout",
     "output_type": "stream",
     "text": [
      "Functions in Python\n"
     ]
    }
   ],
   "source": [
    "print(\"Functions in Python\")"
   ]
  },
  {
   "cell_type": "code",
   "execution_count": 3,
   "id": "fcbe016b",
   "metadata": {},
   "outputs": [
    {
     "name": "stdout",
     "output_type": "stream",
     "text": [
      "Will implement user based functions\n"
     ]
    }
   ],
   "source": [
    "print(\"Will implement user based functions\")"
   ]
  },
  {
   "cell_type": "code",
   "execution_count": 6,
   "id": "eebe5f58",
   "metadata": {},
   "outputs": [
    {
     "data": {
      "text/plain": [
       "3"
      ]
     },
     "execution_count": 6,
     "metadata": {},
     "output_type": "execute_result"
    }
   ],
   "source": [
    "a=1\n",
    "b=2\n",
    "a+b"
   ]
  },
  {
   "cell_type": "code",
   "execution_count": 7,
   "id": "4c8bc37a",
   "metadata": {},
   "outputs": [],
   "source": [
    "a=10\n",
    "b=12"
   ]
  },
  {
   "cell_type": "code",
   "execution_count": 8,
   "id": "8859e23e",
   "metadata": {},
   "outputs": [
    {
     "data": {
      "text/plain": [
       "22"
      ]
     },
     "execution_count": 8,
     "metadata": {},
     "output_type": "execute_result"
    }
   ],
   "source": [
    "a+b"
   ]
  },
  {
   "cell_type": "code",
   "execution_count": 10,
   "id": "1a82e1cf",
   "metadata": {},
   "outputs": [],
   "source": [
    "# the above code is scripting "
   ]
  },
  {
   "cell_type": "code",
   "execution_count": 11,
   "id": "9e74a28d",
   "metadata": {},
   "outputs": [],
   "source": [
    "# Functions improve the reusability of code, make it easier for the user to read or execute the task easily"
   ]
  },
  {
   "cell_type": "code",
   "execution_count": 16,
   "id": "9dd4467f",
   "metadata": {},
   "outputs": [],
   "source": [
    "# def keyword for defining the function, it tells the interpreter that the block is function definition"
   ]
  },
  {
   "cell_type": "code",
   "execution_count": null,
   "id": "317d21eb",
   "metadata": {},
   "outputs": [],
   "source": [
    "# During function calling some arguments are passed"
   ]
  },
  {
   "cell_type": "code",
   "execution_count": 17,
   "id": "32f0a5cc",
   "metadata": {},
   "outputs": [
    {
     "ename": "SyntaxError",
     "evalue": "unexpected EOF while parsing (<ipython-input-17-97341e2492e9>, line 2)",
     "output_type": "error",
     "traceback": [
      "\u001b[1;36m  File \u001b[1;32m\"<ipython-input-17-97341e2492e9>\"\u001b[1;36m, line \u001b[1;32m2\u001b[0m\n\u001b[1;33m    \u001b[0m\n\u001b[1;37m    ^\u001b[0m\n\u001b[1;31mSyntaxError\u001b[0m\u001b[1;31m:\u001b[0m unexpected EOF while parsing\n"
     ]
    }
   ],
   "source": [
    "def test(x,y):\n",
    "    "
   ]
  },
  {
   "cell_type": "code",
   "execution_count": 18,
   "id": "9c0959b8",
   "metadata": {},
   "outputs": [],
   "source": [
    "# The above function doesnt have any block hence errr"
   ]
  },
  {
   "cell_type": "code",
   "execution_count": 19,
   "id": "8bbfff4e",
   "metadata": {},
   "outputs": [],
   "source": [
    "def test(x,u):\n",
    "    pass"
   ]
  },
  {
   "cell_type": "code",
   "execution_count": 20,
   "id": "3d212ab3",
   "metadata": {},
   "outputs": [],
   "source": [
    "test(3,4)"
   ]
  },
  {
   "cell_type": "code",
   "execution_count": 21,
   "id": "cd00708d",
   "metadata": {},
   "outputs": [],
   "source": [
    "# The above function doesnt contain any logic, so hence no output is displayed"
   ]
  },
  {
   "cell_type": "code",
   "execution_count": 22,
   "id": "e7681296",
   "metadata": {},
   "outputs": [
    {
     "data": {
      "text/plain": [
       "<function __main__.test(x, u)>"
      ]
     },
     "execution_count": 22,
     "metadata": {},
     "output_type": "execute_result"
    }
   ],
   "source": [
    "test"
   ]
  },
  {
   "cell_type": "code",
   "execution_count": 25,
   "id": "b7963ee2",
   "metadata": {},
   "outputs": [
    {
     "ename": "TypeError",
     "evalue": "test() missing 2 required positional arguments: 'x' and 'u'",
     "output_type": "error",
     "traceback": [
      "\u001b[1;31m---------------------------------------------------------------------------\u001b[0m",
      "\u001b[1;31mTypeError\u001b[0m                                 Traceback (most recent call last)",
      "\u001b[1;32m<ipython-input-25-59c343705e9a>\u001b[0m in \u001b[0;36m<module>\u001b[1;34m\u001b[0m\n\u001b[1;32m----> 1\u001b[1;33m \u001b[0mtest\u001b[0m\u001b[1;33m(\u001b[0m\u001b[1;33m)\u001b[0m \u001b[1;31m#function is expecting two arguments, as mentioned during the fuction definition\u001b[0m\u001b[1;33m\u001b[0m\u001b[1;33m\u001b[0m\u001b[0m\n\u001b[0m",
      "\u001b[1;31mTypeError\u001b[0m: test() missing 2 required positional arguments: 'x' and 'u'"
     ]
    }
   ],
   "source": [
    "test() #function is expecting two arguments, as mentioned during the fuction definition"
   ]
  },
  {
   "cell_type": "code",
   "execution_count": 33,
   "id": "add11ad5",
   "metadata": {},
   "outputs": [],
   "source": [
    "def test(x,y): # Function Definition\n",
    "    print(x+y)"
   ]
  },
  {
   "cell_type": "code",
   "execution_count": 34,
   "id": "54a915bd",
   "metadata": {},
   "outputs": [
    {
     "name": "stdout",
     "output_type": "stream",
     "text": [
      "24\n"
     ]
    }
   ],
   "source": [
    "test(23,1) # Function calling"
   ]
  },
  {
   "cell_type": "code",
   "execution_count": 40,
   "id": "985c6ac1",
   "metadata": {},
   "outputs": [
    {
     "name": "stdout",
     "output_type": "stream",
     "text": [
      "78\n"
     ]
    },
    {
     "ename": "TypeError",
     "evalue": "unsupported operand type(s) for +: 'NoneType' and 'int'",
     "output_type": "error",
     "traceback": [
      "\u001b[1;31m---------------------------------------------------------------------------\u001b[0m",
      "\u001b[1;31mTypeError\u001b[0m                                 Traceback (most recent call last)",
      "\u001b[1;32m<ipython-input-40-36d2608cce1f>\u001b[0m in \u001b[0;36m<module>\u001b[1;34m\u001b[0m\n\u001b[1;32m----> 1\u001b[1;33m \u001b[0mtest\u001b[0m\u001b[1;33m(\u001b[0m\u001b[1;36m34\u001b[0m\u001b[1;33m,\u001b[0m\u001b[1;36m44\u001b[0m\u001b[1;33m)\u001b[0m\u001b[1;33m+\u001b[0m\u001b[1;36m0\u001b[0m\u001b[1;33m\u001b[0m\u001b[1;33m\u001b[0m\u001b[0m\n\u001b[0m",
      "\u001b[1;31mTypeError\u001b[0m: unsupported operand type(s) for +: 'NoneType' and 'int'"
     ]
    }
   ],
   "source": [
    "test(34,44)+0"
   ]
  },
  {
   "cell_type": "code",
   "execution_count": 29,
   "id": "f6a07cff",
   "metadata": {},
   "outputs": [],
   "source": [
    "# We can call this function as many number of times as we want and we dont have to write the logic again and again, \n",
    "# Hence code reusability is increased"
   ]
  },
  {
   "cell_type": "code",
   "execution_count": 31,
   "id": "422a48c3",
   "metadata": {},
   "outputs": [
    {
     "name": "stdout",
     "output_type": "stream",
     "text": [
      "18\n"
     ]
    },
    {
     "data": {
      "text/plain": [
       "NoneType"
      ]
     },
     "execution_count": 31,
     "metadata": {},
     "output_type": "execute_result"
    }
   ],
   "source": [
    "type(test(9,9))"
   ]
  },
  {
   "cell_type": "code",
   "execution_count": 32,
   "id": "a2d7aff5",
   "metadata": {},
   "outputs": [],
   "source": [
    "# the function is not returning any data, hence the return type is none"
   ]
  },
  {
   "cell_type": "code",
   "execution_count": 35,
   "id": "0eebb173",
   "metadata": {},
   "outputs": [],
   "source": [
    "def test1(b,m):\n",
    "    return(b*m)"
   ]
  },
  {
   "cell_type": "code",
   "execution_count": 39,
   "id": "0a66a5a9",
   "metadata": {},
   "outputs": [
    {
     "data": {
      "text/plain": [
       "29"
      ]
     },
     "execution_count": 39,
     "metadata": {},
     "output_type": "execute_result"
    }
   ],
   "source": [
    "test1(10,2) +9"
   ]
  },
  {
   "cell_type": "code",
   "execution_count": 38,
   "id": "4d24f078",
   "metadata": {},
   "outputs": [
    {
     "data": {
      "text/plain": [
       "int"
      ]
     },
     "execution_count": 38,
     "metadata": {},
     "output_type": "execute_result"
    }
   ],
   "source": [
    "type(test1(10,9))"
   ]
  },
  {
   "cell_type": "code",
   "execution_count": 41,
   "id": "cd9c35f9",
   "metadata": {},
   "outputs": [],
   "source": [
    "t=None"
   ]
  },
  {
   "cell_type": "code",
   "execution_count": 42,
   "id": "597afaff",
   "metadata": {},
   "outputs": [
    {
     "data": {
      "text/plain": [
       "NoneType"
      ]
     },
     "execution_count": 42,
     "metadata": {},
     "output_type": "execute_result"
    }
   ],
   "source": [
    "type(t)"
   ]
  },
  {
   "cell_type": "code",
   "execution_count": 45,
   "id": "418dccb2",
   "metadata": {},
   "outputs": [],
   "source": [
    "a=test1(10,4) # storing the data into the variable that is returned by the function"
   ]
  },
  {
   "cell_type": "code",
   "execution_count": 46,
   "id": "7b4d9181",
   "metadata": {},
   "outputs": [
    {
     "data": {
      "text/plain": [
       "40"
      ]
     },
     "execution_count": 46,
     "metadata": {},
     "output_type": "execute_result"
    }
   ],
   "source": [
    "a"
   ]
  },
  {
   "cell_type": "code",
   "execution_count": 47,
   "id": "076250e4",
   "metadata": {},
   "outputs": [
    {
     "name": "stdout",
     "output_type": "stream",
     "text": [
      "20\n"
     ]
    }
   ],
   "source": [
    "b=test(10,10)"
   ]
  },
  {
   "cell_type": "code",
   "execution_count": 49,
   "id": "704ec92d",
   "metadata": {},
   "outputs": [
    {
     "data": {
      "text/plain": [
       "NoneType"
      ]
     },
     "execution_count": 49,
     "metadata": {},
     "output_type": "execute_result"
    }
   ],
   "source": [
    "type(b) # because its not storing anything, because function is not returning anything other than writing on the console"
   ]
  },
  {
   "cell_type": "code",
   "execution_count": 53,
   "id": "da139b98",
   "metadata": {},
   "outputs": [],
   "source": [
    "def test2(m,n,o):\n",
    "    return m+n"
   ]
  },
  {
   "cell_type": "code",
   "execution_count": 56,
   "id": "3217b302",
   "metadata": {},
   "outputs": [
    {
     "ename": "TypeError",
     "evalue": "test2() missing 1 required positional argument: 'o'",
     "output_type": "error",
     "traceback": [
      "\u001b[1;31m---------------------------------------------------------------------------\u001b[0m",
      "\u001b[1;31mTypeError\u001b[0m                                 Traceback (most recent call last)",
      "\u001b[1;32m<ipython-input-56-45f41fa0a737>\u001b[0m in \u001b[0;36m<module>\u001b[1;34m\u001b[0m\n\u001b[1;32m----> 1\u001b[1;33m \u001b[0mtest2\u001b[0m\u001b[1;33m(\u001b[0m\u001b[1;36m2\u001b[0m\u001b[1;33m,\u001b[0m\u001b[1;36m3\u001b[0m\u001b[1;33m)\u001b[0m \u001b[1;31m# function needs 3 argument but only two are passed during the fall call\u001b[0m\u001b[1;33m\u001b[0m\u001b[1;33m\u001b[0m\u001b[0m\n\u001b[0m",
      "\u001b[1;31mTypeError\u001b[0m: test2() missing 1 required positional argument: 'o'"
     ]
    }
   ],
   "source": [
    "test2(2,3) # function needs 3 argument but only two are passed during the fall call"
   ]
  },
  {
   "cell_type": "code",
   "execution_count": 57,
   "id": "7e28622a",
   "metadata": {},
   "outputs": [
    {
     "data": {
      "text/plain": [
       "3"
      ]
     },
     "execution_count": 57,
     "metadata": {},
     "output_type": "execute_result"
    }
   ],
   "source": [
    "test2(1,2,0)"
   ]
  },
  {
   "cell_type": "code",
   "execution_count": 72,
   "id": "08f14114",
   "metadata": {},
   "outputs": [],
   "source": [
    "def test3(n, m):\n",
    "    return n*10,m/2 # Returning multiple values as tuples"
   ]
  },
  {
   "cell_type": "code",
   "execution_count": 59,
   "id": "a5f1fbf2",
   "metadata": {},
   "outputs": [
    {
     "data": {
      "text/plain": [
       "(20, 2.0)"
      ]
     },
     "execution_count": 59,
     "metadata": {},
     "output_type": "execute_result"
    }
   ],
   "source": [
    "test3(2,4)"
   ]
  },
  {
   "cell_type": "code",
   "execution_count": 60,
   "id": "b041770b",
   "metadata": {},
   "outputs": [],
   "source": [
    "a,b = test3(10,4)"
   ]
  },
  {
   "cell_type": "code",
   "execution_count": 61,
   "id": "1e9a3bef",
   "metadata": {},
   "outputs": [
    {
     "data": {
      "text/plain": [
       "100"
      ]
     },
     "execution_count": 61,
     "metadata": {},
     "output_type": "execute_result"
    }
   ],
   "source": [
    "a"
   ]
  },
  {
   "cell_type": "code",
   "execution_count": 62,
   "id": "dad9545f",
   "metadata": {},
   "outputs": [
    {
     "data": {
      "text/plain": [
       "2.0"
      ]
     },
     "execution_count": 62,
     "metadata": {},
     "output_type": "execute_result"
    }
   ],
   "source": [
    "b"
   ]
  },
  {
   "cell_type": "code",
   "execution_count": 63,
   "id": "dc73c956",
   "metadata": {},
   "outputs": [],
   "source": [
    "def test4(m,n,o):\n",
    "    return m*10, n/4, m+n"
   ]
  },
  {
   "cell_type": "code",
   "execution_count": 64,
   "id": "8401dfe4",
   "metadata": {},
   "outputs": [
    {
     "data": {
      "text/plain": [
       "(100, 5.0, 30)"
      ]
     },
     "execution_count": 64,
     "metadata": {},
     "output_type": "execute_result"
    }
   ],
   "source": [
    "test4(10,20,30)"
   ]
  },
  {
   "cell_type": "code",
   "execution_count": 65,
   "id": "4a701039",
   "metadata": {},
   "outputs": [
    {
     "data": {
      "text/plain": [
       "tuple"
      ]
     },
     "execution_count": 65,
     "metadata": {},
     "output_type": "execute_result"
    }
   ],
   "source": [
    "type(test4(10,20,30))"
   ]
  },
  {
   "cell_type": "code",
   "execution_count": 70,
   "id": "04ab5e54",
   "metadata": {},
   "outputs": [],
   "source": [
    "a,b,c=test4(10,20,30)  # unpacking tuples"
   ]
  },
  {
   "cell_type": "code",
   "execution_count": 67,
   "id": "be573f9d",
   "metadata": {},
   "outputs": [
    {
     "data": {
      "text/plain": [
       "100"
      ]
     },
     "execution_count": 67,
     "metadata": {},
     "output_type": "execute_result"
    }
   ],
   "source": [
    "a"
   ]
  },
  {
   "cell_type": "code",
   "execution_count": 68,
   "id": "5d3ebaff",
   "metadata": {},
   "outputs": [
    {
     "data": {
      "text/plain": [
       "5.0"
      ]
     },
     "execution_count": 68,
     "metadata": {},
     "output_type": "execute_result"
    }
   ],
   "source": [
    "b"
   ]
  },
  {
   "cell_type": "code",
   "execution_count": 69,
   "id": "bbb1b349",
   "metadata": {},
   "outputs": [
    {
     "data": {
      "text/plain": [
       "30"
      ]
     },
     "execution_count": 69,
     "metadata": {},
     "output_type": "execute_result"
    }
   ],
   "source": [
    "c"
   ]
  },
  {
   "cell_type": "code",
   "execution_count": 74,
   "id": "f916c242",
   "metadata": {},
   "outputs": [],
   "source": [
    "c,x=test3(2,7)"
   ]
  },
  {
   "cell_type": "code",
   "execution_count": 75,
   "id": "f1ded441",
   "metadata": {},
   "outputs": [
    {
     "data": {
      "text/plain": [
       "20"
      ]
     },
     "execution_count": 75,
     "metadata": {},
     "output_type": "execute_result"
    }
   ],
   "source": [
    "c"
   ]
  },
  {
   "cell_type": "code",
   "execution_count": 76,
   "id": "10796051",
   "metadata": {},
   "outputs": [
    {
     "data": {
      "text/plain": [
       "3.5"
      ]
     },
     "execution_count": 76,
     "metadata": {},
     "output_type": "execute_result"
    }
   ],
   "source": [
    "x"
   ]
  },
  {
   "cell_type": "code",
   "execution_count": 77,
   "id": "40d21253",
   "metadata": {},
   "outputs": [],
   "source": [
    "c,v,_=test4(10,20,20)"
   ]
  },
  {
   "cell_type": "code",
   "execution_count": 78,
   "id": "70ef6fa8",
   "metadata": {},
   "outputs": [
    {
     "data": {
      "text/plain": [
       "100"
      ]
     },
     "execution_count": 78,
     "metadata": {},
     "output_type": "execute_result"
    }
   ],
   "source": [
    "c"
   ]
  },
  {
   "cell_type": "code",
   "execution_count": 79,
   "id": "49adea20",
   "metadata": {},
   "outputs": [
    {
     "data": {
      "text/plain": [
       "5.0"
      ]
     },
     "execution_count": 79,
     "metadata": {},
     "output_type": "execute_result"
    }
   ],
   "source": [
    "v"
   ]
  },
  {
   "cell_type": "code",
   "execution_count": 80,
   "id": "516d6ef5",
   "metadata": {},
   "outputs": [
    {
     "ename": "SyntaxError",
     "evalue": "invalid syntax (<ipython-input-80-60215a10e730>, line 1)",
     "output_type": "error",
     "traceback": [
      "\u001b[1;36m  File \u001b[1;32m\"<ipython-input-80-60215a10e730>\"\u001b[1;36m, line \u001b[1;32m1\u001b[0m\n\u001b[1;33m    -\u001b[0m\n\u001b[1;37m     ^\u001b[0m\n\u001b[1;31mSyntaxError\u001b[0m\u001b[1;31m:\u001b[0m invalid syntax\n"
     ]
    }
   ],
   "source": [
    "-"
   ]
  },
  {
   "cell_type": "code",
   "execution_count": 81,
   "id": "268b8012",
   "metadata": {},
   "outputs": [
    {
     "data": {
      "text/plain": [
       "30"
      ]
     },
     "execution_count": 81,
     "metadata": {},
     "output_type": "execute_result"
    }
   ],
   "source": [
    "_"
   ]
  },
  {
   "cell_type": "code",
   "execution_count": 82,
   "id": "049985e0",
   "metadata": {},
   "outputs": [],
   "source": [
    "c,_,m=test4(10,20,20)"
   ]
  },
  {
   "cell_type": "code",
   "execution_count": 83,
   "id": "a3122697",
   "metadata": {},
   "outputs": [
    {
     "data": {
      "text/plain": [
       "100"
      ]
     },
     "execution_count": 83,
     "metadata": {},
     "output_type": "execute_result"
    }
   ],
   "source": [
    "c"
   ]
  },
  {
   "cell_type": "code",
   "execution_count": 84,
   "id": "f12852a9",
   "metadata": {},
   "outputs": [
    {
     "data": {
      "text/plain": [
       "5.0"
      ]
     },
     "execution_count": 84,
     "metadata": {},
     "output_type": "execute_result"
    }
   ],
   "source": [
    "_"
   ]
  },
  {
   "cell_type": "code",
   "execution_count": 85,
   "id": "fc2bce22",
   "metadata": {},
   "outputs": [
    {
     "data": {
      "text/plain": [
       "30"
      ]
     },
     "execution_count": 85,
     "metadata": {},
     "output_type": "execute_result"
    }
   ],
   "source": [
    "m"
   ]
  },
  {
   "cell_type": "code",
   "execution_count": 88,
   "id": "c619580a",
   "metadata": {},
   "outputs": [],
   "source": [
    "_,_,_=test4(10,20,20) # placeholder is confused here which variable to store"
   ]
  },
  {
   "cell_type": "code",
   "execution_count": 87,
   "id": "b53724f2",
   "metadata": {},
   "outputs": [
    {
     "data": {
      "text/plain": [
       "30"
      ]
     },
     "execution_count": 87,
     "metadata": {},
     "output_type": "execute_result"
    }
   ],
   "source": [
    "_"
   ]
  },
  {
   "cell_type": "code",
   "execution_count": 91,
   "id": "62074af6",
   "metadata": {},
   "outputs": [],
   "source": [
    "def test5(n,m,t):\n",
    "    return t+n\n",
    "    return n+n  # first return statement will be executed only"
   ]
  },
  {
   "cell_type": "code",
   "execution_count": 92,
   "id": "755060a6",
   "metadata": {},
   "outputs": [
    {
     "data": {
      "text/plain": [
       "30"
      ]
     },
     "execution_count": 92,
     "metadata": {},
     "output_type": "execute_result"
    }
   ],
   "source": [
    "test5(10,20,20)"
   ]
  },
  {
   "cell_type": "code",
   "execution_count": 94,
   "id": "5a70a81b",
   "metadata": {},
   "outputs": [],
   "source": [
    "def test():\n",
    "    print(\"This is my first function\")"
   ]
  },
  {
   "cell_type": "code",
   "execution_count": 95,
   "id": "561b7b09",
   "metadata": {},
   "outputs": [
    {
     "name": "stdout",
     "output_type": "stream",
     "text": [
      "This is my first function\n"
     ]
    }
   ],
   "source": [
    "m=test()"
   ]
  },
  {
   "cell_type": "code",
   "execution_count": 96,
   "id": "93e93289",
   "metadata": {},
   "outputs": [
    {
     "name": "stdout",
     "output_type": "stream",
     "text": [
      "This is my first function\n"
     ]
    },
    {
     "data": {
      "text/plain": [
       "NoneType"
      ]
     },
     "execution_count": 96,
     "metadata": {},
     "output_type": "execute_result"
    }
   ],
   "source": [
    "type(test())"
   ]
  },
  {
   "cell_type": "code",
   "execution_count": 97,
   "id": "85f6428b",
   "metadata": {},
   "outputs": [
    {
     "ename": "TypeError",
     "evalue": "unsupported operand type(s) for +: 'NoneType' and 'str'",
     "output_type": "error",
     "traceback": [
      "\u001b[1;31m---------------------------------------------------------------------------\u001b[0m",
      "\u001b[1;31mTypeError\u001b[0m                                 Traceback (most recent call last)",
      "\u001b[1;32m<ipython-input-97-48f285eb8d33>\u001b[0m in \u001b[0;36m<module>\u001b[1;34m\u001b[0m\n\u001b[1;32m----> 1\u001b[1;33m \u001b[0mm\u001b[0m\u001b[1;33m+\u001b[0m\u001b[1;34m\"afn\"\u001b[0m\u001b[1;33m\u001b[0m\u001b[1;33m\u001b[0m\u001b[0m\n\u001b[0m",
      "\u001b[1;31mTypeError\u001b[0m: unsupported operand type(s) for +: 'NoneType' and 'str'"
     ]
    }
   ],
   "source": [
    "m+\"afn\""
   ]
  },
  {
   "cell_type": "code",
   "execution_count": 98,
   "id": "a1c02765",
   "metadata": {},
   "outputs": [],
   "source": [
    "def test2():\n",
    "    return \"ASDFGHJKL\""
   ]
  },
  {
   "cell_type": "code",
   "execution_count": 99,
   "id": "2d28bc45",
   "metadata": {},
   "outputs": [
    {
     "data": {
      "text/plain": [
       "'ASDFGHJKL'"
      ]
     },
     "execution_count": 99,
     "metadata": {},
     "output_type": "execute_result"
    }
   ],
   "source": [
    "test2()"
   ]
  },
  {
   "cell_type": "code",
   "execution_count": 100,
   "id": "76d60298",
   "metadata": {},
   "outputs": [],
   "source": [
    "r=test2()"
   ]
  },
  {
   "cell_type": "code",
   "execution_count": 101,
   "id": "809851bc",
   "metadata": {},
   "outputs": [
    {
     "data": {
      "text/plain": [
       "'ASDFGHJKL'"
      ]
     },
     "execution_count": 101,
     "metadata": {},
     "output_type": "execute_result"
    }
   ],
   "source": [
    "r"
   ]
  },
  {
   "cell_type": "code",
   "execution_count": 105,
   "id": "b336fbd2",
   "metadata": {},
   "outputs": [],
   "source": [
    "def test8(n):\n",
    "    return n*2 # list concatenation"
   ]
  },
  {
   "cell_type": "code",
   "execution_count": 106,
   "id": "7b4cc786",
   "metadata": {},
   "outputs": [
    {
     "data": {
      "text/plain": [
       "[1, 2, 3, 4, 1, 2, 3, 4]"
      ]
     },
     "execution_count": 106,
     "metadata": {},
     "output_type": "execute_result"
    }
   ],
   "source": [
    "test8([1,2,3,4])"
   ]
  },
  {
   "cell_type": "code",
   "execution_count": 107,
   "id": "182269ee",
   "metadata": {},
   "outputs": [
    {
     "data": {
      "text/plain": [
       "4"
      ]
     },
     "execution_count": 107,
     "metadata": {},
     "output_type": "execute_result"
    }
   ],
   "source": [
    "test8(2)"
   ]
  },
  {
   "cell_type": "code",
   "execution_count": 110,
   "id": "f9ed4504",
   "metadata": {},
   "outputs": [],
   "source": [
    "def test9(n):\n",
    "    return n,n*7   # returning a tuple"
   ]
  },
  {
   "cell_type": "code",
   "execution_count": 111,
   "id": "12d3765e",
   "metadata": {},
   "outputs": [
    {
     "data": {
      "text/plain": [
       "(10, 70)"
      ]
     },
     "execution_count": 111,
     "metadata": {},
     "output_type": "execute_result"
    }
   ],
   "source": [
    "test9(10)"
   ]
  },
  {
   "cell_type": "code",
   "execution_count": 113,
   "id": "9a29a1ce",
   "metadata": {},
   "outputs": [
    {
     "data": {
      "text/plain": [
       "([1, 2, 3, 4],\n",
       " [1,\n",
       "  2,\n",
       "  3,\n",
       "  4,\n",
       "  1,\n",
       "  2,\n",
       "  3,\n",
       "  4,\n",
       "  1,\n",
       "  2,\n",
       "  3,\n",
       "  4,\n",
       "  1,\n",
       "  2,\n",
       "  3,\n",
       "  4,\n",
       "  1,\n",
       "  2,\n",
       "  3,\n",
       "  4,\n",
       "  1,\n",
       "  2,\n",
       "  3,\n",
       "  4,\n",
       "  1,\n",
       "  2,\n",
       "  3,\n",
       "  4])"
      ]
     },
     "execution_count": 113,
     "metadata": {},
     "output_type": "execute_result"
    }
   ],
   "source": [
    "test9([1,2,3,4]) # tuples"
   ]
  },
  {
   "cell_type": "code",
   "execution_count": 114,
   "id": "9b3210de",
   "metadata": {},
   "outputs": [],
   "source": [
    "b=test9([1,2,3,4])"
   ]
  },
  {
   "cell_type": "code",
   "execution_count": 115,
   "id": "40daf8ae",
   "metadata": {},
   "outputs": [
    {
     "data": {
      "text/plain": [
       "([1, 2, 3, 4],\n",
       " [1,\n",
       "  2,\n",
       "  3,\n",
       "  4,\n",
       "  1,\n",
       "  2,\n",
       "  3,\n",
       "  4,\n",
       "  1,\n",
       "  2,\n",
       "  3,\n",
       "  4,\n",
       "  1,\n",
       "  2,\n",
       "  3,\n",
       "  4,\n",
       "  1,\n",
       "  2,\n",
       "  3,\n",
       "  4,\n",
       "  1,\n",
       "  2,\n",
       "  3,\n",
       "  4,\n",
       "  1,\n",
       "  2,\n",
       "  3,\n",
       "  4])"
      ]
     },
     "execution_count": 115,
     "metadata": {},
     "output_type": "execute_result"
    }
   ],
   "source": [
    "b"
   ]
  },
  {
   "cell_type": "code",
   "execution_count": 116,
   "id": "245e67fd",
   "metadata": {},
   "outputs": [
    {
     "data": {
      "text/plain": [
       "[1,\n",
       " 2,\n",
       " 3,\n",
       " 4,\n",
       " 1,\n",
       " 2,\n",
       " 3,\n",
       " 4,\n",
       " 1,\n",
       " 2,\n",
       " 3,\n",
       " 4,\n",
       " 1,\n",
       " 2,\n",
       " 3,\n",
       " 4,\n",
       " 1,\n",
       " 2,\n",
       " 3,\n",
       " 4,\n",
       " 1,\n",
       " 2,\n",
       " 3,\n",
       " 4,\n",
       " 1,\n",
       " 2,\n",
       " 3,\n",
       " 4]"
      ]
     },
     "execution_count": 116,
     "metadata": {},
     "output_type": "execute_result"
    }
   ],
   "source": [
    "b[1]"
   ]
  },
  {
   "cell_type": "code",
   "execution_count": 117,
   "id": "a39fb592",
   "metadata": {},
   "outputs": [
    {
     "data": {
      "text/plain": [
       "[1, 2, 3, 4]"
      ]
     },
     "execution_count": 117,
     "metadata": {},
     "output_type": "execute_result"
    }
   ],
   "source": [
    "b[0]"
   ]
  },
  {
   "cell_type": "code",
   "execution_count": 125,
   "id": "ed523439",
   "metadata": {},
   "outputs": [],
   "source": [
    "def test10(n,m=90): # Default argument is used, will be used if the parameter dont recieve any value during function call\n",
    "    return n+m"
   ]
  },
  {
   "cell_type": "code",
   "execution_count": 126,
   "id": "d5641152",
   "metadata": {},
   "outputs": [
    {
     "data": {
      "text/plain": [
       "180"
      ]
     },
     "execution_count": 126,
     "metadata": {},
     "output_type": "execute_result"
    }
   ],
   "source": [
    "test10(90)"
   ]
  },
  {
   "cell_type": "code",
   "execution_count": 127,
   "id": "63cd2313",
   "metadata": {},
   "outputs": [
    {
     "data": {
      "text/plain": [
       "40"
      ]
     },
     "execution_count": 127,
     "metadata": {},
     "output_type": "execute_result"
    }
   ],
   "source": [
    "test10(20,20)"
   ]
  },
  {
   "cell_type": "code",
   "execution_count": null,
   "id": "7de5dc65",
   "metadata": {},
   "outputs": [],
   "source": [
    "print() # this is also a function, but it's a in-built function"
   ]
  },
  {
   "cell_type": "code",
   "execution_count": 132,
   "id": "09ab905c",
   "metadata": {},
   "outputs": [],
   "source": [
    "def boolx(X=True,Y=False): \n",
    "    return X+Y"
   ]
  },
  {
   "cell_type": "code",
   "execution_count": 133,
   "id": "3b17ee79",
   "metadata": {},
   "outputs": [
    {
     "data": {
      "text/plain": [
       "1"
      ]
     },
     "execution_count": 133,
     "metadata": {},
     "output_type": "execute_result"
    }
   ],
   "source": [
    "boolx()"
   ]
  },
  {
   "cell_type": "code",
   "execution_count": 134,
   "id": "fb679c8a",
   "metadata": {},
   "outputs": [
    {
     "data": {
      "text/plain": [
       "0"
      ]
     },
     "execution_count": 134,
     "metadata": {},
     "output_type": "execute_result"
    }
   ],
   "source": [
    "boolx(False)"
   ]
  },
  {
   "cell_type": "code",
   "execution_count": 135,
   "id": "f5a73b6e",
   "metadata": {},
   "outputs": [
    {
     "data": {
      "text/plain": [
       "0"
      ]
     },
     "execution_count": 135,
     "metadata": {},
     "output_type": "execute_result"
    }
   ],
   "source": [
    "boolx(False,0)"
   ]
  },
  {
   "cell_type": "code",
   "execution_count": 139,
   "id": "5062eed2",
   "metadata": {},
   "outputs": [],
   "source": [
    "def travel(bike=True, car=False) : # Default arguments\n",
    "    plan_travel = bike or car\n",
    "    return bike,car,plan_travel\n",
    "    "
   ]
  },
  {
   "cell_type": "code",
   "execution_count": 141,
   "id": "714cbee0",
   "metadata": {},
   "outputs": [
    {
     "data": {
      "text/plain": [
       "(True, False, True)"
      ]
     },
     "execution_count": 141,
     "metadata": {},
     "output_type": "execute_result"
    }
   ],
   "source": [
    "travel()"
   ]
  },
  {
   "cell_type": "code",
   "execution_count": 142,
   "id": "350d817e",
   "metadata": {},
   "outputs": [
    {
     "data": {
      "text/plain": [
       "(False, False, False)"
      ]
     },
     "execution_count": 142,
     "metadata": {},
     "output_type": "execute_result"
    }
   ],
   "source": [
    "travel(False)"
   ]
  },
  {
   "cell_type": "code",
   "execution_count": 144,
   "id": "0b256fa4",
   "metadata": {},
   "outputs": [
    {
     "ename": "SyntaxError",
     "evalue": "invalid syntax (<ipython-input-144-296fc36cb6e6>, line 1)",
     "output_type": "error",
     "traceback": [
      "\u001b[1;36m  File \u001b[1;32m\"<ipython-input-144-296fc36cb6e6>\"\u001b[1;36m, line \u001b[1;32m1\u001b[0m\n\u001b[1;33m    travel(,True) #want to pass argument for the car parameter\u001b[0m\n\u001b[1;37m           ^\u001b[0m\n\u001b[1;31mSyntaxError\u001b[0m\u001b[1;31m:\u001b[0m invalid syntax\n"
     ]
    }
   ],
   "source": [
    "travel(,True) #want to pass argument for the car parameter"
   ]
  },
  {
   "cell_type": "code",
   "execution_count": 147,
   "id": "a55d3cd3",
   "metadata": {},
   "outputs": [
    {
     "data": {
      "text/plain": [
       "(True, True, True)"
      ]
     },
     "execution_count": 147,
     "metadata": {},
     "output_type": "execute_result"
    }
   ],
   "source": [
    "travel(car=True) # Parameter/Arguments Overriding"
   ]
  },
  {
   "cell_type": "code",
   "execution_count": 150,
   "id": "5ce87124",
   "metadata": {},
   "outputs": [
    {
     "data": {
      "text/plain": [
       "(30, True, 30)"
      ]
     },
     "execution_count": 150,
     "metadata": {},
     "output_type": "execute_result"
    }
   ],
   "source": [
    "travel(_,True) # here the placeholder is not none"
   ]
  },
  {
   "cell_type": "code",
   "execution_count": 151,
   "id": "a4d4a0b0",
   "metadata": {},
   "outputs": [],
   "source": [
    "_=None"
   ]
  },
  {
   "cell_type": "code",
   "execution_count": 153,
   "id": "0ae3e3d3",
   "metadata": {},
   "outputs": [
    {
     "data": {
      "text/plain": [
       "(None, True, True)"
      ]
     },
     "execution_count": 153,
     "metadata": {},
     "output_type": "execute_result"
    }
   ],
   "source": [
    "travel(_,True)"
   ]
  },
  {
   "cell_type": "code",
   "execution_count": 158,
   "id": "362e53a8",
   "metadata": {},
   "outputs": [],
   "source": [
    "def test11(*args): # Multiple arguments without creating varibale for each parameter\n",
    "    return args"
   ]
  },
  {
   "cell_type": "code",
   "execution_count": 159,
   "id": "79c6c595",
   "metadata": {},
   "outputs": [
    {
     "data": {
      "text/plain": [
       "('Naman', 1, 2, 1.23, [1, 2, 3, 4])"
      ]
     },
     "execution_count": 159,
     "metadata": {},
     "output_type": "execute_result"
    }
   ],
   "source": [
    "test11(\"Naman\",1,2,1.23,[1,2,3,4])"
   ]
  },
  {
   "cell_type": "code",
   "execution_count": 160,
   "id": "752d5da7",
   "metadata": {},
   "outputs": [],
   "source": [
    "def test11(*args): # Multiple arguments without creating varibale for each parameter\n",
    "    print(args[0])\n",
    "    return args"
   ]
  },
  {
   "cell_type": "code",
   "execution_count": 161,
   "id": "4fd116ed",
   "metadata": {},
   "outputs": [
    {
     "name": "stdout",
     "output_type": "stream",
     "text": [
      "Naman\n"
     ]
    },
    {
     "data": {
      "text/plain": [
       "('Naman', 1, 2, 1.23, [1, 2, 3, 4])"
      ]
     },
     "execution_count": 161,
     "metadata": {},
     "output_type": "execute_result"
    }
   ],
   "source": [
    "test11(\"Naman\",1,2,1.23,[1,2,3,4])"
   ]
  },
  {
   "cell_type": "code",
   "execution_count": 179,
   "id": "c5d4e5be",
   "metadata": {},
   "outputs": [],
   "source": [
    "# Multiple list are passed but dont know how many\n",
    "\n",
    "def list_concat(*args):\n",
    "    p=[]\n",
    "    for i in range(len(args)):\n",
    "        p=p+args[i]\n",
    "    return p\n",
    "        "
   ]
  },
  {
   "cell_type": "code",
   "execution_count": 180,
   "id": "c0c0487d",
   "metadata": {},
   "outputs": [],
   "source": [
    "a=list_concat([1,2,3,4],[5,6,7,8])"
   ]
  },
  {
   "cell_type": "code",
   "execution_count": 181,
   "id": "7ef4851e",
   "metadata": {},
   "outputs": [
    {
     "data": {
      "text/plain": [
       "[1, 2, 3, 4, 5, 6, 7, 8]"
      ]
     },
     "execution_count": 181,
     "metadata": {},
     "output_type": "execute_result"
    }
   ],
   "source": [
    "a"
   ]
  },
  {
   "cell_type": "code",
   "execution_count": 182,
   "id": "b5fa7b87",
   "metadata": {},
   "outputs": [],
   "source": [
    "def test14(*args):\n",
    "    return [l for l in args]"
   ]
  },
  {
   "cell_type": "code",
   "execution_count": 183,
   "id": "9d6b3a90",
   "metadata": {},
   "outputs": [
    {
     "data": {
      "text/plain": [
       "[[1, 2, 3, 4], [5, 6, 7, 8]]"
      ]
     },
     "execution_count": 183,
     "metadata": {},
     "output_type": "execute_result"
    }
   ],
   "source": [
    "test14([1,2,3,4],[5,6,7,8])"
   ]
  },
  {
   "cell_type": "code",
   "execution_count": 184,
   "id": "a527bd12",
   "metadata": {},
   "outputs": [],
   "source": [
    "def test15(*args):\n",
    "    l=[]\n",
    "    for i in args:\n",
    "        if isinstance(i,list):\n",
    "            l=l+i\n",
    "    return l"
   ]
  },
  {
   "cell_type": "code",
   "execution_count": 186,
   "id": "48def7c0",
   "metadata": {},
   "outputs": [
    {
     "data": {
      "text/plain": [
       "[1, 2, 3, 4, 5, 6, 7, 8]"
      ]
     },
     "execution_count": 186,
     "metadata": {},
     "output_type": "execute_result"
    }
   ],
   "source": [
    "test15([1,2,3,4],[5,6,7,8],\"12412\")"
   ]
  },
  {
   "cell_type": "code",
   "execution_count": 190,
   "id": "613c647a",
   "metadata": {},
   "outputs": [],
   "source": [
    "def test16(**kwargs): # only accept the key value argument\n",
    "    return kwargs\n",
    "    "
   ]
  },
  {
   "cell_type": "code",
   "execution_count": 191,
   "id": "007518d4",
   "metadata": {},
   "outputs": [
    {
     "ename": "TypeError",
     "evalue": "test16() takes 0 positional arguments but 3 were given",
     "output_type": "error",
     "traceback": [
      "\u001b[1;31m---------------------------------------------------------------------------\u001b[0m",
      "\u001b[1;31mTypeError\u001b[0m                                 Traceback (most recent call last)",
      "\u001b[1;32m<ipython-input-191-185a2227d746>\u001b[0m in \u001b[0;36m<module>\u001b[1;34m\u001b[0m\n\u001b[1;32m----> 1\u001b[1;33m \u001b[0mtest16\u001b[0m\u001b[1;33m(\u001b[0m\u001b[1;36m4\u001b[0m\u001b[1;33m,\u001b[0m\u001b[1;36m3\u001b[0m\u001b[1;33m,\u001b[0m\u001b[1;36m2\u001b[0m\u001b[1;33m)\u001b[0m \u001b[1;31m# not key value argument hence error generated\u001b[0m\u001b[1;33m\u001b[0m\u001b[1;33m\u001b[0m\u001b[0m\n\u001b[0m",
      "\u001b[1;31mTypeError\u001b[0m: test16() takes 0 positional arguments but 3 were given"
     ]
    }
   ],
   "source": [
    "test16(4,3,2) # not key value argument hence error generated"
   ]
  },
  {
   "cell_type": "code",
   "execution_count": 189,
   "id": "0e0265a4",
   "metadata": {},
   "outputs": [
    {
     "data": {
      "text/plain": [
       "{'a': 1, 'b': 3, 'c': 34}"
      ]
     },
     "execution_count": 189,
     "metadata": {},
     "output_type": "execute_result"
    }
   ],
   "source": [
    "test16(a=1,b=3,c=34)"
   ]
  },
  {
   "cell_type": "code",
   "execution_count": 193,
   "id": "60b17cc4",
   "metadata": {},
   "outputs": [
    {
     "ename": "TypeError",
     "evalue": "test16() takes 0 positional arguments but 1 was given",
     "output_type": "error",
     "traceback": [
      "\u001b[1;31m---------------------------------------------------------------------------\u001b[0m",
      "\u001b[1;31mTypeError\u001b[0m                                 Traceback (most recent call last)",
      "\u001b[1;32m<ipython-input-193-20450fd5b462>\u001b[0m in \u001b[0;36m<module>\u001b[1;34m\u001b[0m\n\u001b[1;32m----> 1\u001b[1;33m \u001b[0mtest16\u001b[0m\u001b[1;33m(\u001b[0m\u001b[1;33m{\u001b[0m\u001b[1;34m'a'\u001b[0m\u001b[1;33m:\u001b[0m \u001b[1;36m1\u001b[0m\u001b[1;33m,\u001b[0m \u001b[1;34m'b'\u001b[0m\u001b[1;33m:\u001b[0m \u001b[1;36m3\u001b[0m\u001b[1;33m,\u001b[0m \u001b[1;34m'c'\u001b[0m\u001b[1;33m:\u001b[0m \u001b[1;36m34\u001b[0m\u001b[1;33m}\u001b[0m\u001b[1;33m)\u001b[0m \u001b[1;31m# CANT PASS DICTIONARY\u001b[0m\u001b[1;33m\u001b[0m\u001b[1;33m\u001b[0m\u001b[0m\n\u001b[0m",
      "\u001b[1;31mTypeError\u001b[0m: test16() takes 0 positional arguments but 1 was given"
     ]
    }
   ],
   "source": [
    "test16({'a': 1, 'b': 3, 'c': 34}) # CANT PASS DICTIONARY"
   ]
  },
  {
   "cell_type": "code",
   "execution_count": 196,
   "id": "48235185",
   "metadata": {},
   "outputs": [
    {
     "data": {
      "text/plain": [
       "{'a': 'Naman', 'b': 'Jain', 'Age': 23}"
      ]
     },
     "execution_count": 196,
     "metadata": {},
     "output_type": "execute_result"
    }
   ],
   "source": [
    "test16(a=\"Naman\",b=\"Jain\",Age=23)"
   ]
  },
  {
   "cell_type": "code",
   "execution_count": 197,
   "id": "f8cc3998",
   "metadata": {},
   "outputs": [],
   "source": [
    "def test17(*args):\n",
    "    return args"
   ]
  },
  {
   "cell_type": "code",
   "execution_count": 198,
   "id": "428e84db",
   "metadata": {},
   "outputs": [
    {
     "data": {
      "text/plain": [
       "(4, 5, 6, 7, 8, 9)"
      ]
     },
     "execution_count": 198,
     "metadata": {},
     "output_type": "execute_result"
    }
   ],
   "source": [
    "test17(4,5,6,7,8,9)"
   ]
  },
  {
   "cell_type": "code",
   "execution_count": 199,
   "id": "d854ca1f",
   "metadata": {},
   "outputs": [
    {
     "data": {
      "text/plain": [
       "(2, 3, 4, 4, 'Naman')"
      ]
     },
     "execution_count": 199,
     "metadata": {},
     "output_type": "execute_result"
    }
   ],
   "source": [
    "test17(2,3,4,4,\"Naman\")"
   ]
  },
  {
   "cell_type": "code",
   "execution_count": 239,
   "id": "111846b5",
   "metadata": {},
   "outputs": [],
   "source": [
    "def func1(*args):\n",
    "    l_bool=[]\n",
    "    l_string=[]\n",
    "    l_int=[]\n",
    "    l_list=[]\n",
    "    l_float=[]\n",
    "    l_tuple=[]\n",
    "    l_dict=[]\n",
    "    l_set=[]\n",
    "    l_final=[]\n",
    "    for i in range(len(args)):\n",
    "        print(len(args))\n",
    "        if type(args[i])==int:\n",
    "            l_int.append(args[i])\n",
    "        elif type(args[i])==str:\n",
    "            l_string.append(args[i])\n",
    "        elif type(args[i])==list:\n",
    "            l_list.append(args[i])\n",
    "        elif type(args[i])==float:\n",
    "            l_float.append(args[i])\n",
    "        elif type(args[i])==dict:\n",
    "            l_dict.append(args[i])\n",
    "        elif type(args[i])==tuple:\n",
    "            l_tuple.append(args[i])\n",
    "        elif type(args[i])==bool:\n",
    "            l_bool.append(args[i])\n",
    "        elif type(args[i])==set:\n",
    "            l_set.append(args[i])\n",
    "    l=[l_bool, l_string,l_set,l_int,l_float,l_list,l_dict,l_tuple]\n",
    "    \"\"\"print(l)\n",
    "    p=len(l)\n",
    "    i=0\n",
    "    while(i<p):\n",
    "        if l[i]==[]:\n",
    "            l.pop(i)\n",
    "            continue\n",
    "    \n",
    "        i+=1\"\"\"\n",
    "    return l"
   ]
  },
  {
   "cell_type": "code",
   "execution_count": 240,
   "id": "ba6f16a1",
   "metadata": {},
   "outputs": [
    {
     "name": "stdout",
     "output_type": "stream",
     "text": [
      "10\n",
      "10\n",
      "10\n",
      "10\n",
      "10\n",
      "10\n",
      "10\n",
      "10\n",
      "10\n",
      "10\n"
     ]
    },
    {
     "data": {
      "text/plain": [
       "[[True, False],\n",
       " ['Naman', 'Jain', 'KINGmaker'],\n",
       " [],\n",
       " [],\n",
       " [],\n",
       " [[1, 2, 3, 4], [5, 6, 7, 8]],\n",
       " [{'Hello': 78}],\n",
       " [(1, 2, 3, 40), (5, 6, 7, 8)]]"
      ]
     },
     "execution_count": 240,
     "metadata": {},
     "output_type": "execute_result"
    }
   ],
   "source": [
    "func1([1,2,3,4],\"Naman\",(1,2,3,40),\"Jain\",[5,6,7,8],\"KINGmaker\",(5,6,7,8),{\"Hello\":78},True,False)"
   ]
  },
  {
   "cell_type": "code",
   "execution_count": 251,
   "id": "810b367d",
   "metadata": {},
   "outputs": [],
   "source": [
    "def func2(*args,**kwargs):\n",
    "    a=[i for i in args if type(i)==list]\n",
    "    b=[values for j,values in kwargs.items() if type(values)==list]\n",
    "    l=a+b\n",
    "    return l"
   ]
  },
  {
   "cell_type": "code",
   "execution_count": 252,
   "id": "20f1566a",
   "metadata": {},
   "outputs": [
    {
     "data": {
      "text/plain": [
       "[[1, 2, 3, 4],\n",
       " ['Naman', 'Jain'],\n",
       " [5, 6, 7, 8],\n",
       " ['Preeti', 'welcome'],\n",
       " ['TwoYears', '4thMarch2021']]"
      ]
     },
     "execution_count": 252,
     "metadata": {},
     "output_type": "execute_result"
    }
   ],
   "source": [
    "func2(\"Naman\",[1,2,3,4],[\"Naman\",\"Jain\"],One_1=[5,6,7,8],two_=[\"Preeti\",\"welcome\"],three_3=[\"TwoYears\",\"4thMarch2021\"])"
   ]
  },
  {
   "cell_type": "code",
   "execution_count": null,
   "id": "8abddfd9",
   "metadata": {},
   "outputs": [],
   "source": []
  },
  {
   "cell_type": "code",
   "execution_count": null,
   "id": "60e39726",
   "metadata": {},
   "outputs": [],
   "source": []
  }
 ],
 "metadata": {
  "kernelspec": {
   "display_name": "Python 3",
   "language": "python",
   "name": "python3"
  },
  "language_info": {
   "codemirror_mode": {
    "name": "ipython",
    "version": 3
   },
   "file_extension": ".py",
   "mimetype": "text/x-python",
   "name": "python",
   "nbconvert_exporter": "python",
   "pygments_lexer": "ipython3",
   "version": "3.8.8"
  }
 },
 "nbformat": 4,
 "nbformat_minor": 5
}
