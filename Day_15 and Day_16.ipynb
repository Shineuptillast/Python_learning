{
 "cells": [
  {
   "cell_type": "code",
   "execution_count": 1,
   "id": "0f83b9cf",
   "metadata": {},
   "outputs": [],
   "source": [
    "#Modules and Packages"
   ]
  },
  {
   "cell_type": "code",
   "execution_count": 2,
   "id": "e0d8250d",
   "metadata": {},
   "outputs": [],
   "source": [
    "import math"
   ]
  },
  {
   "cell_type": "code",
   "execution_count": 3,
   "id": "3428d8b9",
   "metadata": {},
   "outputs": [
    {
     "data": {
      "text/plain": [
       "4.0"
      ]
     },
     "execution_count": 3,
     "metadata": {},
     "output_type": "execute_result"
    }
   ],
   "source": [
    "math.sqrt(16)"
   ]
  },
  {
   "cell_type": "code",
   "execution_count": 4,
   "id": "1d82a79a",
   "metadata": {},
   "outputs": [],
   "source": [
    "from math import sqrt"
   ]
  },
  {
   "cell_type": "code",
   "execution_count": 5,
   "id": "09b27896",
   "metadata": {},
   "outputs": [
    {
     "data": {
      "text/plain": [
       "2.0"
      ]
     },
     "execution_count": 5,
     "metadata": {},
     "output_type": "execute_result"
    }
   ],
   "source": [
    "sqrt(4)"
   ]
  },
  {
   "cell_type": "code",
   "execution_count": 6,
   "id": "a32262e2",
   "metadata": {},
   "outputs": [],
   "source": [
    "from math import sin,pi,e"
   ]
  },
  {
   "cell_type": "code",
   "execution_count": 7,
   "id": "70cf9d6e",
   "metadata": {},
   "outputs": [
    {
     "data": {
      "text/plain": [
       "2.718281828459045"
      ]
     },
     "execution_count": 7,
     "metadata": {},
     "output_type": "execute_result"
    }
   ],
   "source": [
    "e"
   ]
  },
  {
   "cell_type": "code",
   "execution_count": 8,
   "id": "b0dccb93",
   "metadata": {},
   "outputs": [
    {
     "data": {
      "text/plain": [
       "3.141592653589793"
      ]
     },
     "execution_count": 8,
     "metadata": {},
     "output_type": "execute_result"
    }
   ],
   "source": [
    "pi"
   ]
  },
  {
   "cell_type": "code",
   "execution_count": 9,
   "id": "fc8b3f02",
   "metadata": {},
   "outputs": [],
   "source": [
    "from math import *"
   ]
  },
  {
   "cell_type": "code",
   "execution_count": 10,
   "id": "77902d93",
   "metadata": {},
   "outputs": [
    {
     "data": {
      "text/plain": [
       "3.141592653589793"
      ]
     },
     "execution_count": 10,
     "metadata": {},
     "output_type": "execute_result"
    }
   ],
   "source": [
    "pi"
   ]
  },
  {
   "cell_type": "code",
   "execution_count": 11,
   "id": "614e2b1b",
   "metadata": {},
   "outputs": [
    {
     "data": {
      "text/plain": [
       "-0.5984600690578581"
      ]
     },
     "execution_count": 11,
     "metadata": {},
     "output_type": "execute_result"
    }
   ],
   "source": [
    "cos(180)"
   ]
  },
  {
   "cell_type": "code",
   "execution_count": 12,
   "id": "8a45303a",
   "metadata": {},
   "outputs": [
    {
     "data": {
      "text/plain": [
       "1.0"
      ]
     },
     "execution_count": 12,
     "metadata": {},
     "output_type": "execute_result"
    }
   ],
   "source": [
    "cos(0.0)"
   ]
  },
  {
   "cell_type": "code",
   "execution_count": 13,
   "id": "a8016812",
   "metadata": {},
   "outputs": [
    {
     "data": {
      "text/plain": [
       "-1.0"
      ]
     },
     "execution_count": 13,
     "metadata": {},
     "output_type": "execute_result"
    }
   ],
   "source": [
    "cos(pi)"
   ]
  },
  {
   "cell_type": "code",
   "execution_count": 14,
   "id": "bde2c884",
   "metadata": {},
   "outputs": [
    {
     "data": {
      "text/plain": [
       "'C:\\\\Users\\\\Naman Jain\\\\Big_data'"
      ]
     },
     "execution_count": 14,
     "metadata": {},
     "output_type": "execute_result"
    }
   ],
   "source": [
    "pwd()"
   ]
  },
  {
   "cell_type": "code",
   "execution_count": 15,
   "id": "9ebc4bf2",
   "metadata": {},
   "outputs": [
    {
     "name": "stdout",
     "output_type": "stream",
     "text": [
      "This is my first module\n"
     ]
    }
   ],
   "source": [
    "import test_1"
   ]
  },
  {
   "cell_type": "code",
   "execution_count": 16,
   "id": "29745556",
   "metadata": {},
   "outputs": [],
   "source": [
    "import test_1"
   ]
  },
  {
   "cell_type": "code",
   "execution_count": 17,
   "id": "fb8a1738",
   "metadata": {},
   "outputs": [],
   "source": [
    "import imp"
   ]
  },
  {
   "cell_type": "code",
   "execution_count": 18,
   "id": "8e9da0b6",
   "metadata": {},
   "outputs": [
    {
     "name": "stdout",
     "output_type": "stream",
     "text": [
      "This is my first module\n"
     ]
    },
    {
     "data": {
      "text/plain": [
       "<module 'test_1' from 'C:\\\\Users\\\\Naman Jain\\\\Big_data\\\\test_1.py'>"
      ]
     },
     "execution_count": 18,
     "metadata": {},
     "output_type": "execute_result"
    }
   ],
   "source": [
    "imp.reload(test_1)"
   ]
  },
  {
   "cell_type": "code",
   "execution_count": 19,
   "id": "c0891c09",
   "metadata": {},
   "outputs": [],
   "source": [
    "import addition as ad"
   ]
  },
  {
   "cell_type": "code",
   "execution_count": 20,
   "id": "be35fab7",
   "metadata": {},
   "outputs": [
    {
     "data": {
      "text/plain": [
       "19"
      ]
     },
     "execution_count": 20,
     "metadata": {},
     "output_type": "execute_result"
    }
   ],
   "source": [
    "ad.addition(10,9)"
   ]
  },
  {
   "cell_type": "code",
   "execution_count": 21,
   "id": "0eeb746f",
   "metadata": {},
   "outputs": [],
   "source": [
    "from addition import addition"
   ]
  },
  {
   "cell_type": "code",
   "execution_count": 22,
   "id": "40207592",
   "metadata": {},
   "outputs": [
    {
     "data": {
      "text/plain": [
       "19"
      ]
     },
     "execution_count": 22,
     "metadata": {},
     "output_type": "execute_result"
    }
   ],
   "source": [
    "addition(10,9)"
   ]
  },
  {
   "cell_type": "code",
   "execution_count": 23,
   "id": "bf393b77",
   "metadata": {},
   "outputs": [],
   "source": [
    "import Ptest as pt"
   ]
  },
  {
   "cell_type": "code",
   "execution_count": 24,
   "id": "d5f25e6d",
   "metadata": {},
   "outputs": [
    {
     "data": {
      "text/plain": [
       "19"
      ]
     },
     "execution_count": 24,
     "metadata": {},
     "output_type": "execute_result"
    }
   ],
   "source": [
    "pt.addition(10,9)"
   ]
  },
  {
   "cell_type": "code",
   "execution_count": 25,
   "id": "77ad8812",
   "metadata": {},
   "outputs": [
    {
     "data": {
      "text/plain": [
       "90"
      ]
     },
     "execution_count": 25,
     "metadata": {},
     "output_type": "execute_result"
    }
   ],
   "source": [
    "pt.multiplication(10,9)"
   ]
  },
  {
   "cell_type": "code",
   "execution_count": 26,
   "id": "641ac1b9",
   "metadata": {},
   "outputs": [
    {
     "data": {
      "text/plain": [
       "100"
      ]
     },
     "execution_count": 26,
     "metadata": {},
     "output_type": "execute_result"
    }
   ],
   "source": [
    "pt.square(10)"
   ]
  },
  {
   "cell_type": "code",
   "execution_count": 27,
   "id": "12b54e1a",
   "metadata": {},
   "outputs": [
    {
     "data": {
      "text/plain": [
       "5.0"
      ]
     },
     "execution_count": 27,
     "metadata": {},
     "output_type": "execute_result"
    }
   ],
   "source": [
    "pt.division(10,2)"
   ]
  },
  {
   "cell_type": "code",
   "execution_count": 28,
   "id": "bdb26823",
   "metadata": {},
   "outputs": [
    {
     "data": {
      "text/plain": [
       "256"
      ]
     },
     "execution_count": 28,
     "metadata": {},
     "output_type": "execute_result"
    }
   ],
   "source": [
    "pt.power(2,8)"
   ]
  },
  {
   "cell_type": "code",
   "execution_count": 29,
   "id": "e6a0ebe5",
   "metadata": {},
   "outputs": [],
   "source": [
    "import Ptest1 as pt1"
   ]
  },
  {
   "cell_type": "code",
   "execution_count": 30,
   "id": "b2f87374",
   "metadata": {},
   "outputs": [
    {
     "data": {
      "text/plain": [
       "['ML', 'Dl', 'Stats', 'Python', 'CV']"
      ]
     },
     "execution_count": 30,
     "metadata": {},
     "output_type": "execute_result"
    }
   ],
   "source": [
    "pt1.get_course()"
   ]
  },
  {
   "cell_type": "code",
   "execution_count": 31,
   "id": "bcb066ae",
   "metadata": {},
   "outputs": [
    {
     "data": {
      "text/plain": [
       "{'name': 'Naman',\n",
       " 'course': ['ML', 'Dl', 'Stats', 'Python', 'CV'],\n",
       " 'message': 'This is my class'}"
      ]
     },
     "execution_count": 31,
     "metadata": {},
     "output_type": "execute_result"
    }
   ],
   "source": [
    "pt1.data"
   ]
  },
  {
   "cell_type": "code",
   "execution_count": 32,
   "id": "cf00448a",
   "metadata": {},
   "outputs": [
    {
     "data": {
      "text/plain": [
       "'This is my class'"
      ]
     },
     "execution_count": 32,
     "metadata": {},
     "output_type": "execute_result"
    }
   ],
   "source": [
    "pt1.msg()"
   ]
  },
  {
   "cell_type": "code",
   "execution_count": 33,
   "id": "a4ddac1d",
   "metadata": {},
   "outputs": [],
   "source": [
    "from Ptest1 import get_name"
   ]
  },
  {
   "cell_type": "code",
   "execution_count": 34,
   "id": "3da1a189",
   "metadata": {},
   "outputs": [
    {
     "data": {
      "text/plain": [
       "'Naman'"
      ]
     },
     "execution_count": 34,
     "metadata": {},
     "output_type": "execute_result"
    }
   ],
   "source": [
    "get_name()"
   ]
  },
  {
   "cell_type": "code",
   "execution_count": 35,
   "id": "f9bf06a5",
   "metadata": {},
   "outputs": [],
   "source": [
    "from test_p.mod1 import fn1"
   ]
  },
  {
   "cell_type": "code",
   "execution_count": 36,
   "id": "57318141",
   "metadata": {},
   "outputs": [
    {
     "data": {
      "text/plain": [
       "16"
      ]
     },
     "execution_count": 36,
     "metadata": {},
     "output_type": "execute_result"
    }
   ],
   "source": [
    "fn1(10,6)"
   ]
  },
  {
   "cell_type": "code",
   "execution_count": 37,
   "id": "9d22287f",
   "metadata": {},
   "outputs": [],
   "source": [
    "# Exception Handling --> To catch the error"
   ]
  },
  {
   "cell_type": "code",
   "execution_count": 38,
   "id": "36cb6c7e",
   "metadata": {},
   "outputs": [
    {
     "ename": "SyntaxError",
     "evalue": "EOL while scanning string literal (<ipython-input-38-ffd4f1931500>, line 1)",
     "output_type": "error",
     "traceback": [
      "\u001b[1;36m  Cell \u001b[1;32mIn[38], line 1\u001b[1;36m\u001b[0m\n\u001b[1;33m    print(\"sfsesfse)\u001b[0m\n\u001b[1;37m                    ^\u001b[0m\n\u001b[1;31mSyntaxError\u001b[0m\u001b[1;31m:\u001b[0m EOL while scanning string literal\n"
     ]
    }
   ],
   "source": [
    "print(\"sfsesfse)"
   ]
  },
  {
   "cell_type": "code",
   "execution_count": 39,
   "id": "6bcc0c42",
   "metadata": {},
   "outputs": [],
   "source": [
    "def test():\n",
    "    return 5/0"
   ]
  },
  {
   "cell_type": "code",
   "execution_count": 40,
   "id": "693e315c",
   "metadata": {},
   "outputs": [
    {
     "ename": "ZeroDivisionError",
     "evalue": "division by zero",
     "output_type": "error",
     "traceback": [
      "\u001b[1;31m---------------------------------------------------------------------------\u001b[0m",
      "\u001b[1;31mZeroDivisionError\u001b[0m                         Traceback (most recent call last)",
      "Cell \u001b[1;32mIn[40], line 1\u001b[0m\n\u001b[1;32m----> 1\u001b[0m \u001b[43mtest\u001b[49m\u001b[43m(\u001b[49m\u001b[43m)\u001b[49m\n",
      "Cell \u001b[1;32mIn[39], line 2\u001b[0m, in \u001b[0;36mtest\u001b[1;34m()\u001b[0m\n\u001b[0;32m      1\u001b[0m \u001b[38;5;28;01mdef\u001b[39;00m \u001b[38;5;21mtest\u001b[39m():\n\u001b[1;32m----> 2\u001b[0m     \u001b[38;5;28;01mreturn\u001b[39;00m \u001b[38;5;241;43m5\u001b[39;49m\u001b[38;5;241;43m/\u001b[39;49m\u001b[38;5;241;43m0\u001b[39;49m\n",
      "\u001b[1;31mZeroDivisionError\u001b[0m: division by zero"
     ]
    }
   ],
   "source": [
    "test()"
   ]
  },
  {
   "cell_type": "code",
   "execution_count": 41,
   "id": "89b9a9b0",
   "metadata": {},
   "outputs": [],
   "source": [
    "def test1(a,b):\n",
    "    return a/b"
   ]
  },
  {
   "cell_type": "code",
   "execution_count": 42,
   "id": "e40492e3",
   "metadata": {},
   "outputs": [
    {
     "ename": "ZeroDivisionError",
     "evalue": "division by zero",
     "output_type": "error",
     "traceback": [
      "\u001b[1;31m---------------------------------------------------------------------------\u001b[0m",
      "\u001b[1;31mZeroDivisionError\u001b[0m                         Traceback (most recent call last)",
      "Cell \u001b[1;32mIn[42], line 1\u001b[0m\n\u001b[1;32m----> 1\u001b[0m test1(\u001b[38;5;241;43m4\u001b[39;49m\u001b[38;5;241;43m/\u001b[39;49m\u001b[38;5;241;43m0\u001b[39;49m)\n",
      "\u001b[1;31mZeroDivisionError\u001b[0m: division by zero"
     ]
    }
   ],
   "source": [
    "test1(4/0)"
   ]
  },
  {
   "cell_type": "code",
   "execution_count": 43,
   "id": "a883239a",
   "metadata": {},
   "outputs": [
    {
     "data": {
      "text/plain": [
       "2.0"
      ]
     },
     "execution_count": 43,
     "metadata": {},
     "output_type": "execute_result"
    }
   ],
   "source": [
    "test1(2,1)"
   ]
  },
  {
   "cell_type": "code",
   "execution_count": 44,
   "id": "a52f0629",
   "metadata": {},
   "outputs": [
    {
     "ename": "SyntaxError",
     "evalue": "invalid syntax (<ipython-input-44-e491b548723d>, line 1)",
     "output_type": "error",
     "traceback": [
      "\u001b[1;36m  Cell \u001b[1;32mIn[44], line 1\u001b[1;36m\u001b[0m\n\u001b[1;33m    def test1()\u001b[0m\n\u001b[1;37m               ^\u001b[0m\n\u001b[1;31mSyntaxError\u001b[0m\u001b[1;31m:\u001b[0m invalid syntax\n"
     ]
    }
   ],
   "source": [
    "def test1()\n",
    "    print(\"asfasf\")"
   ]
  },
  {
   "cell_type": "code",
   "execution_count": 45,
   "id": "5d8fb2bf",
   "metadata": {},
   "outputs": [
    {
     "ename": "SyntaxError",
     "evalue": "invalid syntax (<ipython-input-45-49d864266575>, line 1)",
     "output_type": "error",
     "traceback": [
      "\u001b[1;36m  Cell \u001b[1;32mIn[45], line 1\u001b[1;36m\u001b[0m\n\u001b[1;33m    def test1()\u001b[0m\n\u001b[1;37m               ^\u001b[0m\n\u001b[1;31mSyntaxError\u001b[0m\u001b[1;31m:\u001b[0m invalid syntax\n"
     ]
    }
   ],
   "source": [
    "def test1()\n",
    "print(\"asfasf\")"
   ]
  },
  {
   "cell_type": "code",
   "execution_count": 46,
   "id": "48dcc3f2",
   "metadata": {},
   "outputs": [
    {
     "ename": "TypeError",
     "evalue": "test() takes 0 positional arguments but 2 were given",
     "output_type": "error",
     "traceback": [
      "\u001b[1;31m---------------------------------------------------------------------------\u001b[0m",
      "\u001b[1;31mTypeError\u001b[0m                                 Traceback (most recent call last)",
      "Cell \u001b[1;32mIn[46], line 1\u001b[0m\n\u001b[1;32m----> 1\u001b[0m \u001b[43mtest\u001b[49m\u001b[43m(\u001b[49m\u001b[38;5;241;43m5\u001b[39;49m\u001b[43m,\u001b[49m\u001b[38;5;241;43m0\u001b[39;49m\u001b[43m)\u001b[49m\n\u001b[0;32m      2\u001b[0m \u001b[38;5;28mprint\u001b[39m(\u001b[38;5;124m\"\u001b[39m\u001b[38;5;124mthis is my code\u001b[39m\u001b[38;5;124m\"\u001b[39m)\n",
      "\u001b[1;31mTypeError\u001b[0m: test() takes 0 positional arguments but 2 were given"
     ]
    }
   ],
   "source": [
    "test(5,0)\n",
    "print(\"this is my code\")"
   ]
  },
  {
   "cell_type": "code",
   "execution_count": 47,
   "id": "1e4fc664",
   "metadata": {},
   "outputs": [],
   "source": [
    "# Exception Handling helps us in handling the failed module "
   ]
  },
  {
   "cell_type": "code",
   "execution_count": 48,
   "id": "2549b166",
   "metadata": {},
   "outputs": [
    {
     "ename": "FileNotFoundError",
     "evalue": "[Errno 2] No such file or directory: 'terte.txt'",
     "output_type": "error",
     "traceback": [
      "\u001b[1;31m---------------------------------------------------------------------------\u001b[0m",
      "\u001b[1;31mFileNotFoundError\u001b[0m                         Traceback (most recent call last)",
      "Cell \u001b[1;32mIn[48], line 1\u001b[0m\n\u001b[1;32m----> 1\u001b[0m a \u001b[38;5;241m=\u001b[39m \u001b[38;5;28;43mopen\u001b[39;49m\u001b[43m(\u001b[49m\u001b[38;5;124;43m\"\u001b[39;49m\u001b[38;5;124;43mterte.txt\u001b[39;49m\u001b[38;5;124;43m\"\u001b[39;49m\u001b[43m,\u001b[49m\u001b[38;5;124;43m\"\u001b[39;49m\u001b[38;5;124;43mr\u001b[39;49m\u001b[38;5;124;43m\"\u001b[39;49m\u001b[43m)\u001b[49m\n",
      "File \u001b[1;32m~\\anaconda3\\lib\\site-packages\\IPython\\core\\interactiveshell.py:282\u001b[0m, in \u001b[0;36m_modified_open\u001b[1;34m(file, *args, **kwargs)\u001b[0m\n\u001b[0;32m    275\u001b[0m \u001b[38;5;28;01mif\u001b[39;00m file \u001b[38;5;129;01min\u001b[39;00m {\u001b[38;5;241m0\u001b[39m, \u001b[38;5;241m1\u001b[39m, \u001b[38;5;241m2\u001b[39m}:\n\u001b[0;32m    276\u001b[0m     \u001b[38;5;28;01mraise\u001b[39;00m \u001b[38;5;167;01mValueError\u001b[39;00m(\n\u001b[0;32m    277\u001b[0m         \u001b[38;5;124mf\u001b[39m\u001b[38;5;124m\"\u001b[39m\u001b[38;5;124mIPython won\u001b[39m\u001b[38;5;124m'\u001b[39m\u001b[38;5;124mt let you open fd=\u001b[39m\u001b[38;5;132;01m{\u001b[39;00mfile\u001b[38;5;132;01m}\u001b[39;00m\u001b[38;5;124m by default \u001b[39m\u001b[38;5;124m\"\u001b[39m\n\u001b[0;32m    278\u001b[0m         \u001b[38;5;124m\"\u001b[39m\u001b[38;5;124mas it is likely to crash IPython. If you know what you are doing, \u001b[39m\u001b[38;5;124m\"\u001b[39m\n\u001b[0;32m    279\u001b[0m         \u001b[38;5;124m\"\u001b[39m\u001b[38;5;124myou can use builtins\u001b[39m\u001b[38;5;124m'\u001b[39m\u001b[38;5;124m open.\u001b[39m\u001b[38;5;124m\"\u001b[39m\n\u001b[0;32m    280\u001b[0m     )\n\u001b[1;32m--> 282\u001b[0m \u001b[38;5;28;01mreturn\u001b[39;00m \u001b[43mio_open\u001b[49m\u001b[43m(\u001b[49m\u001b[43mfile\u001b[49m\u001b[43m,\u001b[49m\u001b[43m \u001b[49m\u001b[38;5;241;43m*\u001b[39;49m\u001b[43margs\u001b[49m\u001b[43m,\u001b[49m\u001b[43m \u001b[49m\u001b[38;5;241;43m*\u001b[39;49m\u001b[38;5;241;43m*\u001b[39;49m\u001b[43mkwargs\u001b[49m\u001b[43m)\u001b[49m\n",
      "\u001b[1;31mFileNotFoundError\u001b[0m: [Errno 2] No such file or directory: 'terte.txt'"
     ]
    }
   ],
   "source": [
    "a = open(\"terte.txt\",\"r\")"
   ]
  },
  {
   "cell_type": "code",
   "execution_count": 49,
   "id": "e9a414f9",
   "metadata": {},
   "outputs": [],
   "source": [
    "try: # try the statement by executing it\n",
    "    a = open(\"Terte.txt\",\"r\")\n",
    "except Exception as e: # handle if the try statement wont work and than proceed with the rest of the code\n",
    "    pass"
   ]
  },
  {
   "cell_type": "code",
   "execution_count": null,
   "id": "12f5a51e",
   "metadata": {},
   "outputs": [],
   "source": []
  },
  {
   "cell_type": "code",
   "execution_count": 50,
   "id": "81cae277",
   "metadata": {},
   "outputs": [
    {
     "ename": "SyntaxError",
     "evalue": "invalid syntax (<ipython-input-50-f75cd8c02f5d>, line 3)",
     "output_type": "error",
     "traceback": [
      "\u001b[1;36m  Cell \u001b[1;32mIn[50], line 3\u001b[1;36m\u001b[0m\n\u001b[1;33m    except Exception as e: # handle if the try statement wont work and than proceed with the rest of the code\u001b[0m\n\u001b[1;37m    ^\u001b[0m\n\u001b[1;31mSyntaxError\u001b[0m\u001b[1;31m:\u001b[0m invalid syntax\n"
     ]
    }
   ],
   "source": [
    "try: # try the statement by executing it\n",
    "    a = open(\"Terte.txt\",\"r\"\n",
    "except Exception as e: # handle if the try statement wont work and than proceed with the rest of the code\n",
    "    pass"
   ]
  },
  {
   "cell_type": "code",
   "execution_count": 51,
   "id": "88474ba0",
   "metadata": {},
   "outputs": [
    {
     "name": "stdout",
     "output_type": "stream",
     "text": [
      "There is some issue with my code\n"
     ]
    }
   ],
   "source": [
    "try:\n",
    "    a=open(\"1234.txt\",\"r\")\n",
    "except:\n",
    "    print(\"There is some issue with my code\")"
   ]
  },
  {
   "cell_type": "code",
   "execution_count": 52,
   "id": "463fb0aa",
   "metadata": {},
   "outputs": [],
   "source": [
    "# to get information about the specificity of the code use Exception to catch the error"
   ]
  },
  {
   "cell_type": "code",
   "execution_count": 53,
   "id": "3782b62a",
   "metadata": {},
   "outputs": [
    {
     "ename": "ZeroDivisionError",
     "evalue": "division by zero",
     "output_type": "error",
     "traceback": [
      "\u001b[1;31m---------------------------------------------------------------------------\u001b[0m",
      "\u001b[1;31mZeroDivisionError\u001b[0m                         Traceback (most recent call last)",
      "Cell \u001b[1;32mIn[53], line 2\u001b[0m\n\u001b[0;32m      1\u001b[0m \u001b[38;5;28;01mtry\u001b[39;00m:\n\u001b[1;32m----> 2\u001b[0m     \u001b[38;5;241;43m5\u001b[39;49m\u001b[38;5;241;43m/\u001b[39;49m\u001b[38;5;241;43m0\u001b[39;49m\n\u001b[0;32m      3\u001b[0m \u001b[38;5;28;01mexcept\u001b[39;00m \u001b[38;5;167;01mIOError\u001b[39;00m :\n\u001b[0;32m      4\u001b[0m     \u001b[38;5;28mprint\u001b[39m(\u001b[38;5;124m\"\u001b[39m\u001b[38;5;124mfailure\u001b[39m\u001b[38;5;124m\"\u001b[39m)\n",
      "\u001b[1;31mZeroDivisionError\u001b[0m: division by zero"
     ]
    }
   ],
   "source": [
    "try:\n",
    "    5/0\n",
    "except IOError :\n",
    "    print(\"failure\")\n",
    "    "
   ]
  },
  {
   "cell_type": "code",
   "execution_count": 54,
   "id": "d552f610",
   "metadata": {},
   "outputs": [
    {
     "name": "stdout",
     "output_type": "stream",
     "text": [
      "Error \n"
     ]
    }
   ],
   "source": [
    "try:\n",
    "    5/0\n",
    "except ArithmeticError:\n",
    "    print(\"Error \")"
   ]
  },
  {
   "cell_type": "code",
   "execution_count": 55,
   "id": "972de601",
   "metadata": {},
   "outputs": [
    {
     "name": "stdout",
     "output_type": "stream",
     "text": [
      "Error  division by zero\n"
     ]
    }
   ],
   "source": [
    "try:\n",
    "    5/0\n",
    "except ArithmeticError as e:\n",
    "    print(\"Error \", e)"
   ]
  },
  {
   "cell_type": "code",
   "execution_count": 56,
   "id": "f890279c",
   "metadata": {},
   "outputs": [
    {
     "name": "stdout",
     "output_type": "stream",
     "text": [
      "this will execute once try will execute with success\n"
     ]
    }
   ],
   "source": [
    "try:\n",
    "    5/4\n",
    "except ArithmeticError:\n",
    "    print(\"Error \")\n",
    "else:\n",
    "    print(\"this will execute once try will execute with success\")"
   ]
  },
  {
   "cell_type": "code",
   "execution_count": 57,
   "id": "1b175e90",
   "metadata": {},
   "outputs": [
    {
     "name": "stdout",
     "output_type": "stream",
     "text": [
      "Will execute only after the try execute\n"
     ]
    }
   ],
   "source": [
    "try:\n",
    "    5/4\n",
    "except ArithmeticError:\n",
    "    print(\"Error \")\n",
    "else:\n",
    "    print(\"Will execute only after the try execute\")\n",
    "    f=open(\"123.txt\",\"r\")"
   ]
  },
  {
   "cell_type": "code",
   "execution_count": 58,
   "id": "bd9ccf20",
   "metadata": {},
   "outputs": [
    {
     "name": "stdout",
     "output_type": "stream",
     "text": [
      "Error  division by zero\n"
     ]
    }
   ],
   "source": [
    "try:\n",
    "    5/0\n",
    "except ArithmeticError as e:\n",
    "    print(\"Error \",e)\n",
    "    f=open(\"123.txt\",\"w\")\n",
    "else:\n",
    "    print(\"Will execute only after the try execute\")\n",
    "    try:\n",
    "        f=open(\"123.txt\",\"r\")\n",
    "    except:\n",
    "        print(\"Error: File is not present\")"
   ]
  },
  {
   "cell_type": "code",
   "execution_count": 59,
   "id": "c557361a",
   "metadata": {},
   "outputs": [
    {
     "ename": "IndexError",
     "evalue": "list index out of range",
     "output_type": "error",
     "traceback": [
      "\u001b[1;31m---------------------------------------------------------------------------\u001b[0m",
      "\u001b[1;31mIndexError\u001b[0m                                Traceback (most recent call last)",
      "Cell \u001b[1;32mIn[59], line 2\u001b[0m\n\u001b[0;32m      1\u001b[0m l\u001b[38;5;241m=\u001b[39m[\u001b[38;5;241m4\u001b[39m,\u001b[38;5;241m5\u001b[39m,\u001b[38;5;241m6\u001b[39m,\u001b[38;5;241m7\u001b[39m,\u001b[38;5;241m8\u001b[39m,\u001b[38;5;241m9\u001b[39m,\u001b[38;5;241m0\u001b[39m]\n\u001b[1;32m----> 2\u001b[0m \u001b[38;5;28mprint\u001b[39m(\u001b[43ml\u001b[49m\u001b[43m[\u001b[49m\u001b[38;5;241;43m100\u001b[39;49m\u001b[43m]\u001b[49m)\n\u001b[0;32m      3\u001b[0m t\u001b[38;5;241m=\u001b[39m(\u001b[38;5;241m4\u001b[39m,\u001b[38;5;241m5\u001b[39m,\u001b[38;5;241m6\u001b[39m,\u001b[38;5;241m7\u001b[39m,\u001b[38;5;241m8\u001b[39m,\u001b[38;5;241m9\u001b[39m) \u001b[38;5;66;03m# wont be executed because of an issue with the list \u001b[39;00m\n\u001b[0;32m      4\u001b[0m \u001b[38;5;28mprint\u001b[39m(t)\n",
      "\u001b[1;31mIndexError\u001b[0m: list index out of range"
     ]
    }
   ],
   "source": [
    "l=[4,5,6,7,8,9,0]\n",
    "print(l[100])\n",
    "t=(4,5,6,7,8,9) # wont be executed because of an issue with the list \n",
    "print(t)"
   ]
  },
  {
   "cell_type": "code",
   "execution_count": 60,
   "id": "2a2c6ff0",
   "metadata": {},
   "outputs": [
    {
     "name": "stdout",
     "output_type": "stream",
     "text": [
      "Error: list index out of range\n",
      "(1, 2, 3, 4, 5)\n"
     ]
    }
   ],
   "source": [
    "l=[1,2,3,4,5,6,7,8,9,0]\n",
    "try:\n",
    "    l[100]\n",
    "except IndexError as e:\n",
    "    print('Error:', e)\n",
    "else:\n",
    "    print(\"No issue with the code\")\n",
    "t=(1,2,3,4,5)\n",
    "print(t)"
   ]
  },
  {
   "cell_type": "code",
   "execution_count": 61,
   "id": "2a04c8c6",
   "metadata": {},
   "outputs": [
    {
     "name": "stdout",
     "output_type": "stream",
     "text": [
      "Error: list index out of range\n",
      "(1, 2, 3, 4, 5)\n"
     ]
    }
   ],
   "source": [
    "l=[1,2,3,4,5,6,7,8,9,0]\n",
    "try:\n",
    "    l[100]\n",
    "except IndexError as e:\n",
    "    print('Error:', e)\n",
    "    t=(1,2,3,4,5)\n",
    "    print(t)\n",
    "    try:\n",
    "        t[0]=\"naman\"\n",
    "    except:\n",
    "        pass\n",
    "else:\n",
    "    print(\"No issue with the code\")\n"
   ]
  },
  {
   "cell_type": "code",
   "execution_count": 62,
   "id": "a780fedb",
   "metadata": {},
   "outputs": [],
   "source": [
    "try:\n",
    "    f=open(\"1234.txt\",\"r\")\n",
    "except:\n",
    "    pass\n"
   ]
  },
  {
   "cell_type": "code",
   "execution_count": 63,
   "id": "2fb9a536",
   "metadata": {},
   "outputs": [
    {
     "name": "stdout",
     "output_type": "stream",
     "text": [
      "I will execute in any case\n",
      "2\n"
     ]
    },
    {
     "ename": "FileNotFoundError",
     "evalue": "[Errno 2] No such file or directory: 'tetsq.txt'",
     "output_type": "error",
     "traceback": [
      "\u001b[1;31m---------------------------------------------------------------------------\u001b[0m",
      "\u001b[1;31mFileNotFoundError\u001b[0m                         Traceback (most recent call last)",
      "Cell \u001b[1;32mIn[63], line 2\u001b[0m\n\u001b[0;32m      1\u001b[0m \u001b[38;5;28;01mtry\u001b[39;00m:\n\u001b[1;32m----> 2\u001b[0m     f\u001b[38;5;241m=\u001b[39m\u001b[38;5;28;43mopen\u001b[39;49m\u001b[43m(\u001b[49m\u001b[38;5;124;43m\"\u001b[39;49m\u001b[38;5;124;43mtetsq.txt\u001b[39;49m\u001b[38;5;124;43m\"\u001b[39;49m\u001b[43m,\u001b[49m\u001b[38;5;124;43m\"\u001b[39;49m\u001b[38;5;124;43mr\u001b[39;49m\u001b[38;5;124;43m\"\u001b[39;49m\u001b[43m)\u001b[49m\n\u001b[0;32m      3\u001b[0m \u001b[38;5;28;01mfinally\u001b[39;00m:\n\u001b[0;32m      4\u001b[0m     \u001b[38;5;28mprint\u001b[39m(\u001b[38;5;124m\"\u001b[39m\u001b[38;5;124mI will execute in any case\u001b[39m\u001b[38;5;124m\"\u001b[39m)\n",
      "File \u001b[1;32m~\\anaconda3\\lib\\site-packages\\IPython\\core\\interactiveshell.py:282\u001b[0m, in \u001b[0;36m_modified_open\u001b[1;34m(file, *args, **kwargs)\u001b[0m\n\u001b[0;32m    275\u001b[0m \u001b[38;5;28;01mif\u001b[39;00m file \u001b[38;5;129;01min\u001b[39;00m {\u001b[38;5;241m0\u001b[39m, \u001b[38;5;241m1\u001b[39m, \u001b[38;5;241m2\u001b[39m}:\n\u001b[0;32m    276\u001b[0m     \u001b[38;5;28;01mraise\u001b[39;00m \u001b[38;5;167;01mValueError\u001b[39;00m(\n\u001b[0;32m    277\u001b[0m         \u001b[38;5;124mf\u001b[39m\u001b[38;5;124m\"\u001b[39m\u001b[38;5;124mIPython won\u001b[39m\u001b[38;5;124m'\u001b[39m\u001b[38;5;124mt let you open fd=\u001b[39m\u001b[38;5;132;01m{\u001b[39;00mfile\u001b[38;5;132;01m}\u001b[39;00m\u001b[38;5;124m by default \u001b[39m\u001b[38;5;124m\"\u001b[39m\n\u001b[0;32m    278\u001b[0m         \u001b[38;5;124m\"\u001b[39m\u001b[38;5;124mas it is likely to crash IPython. If you know what you are doing, \u001b[39m\u001b[38;5;124m\"\u001b[39m\n\u001b[0;32m    279\u001b[0m         \u001b[38;5;124m\"\u001b[39m\u001b[38;5;124myou can use builtins\u001b[39m\u001b[38;5;124m'\u001b[39m\u001b[38;5;124m open.\u001b[39m\u001b[38;5;124m\"\u001b[39m\n\u001b[0;32m    280\u001b[0m     )\n\u001b[1;32m--> 282\u001b[0m \u001b[38;5;28;01mreturn\u001b[39;00m \u001b[43mio_open\u001b[49m\u001b[43m(\u001b[49m\u001b[43mfile\u001b[49m\u001b[43m,\u001b[49m\u001b[43m \u001b[49m\u001b[38;5;241;43m*\u001b[39;49m\u001b[43margs\u001b[49m\u001b[43m,\u001b[49m\u001b[43m \u001b[49m\u001b[38;5;241;43m*\u001b[39;49m\u001b[38;5;241;43m*\u001b[39;49m\u001b[43mkwargs\u001b[49m\u001b[43m)\u001b[49m\n",
      "\u001b[1;31mFileNotFoundError\u001b[0m: [Errno 2] No such file or directory: 'tetsq.txt'"
     ]
    }
   ],
   "source": [
    "try:\n",
    "    f=open(\"tetsq.txt\",\"r\")\n",
    "finally:\n",
    "    print(\"I will execute in any case\")\n",
    "    l=[1,2,3,4]\n",
    "    print(l[1])"
   ]
  },
  {
   "cell_type": "code",
   "execution_count": 64,
   "id": "6f8bdbc5",
   "metadata": {},
   "outputs": [
    {
     "name": "stdout",
     "output_type": "stream",
     "text": [
      "I will execute in any case\n"
     ]
    },
    {
     "ename": "IndexError",
     "evalue": "list index out of range",
     "output_type": "error",
     "traceback": [
      "\u001b[1;31m---------------------------------------------------------------------------\u001b[0m",
      "\u001b[1;31mFileNotFoundError\u001b[0m                         Traceback (most recent call last)",
      "Cell \u001b[1;32mIn[64], line 2\u001b[0m\n\u001b[0;32m      1\u001b[0m \u001b[38;5;28;01mtry\u001b[39;00m:\n\u001b[1;32m----> 2\u001b[0m     f\u001b[38;5;241m=\u001b[39m\u001b[38;5;28;43mopen\u001b[39;49m\u001b[43m(\u001b[49m\u001b[38;5;124;43m\"\u001b[39;49m\u001b[38;5;124;43mtetsq.txt\u001b[39;49m\u001b[38;5;124;43m\"\u001b[39;49m\u001b[43m,\u001b[49m\u001b[38;5;124;43m\"\u001b[39;49m\u001b[38;5;124;43mr\u001b[39;49m\u001b[38;5;124;43m\"\u001b[39;49m\u001b[43m)\u001b[49m\n\u001b[0;32m      3\u001b[0m \u001b[38;5;28;01mfinally\u001b[39;00m:\n",
      "File \u001b[1;32m~\\anaconda3\\lib\\site-packages\\IPython\\core\\interactiveshell.py:282\u001b[0m, in \u001b[0;36m_modified_open\u001b[1;34m(file, *args, **kwargs)\u001b[0m\n\u001b[0;32m    276\u001b[0m     \u001b[38;5;28;01mraise\u001b[39;00m \u001b[38;5;167;01mValueError\u001b[39;00m(\n\u001b[0;32m    277\u001b[0m         \u001b[38;5;124mf\u001b[39m\u001b[38;5;124m\"\u001b[39m\u001b[38;5;124mIPython won\u001b[39m\u001b[38;5;124m'\u001b[39m\u001b[38;5;124mt let you open fd=\u001b[39m\u001b[38;5;132;01m{\u001b[39;00mfile\u001b[38;5;132;01m}\u001b[39;00m\u001b[38;5;124m by default \u001b[39m\u001b[38;5;124m\"\u001b[39m\n\u001b[0;32m    278\u001b[0m         \u001b[38;5;124m\"\u001b[39m\u001b[38;5;124mas it is likely to crash IPython. If you know what you are doing, \u001b[39m\u001b[38;5;124m\"\u001b[39m\n\u001b[0;32m    279\u001b[0m         \u001b[38;5;124m\"\u001b[39m\u001b[38;5;124myou can use builtins\u001b[39m\u001b[38;5;124m'\u001b[39m\u001b[38;5;124m open.\u001b[39m\u001b[38;5;124m\"\u001b[39m\n\u001b[0;32m    280\u001b[0m     )\n\u001b[1;32m--> 282\u001b[0m \u001b[38;5;28;01mreturn\u001b[39;00m \u001b[43mio_open\u001b[49m\u001b[43m(\u001b[49m\u001b[43mfile\u001b[49m\u001b[43m,\u001b[49m\u001b[43m \u001b[49m\u001b[38;5;241;43m*\u001b[39;49m\u001b[43margs\u001b[49m\u001b[43m,\u001b[49m\u001b[43m \u001b[49m\u001b[38;5;241;43m*\u001b[39;49m\u001b[38;5;241;43m*\u001b[39;49m\u001b[43mkwargs\u001b[49m\u001b[43m)\u001b[49m\n",
      "\u001b[1;31mFileNotFoundError\u001b[0m: [Errno 2] No such file or directory: 'tetsq.txt'",
      "\nDuring handling of the above exception, another exception occurred:\n",
      "\u001b[1;31mIndexError\u001b[0m                                Traceback (most recent call last)",
      "Cell \u001b[1;32mIn[64], line 6\u001b[0m\n\u001b[0;32m      4\u001b[0m \u001b[38;5;28mprint\u001b[39m(\u001b[38;5;124m\"\u001b[39m\u001b[38;5;124mI will execute in any case\u001b[39m\u001b[38;5;124m\"\u001b[39m)\n\u001b[0;32m      5\u001b[0m l\u001b[38;5;241m=\u001b[39m[\u001b[38;5;241m1\u001b[39m,\u001b[38;5;241m2\u001b[39m,\u001b[38;5;241m3\u001b[39m,\u001b[38;5;241m4\u001b[39m]\n\u001b[1;32m----> 6\u001b[0m \u001b[38;5;28mprint\u001b[39m(\u001b[43ml\u001b[49m\u001b[43m[\u001b[49m\u001b[38;5;241;43m10\u001b[39;49m\u001b[43m]\u001b[49m)\n",
      "\u001b[1;31mIndexError\u001b[0m: list index out of range"
     ]
    }
   ],
   "source": [
    "try:\n",
    "    f=open(\"tetsq.txt\",\"r\")\n",
    "finally:\n",
    "    print(\"I will execute in any case\")\n",
    "    l=[1,2,3,4]\n",
    "    print(l[10])"
   ]
  },
  {
   "cell_type": "code",
   "execution_count": 65,
   "id": "899e48ea",
   "metadata": {},
   "outputs": [
    {
     "name": "stdout",
     "output_type": "stream",
     "text": [
      "Hurray file is present\n",
      "I will execute in any case\n"
     ]
    }
   ],
   "source": [
    "try:\n",
    "    5/4\n",
    "except:\n",
    "    pass\n",
    "else:\n",
    "    print(\"Hurray file is present\")\n",
    "finally:\n",
    "    print(\"I will execute in any case\")\n",
    "    l=[1,2,3,4]\n",
    "    try:\n",
    "        print(l[10])\n",
    "    except:\n",
    "        pass\n"
   ]
  },
  {
   "cell_type": "code",
   "execution_count": 66,
   "id": "48e72f5c",
   "metadata": {},
   "outputs": [
    {
     "ename": "ZeroDivisionError",
     "evalue": "division by zero",
     "output_type": "error",
     "traceback": [
      "\u001b[1;31m---------------------------------------------------------------------------\u001b[0m",
      "\u001b[1;31mZeroDivisionError\u001b[0m                         Traceback (most recent call last)",
      "Cell \u001b[1;32mIn[66], line 1\u001b[0m\n\u001b[1;32m----> 1\u001b[0m \u001b[38;5;241;43m5\u001b[39;49m\u001b[38;5;241;43m/\u001b[39;49m\u001b[38;5;241;43m0\u001b[39;49m\n",
      "\u001b[1;31mZeroDivisionError\u001b[0m: division by zero"
     ]
    }
   ],
   "source": [
    "5/0"
   ]
  },
  {
   "cell_type": "code",
   "execution_count": 67,
   "id": "4ce46385",
   "metadata": {},
   "outputs": [],
   "source": [
    "# 5/6  raise an issue if there's a 6 in denominator"
   ]
  },
  {
   "cell_type": "code",
   "execution_count": 68,
   "id": "e15535e4",
   "metadata": {},
   "outputs": [
    {
     "name": "stdout",
     "output_type": "stream",
     "text": [
      "This is error: [Errno 2] No such file or directory: 'aefaf.txt'\n"
     ]
    }
   ],
   "source": [
    "try:\n",
    "    f=open(\"aefaf.txt\",\"r\")\n",
    "except IOError as e:\n",
    "    print(\"This is error:\",e)"
   ]
  },
  {
   "cell_type": "code",
   "execution_count": 71,
   "id": "e5895294",
   "metadata": {},
   "outputs": [],
   "source": [
    "def askforint():\n",
    "    while True: # infinite loop \n",
    "        try:\n",
    "            a=int(input(\"Enter an integer--->\"))\n",
    "        except FileNotFoundError as e:\n",
    "            print(\"This is error\",e)\n",
    "            continue\n",
    "        except IOError as e:\n",
    "            print(e)\n",
    "        else:\n",
    "            print(\"The User has entered a value-->\",a)\n",
    "            break\n",
    "        finally:\n",
    "            print(\"Close this issue\")\n",
    "        \n",
    "            "
   ]
  },
  {
   "cell_type": "code",
   "execution_count": null,
   "id": "a972b815",
   "metadata": {},
   "outputs": [],
   "source": []
  },
  {
   "cell_type": "code",
   "execution_count": 73,
   "id": "d5c8f624",
   "metadata": {},
   "outputs": [
    {
     "name": "stdout",
     "output_type": "stream",
     "text": [
      "Enter an integer--->hg\n",
      "Close this issue\n"
     ]
    },
    {
     "ename": "ValueError",
     "evalue": "invalid literal for int() with base 10: 'hg'",
     "output_type": "error",
     "traceback": [
      "\u001b[1;31m---------------------------------------------------------------------------\u001b[0m",
      "\u001b[1;31mValueError\u001b[0m                                Traceback (most recent call last)",
      "Cell \u001b[1;32mIn[73], line 1\u001b[0m\n\u001b[1;32m----> 1\u001b[0m \u001b[43maskforint\u001b[49m\u001b[43m(\u001b[49m\u001b[43m)\u001b[49m \u001b[38;5;66;03m# Error because we havent catched the correct error class\u001b[39;00m\n",
      "Cell \u001b[1;32mIn[71], line 4\u001b[0m, in \u001b[0;36maskforint\u001b[1;34m()\u001b[0m\n\u001b[0;32m      2\u001b[0m \u001b[38;5;28;01mwhile\u001b[39;00m \u001b[38;5;28;01mTrue\u001b[39;00m: \u001b[38;5;66;03m# infinite loop \u001b[39;00m\n\u001b[0;32m      3\u001b[0m     \u001b[38;5;28;01mtry\u001b[39;00m:\n\u001b[1;32m----> 4\u001b[0m         a\u001b[38;5;241m=\u001b[39m\u001b[38;5;28;43mint\u001b[39;49m\u001b[43m(\u001b[49m\u001b[38;5;28;43minput\u001b[39;49m\u001b[43m(\u001b[49m\u001b[38;5;124;43m\"\u001b[39;49m\u001b[38;5;124;43mEnter an integer--->\u001b[39;49m\u001b[38;5;124;43m\"\u001b[39;49m\u001b[43m)\u001b[49m\u001b[43m)\u001b[49m\n\u001b[0;32m      5\u001b[0m     \u001b[38;5;28;01mexcept\u001b[39;00m \u001b[38;5;167;01mFileNotFoundError\u001b[39;00m \u001b[38;5;28;01mas\u001b[39;00m e:\n\u001b[0;32m      6\u001b[0m         \u001b[38;5;28mprint\u001b[39m(\u001b[38;5;124m\"\u001b[39m\u001b[38;5;124mThis is error\u001b[39m\u001b[38;5;124m\"\u001b[39m,e)\n",
      "\u001b[1;31mValueError\u001b[0m: invalid literal for int() with base 10: 'hg'"
     ]
    }
   ],
   "source": [
    "askforint() # Error because we havent catched the correct error class"
   ]
  },
  {
   "cell_type": "code",
   "execution_count": 77,
   "id": "69451532",
   "metadata": {},
   "outputs": [],
   "source": [
    "def askforint():\n",
    "    while True: # infinite loop \n",
    "        try:\n",
    "            a=int(input(\"Enter an integer--->\"))\n",
    "            c=8/a\n",
    "        except FileNotFoundError as e:\n",
    "            print(\"This is error\",e)\n",
    "            continue\n",
    "        except IOError as e:\n",
    "            print(e)\n",
    "        except ValueError as e:\n",
    "            print(e)\n",
    "        else:\n",
    "            print(\"The User has entered a value-->\",a)\n",
    "            break\n",
    "        finally:\n",
    "            print(\"Close this issue\")"
   ]
  },
  {
   "cell_type": "code",
   "execution_count": 80,
   "id": "ba95f488",
   "metadata": {},
   "outputs": [
    {
     "name": "stdout",
     "output_type": "stream",
     "text": [
      "Enter an integer--->0\n",
      "Close this issue\n"
     ]
    },
    {
     "ename": "ZeroDivisionError",
     "evalue": "division by zero",
     "output_type": "error",
     "traceback": [
      "\u001b[1;31m---------------------------------------------------------------------------\u001b[0m",
      "\u001b[1;31mZeroDivisionError\u001b[0m                         Traceback (most recent call last)",
      "Cell \u001b[1;32mIn[80], line 1\u001b[0m\n\u001b[1;32m----> 1\u001b[0m \u001b[43maskforint\u001b[49m\u001b[43m(\u001b[49m\u001b[43m)\u001b[49m \u001b[38;5;66;03m# because ZeroDivisionError is not handled \u001b[39;00m\n",
      "Cell \u001b[1;32mIn[77], line 5\u001b[0m, in \u001b[0;36maskforint\u001b[1;34m()\u001b[0m\n\u001b[0;32m      3\u001b[0m \u001b[38;5;28;01mtry\u001b[39;00m:\n\u001b[0;32m      4\u001b[0m     a\u001b[38;5;241m=\u001b[39m\u001b[38;5;28mint\u001b[39m(\u001b[38;5;28minput\u001b[39m(\u001b[38;5;124m\"\u001b[39m\u001b[38;5;124mEnter an integer--->\u001b[39m\u001b[38;5;124m\"\u001b[39m))\n\u001b[1;32m----> 5\u001b[0m     c\u001b[38;5;241m=\u001b[39m\u001b[38;5;241;43m8\u001b[39;49m\u001b[38;5;241;43m/\u001b[39;49m\u001b[43ma\u001b[49m\n\u001b[0;32m      6\u001b[0m \u001b[38;5;28;01mexcept\u001b[39;00m \u001b[38;5;167;01mFileNotFoundError\u001b[39;00m \u001b[38;5;28;01mas\u001b[39;00m e:\n\u001b[0;32m      7\u001b[0m     \u001b[38;5;28mprint\u001b[39m(\u001b[38;5;124m\"\u001b[39m\u001b[38;5;124mThis is error\u001b[39m\u001b[38;5;124m\"\u001b[39m,e)\n",
      "\u001b[1;31mZeroDivisionError\u001b[0m: division by zero"
     ]
    }
   ],
   "source": [
    "askforint() # because ZeroDivisionError is not handled "
   ]
  },
  {
   "cell_type": "code",
   "execution_count": 87,
   "id": "662dbce7",
   "metadata": {},
   "outputs": [],
   "source": [
    "def askforint():\n",
    "    while True: # infinite loop \n",
    "        try:\n",
    "            a=int(input(\"Enter an integer--->\"))\n",
    "            c=8/a\n",
    "        except FileNotFoundError as e:\n",
    "            print(\"This is error\",e)\n",
    "            continue\n",
    "        except IOError as e:\n",
    "            print(e)\n",
    "        except ValueError as e:\n",
    "            print(e)\n",
    "        except ZeroDivisionError as e: # higher priority for catching error\n",
    "            print(\"This is Zero Division Error\",e)\n",
    "        except ArithmeticError as e:\n",
    "            print(e)\n",
    "        else:\n",
    "            print(\"The User has entered a value-->\",a)\n",
    "            break\n",
    "        finally:\n",
    "            print(\"Close this issue\")"
   ]
  },
  {
   "cell_type": "code",
   "execution_count": 88,
   "id": "0b135760",
   "metadata": {},
   "outputs": [
    {
     "name": "stdout",
     "output_type": "stream",
     "text": [
      "Enter an integer--->0\n",
      "This is Zero Division Error division by zero\n",
      "Close this issue\n",
      "Enter an integer--->4\n",
      "The User has entered a value--> 4\n",
      "Close this issue\n"
     ]
    }
   ],
   "source": [
    "askforint()"
   ]
  },
  {
   "cell_type": "code",
   "execution_count": 90,
   "id": "e45c7070",
   "metadata": {},
   "outputs": [],
   "source": [
    "def askforint():\n",
    "    while True: # infinite loop \n",
    "        try:\n",
    "            a=int(input(\"Enter an integer--->\"))\n",
    "            c=8/a\n",
    "        except FileNotFoundError as e:\n",
    "            print(\"This is error\",e)\n",
    "            continue\n",
    "        except IOError as e:\n",
    "            print(e)\n",
    "        except ValueError as e:\n",
    "            print(e)\n",
    "        except ArithmeticError as e:   # Higher priority for catching error\n",
    "            print(\"This is arithmetic error\",e)\n",
    "        except ZeroDivisionError as e:\n",
    "            print(e)\n",
    "        \n",
    "        else:\n",
    "            print(\"The User has entered a value-->\",a)\n",
    "            break\n",
    "        finally:\n",
    "            print(\"Close this issue\")"
   ]
  },
  {
   "cell_type": "code",
   "execution_count": 91,
   "id": "86321b5c",
   "metadata": {},
   "outputs": [
    {
     "name": "stdout",
     "output_type": "stream",
     "text": [
      "Enter an integer--->0\n",
      "This is arithmetic error division by zero\n",
      "Close this issue\n",
      "Enter an integer--->7\n",
      "The User has entered a value--> 7\n",
      "Close this issue\n"
     ]
    }
   ],
   "source": [
    "askforint()"
   ]
  },
  {
   "cell_type": "code",
   "execution_count": 92,
   "id": "fa569113",
   "metadata": {},
   "outputs": [],
   "source": [
    "def askforint():\n",
    "    while True: # infinite loop \n",
    "        try:\n",
    "            a=int(input(\"Enter an integer--->\"))\n",
    "            c=8/a\n",
    "        except FileNotFoundError as e:\n",
    "            print(\"This is error\",e)\n",
    "            continue\n",
    "        except IOError as e:\n",
    "            print(e)\n",
    "        except Exception as e:              # Higher Priority for catching error\n",
    "            print(\"This is coming from Super class\",e)\n",
    "        except ValueError as e:\n",
    "            print(e)\n",
    "        except ArithmeticError as e:\n",
    "            print(\"This is arithmetic error\",e)\n",
    "        except ZeroDivisionError as e:\n",
    "            print(e)\n",
    "        \n",
    "        else:\n",
    "            print(\"The User has entered a value-->\",a)\n",
    "            break\n",
    "        finally:\n",
    "            print(\"Close this issue\")"
   ]
  },
  {
   "cell_type": "code",
   "execution_count": 93,
   "id": "a11fef3c",
   "metadata": {},
   "outputs": [
    {
     "name": "stdout",
     "output_type": "stream",
     "text": [
      "Enter an integer--->0\n",
      "This is coming from Super class division by zero\n",
      "Close this issue\n",
      "Enter an integer--->4\n",
      "The User has entered a value--> 4\n",
      "Close this issue\n"
     ]
    }
   ],
   "source": [
    "askforint()"
   ]
  },
  {
   "cell_type": "code",
   "execution_count": null,
   "id": "48270143",
   "metadata": {},
   "outputs": [],
   "source": []
  }
 ],
 "metadata": {
  "kernelspec": {
   "display_name": "Python 3",
   "language": "python",
   "name": "python3"
  },
  "language_info": {
   "codemirror_mode": {
    "name": "ipython",
    "version": 3
   },
   "file_extension": ".py",
   "mimetype": "text/x-python",
   "name": "python",
   "nbconvert_exporter": "python",
   "pygments_lexer": "ipython3",
   "version": "3.8.8"
  }
 },
 "nbformat": 4,
 "nbformat_minor": 5
}
