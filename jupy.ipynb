{
 "cells": [
  {
   "cell_type": "code",
   "execution_count": 1,
   "id": "8d074e50",
   "metadata": {},
   "outputs": [],
   "source": [
    "from mod1 import *\n",
    "from mod2 import *\n",
    "from mod3 import *"
   ]
  },
  {
   "cell_type": "code",
   "execution_count": 2,
   "id": "8d8e54ae",
   "metadata": {},
   "outputs": [
    {
     "data": {
      "text/plain": [
       "19"
      ]
     },
     "execution_count": 2,
     "metadata": {},
     "output_type": "execute_result"
    }
   ],
   "source": [
    "fn1(10,9)"
   ]
  },
  {
   "cell_type": "code",
   "execution_count": 3,
   "id": "df990b55",
   "metadata": {},
   "outputs": [
    {
     "data": {
      "text/plain": [
       "1"
      ]
     },
     "execution_count": 3,
     "metadata": {},
     "output_type": "execute_result"
    }
   ],
   "source": [
    "fn2(10,3)"
   ]
  },
  {
   "cell_type": "code",
   "execution_count": 4,
   "id": "eb1f2cf4",
   "metadata": {},
   "outputs": [
    {
     "data": {
      "text/plain": [
       "2.0"
      ]
     },
     "execution_count": 4,
     "metadata": {},
     "output_type": "execute_result"
    }
   ],
   "source": [
    "fn3(4,2)"
   ]
  },
  {
   "cell_type": "code",
   "execution_count": null,
   "id": "15228730",
   "metadata": {},
   "outputs": [],
   "source": [
    "import *"
   ]
  }
 ],
 "metadata": {
  "kernelspec": {
   "display_name": "Python 3",
   "language": "python",
   "name": "python3"
  },
  "language_info": {
   "codemirror_mode": {
    "name": "ipython",
    "version": 3
   },
   "file_extension": ".py",
   "mimetype": "text/x-python",
   "name": "python",
   "nbconvert_exporter": "python",
   "pygments_lexer": "ipython3",
   "version": "3.8.8"
  }
 },
 "nbformat": 4,
 "nbformat_minor": 5
}
