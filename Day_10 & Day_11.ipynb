{
 "cells": [
  {
   "cell_type": "code",
   "execution_count": 1,
   "id": "611e53a9",
   "metadata": {},
   "outputs": [],
   "source": [
    "def test(**kwargs): # Expecting Key-Value parameters\n",
    "    print(list(kwargs.items()))"
   ]
  },
  {
   "cell_type": "code",
   "execution_count": 2,
   "id": "a14729ab",
   "metadata": {},
   "outputs": [
    {
     "name": "stdout",
     "output_type": "stream",
     "text": [
      "[('a', 'Naman'), ('b', 'Jain')]\n"
     ]
    }
   ],
   "source": [
    "test(a=\"Naman\",b=\"Jain\") # arguments passed during function call"
   ]
  },
  {
   "cell_type": "code",
   "execution_count": 3,
   "id": "764757b6",
   "metadata": {},
   "outputs": [],
   "source": [
    "# Lambda Function"
   ]
  },
  {
   "cell_type": "code",
   "execution_count": 4,
   "id": "86fa5c62",
   "metadata": {},
   "outputs": [],
   "source": [
    "def test1(name,email_id):\n",
    "    con=name+email_id\n",
    "    return con"
   ]
  },
  {
   "cell_type": "code",
   "execution_count": 5,
   "id": "c7a7ee11",
   "metadata": {},
   "outputs": [
    {
     "data": {
      "text/plain": [
       "'NamanNamanjain@gmail.com'"
      ]
     },
     "execution_count": 5,
     "metadata": {},
     "output_type": "execute_result"
    }
   ],
   "source": [
    "test1(\"Naman\",\"Namanjain@gmail.com\")"
   ]
  },
  {
   "cell_type": "code",
   "execution_count": 6,
   "id": "5ec111a0",
   "metadata": {},
   "outputs": [],
   "source": [
    "a=10\n",
    "b=20"
   ]
  },
  {
   "cell_type": "code",
   "execution_count": 7,
   "id": "daa03872",
   "metadata": {},
   "outputs": [],
   "source": [
    "def test2(x,y):\n",
    "    return x*y"
   ]
  },
  {
   "cell_type": "code",
   "execution_count": 8,
   "id": "f3e32422",
   "metadata": {},
   "outputs": [
    {
     "data": {
      "text/plain": [
       "200"
      ]
     },
     "execution_count": 8,
     "metadata": {},
     "output_type": "execute_result"
    }
   ],
   "source": [
    "test2(a,b)"
   ]
  },
  {
   "cell_type": "code",
   "execution_count": 9,
   "id": "2826af74",
   "metadata": {},
   "outputs": [],
   "source": [
    "m=lambda x,y : x*y # No function name, Anonymous function"
   ]
  },
  {
   "cell_type": "markdown",
   "id": "f086b2b2",
   "metadata": {},
   "source": [
    "m(a,b)"
   ]
  },
  {
   "cell_type": "code",
   "execution_count": 10,
   "id": "579aa062",
   "metadata": {},
   "outputs": [
    {
     "data": {
      "text/plain": [
       "<function __main__.<lambda>(x, y)>"
      ]
     },
     "execution_count": 10,
     "metadata": {},
     "output_type": "execute_result"
    }
   ],
   "source": [
    "m"
   ]
  },
  {
   "cell_type": "code",
   "execution_count": 11,
   "id": "67380773",
   "metadata": {},
   "outputs": [
    {
     "data": {
      "text/plain": [
       "'NamanNaman'"
      ]
     },
     "execution_count": 11,
     "metadata": {},
     "output_type": "execute_result"
    }
   ],
   "source": [
    "m(\"Naman\",2)"
   ]
  },
  {
   "cell_type": "code",
   "execution_count": 12,
   "id": "80df6efd",
   "metadata": {},
   "outputs": [],
   "source": [
    "b=lambda n,m: n+\" \"+m"
   ]
  },
  {
   "cell_type": "code",
   "execution_count": 13,
   "id": "ac146b47",
   "metadata": {},
   "outputs": [
    {
     "data": {
      "text/plain": [
       "'Naman Jain'"
      ]
     },
     "execution_count": 13,
     "metadata": {},
     "output_type": "execute_result"
    }
   ],
   "source": [
    "b(\"Naman\",\"Jain\")"
   ]
  },
  {
   "cell_type": "code",
   "execution_count": 14,
   "id": "85512a5a",
   "metadata": {},
   "outputs": [],
   "source": [
    "m=lambda n,m:print(n,m)"
   ]
  },
  {
   "cell_type": "code",
   "execution_count": 15,
   "id": "cb6ce78c",
   "metadata": {},
   "outputs": [
    {
     "name": "stdout",
     "output_type": "stream",
     "text": [
      "Naman jain\n"
     ]
    }
   ],
   "source": [
    "m(\"Naman\", \"jain\")"
   ]
  },
  {
   "cell_type": "code",
   "execution_count": 16,
   "id": "1ab57d3c",
   "metadata": {},
   "outputs": [],
   "source": [
    "m=lambda *args: print(args)"
   ]
  },
  {
   "cell_type": "code",
   "execution_count": 17,
   "id": "deb04ffe",
   "metadata": {},
   "outputs": [
    {
     "name": "stdout",
     "output_type": "stream",
     "text": [
      "('Naman', 'Jain', [1, 23, 4])\n"
     ]
    }
   ],
   "source": [
    "m(\"Naman\", \"Jain\",[1,23,4])"
   ]
  },
  {
   "cell_type": "code",
   "execution_count": 18,
   "id": "ced9994c",
   "metadata": {},
   "outputs": [],
   "source": [
    "# scope of variable"
   ]
  },
  {
   "cell_type": "code",
   "execution_count": 19,
   "id": "df0a3777",
   "metadata": {},
   "outputs": [],
   "source": [
    "r=10 # global scope\n",
    "def test4( a , b ):\n",
    "    r = a / b\n",
    "    print(r) # local scope"
   ]
  },
  {
   "cell_type": "code",
   "execution_count": 20,
   "id": "c02e4981",
   "metadata": {},
   "outputs": [
    {
     "name": "stdout",
     "output_type": "stream",
     "text": [
      "1.0\n"
     ]
    }
   ],
   "source": [
    "test4(10,10) #local value"
   ]
  },
  {
   "cell_type": "code",
   "execution_count": 21,
   "id": "886cc2e8",
   "metadata": {},
   "outputs": [
    {
     "data": {
      "text/plain": [
       "10"
      ]
     },
     "execution_count": 21,
     "metadata": {},
     "output_type": "execute_result"
    }
   ],
   "source": [
    "r # global value"
   ]
  },
  {
   "cell_type": "code",
   "execution_count": 22,
   "id": "cd3b6355",
   "metadata": {},
   "outputs": [],
   "source": [
    "def test5(a=5,b=\" \"):\n",
    "    \"\"\"\n",
    "    test5()\n",
    "    a= Will do this\n",
    "    b=Wont do this\n",
    "    This function prints the name on the sys.stdout\"\"\"\n",
    "    print(\"Name is XYZ\")"
   ]
  },
  {
   "cell_type": "code",
   "execution_count": 23,
   "id": "1a1cd6c8",
   "metadata": {},
   "outputs": [
    {
     "name": "stdout",
     "output_type": "stream",
     "text": [
      "Name is XYZ\n"
     ]
    }
   ],
   "source": [
    "test5()"
   ]
  },
  {
   "cell_type": "code",
   "execution_count": 24,
   "id": "fdc353fe",
   "metadata": {},
   "outputs": [
    {
     "name": "stdout",
     "output_type": "stream",
     "text": [
      "Help on built-in function print in module builtins:\n",
      "\n",
      "print(...)\n",
      "    print(value, ..., sep=' ', end='\\n', file=sys.stdout, flush=False)\n",
      "    \n",
      "    Prints the values to a stream, or to sys.stdout by default.\n",
      "    Optional keyword arguments:\n",
      "    file:  a file-like object (stream); defaults to the current sys.stdout.\n",
      "    sep:   string inserted between values, default a space.\n",
      "    end:   string appended after the last value, default a newline.\n",
      "    flush: whether to forcibly flush the stream.\n",
      "\n"
     ]
    }
   ],
   "source": [
    "help(print)"
   ]
  },
  {
   "cell_type": "code",
   "execution_count": 25,
   "id": "dfb77b0a",
   "metadata": {},
   "outputs": [],
   "source": [
    "# Iterators and generators"
   ]
  },
  {
   "cell_type": "code",
   "execution_count": 26,
   "id": "fddf627a",
   "metadata": {},
   "outputs": [
    {
     "ename": "TypeError",
     "evalue": "'int' object is not iterable",
     "output_type": "error",
     "traceback": [
      "\u001b[1;31m---------------------------------------------------------------------------\u001b[0m",
      "\u001b[1;31mTypeError\u001b[0m                                 Traceback (most recent call last)",
      "\u001b[1;32m<ipython-input-26-536464ac0c25>\u001b[0m in \u001b[0;36m<module>\u001b[1;34m\u001b[0m\n\u001b[0;32m      1\u001b[0m \u001b[0ma\u001b[0m\u001b[1;33m=\u001b[0m\u001b[1;36m10\u001b[0m\u001b[1;33m\u001b[0m\u001b[1;33m\u001b[0m\u001b[0m\n\u001b[1;32m----> 2\u001b[1;33m \u001b[1;32mfor\u001b[0m \u001b[0mi\u001b[0m \u001b[1;32min\u001b[0m \u001b[0ma\u001b[0m\u001b[1;33m:\u001b[0m\u001b[1;33m\u001b[0m\u001b[1;33m\u001b[0m\u001b[0m\n\u001b[0m\u001b[0;32m      3\u001b[0m     \u001b[0mprint\u001b[0m\u001b[1;33m(\u001b[0m\u001b[0ma\u001b[0m\u001b[1;33m)\u001b[0m\u001b[1;33m\u001b[0m\u001b[1;33m\u001b[0m\u001b[0m\n",
      "\u001b[1;31mTypeError\u001b[0m: 'int' object is not iterable"
     ]
    }
   ],
   "source": [
    "a=10\n",
    "for i in a:\n",
    "    print(a)"
   ]
  },
  {
   "cell_type": "code",
   "execution_count": null,
   "id": "89aa81d2",
   "metadata": {},
   "outputs": [],
   "source": [
    "for i in \"sudh\":\n",
    "    print(i)\n",
    "    "
   ]
  },
  {
   "cell_type": "code",
   "execution_count": null,
   "id": "e74bd1b3",
   "metadata": {},
   "outputs": [],
   "source": [
    "s=\"sudh\""
   ]
  },
  {
   "cell_type": "code",
   "execution_count": null,
   "id": "5460c4e0",
   "metadata": {},
   "outputs": [],
   "source": [
    "next(s)"
   ]
  },
  {
   "cell_type": "code",
   "execution_count": null,
   "id": "2a8182d9",
   "metadata": {},
   "outputs": [],
   "source": [
    "s=\"Naman\""
   ]
  },
  {
   "cell_type": "code",
   "execution_count": null,
   "id": "73748ab6",
   "metadata": {},
   "outputs": [],
   "source": [
    "p=iter(s)"
   ]
  },
  {
   "cell_type": "code",
   "execution_count": null,
   "id": "b1c0fc16",
   "metadata": {},
   "outputs": [],
   "source": [
    "next(p)"
   ]
  },
  {
   "cell_type": "code",
   "execution_count": null,
   "id": "9e2f29c6",
   "metadata": {},
   "outputs": [],
   "source": [
    "next(p)"
   ]
  },
  {
   "cell_type": "code",
   "execution_count": null,
   "id": "42b1faf9",
   "metadata": {},
   "outputs": [],
   "source": [
    "next(p)"
   ]
  },
  {
   "cell_type": "code",
   "execution_count": null,
   "id": "fafe787c",
   "metadata": {},
   "outputs": [],
   "source": [
    "next(p)"
   ]
  },
  {
   "cell_type": "code",
   "execution_count": null,
   "id": "affe2b12",
   "metadata": {},
   "outputs": [],
   "source": [
    "next(p)"
   ]
  },
  {
   "cell_type": "code",
   "execution_count": null,
   "id": "4efa955c",
   "metadata": {},
   "outputs": [],
   "source": [
    "next(p)"
   ]
  },
  {
   "cell_type": "code",
   "execution_count": null,
   "id": "0a42188f",
   "metadata": {},
   "outputs": [],
   "source": [
    "s=\"sudh\""
   ]
  },
  {
   "cell_type": "code",
   "execution_count": null,
   "id": "25548c6c",
   "metadata": {},
   "outputs": [],
   "source": [
    "s=iter(s)"
   ]
  },
  {
   "cell_type": "code",
   "execution_count": null,
   "id": "b2b24b9a",
   "metadata": {},
   "outputs": [],
   "source": [
    "next(s)"
   ]
  },
  {
   "cell_type": "code",
   "execution_count": null,
   "id": "46aeda69",
   "metadata": {},
   "outputs": [],
   "source": [
    "next(s)"
   ]
  },
  {
   "cell_type": "code",
   "execution_count": null,
   "id": "e44bde72",
   "metadata": {},
   "outputs": [],
   "source": [
    "next(s)"
   ]
  },
  {
   "cell_type": "code",
   "execution_count": null,
   "id": "fe11ee35",
   "metadata": {},
   "outputs": [],
   "source": [
    "next(s)"
   ]
  },
  {
   "cell_type": "code",
   "execution_count": null,
   "id": "e0ef8d24",
   "metadata": {},
   "outputs": [],
   "source": [
    "next(s)"
   ]
  },
  {
   "cell_type": "code",
   "execution_count": null,
   "id": "a07e4b6d",
   "metadata": {},
   "outputs": [],
   "source": [
    "for i in \"sudh\":\n",
    "    print(i)"
   ]
  },
  {
   "cell_type": "code",
   "execution_count": null,
   "id": "00dc371d",
   "metadata": {},
   "outputs": [],
   "source": [
    "# for loop internally implementing iterator l"
   ]
  },
  {
   "cell_type": "code",
   "execution_count": null,
   "id": "786c588a",
   "metadata": {},
   "outputs": [],
   "source": [
    "l=[1,2,3,4,\"Naman\"]"
   ]
  },
  {
   "cell_type": "code",
   "execution_count": null,
   "id": "19a0843e",
   "metadata": {},
   "outputs": [],
   "source": [
    "next(l)"
   ]
  },
  {
   "cell_type": "code",
   "execution_count": null,
   "id": "b65db398",
   "metadata": {},
   "outputs": [],
   "source": [
    "i=iter(l)"
   ]
  },
  {
   "cell_type": "code",
   "execution_count": null,
   "id": "d1081bd4",
   "metadata": {},
   "outputs": [],
   "source": [
    "next(i)"
   ]
  },
  {
   "cell_type": "code",
   "execution_count": null,
   "id": "8a84c99a",
   "metadata": {},
   "outputs": [],
   "source": [
    "next(i)"
   ]
  },
  {
   "cell_type": "code",
   "execution_count": null,
   "id": "062aa999",
   "metadata": {},
   "outputs": [],
   "source": [
    "next(i)"
   ]
  },
  {
   "cell_type": "code",
   "execution_count": null,
   "id": "b9ce3b71",
   "metadata": {},
   "outputs": [],
   "source": [
    "next(i)"
   ]
  },
  {
   "cell_type": "code",
   "execution_count": null,
   "id": "f5ce9069",
   "metadata": {},
   "outputs": [],
   "source": [
    "next(i)"
   ]
  },
  {
   "cell_type": "code",
   "execution_count": null,
   "id": "30b82d09",
   "metadata": {},
   "outputs": [],
   "source": [
    "t=(1,2,3,4)"
   ]
  },
  {
   "cell_type": "code",
   "execution_count": null,
   "id": "9e1e7c0c",
   "metadata": {},
   "outputs": [],
   "source": [
    "next(t)"
   ]
  },
  {
   "cell_type": "code",
   "execution_count": null,
   "id": "9f2c8c3e",
   "metadata": {},
   "outputs": [],
   "source": [
    "t=iter(t)"
   ]
  },
  {
   "cell_type": "code",
   "execution_count": null,
   "id": "6e9d17fa",
   "metadata": {},
   "outputs": [],
   "source": [
    "next(t)"
   ]
  },
  {
   "cell_type": "code",
   "execution_count": null,
   "id": "bd61585f",
   "metadata": {},
   "outputs": [],
   "source": [
    "next(t)"
   ]
  },
  {
   "cell_type": "code",
   "execution_count": null,
   "id": "f55d048d",
   "metadata": {},
   "outputs": [],
   "source": [
    "se={1,2,3}"
   ]
  },
  {
   "cell_type": "code",
   "execution_count": null,
   "id": "e44dcfee",
   "metadata": {},
   "outputs": [],
   "source": [
    "next(s)"
   ]
  },
  {
   "cell_type": "code",
   "execution_count": null,
   "id": "3b8c0a4b",
   "metadata": {},
   "outputs": [],
   "source": [
    "# Generators"
   ]
  },
  {
   "cell_type": "code",
   "execution_count": null,
   "id": "52b160b4",
   "metadata": {},
   "outputs": [],
   "source": [
    "def test6(n):\n",
    "    l=[]\n",
    "    for i in range(n):\n",
    "        if i==0:\n",
    "            pass\n",
    "        else:\n",
    "            l.append(i**3)\n",
    "    return l"
   ]
  },
  {
   "cell_type": "code",
   "execution_count": null,
   "id": "31968d14",
   "metadata": {},
   "outputs": [],
   "source": [
    "# o=test6(600000000)"
   ]
  },
  {
   "cell_type": "code",
   "execution_count": 27,
   "id": "17fa6a75",
   "metadata": {},
   "outputs": [],
   "source": [
    "# Generator"
   ]
  },
  {
   "cell_type": "code",
   "execution_count": 2,
   "id": "cdefd80e",
   "metadata": {},
   "outputs": [],
   "source": [
    "def test7(n):\n",
    "    for i in range(n):\n",
    "        yield i**3\n",
    "        "
   ]
  },
  {
   "cell_type": "code",
   "execution_count": 29,
   "id": "b8ff677a",
   "metadata": {},
   "outputs": [
    {
     "data": {
      "text/plain": [
       "<generator object test7 at 0x000001F0E6BE3970>"
      ]
     },
     "execution_count": 29,
     "metadata": {},
     "output_type": "execute_result"
    }
   ],
   "source": [
    "test7(50)"
   ]
  },
  {
   "cell_type": "code",
   "execution_count": 31,
   "id": "8e4af598",
   "metadata": {},
   "outputs": [
    {
     "data": {
      "text/plain": [
       "range(0, 1)"
      ]
     },
     "execution_count": 31,
     "metadata": {},
     "output_type": "execute_result"
    }
   ],
   "source": [
    "range(1)"
   ]
  },
  {
   "cell_type": "code",
   "execution_count": 32,
   "id": "cccd7231",
   "metadata": {},
   "outputs": [
    {
     "data": {
      "text/plain": [
       "[0, 1, 2, 3, 4, 5, 6, 7, 8, 9]"
      ]
     },
     "execution_count": 32,
     "metadata": {},
     "output_type": "execute_result"
    }
   ],
   "source": [
    "list(range(0,10\n",
    "          ))"
   ]
  },
  {
   "cell_type": "code",
   "execution_count": 34,
   "id": "ef0bffd3",
   "metadata": {},
   "outputs": [
    {
     "name": "stdout",
     "output_type": "stream",
     "text": [
      "0 1 2 3 4 5 6 7 8 9 "
     ]
    }
   ],
   "source": [
    "for i in range(0,10):\n",
    "    print(i,end=\" \")"
   ]
  },
  {
   "cell_type": "code",
   "execution_count": 3,
   "id": "6e40e00d",
   "metadata": {},
   "outputs": [
    {
     "name": "stdout",
     "output_type": "stream",
     "text": [
      "0\n",
      "1\n",
      "8\n",
      "27\n",
      "64\n",
      "125\n"
     ]
    }
   ],
   "source": [
    "for i in test7(6):# Keep sending us the data and wont wait for the process to end to give the whole output\n",
    "    print(i)"
   ]
  },
  {
   "cell_type": "code",
   "execution_count": 19,
   "id": "d73e2e75",
   "metadata": {},
   "outputs": [],
   "source": [
    "#Fibonacci Series\n",
    "def genfibonacci(n):\n",
    "    a=1\n",
    "    b=1\n",
    "    output =[0,a]\n",
    "    for i in range(n):\n",
    "        a,b=b,a+b\n",
    "        output.append(a)\n",
    "    return output"
   ]
  },
  {
   "cell_type": "code",
   "execution_count": 21,
   "id": "6a541843",
   "metadata": {},
   "outputs": [
    {
     "data": {
      "text/plain": [
       "[0,\n",
       " 1,\n",
       " 1,\n",
       " 2,\n",
       " 3,\n",
       " 5,\n",
       " 8,\n",
       " 13,\n",
       " 21,\n",
       " 34,\n",
       " 55,\n",
       " 89,\n",
       " 144,\n",
       " 233,\n",
       " 377,\n",
       " 610,\n",
       " 987,\n",
       " 1597,\n",
       " 2584,\n",
       " 4181,\n",
       " 6765,\n",
       " 10946]"
      ]
     },
     "execution_count": 21,
     "metadata": {},
     "output_type": "execute_result"
    }
   ],
   "source": [
    "genfibonacci(20)"
   ]
  },
  {
   "cell_type": "code",
   "execution_count": 22,
   "id": "6246e85f",
   "metadata": {},
   "outputs": [],
   "source": [
    "def getfib(n):\n",
    "    a=1\n",
    "    b=1\n",
    "    for i in range(n):\n",
    "        yield a \n",
    "        a,b=b,a+b"
   ]
  },
  {
   "cell_type": "code",
   "execution_count": 23,
   "id": "ea0b18d3",
   "metadata": {},
   "outputs": [
    {
     "data": {
      "text/plain": [
       "<generator object getfib at 0x0000016513B2E4A0>"
      ]
     },
     "execution_count": 23,
     "metadata": {},
     "output_type": "execute_result"
    }
   ],
   "source": [
    "getfib(8)"
   ]
  },
  {
   "cell_type": "code",
   "execution_count": 24,
   "id": "1b9e4d0a",
   "metadata": {},
   "outputs": [
    {
     "name": "stdout",
     "output_type": "stream",
     "text": [
      "1\n",
      "1\n",
      "2\n",
      "3\n",
      "5\n",
      "8\n",
      "13\n",
      "21\n",
      "34\n"
     ]
    }
   ],
   "source": [
    "for i in getfib(9):\n",
    "    print(i)"
   ]
  },
  {
   "cell_type": "code",
   "execution_count": 38,
   "id": "9474225b",
   "metadata": {},
   "outputs": [],
   "source": [
    "#### Text file  Writing and reading from a file"
   ]
  },
  {
   "cell_type": "code",
   "execution_count": 26,
   "id": "dbccb46b",
   "metadata": {},
   "outputs": [
    {
     "ename": "FileNotFoundError",
     "evalue": "[Errno 2] No such file or directory: 'test.txt'",
     "output_type": "error",
     "traceback": [
      "\u001b[1;31m---------------------------------------------------------------------------\u001b[0m",
      "\u001b[1;31mFileNotFoundError\u001b[0m                         Traceback (most recent call last)",
      "\u001b[1;32m<ipython-input-26-898b23d39077>\u001b[0m in \u001b[0;36m<module>\u001b[1;34m\u001b[0m\n\u001b[1;32m----> 1\u001b[1;33m \u001b[0mf\u001b[0m\u001b[1;33m=\u001b[0m\u001b[0mopen\u001b[0m\u001b[1;33m(\u001b[0m\u001b[1;34m\"test.txt\"\u001b[0m\u001b[1;33m)\u001b[0m\u001b[1;33m\u001b[0m\u001b[1;33m\u001b[0m\u001b[0m\n\u001b[0m",
      "\u001b[1;31mFileNotFoundError\u001b[0m: [Errno 2] No such file or directory: 'test.txt'"
     ]
    }
   ],
   "source": [
    "f=open(\"test.txt\")"
   ]
  },
  {
   "cell_type": "code",
   "execution_count": 34,
   "id": "d2829366",
   "metadata": {},
   "outputs": [],
   "source": [
    "f=open(\"test.txt\",\"w\")"
   ]
  },
  {
   "cell_type": "code",
   "execution_count": 35,
   "id": "b71a1f5b",
   "metadata": {},
   "outputs": [
    {
     "data": {
      "text/plain": [
       "<_io.TextIOWrapper name='test.txt' mode='w' encoding='cp1252'>"
      ]
     },
     "execution_count": 35,
     "metadata": {},
     "output_type": "execute_result"
    }
   ],
   "source": [
    "f"
   ]
  },
  {
   "cell_type": "code",
   "execution_count": 58,
   "id": "53071f83",
   "metadata": {},
   "outputs": [
    {
     "ename": "UnsupportedOperation",
     "evalue": "not writable",
     "output_type": "error",
     "traceback": [
      "\u001b[1;31m---------------------------------------------------------------------------\u001b[0m",
      "\u001b[1;31mUnsupportedOperation\u001b[0m                      Traceback (most recent call last)",
      "\u001b[1;32m<ipython-input-58-a1a401104a68>\u001b[0m in \u001b[0;36m<module>\u001b[1;34m\u001b[0m\n\u001b[1;32m----> 1\u001b[1;33m \u001b[0mf\u001b[0m\u001b[1;33m.\u001b[0m\u001b[0mwrite\u001b[0m\u001b[1;33m(\u001b[0m\u001b[1;34m\"Naman jain\"\u001b[0m\u001b[1;33m)\u001b[0m\u001b[1;33m\u001b[0m\u001b[1;33m\u001b[0m\u001b[0m\n\u001b[0m",
      "\u001b[1;31mUnsupportedOperation\u001b[0m: not writable"
     ]
    }
   ],
   "source": [
    "f.write(\"Naman jain\")"
   ]
  },
  {
   "cell_type": "code",
   "execution_count": 37,
   "id": "3f18b95e",
   "metadata": {},
   "outputs": [],
   "source": [
    "f.close() # close to flush the data from the buffer into file"
   ]
  },
  {
   "cell_type": "code",
   "execution_count": 49,
   "id": "ee59dcf5",
   "metadata": {},
   "outputs": [],
   "source": [
    "f=open(\"test.txt\")"
   ]
  },
  {
   "cell_type": "code",
   "execution_count": 41,
   "id": "fe33a4b4",
   "metadata": {},
   "outputs": [
    {
     "data": {
      "text/plain": [
       "'Naman jain'"
      ]
     },
     "execution_count": 41,
     "metadata": {},
     "output_type": "execute_result"
    }
   ],
   "source": [
    "f.read()"
   ]
  },
  {
   "cell_type": "code",
   "execution_count": 42,
   "id": "08f09ce0",
   "metadata": {},
   "outputs": [
    {
     "data": {
      "text/plain": [
       "\"\\ndkf ksd\\nsdjgnsg\\nsdgsnlgsrg\\ndsrharghoiasglasd]\\ngasgjoisahg\\na}sdg';ashighaSd\\ng]a;Sgnakjdbghad\\n]fhl\""
      ]
     },
     "execution_count": 42,
     "metadata": {},
     "output_type": "execute_result"
    }
   ],
   "source": [
    "f.read()"
   ]
  },
  {
   "cell_type": "code",
   "execution_count": 50,
   "id": "ec811dc9",
   "metadata": {},
   "outputs": [
    {
     "name": "stdout",
     "output_type": "stream",
     "text": [
      "Naman jainHello\n",
      "dkf ksdHello\n",
      "sdjgnsgHello\n",
      "sdgsnlgsrgHello\n",
      "dsrharghoiasglasd]Hello\n",
      "gasgjoisahgHello\n",
      "a}sdg';ashighaSdHello\n",
      "g]a;SgnakjdbghadHello\n",
      "]fhl"
     ]
    }
   ],
   "source": [
    "for i in f.read():\n",
    "    if i==\"\\n\":\n",
    "        print(\"Hello\")\n",
    "    else:\n",
    "        print(i, end=\"\")"
   ]
  },
  {
   "cell_type": "code",
   "execution_count": 53,
   "id": "abe61db2",
   "metadata": {},
   "outputs": [
    {
     "data": {
      "text/plain": [
       "10"
      ]
     },
     "execution_count": 53,
     "metadata": {},
     "output_type": "execute_result"
    }
   ],
   "source": [
    "f.seek(10) # setting and Resetting the cursor to the location we like it to be for data reading"
   ]
  },
  {
   "cell_type": "code",
   "execution_count": 54,
   "id": "3f4979ea",
   "metadata": {},
   "outputs": [
    {
     "data": {
      "text/plain": [
       "\"\\ndkf ksd\\nsdjgnsg\\nsdgsnlgsrg\\ndsrharghoiasglasd]\\ngasgjoisahg\\na}sdg';ashighaSd\\ng]a;Sgnakjdbghad\\n]fhl\""
      ]
     },
     "execution_count": 54,
     "metadata": {},
     "output_type": "execute_result"
    }
   ],
   "source": [
    "f.read()"
   ]
  },
  {
   "cell_type": "code",
   "execution_count": 55,
   "id": "af985667",
   "metadata": {},
   "outputs": [
    {
     "data": {
      "text/plain": [
       "0"
      ]
     },
     "execution_count": 55,
     "metadata": {},
     "output_type": "execute_result"
    }
   ],
   "source": [
    "f.seek(0)"
   ]
  },
  {
   "cell_type": "code",
   "execution_count": 56,
   "id": "2de94a16",
   "metadata": {},
   "outputs": [
    {
     "data": {
      "text/plain": [
       "\"Naman jain\\ndkf ksd\\nsdjgnsg\\nsdgsnlgsrg\\ndsrharghoiasglasd]\\ngasgjoisahg\\na}sdg';ashighaSd\\ng]a;Sgnakjdbghad\\n]fhl\""
      ]
     },
     "execution_count": 56,
     "metadata": {},
     "output_type": "execute_result"
    }
   ],
   "source": [
    "f.read()"
   ]
  },
  {
   "cell_type": "code",
   "execution_count": 59,
   "id": "2d19744f",
   "metadata": {},
   "outputs": [
    {
     "ename": "UnsupportedOperation",
     "evalue": "not writable",
     "output_type": "error",
     "traceback": [
      "\u001b[1;31m---------------------------------------------------------------------------\u001b[0m",
      "\u001b[1;31mUnsupportedOperation\u001b[0m                      Traceback (most recent call last)",
      "\u001b[1;32m<ipython-input-59-05ae58e27ae4>\u001b[0m in \u001b[0;36m<module>\u001b[1;34m\u001b[0m\n\u001b[1;32m----> 1\u001b[1;33m \u001b[0mf\u001b[0m\u001b[1;33m.\u001b[0m\u001b[0mwrite\u001b[0m\u001b[1;33m(\u001b[0m\u001b[1;34m\"Hello\"\u001b[0m\u001b[1;33m)\u001b[0m\u001b[1;33m\u001b[0m\u001b[1;33m\u001b[0m\u001b[0m\n\u001b[0m",
      "\u001b[1;31mUnsupportedOperation\u001b[0m: not writable"
     ]
    }
   ],
   "source": [
    "f.write(\"Hello\")"
   ]
  },
  {
   "cell_type": "code",
   "execution_count": 60,
   "id": "8463e782",
   "metadata": {},
   "outputs": [],
   "source": [
    "f.close()"
   ]
  },
  {
   "cell_type": "code",
   "execution_count": 61,
   "id": "dc7d9553",
   "metadata": {},
   "outputs": [],
   "source": [
    "f=open(\"test.txt\",\"a\")"
   ]
  },
  {
   "cell_type": "code",
   "execution_count": 62,
   "id": "31892e3e",
   "metadata": {},
   "outputs": [
    {
     "data": {
      "text/plain": [
       "5"
      ]
     },
     "execution_count": 62,
     "metadata": {},
     "output_type": "execute_result"
    }
   ],
   "source": [
    "f.write(\"Hello\")"
   ]
  },
  {
   "cell_type": "code",
   "execution_count": 63,
   "id": "793177c2",
   "metadata": {},
   "outputs": [],
   "source": [
    "f.close()"
   ]
  },
  {
   "cell_type": "code",
   "execution_count": 64,
   "id": "61bb271f",
   "metadata": {},
   "outputs": [],
   "source": [
    "f=open(\"test.txt\",\"r\") # Read mode"
   ]
  },
  {
   "cell_type": "code",
   "execution_count": 65,
   "id": "eec7b739",
   "metadata": {},
   "outputs": [
    {
     "data": {
      "text/plain": [
       "\"Naman jain\\ndkf ksd\\nsdjgnsg\\nsdgsnlgsrg\\ndsrharghoiasglasd]\\ngasgjoisahg\\na}sdg';ashighaSd\\ng]a;Sgnakjdbghad\\n]fhlHello\""
      ]
     },
     "execution_count": 65,
     "metadata": {},
     "output_type": "execute_result"
    }
   ],
   "source": [
    "f.read()"
   ]
  },
  {
   "cell_type": "code",
   "execution_count": 66,
   "id": "3c300dfd",
   "metadata": {},
   "outputs": [
    {
     "data": {
      "text/plain": [
       "20"
      ]
     },
     "execution_count": 66,
     "metadata": {},
     "output_type": "execute_result"
    }
   ],
   "source": [
    "f.seek(20)"
   ]
  },
  {
   "cell_type": "code",
   "execution_count": 67,
   "id": "a145321b",
   "metadata": {},
   "outputs": [
    {
     "data": {
      "text/plain": [
       "\"djgnsg\\nsdgsnlgsrg\\ndsrharghoiasglasd]\\ngasgjoisahg\\na}sdg';ashighaSd\\ng]a;Sgnakjdbghad\\n]fhlHello\""
      ]
     },
     "execution_count": 67,
     "metadata": {},
     "output_type": "execute_result"
    }
   ],
   "source": [
    "f.read()"
   ]
  },
  {
   "cell_type": "code",
   "execution_count": 69,
   "id": "6dd9e2b0",
   "metadata": {},
   "outputs": [
    {
     "data": {
      "text/plain": [
       "0"
      ]
     },
     "execution_count": 69,
     "metadata": {},
     "output_type": "execute_result"
    }
   ],
   "source": [
    "f.seek(0)"
   ]
  },
  {
   "cell_type": "code",
   "execution_count": 70,
   "id": "1f0d39e1",
   "metadata": {},
   "outputs": [
    {
     "data": {
      "text/plain": [
       "'Naman jain'"
      ]
     },
     "execution_count": 70,
     "metadata": {},
     "output_type": "execute_result"
    }
   ],
   "source": [
    "f.read(10)"
   ]
  },
  {
   "cell_type": "code",
   "execution_count": 71,
   "id": "8082de85",
   "metadata": {},
   "outputs": [],
   "source": [
    "f.close()"
   ]
  },
  {
   "cell_type": "code",
   "execution_count": 72,
   "id": "69469ce0",
   "metadata": {},
   "outputs": [
    {
     "data": {
      "text/plain": [
       "<_io.TextIOWrapper name='test.txt' mode='r' encoding='cp1252'>"
      ]
     },
     "execution_count": 72,
     "metadata": {},
     "output_type": "execute_result"
    }
   ],
   "source": [
    "f"
   ]
  },
  {
   "cell_type": "code",
   "execution_count": 73,
   "id": "054f70e4",
   "metadata": {},
   "outputs": [
    {
     "ename": "ValueError",
     "evalue": "I/O operation on closed file.",
     "output_type": "error",
     "traceback": [
      "\u001b[1;31m---------------------------------------------------------------------------\u001b[0m",
      "\u001b[1;31mValueError\u001b[0m                                Traceback (most recent call last)",
      "\u001b[1;32m<ipython-input-73-571e9fb02258>\u001b[0m in \u001b[0;36m<module>\u001b[1;34m\u001b[0m\n\u001b[1;32m----> 1\u001b[1;33m \u001b[0mf\u001b[0m\u001b[1;33m.\u001b[0m\u001b[0mread\u001b[0m\u001b[1;33m(\u001b[0m\u001b[1;33m)\u001b[0m\u001b[1;33m\u001b[0m\u001b[1;33m\u001b[0m\u001b[0m\n\u001b[0m",
      "\u001b[1;31mValueError\u001b[0m: I/O operation on closed file."
     ]
    }
   ],
   "source": [
    "f.read()"
   ]
  },
  {
   "cell_type": "code",
   "execution_count": 74,
   "id": "e78b888c",
   "metadata": {},
   "outputs": [],
   "source": [
    "f=open(\"test.txt\",\"w\")"
   ]
  },
  {
   "cell_type": "code",
   "execution_count": 75,
   "id": "38bd61da",
   "metadata": {},
   "outputs": [
    {
     "data": {
      "text/plain": [
       "94"
      ]
     },
     "execution_count": 75,
     "metadata": {},
     "output_type": "execute_result"
    }
   ],
   "source": [
    "f.write(\"Hello I hope you had a good day \\n best of luck for your career, Hope that i will see you again\")"
   ]
  },
  {
   "cell_type": "code",
   "execution_count": 76,
   "id": "b9e469c2",
   "metadata": {},
   "outputs": [],
   "source": [
    "f.close()"
   ]
  },
  {
   "cell_type": "code",
   "execution_count": 77,
   "id": "a8ea7b00",
   "metadata": {},
   "outputs": [],
   "source": [
    "f=open(\"test.txt\",\"a\")"
   ]
  },
  {
   "cell_type": "code",
   "execution_count": 78,
   "id": "18877e41",
   "metadata": {},
   "outputs": [
    {
     "data": {
      "text/plain": [
       "58"
      ]
     },
     "execution_count": 78,
     "metadata": {},
     "output_type": "execute_result"
    }
   ],
   "source": [
    "f.write(\" The day i met you from that day i have been a good person\")"
   ]
  },
  {
   "cell_type": "code",
   "execution_count": 79,
   "id": "bd28150b",
   "metadata": {},
   "outputs": [],
   "source": [
    "f.close()"
   ]
  },
  {
   "cell_type": "code",
   "execution_count": 80,
   "id": "2bb9abae",
   "metadata": {},
   "outputs": [],
   "source": [
    "f=open(\"text1.txt\",\"wb\") # opening a file in a binary format"
   ]
  },
  {
   "cell_type": "code",
   "execution_count": 83,
   "id": "4c2d99ed",
   "metadata": {},
   "outputs": [
    {
     "ename": "ValueError",
     "evalue": "write to closed file",
     "output_type": "error",
     "traceback": [
      "\u001b[1;31m---------------------------------------------------------------------------\u001b[0m",
      "\u001b[1;31mValueError\u001b[0m                                Traceback (most recent call last)",
      "\u001b[1;32m<ipython-input-83-7c83448b06b0>\u001b[0m in \u001b[0;36m<module>\u001b[1;34m\u001b[0m\n\u001b[1;32m----> 1\u001b[1;33m \u001b[0mf\u001b[0m\u001b[1;33m.\u001b[0m\u001b[0mwrite\u001b[0m\u001b[1;33m(\u001b[0m\u001b[1;34mb\"fnlksaelkfakdgnlaksndglkansdlgknalsdkgnl\"\u001b[0m\u001b[1;33m)\u001b[0m \u001b[1;31m# b is the notation of binary\u001b[0m\u001b[1;33m\u001b[0m\u001b[1;33m\u001b[0m\u001b[0m\n\u001b[0m",
      "\u001b[1;31mValueError\u001b[0m: write to closed file"
     ]
    }
   ],
   "source": [
    "f.write(b\"fnlksaelkfakdgnlaksndglkansdlgknalsdkgnl\") # b is the notation of binary "
   ]
  },
  {
   "cell_type": "code",
   "execution_count": 84,
   "id": "62f96bee",
   "metadata": {},
   "outputs": [],
   "source": [
    "f.close()"
   ]
  },
  {
   "cell_type": "code",
   "execution_count": 94,
   "id": "2f81f3e1",
   "metadata": {},
   "outputs": [],
   "source": [
    "f=open(\"text1.txt\",\"rb\")"
   ]
  },
  {
   "cell_type": "code",
   "execution_count": 86,
   "id": "94b19b1f",
   "metadata": {},
   "outputs": [
    {
     "data": {
      "text/plain": [
       "'fnlksaelkfakdgnlaksndglkansdlgknalsdkgnl'"
      ]
     },
     "execution_count": 86,
     "metadata": {},
     "output_type": "execute_result"
    }
   ],
   "source": [
    "f.read()"
   ]
  },
  {
   "cell_type": "code",
   "execution_count": 87,
   "id": "009f6209",
   "metadata": {},
   "outputs": [
    {
     "data": {
      "text/plain": [
       "4"
      ]
     },
     "execution_count": 87,
     "metadata": {},
     "output_type": "execute_result"
    }
   ],
   "source": [
    "f.seek(4)"
   ]
  },
  {
   "cell_type": "code",
   "execution_count": 88,
   "id": "a9a78eb8",
   "metadata": {},
   "outputs": [
    {
     "data": {
      "text/plain": [
       "'saelkfakdgnlaksndglkansdlgknalsdkgnl'"
      ]
     },
     "execution_count": 88,
     "metadata": {},
     "output_type": "execute_result"
    }
   ],
   "source": [
    "f.read()"
   ]
  },
  {
   "cell_type": "code",
   "execution_count": 90,
   "id": "8a48da7c",
   "metadata": {},
   "outputs": [
    {
     "data": {
      "text/plain": [
       "9"
      ]
     },
     "execution_count": 90,
     "metadata": {},
     "output_type": "execute_result"
    }
   ],
   "source": [
    "f.seek(9)"
   ]
  },
  {
   "cell_type": "code",
   "execution_count": 91,
   "id": "c83073c6",
   "metadata": {},
   "outputs": [
    {
     "data": {
      "text/plain": [
       "'fak'"
      ]
     },
     "execution_count": 91,
     "metadata": {},
     "output_type": "execute_result"
    }
   ],
   "source": [
    "f.read(3)"
   ]
  },
  {
   "cell_type": "code",
   "execution_count": 92,
   "id": "6c3ea9d3",
   "metadata": {},
   "outputs": [
    {
     "ename": "ValueError",
     "evalue": "invalid whence (3, should be 0, 1 or 2)",
     "output_type": "error",
     "traceback": [
      "\u001b[1;31m---------------------------------------------------------------------------\u001b[0m",
      "\u001b[1;31mValueError\u001b[0m                                Traceback (most recent call last)",
      "\u001b[1;32m<ipython-input-92-75bb807b205a>\u001b[0m in \u001b[0;36m<module>\u001b[1;34m\u001b[0m\n\u001b[1;32m----> 1\u001b[1;33m \u001b[0mf\u001b[0m\u001b[1;33m.\u001b[0m\u001b[0mseek\u001b[0m\u001b[1;33m(\u001b[0m\u001b[1;33m-\u001b[0m\u001b[1;36m2\u001b[0m\u001b[1;33m,\u001b[0m\u001b[1;36m3\u001b[0m\u001b[1;33m)\u001b[0m\u001b[1;33m\u001b[0m\u001b[1;33m\u001b[0m\u001b[0m\n\u001b[0m",
      "\u001b[1;31mValueError\u001b[0m: invalid whence (3, should be 0, 1 or 2)"
     ]
    }
   ],
   "source": [
    "f.seek(-2,3)"
   ]
  },
  {
   "cell_type": "code",
   "execution_count": 95,
   "id": "1e3ae03a",
   "metadata": {},
   "outputs": [
    {
     "data": {
      "text/plain": [
       "37"
      ]
     },
     "execution_count": 95,
     "metadata": {},
     "output_type": "execute_result"
    }
   ],
   "source": [
    "f.seek(-3,2)"
   ]
  },
  {
   "cell_type": "code",
   "execution_count": 96,
   "id": "7b14e179",
   "metadata": {},
   "outputs": [
    {
     "data": {
      "text/plain": [
       "b'gnl'"
      ]
     },
     "execution_count": 96,
     "metadata": {},
     "output_type": "execute_result"
    }
   ],
   "source": [
    "f.read()"
   ]
  },
  {
   "cell_type": "code",
   "execution_count": 97,
   "id": "52c47a9e",
   "metadata": {},
   "outputs": [
    {
     "ename": "ValueError",
     "evalue": "whence value 4 unsupported",
     "output_type": "error",
     "traceback": [
      "\u001b[1;31m---------------------------------------------------------------------------\u001b[0m",
      "\u001b[1;31mValueError\u001b[0m                                Traceback (most recent call last)",
      "\u001b[1;32m<ipython-input-97-ac7b6966b9ce>\u001b[0m in \u001b[0;36m<module>\u001b[1;34m\u001b[0m\n\u001b[1;32m----> 1\u001b[1;33m \u001b[0mf\u001b[0m\u001b[1;33m.\u001b[0m\u001b[0mseek\u001b[0m\u001b[1;33m(\u001b[0m\u001b[1;33m-\u001b[0m\u001b[1;36m3\u001b[0m\u001b[1;33m,\u001b[0m\u001b[1;36m4\u001b[0m\u001b[1;33m)\u001b[0m\u001b[1;33m\u001b[0m\u001b[1;33m\u001b[0m\u001b[0m\n\u001b[0m",
      "\u001b[1;31mValueError\u001b[0m: whence value 4 unsupported"
     ]
    }
   ],
   "source": [
    "f.seek(-3,4)"
   ]
  },
  {
   "cell_type": "code",
   "execution_count": 98,
   "id": "94c8c1b3",
   "metadata": {},
   "outputs": [
    {
     "data": {
      "text/plain": [
       "37"
      ]
     },
     "execution_count": 98,
     "metadata": {},
     "output_type": "execute_result"
    }
   ],
   "source": [
    "f.seek(-3,1)"
   ]
  },
  {
   "cell_type": "code",
   "execution_count": 100,
   "id": "db6ab548",
   "metadata": {},
   "outputs": [
    {
     "data": {
      "text/plain": [
       "36"
      ]
     },
     "execution_count": 100,
     "metadata": {},
     "output_type": "execute_result"
    }
   ],
   "source": [
    "f.seek(-4,2)"
   ]
  },
  {
   "cell_type": "code",
   "execution_count": 101,
   "id": "19e49173",
   "metadata": {},
   "outputs": [
    {
     "data": {
      "text/plain": [
       "b'kgnl'"
      ]
     },
     "execution_count": 101,
     "metadata": {},
     "output_type": "execute_result"
    }
   ],
   "source": [
    "f.read()"
   ]
  },
  {
   "cell_type": "code",
   "execution_count": 102,
   "id": "27c352e9",
   "metadata": {},
   "outputs": [],
   "source": [
    "f.close()"
   ]
  },
  {
   "cell_type": "code",
   "execution_count": 103,
   "id": "8bea9557",
   "metadata": {},
   "outputs": [],
   "source": [
    "f=open(\"test2.txt\",\"w\")"
   ]
  },
  {
   "cell_type": "code",
   "execution_count": 104,
   "id": "cec8e85b",
   "metadata": {},
   "outputs": [
    {
     "data": {
      "text/plain": [
       "35"
      ]
     },
     "execution_count": 104,
     "metadata": {},
     "output_type": "execute_result"
    }
   ],
   "source": [
    "f.write(\"ksghan kegalbga lkanrlgkna kanegnla\")"
   ]
  },
  {
   "cell_type": "code",
   "execution_count": 105,
   "id": "eaeab2c8",
   "metadata": {},
   "outputs": [],
   "source": [
    "f.close()"
   ]
  },
  {
   "cell_type": "code",
   "execution_count": 106,
   "id": "d3a6b1f1",
   "metadata": {},
   "outputs": [],
   "source": [
    "f=open(\"test2.txt\",\"r\")\n"
   ]
  },
  {
   "cell_type": "code",
   "execution_count": 107,
   "id": "1bd88fca",
   "metadata": {},
   "outputs": [
    {
     "data": {
      "text/plain": [
       "'ksghan kegalbga lkanrlgkna kanegnla'"
      ]
     },
     "execution_count": 107,
     "metadata": {},
     "output_type": "execute_result"
    }
   ],
   "source": [
    "f.read()"
   ]
  },
  {
   "cell_type": "code",
   "execution_count": 108,
   "id": "cdb0952f",
   "metadata": {},
   "outputs": [
    {
     "data": {
      "text/plain": [
       "0"
      ]
     },
     "execution_count": 108,
     "metadata": {},
     "output_type": "execute_result"
    }
   ],
   "source": [
    "f.seek(0)"
   ]
  },
  {
   "cell_type": "code",
   "execution_count": 109,
   "id": "12b5593e",
   "metadata": {},
   "outputs": [
    {
     "data": {
      "text/plain": [
       "'ksghan kegalbga lkanrlgkna kanegnla\\n'"
      ]
     },
     "execution_count": 109,
     "metadata": {},
     "output_type": "execute_result"
    }
   ],
   "source": [
    "f.readline()"
   ]
  },
  {
   "cell_type": "code",
   "execution_count": 110,
   "id": "03b275b9",
   "metadata": {},
   "outputs": [
    {
     "data": {
      "text/plain": [
       "'nleskgb\\n'"
      ]
     },
     "execution_count": 110,
     "metadata": {},
     "output_type": "execute_result"
    }
   ],
   "source": [
    "f.readline()"
   ]
  },
  {
   "cell_type": "code",
   "execution_count": 111,
   "id": "ec4f82fa",
   "metadata": {},
   "outputs": [
    {
     "data": {
      "text/plain": [
       "'mskledgn\\n'"
      ]
     },
     "execution_count": 111,
     "metadata": {},
     "output_type": "execute_result"
    }
   ],
   "source": [
    "f.readline()"
   ]
  },
  {
   "cell_type": "code",
   "execution_count": 112,
   "id": "ef4eb5d1",
   "metadata": {},
   "outputs": [
    {
     "name": "stdout",
     "output_type": "stream",
     "text": [
      "mkdgn\n",
      "\n"
     ]
    }
   ],
   "source": [
    "print(\"{}\".format(f.readline()))"
   ]
  },
  {
   "cell_type": "code",
   "execution_count": 113,
   "id": "859ffb59",
   "metadata": {},
   "outputs": [
    {
     "data": {
      "text/plain": [
       "0"
      ]
     },
     "execution_count": 113,
     "metadata": {},
     "output_type": "execute_result"
    }
   ],
   "source": [
    "f.seek(0)"
   ]
  },
  {
   "cell_type": "code",
   "execution_count": 115,
   "id": "04b8925a",
   "metadata": {},
   "outputs": [
    {
     "name": "stdout",
     "output_type": "stream",
     "text": [
      "ksghan kegalbga lkanrlgkna kanegnla\n",
      "nleskgb\n",
      "mskledgn\n",
      "mkdgn\n",
      "\n"
     ]
    }
   ],
   "source": [
    "print(\"{}\".format(f.read()))"
   ]
  },
  {
   "cell_type": "code",
   "execution_count": 116,
   "id": "443b0e3f",
   "metadata": {},
   "outputs": [
    {
     "data": {
      "text/plain": [
       "0"
      ]
     },
     "execution_count": 116,
     "metadata": {},
     "output_type": "execute_result"
    }
   ],
   "source": [
    "f.seek(0)"
   ]
  },
  {
   "cell_type": "code",
   "execution_count": 119,
   "id": "704d010b",
   "metadata": {},
   "outputs": [
    {
     "data": {
      "text/plain": [
       "'ga lkanrlg'"
      ]
     },
     "execution_count": 119,
     "metadata": {},
     "output_type": "execute_result"
    }
   ],
   "source": [
    "f.readline(10)"
   ]
  },
  {
   "cell_type": "code",
   "execution_count": 120,
   "id": "5fd1727a",
   "metadata": {},
   "outputs": [],
   "source": [
    "f.close()"
   ]
  },
  {
   "cell_type": "code",
   "execution_count": 150,
   "id": "0f212916",
   "metadata": {},
   "outputs": [],
   "source": [
    "f=open(\"test2.txt\",\"w\")"
   ]
  },
  {
   "cell_type": "code",
   "execution_count": 134,
   "id": "d34621f4",
   "metadata": {},
   "outputs": [
    {
     "name": "stdout",
     "output_type": "stream",
     "text": [
      "ksghan kegalbga lkanrlgkna kanegnla\n",
      "@nleskgb\n",
      "@mskledgn\n",
      "@mkdgn\n",
      "@"
     ]
    }
   ],
   "source": [
    "for i in f:\n",
    "    print(i,end=\"@\")"
   ]
  },
  {
   "cell_type": "code",
   "execution_count": 135,
   "id": "8c8b6708",
   "metadata": {},
   "outputs": [],
   "source": [
    "f.close()"
   ]
  },
  {
   "cell_type": "code",
   "execution_count": 146,
   "id": "548f6046",
   "metadata": {},
   "outputs": [],
   "source": [
    "f=open(\"test2.txt\",\"r\")"
   ]
  },
  {
   "cell_type": "code",
   "execution_count": 147,
   "id": "4eb2f757",
   "metadata": {},
   "outputs": [],
   "source": [
    "l=list(f)"
   ]
  },
  {
   "cell_type": "code",
   "execution_count": 148,
   "id": "3b502578",
   "metadata": {},
   "outputs": [
    {
     "data": {
      "text/plain": [
       "['ksghan kegalbga lkanrlgkna kanegnla\\n', 'nleskgb\\n', 'mskledgn\\n', 'mkdgn\\n']"
      ]
     },
     "execution_count": 148,
     "metadata": {},
     "output_type": "execute_result"
    }
   ],
   "source": [
    "l"
   ]
  },
  {
   "cell_type": "code",
   "execution_count": 151,
   "id": "ff948d61",
   "metadata": {},
   "outputs": [
    {
     "data": {
      "text/plain": [
       "8"
      ]
     },
     "execution_count": 151,
     "metadata": {},
     "output_type": "execute_result"
    }
   ],
   "source": [
    "f.write(\"fkfblekf\")"
   ]
  },
  {
   "cell_type": "code",
   "execution_count": 152,
   "id": "29008177",
   "metadata": {},
   "outputs": [],
   "source": [
    "f.close()"
   ]
  },
  {
   "cell_type": "code",
   "execution_count": 154,
   "id": "df420187",
   "metadata": {},
   "outputs": [],
   "source": [
    "f=open(\"test2.txt\",\"r+\")"
   ]
  },
  {
   "cell_type": "code",
   "execution_count": 156,
   "id": "34cd97d7",
   "metadata": {},
   "outputs": [],
   "source": [
    "f.writelines(\"hello\")"
   ]
  },
  {
   "cell_type": "code",
   "execution_count": 157,
   "id": "f3e141d0",
   "metadata": {},
   "outputs": [],
   "source": [
    "f.close()"
   ]
  },
  {
   "cell_type": "code",
   "execution_count": 158,
   "id": "3d129b4d",
   "metadata": {},
   "outputs": [],
   "source": [
    "f=open(\"test2.txt\",\"r+\")"
   ]
  },
  {
   "cell_type": "code",
   "execution_count": 160,
   "id": "d63951c1",
   "metadata": {},
   "outputs": [
    {
     "data": {
      "text/plain": [
       "20"
      ]
     },
     "execution_count": 160,
     "metadata": {},
     "output_type": "execute_result"
    }
   ],
   "source": [
    "f.seek(20)"
   ]
  },
  {
   "cell_type": "code",
   "execution_count": 161,
   "id": "493223b8",
   "metadata": {},
   "outputs": [],
   "source": [
    "f.writelines(\"sejbfkjBf\")"
   ]
  },
  {
   "cell_type": "code",
   "execution_count": 162,
   "id": "c21dbdd5",
   "metadata": {},
   "outputs": [],
   "source": [
    "f.close()"
   ]
  },
  {
   "cell_type": "code",
   "execution_count": 163,
   "id": "aefdd8c1",
   "metadata": {},
   "outputs": [],
   "source": [
    "f=open(\"test2.txt\",\"r+\")"
   ]
  },
  {
   "cell_type": "code",
   "execution_count": 165,
   "id": "48c0fd13",
   "metadata": {},
   "outputs": [
    {
     "data": {
      "text/plain": [
       "6"
      ]
     },
     "execution_count": 165,
     "metadata": {},
     "output_type": "execute_result"
    }
   ],
   "source": [
    "f.fileno()"
   ]
  },
  {
   "cell_type": "code",
   "execution_count": 166,
   "id": "471377ae",
   "metadata": {},
   "outputs": [
    {
     "name": "stdout",
     "output_type": "stream",
     "text": [
      "Writing test5.txt\n"
     ]
    }
   ],
   "source": [
    "%%writefile test5.txt\n",
    "my name is naman"
   ]
  },
  {
   "cell_type": "code",
   "execution_count": 168,
   "id": "19e8cdf2",
   "metadata": {},
   "outputs": [],
   "source": [
    "import os # operating system "
   ]
  },
  {
   "cell_type": "code",
   "execution_count": 170,
   "id": "9d050813",
   "metadata": {},
   "outputs": [
    {
     "data": {
      "text/plain": [
       "'C:\\\\Users\\\\Naman Jain\\\\Big_data'"
      ]
     },
     "execution_count": 170,
     "metadata": {},
     "output_type": "execute_result"
    }
   ],
   "source": [
    "pwd()"
   ]
  },
  {
   "cell_type": "code",
   "execution_count": 171,
   "id": "379f826e",
   "metadata": {},
   "outputs": [
    {
     "name": "stderr",
     "output_type": "stream",
     "text": [
      "The syntax of the command is incorrect.\n"
     ]
    }
   ],
   "source": [
    "%mkdir"
   ]
  },
  {
   "cell_type": "code",
   "execution_count": 172,
   "id": "1a03481b",
   "metadata": {},
   "outputs": [
    {
     "data": {
      "text/plain": [
       "'C:\\\\Users\\\\Naman Jain\\\\Big_data'"
      ]
     },
     "execution_count": 172,
     "metadata": {},
     "output_type": "execute_result"
    }
   ],
   "source": [
    "os.getcwd()"
   ]
  },
  {
   "cell_type": "code",
   "execution_count": 173,
   "id": "6469522a",
   "metadata": {},
   "outputs": [
    {
     "data": {
      "text/plain": [
       "['.ipynb_checkpoints',\n",
       " '0',\n",
       " 'Assignement_2.ipynb',\n",
       " 'Assignment_1.ipynb',\n",
       " 'Assignment_4.ipynb',\n",
       " 'Day_10 & Day_11.ipynb',\n",
       " 'Day_2.ipynb',\n",
       " 'Day_3.ipynb',\n",
       " 'Day_4.ipynb',\n",
       " 'Day_5.ipynb',\n",
       " 'Day_6.ipynb',\n",
       " 'Day_7 &_8.ipynb',\n",
       " 'Day_9.ipynb',\n",
       " 'test.txt',\n",
       " 'test2.txt',\n",
       " 'test5.txt',\n",
       " 'text1.txt']"
      ]
     },
     "execution_count": 173,
     "metadata": {},
     "output_type": "execute_result"
    }
   ],
   "source": [
    "os.listdir()"
   ]
  },
  {
   "cell_type": "code",
   "execution_count": 180,
   "id": "d682cfb6",
   "metadata": {},
   "outputs": [
    {
     "data": {
      "text/plain": [
       "['.ipynb_checkpoints',\n",
       " '0',\n",
       " 'Assignement_2.ipynb',\n",
       " 'Assignment_1.ipynb',\n",
       " 'Assignment_4.ipynb',\n",
       " 'Day_10 & Day_11.ipynb',\n",
       " 'Day_2.ipynb',\n",
       " 'Day_3.ipynb',\n",
       " 'Day_4.ipynb',\n",
       " 'Day_5.ipynb',\n",
       " 'Day_6.ipynb',\n",
       " 'Day_7 &_8.ipynb',\n",
       " 'Day_9.ipynb',\n",
       " 'test.txt',\n",
       " 'test2.txt',\n",
       " 'test5.txt',\n",
       " 'text1.txt']"
      ]
     },
     "execution_count": 180,
     "metadata": {},
     "output_type": "execute_result"
    }
   ],
   "source": [
    "os.listdir()"
   ]
  },
  {
   "cell_type": "code",
   "execution_count": 181,
   "id": "39f6347e",
   "metadata": {},
   "outputs": [
    {
     "data": {
      "text/plain": [
       "'C:\\\\Users\\\\Naman Jain\\\\Big_data'"
      ]
     },
     "execution_count": 181,
     "metadata": {},
     "output_type": "execute_result"
    }
   ],
   "source": [
    "pwd()"
   ]
  },
  {
   "cell_type": "code",
   "execution_count": 182,
   "id": "66b323ca",
   "metadata": {},
   "outputs": [
    {
     "data": {
      "text/plain": [
       "'C:\\\\Users\\\\Naman Jain\\\\Big_data'"
      ]
     },
     "execution_count": 182,
     "metadata": {},
     "output_type": "execute_result"
    }
   ],
   "source": [
    "os.getcwd()"
   ]
  },
  {
   "cell_type": "code",
   "execution_count": 183,
   "id": "52738894",
   "metadata": {},
   "outputs": [],
   "source": [
    "os.chdir(\"C:\\\\Users\\\\Naman Jain\")"
   ]
  },
  {
   "cell_type": "code",
   "execution_count": 184,
   "id": "d53d9af8",
   "metadata": {},
   "outputs": [
    {
     "data": {
      "text/plain": [
       "'C:\\\\Users\\\\Naman Jain'"
      ]
     },
     "execution_count": 184,
     "metadata": {},
     "output_type": "execute_result"
    }
   ],
   "source": [
    "os.getcwd()"
   ]
  },
  {
   "cell_type": "code",
   "execution_count": 187,
   "id": "e2eb9fe3",
   "metadata": {},
   "outputs": [],
   "source": [
    "os.chdir('C:\\\\Users\\\\Naman Jain\\\\Big_data')"
   ]
  },
  {
   "cell_type": "code",
   "execution_count": 188,
   "id": "4d498930",
   "metadata": {},
   "outputs": [
    {
     "data": {
      "text/plain": [
       "['.ipynb_checkpoints',\n",
       " '0',\n",
       " 'Assignement_2.ipynb',\n",
       " 'Assignment_1.ipynb',\n",
       " 'Assignment_4.ipynb',\n",
       " 'Day_10 & Day_11.ipynb',\n",
       " 'Day_2.ipynb',\n",
       " 'Day_3.ipynb',\n",
       " 'Day_4.ipynb',\n",
       " 'Day_5.ipynb',\n",
       " 'Day_6.ipynb',\n",
       " 'Day_7 &_8.ipynb',\n",
       " 'Day_9.ipynb',\n",
       " 'test.txt',\n",
       " 'test2.txt',\n",
       " 'test5.txt',\n",
       " 'text1.txt']"
      ]
     },
     "execution_count": 188,
     "metadata": {},
     "output_type": "execute_result"
    }
   ],
   "source": [
    "os.listdir()"
   ]
  },
  {
   "cell_type": "code",
   "execution_count": 189,
   "id": "a490677f",
   "metadata": {},
   "outputs": [],
   "source": [
    "os.mkdir(\"naman\")"
   ]
  },
  {
   "cell_type": "code",
   "execution_count": 191,
   "id": "e49edf08",
   "metadata": {},
   "outputs": [
    {
     "name": "stdout",
     "output_type": "stream",
     "text": [
      "No\n"
     ]
    }
   ],
   "source": [
    "if \"naman\" in os.listdir():\n",
    "    print(\"Yes\")\n",
    "else:\n",
    "    print(\"No\")"
   ]
  },
  {
   "cell_type": "code",
   "execution_count": 195,
   "id": "04b5e06b",
   "metadata": {},
   "outputs": [
    {
     "name": "stdout",
     "output_type": "stream",
     "text": [
      "File Exists\n",
      "fnlksaelkfakdgnlaksndglkansdlgknalsdkgnl\n",
      "\n",
      "bkjabf\n",
      "\n"
     ]
    }
   ],
   "source": [
    "if \"text1.txt\" in os.listdir():\n",
    "    print(\"File Exists\")\n",
    "    f=open(\"text1.txt\",\"r+\")\n",
    "    for i in f:\n",
    "        print(i)\n",
    "else:\n",
    "    print('File doesnt Exist')"
   ]
  },
  {
   "cell_type": "code",
   "execution_count": 196,
   "id": "2cecbc0e",
   "metadata": {},
   "outputs": [],
   "source": [
    "os.mkdir(\"naman\")"
   ]
  },
  {
   "cell_type": "code",
   "execution_count": 197,
   "id": "93ba3824",
   "metadata": {},
   "outputs": [],
   "source": [
    "if not os.path.isdir(\"naman\"):\n",
    "    os.mkdir(\"naman\")"
   ]
  },
  {
   "cell_type": "code",
   "execution_count": 198,
   "id": "f7c49584",
   "metadata": {},
   "outputs": [],
   "source": [
    "# renaming a file"
   ]
  },
  {
   "cell_type": "code",
   "execution_count": 203,
   "id": "6dc252f0",
   "metadata": {},
   "outputs": [],
   "source": [
    "os.rename(\"text1.txt\",\"test1.txt\")"
   ]
  },
  {
   "cell_type": "code",
   "execution_count": 201,
   "id": "4e250a4f",
   "metadata": {},
   "outputs": [],
   "source": [
    "f=open(\"text1.txt\",\"a\")"
   ]
  },
  {
   "cell_type": "code",
   "execution_count": 202,
   "id": "96539704",
   "metadata": {},
   "outputs": [],
   "source": [
    "f.close()"
   ]
  },
  {
   "cell_type": "code",
   "execution_count": 204,
   "id": "1cd97464",
   "metadata": {},
   "outputs": [],
   "source": [
    "os.rmdir(\"naman\")"
   ]
  },
  {
   "cell_type": "code",
   "execution_count": 226,
   "id": "400c80a6",
   "metadata": {},
   "outputs": [],
   "source": [
    "import shutil"
   ]
  },
  {
   "cell_type": "code",
   "execution_count": 206,
   "id": "7e7f7d1d",
   "metadata": {},
   "outputs": [],
   "source": [
    "os.mkdir(\"New_dir\")"
   ]
  },
  {
   "cell_type": "code",
   "execution_count": 207,
   "id": "7c78c9ee",
   "metadata": {},
   "outputs": [],
   "source": [
    "os.chdir(\"New_dir\")"
   ]
  },
  {
   "cell_type": "code",
   "execution_count": 208,
   "id": "0bc7866b",
   "metadata": {},
   "outputs": [
    {
     "data": {
      "text/plain": [
       "'C:\\\\Users\\\\Naman Jain\\\\Big_data\\\\New_dir'"
      ]
     },
     "execution_count": 208,
     "metadata": {},
     "output_type": "execute_result"
    }
   ],
   "source": [
    "os.getcwd()"
   ]
  },
  {
   "cell_type": "code",
   "execution_count": 219,
   "id": "df46073b",
   "metadata": {},
   "outputs": [
    {
     "data": {
      "text/plain": [
       "'C:\\\\Users\\\\Naman Jain\\\\Big_data\\\\New_dir'"
      ]
     },
     "execution_count": 219,
     "metadata": {},
     "output_type": "execute_result"
    }
   ],
   "source": []
  },
  {
   "cell_type": "code",
   "execution_count": 235,
   "id": "bb965e05",
   "metadata": {},
   "outputs": [],
   "source": [
    "os.chdir(\"C:\\\\Users\\\\Naman Jain\\\\Big_data\")"
   ]
  },
  {
   "cell_type": "code",
   "execution_count": 236,
   "id": "a08c6d47",
   "metadata": {},
   "outputs": [
    {
     "data": {
      "text/plain": [
       "'C:\\\\Users\\\\Naman Jain\\\\Big_data'"
      ]
     },
     "execution_count": 236,
     "metadata": {},
     "output_type": "execute_result"
    }
   ],
   "source": [
    "os.getcwd()"
   ]
  },
  {
   "cell_type": "code",
   "execution_count": 237,
   "id": "f3691196",
   "metadata": {},
   "outputs": [
    {
     "name": "stdout",
     "output_type": "stream",
     "text": [
      "Data in txttxt0.txt --> file0\n",
      "Data in txttxt1.txt --> file1\n",
      "Data in txttxt2.txt --> file2\n",
      "Data in txttxt3.txt --> file3\n",
      "Data in txttxt4.txt --> file4\n",
      "Data in txttxt5.txt --> file5\n",
      "Data in txttxt6.txt --> file6\n",
      "Data in txttxt7.txt --> file7\n",
      "Data in txttxt8.txt --> file8\n",
      "Data in txttxt9.txt --> file9\n"
     ]
    }
   ],
   "source": [
    "os.mkdir(\"file_txt\")\n",
    "os.mkdir(\"transfer_txt\")\n",
    "os.chdir(\"file_txt\")\n",
    "\n",
    "for i in range(10):\n",
    "    f=open(\"txt{}\".format(i) + \".txt\",\"w\")\n",
    "    f.write(\"{}{}\".format(\"file\",i))\n",
    "    f.close()\n",
    "l=[]\n",
    "for i in os.listdir():\n",
    "    if \".txt\" in i:\n",
    "        f=open(i,\"r\")\n",
    "        l1=f.read()\n",
    "        print(\"Data in {} --> {}\".format(i,l1))\n",
    "        l.append(l1)\n",
    "        f.close()\n",
    "\n",
    "f=open(\"new_file.txt\",\"w\")\n",
    "for i in l:\n",
    "    f.write(i)\n",
    "    f.write(\" \")\n",
    "f.close()\n",
    "\n",
    "\n",
    "for i in range(10):\n",
    "    shutil.move(\"C:\\\\Users\\\\Naman Jain\\\\Big_data\\\\file_txt\\\\txt{}.txt\".format(i),\"C:\\\\Users\\\\Naman Jain\\\\Big_data\\\\transfer_txt\")"
   ]
  },
  {
   "cell_type": "code",
   "execution_count": 233,
   "id": "351472f0",
   "metadata": {},
   "outputs": [
    {
     "data": {
      "text/plain": [
       "True"
      ]
     },
     "execution_count": 233,
     "metadata": {},
     "output_type": "execute_result"
    }
   ],
   "source": [
    "\"as\"in \"namanas\""
   ]
  },
  {
   "cell_type": "code",
   "execution_count": 238,
   "id": "6882f21e",
   "metadata": {},
   "outputs": [],
   "source": [
    "a=\"naman\"\n",
    "b=\"naman_1\""
   ]
  },
  {
   "cell_type": "code",
   "execution_count": 257,
   "id": "d9470840",
   "metadata": {},
   "outputs": [],
   "source": [
    "l=\"assignment_1.txt\".split()"
   ]
  },
  {
   "cell_type": "code",
   "execution_count": 258,
   "id": "23a9baa2",
   "metadata": {},
   "outputs": [
    {
     "data": {
      "text/plain": [
       "'assignment_1.txt'"
      ]
     },
     "execution_count": 258,
     "metadata": {},
     "output_type": "execute_result"
    }
   ],
   "source": [
    "l[0]"
   ]
  },
  {
   "cell_type": "code",
   "execution_count": 263,
   "id": "74807df9",
   "metadata": {},
   "outputs": [],
   "source": [
    "s={\"assignment\",\"1\"}\n",
    "p={\"assignment\",\"2\"}"
   ]
  },
  {
   "cell_type": "code",
   "execution_count": 264,
   "id": "55de1c9b",
   "metadata": {},
   "outputs": [
    {
     "data": {
      "text/plain": [
       "{'assignment'}"
      ]
     },
     "execution_count": 264,
     "metadata": {},
     "output_type": "execute_result"
    }
   ],
   "source": [
    "s.intersection(p)"
   ]
  },
  {
   "cell_type": "code",
   "execution_count": 265,
   "id": "0a5dac42",
   "metadata": {},
   "outputs": [
    {
     "data": {
      "text/plain": [
       "'C:\\\\Users\\\\Naman Jain\\\\Big_data\\\\file_txt'"
      ]
     },
     "execution_count": 265,
     "metadata": {},
     "output_type": "execute_result"
    }
   ],
   "source": [
    "os.getcwd()"
   ]
  },
  {
   "cell_type": "code",
   "execution_count": 266,
   "id": "ab159830",
   "metadata": {},
   "outputs": [],
   "source": [
    "os.chdir(\"C:\\\\Users\\\\Naman Jain\\\\Big_data\")"
   ]
  },
  {
   "cell_type": "code",
   "execution_count": 267,
   "id": "4b6db3b5",
   "metadata": {},
   "outputs": [
    {
     "data": {
      "text/plain": [
       "'C:\\\\Users\\\\Naman Jain\\\\Big_data'"
      ]
     },
     "execution_count": 267,
     "metadata": {},
     "output_type": "execute_result"
    }
   ],
   "source": [
    "os.getcwd()"
   ]
  },
  {
   "cell_type": "code",
   "execution_count": 268,
   "id": "f89e8c55",
   "metadata": {},
   "outputs": [],
   "source": [
    "os.mkdir(\"assignment\")"
   ]
  },
  {
   "cell_type": "code",
   "execution_count": 269,
   "id": "b7e71874",
   "metadata": {},
   "outputs": [],
   "source": [
    "os.chdir(\"assignment\")"
   ]
  },
  {
   "cell_type": "code",
   "execution_count": 270,
   "id": "f18427db",
   "metadata": {},
   "outputs": [],
   "source": [
    "for i in range(10):\n",
    "    f=open(\"Assignment_{}\".format(i),\"w\")\n",
    "    f.write(\"{}{}\".format(\"file\",i))\n",
    "    f.close()"
   ]
  },
  {
   "cell_type": "code",
   "execution_count": 271,
   "id": "c9b5607f",
   "metadata": {},
   "outputs": [
    {
     "name": "stdout",
     "output_type": "stream",
     "text": [
      "Assignment_0\n",
      "Assignment_1\n",
      "Assignment_2\n",
      "Assignment_3\n",
      "Assignment_4\n",
      "Assignment_5\n",
      "Assignment_6\n",
      "Assignment_7\n",
      "Assignment_8\n",
      "Assignment_9\n"
     ]
    }
   ],
   "source": [
    "for i in os.listdir():\n",
    "    print(i)"
   ]
  },
  {
   "cell_type": "code",
   "execution_count": 272,
   "id": "8a114c4a",
   "metadata": {},
   "outputs": [],
   "source": [
    "l=[]\n",
    "for i in os.listdir():\n",
    "    l.append(i.split(\"_\"))"
   ]
  },
  {
   "cell_type": "code",
   "execution_count": 273,
   "id": "992b3d60",
   "metadata": {},
   "outputs": [
    {
     "data": {
      "text/plain": [
       "[['Assignment', '0'],\n",
       " ['Assignment', '1'],\n",
       " ['Assignment', '2'],\n",
       " ['Assignment', '3'],\n",
       " ['Assignment', '4'],\n",
       " ['Assignment', '5'],\n",
       " ['Assignment', '6'],\n",
       " ['Assignment', '7'],\n",
       " ['Assignment', '8'],\n",
       " ['Assignment', '9']]"
      ]
     },
     "execution_count": 273,
     "metadata": {},
     "output_type": "execute_result"
    }
   ],
   "source": [
    "l"
   ]
  },
  {
   "cell_type": "code",
   "execution_count": 274,
   "id": "7fe20ef3",
   "metadata": {},
   "outputs": [
    {
     "data": {
      "text/plain": [
       "['Assignment_0',\n",
       " 'Assignment_1',\n",
       " 'Assignment_2',\n",
       " 'Assignment_3',\n",
       " 'Assignment_4',\n",
       " 'Assignment_5',\n",
       " 'Assignment_6',\n",
       " 'Assignment_7',\n",
       " 'Assignment_8',\n",
       " 'Assignment_9']"
      ]
     },
     "execution_count": 274,
     "metadata": {},
     "output_type": "execute_result"
    }
   ],
   "source": [
    "os.listdir()"
   ]
  },
  {
   "cell_type": "code",
   "execution_count": 280,
   "id": "1f465f63",
   "metadata": {},
   "outputs": [],
   "source": [
    "s={\"assignment\",1}\n",
    "s1={\"assignment\",2}\n",
    "sq=s.intersection(s1)"
   ]
  },
  {
   "cell_type": "code",
   "execution_count": 281,
   "id": "d0a95f49",
   "metadata": {},
   "outputs": [
    {
     "data": {
      "text/plain": [
       "{'assignment'}"
      ]
     },
     "execution_count": 281,
     "metadata": {},
     "output_type": "execute_result"
    }
   ],
   "source": [
    "sq"
   ]
  },
  {
   "cell_type": "code",
   "execution_count": null,
   "id": "b21be8bd",
   "metadata": {},
   "outputs": [],
   "source": []
  }
 ],
 "metadata": {
  "kernelspec": {
   "display_name": "Python 3",
   "language": "python",
   "name": "python3"
  },
  "language_info": {
   "codemirror_mode": {
    "name": "ipython",
    "version": 3
   },
   "file_extension": ".py",
   "mimetype": "text/x-python",
   "name": "python",
   "nbconvert_exporter": "python",
   "pygments_lexer": "ipython3",
   "version": "3.8.8"
  }
 },
 "nbformat": 4,
 "nbformat_minor": 5
}
