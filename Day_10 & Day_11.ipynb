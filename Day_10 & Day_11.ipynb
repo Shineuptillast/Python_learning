{
 "cells": [
  {
   "cell_type": "code",
   "execution_count": 1,
   "id": "611e53a9",
   "metadata": {},
   "outputs": [],
   "source": [
    "def test(**kwargs): # Expecting Key-Value parameters\n",
    "    print(list(kwargs.items()))"
   ]
  },
  {
   "cell_type": "code",
   "execution_count": 2,
   "id": "a14729ab",
   "metadata": {},
   "outputs": [
    {
     "name": "stdout",
     "output_type": "stream",
     "text": [
      "[('a', 'Naman'), ('b', 'Jain')]\n"
     ]
    }
   ],
   "source": [
    "test(a=\"Naman\",b=\"Jain\") # arguments passed during function call"
   ]
  },
  {
   "cell_type": "code",
   "execution_count": 3,
   "id": "764757b6",
   "metadata": {},
   "outputs": [],
   "source": [
    "# Lambda Function"
   ]
  },
  {
   "cell_type": "code",
   "execution_count": 4,
   "id": "86fa5c62",
   "metadata": {},
   "outputs": [],
   "source": [
    "def test1(name,email_id):\n",
    "    con=name+email_id\n",
    "    return con"
   ]
  },
  {
   "cell_type": "code",
   "execution_count": 5,
   "id": "c7a7ee11",
   "metadata": {},
   "outputs": [
    {
     "data": {
      "text/plain": [
       "'NamanNamanjain@gmail.com'"
      ]
     },
     "execution_count": 5,
     "metadata": {},
     "output_type": "execute_result"
    }
   ],
   "source": [
    "test1(\"Naman\",\"Namanjain@gmail.com\")"
   ]
  },
  {
   "cell_type": "code",
   "execution_count": 6,
   "id": "5ec111a0",
   "metadata": {},
   "outputs": [],
   "source": [
    "a=10\n",
    "b=20"
   ]
  },
  {
   "cell_type": "code",
   "execution_count": 7,
   "id": "daa03872",
   "metadata": {},
   "outputs": [],
   "source": [
    "def test2(x,y):\n",
    "    return x*y"
   ]
  },
  {
   "cell_type": "code",
   "execution_count": 8,
   "id": "f3e32422",
   "metadata": {},
   "outputs": [
    {
     "data": {
      "text/plain": [
       "200"
      ]
     },
     "execution_count": 8,
     "metadata": {},
     "output_type": "execute_result"
    }
   ],
   "source": [
    "test2(a,b)"
   ]
  },
  {
   "cell_type": "code",
   "execution_count": 9,
   "id": "2826af74",
   "metadata": {},
   "outputs": [],
   "source": [
    "m=lambda x,y : x*y # No function name, Anonymous function"
   ]
  },
  {
   "cell_type": "markdown",
   "id": "f086b2b2",
   "metadata": {},
   "source": [
    "m(a,b)"
   ]
  },
  {
   "cell_type": "code",
   "execution_count": 10,
   "id": "579aa062",
   "metadata": {},
   "outputs": [
    {
     "data": {
      "text/plain": [
       "<function __main__.<lambda>(x, y)>"
      ]
     },
     "execution_count": 10,
     "metadata": {},
     "output_type": "execute_result"
    }
   ],
   "source": [
    "m"
   ]
  },
  {
   "cell_type": "code",
   "execution_count": 11,
   "id": "67380773",
   "metadata": {},
   "outputs": [
    {
     "data": {
      "text/plain": [
       "'NamanNaman'"
      ]
     },
     "execution_count": 11,
     "metadata": {},
     "output_type": "execute_result"
    }
   ],
   "source": [
    "m(\"Naman\",2)"
   ]
  },
  {
   "cell_type": "code",
   "execution_count": 12,
   "id": "80df6efd",
   "metadata": {},
   "outputs": [],
   "source": [
    "b=lambda n,m: n+\" \"+m"
   ]
  },
  {
   "cell_type": "code",
   "execution_count": 13,
   "id": "ac146b47",
   "metadata": {},
   "outputs": [
    {
     "data": {
      "text/plain": [
       "'Naman Jain'"
      ]
     },
     "execution_count": 13,
     "metadata": {},
     "output_type": "execute_result"
    }
   ],
   "source": [
    "b(\"Naman\",\"Jain\")"
   ]
  },
  {
   "cell_type": "code",
   "execution_count": 14,
   "id": "85512a5a",
   "metadata": {},
   "outputs": [],
   "source": [
    "m=lambda n,m:print(n,m)"
   ]
  },
  {
   "cell_type": "code",
   "execution_count": 15,
   "id": "cb6ce78c",
   "metadata": {},
   "outputs": [
    {
     "name": "stdout",
     "output_type": "stream",
     "text": [
      "Naman jain\n"
     ]
    }
   ],
   "source": [
    "m(\"Naman\", \"jain\")"
   ]
  },
  {
   "cell_type": "code",
   "execution_count": 16,
   "id": "1ab57d3c",
   "metadata": {},
   "outputs": [],
   "source": [
    "m=lambda *args: print(args)"
   ]
  },
  {
   "cell_type": "code",
   "execution_count": 17,
   "id": "deb04ffe",
   "metadata": {},
   "outputs": [
    {
     "name": "stdout",
     "output_type": "stream",
     "text": [
      "('Naman', 'Jain', [1, 23, 4])\n"
     ]
    }
   ],
   "source": [
    "m(\"Naman\", \"Jain\",[1,23,4])"
   ]
  },
  {
   "cell_type": "code",
   "execution_count": 18,
   "id": "ced9994c",
   "metadata": {},
   "outputs": [],
   "source": [
    "# scope of variable"
   ]
  },
  {
   "cell_type": "code",
   "execution_count": 19,
   "id": "df0a3777",
   "metadata": {},
   "outputs": [],
   "source": [
    "r=10 # global scope\n",
    "def test4( a , b ):\n",
    "    r = a / b\n",
    "    print(r) # local scope"
   ]
  },
  {
   "cell_type": "code",
   "execution_count": 20,
   "id": "c02e4981",
   "metadata": {},
   "outputs": [
    {
     "name": "stdout",
     "output_type": "stream",
     "text": [
      "1.0\n"
     ]
    }
   ],
   "source": [
    "test4(10,10) #local value"
   ]
  },
  {
   "cell_type": "code",
   "execution_count": 21,
   "id": "886cc2e8",
   "metadata": {},
   "outputs": [
    {
     "data": {
      "text/plain": [
       "10"
      ]
     },
     "execution_count": 21,
     "metadata": {},
     "output_type": "execute_result"
    }
   ],
   "source": [
    "r # global value"
   ]
  },
  {
   "cell_type": "code",
   "execution_count": 22,
   "id": "cd3b6355",
   "metadata": {},
   "outputs": [],
   "source": [
    "def test5(a=5,b=\" \"):\n",
    "    \"\"\"\n",
    "    test5()\n",
    "    a= Will do this\n",
    "    b=Wont do this\n",
    "    This function prints the name on the sys.stdout\"\"\"\n",
    "    print(\"Name is XYZ\")"
   ]
  },
  {
   "cell_type": "code",
   "execution_count": 23,
   "id": "1a1cd6c8",
   "metadata": {},
   "outputs": [
    {
     "name": "stdout",
     "output_type": "stream",
     "text": [
      "Name is XYZ\n"
     ]
    }
   ],
   "source": [
    "test5()"
   ]
  },
  {
   "cell_type": "code",
   "execution_count": 24,
   "id": "fdc353fe",
   "metadata": {},
   "outputs": [
    {
     "name": "stdout",
     "output_type": "stream",
     "text": [
      "Help on built-in function print in module builtins:\n",
      "\n",
      "print(...)\n",
      "    print(value, ..., sep=' ', end='\\n', file=sys.stdout, flush=False)\n",
      "    \n",
      "    Prints the values to a stream, or to sys.stdout by default.\n",
      "    Optional keyword arguments:\n",
      "    file:  a file-like object (stream); defaults to the current sys.stdout.\n",
      "    sep:   string inserted between values, default a space.\n",
      "    end:   string appended after the last value, default a newline.\n",
      "    flush: whether to forcibly flush the stream.\n",
      "\n"
     ]
    }
   ],
   "source": [
    "help(print)"
   ]
  },
  {
   "cell_type": "code",
   "execution_count": 25,
   "id": "dfb77b0a",
   "metadata": {},
   "outputs": [],
   "source": [
    "# Iterators and generators"
   ]
  },
  {
   "cell_type": "code",
   "execution_count": 26,
   "id": "fddf627a",
   "metadata": {},
   "outputs": [
    {
     "ename": "TypeError",
     "evalue": "'int' object is not iterable",
     "output_type": "error",
     "traceback": [
      "\u001b[1;31m---------------------------------------------------------------------------\u001b[0m",
      "\u001b[1;31mTypeError\u001b[0m                                 Traceback (most recent call last)",
      "\u001b[1;32m<ipython-input-26-536464ac0c25>\u001b[0m in \u001b[0;36m<module>\u001b[1;34m\u001b[0m\n\u001b[0;32m      1\u001b[0m \u001b[0ma\u001b[0m\u001b[1;33m=\u001b[0m\u001b[1;36m10\u001b[0m\u001b[1;33m\u001b[0m\u001b[1;33m\u001b[0m\u001b[0m\n\u001b[1;32m----> 2\u001b[1;33m \u001b[1;32mfor\u001b[0m \u001b[0mi\u001b[0m \u001b[1;32min\u001b[0m \u001b[0ma\u001b[0m\u001b[1;33m:\u001b[0m\u001b[1;33m\u001b[0m\u001b[1;33m\u001b[0m\u001b[0m\n\u001b[0m\u001b[0;32m      3\u001b[0m     \u001b[0mprint\u001b[0m\u001b[1;33m(\u001b[0m\u001b[0ma\u001b[0m\u001b[1;33m)\u001b[0m\u001b[1;33m\u001b[0m\u001b[1;33m\u001b[0m\u001b[0m\n",
      "\u001b[1;31mTypeError\u001b[0m: 'int' object is not iterable"
     ]
    }
   ],
   "source": [
    "a=10\n",
    "for i in a:\n",
    "    print(a)"
   ]
  },
  {
   "cell_type": "code",
   "execution_count": null,
   "id": "89aa81d2",
   "metadata": {},
   "outputs": [],
   "source": [
    "for i in \"sudh\":\n",
    "    print(i)\n",
    "    "
   ]
  },
  {
   "cell_type": "code",
   "execution_count": null,
   "id": "e74bd1b3",
   "metadata": {},
   "outputs": [],
   "source": [
    "s=\"sudh\""
   ]
  },
  {
   "cell_type": "code",
   "execution_count": null,
   "id": "5460c4e0",
   "metadata": {},
   "outputs": [],
   "source": [
    "next(s)"
   ]
  },
  {
   "cell_type": "code",
   "execution_count": null,
   "id": "2a8182d9",
   "metadata": {},
   "outputs": [],
   "source": [
    "s=\"Naman\""
   ]
  },
  {
   "cell_type": "code",
   "execution_count": null,
   "id": "73748ab6",
   "metadata": {},
   "outputs": [],
   "source": [
    "p=iter(s)"
   ]
  },
  {
   "cell_type": "code",
   "execution_count": null,
   "id": "b1c0fc16",
   "metadata": {},
   "outputs": [],
   "source": [
    "next(p)"
   ]
  },
  {
   "cell_type": "code",
   "execution_count": null,
   "id": "9e2f29c6",
   "metadata": {},
   "outputs": [],
   "source": [
    "next(p)"
   ]
  },
  {
   "cell_type": "code",
   "execution_count": null,
   "id": "42b1faf9",
   "metadata": {},
   "outputs": [],
   "source": [
    "next(p)"
   ]
  },
  {
   "cell_type": "code",
   "execution_count": null,
   "id": "fafe787c",
   "metadata": {},
   "outputs": [],
   "source": [
    "next(p)"
   ]
  },
  {
   "cell_type": "code",
   "execution_count": null,
   "id": "affe2b12",
   "metadata": {},
   "outputs": [],
   "source": [
    "next(p)"
   ]
  },
  {
   "cell_type": "code",
   "execution_count": null,
   "id": "4efa955c",
   "metadata": {},
   "outputs": [],
   "source": [
    "next(p)"
   ]
  },
  {
   "cell_type": "code",
   "execution_count": null,
   "id": "0a42188f",
   "metadata": {},
   "outputs": [],
   "source": [
    "s=\"sudh\""
   ]
  },
  {
   "cell_type": "code",
   "execution_count": null,
   "id": "25548c6c",
   "metadata": {},
   "outputs": [],
   "source": [
    "s=iter(s)"
   ]
  },
  {
   "cell_type": "code",
   "execution_count": null,
   "id": "b2b24b9a",
   "metadata": {},
   "outputs": [],
   "source": [
    "next(s)"
   ]
  },
  {
   "cell_type": "code",
   "execution_count": null,
   "id": "46aeda69",
   "metadata": {},
   "outputs": [],
   "source": [
    "next(s)"
   ]
  },
  {
   "cell_type": "code",
   "execution_count": null,
   "id": "e44bde72",
   "metadata": {},
   "outputs": [],
   "source": [
    "next(s)"
   ]
  },
  {
   "cell_type": "code",
   "execution_count": null,
   "id": "fe11ee35",
   "metadata": {},
   "outputs": [],
   "source": [
    "next(s)"
   ]
  },
  {
   "cell_type": "code",
   "execution_count": null,
   "id": "e0ef8d24",
   "metadata": {},
   "outputs": [],
   "source": [
    "next(s)"
   ]
  },
  {
   "cell_type": "code",
   "execution_count": null,
   "id": "a07e4b6d",
   "metadata": {},
   "outputs": [],
   "source": [
    "for i in \"sudh\":\n",
    "    print(i)"
   ]
  },
  {
   "cell_type": "code",
   "execution_count": null,
   "id": "00dc371d",
   "metadata": {},
   "outputs": [],
   "source": [
    "# for loop internally implementing iterator l"
   ]
  },
  {
   "cell_type": "code",
   "execution_count": null,
   "id": "786c588a",
   "metadata": {},
   "outputs": [],
   "source": [
    "l=[1,2,3,4,\"Naman\"]"
   ]
  },
  {
   "cell_type": "code",
   "execution_count": null,
   "id": "19a0843e",
   "metadata": {},
   "outputs": [],
   "source": [
    "next(l)"
   ]
  },
  {
   "cell_type": "code",
   "execution_count": null,
   "id": "b65db398",
   "metadata": {},
   "outputs": [],
   "source": [
    "i=iter(l)"
   ]
  },
  {
   "cell_type": "code",
   "execution_count": null,
   "id": "d1081bd4",
   "metadata": {},
   "outputs": [],
   "source": [
    "next(i)"
   ]
  },
  {
   "cell_type": "code",
   "execution_count": null,
   "id": "8a84c99a",
   "metadata": {},
   "outputs": [],
   "source": [
    "next(i)"
   ]
  },
  {
   "cell_type": "code",
   "execution_count": null,
   "id": "062aa999",
   "metadata": {},
   "outputs": [],
   "source": [
    "next(i)"
   ]
  },
  {
   "cell_type": "code",
   "execution_count": null,
   "id": "b9ce3b71",
   "metadata": {},
   "outputs": [],
   "source": [
    "next(i)"
   ]
  },
  {
   "cell_type": "code",
   "execution_count": null,
   "id": "f5ce9069",
   "metadata": {},
   "outputs": [],
   "source": [
    "next(i)"
   ]
  },
  {
   "cell_type": "code",
   "execution_count": null,
   "id": "30b82d09",
   "metadata": {},
   "outputs": [],
   "source": [
    "t=(1,2,3,4)"
   ]
  },
  {
   "cell_type": "code",
   "execution_count": null,
   "id": "9e1e7c0c",
   "metadata": {},
   "outputs": [],
   "source": [
    "next(t)"
   ]
  },
  {
   "cell_type": "code",
   "execution_count": null,
   "id": "9f2c8c3e",
   "metadata": {},
   "outputs": [],
   "source": [
    "t=iter(t)"
   ]
  },
  {
   "cell_type": "code",
   "execution_count": null,
   "id": "6e9d17fa",
   "metadata": {},
   "outputs": [],
   "source": [
    "next(t)"
   ]
  },
  {
   "cell_type": "code",
   "execution_count": null,
   "id": "bd61585f",
   "metadata": {},
   "outputs": [],
   "source": [
    "next(t)"
   ]
  },
  {
   "cell_type": "code",
   "execution_count": null,
   "id": "f55d048d",
   "metadata": {},
   "outputs": [],
   "source": [
    "se={1,2,3}"
   ]
  },
  {
   "cell_type": "code",
   "execution_count": null,
   "id": "e44dcfee",
   "metadata": {},
   "outputs": [],
   "source": [
    "next(s)"
   ]
  },
  {
   "cell_type": "code",
   "execution_count": null,
   "id": "3b8c0a4b",
   "metadata": {},
   "outputs": [],
   "source": [
    "# Generators"
   ]
  },
  {
   "cell_type": "code",
   "execution_count": null,
   "id": "52b160b4",
   "metadata": {},
   "outputs": [],
   "source": [
    "def test6(n):\n",
    "    l=[]\n",
    "    for i in range(n):\n",
    "        if i==0:\n",
    "            pass\n",
    "        else:\n",
    "            l.append(i**3)\n",
    "    return l"
   ]
  },
  {
   "cell_type": "code",
   "execution_count": null,
   "id": "31968d14",
   "metadata": {},
   "outputs": [],
   "source": [
    "# o=test6(600000000)"
   ]
  },
  {
   "cell_type": "code",
   "execution_count": 27,
   "id": "17fa6a75",
   "metadata": {},
   "outputs": [],
   "source": [
    "# Generator"
   ]
  },
  {
   "cell_type": "code",
   "execution_count": 2,
   "id": "cdefd80e",
   "metadata": {},
   "outputs": [],
   "source": [
    "def test7(n):\n",
    "    for i in range(n):\n",
    "        yield i**3\n",
    "        "
   ]
  },
  {
   "cell_type": "code",
   "execution_count": 29,
   "id": "b8ff677a",
   "metadata": {},
   "outputs": [
    {
     "data": {
      "text/plain": [
       "<generator object test7 at 0x000001F0E6BE3970>"
      ]
     },
     "execution_count": 29,
     "metadata": {},
     "output_type": "execute_result"
    }
   ],
   "source": [
    "test7(50)"
   ]
  },
  {
   "cell_type": "code",
   "execution_count": 31,
   "id": "8e4af598",
   "metadata": {},
   "outputs": [
    {
     "data": {
      "text/plain": [
       "range(0, 1)"
      ]
     },
     "execution_count": 31,
     "metadata": {},
     "output_type": "execute_result"
    }
   ],
   "source": [
    "range(1)"
   ]
  },
  {
   "cell_type": "code",
   "execution_count": 32,
   "id": "cccd7231",
   "metadata": {},
   "outputs": [
    {
     "data": {
      "text/plain": [
       "[0, 1, 2, 3, 4, 5, 6, 7, 8, 9]"
      ]
     },
     "execution_count": 32,
     "metadata": {},
     "output_type": "execute_result"
    }
   ],
   "source": [
    "list(range(0,10\n",
    "          ))"
   ]
  },
  {
   "cell_type": "code",
   "execution_count": 34,
   "id": "ef0bffd3",
   "metadata": {},
   "outputs": [
    {
     "name": "stdout",
     "output_type": "stream",
     "text": [
      "0 1 2 3 4 5 6 7 8 9 "
     ]
    }
   ],
   "source": [
    "for i in range(0,10):\n",
    "    print(i,end=\" \")"
   ]
  },
  {
   "cell_type": "code",
   "execution_count": 3,
   "id": "6e40e00d",
   "metadata": {},
   "outputs": [
    {
     "name": "stdout",
     "output_type": "stream",
     "text": [
      "0\n",
      "1\n",
      "8\n",
      "27\n",
      "64\n",
      "125\n"
     ]
    }
   ],
   "source": [
    "for i in test7(6):# Keep sending us the data and wont wait for the process to end to give the whole output\n",
    "    print(i)"
   ]
  },
  {
   "cell_type": "code",
   "execution_count": 19,
   "id": "d73e2e75",
   "metadata": {},
   "outputs": [],
   "source": [
    "#Fibonacci Series\n",
    "def genfibonacci(n):\n",
    "    a=1\n",
    "    b=1\n",
    "    output =[0,a]\n",
    "    for i in range(n):\n",
    "        a,b=b,a+b\n",
    "        output.append(a)\n",
    "    return output"
   ]
  },
  {
   "cell_type": "code",
   "execution_count": 21,
   "id": "60d4310f",
   "metadata": {},
   "outputs": [
    {
     "data": {
      "text/plain": [
       "[0,\n",
       " 1,\n",
       " 1,\n",
       " 2,\n",
       " 3,\n",
       " 5,\n",
       " 8,\n",
       " 13,\n",
       " 21,\n",
       " 34,\n",
       " 55,\n",
       " 89,\n",
       " 144,\n",
       " 233,\n",
       " 377,\n",
       " 610,\n",
       " 987,\n",
       " 1597,\n",
       " 2584,\n",
       " 4181,\n",
       " 6765,\n",
       " 10946]"
      ]
     },
     "execution_count": 21,
     "metadata": {},
     "output_type": "execute_result"
    }
   ],
   "source": [
    "genfibonacci(20)"
   ]
  },
  {
   "cell_type": "code",
   "execution_count": 22,
   "id": "572a8b60",
   "metadata": {},
   "outputs": [],
   "source": [
    "def getfib(n):\n",
    "    a=1\n",
    "    b=1\n",
    "    for i in range(n):\n",
    "        yield a \n",
    "        a,b=b,a+b"
   ]
  },
  {
   "cell_type": "code",
   "execution_count": 23,
   "id": "58c80734",
   "metadata": {},
   "outputs": [
    {
     "data": {
      "text/plain": [
       "<generator object getfib at 0x0000016513B2E4A0>"
      ]
     },
     "execution_count": 23,
     "metadata": {},
     "output_type": "execute_result"
    }
   ],
   "source": [
    "getfib(8)"
   ]
  },
  {
   "cell_type": "code",
   "execution_count": 24,
   "id": "14518eed",
   "metadata": {},
   "outputs": [
    {
     "name": "stdout",
     "output_type": "stream",
     "text": [
      "1\n",
      "1\n",
      "2\n",
      "3\n",
      "5\n",
      "8\n",
      "13\n",
      "21\n",
      "34\n"
     ]
    }
   ],
   "source": [
    "for i in getfib(9):\n",
    "    print(i)"
   ]
  },
  {
   "cell_type": "code",
   "execution_count": 38,
   "id": "558a60af",
   "metadata": {},
   "outputs": [],
   "source": [
    "#### Text file  Writing and reading from a file"
   ]
  },
  {
   "cell_type": "code",
   "execution_count": 26,
   "id": "c12fb92c",
   "metadata": {},
   "outputs": [
    {
     "ename": "FileNotFoundError",
     "evalue": "[Errno 2] No such file or directory: 'test.txt'",
     "output_type": "error",
     "traceback": [
      "\u001b[1;31m---------------------------------------------------------------------------\u001b[0m",
      "\u001b[1;31mFileNotFoundError\u001b[0m                         Traceback (most recent call last)",
      "\u001b[1;32m<ipython-input-26-898b23d39077>\u001b[0m in \u001b[0;36m<module>\u001b[1;34m\u001b[0m\n\u001b[1;32m----> 1\u001b[1;33m \u001b[0mf\u001b[0m\u001b[1;33m=\u001b[0m\u001b[0mopen\u001b[0m\u001b[1;33m(\u001b[0m\u001b[1;34m\"test.txt\"\u001b[0m\u001b[1;33m)\u001b[0m\u001b[1;33m\u001b[0m\u001b[1;33m\u001b[0m\u001b[0m\n\u001b[0m",
      "\u001b[1;31mFileNotFoundError\u001b[0m: [Errno 2] No such file or directory: 'test.txt'"
     ]
    }
   ],
   "source": [
    "f=open(\"test.txt\")"
   ]
  },
  {
   "cell_type": "code",
   "execution_count": 34,
   "id": "b61ea9de",
   "metadata": {},
   "outputs": [],
   "source": [
    "f=open(\"test.txt\",\"w\")"
   ]
  },
  {
   "cell_type": "code",
   "execution_count": 35,
   "id": "212c04ad",
   "metadata": {},
   "outputs": [
    {
     "data": {
      "text/plain": [
       "<_io.TextIOWrapper name='test.txt' mode='w' encoding='cp1252'>"
      ]
     },
     "execution_count": 35,
     "metadata": {},
     "output_type": "execute_result"
    }
   ],
   "source": [
    "f"
   ]
  },
  {
   "cell_type": "code",
   "execution_count": 58,
   "id": "872014b5",
   "metadata": {},
   "outputs": [
    {
     "ename": "UnsupportedOperation",
     "evalue": "not writable",
     "output_type": "error",
     "traceback": [
      "\u001b[1;31m---------------------------------------------------------------------------\u001b[0m",
      "\u001b[1;31mUnsupportedOperation\u001b[0m                      Traceback (most recent call last)",
      "\u001b[1;32m<ipython-input-58-a1a401104a68>\u001b[0m in \u001b[0;36m<module>\u001b[1;34m\u001b[0m\n\u001b[1;32m----> 1\u001b[1;33m \u001b[0mf\u001b[0m\u001b[1;33m.\u001b[0m\u001b[0mwrite\u001b[0m\u001b[1;33m(\u001b[0m\u001b[1;34m\"Naman jain\"\u001b[0m\u001b[1;33m)\u001b[0m\u001b[1;33m\u001b[0m\u001b[1;33m\u001b[0m\u001b[0m\n\u001b[0m",
      "\u001b[1;31mUnsupportedOperation\u001b[0m: not writable"
     ]
    }
   ],
   "source": [
    "f.write(\"Naman jain\")"
   ]
  },
  {
   "cell_type": "code",
   "execution_count": 37,
   "id": "99964335",
   "metadata": {},
   "outputs": [],
   "source": [
    "f.close() # close to flush the data from the buffer into file"
   ]
  },
  {
   "cell_type": "code",
   "execution_count": 49,
   "id": "6c737abc",
   "metadata": {},
   "outputs": [],
   "source": [
    "f=open(\"test.txt\")"
   ]
  },
  {
   "cell_type": "code",
   "execution_count": 41,
   "id": "b3c9a234",
   "metadata": {},
   "outputs": [
    {
     "data": {
      "text/plain": [
       "'Naman jain'"
      ]
     },
     "execution_count": 41,
     "metadata": {},
     "output_type": "execute_result"
    }
   ],
   "source": [
    "f.read()"
   ]
  },
  {
   "cell_type": "code",
   "execution_count": 42,
   "id": "9e711fc3",
   "metadata": {},
   "outputs": [
    {
     "data": {
      "text/plain": [
       "\"\\ndkf ksd\\nsdjgnsg\\nsdgsnlgsrg\\ndsrharghoiasglasd]\\ngasgjoisahg\\na}sdg';ashighaSd\\ng]a;Sgnakjdbghad\\n]fhl\""
      ]
     },
     "execution_count": 42,
     "metadata": {},
     "output_type": "execute_result"
    }
   ],
   "source": [
    "f.read()"
   ]
  },
  {
   "cell_type": "code",
   "execution_count": 50,
   "id": "e5184fef",
   "metadata": {},
   "outputs": [
    {
     "name": "stdout",
     "output_type": "stream",
     "text": [
      "Naman jainHello\n",
      "dkf ksdHello\n",
      "sdjgnsgHello\n",
      "sdgsnlgsrgHello\n",
      "dsrharghoiasglasd]Hello\n",
      "gasgjoisahgHello\n",
      "a}sdg';ashighaSdHello\n",
      "g]a;SgnakjdbghadHello\n",
      "]fhl"
     ]
    }
   ],
   "source": [
    "for i in f.read():\n",
    "    if i==\"\\n\":\n",
    "        print(\"Hello\")\n",
    "    else:\n",
    "        print(i, end=\"\")"
   ]
  },
  {
   "cell_type": "code",
   "execution_count": 53,
   "id": "c088fd8e",
   "metadata": {},
   "outputs": [
    {
     "data": {
      "text/plain": [
       "10"
      ]
     },
     "execution_count": 53,
     "metadata": {},
     "output_type": "execute_result"
    }
   ],
   "source": [
    "f.seek(10) # setting and Resetting the cursor to the location we like it to be for data reading"
   ]
  },
  {
   "cell_type": "code",
   "execution_count": 54,
   "id": "700b2aa0",
   "metadata": {},
   "outputs": [
    {
     "data": {
      "text/plain": [
       "\"\\ndkf ksd\\nsdjgnsg\\nsdgsnlgsrg\\ndsrharghoiasglasd]\\ngasgjoisahg\\na}sdg';ashighaSd\\ng]a;Sgnakjdbghad\\n]fhl\""
      ]
     },
     "execution_count": 54,
     "metadata": {},
     "output_type": "execute_result"
    }
   ],
   "source": [
    "f.read()"
   ]
  },
  {
   "cell_type": "code",
   "execution_count": 55,
   "id": "8a3fb0a6",
   "metadata": {},
   "outputs": [
    {
     "data": {
      "text/plain": [
       "0"
      ]
     },
     "execution_count": 55,
     "metadata": {},
     "output_type": "execute_result"
    }
   ],
   "source": [
    "f.seek(0)"
   ]
  },
  {
   "cell_type": "code",
   "execution_count": 56,
   "id": "26fee370",
   "metadata": {},
   "outputs": [
    {
     "data": {
      "text/plain": [
       "\"Naman jain\\ndkf ksd\\nsdjgnsg\\nsdgsnlgsrg\\ndsrharghoiasglasd]\\ngasgjoisahg\\na}sdg';ashighaSd\\ng]a;Sgnakjdbghad\\n]fhl\""
      ]
     },
     "execution_count": 56,
     "metadata": {},
     "output_type": "execute_result"
    }
   ],
   "source": [
    "f.read()"
   ]
  },
  {
   "cell_type": "code",
   "execution_count": 59,
   "id": "91bb58e6",
   "metadata": {},
   "outputs": [
    {
     "ename": "UnsupportedOperation",
     "evalue": "not writable",
     "output_type": "error",
     "traceback": [
      "\u001b[1;31m---------------------------------------------------------------------------\u001b[0m",
      "\u001b[1;31mUnsupportedOperation\u001b[0m                      Traceback (most recent call last)",
      "\u001b[1;32m<ipython-input-59-05ae58e27ae4>\u001b[0m in \u001b[0;36m<module>\u001b[1;34m\u001b[0m\n\u001b[1;32m----> 1\u001b[1;33m \u001b[0mf\u001b[0m\u001b[1;33m.\u001b[0m\u001b[0mwrite\u001b[0m\u001b[1;33m(\u001b[0m\u001b[1;34m\"Hello\"\u001b[0m\u001b[1;33m)\u001b[0m\u001b[1;33m\u001b[0m\u001b[1;33m\u001b[0m\u001b[0m\n\u001b[0m",
      "\u001b[1;31mUnsupportedOperation\u001b[0m: not writable"
     ]
    }
   ],
   "source": [
    "f.write(\"Hello\")"
   ]
  },
  {
   "cell_type": "code",
   "execution_count": 60,
   "id": "efede7cc",
   "metadata": {},
   "outputs": [],
   "source": [
    "f.close()"
   ]
  },
  {
   "cell_type": "code",
   "execution_count": 61,
   "id": "8b089ae2",
   "metadata": {},
   "outputs": [],
   "source": [
    "f=open(\"test.txt\",\"a\")"
   ]
  },
  {
   "cell_type": "code",
   "execution_count": 62,
   "id": "0be8b5c3",
   "metadata": {},
   "outputs": [
    {
     "data": {
      "text/plain": [
       "5"
      ]
     },
     "execution_count": 62,
     "metadata": {},
     "output_type": "execute_result"
    }
   ],
   "source": [
    "f.write(\"Hello\")"
   ]
  },
  {
   "cell_type": "code",
   "execution_count": 63,
   "id": "91713115",
   "metadata": {},
   "outputs": [],
   "source": [
    "f.close()"
   ]
  },
  {
   "cell_type": "code",
   "execution_count": 64,
   "id": "076e1002",
   "metadata": {},
   "outputs": [],
   "source": [
    "f=open(\"test.txt\",\"r\") # Read mode"
   ]
  },
  {
   "cell_type": "code",
   "execution_count": 65,
   "id": "2cba8680",
   "metadata": {},
   "outputs": [
    {
     "data": {
      "text/plain": [
       "\"Naman jain\\ndkf ksd\\nsdjgnsg\\nsdgsnlgsrg\\ndsrharghoiasglasd]\\ngasgjoisahg\\na}sdg';ashighaSd\\ng]a;Sgnakjdbghad\\n]fhlHello\""
      ]
     },
     "execution_count": 65,
     "metadata": {},
     "output_type": "execute_result"
    }
   ],
   "source": [
    "f.read()"
   ]
  },
  {
   "cell_type": "code",
   "execution_count": 66,
   "id": "816eb98a",
   "metadata": {},
   "outputs": [
    {
     "data": {
      "text/plain": [
       "20"
      ]
     },
     "execution_count": 66,
     "metadata": {},
     "output_type": "execute_result"
    }
   ],
   "source": [
    "f.seek(20)"
   ]
  },
  {
   "cell_type": "code",
   "execution_count": 67,
   "id": "ee66c979",
   "metadata": {},
   "outputs": [
    {
     "data": {
      "text/plain": [
       "\"djgnsg\\nsdgsnlgsrg\\ndsrharghoiasglasd]\\ngasgjoisahg\\na}sdg';ashighaSd\\ng]a;Sgnakjdbghad\\n]fhlHello\""
      ]
     },
     "execution_count": 67,
     "metadata": {},
     "output_type": "execute_result"
    }
   ],
   "source": [
    "f.read()"
   ]
  },
  {
   "cell_type": "code",
   "execution_count": 69,
   "id": "16d6629f",
   "metadata": {},
   "outputs": [
    {
     "data": {
      "text/plain": [
       "0"
      ]
     },
     "execution_count": 69,
     "metadata": {},
     "output_type": "execute_result"
    }
   ],
   "source": [
    "f.seek(0)"
   ]
  },
  {
   "cell_type": "code",
   "execution_count": 70,
   "id": "ecac00e7",
   "metadata": {},
   "outputs": [
    {
     "data": {
      "text/plain": [
       "'Naman jain'"
      ]
     },
     "execution_count": 70,
     "metadata": {},
     "output_type": "execute_result"
    }
   ],
   "source": [
    "f.read(10)"
   ]
  },
  {
   "cell_type": "code",
   "execution_count": 71,
   "id": "91b35bc5",
   "metadata": {},
   "outputs": [],
   "source": [
    "f.close()"
   ]
  },
  {
   "cell_type": "code",
   "execution_count": 72,
   "id": "3741c03d",
   "metadata": {},
   "outputs": [
    {
     "data": {
      "text/plain": [
       "<_io.TextIOWrapper name='test.txt' mode='r' encoding='cp1252'>"
      ]
     },
     "execution_count": 72,
     "metadata": {},
     "output_type": "execute_result"
    }
   ],
   "source": [
    "f"
   ]
  },
  {
   "cell_type": "code",
   "execution_count": 73,
   "id": "08019bc4",
   "metadata": {},
   "outputs": [
    {
     "ename": "ValueError",
     "evalue": "I/O operation on closed file.",
     "output_type": "error",
     "traceback": [
      "\u001b[1;31m---------------------------------------------------------------------------\u001b[0m",
      "\u001b[1;31mValueError\u001b[0m                                Traceback (most recent call last)",
      "\u001b[1;32m<ipython-input-73-571e9fb02258>\u001b[0m in \u001b[0;36m<module>\u001b[1;34m\u001b[0m\n\u001b[1;32m----> 1\u001b[1;33m \u001b[0mf\u001b[0m\u001b[1;33m.\u001b[0m\u001b[0mread\u001b[0m\u001b[1;33m(\u001b[0m\u001b[1;33m)\u001b[0m\u001b[1;33m\u001b[0m\u001b[1;33m\u001b[0m\u001b[0m\n\u001b[0m",
      "\u001b[1;31mValueError\u001b[0m: I/O operation on closed file."
     ]
    }
   ],
   "source": [
    "f.read()"
   ]
  },
  {
   "cell_type": "code",
   "execution_count": 74,
   "id": "4f7cda3a",
   "metadata": {},
   "outputs": [],
   "source": [
    "f=open(\"test.txt\",\"w\")"
   ]
  },
  {
   "cell_type": "code",
   "execution_count": 75,
   "id": "8fe34a91",
   "metadata": {},
   "outputs": [
    {
     "data": {
      "text/plain": [
       "94"
      ]
     },
     "execution_count": 75,
     "metadata": {},
     "output_type": "execute_result"
    }
   ],
   "source": [
    "f.write(\"Hello I hope you had a good day \\n best of luck for your career, Hope that i will see you again\")"
   ]
  },
  {
   "cell_type": "code",
   "execution_count": 76,
   "id": "9a324922",
   "metadata": {},
   "outputs": [],
   "source": [
    "f.close()"
   ]
  },
  {
   "cell_type": "code",
   "execution_count": 77,
   "id": "881e740e",
   "metadata": {},
   "outputs": [],
   "source": [
    "f=open(\"test.txt\",\"a\")"
   ]
  },
  {
   "cell_type": "code",
   "execution_count": 78,
   "id": "5d12d215",
   "metadata": {},
   "outputs": [
    {
     "data": {
      "text/plain": [
       "58"
      ]
     },
     "execution_count": 78,
     "metadata": {},
     "output_type": "execute_result"
    }
   ],
   "source": [
    "f.write(\" The day i met you from that day i have been a good person\")"
   ]
  },
  {
   "cell_type": "code",
   "execution_count": 79,
   "id": "7549730e",
   "metadata": {},
   "outputs": [],
   "source": [
    "f.close()"
   ]
  },
  {
   "cell_type": "code",
   "execution_count": 80,
   "id": "c02e2b06",
   "metadata": {},
   "outputs": [],
   "source": [
    "f=open(\"text1.txt\",\"wb\") # opening a file in a binary format"
   ]
  },
  {
   "cell_type": "code",
   "execution_count": 83,
   "id": "d11fa5d0",
   "metadata": {},
   "outputs": [
    {
     "ename": "ValueError",
     "evalue": "write to closed file",
     "output_type": "error",
     "traceback": [
      "\u001b[1;31m---------------------------------------------------------------------------\u001b[0m",
      "\u001b[1;31mValueError\u001b[0m                                Traceback (most recent call last)",
      "\u001b[1;32m<ipython-input-83-7c83448b06b0>\u001b[0m in \u001b[0;36m<module>\u001b[1;34m\u001b[0m\n\u001b[1;32m----> 1\u001b[1;33m \u001b[0mf\u001b[0m\u001b[1;33m.\u001b[0m\u001b[0mwrite\u001b[0m\u001b[1;33m(\u001b[0m\u001b[1;34mb\"fnlksaelkfakdgnlaksndglkansdlgknalsdkgnl\"\u001b[0m\u001b[1;33m)\u001b[0m \u001b[1;31m# b is the notation of binary\u001b[0m\u001b[1;33m\u001b[0m\u001b[1;33m\u001b[0m\u001b[0m\n\u001b[0m",
      "\u001b[1;31mValueError\u001b[0m: write to closed file"
     ]
    }
   ],
   "source": [
    "f.write(b\"fnlksaelkfakdgnlaksndglkansdlgknalsdkgnl\") # b is the notation of binary "
   ]
  },
  {
   "cell_type": "code",
   "execution_count": 84,
   "id": "a509479b",
   "metadata": {},
   "outputs": [],
   "source": [
    "f.close()"
   ]
  },
  {
   "cell_type": "code",
   "execution_count": 94,
   "id": "4453fd9f",
   "metadata": {},
   "outputs": [],
   "source": [
    "f=open(\"text1.txt\",\"rb\")"
   ]
  },
  {
   "cell_type": "code",
   "execution_count": 86,
   "id": "41aeb700",
   "metadata": {},
   "outputs": [
    {
     "data": {
      "text/plain": [
       "'fnlksaelkfakdgnlaksndglkansdlgknalsdkgnl'"
      ]
     },
     "execution_count": 86,
     "metadata": {},
     "output_type": "execute_result"
    }
   ],
   "source": [
    "f.read()"
   ]
  },
  {
   "cell_type": "code",
   "execution_count": 87,
   "id": "c15875c4",
   "metadata": {},
   "outputs": [
    {
     "data": {
      "text/plain": [
       "4"
      ]
     },
     "execution_count": 87,
     "metadata": {},
     "output_type": "execute_result"
    }
   ],
   "source": [
    "f.seek(4)"
   ]
  },
  {
   "cell_type": "code",
   "execution_count": 88,
   "id": "c15bb2be",
   "metadata": {},
   "outputs": [
    {
     "data": {
      "text/plain": [
       "'saelkfakdgnlaksndglkansdlgknalsdkgnl'"
      ]
     },
     "execution_count": 88,
     "metadata": {},
     "output_type": "execute_result"
    }
   ],
   "source": [
    "f.read()"
   ]
  },
  {
   "cell_type": "code",
   "execution_count": 90,
   "id": "557d9d90",
   "metadata": {},
   "outputs": [
    {
     "data": {
      "text/plain": [
       "9"
      ]
     },
     "execution_count": 90,
     "metadata": {},
     "output_type": "execute_result"
    }
   ],
   "source": [
    "f.seek(9)"
   ]
  },
  {
   "cell_type": "code",
   "execution_count": 91,
   "id": "ee5c8623",
   "metadata": {},
   "outputs": [
    {
     "data": {
      "text/plain": [
       "'fak'"
      ]
     },
     "execution_count": 91,
     "metadata": {},
     "output_type": "execute_result"
    }
   ],
   "source": [
    "f.read(3)"
   ]
  },
  {
   "cell_type": "code",
   "execution_count": 92,
   "id": "829cd6e7",
   "metadata": {},
   "outputs": [
    {
     "ename": "ValueError",
     "evalue": "invalid whence (3, should be 0, 1 or 2)",
     "output_type": "error",
     "traceback": [
      "\u001b[1;31m---------------------------------------------------------------------------\u001b[0m",
      "\u001b[1;31mValueError\u001b[0m                                Traceback (most recent call last)",
      "\u001b[1;32m<ipython-input-92-75bb807b205a>\u001b[0m in \u001b[0;36m<module>\u001b[1;34m\u001b[0m\n\u001b[1;32m----> 1\u001b[1;33m \u001b[0mf\u001b[0m\u001b[1;33m.\u001b[0m\u001b[0mseek\u001b[0m\u001b[1;33m(\u001b[0m\u001b[1;33m-\u001b[0m\u001b[1;36m2\u001b[0m\u001b[1;33m,\u001b[0m\u001b[1;36m3\u001b[0m\u001b[1;33m)\u001b[0m\u001b[1;33m\u001b[0m\u001b[1;33m\u001b[0m\u001b[0m\n\u001b[0m",
      "\u001b[1;31mValueError\u001b[0m: invalid whence (3, should be 0, 1 or 2)"
     ]
    }
   ],
   "source": [
    "f.seek(-2,3)"
   ]
  },
  {
   "cell_type": "code",
   "execution_count": 95,
   "id": "66af2748",
   "metadata": {},
   "outputs": [
    {
     "data": {
      "text/plain": [
       "37"
      ]
     },
     "execution_count": 95,
     "metadata": {},
     "output_type": "execute_result"
    }
   ],
   "source": [
    "f.seek(-3,2)"
   ]
  },
  {
   "cell_type": "code",
   "execution_count": 96,
   "id": "7e1e46e8",
   "metadata": {},
   "outputs": [
    {
     "data": {
      "text/plain": [
       "b'gnl'"
      ]
     },
     "execution_count": 96,
     "metadata": {},
     "output_type": "execute_result"
    }
   ],
   "source": [
    "f.read()"
   ]
  },
  {
   "cell_type": "code",
   "execution_count": 97,
   "id": "6b550d23",
   "metadata": {},
   "outputs": [
    {
     "ename": "ValueError",
     "evalue": "whence value 4 unsupported",
     "output_type": "error",
     "traceback": [
      "\u001b[1;31m---------------------------------------------------------------------------\u001b[0m",
      "\u001b[1;31mValueError\u001b[0m                                Traceback (most recent call last)",
      "\u001b[1;32m<ipython-input-97-ac7b6966b9ce>\u001b[0m in \u001b[0;36m<module>\u001b[1;34m\u001b[0m\n\u001b[1;32m----> 1\u001b[1;33m \u001b[0mf\u001b[0m\u001b[1;33m.\u001b[0m\u001b[0mseek\u001b[0m\u001b[1;33m(\u001b[0m\u001b[1;33m-\u001b[0m\u001b[1;36m3\u001b[0m\u001b[1;33m,\u001b[0m\u001b[1;36m4\u001b[0m\u001b[1;33m)\u001b[0m\u001b[1;33m\u001b[0m\u001b[1;33m\u001b[0m\u001b[0m\n\u001b[0m",
      "\u001b[1;31mValueError\u001b[0m: whence value 4 unsupported"
     ]
    }
   ],
   "source": [
    "f.seek(-3,4)"
   ]
  },
  {
   "cell_type": "code",
   "execution_count": 98,
   "id": "fca55ece",
   "metadata": {},
   "outputs": [
    {
     "data": {
      "text/plain": [
       "37"
      ]
     },
     "execution_count": 98,
     "metadata": {},
     "output_type": "execute_result"
    }
   ],
   "source": [
    "f.seek(-3,1)"
   ]
  },
  {
   "cell_type": "code",
   "execution_count": 100,
   "id": "9efffdc8",
   "metadata": {},
   "outputs": [
    {
     "data": {
      "text/plain": [
       "36"
      ]
     },
     "execution_count": 100,
     "metadata": {},
     "output_type": "execute_result"
    }
   ],
   "source": [
    "f.seek(-4,2)"
   ]
  },
  {
   "cell_type": "code",
   "execution_count": 101,
   "id": "01081d64",
   "metadata": {},
   "outputs": [
    {
     "data": {
      "text/plain": [
       "b'kgnl'"
      ]
     },
     "execution_count": 101,
     "metadata": {},
     "output_type": "execute_result"
    }
   ],
   "source": [
    "f.read()"
   ]
  },
  {
   "cell_type": "code",
   "execution_count": 102,
   "id": "9ef70cce",
   "metadata": {},
   "outputs": [],
   "source": [
    "f.close()"
   ]
  },
  {
   "cell_type": "code",
   "execution_count": 103,
   "id": "aea09ae5",
   "metadata": {},
   "outputs": [],
   "source": [
    "f=open(\"test2.txt\",\"w\")"
   ]
  },
  {
   "cell_type": "code",
   "execution_count": 104,
   "id": "f3e5473f",
   "metadata": {},
   "outputs": [
    {
     "data": {
      "text/plain": [
       "35"
      ]
     },
     "execution_count": 104,
     "metadata": {},
     "output_type": "execute_result"
    }
   ],
   "source": [
    "f.write(\"ksghan kegalbga lkanrlgkna kanegnla\")"
   ]
  },
  {
   "cell_type": "code",
   "execution_count": 105,
   "id": "b0b20fcb",
   "metadata": {},
   "outputs": [],
   "source": [
    "f.close()"
   ]
  },
  {
   "cell_type": "code",
   "execution_count": 106,
   "id": "9ee8bd3d",
   "metadata": {},
   "outputs": [],
   "source": [
    "f=open(\"test2.txt\",\"r\")\n"
   ]
  },
  {
   "cell_type": "code",
   "execution_count": 107,
   "id": "770d2ba9",
   "metadata": {},
   "outputs": [
    {
     "data": {
      "text/plain": [
       "'ksghan kegalbga lkanrlgkna kanegnla'"
      ]
     },
     "execution_count": 107,
     "metadata": {},
     "output_type": "execute_result"
    }
   ],
   "source": [
    "f.read()"
   ]
  },
  {
   "cell_type": "code",
   "execution_count": 108,
   "id": "5d3e4e2a",
   "metadata": {},
   "outputs": [
    {
     "data": {
      "text/plain": [
       "0"
      ]
     },
     "execution_count": 108,
     "metadata": {},
     "output_type": "execute_result"
    }
   ],
   "source": [
    "f.seek(0)"
   ]
  },
  {
   "cell_type": "code",
   "execution_count": 109,
   "id": "1e6a0718",
   "metadata": {},
   "outputs": [
    {
     "data": {
      "text/plain": [
       "'ksghan kegalbga lkanrlgkna kanegnla\\n'"
      ]
     },
     "execution_count": 109,
     "metadata": {},
     "output_type": "execute_result"
    }
   ],
   "source": [
    "f.readline()"
   ]
  },
  {
   "cell_type": "code",
   "execution_count": 110,
   "id": "c78cacef",
   "metadata": {},
   "outputs": [
    {
     "data": {
      "text/plain": [
       "'nleskgb\\n'"
      ]
     },
     "execution_count": 110,
     "metadata": {},
     "output_type": "execute_result"
    }
   ],
   "source": [
    "f.readline()"
   ]
  },
  {
   "cell_type": "code",
   "execution_count": 111,
   "id": "86c1be10",
   "metadata": {},
   "outputs": [
    {
     "data": {
      "text/plain": [
       "'mskledgn\\n'"
      ]
     },
     "execution_count": 111,
     "metadata": {},
     "output_type": "execute_result"
    }
   ],
   "source": [
    "f.readline()"
   ]
  },
  {
   "cell_type": "code",
   "execution_count": 112,
   "id": "14696b39",
   "metadata": {},
   "outputs": [
    {
     "name": "stdout",
     "output_type": "stream",
     "text": [
      "mkdgn\n",
      "\n"
     ]
    }
   ],
   "source": [
    "print(\"{}\".format(f.readline()))"
   ]
  },
  {
   "cell_type": "code",
   "execution_count": 113,
   "id": "f7597b75",
   "metadata": {},
   "outputs": [
    {
     "data": {
      "text/plain": [
       "0"
      ]
     },
     "execution_count": 113,
     "metadata": {},
     "output_type": "execute_result"
    }
   ],
   "source": [
    "f.seek(0)"
   ]
  },
  {
   "cell_type": "code",
   "execution_count": 115,
   "id": "14824a71",
   "metadata": {},
   "outputs": [
    {
     "name": "stdout",
     "output_type": "stream",
     "text": [
      "ksghan kegalbga lkanrlgkna kanegnla\n",
      "nleskgb\n",
      "mskledgn\n",
      "mkdgn\n",
      "\n"
     ]
    }
   ],
   "source": [
    "print(\"{}\".format(f.read()))"
   ]
  },
  {
   "cell_type": "code",
   "execution_count": 116,
   "id": "be745763",
   "metadata": {},
   "outputs": [
    {
     "data": {
      "text/plain": [
       "0"
      ]
     },
     "execution_count": 116,
     "metadata": {},
     "output_type": "execute_result"
    }
   ],
   "source": [
    "f.seek(0)"
   ]
  },
  {
   "cell_type": "code",
   "execution_count": 119,
   "id": "6efee64d",
   "metadata": {},
   "outputs": [
    {
     "data": {
      "text/plain": [
       "'ga lkanrlg'"
      ]
     },
     "execution_count": 119,
     "metadata": {},
     "output_type": "execute_result"
    }
   ],
   "source": [
    "f.readline(10)"
   ]
  },
  {
   "cell_type": "code",
   "execution_count": 120,
   "id": "02f5d3de",
   "metadata": {},
   "outputs": [],
   "source": [
    "f.close()"
   ]
  },
  {
   "cell_type": "code",
   "execution_count": 150,
   "id": "94ce9b30",
   "metadata": {},
   "outputs": [],
   "source": [
    "f=open(\"test2.txt\",\"w\")"
   ]
  },
  {
   "cell_type": "code",
   "execution_count": 134,
   "id": "007493d6",
   "metadata": {},
   "outputs": [
    {
     "name": "stdout",
     "output_type": "stream",
     "text": [
      "ksghan kegalbga lkanrlgkna kanegnla\n",
      "@nleskgb\n",
      "@mskledgn\n",
      "@mkdgn\n",
      "@"
     ]
    }
   ],
   "source": [
    "for i in f:\n",
    "    print(i,end=\"@\")"
   ]
  },
  {
   "cell_type": "code",
   "execution_count": 135,
   "id": "5f0cfe11",
   "metadata": {},
   "outputs": [],
   "source": [
    "f.close()"
   ]
  },
  {
   "cell_type": "code",
   "execution_count": 146,
   "id": "5e288b8f",
   "metadata": {},
   "outputs": [],
   "source": [
    "f=open(\"test2.txt\",\"r\")"
   ]
  },
  {
   "cell_type": "code",
   "execution_count": 147,
   "id": "a184f2d7",
   "metadata": {},
   "outputs": [],
   "source": [
    "l=list(f)"
   ]
  },
  {
   "cell_type": "code",
   "execution_count": 148,
   "id": "0cf61f1d",
   "metadata": {},
   "outputs": [
    {
     "data": {
      "text/plain": [
       "['ksghan kegalbga lkanrlgkna kanegnla\\n', 'nleskgb\\n', 'mskledgn\\n', 'mkdgn\\n']"
      ]
     },
     "execution_count": 148,
     "metadata": {},
     "output_type": "execute_result"
    }
   ],
   "source": [
    "l"
   ]
  },
  {
   "cell_type": "code",
   "execution_count": 151,
   "id": "ddc8b1b0",
   "metadata": {},
   "outputs": [
    {
     "data": {
      "text/plain": [
       "8"
      ]
     },
     "execution_count": 151,
     "metadata": {},
     "output_type": "execute_result"
    }
   ],
   "source": [
    "f.write(\"fkfblekf\")"
   ]
  },
  {
   "cell_type": "code",
   "execution_count": 152,
   "id": "8f57de59",
   "metadata": {},
   "outputs": [],
   "source": [
    "f.close()"
   ]
  },
  {
   "cell_type": "code",
   "execution_count": 154,
   "id": "ddd11ba7",
   "metadata": {},
   "outputs": [],
   "source": [
    "f=open(\"test2.txt\",\"r+\")"
   ]
  },
  {
   "cell_type": "code",
   "execution_count": 156,
   "id": "9304b153",
   "metadata": {},
   "outputs": [],
   "source": [
    "f.writelines(\"hello\")"
   ]
  },
  {
   "cell_type": "code",
   "execution_count": 157,
   "id": "67e0de5c",
   "metadata": {},
   "outputs": [],
   "source": [
    "f.close()"
   ]
  },
  {
   "cell_type": "code",
   "execution_count": 158,
   "id": "7492d157",
   "metadata": {},
   "outputs": [],
   "source": [
    "f=open(\"test2.txt\",\"r+\")"
   ]
  },
  {
   "cell_type": "code",
   "execution_count": 160,
   "id": "3d787906",
   "metadata": {},
   "outputs": [
    {
     "data": {
      "text/plain": [
       "20"
      ]
     },
     "execution_count": 160,
     "metadata": {},
     "output_type": "execute_result"
    }
   ],
   "source": [
    "f.seek(20)"
   ]
  },
  {
   "cell_type": "code",
   "execution_count": 161,
   "id": "1209828f",
   "metadata": {},
   "outputs": [],
   "source": [
    "f.writelines(\"sejbfkjBf\")"
   ]
  },
  {
   "cell_type": "code",
   "execution_count": 162,
   "id": "b7439b01",
   "metadata": {},
   "outputs": [],
   "source": [
    "f.close()"
   ]
  },
  {
   "cell_type": "code",
   "execution_count": 163,
   "id": "f468f126",
   "metadata": {},
   "outputs": [],
   "source": [
    "f=open(\"test2.txt\",\"r+\")"
   ]
  },
  {
   "cell_type": "code",
   "execution_count": 165,
   "id": "a1ca45de",
   "metadata": {},
   "outputs": [
    {
     "data": {
      "text/plain": [
       "6"
      ]
     },
     "execution_count": 165,
     "metadata": {},
     "output_type": "execute_result"
    }
   ],
   "source": [
    "f.fileno()"
   ]
  },
  {
   "cell_type": "code",
   "execution_count": null,
   "id": "69c0a1a1",
   "metadata": {},
   "outputs": [],
   "source": []
  },
  {
   "cell_type": "code",
   "execution_count": null,
   "id": "dd0311dc",
   "metadata": {},
   "outputs": [],
   "source": []
  }
 ],
 "metadata": {
  "kernelspec": {
   "display_name": "Python 3",
   "language": "python",
   "name": "python3"
  },
  "language_info": {
   "codemirror_mode": {
    "name": "ipython",
    "version": 3
   },
   "file_extension": ".py",
   "mimetype": "text/x-python",
   "name": "python",
   "nbconvert_exporter": "python",
   "pygments_lexer": "ipython3",
   "version": "3.8.8"
  }
 },
 "nbformat": 4,
 "nbformat_minor": 5
}
